{
 "cells": [
  {
   "cell_type": "markdown",
   "id": "3d7979ac",
   "metadata": {
    "papermill": {
     "duration": 0.022194,
     "end_time": "2024-05-03T19:16:32.590144",
     "exception": false,
     "start_time": "2024-05-03T19:16:32.567950",
     "status": "completed"
    },
    "tags": []
   },
   "source": [
    "<div style=\"background-color:#4E79A7; padding: 20px; border-radius: 15px;\">\n",
    "    <h1 style=\"color:#FF7F0E; font-family: 'Roboto', sans-serif; font-size: 36px; font-weight: bold; text-align: center;\">Data Cleaning Notebook for Credit Score Dataset</h1>\n",
    "</div>"
   ]
  },
  {
   "cell_type": "code",
   "execution_count": 1,
   "id": "9b694c97",
   "metadata": {
    "ExecuteTime": {
     "end_time": "2024-05-01T08:50:37.538545Z",
     "start_time": "2024-05-01T08:50:37.525185Z"
    },
    "execution": {
     "iopub.execute_input": "2024-05-03T19:16:32.633536Z",
     "iopub.status.busy": "2024-05-03T19:16:32.633247Z",
     "iopub.status.idle": "2024-05-03T19:16:34.754601Z",
     "shell.execute_reply": "2024-05-03T19:16:34.753780Z"
    },
    "papermill": {
     "duration": 2.145435,
     "end_time": "2024-05-03T19:16:34.756792",
     "exception": false,
     "start_time": "2024-05-03T19:16:32.611357",
     "status": "completed"
    },
    "tags": []
   },
   "outputs": [],
   "source": [
    "import numpy as np \n",
    "import pandas as pd \n",
    "\n",
    "import matplotlib.pyplot as plt\n",
    "import seaborn as sns\n",
    "\n",
    "import re  # library for regex\n",
    "\n",
    "import warnings    # Applies a warning filter to not show warning messages.\n",
    "warnings.filterwarnings(\"ignore\")  # This prevents warning messages from appearing when you run the code.\n",
    "warnings.warn(\"this will not show\") \n",
    "\n",
    "plt.rcParams[\"figure.figsize\"] = (10,6)\n",
    "# Sets the plot dimensions (figure size) in the Matplotlib library.\n",
    "# Here (10,6) specifies a frame size of 10 units in width and 6 units in height.\n",
    "\n",
    "sns.set_style(\"whitegrid\")\n",
    "# Sets the grid view in the Seaborn library to a white background.\n",
    "\n",
    "pd.set_option('display.float_format', lambda x: '%.3f' % x)\n",
    "# sets the float format in the pandas library.\n",
    "# Here, the display format of decimal numbers is set using the lambda function.\n",
    "\n",
    "pd.set_option('display.max_rows', None)\n",
    "# sets the display.max_rows option to None if you do not want all rows in the data frames to be displayed.\n",
    "\n",
    "pd.set_option('display.max_columns', None)\n",
    "# sets the display.max_columns option to None if you do not want all columns in the data frames to be displayed.\n",
    "\n"
   ]
  },
  {
   "cell_type": "code",
   "execution_count": 2,
   "id": "04031e5f",
   "metadata": {
    "ExecuteTime": {
     "end_time": "2024-05-01T08:50:43.697135Z",
     "start_time": "2024-05-01T08:50:41.578313Z"
    },
    "execution": {
     "iopub.execute_input": "2024-05-03T19:16:34.804080Z",
     "iopub.status.busy": "2024-05-03T19:16:34.803313Z",
     "iopub.status.idle": "2024-05-03T19:16:36.227245Z",
     "shell.execute_reply": "2024-05-03T19:16:36.226322Z"
    },
    "papermill": {
     "duration": 1.449894,
     "end_time": "2024-05-03T19:16:36.229341",
     "exception": false,
     "start_time": "2024-05-03T19:16:34.779447",
     "status": "completed"
    },
    "tags": []
   },
   "outputs": [],
   "source": [
    "train_data= pd.read_csv(\"/kaggle/input/credit-score-classification/train.csv\")\n",
    "test_data = pd.read_csv (\"/kaggle/input/credit-score-classification/test.csv\")"
   ]
  },
  {
   "cell_type": "code",
   "execution_count": 3,
   "id": "6328d960",
   "metadata": {
    "ExecuteTime": {
     "end_time": "2024-04-26T15:17:46.452860Z",
     "start_time": "2024-04-26T15:17:46.441982Z"
    },
    "execution": {
     "iopub.execute_input": "2024-05-03T19:16:36.275611Z",
     "iopub.status.busy": "2024-05-03T19:16:36.275253Z",
     "iopub.status.idle": "2024-05-03T19:16:36.279596Z",
     "shell.execute_reply": "2024-05-03T19:16:36.278885Z"
    },
    "papermill": {
     "duration": 0.029579,
     "end_time": "2024-05-03T19:16:36.281367",
     "exception": false,
     "start_time": "2024-05-03T19:16:36.251788",
     "status": "completed"
    },
    "tags": []
   },
   "outputs": [
    {
     "name": "stdout",
     "output_type": "stream",
     "text": [
      "(100000, 28)\n",
      "(50000, 27)\n"
     ]
    }
   ],
   "source": [
    "print(train_data.shape)\n",
    "print(test_data.shape)"
   ]
  },
  {
   "cell_type": "markdown",
   "id": "32589381",
   "metadata": {
    "papermill": {
     "duration": 0.021215,
     "end_time": "2024-05-03T19:16:36.324344",
     "exception": false,
     "start_time": "2024-05-03T19:16:36.303129",
     "status": "completed"
    },
    "tags": []
   },
   "source": [
    "# ***Dataset info***<br><br>\n",
    "- ***ID:*** Unique identifier for each entry in the dataset.<br>\n",
    "\n",
    "- ***Customer_ID:*** Identifier for each customer.<br>\n",
    "\n",
    "- ***Month:*** Month of data collection.<br>\n",
    "\n",
    "- ***Name:*** Name of the customer.<br>\n",
    "\n",
    "- ***Age:*** Age of the customer.<br>\n",
    "\n",
    "- ***SSN:*** Social Security Number of the customer.<br>\n",
    "\n",
    "- ***Occupation:*** Occupation of the customer.<br>\n",
    "\n",
    "- ***Annual_Income:*** Annual income of the customer.<br>\n",
    "\n",
    "- ***Monthly_Inhand_Salary:*** Monthly salary after deductions.<br>\n",
    "\n",
    "- ***Num_Bank_Accounts:*** Number of bank accounts the customer has.<br>\n",
    "\n",
    "- ***Num_Credit_Card:*** Number of credit cards the customer has.<br>\n",
    "\n",
    "- ***Interest_Rate:*** Interest rate applied on loans.<br>\n",
    "\n",
    "- ***Num_of_Loan:*** Number of loans the customer has.<br>\n",
    "\n",
    "- ***Type_of_Loan:*** Type of loan taken by the customer.<br>\n",
    "\n",
    "- ***Delay_from_due_date:*** Number of days delayed from due date for payments.<br>\n",
    "\n",
    "- ***Num_of_Delayed_Payment:*** Number of delayed payments made by the customer.<br>\n",
    "\n",
    "- ***Changed_Credit_Limit:*** Indicates if the credit limit has been changed.<br>\n",
    "\n",
    "- ***Num_Credit_Inquiries:*** Number of credit inquiries made by the customer.<br>\n",
    "\n",
    "- ***Credit_Mix:*** Mix of different types of credit accounts held by the customer.<br>\n",
    "\n",
    "- ***Outstanding_Debt:*** Amount of outstanding debt.<br>\n",
    "\n",
    "- ***Credit_Utilization_Ratio:*** Ratio of credit used to credit available.<br>\n",
    "\n",
    "- ***Credit_History_Age:*** Age of credit history.<br>\n",
    "\n",
    "- ***Payment_of_Min_Amount:*** Indicates if minimum payment amount is met.<br>\n",
    "\n",
    "- ***Total_EMI_per_month:*** Total Equated Monthly Installment (EMI) paid by the customer.<br>\n",
    "\n",
    "- ***Amount_invested_monthly:*** Amount invested monthly by the customer.<br>\n",
    "\n",
    "- ***Payment_Behaviour:*** Payment behavior of the customer.<br>\n",
    "\n",
    "- ***Monthly_Balance:*** Monthly balance in the account.<br>\n",
    "\n",
    "- ***Credit_Score:*** Target variable - credit score of the customer.<br>\n",
    "\n"
   ]
  },
  {
   "cell_type": "markdown",
   "id": "dc895ced",
   "metadata": {
    "papermill": {
     "duration": 0.020981,
     "end_time": "2024-05-03T19:16:36.392327",
     "exception": false,
     "start_time": "2024-05-03T19:16:36.371346",
     "status": "completed"
    },
    "tags": []
   },
   "source": [
    "### Defination of df "
   ]
  },
  {
   "cell_type": "code",
   "execution_count": 4,
   "id": "40e7a526",
   "metadata": {
    "ExecuteTime": {
     "end_time": "2024-04-26T15:17:52.428027Z",
     "start_time": "2024-04-26T15:17:52.322523Z"
    },
    "execution": {
     "iopub.execute_input": "2024-05-03T19:16:36.435637Z",
     "iopub.status.busy": "2024-05-03T19:16:36.435284Z",
     "iopub.status.idle": "2024-05-03T19:16:36.467933Z",
     "shell.execute_reply": "2024-05-03T19:16:36.467299Z"
    },
    "papermill": {
     "duration": 0.056842,
     "end_time": "2024-05-03T19:16:36.469650",
     "exception": false,
     "start_time": "2024-05-03T19:16:36.412808",
     "status": "completed"
    },
    "tags": []
   },
   "outputs": [
    {
     "data": {
      "text/html": [
       "<div>\n",
       "<style scoped>\n",
       "    .dataframe tbody tr th:only-of-type {\n",
       "        vertical-align: middle;\n",
       "    }\n",
       "\n",
       "    .dataframe tbody tr th {\n",
       "        vertical-align: top;\n",
       "    }\n",
       "\n",
       "    .dataframe thead th {\n",
       "        text-align: right;\n",
       "    }\n",
       "</style>\n",
       "<table border=\"1\" class=\"dataframe\">\n",
       "  <thead>\n",
       "    <tr style=\"text-align: right;\">\n",
       "      <th></th>\n",
       "      <th>ID</th>\n",
       "      <th>Customer_ID</th>\n",
       "      <th>Month</th>\n",
       "      <th>Name</th>\n",
       "      <th>Age</th>\n",
       "      <th>SSN</th>\n",
       "      <th>Occupation</th>\n",
       "      <th>Annual_Income</th>\n",
       "      <th>Monthly_Inhand_Salary</th>\n",
       "      <th>Num_Bank_Accounts</th>\n",
       "      <th>Num_Credit_Card</th>\n",
       "      <th>Interest_Rate</th>\n",
       "      <th>Num_of_Loan</th>\n",
       "      <th>Type_of_Loan</th>\n",
       "      <th>Delay_from_due_date</th>\n",
       "      <th>Num_of_Delayed_Payment</th>\n",
       "      <th>Changed_Credit_Limit</th>\n",
       "      <th>Num_Credit_Inquiries</th>\n",
       "      <th>Credit_Mix</th>\n",
       "      <th>Outstanding_Debt</th>\n",
       "      <th>Credit_Utilization_Ratio</th>\n",
       "      <th>Credit_History_Age</th>\n",
       "      <th>Payment_of_Min_Amount</th>\n",
       "      <th>Total_EMI_per_month</th>\n",
       "      <th>Amount_invested_monthly</th>\n",
       "      <th>Payment_Behaviour</th>\n",
       "      <th>Monthly_Balance</th>\n",
       "      <th>Credit_Score</th>\n",
       "    </tr>\n",
       "  </thead>\n",
       "  <tbody>\n",
       "    <tr>\n",
       "      <th>0</th>\n",
       "      <td>0x1602</td>\n",
       "      <td>CUS_0xd40</td>\n",
       "      <td>January</td>\n",
       "      <td>Aaron Maashoh</td>\n",
       "      <td>23</td>\n",
       "      <td>821-00-0265</td>\n",
       "      <td>Scientist</td>\n",
       "      <td>19114.12</td>\n",
       "      <td>1824.843</td>\n",
       "      <td>3</td>\n",
       "      <td>4</td>\n",
       "      <td>3</td>\n",
       "      <td>4</td>\n",
       "      <td>Auto Loan, Credit-Builder Loan, Personal Loan,...</td>\n",
       "      <td>3</td>\n",
       "      <td>7</td>\n",
       "      <td>11.27</td>\n",
       "      <td>4.000</td>\n",
       "      <td>_</td>\n",
       "      <td>809.98</td>\n",
       "      <td>26.823</td>\n",
       "      <td>22 Years and 1 Months</td>\n",
       "      <td>No</td>\n",
       "      <td>49.575</td>\n",
       "      <td>80.41529543900253</td>\n",
       "      <td>High_spent_Small_value_payments</td>\n",
       "      <td>312.49408867943663</td>\n",
       "      <td>Good</td>\n",
       "    </tr>\n",
       "    <tr>\n",
       "      <th>1</th>\n",
       "      <td>0x1603</td>\n",
       "      <td>CUS_0xd40</td>\n",
       "      <td>February</td>\n",
       "      <td>Aaron Maashoh</td>\n",
       "      <td>23</td>\n",
       "      <td>821-00-0265</td>\n",
       "      <td>Scientist</td>\n",
       "      <td>19114.12</td>\n",
       "      <td>NaN</td>\n",
       "      <td>3</td>\n",
       "      <td>4</td>\n",
       "      <td>3</td>\n",
       "      <td>4</td>\n",
       "      <td>Auto Loan, Credit-Builder Loan, Personal Loan,...</td>\n",
       "      <td>-1</td>\n",
       "      <td>NaN</td>\n",
       "      <td>11.27</td>\n",
       "      <td>4.000</td>\n",
       "      <td>Good</td>\n",
       "      <td>809.98</td>\n",
       "      <td>31.945</td>\n",
       "      <td>NaN</td>\n",
       "      <td>No</td>\n",
       "      <td>49.575</td>\n",
       "      <td>118.28022162236736</td>\n",
       "      <td>Low_spent_Large_value_payments</td>\n",
       "      <td>284.62916249607184</td>\n",
       "      <td>Good</td>\n",
       "    </tr>\n",
       "    <tr>\n",
       "      <th>2</th>\n",
       "      <td>0x1604</td>\n",
       "      <td>CUS_0xd40</td>\n",
       "      <td>March</td>\n",
       "      <td>Aaron Maashoh</td>\n",
       "      <td>-500</td>\n",
       "      <td>821-00-0265</td>\n",
       "      <td>Scientist</td>\n",
       "      <td>19114.12</td>\n",
       "      <td>NaN</td>\n",
       "      <td>3</td>\n",
       "      <td>4</td>\n",
       "      <td>3</td>\n",
       "      <td>4</td>\n",
       "      <td>Auto Loan, Credit-Builder Loan, Personal Loan,...</td>\n",
       "      <td>3</td>\n",
       "      <td>7</td>\n",
       "      <td>_</td>\n",
       "      <td>4.000</td>\n",
       "      <td>Good</td>\n",
       "      <td>809.98</td>\n",
       "      <td>28.609</td>\n",
       "      <td>22 Years and 3 Months</td>\n",
       "      <td>No</td>\n",
       "      <td>49.575</td>\n",
       "      <td>81.699521264648</td>\n",
       "      <td>Low_spent_Medium_value_payments</td>\n",
       "      <td>331.2098628537912</td>\n",
       "      <td>Good</td>\n",
       "    </tr>\n",
       "    <tr>\n",
       "      <th>3</th>\n",
       "      <td>0x1605</td>\n",
       "      <td>CUS_0xd40</td>\n",
       "      <td>April</td>\n",
       "      <td>Aaron Maashoh</td>\n",
       "      <td>23</td>\n",
       "      <td>821-00-0265</td>\n",
       "      <td>Scientist</td>\n",
       "      <td>19114.12</td>\n",
       "      <td>NaN</td>\n",
       "      <td>3</td>\n",
       "      <td>4</td>\n",
       "      <td>3</td>\n",
       "      <td>4</td>\n",
       "      <td>Auto Loan, Credit-Builder Loan, Personal Loan,...</td>\n",
       "      <td>5</td>\n",
       "      <td>4</td>\n",
       "      <td>6.27</td>\n",
       "      <td>4.000</td>\n",
       "      <td>Good</td>\n",
       "      <td>809.98</td>\n",
       "      <td>31.378</td>\n",
       "      <td>22 Years and 4 Months</td>\n",
       "      <td>No</td>\n",
       "      <td>49.575</td>\n",
       "      <td>199.4580743910713</td>\n",
       "      <td>Low_spent_Small_value_payments</td>\n",
       "      <td>223.45130972736786</td>\n",
       "      <td>Good</td>\n",
       "    </tr>\n",
       "    <tr>\n",
       "      <th>4</th>\n",
       "      <td>0x1606</td>\n",
       "      <td>CUS_0xd40</td>\n",
       "      <td>May</td>\n",
       "      <td>Aaron Maashoh</td>\n",
       "      <td>23</td>\n",
       "      <td>821-00-0265</td>\n",
       "      <td>Scientist</td>\n",
       "      <td>19114.12</td>\n",
       "      <td>1824.843</td>\n",
       "      <td>3</td>\n",
       "      <td>4</td>\n",
       "      <td>3</td>\n",
       "      <td>4</td>\n",
       "      <td>Auto Loan, Credit-Builder Loan, Personal Loan,...</td>\n",
       "      <td>6</td>\n",
       "      <td>NaN</td>\n",
       "      <td>11.27</td>\n",
       "      <td>4.000</td>\n",
       "      <td>Good</td>\n",
       "      <td>809.98</td>\n",
       "      <td>24.797</td>\n",
       "      <td>22 Years and 5 Months</td>\n",
       "      <td>No</td>\n",
       "      <td>49.575</td>\n",
       "      <td>41.420153086217326</td>\n",
       "      <td>High_spent_Medium_value_payments</td>\n",
       "      <td>341.48923103222177</td>\n",
       "      <td>Good</td>\n",
       "    </tr>\n",
       "  </tbody>\n",
       "</table>\n",
       "</div>"
      ],
      "text/plain": [
       "       ID Customer_ID     Month           Name   Age          SSN Occupation  \\\n",
       "0  0x1602   CUS_0xd40   January  Aaron Maashoh    23  821-00-0265  Scientist   \n",
       "1  0x1603   CUS_0xd40  February  Aaron Maashoh    23  821-00-0265  Scientist   \n",
       "2  0x1604   CUS_0xd40     March  Aaron Maashoh  -500  821-00-0265  Scientist   \n",
       "3  0x1605   CUS_0xd40     April  Aaron Maashoh    23  821-00-0265  Scientist   \n",
       "4  0x1606   CUS_0xd40       May  Aaron Maashoh    23  821-00-0265  Scientist   \n",
       "\n",
       "  Annual_Income  Monthly_Inhand_Salary  Num_Bank_Accounts  Num_Credit_Card  \\\n",
       "0      19114.12               1824.843                  3                4   \n",
       "1      19114.12                    NaN                  3                4   \n",
       "2      19114.12                    NaN                  3                4   \n",
       "3      19114.12                    NaN                  3                4   \n",
       "4      19114.12               1824.843                  3                4   \n",
       "\n",
       "   Interest_Rate Num_of_Loan  \\\n",
       "0              3           4   \n",
       "1              3           4   \n",
       "2              3           4   \n",
       "3              3           4   \n",
       "4              3           4   \n",
       "\n",
       "                                        Type_of_Loan  Delay_from_due_date  \\\n",
       "0  Auto Loan, Credit-Builder Loan, Personal Loan,...                    3   \n",
       "1  Auto Loan, Credit-Builder Loan, Personal Loan,...                   -1   \n",
       "2  Auto Loan, Credit-Builder Loan, Personal Loan,...                    3   \n",
       "3  Auto Loan, Credit-Builder Loan, Personal Loan,...                    5   \n",
       "4  Auto Loan, Credit-Builder Loan, Personal Loan,...                    6   \n",
       "\n",
       "  Num_of_Delayed_Payment Changed_Credit_Limit  Num_Credit_Inquiries  \\\n",
       "0                      7                11.27                 4.000   \n",
       "1                    NaN                11.27                 4.000   \n",
       "2                      7                    _                 4.000   \n",
       "3                      4                 6.27                 4.000   \n",
       "4                    NaN                11.27                 4.000   \n",
       "\n",
       "  Credit_Mix Outstanding_Debt  Credit_Utilization_Ratio  \\\n",
       "0          _           809.98                    26.823   \n",
       "1       Good           809.98                    31.945   \n",
       "2       Good           809.98                    28.609   \n",
       "3       Good           809.98                    31.378   \n",
       "4       Good           809.98                    24.797   \n",
       "\n",
       "      Credit_History_Age Payment_of_Min_Amount  Total_EMI_per_month  \\\n",
       "0  22 Years and 1 Months                    No               49.575   \n",
       "1                    NaN                    No               49.575   \n",
       "2  22 Years and 3 Months                    No               49.575   \n",
       "3  22 Years and 4 Months                    No               49.575   \n",
       "4  22 Years and 5 Months                    No               49.575   \n",
       "\n",
       "  Amount_invested_monthly                 Payment_Behaviour  \\\n",
       "0       80.41529543900253   High_spent_Small_value_payments   \n",
       "1      118.28022162236736    Low_spent_Large_value_payments   \n",
       "2         81.699521264648   Low_spent_Medium_value_payments   \n",
       "3       199.4580743910713    Low_spent_Small_value_payments   \n",
       "4      41.420153086217326  High_spent_Medium_value_payments   \n",
       "\n",
       "      Monthly_Balance Credit_Score  \n",
       "0  312.49408867943663         Good  \n",
       "1  284.62916249607184         Good  \n",
       "2   331.2098628537912         Good  \n",
       "3  223.45130972736786         Good  \n",
       "4  341.48923103222177         Good  "
      ]
     },
     "execution_count": 4,
     "metadata": {},
     "output_type": "execute_result"
    }
   ],
   "source": [
    "df = train_data.copy()\n",
    "df.head()"
   ]
  },
  {
   "cell_type": "code",
   "execution_count": 5,
   "id": "0ab85b65",
   "metadata": {
    "ExecuteTime": {
     "end_time": "2024-04-26T15:17:57.770792Z",
     "start_time": "2024-04-26T15:17:57.757720Z"
    },
    "execution": {
     "iopub.execute_input": "2024-05-03T19:16:36.514556Z",
     "iopub.status.busy": "2024-05-03T19:16:36.513773Z",
     "iopub.status.idle": "2024-05-03T19:16:36.518545Z",
     "shell.execute_reply": "2024-05-03T19:16:36.517935Z"
    },
    "papermill": {
     "duration": 0.028739,
     "end_time": "2024-05-03T19:16:36.520300",
     "exception": false,
     "start_time": "2024-05-03T19:16:36.491561",
     "status": "completed"
    },
    "tags": []
   },
   "outputs": [
    {
     "data": {
      "text/plain": [
       "(100000, 28)"
      ]
     },
     "execution_count": 5,
     "metadata": {},
     "output_type": "execute_result"
    }
   ],
   "source": [
    "df.shape"
   ]
  },
  {
   "cell_type": "code",
   "execution_count": 6,
   "id": "d70f39ef",
   "metadata": {
    "ExecuteTime": {
     "end_time": "2024-04-26T15:18:01.269880Z",
     "start_time": "2024-04-26T15:18:01.257646Z"
    },
    "execution": {
     "iopub.execute_input": "2024-05-03T19:16:36.564205Z",
     "iopub.status.busy": "2024-05-03T19:16:36.563975Z",
     "iopub.status.idle": "2024-05-03T19:16:36.568371Z",
     "shell.execute_reply": "2024-05-03T19:16:36.567813Z"
    },
    "papermill": {
     "duration": 0.028534,
     "end_time": "2024-05-03T19:16:36.570164",
     "exception": false,
     "start_time": "2024-05-03T19:16:36.541630",
     "status": "completed"
    },
    "tags": []
   },
   "outputs": [
    {
     "data": {
      "text/plain": [
       "Index(['ID', 'Customer_ID', 'Month', 'Name', 'Age', 'SSN', 'Occupation',\n",
       "       'Annual_Income', 'Monthly_Inhand_Salary', 'Num_Bank_Accounts',\n",
       "       'Num_Credit_Card', 'Interest_Rate', 'Num_of_Loan', 'Type_of_Loan',\n",
       "       'Delay_from_due_date', 'Num_of_Delayed_Payment', 'Changed_Credit_Limit',\n",
       "       'Num_Credit_Inquiries', 'Credit_Mix', 'Outstanding_Debt',\n",
       "       'Credit_Utilization_Ratio', 'Credit_History_Age',\n",
       "       'Payment_of_Min_Amount', 'Total_EMI_per_month',\n",
       "       'Amount_invested_monthly', 'Payment_Behaviour', 'Monthly_Balance',\n",
       "       'Credit_Score'],\n",
       "      dtype='object')"
      ]
     },
     "execution_count": 6,
     "metadata": {},
     "output_type": "execute_result"
    }
   ],
   "source": [
    "df.columns"
   ]
  },
  {
   "cell_type": "markdown",
   "id": "5acb737a",
   "metadata": {
    "papermill": {
     "duration": 0.020964,
     "end_time": "2024-05-03T19:16:36.612372",
     "exception": false,
     "start_time": "2024-05-03T19:16:36.591408",
     "status": "completed"
    },
    "tags": []
   },
   "source": [
    "#### First of all, it would be useful to know how the relavant persons calculate the credit score and which parameters are included in the calculation of the credit score.\n",
    "https://www.investopedia.com/ask/answers/05/creditscorecalculation.asp<br>\n",
    "A credit score is designed to measure your risk as a borrower. FICO does not reveal its proprietary credit score calculator formula, but the calculation incorporates five major components, with varying levels of importance. These categories with their relative weights are<br>\n",
    "- Payment history (35%)<br>\n",
    "- Amount owed (30%)<br>\n",
    "- Length of credit history (15%)<br>\n",
    "- New credit (10%)<br>\n",
    "- Credit mix (10%)<br><br>\n",
    "***All of these categories are taken into account in the calculation of your overall score, which can range from 300 to 850.And I tried to associate the features in the dataset with the parameters in these 5 categories.***<br><br>\n",
    "- Payment history (35%) and features in our dataset that may be related : **\"Payment_of_Min_Amount\",\"Payment_Behaviour\",\"Num_of_Delayed_Payment\",\n",
    "\"Delay_from_due_date\",\"Outstanding_Debt\",\"Amount_invested_monthly\"** <br>\n",
    "- Amount owed (30%) and features in our dataset that may be related:  **\"Credit_Utilization_Ratio\",\"Outstanding_Debt\",\"Monthly_Balance\",\"Amount_invested_monthly\"**<br>\n",
    "- Length of credit history (15%) and features in our dataset that may be related : ***\"Credit_History_Age\",\"Num_of_Loan\"***   <br>\n",
    "- New credit (10%) and features in our dataset that may be related : **\"Num_Credit_Inquiries\",\"Num_of_Loan\",\"Payment_of_Min_Amount\",\"Monthly_Balance\",\"Amount_invested_monthly\"**   <br>\n",
    "- Credit mix (10%) and features in our dataset that may be related :**\"Credit_Mix\"**     <br><br>\n",
    " What Isn’t Included:<br>\n",
    " - Your credit score reflects only the information contained in your credit report. Your credit report doesn't include information like your **age**, **income**, or employment history. It also will generally not include your history with utilities such as cable and phone bills nor your rental payment history."
   ]
  },
  {
   "cell_type": "code",
   "execution_count": 7,
   "id": "b2b74e54",
   "metadata": {
    "ExecuteTime": {
     "end_time": "2024-04-24T22:02:09.335779Z",
     "start_time": "2024-04-24T22:02:09.177360Z"
    },
    "execution": {
     "iopub.execute_input": "2024-05-03T19:16:36.655740Z",
     "iopub.status.busy": "2024-05-03T19:16:36.655486Z",
     "iopub.status.idle": "2024-05-03T19:16:36.745936Z",
     "shell.execute_reply": "2024-05-03T19:16:36.745257Z"
    },
    "papermill": {
     "duration": 0.114301,
     "end_time": "2024-05-03T19:16:36.747754",
     "exception": false,
     "start_time": "2024-05-03T19:16:36.633453",
     "status": "completed"
    },
    "tags": []
   },
   "outputs": [
    {
     "name": "stdout",
     "output_type": "stream",
     "text": [
      "<class 'pandas.core.frame.DataFrame'>\n",
      "RangeIndex: 100000 entries, 0 to 99999\n",
      "Data columns (total 28 columns):\n",
      " #   Column                    Non-Null Count   Dtype  \n",
      "---  ------                    --------------   -----  \n",
      " 0   ID                        100000 non-null  object \n",
      " 1   Customer_ID               100000 non-null  object \n",
      " 2   Month                     100000 non-null  object \n",
      " 3   Name                      90015 non-null   object \n",
      " 4   Age                       100000 non-null  object \n",
      " 5   SSN                       100000 non-null  object \n",
      " 6   Occupation                100000 non-null  object \n",
      " 7   Annual_Income             100000 non-null  object \n",
      " 8   Monthly_Inhand_Salary     84998 non-null   float64\n",
      " 9   Num_Bank_Accounts         100000 non-null  int64  \n",
      " 10  Num_Credit_Card           100000 non-null  int64  \n",
      " 11  Interest_Rate             100000 non-null  int64  \n",
      " 12  Num_of_Loan               100000 non-null  object \n",
      " 13  Type_of_Loan              88592 non-null   object \n",
      " 14  Delay_from_due_date       100000 non-null  int64  \n",
      " 15  Num_of_Delayed_Payment    92998 non-null   object \n",
      " 16  Changed_Credit_Limit      100000 non-null  object \n",
      " 17  Num_Credit_Inquiries      98035 non-null   float64\n",
      " 18  Credit_Mix                100000 non-null  object \n",
      " 19  Outstanding_Debt          100000 non-null  object \n",
      " 20  Credit_Utilization_Ratio  100000 non-null  float64\n",
      " 21  Credit_History_Age        90970 non-null   object \n",
      " 22  Payment_of_Min_Amount     100000 non-null  object \n",
      " 23  Total_EMI_per_month       100000 non-null  float64\n",
      " 24  Amount_invested_monthly   95521 non-null   object \n",
      " 25  Payment_Behaviour         100000 non-null  object \n",
      " 26  Monthly_Balance           98800 non-null   object \n",
      " 27  Credit_Score              100000 non-null  object \n",
      "dtypes: float64(4), int64(4), object(20)\n",
      "memory usage: 21.4+ MB\n"
     ]
    }
   ],
   "source": [
    "df.info()"
   ]
  },
  {
   "cell_type": "code",
   "execution_count": 8,
   "id": "5f72b6b6",
   "metadata": {
    "ExecuteTime": {
     "end_time": "2024-04-26T19:02:14.054014Z",
     "start_time": "2024-04-26T19:02:14.039495Z"
    },
    "execution": {
     "iopub.execute_input": "2024-05-03T19:16:36.791676Z",
     "iopub.status.busy": "2024-05-03T19:16:36.791420Z",
     "iopub.status.idle": "2024-05-03T19:16:37.542529Z",
     "shell.execute_reply": "2024-05-03T19:16:37.541871Z"
    },
    "papermill": {
     "duration": 0.775187,
     "end_time": "2024-05-03T19:16:37.544222",
     "exception": false,
     "start_time": "2024-05-03T19:16:36.769035",
     "status": "completed"
    },
    "tags": []
   },
   "outputs": [
    {
     "data": {
      "text/html": [
       "<div>\n",
       "<style scoped>\n",
       "    .dataframe tbody tr th:only-of-type {\n",
       "        vertical-align: middle;\n",
       "    }\n",
       "\n",
       "    .dataframe tbody tr th {\n",
       "        vertical-align: top;\n",
       "    }\n",
       "\n",
       "    .dataframe thead th {\n",
       "        text-align: right;\n",
       "    }\n",
       "</style>\n",
       "<table border=\"1\" class=\"dataframe\">\n",
       "  <thead>\n",
       "    <tr style=\"text-align: right;\">\n",
       "      <th></th>\n",
       "      <th>Type</th>\n",
       "      <th>Nunique</th>\n",
       "      <th>#of Missing</th>\n",
       "      <th>MostFreqItem</th>\n",
       "      <th>MostFreqCount</th>\n",
       "      <th>First</th>\n",
       "    </tr>\n",
       "  </thead>\n",
       "  <tbody>\n",
       "    <tr>\n",
       "      <th>ID</th>\n",
       "      <td>object</td>\n",
       "      <td>100000</td>\n",
       "      <td>0</td>\n",
       "      <td>0x25fb6</td>\n",
       "      <td>1</td>\n",
       "      <td>0x1602</td>\n",
       "    </tr>\n",
       "    <tr>\n",
       "      <th>Customer_ID</th>\n",
       "      <td>object</td>\n",
       "      <td>12500</td>\n",
       "      <td>0</td>\n",
       "      <td>CUS_0x942c</td>\n",
       "      <td>8</td>\n",
       "      <td>CUS_0xd40</td>\n",
       "    </tr>\n",
       "    <tr>\n",
       "      <th>Month</th>\n",
       "      <td>object</td>\n",
       "      <td>8</td>\n",
       "      <td>0</td>\n",
       "      <td>January</td>\n",
       "      <td>12500</td>\n",
       "      <td>January</td>\n",
       "    </tr>\n",
       "    <tr>\n",
       "      <th>Name</th>\n",
       "      <td>object</td>\n",
       "      <td>10139</td>\n",
       "      <td>9985</td>\n",
       "      <td>Langep</td>\n",
       "      <td>44</td>\n",
       "      <td>Aaron Maashoh</td>\n",
       "    </tr>\n",
       "    <tr>\n",
       "      <th>Age</th>\n",
       "      <td>object</td>\n",
       "      <td>1788</td>\n",
       "      <td>0</td>\n",
       "      <td>38</td>\n",
       "      <td>2833</td>\n",
       "      <td>23</td>\n",
       "    </tr>\n",
       "    <tr>\n",
       "      <th>SSN</th>\n",
       "      <td>object</td>\n",
       "      <td>12501</td>\n",
       "      <td>0</td>\n",
       "      <td>#F%$D@*&amp;8</td>\n",
       "      <td>5572</td>\n",
       "      <td>821-00-0265</td>\n",
       "    </tr>\n",
       "    <tr>\n",
       "      <th>Occupation</th>\n",
       "      <td>object</td>\n",
       "      <td>16</td>\n",
       "      <td>0</td>\n",
       "      <td>_______</td>\n",
       "      <td>7062</td>\n",
       "      <td>Scientist</td>\n",
       "    </tr>\n",
       "    <tr>\n",
       "      <th>Annual_Income</th>\n",
       "      <td>object</td>\n",
       "      <td>18940</td>\n",
       "      <td>0</td>\n",
       "      <td>20867.67</td>\n",
       "      <td>16</td>\n",
       "      <td>19114.12</td>\n",
       "    </tr>\n",
       "    <tr>\n",
       "      <th>Monthly_Inhand_Salary</th>\n",
       "      <td>float64</td>\n",
       "      <td>13235</td>\n",
       "      <td>15002</td>\n",
       "      <td>6358.957</td>\n",
       "      <td>15</td>\n",
       "      <td>1824.843</td>\n",
       "    </tr>\n",
       "    <tr>\n",
       "      <th>Num_Bank_Accounts</th>\n",
       "      <td>int64</td>\n",
       "      <td>943</td>\n",
       "      <td>0</td>\n",
       "      <td>6</td>\n",
       "      <td>13001</td>\n",
       "      <td>3</td>\n",
       "    </tr>\n",
       "    <tr>\n",
       "      <th>Num_Credit_Card</th>\n",
       "      <td>int64</td>\n",
       "      <td>1179</td>\n",
       "      <td>0</td>\n",
       "      <td>5</td>\n",
       "      <td>18459</td>\n",
       "      <td>4</td>\n",
       "    </tr>\n",
       "    <tr>\n",
       "      <th>Interest_Rate</th>\n",
       "      <td>int64</td>\n",
       "      <td>1750</td>\n",
       "      <td>0</td>\n",
       "      <td>8</td>\n",
       "      <td>5012</td>\n",
       "      <td>3</td>\n",
       "    </tr>\n",
       "    <tr>\n",
       "      <th>Num_of_Loan</th>\n",
       "      <td>object</td>\n",
       "      <td>434</td>\n",
       "      <td>0</td>\n",
       "      <td>3</td>\n",
       "      <td>14386</td>\n",
       "      <td>4</td>\n",
       "    </tr>\n",
       "    <tr>\n",
       "      <th>Type_of_Loan</th>\n",
       "      <td>object</td>\n",
       "      <td>6260</td>\n",
       "      <td>11408</td>\n",
       "      <td>Not Specified</td>\n",
       "      <td>1408</td>\n",
       "      <td>Auto Loan, Credit-Builder Loan, Personal Loan,...</td>\n",
       "    </tr>\n",
       "    <tr>\n",
       "      <th>Delay_from_due_date</th>\n",
       "      <td>int64</td>\n",
       "      <td>73</td>\n",
       "      <td>0</td>\n",
       "      <td>15</td>\n",
       "      <td>3596</td>\n",
       "      <td>3</td>\n",
       "    </tr>\n",
       "    <tr>\n",
       "      <th>Num_of_Delayed_Payment</th>\n",
       "      <td>object</td>\n",
       "      <td>749</td>\n",
       "      <td>7002</td>\n",
       "      <td>19</td>\n",
       "      <td>5327</td>\n",
       "      <td>7</td>\n",
       "    </tr>\n",
       "    <tr>\n",
       "      <th>Changed_Credit_Limit</th>\n",
       "      <td>object</td>\n",
       "      <td>4384</td>\n",
       "      <td>0</td>\n",
       "      <td>_</td>\n",
       "      <td>2091</td>\n",
       "      <td>11.27</td>\n",
       "    </tr>\n",
       "    <tr>\n",
       "      <th>Num_Credit_Inquiries</th>\n",
       "      <td>float64</td>\n",
       "      <td>1223</td>\n",
       "      <td>1965</td>\n",
       "      <td>4.000</td>\n",
       "      <td>11271</td>\n",
       "      <td>4.000</td>\n",
       "    </tr>\n",
       "    <tr>\n",
       "      <th>Credit_Mix</th>\n",
       "      <td>object</td>\n",
       "      <td>4</td>\n",
       "      <td>0</td>\n",
       "      <td>Standard</td>\n",
       "      <td>36479</td>\n",
       "      <td>_</td>\n",
       "    </tr>\n",
       "    <tr>\n",
       "      <th>Outstanding_Debt</th>\n",
       "      <td>object</td>\n",
       "      <td>13178</td>\n",
       "      <td>0</td>\n",
       "      <td>1360.45</td>\n",
       "      <td>24</td>\n",
       "      <td>809.98</td>\n",
       "    </tr>\n",
       "    <tr>\n",
       "      <th>Credit_Utilization_Ratio</th>\n",
       "      <td>float64</td>\n",
       "      <td>100000</td>\n",
       "      <td>0</td>\n",
       "      <td>27.289</td>\n",
       "      <td>1</td>\n",
       "      <td>26.823</td>\n",
       "    </tr>\n",
       "    <tr>\n",
       "      <th>Credit_History_Age</th>\n",
       "      <td>object</td>\n",
       "      <td>404</td>\n",
       "      <td>9030</td>\n",
       "      <td>15 Years and 11 Months</td>\n",
       "      <td>446</td>\n",
       "      <td>22 Years and 1 Months</td>\n",
       "    </tr>\n",
       "    <tr>\n",
       "      <th>Payment_of_Min_Amount</th>\n",
       "      <td>object</td>\n",
       "      <td>3</td>\n",
       "      <td>0</td>\n",
       "      <td>Yes</td>\n",
       "      <td>52326</td>\n",
       "      <td>No</td>\n",
       "    </tr>\n",
       "    <tr>\n",
       "      <th>Total_EMI_per_month</th>\n",
       "      <td>float64</td>\n",
       "      <td>14950</td>\n",
       "      <td>0</td>\n",
       "      <td>0.000</td>\n",
       "      <td>10613</td>\n",
       "      <td>49.575</td>\n",
       "    </tr>\n",
       "    <tr>\n",
       "      <th>Amount_invested_monthly</th>\n",
       "      <td>object</td>\n",
       "      <td>91049</td>\n",
       "      <td>4479</td>\n",
       "      <td>__10000__</td>\n",
       "      <td>4305</td>\n",
       "      <td>80.41529543900253</td>\n",
       "    </tr>\n",
       "    <tr>\n",
       "      <th>Payment_Behaviour</th>\n",
       "      <td>object</td>\n",
       "      <td>7</td>\n",
       "      <td>0</td>\n",
       "      <td>Low_spent_Small_value_payments</td>\n",
       "      <td>25513</td>\n",
       "      <td>High_spent_Small_value_payments</td>\n",
       "    </tr>\n",
       "    <tr>\n",
       "      <th>Monthly_Balance</th>\n",
       "      <td>object</td>\n",
       "      <td>98792</td>\n",
       "      <td>1200</td>\n",
       "      <td>__-333333333333333333333333333__</td>\n",
       "      <td>9</td>\n",
       "      <td>312.49408867943663</td>\n",
       "    </tr>\n",
       "    <tr>\n",
       "      <th>Credit_Score</th>\n",
       "      <td>object</td>\n",
       "      <td>3</td>\n",
       "      <td>0</td>\n",
       "      <td>Standard</td>\n",
       "      <td>53174</td>\n",
       "      <td>Good</td>\n",
       "    </tr>\n",
       "  </tbody>\n",
       "</table>\n",
       "</div>"
      ],
      "text/plain": [
       "                             Type  Nunique  #of Missing  \\\n",
       "ID                         object   100000            0   \n",
       "Customer_ID                object    12500            0   \n",
       "Month                      object        8            0   \n",
       "Name                       object    10139         9985   \n",
       "Age                        object     1788            0   \n",
       "SSN                        object    12501            0   \n",
       "Occupation                 object       16            0   \n",
       "Annual_Income              object    18940            0   \n",
       "Monthly_Inhand_Salary     float64    13235        15002   \n",
       "Num_Bank_Accounts           int64      943            0   \n",
       "Num_Credit_Card             int64     1179            0   \n",
       "Interest_Rate               int64     1750            0   \n",
       "Num_of_Loan                object      434            0   \n",
       "Type_of_Loan               object     6260        11408   \n",
       "Delay_from_due_date         int64       73            0   \n",
       "Num_of_Delayed_Payment     object      749         7002   \n",
       "Changed_Credit_Limit       object     4384            0   \n",
       "Num_Credit_Inquiries      float64     1223         1965   \n",
       "Credit_Mix                 object        4            0   \n",
       "Outstanding_Debt           object    13178            0   \n",
       "Credit_Utilization_Ratio  float64   100000            0   \n",
       "Credit_History_Age         object      404         9030   \n",
       "Payment_of_Min_Amount      object        3            0   \n",
       "Total_EMI_per_month       float64    14950            0   \n",
       "Amount_invested_monthly    object    91049         4479   \n",
       "Payment_Behaviour          object        7            0   \n",
       "Monthly_Balance            object    98792         1200   \n",
       "Credit_Score               object        3            0   \n",
       "\n",
       "                                              MostFreqItem  MostFreqCount  \\\n",
       "ID                                                 0x25fb6              1   \n",
       "Customer_ID                                     CUS_0x942c              8   \n",
       "Month                                              January          12500   \n",
       "Name                                                Langep             44   \n",
       "Age                                                     38           2833   \n",
       "SSN                                              #F%$D@*&8           5572   \n",
       "Occupation                                         _______           7062   \n",
       "Annual_Income                                     20867.67             16   \n",
       "Monthly_Inhand_Salary                             6358.957             15   \n",
       "Num_Bank_Accounts                                        6          13001   \n",
       "Num_Credit_Card                                          5          18459   \n",
       "Interest_Rate                                            8           5012   \n",
       "Num_of_Loan                                              3          14386   \n",
       "Type_of_Loan                                 Not Specified           1408   \n",
       "Delay_from_due_date                                     15           3596   \n",
       "Num_of_Delayed_Payment                                  19           5327   \n",
       "Changed_Credit_Limit                                     _           2091   \n",
       "Num_Credit_Inquiries                                 4.000          11271   \n",
       "Credit_Mix                                        Standard          36479   \n",
       "Outstanding_Debt                                   1360.45             24   \n",
       "Credit_Utilization_Ratio                            27.289              1   \n",
       "Credit_History_Age                  15 Years and 11 Months            446   \n",
       "Payment_of_Min_Amount                                  Yes          52326   \n",
       "Total_EMI_per_month                                  0.000          10613   \n",
       "Amount_invested_monthly                          __10000__           4305   \n",
       "Payment_Behaviour           Low_spent_Small_value_payments          25513   \n",
       "Monthly_Balance           __-333333333333333333333333333__              9   \n",
       "Credit_Score                                      Standard          53174   \n",
       "\n",
       "                                                                      First  \n",
       "ID                                                                   0x1602  \n",
       "Customer_ID                                                       CUS_0xd40  \n",
       "Month                                                               January  \n",
       "Name                                                          Aaron Maashoh  \n",
       "Age                                                                      23  \n",
       "SSN                                                             821-00-0265  \n",
       "Occupation                                                        Scientist  \n",
       "Annual_Income                                                      19114.12  \n",
       "Monthly_Inhand_Salary                                              1824.843  \n",
       "Num_Bank_Accounts                                                         3  \n",
       "Num_Credit_Card                                                           4  \n",
       "Interest_Rate                                                             3  \n",
       "Num_of_Loan                                                               4  \n",
       "Type_of_Loan              Auto Loan, Credit-Builder Loan, Personal Loan,...  \n",
       "Delay_from_due_date                                                       3  \n",
       "Num_of_Delayed_Payment                                                    7  \n",
       "Changed_Credit_Limit                                                  11.27  \n",
       "Num_Credit_Inquiries                                                  4.000  \n",
       "Credit_Mix                                                                _  \n",
       "Outstanding_Debt                                                     809.98  \n",
       "Credit_Utilization_Ratio                                             26.823  \n",
       "Credit_History_Age                                    22 Years and 1 Months  \n",
       "Payment_of_Min_Amount                                                    No  \n",
       "Total_EMI_per_month                                                  49.575  \n",
       "Amount_invested_monthly                                   80.41529543900253  \n",
       "Payment_Behaviour                           High_spent_Small_value_payments  \n",
       "Monthly_Balance                                          312.49408867943663  \n",
       "Credit_Score                                                           Good  "
      ]
     },
     "execution_count": 8,
     "metadata": {},
     "output_type": "execute_result"
    }
   ],
   "source": [
    "# The alternative code for an overview of dataset features ;\n",
    "\n",
    "def compr_info(df, dropna=False):\n",
    "    \"\"\"\n",
    "    Returns a dataframe consisting of datatypes, nuniques, #s of nulls head(1), most frequent item and its frequncy,\n",
    "    where the column names are indices.\n",
    "    \"\"\"\n",
    "    dt=pd.DataFrame(df.dtypes, columns=[\"Type\"])\n",
    "    dn=pd.DataFrame(df.nunique(), columns=[\"Nunique\"])\n",
    "    nonnull=pd.DataFrame(df.isnull().sum(), columns=[\"#of Missing\"])\n",
    "    firstT=df.head(1).T.rename(columns={0:\"First\"})\n",
    "    MostFreqI=pd.DataFrame([df[x].value_counts().head(1).index[0] for x in df.columns], columns=[\"MostFreqItem\"],index=df.columns)\n",
    "    MostFreqC=pd.DataFrame([df[x].value_counts().head(1).values[0] for x in df.columns], columns=[\"MostFreqCount\"],index=df.columns)\n",
    "    return pd.concat([dt,dn,nonnull,MostFreqI,MostFreqC,firstT],axis=1)\n",
    "\n",
    "compr_info(df)"
   ]
  },
  {
   "cell_type": "code",
   "execution_count": 9,
   "id": "53e8b75d",
   "metadata": {
    "ExecuteTime": {
     "end_time": "2024-04-24T22:02:21.569430Z",
     "start_time": "2024-04-24T22:02:21.445267Z"
    },
    "execution": {
     "iopub.execute_input": "2024-05-03T19:16:37.589288Z",
     "iopub.status.busy": "2024-05-03T19:16:37.589003Z",
     "iopub.status.idle": "2024-05-03T19:16:37.675667Z",
     "shell.execute_reply": "2024-05-03T19:16:37.675044Z"
    },
    "papermill": {
     "duration": 0.111128,
     "end_time": "2024-05-03T19:16:37.677352",
     "exception": false,
     "start_time": "2024-05-03T19:16:37.566224",
     "status": "completed"
    },
    "tags": []
   },
   "outputs": [
    {
     "data": {
      "text/plain": [
       "ID                              0\n",
       "Customer_ID                     0\n",
       "Month                           0\n",
       "Name                         9985\n",
       "Age                             0\n",
       "SSN                             0\n",
       "Occupation                      0\n",
       "Annual_Income                   0\n",
       "Monthly_Inhand_Salary       15002\n",
       "Num_Bank_Accounts               0\n",
       "Num_Credit_Card                 0\n",
       "Interest_Rate                   0\n",
       "Num_of_Loan                     0\n",
       "Type_of_Loan                11408\n",
       "Delay_from_due_date             0\n",
       "Num_of_Delayed_Payment       7002\n",
       "Changed_Credit_Limit            0\n",
       "Num_Credit_Inquiries         1965\n",
       "Credit_Mix                      0\n",
       "Outstanding_Debt                0\n",
       "Credit_Utilization_Ratio        0\n",
       "Credit_History_Age           9030\n",
       "Payment_of_Min_Amount           0\n",
       "Total_EMI_per_month             0\n",
       "Amount_invested_monthly      4479\n",
       "Payment_Behaviour               0\n",
       "Monthly_Balance              1200\n",
       "Credit_Score                    0\n",
       "dtype: int64"
      ]
     },
     "execution_count": 9,
     "metadata": {},
     "output_type": "execute_result"
    }
   ],
   "source": [
    "df.isna().sum()"
   ]
  },
  {
   "cell_type": "code",
   "execution_count": 10,
   "id": "3b04a737",
   "metadata": {
    "ExecuteTime": {
     "end_time": "2024-04-24T22:02:24.633234Z",
     "start_time": "2024-04-24T22:02:24.442263Z"
    },
    "execution": {
     "iopub.execute_input": "2024-05-03T19:16:37.722949Z",
     "iopub.status.busy": "2024-05-03T19:16:37.722707Z",
     "iopub.status.idle": "2024-05-03T19:16:37.808147Z",
     "shell.execute_reply": "2024-05-03T19:16:37.807405Z"
    },
    "papermill": {
     "duration": 0.110299,
     "end_time": "2024-05-03T19:16:37.809911",
     "exception": false,
     "start_time": "2024-05-03T19:16:37.699612",
     "status": "completed"
    },
    "tags": []
   },
   "outputs": [
    {
     "data": {
      "text/plain": [
       "60071"
      ]
     },
     "execution_count": 10,
     "metadata": {},
     "output_type": "execute_result"
    }
   ],
   "source": [
    " df.isna().sum().sum()"
   ]
  },
  {
   "cell_type": "markdown",
   "id": "444f7b0d",
   "metadata": {
    "papermill": {
     "duration": 0.022063,
     "end_time": "2024-05-03T19:16:37.854089",
     "exception": false,
     "start_time": "2024-05-03T19:16:37.832026",
     "status": "completed"
    },
    "tags": []
   },
   "source": [
    "#### ***Although the columns are not NaN, there may be rows containing any other expressions that express absence.***"
   ]
  },
  {
   "cell_type": "code",
   "execution_count": 11,
   "id": "731516fb",
   "metadata": {
    "execution": {
     "iopub.execute_input": "2024-05-03T19:16:37.899557Z",
     "iopub.status.busy": "2024-05-03T19:16:37.899244Z",
     "iopub.status.idle": "2024-05-03T19:16:41.809447Z",
     "shell.execute_reply": "2024-05-03T19:16:41.808621Z"
    },
    "papermill": {
     "duration": 3.935878,
     "end_time": "2024-05-03T19:16:41.811719",
     "exception": false,
     "start_time": "2024-05-03T19:16:37.875841",
     "status": "completed"
    },
    "tags": []
   },
   "outputs": [
    {
     "name": "stdout",
     "output_type": "stream",
     "text": [
      "Collecting colorama\r\n"
     ]
    },
    {
     "name": "stdout",
     "output_type": "stream",
     "text": [
      "  Downloading colorama-0.4.6-py2.py3-none-any.whl (25 kB)\r\n"
     ]
    },
    {
     "name": "stdout",
     "output_type": "stream",
     "text": [
      "Installing collected packages: colorama\r\n"
     ]
    },
    {
     "name": "stdout",
     "output_type": "stream",
     "text": [
      "Successfully installed colorama-0.4.6\r\n",
      "\u001b[33mWARNING: Running pip as the 'root' user can result in broken permissions and conflicting behaviour with the system package manager. It is recommended to use a virtual environment instead: https://pip.pypa.io/warnings/venv\u001b[0m\u001b[33m\r\n",
      "\u001b[0m"
     ]
    },
    {
     "name": "stdout",
     "output_type": "stream",
     "text": [
      "\r\n",
      "\u001b[1m[\u001b[0m\u001b[34;49mnotice\u001b[0m\u001b[1;39;49m]\u001b[0m\u001b[39;49m A new release of pip is available: \u001b[0m\u001b[31;49m23.0.1\u001b[0m\u001b[39;49m -> \u001b[0m\u001b[32;49m24.0\u001b[0m\r\n",
      "\u001b[1m[\u001b[0m\u001b[34;49mnotice\u001b[0m\u001b[1;39;49m]\u001b[0m\u001b[39;49m To update, run: \u001b[0m\u001b[32;49mpip install --upgrade pip\u001b[0m\r\n"
     ]
    },
    {
     "name": "stdout",
     "output_type": "stream",
     "text": [
      "Note: you may need to restart the kernel to use updated packages.\n"
     ]
    }
   ],
   "source": [
    "pip install colorama"
   ]
  },
  {
   "cell_type": "code",
   "execution_count": 12,
   "id": "1519e5aa",
   "metadata": {
    "ExecuteTime": {
     "end_time": "2024-05-01T08:52:12.516420Z",
     "start_time": "2024-05-01T08:52:12.502265Z"
    },
    "execution": {
     "iopub.execute_input": "2024-05-03T19:16:41.859193Z",
     "iopub.status.busy": "2024-05-03T19:16:41.858851Z",
     "iopub.status.idle": "2024-05-03T19:16:41.868989Z",
     "shell.execute_reply": "2024-05-03T19:16:41.868381Z"
    },
    "papermill": {
     "duration": 0.035944,
     "end_time": "2024-05-03T19:16:41.870730",
     "exception": false,
     "start_time": "2024-05-03T19:16:41.834786",
     "status": "completed"
    },
    "tags": []
   },
   "outputs": [],
   "source": [
    "# for checking all dataframe if there is any match with our regex pattern\n",
    "\n",
    "pattern = re.compile(r\"^[^a-zA-Z0-9 .,]+$\") \n",
    "\n",
    "from colorama import init, Fore, Back, Style\n",
    "\n",
    "def matched_re(df):\n",
    "    total_matches = 0\n",
    "    for column in df.columns:\n",
    "        column_matches = 0\n",
    "        matched_values = set()  \n",
    "        for value in df[column]:\n",
    "            if re.search(r\"^[^a-zA-Z0-9 .,]+$\", str(value)):\n",
    "                column_matches += 1\n",
    "                matched_values.add(value)\n",
    "                total_matches += 1\n",
    "        if column_matches > 0:\n",
    "            print(f\"{Back.YELLOW + Fore.BLACK} Matched values in column {column}: {column_matches} times '{', '.join(matched_values)}' {Style.RESET_ALL}\")\n",
    "            \n",
    "        else:\n",
    "            print(f\"Total matches in column {column}: {column_matches}\")\n",
    "    print(f\"{Back.YELLOW + Fore.BLACK}Total matches in dataframe: {total_matches} {Style.RESET_ALL}\")"
   ]
  },
  {
   "cell_type": "code",
   "execution_count": 13,
   "id": "1e367af2",
   "metadata": {
    "ExecuteTime": {
     "end_time": "2024-04-24T22:02:39.099282Z",
     "start_time": "2024-04-24T22:02:31.947373Z"
    },
    "execution": {
     "iopub.execute_input": "2024-05-03T19:16:41.917476Z",
     "iopub.status.busy": "2024-05-03T19:16:41.917190Z",
     "iopub.status.idle": "2024-05-03T19:16:45.016432Z",
     "shell.execute_reply": "2024-05-03T19:16:45.015798Z"
    },
    "papermill": {
     "duration": 3.125177,
     "end_time": "2024-05-03T19:16:45.018087",
     "exception": false,
     "start_time": "2024-05-03T19:16:41.892910",
     "status": "completed"
    },
    "tags": []
   },
   "outputs": [
    {
     "name": "stdout",
     "output_type": "stream",
     "text": [
      "Total matches in column ID: 0\n",
      "Total matches in column Customer_ID: 0\n",
      "Total matches in column Month: 0\n"
     ]
    },
    {
     "name": "stdout",
     "output_type": "stream",
     "text": [
      "Total matches in column Name: 0\n",
      "Total matches in column Age: 0\n",
      "Total matches in column SSN: 0\n"
     ]
    },
    {
     "name": "stdout",
     "output_type": "stream",
     "text": [
      "\u001b[43m\u001b[30m Matched values in column Occupation: 7062 times '_______' \u001b[0m\n",
      "Total matches in column Annual_Income: 0\n"
     ]
    },
    {
     "name": "stdout",
     "output_type": "stream",
     "text": [
      "Total matches in column Monthly_Inhand_Salary: 0\n",
      "Total matches in column Num_Bank_Accounts: 0\n",
      "Total matches in column Num_Credit_Card: 0\n"
     ]
    },
    {
     "name": "stdout",
     "output_type": "stream",
     "text": [
      "Total matches in column Interest_Rate: 0\n",
      "Total matches in column Num_of_Loan: 0\n"
     ]
    },
    {
     "name": "stdout",
     "output_type": "stream",
     "text": [
      "Total matches in column Type_of_Loan: 0\n",
      "Total matches in column Delay_from_due_date: 0\n",
      "Total matches in column Num_of_Delayed_Payment: 0\n"
     ]
    },
    {
     "name": "stdout",
     "output_type": "stream",
     "text": [
      "\u001b[43m\u001b[30m Matched values in column Changed_Credit_Limit: 2091 times '_' \u001b[0m\n",
      "Total matches in column Num_Credit_Inquiries: 0\n",
      "\u001b[43m\u001b[30m Matched values in column Credit_Mix: 20195 times '_' \u001b[0m\n"
     ]
    },
    {
     "name": "stdout",
     "output_type": "stream",
     "text": [
      "Total matches in column Outstanding_Debt: 0\n",
      "Total matches in column Credit_Utilization_Ratio: 0\n"
     ]
    },
    {
     "name": "stdout",
     "output_type": "stream",
     "text": [
      "Total matches in column Credit_History_Age: 0\n",
      "Total matches in column Payment_of_Min_Amount: 0\n"
     ]
    },
    {
     "name": "stdout",
     "output_type": "stream",
     "text": [
      "Total matches in column Total_EMI_per_month: 0\n",
      "Total matches in column Amount_invested_monthly: 0\n"
     ]
    },
    {
     "name": "stdout",
     "output_type": "stream",
     "text": [
      "Total matches in column Payment_Behaviour: 0\n",
      "Total matches in column Monthly_Balance: 0\n",
      "Total matches in column Credit_Score: 0\n",
      "\u001b[43m\u001b[30mTotal matches in dataframe: 29348 \u001b[0m\n"
     ]
    }
   ],
   "source": [
    "matched_re(df)"
   ]
  },
  {
   "cell_type": "code",
   "execution_count": 14,
   "id": "596a9abf",
   "metadata": {
    "ExecuteTime": {
     "end_time": "2024-04-24T22:02:42.125163Z",
     "start_time": "2024-04-24T22:02:41.990116Z"
    },
    "execution": {
     "iopub.execute_input": "2024-05-03T19:16:45.068300Z",
     "iopub.status.busy": "2024-05-03T19:16:45.068036Z",
     "iopub.status.idle": "2024-05-03T19:16:45.157020Z",
     "shell.execute_reply": "2024-05-03T19:16:45.156415Z"
    },
    "papermill": {
     "duration": 0.114696,
     "end_time": "2024-05-03T19:16:45.158671",
     "exception": false,
     "start_time": "2024-05-03T19:16:45.043975",
     "status": "completed"
    },
    "tags": []
   },
   "outputs": [
    {
     "data": {
      "text/plain": [
       "60071"
      ]
     },
     "execution_count": 14,
     "metadata": {},
     "output_type": "execute_result"
    }
   ],
   "source": [
    "df.isna().sum().sum() "
   ]
  },
  {
   "cell_type": "code",
   "execution_count": 15,
   "id": "1b0d95bd",
   "metadata": {
    "ExecuteTime": {
     "end_time": "2024-04-24T22:02:43.793541Z",
     "start_time": "2024-04-24T22:02:43.781078Z"
    },
    "execution": {
     "iopub.execute_input": "2024-05-03T19:16:45.206049Z",
     "iopub.status.busy": "2024-05-03T19:16:45.205791Z",
     "iopub.status.idle": "2024-05-03T19:16:45.210226Z",
     "shell.execute_reply": "2024-05-03T19:16:45.209607Z"
    },
    "papermill": {
     "duration": 0.030064,
     "end_time": "2024-05-03T19:16:45.211881",
     "exception": false,
     "start_time": "2024-05-03T19:16:45.181817",
     "status": "completed"
    },
    "tags": []
   },
   "outputs": [
    {
     "data": {
      "text/plain": [
       "89419"
      ]
     },
     "execution_count": 15,
     "metadata": {},
     "output_type": "execute_result"
    }
   ],
   "source": [
    "60071+29348"
   ]
  },
  {
   "cell_type": "markdown",
   "id": "d6d672a5",
   "metadata": {
    "papermill": {
     "duration": 0.02305,
     "end_time": "2024-05-03T19:16:45.258002",
     "exception": false,
     "start_time": "2024-05-03T19:16:45.234952",
     "status": "completed"
    },
    "tags": []
   },
   "source": [
    "#### *The total number of nulls is 60071 + 29348 = 89419 so many that we have a problem to overcome,first I will replace the values that are not entered and appear as underscores and similar symbols with NaN to make them easier to use.*"
   ]
  },
  {
   "cell_type": "code",
   "execution_count": 16,
   "id": "a4a23750",
   "metadata": {
    "ExecuteTime": {
     "end_time": "2024-04-24T22:02:47.440042Z",
     "start_time": "2024-04-24T22:02:47.279339Z"
    },
    "execution": {
     "iopub.execute_input": "2024-05-03T19:16:45.305662Z",
     "iopub.status.busy": "2024-05-03T19:16:45.305394Z",
     "iopub.status.idle": "2024-05-03T19:16:45.367994Z",
     "shell.execute_reply": "2024-05-03T19:16:45.367396Z"
    },
    "papermill": {
     "duration": 0.088263,
     "end_time": "2024-05-03T19:16:45.369560",
     "exception": false,
     "start_time": "2024-05-03T19:16:45.281297",
     "status": "completed"
    },
    "tags": []
   },
   "outputs": [
    {
     "data": {
      "text/html": [
       "<div>\n",
       "<style scoped>\n",
       "    .dataframe tbody tr th:only-of-type {\n",
       "        vertical-align: middle;\n",
       "    }\n",
       "\n",
       "    .dataframe tbody tr th {\n",
       "        vertical-align: top;\n",
       "    }\n",
       "\n",
       "    .dataframe thead th {\n",
       "        text-align: right;\n",
       "    }\n",
       "</style>\n",
       "<table border=\"1\" class=\"dataframe\">\n",
       "  <thead>\n",
       "    <tr style=\"text-align: right;\">\n",
       "      <th></th>\n",
       "      <th>ID</th>\n",
       "      <th>Customer_ID</th>\n",
       "      <th>Month</th>\n",
       "      <th>Name</th>\n",
       "      <th>Age</th>\n",
       "      <th>SSN</th>\n",
       "      <th>Occupation</th>\n",
       "      <th>Annual_Income</th>\n",
       "      <th>Monthly_Inhand_Salary</th>\n",
       "      <th>Num_Bank_Accounts</th>\n",
       "      <th>Num_Credit_Card</th>\n",
       "      <th>Interest_Rate</th>\n",
       "      <th>Num_of_Loan</th>\n",
       "      <th>Type_of_Loan</th>\n",
       "      <th>Delay_from_due_date</th>\n",
       "      <th>Num_of_Delayed_Payment</th>\n",
       "      <th>Changed_Credit_Limit</th>\n",
       "      <th>Num_Credit_Inquiries</th>\n",
       "      <th>Credit_Mix</th>\n",
       "      <th>Outstanding_Debt</th>\n",
       "      <th>Credit_Utilization_Ratio</th>\n",
       "      <th>Credit_History_Age</th>\n",
       "      <th>Payment_of_Min_Amount</th>\n",
       "      <th>Total_EMI_per_month</th>\n",
       "      <th>Amount_invested_monthly</th>\n",
       "      <th>Payment_Behaviour</th>\n",
       "      <th>Monthly_Balance</th>\n",
       "      <th>Credit_Score</th>\n",
       "    </tr>\n",
       "  </thead>\n",
       "  <tbody>\n",
       "    <tr>\n",
       "      <th>2</th>\n",
       "      <td>0x1604</td>\n",
       "      <td>CUS_0xd40</td>\n",
       "      <td>March</td>\n",
       "      <td>Aaron Maashoh</td>\n",
       "      <td>-500</td>\n",
       "      <td>821-00-0265</td>\n",
       "      <td>Scientist</td>\n",
       "      <td>19114.12</td>\n",
       "      <td>NaN</td>\n",
       "      <td>3</td>\n",
       "      <td>4</td>\n",
       "      <td>3</td>\n",
       "      <td>4</td>\n",
       "      <td>Auto Loan, Credit-Builder Loan, Personal Loan,...</td>\n",
       "      <td>3</td>\n",
       "      <td>7</td>\n",
       "      <td>_</td>\n",
       "      <td>4.000</td>\n",
       "      <td>Good</td>\n",
       "      <td>809.98</td>\n",
       "      <td>28.609</td>\n",
       "      <td>22 Years and 3 Months</td>\n",
       "      <td>No</td>\n",
       "      <td>49.575</td>\n",
       "      <td>81.699521264648</td>\n",
       "      <td>Low_spent_Medium_value_payments</td>\n",
       "      <td>331.2098628537912</td>\n",
       "      <td>Good</td>\n",
       "    </tr>\n",
       "    <tr>\n",
       "      <th>65</th>\n",
       "      <td>0x1663</td>\n",
       "      <td>CUS_0x4157</td>\n",
       "      <td>February</td>\n",
       "      <td>Charlie Zhur</td>\n",
       "      <td>23</td>\n",
       "      <td>070-19-1622</td>\n",
       "      <td>Doctor</td>\n",
       "      <td>114838.41</td>\n",
       "      <td>9843.868</td>\n",
       "      <td>2</td>\n",
       "      <td>5</td>\n",
       "      <td>7</td>\n",
       "      <td>3</td>\n",
       "      <td>Personal Loan, Debt Consolidation Loan, and Au...</td>\n",
       "      <td>14</td>\n",
       "      <td>8</td>\n",
       "      <td>_</td>\n",
       "      <td>3.000</td>\n",
       "      <td>Good</td>\n",
       "      <td>1377.74</td>\n",
       "      <td>27.626</td>\n",
       "      <td>21 Years and 5 Months</td>\n",
       "      <td>NM</td>\n",
       "      <td>226.893</td>\n",
       "      <td>212.23560220847847</td>\n",
       "      <td>High_spent_Large_value_payments</td>\n",
       "      <td>785.2583558699787</td>\n",
       "      <td>Good</td>\n",
       "    </tr>\n",
       "    <tr>\n",
       "      <th>66</th>\n",
       "      <td>0x1664</td>\n",
       "      <td>CUS_0x4157</td>\n",
       "      <td>March</td>\n",
       "      <td>Charlie Zhur</td>\n",
       "      <td>23</td>\n",
       "      <td>070-19-1622</td>\n",
       "      <td>Doctor</td>\n",
       "      <td>114838.41_</td>\n",
       "      <td>NaN</td>\n",
       "      <td>2</td>\n",
       "      <td>5</td>\n",
       "      <td>7</td>\n",
       "      <td>3</td>\n",
       "      <td>Personal Loan, Debt Consolidation Loan, and Au...</td>\n",
       "      <td>11</td>\n",
       "      <td>11</td>\n",
       "      <td>_</td>\n",
       "      <td>3.000</td>\n",
       "      <td>Good</td>\n",
       "      <td>1377.74</td>\n",
       "      <td>35.142</td>\n",
       "      <td>21 Years and 6 Months</td>\n",
       "      <td>NM</td>\n",
       "      <td>226.893</td>\n",
       "      <td>470.3857956796373</td>\n",
       "      <td>High_spent_Small_value_payments</td>\n",
       "      <td>547.1081623988198</td>\n",
       "      <td>Good</td>\n",
       "    </tr>\n",
       "  </tbody>\n",
       "</table>\n",
       "</div>"
      ],
      "text/plain": [
       "        ID Customer_ID     Month           Name   Age          SSN Occupation  \\\n",
       "2   0x1604   CUS_0xd40     March  Aaron Maashoh  -500  821-00-0265  Scientist   \n",
       "65  0x1663  CUS_0x4157  February   Charlie Zhur    23  070-19-1622     Doctor   \n",
       "66  0x1664  CUS_0x4157     March   Charlie Zhur    23  070-19-1622     Doctor   \n",
       "\n",
       "   Annual_Income  Monthly_Inhand_Salary  Num_Bank_Accounts  Num_Credit_Card  \\\n",
       "2       19114.12                    NaN                  3                4   \n",
       "65     114838.41               9843.868                  2                5   \n",
       "66    114838.41_                    NaN                  2                5   \n",
       "\n",
       "    Interest_Rate Num_of_Loan  \\\n",
       "2               3           4   \n",
       "65              7           3   \n",
       "66              7           3   \n",
       "\n",
       "                                         Type_of_Loan  Delay_from_due_date  \\\n",
       "2   Auto Loan, Credit-Builder Loan, Personal Loan,...                    3   \n",
       "65  Personal Loan, Debt Consolidation Loan, and Au...                   14   \n",
       "66  Personal Loan, Debt Consolidation Loan, and Au...                   11   \n",
       "\n",
       "   Num_of_Delayed_Payment Changed_Credit_Limit  Num_Credit_Inquiries  \\\n",
       "2                       7                    _                 4.000   \n",
       "65                      8                    _                 3.000   \n",
       "66                     11                    _                 3.000   \n",
       "\n",
       "   Credit_Mix Outstanding_Debt  Credit_Utilization_Ratio  \\\n",
       "2        Good           809.98                    28.609   \n",
       "65       Good          1377.74                    27.626   \n",
       "66       Good          1377.74                    35.142   \n",
       "\n",
       "       Credit_History_Age Payment_of_Min_Amount  Total_EMI_per_month  \\\n",
       "2   22 Years and 3 Months                    No               49.575   \n",
       "65  21 Years and 5 Months                    NM              226.893   \n",
       "66  21 Years and 6 Months                    NM              226.893   \n",
       "\n",
       "   Amount_invested_monthly                Payment_Behaviour  \\\n",
       "2          81.699521264648  Low_spent_Medium_value_payments   \n",
       "65      212.23560220847847  High_spent_Large_value_payments   \n",
       "66       470.3857956796373  High_spent_Small_value_payments   \n",
       "\n",
       "      Monthly_Balance Credit_Score  \n",
       "2   331.2098628537912         Good  \n",
       "65  785.2583558699787         Good  \n",
       "66  547.1081623988198         Good  "
      ]
     },
     "execution_count": 16,
     "metadata": {},
     "output_type": "execute_result"
    }
   ],
   "source": [
    "df.loc[(df[\"Changed_Credit_Limit\"].str.contains(pattern,regex=True)==True)].head(3)"
   ]
  },
  {
   "cell_type": "code",
   "execution_count": 17,
   "id": "2a4bc26f",
   "metadata": {
    "ExecuteTime": {
     "end_time": "2024-04-25T00:51:48.264756Z",
     "start_time": "2024-04-25T00:51:48.125045Z"
    },
    "execution": {
     "iopub.execute_input": "2024-05-03T19:16:45.417933Z",
     "iopub.status.busy": "2024-05-03T19:16:45.417656Z",
     "iopub.status.idle": "2024-05-03T19:16:45.463140Z",
     "shell.execute_reply": "2024-05-03T19:16:45.462500Z"
    },
    "papermill": {
     "duration": 0.071658,
     "end_time": "2024-05-03T19:16:45.464827",
     "exception": false,
     "start_time": "2024-05-03T19:16:45.393169",
     "status": "completed"
    },
    "tags": []
   },
   "outputs": [],
   "source": [
    "df.loc[(df[\"Changed_Credit_Limit\"].str.contains(pattern,regex=True)==True),\"Changed_Credit_Limit\"] = np.nan"
   ]
  },
  {
   "cell_type": "code",
   "execution_count": 18,
   "id": "99724a70",
   "metadata": {
    "ExecuteTime": {
     "end_time": "2024-04-25T00:51:50.689163Z",
     "start_time": "2024-04-25T00:51:50.541372Z"
    },
    "execution": {
     "iopub.execute_input": "2024-05-03T19:16:45.513281Z",
     "iopub.status.busy": "2024-05-03T19:16:45.513033Z",
     "iopub.status.idle": "2024-05-03T19:16:45.566938Z",
     "shell.execute_reply": "2024-05-03T19:16:45.566318Z"
    },
    "papermill": {
     "duration": 0.080446,
     "end_time": "2024-05-03T19:16:45.568531",
     "exception": false,
     "start_time": "2024-05-03T19:16:45.488085",
     "status": "completed"
    },
    "tags": []
   },
   "outputs": [
    {
     "data": {
      "text/plain": [
       "0"
      ]
     },
     "execution_count": 18,
     "metadata": {},
     "output_type": "execute_result"
    }
   ],
   "source": [
    "df.loc[(df[\"Changed_Credit_Limit\"].str.contains(pattern,regex=True)==True),\"Changed_Credit_Limit\"].count()"
   ]
  },
  {
   "cell_type": "code",
   "execution_count": 19,
   "id": "772a24f7",
   "metadata": {
    "ExecuteTime": {
     "end_time": "2024-04-25T00:51:53.171941Z",
     "start_time": "2024-04-25T00:51:53.142273Z"
    },
    "execution": {
     "iopub.execute_input": "2024-05-03T19:16:45.617072Z",
     "iopub.status.busy": "2024-05-03T19:16:45.616828Z",
     "iopub.status.idle": "2024-05-03T19:16:45.625572Z",
     "shell.execute_reply": "2024-05-03T19:16:45.624999Z"
    },
    "papermill": {
     "duration": 0.034785,
     "end_time": "2024-05-03T19:16:45.627129",
     "exception": false,
     "start_time": "2024-05-03T19:16:45.592344",
     "status": "completed"
    },
    "tags": []
   },
   "outputs": [
    {
     "data": {
      "text/plain": [
       "Occupation\n",
       "_______          7062\n",
       "Lawyer           6575\n",
       "Architect        6355\n",
       "Engineer         6350\n",
       "Scientist        6299\n",
       "Mechanic         6291\n",
       "Accountant       6271\n",
       "Developer        6235\n",
       "Media_Manager    6232\n",
       "Teacher          6215\n",
       "Entrepreneur     6174\n",
       "Doctor           6087\n",
       "Journalist       6085\n",
       "Manager          5973\n",
       "Musician         5911\n",
       "Writer           5885\n",
       "Name: count, dtype: int64"
      ]
     },
     "execution_count": 19,
     "metadata": {},
     "output_type": "execute_result"
    }
   ],
   "source": [
    "df.Occupation.value_counts(dropna=False)"
   ]
  },
  {
   "cell_type": "code",
   "execution_count": 20,
   "id": "9379c94e",
   "metadata": {
    "ExecuteTime": {
     "end_time": "2024-04-25T00:51:57.398357Z",
     "start_time": "2024-04-25T00:51:57.364107Z"
    },
    "execution": {
     "iopub.execute_input": "2024-05-03T19:16:45.685274Z",
     "iopub.status.busy": "2024-05-03T19:16:45.685031Z",
     "iopub.status.idle": "2024-05-03T19:16:45.696173Z",
     "shell.execute_reply": "2024-05-03T19:16:45.695544Z"
    },
    "papermill": {
     "duration": 0.046488,
     "end_time": "2024-05-03T19:16:45.697734",
     "exception": false,
     "start_time": "2024-05-03T19:16:45.651246",
     "status": "completed"
    },
    "tags": []
   },
   "outputs": [
    {
     "name": "stdout",
     "output_type": "stream",
     "text": [
      "Matched value: _______\n",
      "Unmatched value: Lawyer\n",
      "Unmatched value: Architect\n",
      "Unmatched value: Engineer\n",
      "Unmatched value: Scientist\n",
      "Unmatched value: Mechanic\n",
      "Unmatched value: Accountant\n",
      "Unmatched value: Developer\n",
      "Unmatched value: Media_Manager\n",
      "Unmatched value: Teacher\n",
      "Unmatched value: Entrepreneur\n",
      "Unmatched value: Doctor\n",
      "Unmatched value: Journalist\n",
      "Unmatched value: Manager\n",
      "Unmatched value: Musician\n",
      "Unmatched value: Writer\n"
     ]
    }
   ],
   "source": [
    "# Again for checking if the created pattern matches in only Occupation feature\n",
    "\n",
    "for text in df.Occupation.value_counts().index:\n",
    "    if re.search(pattern, text):\n",
    "        print(\"Matched value:\", text)\n",
    "    else:\n",
    "        print(\"Unmatched value:\", text)"
   ]
  },
  {
   "cell_type": "code",
   "execution_count": 21,
   "id": "f1af058c",
   "metadata": {
    "ExecuteTime": {
     "end_time": "2024-04-25T00:53:20.852870Z",
     "start_time": "2024-04-25T00:53:20.716830Z"
    },
    "execution": {
     "iopub.execute_input": "2024-05-03T19:16:45.747726Z",
     "iopub.status.busy": "2024-05-03T19:16:45.747152Z",
     "iopub.status.idle": "2024-05-03T19:16:45.804800Z",
     "shell.execute_reply": "2024-05-03T19:16:45.804197Z"
    },
    "papermill": {
     "duration": 0.08494,
     "end_time": "2024-05-03T19:16:45.806533",
     "exception": false,
     "start_time": "2024-05-03T19:16:45.721593",
     "status": "completed"
    },
    "tags": []
   },
   "outputs": [],
   "source": [
    "df['Occupation'] = df['Occupation'].replace(pattern,np.nan, regex=True)"
   ]
  },
  {
   "cell_type": "code",
   "execution_count": 22,
   "id": "8f68af0a",
   "metadata": {
    "ExecuteTime": {
     "end_time": "2024-04-25T00:53:22.919777Z",
     "start_time": "2024-04-25T00:53:22.896756Z"
    },
    "execution": {
     "iopub.execute_input": "2024-05-03T19:16:45.855244Z",
     "iopub.status.busy": "2024-05-03T19:16:45.855017Z",
     "iopub.status.idle": "2024-05-03T19:16:45.863434Z",
     "shell.execute_reply": "2024-05-03T19:16:45.862897Z"
    },
    "papermill": {
     "duration": 0.035015,
     "end_time": "2024-05-03T19:16:45.865053",
     "exception": false,
     "start_time": "2024-05-03T19:16:45.830038",
     "status": "completed"
    },
    "tags": []
   },
   "outputs": [
    {
     "data": {
      "text/plain": [
       "Occupation\n",
       "NaN              7062\n",
       "Lawyer           6575\n",
       "Architect        6355\n",
       "Engineer         6350\n",
       "Scientist        6299\n",
       "Mechanic         6291\n",
       "Accountant       6271\n",
       "Developer        6235\n",
       "Media_Manager    6232\n",
       "Teacher          6215\n",
       "Entrepreneur     6174\n",
       "Doctor           6087\n",
       "Journalist       6085\n",
       "Manager          5973\n",
       "Musician         5911\n",
       "Writer           5885\n",
       "Name: count, dtype: int64"
      ]
     },
     "execution_count": 22,
     "metadata": {},
     "output_type": "execute_result"
    }
   ],
   "source": [
    "df.Occupation.value_counts(dropna=False)"
   ]
  },
  {
   "cell_type": "code",
   "execution_count": 23,
   "id": "4e9c9790",
   "metadata": {
    "ExecuteTime": {
     "end_time": "2024-04-25T00:53:29.380832Z",
     "start_time": "2024-04-25T00:53:29.360398Z"
    },
    "execution": {
     "iopub.execute_input": "2024-05-03T19:16:45.913935Z",
     "iopub.status.busy": "2024-05-03T19:16:45.913709Z",
     "iopub.status.idle": "2024-05-03T19:16:45.922148Z",
     "shell.execute_reply": "2024-05-03T19:16:45.921455Z"
    },
    "papermill": {
     "duration": 0.034979,
     "end_time": "2024-05-03T19:16:45.923675",
     "exception": false,
     "start_time": "2024-05-03T19:16:45.888696",
     "status": "completed"
    },
    "tags": []
   },
   "outputs": [
    {
     "data": {
      "text/plain": [
       "Credit_Mix\n",
       "Standard    36479\n",
       "Good        24337\n",
       "_           20195\n",
       "Bad         18989\n",
       "Name: count, dtype: int64"
      ]
     },
     "execution_count": 23,
     "metadata": {},
     "output_type": "execute_result"
    }
   ],
   "source": [
    "df['Credit_Mix'].value_counts(dropna=False)"
   ]
  },
  {
   "cell_type": "code",
   "execution_count": 24,
   "id": "3da6a20f",
   "metadata": {
    "ExecuteTime": {
     "end_time": "2024-04-25T00:53:32.208848Z",
     "start_time": "2024-04-25T00:53:32.076676Z"
    },
    "execution": {
     "iopub.execute_input": "2024-05-03T19:16:45.972859Z",
     "iopub.status.busy": "2024-05-03T19:16:45.972621Z",
     "iopub.status.idle": "2024-05-03T19:16:46.026914Z",
     "shell.execute_reply": "2024-05-03T19:16:46.026288Z"
    },
    "papermill": {
     "duration": 0.08119,
     "end_time": "2024-05-03T19:16:46.028667",
     "exception": false,
     "start_time": "2024-05-03T19:16:45.947477",
     "status": "completed"
    },
    "tags": []
   },
   "outputs": [],
   "source": [
    "df['Credit_Mix'] = df['Credit_Mix'].replace(pattern,np.nan, regex=True)"
   ]
  },
  {
   "cell_type": "code",
   "execution_count": 25,
   "id": "52516dd5",
   "metadata": {
    "ExecuteTime": {
     "end_time": "2024-04-25T00:53:36.680547Z",
     "start_time": "2024-04-25T00:53:36.660586Z"
    },
    "execution": {
     "iopub.execute_input": "2024-05-03T19:16:46.077861Z",
     "iopub.status.busy": "2024-05-03T19:16:46.077630Z",
     "iopub.status.idle": "2024-05-03T19:16:46.085940Z",
     "shell.execute_reply": "2024-05-03T19:16:46.085392Z"
    },
    "papermill": {
     "duration": 0.034623,
     "end_time": "2024-05-03T19:16:46.087472",
     "exception": false,
     "start_time": "2024-05-03T19:16:46.052849",
     "status": "completed"
    },
    "tags": []
   },
   "outputs": [
    {
     "data": {
      "text/plain": [
       "Credit_Mix\n",
       "Standard    36479\n",
       "Good        24337\n",
       "NaN         20195\n",
       "Bad         18989\n",
       "Name: count, dtype: int64"
      ]
     },
     "execution_count": 25,
     "metadata": {},
     "output_type": "execute_result"
    }
   ],
   "source": [
    "df['Credit_Mix'].value_counts(dropna=False)"
   ]
  },
  {
   "cell_type": "code",
   "execution_count": 26,
   "id": "4f070f0f",
   "metadata": {
    "ExecuteTime": {
     "end_time": "2024-04-25T00:53:47.825223Z",
     "start_time": "2024-04-25T00:53:40.587318Z"
    },
    "execution": {
     "iopub.execute_input": "2024-05-03T19:16:46.137067Z",
     "iopub.status.busy": "2024-05-03T19:16:46.136839Z",
     "iopub.status.idle": "2024-05-03T19:16:49.239768Z",
     "shell.execute_reply": "2024-05-03T19:16:49.239046Z"
    },
    "papermill": {
     "duration": 3.129956,
     "end_time": "2024-05-03T19:16:49.241652",
     "exception": false,
     "start_time": "2024-05-03T19:16:46.111696",
     "status": "completed"
    },
    "tags": []
   },
   "outputs": [
    {
     "name": "stdout",
     "output_type": "stream",
     "text": [
      "Total matches in column ID: 0\n",
      "Total matches in column Customer_ID: 0\n",
      "Total matches in column Month: 0\n"
     ]
    },
    {
     "name": "stdout",
     "output_type": "stream",
     "text": [
      "Total matches in column Name: 0\n",
      "Total matches in column Age: 0\n",
      "Total matches in column SSN: 0\n"
     ]
    },
    {
     "name": "stdout",
     "output_type": "stream",
     "text": [
      "Total matches in column Occupation: 0\n",
      "Total matches in column Annual_Income: 0\n"
     ]
    },
    {
     "name": "stdout",
     "output_type": "stream",
     "text": [
      "Total matches in column Monthly_Inhand_Salary: 0\n",
      "Total matches in column Num_Bank_Accounts: 0\n",
      "Total matches in column Num_Credit_Card: 0\n"
     ]
    },
    {
     "name": "stdout",
     "output_type": "stream",
     "text": [
      "Total matches in column Interest_Rate: 0\n",
      "Total matches in column Num_of_Loan: 0\n"
     ]
    },
    {
     "name": "stdout",
     "output_type": "stream",
     "text": [
      "Total matches in column Type_of_Loan: 0\n",
      "Total matches in column Delay_from_due_date: 0\n",
      "Total matches in column Num_of_Delayed_Payment: 0\n"
     ]
    },
    {
     "name": "stdout",
     "output_type": "stream",
     "text": [
      "Total matches in column Changed_Credit_Limit: 0\n",
      "Total matches in column Num_Credit_Inquiries: 0\n",
      "Total matches in column Credit_Mix: 0\n"
     ]
    },
    {
     "name": "stdout",
     "output_type": "stream",
     "text": [
      "Total matches in column Outstanding_Debt: 0\n",
      "Total matches in column Credit_Utilization_Ratio: 0\n"
     ]
    },
    {
     "name": "stdout",
     "output_type": "stream",
     "text": [
      "Total matches in column Credit_History_Age: 0\n",
      "Total matches in column Payment_of_Min_Amount: 0\n"
     ]
    },
    {
     "name": "stdout",
     "output_type": "stream",
     "text": [
      "Total matches in column Total_EMI_per_month: 0\n",
      "Total matches in column Amount_invested_monthly: 0\n"
     ]
    },
    {
     "name": "stdout",
     "output_type": "stream",
     "text": [
      "Total matches in column Payment_Behaviour: 0\n",
      "Total matches in column Monthly_Balance: 0\n",
      "Total matches in column Credit_Score: 0\n",
      "\u001b[43m\u001b[30mTotal matches in dataframe: 0 \u001b[0m\n"
     ]
    }
   ],
   "source": [
    "matched_re(df) # let's double check all dataframe for empty value"
   ]
  },
  {
   "cell_type": "code",
   "execution_count": 27,
   "id": "e26112a9",
   "metadata": {
    "ExecuteTime": {
     "end_time": "2024-04-24T23:04:10.576130Z",
     "start_time": "2024-04-24T23:04:10.444651Z"
    },
    "execution": {
     "iopub.execute_input": "2024-05-03T19:16:49.296203Z",
     "iopub.status.busy": "2024-05-03T19:16:49.295926Z",
     "iopub.status.idle": "2024-05-03T19:16:49.388245Z",
     "shell.execute_reply": "2024-05-03T19:16:49.387485Z"
    },
    "papermill": {
     "duration": 0.120694,
     "end_time": "2024-05-03T19:16:49.389980",
     "exception": false,
     "start_time": "2024-05-03T19:16:49.269286",
     "status": "completed"
    },
    "tags": []
   },
   "outputs": [
    {
     "data": {
      "text/plain": [
       "ID                              0\n",
       "Customer_ID                     0\n",
       "Month                           0\n",
       "Name                         9985\n",
       "Age                             0\n",
       "SSN                             0\n",
       "Occupation                   7062\n",
       "Annual_Income                   0\n",
       "Monthly_Inhand_Salary       15002\n",
       "Num_Bank_Accounts               0\n",
       "Num_Credit_Card                 0\n",
       "Interest_Rate                   0\n",
       "Num_of_Loan                     0\n",
       "Type_of_Loan                11408\n",
       "Delay_from_due_date             0\n",
       "Num_of_Delayed_Payment       7002\n",
       "Changed_Credit_Limit         2091\n",
       "Num_Credit_Inquiries         1965\n",
       "Credit_Mix                  20195\n",
       "Outstanding_Debt                0\n",
       "Credit_Utilization_Ratio        0\n",
       "Credit_History_Age           9030\n",
       "Payment_of_Min_Amount           0\n",
       "Total_EMI_per_month             0\n",
       "Amount_invested_monthly      4479\n",
       "Payment_Behaviour               0\n",
       "Monthly_Balance              1200\n",
       "Credit_Score                    0\n",
       "dtype: int64"
      ]
     },
     "execution_count": 27,
     "metadata": {},
     "output_type": "execute_result"
    }
   ],
   "source": [
    "df.isna().sum()"
   ]
  },
  {
   "cell_type": "code",
   "execution_count": 28,
   "id": "fafa15e7",
   "metadata": {
    "ExecuteTime": {
     "end_time": "2024-04-25T00:53:56.274471Z",
     "start_time": "2024-04-25T00:53:56.260723Z"
    },
    "execution": {
     "iopub.execute_input": "2024-05-03T19:16:49.443156Z",
     "iopub.status.busy": "2024-05-03T19:16:49.442858Z",
     "iopub.status.idle": "2024-05-03T19:16:49.448403Z",
     "shell.execute_reply": "2024-05-03T19:16:49.447796Z"
    },
    "papermill": {
     "duration": 0.033787,
     "end_time": "2024-05-03T19:16:49.449880",
     "exception": false,
     "start_time": "2024-05-03T19:16:49.416093",
     "status": "completed"
    },
    "tags": []
   },
   "outputs": [
    {
     "data": {
      "text/plain": [
       "Index(['id', 'customer_id', 'month', 'name', 'age', 'ssn', 'occupation',\n",
       "       'annual_income', 'monthly_inhand_salary', 'num_bank_accounts',\n",
       "       'num_credit_card', 'interest_rate', 'num_of_loan', 'type_of_loan',\n",
       "       'delay_from_due_date', 'num_of_delayed_payment', 'changed_credit_limit',\n",
       "       'num_credit_inquiries', 'credit_mix', 'outstanding_debt',\n",
       "       'credit_utilization_ratio', 'credit_history_age',\n",
       "       'payment_of_min_amount', 'total_emi_per_month',\n",
       "       'amount_invested_monthly', 'payment_behaviour', 'monthly_balance',\n",
       "       'credit_score'],\n",
       "      dtype='object')"
      ]
     },
     "execution_count": 28,
     "metadata": {},
     "output_type": "execute_result"
    }
   ],
   "source": [
    "df.columns = df.columns.str.lower()\n",
    "df.columns"
   ]
  },
  {
   "cell_type": "code",
   "execution_count": 29,
   "id": "edeb8704",
   "metadata": {
    "ExecuteTime": {
     "end_time": "2024-04-25T00:54:00.982292Z",
     "start_time": "2024-04-25T00:54:00.972195Z"
    },
    "execution": {
     "iopub.execute_input": "2024-05-03T19:16:49.502583Z",
     "iopub.status.busy": "2024-05-03T19:16:49.502263Z",
     "iopub.status.idle": "2024-05-03T19:16:49.506540Z",
     "shell.execute_reply": "2024-05-03T19:16:49.505973Z"
    },
    "papermill": {
     "duration": 0.032525,
     "end_time": "2024-05-03T19:16:49.508124",
     "exception": false,
     "start_time": "2024-05-03T19:16:49.475599",
     "status": "completed"
    },
    "tags": []
   },
   "outputs": [
    {
     "data": {
      "text/plain": [
       "(100000, 28)"
      ]
     },
     "execution_count": 29,
     "metadata": {},
     "output_type": "execute_result"
    }
   ],
   "source": [
    "df.shape"
   ]
  },
  {
   "cell_type": "code",
   "execution_count": 30,
   "id": "70104230",
   "metadata": {
    "ExecuteTime": {
     "end_time": "2024-04-25T00:54:13.900514Z",
     "start_time": "2024-04-25T00:54:13.695538Z"
    },
    "execution": {
     "iopub.execute_input": "2024-05-03T19:16:49.559797Z",
     "iopub.status.busy": "2024-05-03T19:16:49.559538Z",
     "iopub.status.idle": "2024-05-03T19:16:49.695136Z",
     "shell.execute_reply": "2024-05-03T19:16:49.694536Z"
    },
    "papermill": {
     "duration": 0.163161,
     "end_time": "2024-05-03T19:16:49.696700",
     "exception": false,
     "start_time": "2024-05-03T19:16:49.533539",
     "status": "completed"
    },
    "tags": []
   },
   "outputs": [
    {
     "data": {
      "text/plain": [
       "credit_mix                 20195\n",
       "monthly_inhand_salary      15002\n",
       "type_of_loan               11408\n",
       "name                        9985\n",
       "credit_history_age          9030\n",
       "occupation                  7062\n",
       "num_of_delayed_payment      7002\n",
       "amount_invested_monthly     4479\n",
       "changed_credit_limit        2091\n",
       "num_credit_inquiries        1965\n",
       "monthly_balance             1200\n",
       "dtype: int64"
      ]
     },
     "execution_count": 30,
     "metadata": {},
     "output_type": "execute_result"
    }
   ],
   "source": [
    "null_columns = df.columns[df.isnull().any()]\n",
    "df[null_columns].isnull().sum().sort_values(ascending=False)"
   ]
  },
  {
   "cell_type": "code",
   "execution_count": 31,
   "id": "abb9413c",
   "metadata": {
    "ExecuteTime": {
     "end_time": "2024-04-25T00:54:17.899305Z",
     "start_time": "2024-04-25T00:54:17.878284Z"
    },
    "execution": {
     "iopub.execute_input": "2024-05-03T19:16:49.748715Z",
     "iopub.status.busy": "2024-05-03T19:16:49.748447Z",
     "iopub.status.idle": "2024-05-03T19:16:49.757012Z",
     "shell.execute_reply": "2024-05-03T19:16:49.756441Z"
    },
    "papermill": {
     "duration": 0.036364,
     "end_time": "2024-05-03T19:16:49.758624",
     "exception": false,
     "start_time": "2024-05-03T19:16:49.722260",
     "status": "completed"
    },
    "tags": []
   },
   "outputs": [
    {
     "data": {
      "text/plain": [
       "credit_mix\n",
       "Standard    36479\n",
       "Good        24337\n",
       "NaN         20195\n",
       "Bad         18989\n",
       "Name: count, dtype: int64"
      ]
     },
     "execution_count": 31,
     "metadata": {},
     "output_type": "execute_result"
    }
   ],
   "source": [
    "df[\"credit_mix\"].value_counts(dropna=False)"
   ]
  },
  {
   "cell_type": "code",
   "execution_count": 32,
   "id": "3d54c4eb",
   "metadata": {
    "ExecuteTime": {
     "end_time": "2024-04-25T00:54:22.038229Z",
     "start_time": "2024-04-25T00:54:21.958068Z"
    },
    "execution": {
     "iopub.execute_input": "2024-05-03T19:16:49.811316Z",
     "iopub.status.busy": "2024-05-03T19:16:49.811041Z",
     "iopub.status.idle": "2024-05-03T19:16:49.838353Z",
     "shell.execute_reply": "2024-05-03T19:16:49.837807Z"
    },
    "papermill": {
     "duration": 0.055686,
     "end_time": "2024-05-03T19:16:49.840006",
     "exception": false,
     "start_time": "2024-05-03T19:16:49.784320",
     "status": "completed"
    },
    "tags": []
   },
   "outputs": [
    {
     "data": {
      "text/plain": [
       "credit_mix                 20195\n",
       "monthly_inhand_salary       3042\n",
       "type_of_loan                2408\n",
       "name                        2028\n",
       "credit_history_age          1824\n",
       "occupation                  1421\n",
       "num_of_delayed_payment      1388\n",
       "amount_invested_monthly      861\n",
       "changed_credit_limit         406\n",
       "num_credit_inquiries         396\n",
       "monthly_balance              236\n",
       "dtype: int64"
      ]
     },
     "execution_count": 32,
     "metadata": {},
     "output_type": "execute_result"
    }
   ],
   "source": [
    "df[df[\"credit_mix\"].isna()][null_columns].isna().sum().sort_values(ascending=False)"
   ]
  },
  {
   "cell_type": "markdown",
   "id": "bf21f39e",
   "metadata": {
    "papermill": {
     "duration": 0.025372,
     "end_time": "2024-05-03T19:16:49.891281",
     "exception": false,
     "start_time": "2024-05-03T19:16:49.865909",
     "status": "completed"
    },
    "tags": []
   },
   "source": [
    "#### *Based on the above output, we can say that the values in 10 columns are missing for 236 rows in the data set.*"
   ]
  },
  {
   "cell_type": "markdown",
   "id": "264916aa",
   "metadata": {
    "papermill": {
     "duration": 0.025615,
     "end_time": "2024-05-03T19:16:49.942263",
     "exception": false,
     "start_time": "2024-05-03T19:16:49.916648",
     "status": "completed"
    },
    "tags": []
   },
   "source": [
    "#### ***The codes below are to investigate whether I can benefit from the information in other columns on how to fill in the missing data.***"
   ]
  },
  {
   "cell_type": "code",
   "execution_count": 33,
   "id": "3bc67ddf",
   "metadata": {
    "ExecuteTime": {
     "end_time": "2024-04-25T00:54:25.311117Z",
     "start_time": "2024-04-25T00:54:25.220047Z"
    },
    "execution": {
     "iopub.execute_input": "2024-05-03T19:16:49.995074Z",
     "iopub.status.busy": "2024-05-03T19:16:49.994775Z",
     "iopub.status.idle": "2024-05-03T19:16:50.044343Z",
     "shell.execute_reply": "2024-05-03T19:16:50.043716Z"
    },
    "papermill": {
     "duration": 0.078444,
     "end_time": "2024-05-03T19:16:50.046043",
     "exception": false,
     "start_time": "2024-05-03T19:16:49.967599",
     "status": "completed"
    },
    "tags": []
   },
   "outputs": [],
   "source": [
    "indices = df[null_columns].isnull().sum().sort_values(ascending=False).index"
   ]
  },
  {
   "cell_type": "code",
   "execution_count": 34,
   "id": "8544639d",
   "metadata": {
    "ExecuteTime": {
     "end_time": "2024-04-25T00:54:28.687973Z",
     "start_time": "2024-04-25T00:54:28.529930Z"
    },
    "execution": {
     "iopub.execute_input": "2024-05-03T19:16:50.098185Z",
     "iopub.status.busy": "2024-05-03T19:16:50.097928Z",
     "iopub.status.idle": "2024-05-03T19:16:50.172797Z",
     "shell.execute_reply": "2024-05-03T19:16:50.172084Z"
    },
    "papermill": {
     "duration": 0.102947,
     "end_time": "2024-05-03T19:16:50.174337",
     "exception": false,
     "start_time": "2024-05-03T19:16:50.071390",
     "status": "completed"
    },
    "tags": []
   },
   "outputs": [
    {
     "data": {
      "text/html": [
       "<div>\n",
       "<style scoped>\n",
       "    .dataframe tbody tr th:only-of-type {\n",
       "        vertical-align: middle;\n",
       "    }\n",
       "\n",
       "    .dataframe tbody tr th {\n",
       "        vertical-align: top;\n",
       "    }\n",
       "\n",
       "    .dataframe thead th {\n",
       "        text-align: right;\n",
       "    }\n",
       "</style>\n",
       "<table border=\"1\" class=\"dataframe\">\n",
       "  <thead>\n",
       "    <tr style=\"text-align: right;\">\n",
       "      <th></th>\n",
       "      <th>total_null_count</th>\n",
       "      <th>based_on_credit_mix</th>\n",
       "      <th>rate</th>\n",
       "    </tr>\n",
       "  </thead>\n",
       "  <tbody>\n",
       "    <tr>\n",
       "      <th>credit_mix</th>\n",
       "      <td>20195</td>\n",
       "      <td>20195</td>\n",
       "      <td>1.000</td>\n",
       "    </tr>\n",
       "    <tr>\n",
       "      <th>monthly_inhand_salary</th>\n",
       "      <td>15002</td>\n",
       "      <td>3042</td>\n",
       "      <td>0.203</td>\n",
       "    </tr>\n",
       "    <tr>\n",
       "      <th>type_of_loan</th>\n",
       "      <td>11408</td>\n",
       "      <td>2408</td>\n",
       "      <td>0.211</td>\n",
       "    </tr>\n",
       "    <tr>\n",
       "      <th>name</th>\n",
       "      <td>9985</td>\n",
       "      <td>2028</td>\n",
       "      <td>0.203</td>\n",
       "    </tr>\n",
       "    <tr>\n",
       "      <th>credit_history_age</th>\n",
       "      <td>9030</td>\n",
       "      <td>1824</td>\n",
       "      <td>0.202</td>\n",
       "    </tr>\n",
       "    <tr>\n",
       "      <th>occupation</th>\n",
       "      <td>7062</td>\n",
       "      <td>1421</td>\n",
       "      <td>0.201</td>\n",
       "    </tr>\n",
       "    <tr>\n",
       "      <th>num_of_delayed_payment</th>\n",
       "      <td>7002</td>\n",
       "      <td>1388</td>\n",
       "      <td>0.198</td>\n",
       "    </tr>\n",
       "    <tr>\n",
       "      <th>amount_invested_monthly</th>\n",
       "      <td>4479</td>\n",
       "      <td>861</td>\n",
       "      <td>0.192</td>\n",
       "    </tr>\n",
       "    <tr>\n",
       "      <th>changed_credit_limit</th>\n",
       "      <td>2091</td>\n",
       "      <td>406</td>\n",
       "      <td>0.194</td>\n",
       "    </tr>\n",
       "    <tr>\n",
       "      <th>num_credit_inquiries</th>\n",
       "      <td>1965</td>\n",
       "      <td>396</td>\n",
       "      <td>0.202</td>\n",
       "    </tr>\n",
       "    <tr>\n",
       "      <th>monthly_balance</th>\n",
       "      <td>1200</td>\n",
       "      <td>236</td>\n",
       "      <td>0.197</td>\n",
       "    </tr>\n",
       "  </tbody>\n",
       "</table>\n",
       "</div>"
      ],
      "text/plain": [
       "                         total_null_count  based_on_credit_mix  rate\n",
       "credit_mix                          20195                20195 1.000\n",
       "monthly_inhand_salary               15002                 3042 0.203\n",
       "type_of_loan                        11408                 2408 0.211\n",
       "name                                 9985                 2028 0.203\n",
       "credit_history_age                   9030                 1824 0.202\n",
       "occupation                           7062                 1421 0.201\n",
       "num_of_delayed_payment               7002                 1388 0.198\n",
       "amount_invested_monthly              4479                  861 0.192\n",
       "changed_credit_limit                 2091                  406 0.194\n",
       "num_credit_inquiries                 1965                  396 0.202\n",
       "monthly_balance                      1200                  236 0.197"
      ]
     },
     "execution_count": 34,
     "metadata": {},
     "output_type": "execute_result"
    }
   ],
   "source": [
    "col_total = df[null_columns].isnull().sum().sort_values(ascending=False).values.tolist()\n",
    "based_on_cr_mix =df[df[\"credit_mix\"].isna()][null_columns].isna().sum().sort_values(ascending=False).values.tolist()\n",
    "rate = []\n",
    "for i,j in zip(col_total,based_on_cr_mix):\n",
    "    rate_of_missing = j/i\n",
    "    rate.append(rate_of_missing)\n",
    "missing_data = pd.DataFrame({\"total_null_count\": col_total, \"based_on_credit_mix\": based_on_cr_mix, \"rate\": rate},index=indices)\n",
    "\n",
    "missing_data"
   ]
  },
  {
   "cell_type": "code",
   "execution_count": 35,
   "id": "549c0fed",
   "metadata": {
    "ExecuteTime": {
     "end_time": "2024-04-25T00:54:48.735054Z",
     "start_time": "2024-04-25T00:54:48.692783Z"
    },
    "execution": {
     "iopub.execute_input": "2024-05-03T19:16:50.227309Z",
     "iopub.status.busy": "2024-05-03T19:16:50.227016Z",
     "iopub.status.idle": "2024-05-03T19:16:50.235894Z",
     "shell.execute_reply": "2024-05-03T19:16:50.235317Z"
    },
    "papermill": {
     "duration": 0.037679,
     "end_time": "2024-05-03T19:16:50.237473",
     "exception": false,
     "start_time": "2024-05-03T19:16:50.199794",
     "status": "completed"
    },
    "tags": []
   },
   "outputs": [
    {
     "data": {
      "text/plain": [
       "20195"
      ]
     },
     "execution_count": 35,
     "metadata": {},
     "output_type": "execute_result"
    }
   ],
   "source": [
    "df[\"credit_mix\"].isna().sum()"
   ]
  },
  {
   "cell_type": "code",
   "execution_count": 36,
   "id": "46ba865e",
   "metadata": {
    "ExecuteTime": {
     "end_time": "2024-04-25T00:55:08.990238Z",
     "start_time": "2024-04-25T00:55:08.924852Z"
    },
    "execution": {
     "iopub.execute_input": "2024-05-03T19:16:50.290534Z",
     "iopub.status.busy": "2024-05-03T19:16:50.290239Z",
     "iopub.status.idle": "2024-05-03T19:16:50.316278Z",
     "shell.execute_reply": "2024-05-03T19:16:50.315714Z"
    },
    "papermill": {
     "duration": 0.054338,
     "end_time": "2024-05-03T19:16:50.317787",
     "exception": false,
     "start_time": "2024-05-03T19:16:50.263449",
     "status": "completed"
    },
    "tags": []
   },
   "outputs": [
    {
     "data": {
      "text/html": [
       "<div>\n",
       "<style scoped>\n",
       "    .dataframe tbody tr th:only-of-type {\n",
       "        vertical-align: middle;\n",
       "    }\n",
       "\n",
       "    .dataframe tbody tr th {\n",
       "        vertical-align: top;\n",
       "    }\n",
       "\n",
       "    .dataframe thead th {\n",
       "        text-align: right;\n",
       "    }\n",
       "</style>\n",
       "<table border=\"1\" class=\"dataframe\">\n",
       "  <thead>\n",
       "    <tr style=\"text-align: right;\">\n",
       "      <th></th>\n",
       "      <th>id</th>\n",
       "      <th>customer_id</th>\n",
       "      <th>month</th>\n",
       "      <th>name</th>\n",
       "      <th>age</th>\n",
       "      <th>ssn</th>\n",
       "      <th>occupation</th>\n",
       "      <th>annual_income</th>\n",
       "      <th>monthly_inhand_salary</th>\n",
       "      <th>num_bank_accounts</th>\n",
       "      <th>num_credit_card</th>\n",
       "      <th>interest_rate</th>\n",
       "      <th>num_of_loan</th>\n",
       "      <th>type_of_loan</th>\n",
       "      <th>delay_from_due_date</th>\n",
       "      <th>num_of_delayed_payment</th>\n",
       "      <th>changed_credit_limit</th>\n",
       "      <th>num_credit_inquiries</th>\n",
       "      <th>credit_mix</th>\n",
       "      <th>outstanding_debt</th>\n",
       "      <th>credit_utilization_ratio</th>\n",
       "      <th>credit_history_age</th>\n",
       "      <th>payment_of_min_amount</th>\n",
       "      <th>total_emi_per_month</th>\n",
       "      <th>amount_invested_monthly</th>\n",
       "      <th>payment_behaviour</th>\n",
       "      <th>monthly_balance</th>\n",
       "      <th>credit_score</th>\n",
       "    </tr>\n",
       "  </thead>\n",
       "  <tbody>\n",
       "    <tr>\n",
       "      <th>25456</th>\n",
       "      <td>0xab2a</td>\n",
       "      <td>CUS_0x10fd</td>\n",
       "      <td>January</td>\n",
       "      <td>Hendersonu</td>\n",
       "      <td>29</td>\n",
       "      <td>119-33-7350</td>\n",
       "      <td>NaN</td>\n",
       "      <td>39576.59</td>\n",
       "      <td>3199.049</td>\n",
       "      <td>0</td>\n",
       "      <td>7</td>\n",
       "      <td>2</td>\n",
       "      <td>4</td>\n",
       "      <td>Personal Loan, Mortgage Loan, Home Equity Loan...</td>\n",
       "      <td>18</td>\n",
       "      <td>NaN</td>\n",
       "      <td>4.62</td>\n",
       "      <td>1.000</td>\n",
       "      <td>Good</td>\n",
       "      <td>226.37</td>\n",
       "      <td>23.086</td>\n",
       "      <td>19 Years and 4 Months</td>\n",
       "      <td>No</td>\n",
       "      <td>124.311</td>\n",
       "      <td>52.588915433114344</td>\n",
       "      <td>High_spent_Large_value_payments</td>\n",
       "      <td>383.0051621399922</td>\n",
       "      <td>Poor</td>\n",
       "    </tr>\n",
       "    <tr>\n",
       "      <th>25457</th>\n",
       "      <td>0xab2b</td>\n",
       "      <td>CUS_0x10fd</td>\n",
       "      <td>February</td>\n",
       "      <td>Hendersonu</td>\n",
       "      <td>29</td>\n",
       "      <td>119-33-7350</td>\n",
       "      <td>Developer</td>\n",
       "      <td>39576.59_</td>\n",
       "      <td>3199.049</td>\n",
       "      <td>0</td>\n",
       "      <td>7</td>\n",
       "      <td>2</td>\n",
       "      <td>4_</td>\n",
       "      <td>Personal Loan, Mortgage Loan, Home Equity Loan...</td>\n",
       "      <td>14</td>\n",
       "      <td>4</td>\n",
       "      <td>10.62</td>\n",
       "      <td>1.000</td>\n",
       "      <td>NaN</td>\n",
       "      <td>226.37</td>\n",
       "      <td>31.941</td>\n",
       "      <td>19 Years and 5 Months</td>\n",
       "      <td>NM</td>\n",
       "      <td>124.311</td>\n",
       "      <td>28.89323934124009</td>\n",
       "      <td>High_spent_Large_value_payments</td>\n",
       "      <td>406.7008382318664</td>\n",
       "      <td>Poor</td>\n",
       "    </tr>\n",
       "    <tr>\n",
       "      <th>25458</th>\n",
       "      <td>0xab2c</td>\n",
       "      <td>CUS_0x10fd</td>\n",
       "      <td>March</td>\n",
       "      <td>Hendersonu</td>\n",
       "      <td>29_</td>\n",
       "      <td>119-33-7350</td>\n",
       "      <td>Developer</td>\n",
       "      <td>39576.59</td>\n",
       "      <td>3199.049</td>\n",
       "      <td>0</td>\n",
       "      <td>7</td>\n",
       "      <td>2</td>\n",
       "      <td>4</td>\n",
       "      <td>Personal Loan, Mortgage Loan, Home Equity Loan...</td>\n",
       "      <td>14</td>\n",
       "      <td>4</td>\n",
       "      <td>-2.38</td>\n",
       "      <td>1.000</td>\n",
       "      <td>NaN</td>\n",
       "      <td>226.37</td>\n",
       "      <td>33.295</td>\n",
       "      <td>19 Years and 6 Months</td>\n",
       "      <td>No</td>\n",
       "      <td>124.311</td>\n",
       "      <td>176.5989160690919</td>\n",
       "      <td>Low_spent_Large_value_payments</td>\n",
       "      <td>288.9951615040146</td>\n",
       "      <td>Poor</td>\n",
       "    </tr>\n",
       "    <tr>\n",
       "      <th>25459</th>\n",
       "      <td>0xab2d</td>\n",
       "      <td>CUS_0x10fd</td>\n",
       "      <td>April</td>\n",
       "      <td>Hendersonu</td>\n",
       "      <td>29</td>\n",
       "      <td>119-33-7350</td>\n",
       "      <td>Developer</td>\n",
       "      <td>39576.59</td>\n",
       "      <td>NaN</td>\n",
       "      <td>0</td>\n",
       "      <td>7</td>\n",
       "      <td>2</td>\n",
       "      <td>4</td>\n",
       "      <td>Personal Loan, Mortgage Loan, Home Equity Loan...</td>\n",
       "      <td>14</td>\n",
       "      <td>4</td>\n",
       "      <td>8.620000000000001</td>\n",
       "      <td>1.000</td>\n",
       "      <td>Good</td>\n",
       "      <td>226.37</td>\n",
       "      <td>39.889</td>\n",
       "      <td>NaN</td>\n",
       "      <td>No</td>\n",
       "      <td>124.311</td>\n",
       "      <td>81.30606467113599</td>\n",
       "      <td>High_spent_Medium_value_payments</td>\n",
       "      <td>364.2880129019706</td>\n",
       "      <td>Poor</td>\n",
       "    </tr>\n",
       "    <tr>\n",
       "      <th>25460</th>\n",
       "      <td>0xab2e</td>\n",
       "      <td>CUS_0x10fd</td>\n",
       "      <td>May</td>\n",
       "      <td>Hendersonu</td>\n",
       "      <td>29_</td>\n",
       "      <td>119-33-7350</td>\n",
       "      <td>Developer</td>\n",
       "      <td>39576.59</td>\n",
       "      <td>3199.049</td>\n",
       "      <td>0</td>\n",
       "      <td>7</td>\n",
       "      <td>2</td>\n",
       "      <td>4</td>\n",
       "      <td>Personal Loan, Mortgage Loan, Home Equity Loan...</td>\n",
       "      <td>14</td>\n",
       "      <td>1</td>\n",
       "      <td>4.62</td>\n",
       "      <td>1.000</td>\n",
       "      <td>Good</td>\n",
       "      <td>226.37</td>\n",
       "      <td>35.163</td>\n",
       "      <td>19 Years and 8 Months</td>\n",
       "      <td>No</td>\n",
       "      <td>124.311</td>\n",
       "      <td>269.0649060320007</td>\n",
       "      <td>Low_spent_Large_value_payments</td>\n",
       "      <td>196.52917154110585</td>\n",
       "      <td>Poor</td>\n",
       "    </tr>\n",
       "    <tr>\n",
       "      <th>25461</th>\n",
       "      <td>0xab2f</td>\n",
       "      <td>CUS_0x10fd</td>\n",
       "      <td>June</td>\n",
       "      <td>Hendersonu</td>\n",
       "      <td>29</td>\n",
       "      <td>119-33-7350</td>\n",
       "      <td>Developer</td>\n",
       "      <td>39576.59</td>\n",
       "      <td>3199.049</td>\n",
       "      <td>0</td>\n",
       "      <td>7</td>\n",
       "      <td>2</td>\n",
       "      <td>4</td>\n",
       "      <td>Personal Loan, Mortgage Loan, Home Equity Loan...</td>\n",
       "      <td>14</td>\n",
       "      <td>6</td>\n",
       "      <td>4.62</td>\n",
       "      <td>1.000</td>\n",
       "      <td>Good</td>\n",
       "      <td>226.37</td>\n",
       "      <td>29.267</td>\n",
       "      <td>19 Years and 9 Months</td>\n",
       "      <td>No</td>\n",
       "      <td>124.311</td>\n",
       "      <td>162.99845492614182</td>\n",
       "      <td>Low_spent_Medium_value_payments</td>\n",
       "      <td>312.59562264696467</td>\n",
       "      <td>Poor</td>\n",
       "    </tr>\n",
       "    <tr>\n",
       "      <th>25462</th>\n",
       "      <td>0xab30</td>\n",
       "      <td>CUS_0x10fd</td>\n",
       "      <td>July</td>\n",
       "      <td>Hendersonu</td>\n",
       "      <td>29</td>\n",
       "      <td>119-33-7350</td>\n",
       "      <td>Developer</td>\n",
       "      <td>39576.59</td>\n",
       "      <td>3199.049</td>\n",
       "      <td>0</td>\n",
       "      <td>7</td>\n",
       "      <td>2</td>\n",
       "      <td>4</td>\n",
       "      <td>Personal Loan, Mortgage Loan, Home Equity Loan...</td>\n",
       "      <td>11</td>\n",
       "      <td>4</td>\n",
       "      <td>6.62</td>\n",
       "      <td>3.000</td>\n",
       "      <td>Good</td>\n",
       "      <td>226.37</td>\n",
       "      <td>24.766</td>\n",
       "      <td>19 Years and 10 Months</td>\n",
       "      <td>No</td>\n",
       "      <td>124.311</td>\n",
       "      <td>199.44446359793903</td>\n",
       "      <td>Low_spent_Medium_value_payments</td>\n",
       "      <td>276.14961397516737</td>\n",
       "      <td>Poor</td>\n",
       "    </tr>\n",
       "    <tr>\n",
       "      <th>25463</th>\n",
       "      <td>0xab31</td>\n",
       "      <td>CUS_0x10fd</td>\n",
       "      <td>August</td>\n",
       "      <td>Hendersonu</td>\n",
       "      <td>29</td>\n",
       "      <td>119-33-7350</td>\n",
       "      <td>Developer</td>\n",
       "      <td>39576.59</td>\n",
       "      <td>3199.049</td>\n",
       "      <td>0</td>\n",
       "      <td>7</td>\n",
       "      <td>2</td>\n",
       "      <td>4</td>\n",
       "      <td>Personal Loan, Mortgage Loan, Home Equity Loan...</td>\n",
       "      <td>14</td>\n",
       "      <td>4</td>\n",
       "      <td>4.62</td>\n",
       "      <td>3.000</td>\n",
       "      <td>NaN</td>\n",
       "      <td>226.37</td>\n",
       "      <td>29.326</td>\n",
       "      <td>19 Years and 11 Months</td>\n",
       "      <td>No</td>\n",
       "      <td>124.311</td>\n",
       "      <td>104.7631642205206</td>\n",
       "      <td>High_spent_Medium_value_payments</td>\n",
       "      <td>340.83091335258587</td>\n",
       "      <td>Poor</td>\n",
       "    </tr>\n",
       "  </tbody>\n",
       "</table>\n",
       "</div>"
      ],
      "text/plain": [
       "           id customer_id     month        name  age          ssn occupation  \\\n",
       "25456  0xab2a  CUS_0x10fd   January  Hendersonu   29  119-33-7350        NaN   \n",
       "25457  0xab2b  CUS_0x10fd  February  Hendersonu   29  119-33-7350  Developer   \n",
       "25458  0xab2c  CUS_0x10fd     March  Hendersonu  29_  119-33-7350  Developer   \n",
       "25459  0xab2d  CUS_0x10fd     April  Hendersonu   29  119-33-7350  Developer   \n",
       "25460  0xab2e  CUS_0x10fd       May  Hendersonu  29_  119-33-7350  Developer   \n",
       "25461  0xab2f  CUS_0x10fd      June  Hendersonu   29  119-33-7350  Developer   \n",
       "25462  0xab30  CUS_0x10fd      July  Hendersonu   29  119-33-7350  Developer   \n",
       "25463  0xab31  CUS_0x10fd    August  Hendersonu   29  119-33-7350  Developer   \n",
       "\n",
       "      annual_income  monthly_inhand_salary  num_bank_accounts  \\\n",
       "25456      39576.59               3199.049                  0   \n",
       "25457     39576.59_               3199.049                  0   \n",
       "25458      39576.59               3199.049                  0   \n",
       "25459      39576.59                    NaN                  0   \n",
       "25460      39576.59               3199.049                  0   \n",
       "25461      39576.59               3199.049                  0   \n",
       "25462      39576.59               3199.049                  0   \n",
       "25463      39576.59               3199.049                  0   \n",
       "\n",
       "       num_credit_card  interest_rate num_of_loan  \\\n",
       "25456                7              2           4   \n",
       "25457                7              2          4_   \n",
       "25458                7              2           4   \n",
       "25459                7              2           4   \n",
       "25460                7              2           4   \n",
       "25461                7              2           4   \n",
       "25462                7              2           4   \n",
       "25463                7              2           4   \n",
       "\n",
       "                                            type_of_loan  delay_from_due_date  \\\n",
       "25456  Personal Loan, Mortgage Loan, Home Equity Loan...                   18   \n",
       "25457  Personal Loan, Mortgage Loan, Home Equity Loan...                   14   \n",
       "25458  Personal Loan, Mortgage Loan, Home Equity Loan...                   14   \n",
       "25459  Personal Loan, Mortgage Loan, Home Equity Loan...                   14   \n",
       "25460  Personal Loan, Mortgage Loan, Home Equity Loan...                   14   \n",
       "25461  Personal Loan, Mortgage Loan, Home Equity Loan...                   14   \n",
       "25462  Personal Loan, Mortgage Loan, Home Equity Loan...                   11   \n",
       "25463  Personal Loan, Mortgage Loan, Home Equity Loan...                   14   \n",
       "\n",
       "      num_of_delayed_payment changed_credit_limit  num_credit_inquiries  \\\n",
       "25456                    NaN                 4.62                 1.000   \n",
       "25457                      4                10.62                 1.000   \n",
       "25458                      4                -2.38                 1.000   \n",
       "25459                      4    8.620000000000001                 1.000   \n",
       "25460                      1                 4.62                 1.000   \n",
       "25461                      6                 4.62                 1.000   \n",
       "25462                      4                 6.62                 3.000   \n",
       "25463                      4                 4.62                 3.000   \n",
       "\n",
       "      credit_mix outstanding_debt  credit_utilization_ratio  \\\n",
       "25456       Good           226.37                    23.086   \n",
       "25457        NaN           226.37                    31.941   \n",
       "25458        NaN           226.37                    33.295   \n",
       "25459       Good           226.37                    39.889   \n",
       "25460       Good           226.37                    35.163   \n",
       "25461       Good           226.37                    29.267   \n",
       "25462       Good           226.37                    24.766   \n",
       "25463        NaN           226.37                    29.326   \n",
       "\n",
       "           credit_history_age payment_of_min_amount  total_emi_per_month  \\\n",
       "25456   19 Years and 4 Months                    No              124.311   \n",
       "25457   19 Years and 5 Months                    NM              124.311   \n",
       "25458   19 Years and 6 Months                    No              124.311   \n",
       "25459                     NaN                    No              124.311   \n",
       "25460   19 Years and 8 Months                    No              124.311   \n",
       "25461   19 Years and 9 Months                    No              124.311   \n",
       "25462  19 Years and 10 Months                    No              124.311   \n",
       "25463  19 Years and 11 Months                    No              124.311   \n",
       "\n",
       "      amount_invested_monthly                 payment_behaviour  \\\n",
       "25456      52.588915433114344   High_spent_Large_value_payments   \n",
       "25457       28.89323934124009   High_spent_Large_value_payments   \n",
       "25458       176.5989160690919    Low_spent_Large_value_payments   \n",
       "25459       81.30606467113599  High_spent_Medium_value_payments   \n",
       "25460       269.0649060320007    Low_spent_Large_value_payments   \n",
       "25461      162.99845492614182   Low_spent_Medium_value_payments   \n",
       "25462      199.44446359793903   Low_spent_Medium_value_payments   \n",
       "25463       104.7631642205206  High_spent_Medium_value_payments   \n",
       "\n",
       "          monthly_balance credit_score  \n",
       "25456   383.0051621399922         Poor  \n",
       "25457   406.7008382318664         Poor  \n",
       "25458   288.9951615040146         Poor  \n",
       "25459   364.2880129019706         Poor  \n",
       "25460  196.52917154110585         Poor  \n",
       "25461  312.59562264696467         Poor  \n",
       "25462  276.14961397516737         Poor  \n",
       "25463  340.83091335258587         Poor  "
      ]
     },
     "execution_count": 36,
     "metadata": {},
     "output_type": "execute_result"
    }
   ],
   "source": [
    "df[df[\"customer_id\"]==\"CUS_0x10fd\"]"
   ]
  },
  {
   "cell_type": "code",
   "execution_count": 37,
   "id": "df92055c",
   "metadata": {
    "ExecuteTime": {
     "end_time": "2024-04-25T01:01:45.083002Z",
     "start_time": "2024-04-25T01:01:45.056195Z"
    },
    "execution": {
     "iopub.execute_input": "2024-05-03T19:16:50.371777Z",
     "iopub.status.busy": "2024-05-03T19:16:50.371491Z",
     "iopub.status.idle": "2024-05-03T19:16:50.381101Z",
     "shell.execute_reply": "2024-05-03T19:16:50.380412Z"
    },
    "papermill": {
     "duration": 0.03821,
     "end_time": "2024-05-03T19:16:50.382759",
     "exception": false,
     "start_time": "2024-05-03T19:16:50.344549",
     "status": "completed"
    },
    "tags": []
   },
   "outputs": [
    {
     "data": {
      "text/plain": [
       "12500"
      ]
     },
     "execution_count": 37,
     "metadata": {},
     "output_type": "execute_result"
    }
   ],
   "source": [
    "df[\"customer_id\"].nunique()"
   ]
  },
  {
   "cell_type": "markdown",
   "id": "37fde42a",
   "metadata": {
    "papermill": {
     "duration": 0.026567,
     "end_time": "2024-05-03T19:16:50.435294",
     "exception": false,
     "start_time": "2024-05-03T19:16:50.408727",
     "status": "completed"
    },
    "tags": []
   },
   "source": [
    "#### *Yes! I can immediately access the information I want from the \"customer_id\" feature. There are 12500 unique customer_ids in the 100000 rows data set. Since there is no NaN value in this column, this means that  it repeats and I can fill in the NaN values in the rows with the same customer_id with those in the full rows.*"
   ]
  },
  {
   "cell_type": "code",
   "execution_count": 38,
   "id": "425794ac",
   "metadata": {
    "ExecuteTime": {
     "end_time": "2024-04-25T01:02:57.679316Z",
     "start_time": "2024-04-25T01:02:57.659670Z"
    },
    "execution": {
     "iopub.execute_input": "2024-05-03T19:16:50.489440Z",
     "iopub.status.busy": "2024-05-03T19:16:50.489179Z",
     "iopub.status.idle": "2024-05-03T19:16:50.497554Z",
     "shell.execute_reply": "2024-05-03T19:16:50.496981Z"
    },
    "papermill": {
     "duration": 0.037848,
     "end_time": "2024-05-03T19:16:50.499371",
     "exception": false,
     "start_time": "2024-05-03T19:16:50.461523",
     "status": "completed"
    },
    "tags": []
   },
   "outputs": [],
   "source": [
    "unique_customer_ids = df[\"customer_id\"].unique()"
   ]
  },
  {
   "cell_type": "code",
   "execution_count": 39,
   "id": "40e9f8e2",
   "metadata": {
    "execution": {
     "iopub.execute_input": "2024-05-03T19:16:50.556486Z",
     "iopub.status.busy": "2024-05-03T19:16:50.556192Z",
     "iopub.status.idle": "2024-05-03T19:22:54.911190Z",
     "shell.execute_reply": "2024-05-03T19:22:54.910443Z"
    },
    "papermill": {
     "duration": 364.3875,
     "end_time": "2024-05-03T19:22:54.913834",
     "exception": false,
     "start_time": "2024-05-03T19:16:50.526334",
     "status": "completed"
    },
    "tags": []
   },
   "outputs": [],
   "source": [
    "for id in unique_customer_ids :\n",
    "    df[df[\"customer_id\"]==id] = df[df[\"customer_id\"]==id].fillna(method='ffill').fillna(method='bfill')"
   ]
  },
  {
   "cell_type": "code",
   "execution_count": 40,
   "id": "2cc0454a",
   "metadata": {
    "ExecuteTime": {
     "end_time": "2024-04-25T01:37:27.881401Z",
     "start_time": "2024-04-25T01:37:27.731446Z"
    },
    "execution": {
     "iopub.execute_input": "2024-05-03T19:22:54.974915Z",
     "iopub.status.busy": "2024-05-03T19:22:54.974548Z",
     "iopub.status.idle": "2024-05-03T19:22:55.063450Z",
     "shell.execute_reply": "2024-05-03T19:22:55.062782Z"
    },
    "papermill": {
     "duration": 0.120714,
     "end_time": "2024-05-03T19:22:55.065203",
     "exception": false,
     "start_time": "2024-05-03T19:22:54.944489",
     "status": "completed"
    },
    "tags": []
   },
   "outputs": [
    {
     "data": {
      "text/plain": [
       "id                              0\n",
       "customer_id                     0\n",
       "month                           0\n",
       "name                            0\n",
       "age                             0\n",
       "ssn                             0\n",
       "occupation                      0\n",
       "annual_income                   0\n",
       "monthly_inhand_salary           0\n",
       "num_bank_accounts               0\n",
       "num_credit_card                 0\n",
       "interest_rate                   0\n",
       "num_of_loan                     0\n",
       "type_of_loan                11408\n",
       "delay_from_due_date             0\n",
       "num_of_delayed_payment          0\n",
       "changed_credit_limit            0\n",
       "num_credit_inquiries            0\n",
       "credit_mix                      0\n",
       "outstanding_debt                0\n",
       "credit_utilization_ratio        0\n",
       "credit_history_age              0\n",
       "payment_of_min_amount           0\n",
       "total_emi_per_month             0\n",
       "amount_invested_monthly         0\n",
       "payment_behaviour               0\n",
       "monthly_balance                 0\n",
       "credit_score                    0\n",
       "dtype: int64"
      ]
     },
     "execution_count": 40,
     "metadata": {},
     "output_type": "execute_result"
    }
   ],
   "source": [
    "df.isna().sum()"
   ]
  },
  {
   "cell_type": "code",
   "execution_count": 41,
   "id": "7bba5004",
   "metadata": {
    "ExecuteTime": {
     "end_time": "2024-04-25T01:39:12.251305Z",
     "start_time": "2024-04-25T01:39:12.171716Z"
    },
    "execution": {
     "iopub.execute_input": "2024-05-03T19:22:55.122494Z",
     "iopub.status.busy": "2024-05-03T19:22:55.122196Z",
     "iopub.status.idle": "2024-05-03T19:22:55.147502Z",
     "shell.execute_reply": "2024-05-03T19:22:55.146908Z"
    },
    "papermill": {
     "duration": 0.055434,
     "end_time": "2024-05-03T19:22:55.149108",
     "exception": false,
     "start_time": "2024-05-03T19:22:55.093674",
     "status": "completed"
    },
    "tags": []
   },
   "outputs": [
    {
     "data": {
      "text/html": [
       "<div>\n",
       "<style scoped>\n",
       "    .dataframe tbody tr th:only-of-type {\n",
       "        vertical-align: middle;\n",
       "    }\n",
       "\n",
       "    .dataframe tbody tr th {\n",
       "        vertical-align: top;\n",
       "    }\n",
       "\n",
       "    .dataframe thead th {\n",
       "        text-align: right;\n",
       "    }\n",
       "</style>\n",
       "<table border=\"1\" class=\"dataframe\">\n",
       "  <thead>\n",
       "    <tr style=\"text-align: right;\">\n",
       "      <th></th>\n",
       "      <th>id</th>\n",
       "      <th>customer_id</th>\n",
       "      <th>month</th>\n",
       "      <th>name</th>\n",
       "      <th>age</th>\n",
       "      <th>ssn</th>\n",
       "      <th>occupation</th>\n",
       "      <th>annual_income</th>\n",
       "      <th>monthly_inhand_salary</th>\n",
       "      <th>num_bank_accounts</th>\n",
       "      <th>num_credit_card</th>\n",
       "      <th>interest_rate</th>\n",
       "      <th>num_of_loan</th>\n",
       "      <th>type_of_loan</th>\n",
       "      <th>delay_from_due_date</th>\n",
       "      <th>num_of_delayed_payment</th>\n",
       "      <th>changed_credit_limit</th>\n",
       "      <th>num_credit_inquiries</th>\n",
       "      <th>credit_mix</th>\n",
       "      <th>outstanding_debt</th>\n",
       "      <th>credit_utilization_ratio</th>\n",
       "      <th>credit_history_age</th>\n",
       "      <th>payment_of_min_amount</th>\n",
       "      <th>total_emi_per_month</th>\n",
       "      <th>amount_invested_monthly</th>\n",
       "      <th>payment_behaviour</th>\n",
       "      <th>monthly_balance</th>\n",
       "      <th>credit_score</th>\n",
       "    </tr>\n",
       "  </thead>\n",
       "  <tbody>\n",
       "    <tr>\n",
       "      <th>0</th>\n",
       "      <td>0x1602</td>\n",
       "      <td>CUS_0xd40</td>\n",
       "      <td>January</td>\n",
       "      <td>Aaron Maashoh</td>\n",
       "      <td>23</td>\n",
       "      <td>821-00-0265</td>\n",
       "      <td>Scientist</td>\n",
       "      <td>19114.12</td>\n",
       "      <td>1824.843</td>\n",
       "      <td>3</td>\n",
       "      <td>4</td>\n",
       "      <td>3</td>\n",
       "      <td>4</td>\n",
       "      <td>Auto Loan, Credit-Builder Loan, Personal Loan,...</td>\n",
       "      <td>3</td>\n",
       "      <td>7</td>\n",
       "      <td>11.27</td>\n",
       "      <td>4.000</td>\n",
       "      <td>Good</td>\n",
       "      <td>809.98</td>\n",
       "      <td>26.823</td>\n",
       "      <td>22 Years and 1 Months</td>\n",
       "      <td>No</td>\n",
       "      <td>49.575</td>\n",
       "      <td>80.41529543900253</td>\n",
       "      <td>High_spent_Small_value_payments</td>\n",
       "      <td>312.49408867943663</td>\n",
       "      <td>Good</td>\n",
       "    </tr>\n",
       "    <tr>\n",
       "      <th>1</th>\n",
       "      <td>0x1603</td>\n",
       "      <td>CUS_0xd40</td>\n",
       "      <td>February</td>\n",
       "      <td>Aaron Maashoh</td>\n",
       "      <td>23</td>\n",
       "      <td>821-00-0265</td>\n",
       "      <td>Scientist</td>\n",
       "      <td>19114.12</td>\n",
       "      <td>1824.843</td>\n",
       "      <td>3</td>\n",
       "      <td>4</td>\n",
       "      <td>3</td>\n",
       "      <td>4</td>\n",
       "      <td>Auto Loan, Credit-Builder Loan, Personal Loan,...</td>\n",
       "      <td>-1</td>\n",
       "      <td>7</td>\n",
       "      <td>11.27</td>\n",
       "      <td>4.000</td>\n",
       "      <td>Good</td>\n",
       "      <td>809.98</td>\n",
       "      <td>31.945</td>\n",
       "      <td>22 Years and 1 Months</td>\n",
       "      <td>No</td>\n",
       "      <td>49.575</td>\n",
       "      <td>118.28022162236736</td>\n",
       "      <td>Low_spent_Large_value_payments</td>\n",
       "      <td>284.62916249607184</td>\n",
       "      <td>Good</td>\n",
       "    </tr>\n",
       "    <tr>\n",
       "      <th>2</th>\n",
       "      <td>0x1604</td>\n",
       "      <td>CUS_0xd40</td>\n",
       "      <td>March</td>\n",
       "      <td>Aaron Maashoh</td>\n",
       "      <td>-500</td>\n",
       "      <td>821-00-0265</td>\n",
       "      <td>Scientist</td>\n",
       "      <td>19114.12</td>\n",
       "      <td>1824.843</td>\n",
       "      <td>3</td>\n",
       "      <td>4</td>\n",
       "      <td>3</td>\n",
       "      <td>4</td>\n",
       "      <td>Auto Loan, Credit-Builder Loan, Personal Loan,...</td>\n",
       "      <td>3</td>\n",
       "      <td>7</td>\n",
       "      <td>11.27</td>\n",
       "      <td>4.000</td>\n",
       "      <td>Good</td>\n",
       "      <td>809.98</td>\n",
       "      <td>28.609</td>\n",
       "      <td>22 Years and 3 Months</td>\n",
       "      <td>No</td>\n",
       "      <td>49.575</td>\n",
       "      <td>81.699521264648</td>\n",
       "      <td>Low_spent_Medium_value_payments</td>\n",
       "      <td>331.2098628537912</td>\n",
       "      <td>Good</td>\n",
       "    </tr>\n",
       "    <tr>\n",
       "      <th>3</th>\n",
       "      <td>0x1605</td>\n",
       "      <td>CUS_0xd40</td>\n",
       "      <td>April</td>\n",
       "      <td>Aaron Maashoh</td>\n",
       "      <td>23</td>\n",
       "      <td>821-00-0265</td>\n",
       "      <td>Scientist</td>\n",
       "      <td>19114.12</td>\n",
       "      <td>1824.843</td>\n",
       "      <td>3</td>\n",
       "      <td>4</td>\n",
       "      <td>3</td>\n",
       "      <td>4</td>\n",
       "      <td>Auto Loan, Credit-Builder Loan, Personal Loan,...</td>\n",
       "      <td>5</td>\n",
       "      <td>4</td>\n",
       "      <td>6.27</td>\n",
       "      <td>4.000</td>\n",
       "      <td>Good</td>\n",
       "      <td>809.98</td>\n",
       "      <td>31.378</td>\n",
       "      <td>22 Years and 4 Months</td>\n",
       "      <td>No</td>\n",
       "      <td>49.575</td>\n",
       "      <td>199.4580743910713</td>\n",
       "      <td>Low_spent_Small_value_payments</td>\n",
       "      <td>223.45130972736786</td>\n",
       "      <td>Good</td>\n",
       "    </tr>\n",
       "    <tr>\n",
       "      <th>4</th>\n",
       "      <td>0x1606</td>\n",
       "      <td>CUS_0xd40</td>\n",
       "      <td>May</td>\n",
       "      <td>Aaron Maashoh</td>\n",
       "      <td>23</td>\n",
       "      <td>821-00-0265</td>\n",
       "      <td>Scientist</td>\n",
       "      <td>19114.12</td>\n",
       "      <td>1824.843</td>\n",
       "      <td>3</td>\n",
       "      <td>4</td>\n",
       "      <td>3</td>\n",
       "      <td>4</td>\n",
       "      <td>Auto Loan, Credit-Builder Loan, Personal Loan,...</td>\n",
       "      <td>6</td>\n",
       "      <td>4</td>\n",
       "      <td>11.27</td>\n",
       "      <td>4.000</td>\n",
       "      <td>Good</td>\n",
       "      <td>809.98</td>\n",
       "      <td>24.797</td>\n",
       "      <td>22 Years and 5 Months</td>\n",
       "      <td>No</td>\n",
       "      <td>49.575</td>\n",
       "      <td>41.420153086217326</td>\n",
       "      <td>High_spent_Medium_value_payments</td>\n",
       "      <td>341.48923103222177</td>\n",
       "      <td>Good</td>\n",
       "    </tr>\n",
       "    <tr>\n",
       "      <th>5</th>\n",
       "      <td>0x1607</td>\n",
       "      <td>CUS_0xd40</td>\n",
       "      <td>June</td>\n",
       "      <td>Aaron Maashoh</td>\n",
       "      <td>23</td>\n",
       "      <td>821-00-0265</td>\n",
       "      <td>Scientist</td>\n",
       "      <td>19114.12</td>\n",
       "      <td>1824.843</td>\n",
       "      <td>3</td>\n",
       "      <td>4</td>\n",
       "      <td>3</td>\n",
       "      <td>4</td>\n",
       "      <td>Auto Loan, Credit-Builder Loan, Personal Loan,...</td>\n",
       "      <td>8</td>\n",
       "      <td>4</td>\n",
       "      <td>9.27</td>\n",
       "      <td>4.000</td>\n",
       "      <td>Good</td>\n",
       "      <td>809.98</td>\n",
       "      <td>27.262</td>\n",
       "      <td>22 Years and 6 Months</td>\n",
       "      <td>No</td>\n",
       "      <td>49.575</td>\n",
       "      <td>62.430172331195294</td>\n",
       "      <td>!@9#%8</td>\n",
       "      <td>340.4792117872438</td>\n",
       "      <td>Good</td>\n",
       "    </tr>\n",
       "    <tr>\n",
       "      <th>6</th>\n",
       "      <td>0x1608</td>\n",
       "      <td>CUS_0xd40</td>\n",
       "      <td>July</td>\n",
       "      <td>Aaron Maashoh</td>\n",
       "      <td>23</td>\n",
       "      <td>821-00-0265</td>\n",
       "      <td>Scientist</td>\n",
       "      <td>19114.12</td>\n",
       "      <td>1824.843</td>\n",
       "      <td>3</td>\n",
       "      <td>4</td>\n",
       "      <td>3</td>\n",
       "      <td>4</td>\n",
       "      <td>Auto Loan, Credit-Builder Loan, Personal Loan,...</td>\n",
       "      <td>3</td>\n",
       "      <td>8_</td>\n",
       "      <td>11.27</td>\n",
       "      <td>4.000</td>\n",
       "      <td>Good</td>\n",
       "      <td>809.98</td>\n",
       "      <td>22.538</td>\n",
       "      <td>22 Years and 7 Months</td>\n",
       "      <td>No</td>\n",
       "      <td>49.575</td>\n",
       "      <td>178.3440674122349</td>\n",
       "      <td>Low_spent_Small_value_payments</td>\n",
       "      <td>244.5653167062043</td>\n",
       "      <td>Good</td>\n",
       "    </tr>\n",
       "    <tr>\n",
       "      <th>7</th>\n",
       "      <td>0x1609</td>\n",
       "      <td>CUS_0xd40</td>\n",
       "      <td>August</td>\n",
       "      <td>Aaron Maashoh</td>\n",
       "      <td>23</td>\n",
       "      <td>#F%$D@*&amp;8</td>\n",
       "      <td>Scientist</td>\n",
       "      <td>19114.12</td>\n",
       "      <td>1824.843</td>\n",
       "      <td>3</td>\n",
       "      <td>4</td>\n",
       "      <td>3</td>\n",
       "      <td>4</td>\n",
       "      <td>Auto Loan, Credit-Builder Loan, Personal Loan,...</td>\n",
       "      <td>3</td>\n",
       "      <td>6</td>\n",
       "      <td>11.27</td>\n",
       "      <td>4.000</td>\n",
       "      <td>Good</td>\n",
       "      <td>809.98</td>\n",
       "      <td>23.934</td>\n",
       "      <td>22 Years and 7 Months</td>\n",
       "      <td>No</td>\n",
       "      <td>49.575</td>\n",
       "      <td>24.785216509052056</td>\n",
       "      <td>High_spent_Medium_value_payments</td>\n",
       "      <td>358.12416760938714</td>\n",
       "      <td>Standard</td>\n",
       "    </tr>\n",
       "  </tbody>\n",
       "</table>\n",
       "</div>"
      ],
      "text/plain": [
       "       id customer_id     month           name   age          ssn occupation  \\\n",
       "0  0x1602   CUS_0xd40   January  Aaron Maashoh    23  821-00-0265  Scientist   \n",
       "1  0x1603   CUS_0xd40  February  Aaron Maashoh    23  821-00-0265  Scientist   \n",
       "2  0x1604   CUS_0xd40     March  Aaron Maashoh  -500  821-00-0265  Scientist   \n",
       "3  0x1605   CUS_0xd40     April  Aaron Maashoh    23  821-00-0265  Scientist   \n",
       "4  0x1606   CUS_0xd40       May  Aaron Maashoh    23  821-00-0265  Scientist   \n",
       "5  0x1607   CUS_0xd40      June  Aaron Maashoh    23  821-00-0265  Scientist   \n",
       "6  0x1608   CUS_0xd40      July  Aaron Maashoh    23  821-00-0265  Scientist   \n",
       "7  0x1609   CUS_0xd40    August  Aaron Maashoh    23    #F%$D@*&8  Scientist   \n",
       "\n",
       "  annual_income  monthly_inhand_salary  num_bank_accounts  num_credit_card  \\\n",
       "0      19114.12               1824.843                  3                4   \n",
       "1      19114.12               1824.843                  3                4   \n",
       "2      19114.12               1824.843                  3                4   \n",
       "3      19114.12               1824.843                  3                4   \n",
       "4      19114.12               1824.843                  3                4   \n",
       "5      19114.12               1824.843                  3                4   \n",
       "6      19114.12               1824.843                  3                4   \n",
       "7      19114.12               1824.843                  3                4   \n",
       "\n",
       "   interest_rate num_of_loan  \\\n",
       "0              3           4   \n",
       "1              3           4   \n",
       "2              3           4   \n",
       "3              3           4   \n",
       "4              3           4   \n",
       "5              3           4   \n",
       "6              3           4   \n",
       "7              3           4   \n",
       "\n",
       "                                        type_of_loan  delay_from_due_date  \\\n",
       "0  Auto Loan, Credit-Builder Loan, Personal Loan,...                    3   \n",
       "1  Auto Loan, Credit-Builder Loan, Personal Loan,...                   -1   \n",
       "2  Auto Loan, Credit-Builder Loan, Personal Loan,...                    3   \n",
       "3  Auto Loan, Credit-Builder Loan, Personal Loan,...                    5   \n",
       "4  Auto Loan, Credit-Builder Loan, Personal Loan,...                    6   \n",
       "5  Auto Loan, Credit-Builder Loan, Personal Loan,...                    8   \n",
       "6  Auto Loan, Credit-Builder Loan, Personal Loan,...                    3   \n",
       "7  Auto Loan, Credit-Builder Loan, Personal Loan,...                    3   \n",
       "\n",
       "  num_of_delayed_payment changed_credit_limit  num_credit_inquiries  \\\n",
       "0                      7                11.27                 4.000   \n",
       "1                      7                11.27                 4.000   \n",
       "2                      7                11.27                 4.000   \n",
       "3                      4                 6.27                 4.000   \n",
       "4                      4                11.27                 4.000   \n",
       "5                      4                 9.27                 4.000   \n",
       "6                     8_                11.27                 4.000   \n",
       "7                      6                11.27                 4.000   \n",
       "\n",
       "  credit_mix outstanding_debt  credit_utilization_ratio  \\\n",
       "0       Good           809.98                    26.823   \n",
       "1       Good           809.98                    31.945   \n",
       "2       Good           809.98                    28.609   \n",
       "3       Good           809.98                    31.378   \n",
       "4       Good           809.98                    24.797   \n",
       "5       Good           809.98                    27.262   \n",
       "6       Good           809.98                    22.538   \n",
       "7       Good           809.98                    23.934   \n",
       "\n",
       "      credit_history_age payment_of_min_amount  total_emi_per_month  \\\n",
       "0  22 Years and 1 Months                    No               49.575   \n",
       "1  22 Years and 1 Months                    No               49.575   \n",
       "2  22 Years and 3 Months                    No               49.575   \n",
       "3  22 Years and 4 Months                    No               49.575   \n",
       "4  22 Years and 5 Months                    No               49.575   \n",
       "5  22 Years and 6 Months                    No               49.575   \n",
       "6  22 Years and 7 Months                    No               49.575   \n",
       "7  22 Years and 7 Months                    No               49.575   \n",
       "\n",
       "  amount_invested_monthly                 payment_behaviour  \\\n",
       "0       80.41529543900253   High_spent_Small_value_payments   \n",
       "1      118.28022162236736    Low_spent_Large_value_payments   \n",
       "2         81.699521264648   Low_spent_Medium_value_payments   \n",
       "3       199.4580743910713    Low_spent_Small_value_payments   \n",
       "4      41.420153086217326  High_spent_Medium_value_payments   \n",
       "5      62.430172331195294                            !@9#%8   \n",
       "6       178.3440674122349    Low_spent_Small_value_payments   \n",
       "7      24.785216509052056  High_spent_Medium_value_payments   \n",
       "\n",
       "      monthly_balance credit_score  \n",
       "0  312.49408867943663         Good  \n",
       "1  284.62916249607184         Good  \n",
       "2   331.2098628537912         Good  \n",
       "3  223.45130972736786         Good  \n",
       "4  341.48923103222177         Good  \n",
       "5   340.4792117872438         Good  \n",
       "6   244.5653167062043         Good  \n",
       "7  358.12416760938714     Standard  "
      ]
     },
     "execution_count": 41,
     "metadata": {},
     "output_type": "execute_result"
    }
   ],
   "source": [
    "df[df[\"customer_id\"]==\"CUS_0xd40\"]"
   ]
  },
  {
   "cell_type": "code",
   "execution_count": 42,
   "id": "273c2795",
   "metadata": {
    "ExecuteTime": {
     "end_time": "2024-04-25T02:16:09.092712Z",
     "start_time": "2024-04-25T02:16:09.031561Z"
    },
    "execution": {
     "iopub.execute_input": "2024-05-03T19:22:55.205106Z",
     "iopub.status.busy": "2024-05-03T19:22:55.204851Z",
     "iopub.status.idle": "2024-05-03T19:22:55.230809Z",
     "shell.execute_reply": "2024-05-03T19:22:55.230124Z"
    },
    "papermill": {
     "duration": 0.05601,
     "end_time": "2024-05-03T19:22:55.232543",
     "exception": false,
     "start_time": "2024-05-03T19:22:55.176533",
     "status": "completed"
    },
    "tags": []
   },
   "outputs": [
    {
     "data": {
      "text/html": [
       "<div>\n",
       "<style scoped>\n",
       "    .dataframe tbody tr th:only-of-type {\n",
       "        vertical-align: middle;\n",
       "    }\n",
       "\n",
       "    .dataframe tbody tr th {\n",
       "        vertical-align: top;\n",
       "    }\n",
       "\n",
       "    .dataframe thead th {\n",
       "        text-align: right;\n",
       "    }\n",
       "</style>\n",
       "<table border=\"1\" class=\"dataframe\">\n",
       "  <thead>\n",
       "    <tr style=\"text-align: right;\">\n",
       "      <th></th>\n",
       "      <th>id</th>\n",
       "      <th>customer_id</th>\n",
       "      <th>month</th>\n",
       "      <th>name</th>\n",
       "      <th>age</th>\n",
       "      <th>ssn</th>\n",
       "      <th>occupation</th>\n",
       "      <th>annual_income</th>\n",
       "      <th>monthly_inhand_salary</th>\n",
       "      <th>num_bank_accounts</th>\n",
       "      <th>num_credit_card</th>\n",
       "      <th>interest_rate</th>\n",
       "      <th>num_of_loan</th>\n",
       "      <th>type_of_loan</th>\n",
       "      <th>delay_from_due_date</th>\n",
       "      <th>num_of_delayed_payment</th>\n",
       "      <th>changed_credit_limit</th>\n",
       "      <th>num_credit_inquiries</th>\n",
       "      <th>credit_mix</th>\n",
       "      <th>outstanding_debt</th>\n",
       "      <th>credit_utilization_ratio</th>\n",
       "      <th>credit_history_age</th>\n",
       "      <th>payment_of_min_amount</th>\n",
       "      <th>total_emi_per_month</th>\n",
       "      <th>amount_invested_monthly</th>\n",
       "      <th>payment_behaviour</th>\n",
       "      <th>monthly_balance</th>\n",
       "      <th>credit_score</th>\n",
       "    </tr>\n",
       "  </thead>\n",
       "  <tbody>\n",
       "    <tr>\n",
       "      <th>1584</th>\n",
       "      <td>0x1f4a</td>\n",
       "      <td>CUS_0x93ff</td>\n",
       "      <td>January</td>\n",
       "      <td>Roumeliotisv</td>\n",
       "      <td>26</td>\n",
       "      <td>237-50-9740</td>\n",
       "      <td>Lawyer</td>\n",
       "      <td>39696.98</td>\n",
       "      <td>3211.082</td>\n",
       "      <td>5</td>\n",
       "      <td>5</td>\n",
       "      <td>10</td>\n",
       "      <td>1</td>\n",
       "      <td>Not Specified</td>\n",
       "      <td>16</td>\n",
       "      <td>3</td>\n",
       "      <td>1.98</td>\n",
       "      <td>1.000</td>\n",
       "      <td>Good</td>\n",
       "      <td>133.3</td>\n",
       "      <td>39.886</td>\n",
       "      <td>21 Years and 3 Months</td>\n",
       "      <td>No</td>\n",
       "      <td>31.907</td>\n",
       "      <td>73.87093984450794</td>\n",
       "      <td>High_spent_Medium_value_payments</td>\n",
       "      <td>465.33064665134935</td>\n",
       "      <td>Poor</td>\n",
       "    </tr>\n",
       "    <tr>\n",
       "      <th>1585</th>\n",
       "      <td>0x1f4b</td>\n",
       "      <td>CUS_0x93ff</td>\n",
       "      <td>February</td>\n",
       "      <td>Roumeliotisv</td>\n",
       "      <td>26</td>\n",
       "      <td>237-50-9740</td>\n",
       "      <td>Lawyer</td>\n",
       "      <td>39696.98_</td>\n",
       "      <td>3211.082</td>\n",
       "      <td>5</td>\n",
       "      <td>5</td>\n",
       "      <td>10</td>\n",
       "      <td>1_</td>\n",
       "      <td>Not Specified</td>\n",
       "      <td>11</td>\n",
       "      <td>5</td>\n",
       "      <td>-5.02</td>\n",
       "      <td>1.000</td>\n",
       "      <td>Good</td>\n",
       "      <td>133.3</td>\n",
       "      <td>29.998</td>\n",
       "      <td>21 Years and 3 Months</td>\n",
       "      <td>NM</td>\n",
       "      <td>31.907</td>\n",
       "      <td>67.0732807694454</td>\n",
       "      <td>High_spent_Medium_value_payments</td>\n",
       "      <td>472.12830572641184</td>\n",
       "      <td>Poor</td>\n",
       "    </tr>\n",
       "    <tr>\n",
       "      <th>1586</th>\n",
       "      <td>0x1f4c</td>\n",
       "      <td>CUS_0x93ff</td>\n",
       "      <td>March</td>\n",
       "      <td>Roumeliotisv</td>\n",
       "      <td>26</td>\n",
       "      <td>237-50-9740</td>\n",
       "      <td>Lawyer</td>\n",
       "      <td>39696.98</td>\n",
       "      <td>3211.082</td>\n",
       "      <td>5</td>\n",
       "      <td>5</td>\n",
       "      <td>10</td>\n",
       "      <td>1</td>\n",
       "      <td>Not Specified</td>\n",
       "      <td>11</td>\n",
       "      <td>3</td>\n",
       "      <td>1.98</td>\n",
       "      <td>1.000</td>\n",
       "      <td>Good</td>\n",
       "      <td>133.3</td>\n",
       "      <td>33.396</td>\n",
       "      <td>21 Years and 5 Months</td>\n",
       "      <td>No</td>\n",
       "      <td>31.907</td>\n",
       "      <td>56.2457675369253</td>\n",
       "      <td>High_spent_Medium_value_payments</td>\n",
       "      <td>482.9558189589319</td>\n",
       "      <td>Standard</td>\n",
       "    </tr>\n",
       "    <tr>\n",
       "      <th>1587</th>\n",
       "      <td>0x1f4d</td>\n",
       "      <td>CUS_0x93ff</td>\n",
       "      <td>April</td>\n",
       "      <td>Roumeliotisv</td>\n",
       "      <td>26</td>\n",
       "      <td>237-50-9740</td>\n",
       "      <td>Lawyer</td>\n",
       "      <td>39696.98</td>\n",
       "      <td>3211.082</td>\n",
       "      <td>5</td>\n",
       "      <td>5</td>\n",
       "      <td>10</td>\n",
       "      <td>1</td>\n",
       "      <td>Not Specified</td>\n",
       "      <td>11</td>\n",
       "      <td>3</td>\n",
       "      <td>1.98</td>\n",
       "      <td>1.000</td>\n",
       "      <td>Good</td>\n",
       "      <td>133.3</td>\n",
       "      <td>28.844</td>\n",
       "      <td>21 Years and 6 Months</td>\n",
       "      <td>No</td>\n",
       "      <td>31.907</td>\n",
       "      <td>37.51782482904488</td>\n",
       "      <td>High_spent_Medium_value_payments</td>\n",
       "      <td>501.6837616668123</td>\n",
       "      <td>Poor</td>\n",
       "    </tr>\n",
       "    <tr>\n",
       "      <th>1588</th>\n",
       "      <td>0x1f4e</td>\n",
       "      <td>CUS_0x93ff</td>\n",
       "      <td>May</td>\n",
       "      <td>Roumeliotisv</td>\n",
       "      <td>26</td>\n",
       "      <td>237-50-9740</td>\n",
       "      <td>Lawyer</td>\n",
       "      <td>39696.98</td>\n",
       "      <td>3211.082</td>\n",
       "      <td>5</td>\n",
       "      <td>5</td>\n",
       "      <td>1115</td>\n",
       "      <td>1</td>\n",
       "      <td>Not Specified</td>\n",
       "      <td>11</td>\n",
       "      <td>6</td>\n",
       "      <td>1.98</td>\n",
       "      <td>1.000</td>\n",
       "      <td>Good</td>\n",
       "      <td>133.3</td>\n",
       "      <td>40.143</td>\n",
       "      <td>21 Years and 7 Months</td>\n",
       "      <td>No</td>\n",
       "      <td>31.907</td>\n",
       "      <td>44.04731679197315</td>\n",
       "      <td>High_spent_Large_value_payments</td>\n",
       "      <td>485.154269703884</td>\n",
       "      <td>Poor</td>\n",
       "    </tr>\n",
       "    <tr>\n",
       "      <th>1589</th>\n",
       "      <td>0x1f4f</td>\n",
       "      <td>CUS_0x93ff</td>\n",
       "      <td>June</td>\n",
       "      <td>Roumeliotisv</td>\n",
       "      <td>26</td>\n",
       "      <td>237-50-9740</td>\n",
       "      <td>Lawyer</td>\n",
       "      <td>39696.98</td>\n",
       "      <td>3211.082</td>\n",
       "      <td>5</td>\n",
       "      <td>5</td>\n",
       "      <td>10</td>\n",
       "      <td>1</td>\n",
       "      <td>Not Specified</td>\n",
       "      <td>11</td>\n",
       "      <td>3</td>\n",
       "      <td>1.98</td>\n",
       "      <td>1.000</td>\n",
       "      <td>Good</td>\n",
       "      <td>133.3</td>\n",
       "      <td>24.870</td>\n",
       "      <td>21 Years and 8 Months</td>\n",
       "      <td>No</td>\n",
       "      <td>31.907</td>\n",
       "      <td>156.79219440803175</td>\n",
       "      <td>Low_spent_Small_value_payments</td>\n",
       "      <td>422.4093920878255</td>\n",
       "      <td>Poor</td>\n",
       "    </tr>\n",
       "    <tr>\n",
       "      <th>1590</th>\n",
       "      <td>0x1f50</td>\n",
       "      <td>CUS_0x93ff</td>\n",
       "      <td>July</td>\n",
       "      <td>Roumeliotisv</td>\n",
       "      <td>27</td>\n",
       "      <td>237-50-9740</td>\n",
       "      <td>Lawyer</td>\n",
       "      <td>39696.98</td>\n",
       "      <td>3211.082</td>\n",
       "      <td>5</td>\n",
       "      <td>5</td>\n",
       "      <td>10</td>\n",
       "      <td>1</td>\n",
       "      <td>Not Specified</td>\n",
       "      <td>11</td>\n",
       "      <td>3</td>\n",
       "      <td>1.98</td>\n",
       "      <td>1.000</td>\n",
       "      <td>Good</td>\n",
       "      <td>133.3</td>\n",
       "      <td>31.677</td>\n",
       "      <td>21 Years and 9 Months</td>\n",
       "      <td>No</td>\n",
       "      <td>31.907</td>\n",
       "      <td>223.97377228626283</td>\n",
       "      <td>Low_spent_Large_value_payments</td>\n",
       "      <td>335.22781420959444</td>\n",
       "      <td>Poor</td>\n",
       "    </tr>\n",
       "    <tr>\n",
       "      <th>1591</th>\n",
       "      <td>0x1f51</td>\n",
       "      <td>CUS_0x93ff</td>\n",
       "      <td>August</td>\n",
       "      <td>Roumeliotisv</td>\n",
       "      <td>27</td>\n",
       "      <td>237-50-9740</td>\n",
       "      <td>Lawyer</td>\n",
       "      <td>39696.98</td>\n",
       "      <td>3211.082</td>\n",
       "      <td>5</td>\n",
       "      <td>5</td>\n",
       "      <td>10</td>\n",
       "      <td>1</td>\n",
       "      <td>Not Specified</td>\n",
       "      <td>11</td>\n",
       "      <td>3</td>\n",
       "      <td>1.98</td>\n",
       "      <td>1194.000</td>\n",
       "      <td>Good</td>\n",
       "      <td>133.3</td>\n",
       "      <td>27.290</td>\n",
       "      <td>21 Years and 10 Months</td>\n",
       "      <td>No</td>\n",
       "      <td>31.907</td>\n",
       "      <td>239.0805687710546</td>\n",
       "      <td>Low_spent_Medium_value_payments</td>\n",
       "      <td>330.1210177248025</td>\n",
       "      <td>Poor</td>\n",
       "    </tr>\n",
       "  </tbody>\n",
       "</table>\n",
       "</div>"
      ],
      "text/plain": [
       "          id customer_id     month          name age          ssn occupation  \\\n",
       "1584  0x1f4a  CUS_0x93ff   January  Roumeliotisv  26  237-50-9740     Lawyer   \n",
       "1585  0x1f4b  CUS_0x93ff  February  Roumeliotisv  26  237-50-9740     Lawyer   \n",
       "1586  0x1f4c  CUS_0x93ff     March  Roumeliotisv  26  237-50-9740     Lawyer   \n",
       "1587  0x1f4d  CUS_0x93ff     April  Roumeliotisv  26  237-50-9740     Lawyer   \n",
       "1588  0x1f4e  CUS_0x93ff       May  Roumeliotisv  26  237-50-9740     Lawyer   \n",
       "1589  0x1f4f  CUS_0x93ff      June  Roumeliotisv  26  237-50-9740     Lawyer   \n",
       "1590  0x1f50  CUS_0x93ff      July  Roumeliotisv  27  237-50-9740     Lawyer   \n",
       "1591  0x1f51  CUS_0x93ff    August  Roumeliotisv  27  237-50-9740     Lawyer   \n",
       "\n",
       "     annual_income  monthly_inhand_salary  num_bank_accounts  num_credit_card  \\\n",
       "1584      39696.98               3211.082                  5                5   \n",
       "1585     39696.98_               3211.082                  5                5   \n",
       "1586      39696.98               3211.082                  5                5   \n",
       "1587      39696.98               3211.082                  5                5   \n",
       "1588      39696.98               3211.082                  5                5   \n",
       "1589      39696.98               3211.082                  5                5   \n",
       "1590      39696.98               3211.082                  5                5   \n",
       "1591      39696.98               3211.082                  5                5   \n",
       "\n",
       "      interest_rate num_of_loan   type_of_loan  delay_from_due_date  \\\n",
       "1584             10           1  Not Specified                   16   \n",
       "1585             10          1_  Not Specified                   11   \n",
       "1586             10           1  Not Specified                   11   \n",
       "1587             10           1  Not Specified                   11   \n",
       "1588           1115           1  Not Specified                   11   \n",
       "1589             10           1  Not Specified                   11   \n",
       "1590             10           1  Not Specified                   11   \n",
       "1591             10           1  Not Specified                   11   \n",
       "\n",
       "     num_of_delayed_payment changed_credit_limit  num_credit_inquiries  \\\n",
       "1584                      3                 1.98                 1.000   \n",
       "1585                      5                -5.02                 1.000   \n",
       "1586                      3                 1.98                 1.000   \n",
       "1587                      3                 1.98                 1.000   \n",
       "1588                      6                 1.98                 1.000   \n",
       "1589                      3                 1.98                 1.000   \n",
       "1590                      3                 1.98                 1.000   \n",
       "1591                      3                 1.98              1194.000   \n",
       "\n",
       "     credit_mix outstanding_debt  credit_utilization_ratio  \\\n",
       "1584       Good            133.3                    39.886   \n",
       "1585       Good            133.3                    29.998   \n",
       "1586       Good            133.3                    33.396   \n",
       "1587       Good            133.3                    28.844   \n",
       "1588       Good            133.3                    40.143   \n",
       "1589       Good            133.3                    24.870   \n",
       "1590       Good            133.3                    31.677   \n",
       "1591       Good            133.3                    27.290   \n",
       "\n",
       "          credit_history_age payment_of_min_amount  total_emi_per_month  \\\n",
       "1584   21 Years and 3 Months                    No               31.907   \n",
       "1585   21 Years and 3 Months                    NM               31.907   \n",
       "1586   21 Years and 5 Months                    No               31.907   \n",
       "1587   21 Years and 6 Months                    No               31.907   \n",
       "1588   21 Years and 7 Months                    No               31.907   \n",
       "1589   21 Years and 8 Months                    No               31.907   \n",
       "1590   21 Years and 9 Months                    No               31.907   \n",
       "1591  21 Years and 10 Months                    No               31.907   \n",
       "\n",
       "     amount_invested_monthly                 payment_behaviour  \\\n",
       "1584       73.87093984450794  High_spent_Medium_value_payments   \n",
       "1585        67.0732807694454  High_spent_Medium_value_payments   \n",
       "1586        56.2457675369253  High_spent_Medium_value_payments   \n",
       "1587       37.51782482904488  High_spent_Medium_value_payments   \n",
       "1588       44.04731679197315   High_spent_Large_value_payments   \n",
       "1589      156.79219440803175    Low_spent_Small_value_payments   \n",
       "1590      223.97377228626283    Low_spent_Large_value_payments   \n",
       "1591       239.0805687710546   Low_spent_Medium_value_payments   \n",
       "\n",
       "         monthly_balance credit_score  \n",
       "1584  465.33064665134935         Poor  \n",
       "1585  472.12830572641184         Poor  \n",
       "1586   482.9558189589319     Standard  \n",
       "1587   501.6837616668123         Poor  \n",
       "1588    485.154269703884         Poor  \n",
       "1589   422.4093920878255         Poor  \n",
       "1590  335.22781420959444         Poor  \n",
       "1591   330.1210177248025         Poor  "
      ]
     },
     "execution_count": 42,
     "metadata": {},
     "output_type": "execute_result"
    }
   ],
   "source": [
    "df[df[\"customer_id\"]==\"CUS_0x93ff\"]"
   ]
  },
  {
   "cell_type": "code",
   "execution_count": 43,
   "id": "d6465359",
   "metadata": {
    "ExecuteTime": {
     "end_time": "2024-04-25T02:38:38.423267Z",
     "start_time": "2024-04-25T02:38:38.393729Z"
    },
    "execution": {
     "iopub.execute_input": "2024-05-03T19:22:55.293919Z",
     "iopub.status.busy": "2024-05-03T19:22:55.293413Z",
     "iopub.status.idle": "2024-05-03T19:22:55.304974Z",
     "shell.execute_reply": "2024-05-03T19:22:55.304298Z"
    },
    "papermill": {
     "duration": 0.044507,
     "end_time": "2024-05-03T19:22:55.306731",
     "exception": false,
     "start_time": "2024-05-03T19:22:55.262224",
     "status": "completed"
    },
    "tags": []
   },
   "outputs": [
    {
     "data": {
      "text/html": [
       "<div>\n",
       "<style scoped>\n",
       "    .dataframe tbody tr th:only-of-type {\n",
       "        vertical-align: middle;\n",
       "    }\n",
       "\n",
       "    .dataframe tbody tr th {\n",
       "        vertical-align: top;\n",
       "    }\n",
       "\n",
       "    .dataframe thead th {\n",
       "        text-align: right;\n",
       "    }\n",
       "</style>\n",
       "<table border=\"1\" class=\"dataframe\">\n",
       "  <thead>\n",
       "    <tr style=\"text-align: right;\">\n",
       "      <th></th>\n",
       "      <th>type_of_loan</th>\n",
       "    </tr>\n",
       "  </thead>\n",
       "  <tbody>\n",
       "    <tr>\n",
       "      <th>48355</th>\n",
       "      <td>Credit-Builder Loan, Auto Loan, Credit-Builder...</td>\n",
       "    </tr>\n",
       "    <tr>\n",
       "      <th>34886</th>\n",
       "      <td>Auto Loan, and Personal Loan</td>\n",
       "    </tr>\n",
       "    <tr>\n",
       "      <th>24325</th>\n",
       "      <td>Home Equity Loan, and Auto Loan</td>\n",
       "    </tr>\n",
       "    <tr>\n",
       "      <th>30446</th>\n",
       "      <td>Payday Loan, Payday Loan, Debt Consolidation L...</td>\n",
       "    </tr>\n",
       "    <tr>\n",
       "      <th>66840</th>\n",
       "      <td>NaN</td>\n",
       "    </tr>\n",
       "    <tr>\n",
       "      <th>53690</th>\n",
       "      <td>Student Loan, Home Equity Loan, Home Equity Lo...</td>\n",
       "    </tr>\n",
       "    <tr>\n",
       "      <th>90549</th>\n",
       "      <td>Auto Loan, Mortgage Loan, Personal Loan, and H...</td>\n",
       "    </tr>\n",
       "    <tr>\n",
       "      <th>52632</th>\n",
       "      <td>Student Loan, and Home Equity Loan</td>\n",
       "    </tr>\n",
       "    <tr>\n",
       "      <th>98218</th>\n",
       "      <td>Auto Loan, Debt Consolidation Loan, and Debt C...</td>\n",
       "    </tr>\n",
       "    <tr>\n",
       "      <th>67395</th>\n",
       "      <td>Debt Consolidation Loan</td>\n",
       "    </tr>\n",
       "    <tr>\n",
       "      <th>52334</th>\n",
       "      <td>Debt Consolidation Loan, Personal Loan, Person...</td>\n",
       "    </tr>\n",
       "    <tr>\n",
       "      <th>11147</th>\n",
       "      <td>Debt Consolidation Loan, Auto Loan, Not Specif...</td>\n",
       "    </tr>\n",
       "    <tr>\n",
       "      <th>34545</th>\n",
       "      <td>Not Specified, Personal Loan, and Student Loan</td>\n",
       "    </tr>\n",
       "    <tr>\n",
       "      <th>23916</th>\n",
       "      <td>Student Loan, Debt Consolidation Loan, Auto Lo...</td>\n",
       "    </tr>\n",
       "    <tr>\n",
       "      <th>92249</th>\n",
       "      <td>Payday Loan, Payday Loan, and Payday Loan</td>\n",
       "    </tr>\n",
       "    <tr>\n",
       "      <th>99738</th>\n",
       "      <td>Debt Consolidation Loan, Payday Loan, Not Spec...</td>\n",
       "    </tr>\n",
       "    <tr>\n",
       "      <th>98092</th>\n",
       "      <td>Student Loan, and Student Loan</td>\n",
       "    </tr>\n",
       "    <tr>\n",
       "      <th>44681</th>\n",
       "      <td>Credit-Builder Loan, and Not Specified</td>\n",
       "    </tr>\n",
       "    <tr>\n",
       "      <th>86582</th>\n",
       "      <td>Not Specified, Payday Loan, and Payday Loan</td>\n",
       "    </tr>\n",
       "    <tr>\n",
       "      <th>80310</th>\n",
       "      <td>Auto Loan, and Home Equity Loan</td>\n",
       "    </tr>\n",
       "  </tbody>\n",
       "</table>\n",
       "</div>"
      ],
      "text/plain": [
       "                                            type_of_loan\n",
       "48355  Credit-Builder Loan, Auto Loan, Credit-Builder...\n",
       "34886                       Auto Loan, and Personal Loan\n",
       "24325                    Home Equity Loan, and Auto Loan\n",
       "30446  Payday Loan, Payday Loan, Debt Consolidation L...\n",
       "66840                                                NaN\n",
       "53690  Student Loan, Home Equity Loan, Home Equity Lo...\n",
       "90549  Auto Loan, Mortgage Loan, Personal Loan, and H...\n",
       "52632                 Student Loan, and Home Equity Loan\n",
       "98218  Auto Loan, Debt Consolidation Loan, and Debt C...\n",
       "67395                            Debt Consolidation Loan\n",
       "52334  Debt Consolidation Loan, Personal Loan, Person...\n",
       "11147  Debt Consolidation Loan, Auto Loan, Not Specif...\n",
       "34545     Not Specified, Personal Loan, and Student Loan\n",
       "23916  Student Loan, Debt Consolidation Loan, Auto Lo...\n",
       "92249          Payday Loan, Payday Loan, and Payday Loan\n",
       "99738  Debt Consolidation Loan, Payday Loan, Not Spec...\n",
       "98092                     Student Loan, and Student Loan\n",
       "44681             Credit-Builder Loan, and Not Specified\n",
       "86582        Not Specified, Payday Loan, and Payday Loan\n",
       "80310                    Auto Loan, and Home Equity Loan"
      ]
     },
     "execution_count": 43,
     "metadata": {},
     "output_type": "execute_result"
    }
   ],
   "source": [
    "df[[\"type_of_loan\"]].sample(20)"
   ]
  },
  {
   "cell_type": "code",
   "execution_count": 44,
   "id": "958b1f0c",
   "metadata": {
    "ExecuteTime": {
     "end_time": "2024-04-28T00:09:13.147697Z",
     "start_time": "2024-04-28T00:09:13.137197Z"
    },
    "execution": {
     "iopub.execute_input": "2024-05-03T19:22:55.367797Z",
     "iopub.status.busy": "2024-05-03T19:22:55.367504Z",
     "iopub.status.idle": "2024-05-03T19:22:55.371603Z",
     "shell.execute_reply": "2024-05-03T19:22:55.370909Z"
    },
    "papermill": {
     "duration": 0.035448,
     "end_time": "2024-05-03T19:22:55.373248",
     "exception": false,
     "start_time": "2024-05-03T19:22:55.337800",
     "status": "completed"
    },
    "tags": []
   },
   "outputs": [],
   "source": [
    "# Function used to transform the \"credit history age\" column to simplify our dataset and use numerical data\n",
    "# I changed the information given in \"15 years and 5 Months\" format as year and month to the month equivalent, that is, \"185 Months\" format.\n",
    "def credit_history(duration):                        \n",
    "    years, months = duration.split(' Years and ')\n",
    "    months = months.split(' Months')[0]\n",
    "    total_months = int(years) * 12 + int(months)\n",
    "    return total_months"
   ]
  },
  {
   "cell_type": "code",
   "execution_count": 45,
   "id": "706521ce",
   "metadata": {
    "ExecuteTime": {
     "end_time": "2024-04-28T01:11:09.660950Z",
     "start_time": "2024-04-28T01:11:09.433843Z"
    },
    "execution": {
     "iopub.execute_input": "2024-05-03T19:22:55.432303Z",
     "iopub.status.busy": "2024-05-03T19:22:55.432008Z",
     "iopub.status.idle": "2024-05-03T19:22:55.541666Z",
     "shell.execute_reply": "2024-05-03T19:22:55.540976Z"
    },
    "papermill": {
     "duration": 0.140414,
     "end_time": "2024-05-03T19:22:55.543276",
     "exception": false,
     "start_time": "2024-05-03T19:22:55.402862",
     "status": "completed"
    },
    "tags": []
   },
   "outputs": [
    {
     "data": {
      "text/plain": [
       "0    265\n",
       "1    265\n",
       "2    267\n",
       "3    268\n",
       "4    269\n",
       "Name: credit_history_age, dtype: int64"
      ]
     },
     "execution_count": 45,
     "metadata": {},
     "output_type": "execute_result"
    }
   ],
   "source": [
    "df[\"credit_history_age\"] = df[\"credit_history_age\"].apply(credit_history) \n",
    "df[\"credit_history_age\"].head()"
   ]
  },
  {
   "cell_type": "code",
   "execution_count": 46,
   "id": "4e313cfa",
   "metadata": {
    "ExecuteTime": {
     "end_time": "2024-04-28T00:09:18.554924Z",
     "start_time": "2024-04-28T00:09:18.505150Z"
    },
    "execution": {
     "iopub.execute_input": "2024-05-03T19:22:55.600383Z",
     "iopub.status.busy": "2024-05-03T19:22:55.600131Z",
     "iopub.status.idle": "2024-05-03T19:22:55.618076Z",
     "shell.execute_reply": "2024-05-03T19:22:55.617508Z"
    },
    "papermill": {
     "duration": 0.048609,
     "end_time": "2024-05-03T19:22:55.619678",
     "exception": false,
     "start_time": "2024-05-03T19:22:55.571069",
     "status": "completed"
    },
    "tags": []
   },
   "outputs": [
    {
     "data": {
      "text/html": [
       "<div>\n",
       "<style scoped>\n",
       "    .dataframe tbody tr th:only-of-type {\n",
       "        vertical-align: middle;\n",
       "    }\n",
       "\n",
       "    .dataframe tbody tr th {\n",
       "        vertical-align: top;\n",
       "    }\n",
       "\n",
       "    .dataframe thead th {\n",
       "        text-align: right;\n",
       "    }\n",
       "</style>\n",
       "<table border=\"1\" class=\"dataframe\">\n",
       "  <thead>\n",
       "    <tr style=\"text-align: right;\">\n",
       "      <th></th>\n",
       "      <th>id</th>\n",
       "      <th>customer_id</th>\n",
       "      <th>month</th>\n",
       "      <th>name</th>\n",
       "      <th>age</th>\n",
       "      <th>ssn</th>\n",
       "      <th>occupation</th>\n",
       "      <th>annual_income</th>\n",
       "      <th>monthly_inhand_salary</th>\n",
       "      <th>num_bank_accounts</th>\n",
       "      <th>num_credit_card</th>\n",
       "      <th>interest_rate</th>\n",
       "      <th>num_of_loan</th>\n",
       "      <th>type_of_loan</th>\n",
       "      <th>delay_from_due_date</th>\n",
       "      <th>num_of_delayed_payment</th>\n",
       "      <th>changed_credit_limit</th>\n",
       "      <th>num_credit_inquiries</th>\n",
       "      <th>credit_mix</th>\n",
       "      <th>outstanding_debt</th>\n",
       "      <th>credit_utilization_ratio</th>\n",
       "      <th>credit_history_age</th>\n",
       "      <th>payment_of_min_amount</th>\n",
       "      <th>total_emi_per_month</th>\n",
       "      <th>amount_invested_monthly</th>\n",
       "      <th>payment_behaviour</th>\n",
       "      <th>monthly_balance</th>\n",
       "      <th>credit_score</th>\n",
       "    </tr>\n",
       "  </thead>\n",
       "  <tbody>\n",
       "    <tr>\n",
       "      <th>57196</th>\n",
       "      <td>0x16522</td>\n",
       "      <td>CUS_0x970f</td>\n",
       "      <td>May</td>\n",
       "      <td>Hodog</td>\n",
       "      <td>30</td>\n",
       "      <td>#F%$D@*&amp;8</td>\n",
       "      <td>Musician</td>\n",
       "      <td>121944.2</td>\n",
       "      <td>10247.017</td>\n",
       "      <td>3</td>\n",
       "      <td>6</td>\n",
       "      <td>2</td>\n",
       "      <td>1</td>\n",
       "      <td>Not Specified</td>\n",
       "      <td>23</td>\n",
       "      <td>17</td>\n",
       "      <td>9.16</td>\n",
       "      <td>2.000</td>\n",
       "      <td>Good</td>\n",
       "      <td>1344.25</td>\n",
       "      <td>35.793</td>\n",
       "      <td>362</td>\n",
       "      <td>No</td>\n",
       "      <td>50685.000</td>\n",
       "      <td>229.845873287016</td>\n",
       "      <td>High_spent_Large_value_payments</td>\n",
       "      <td>978.8201936792681</td>\n",
       "      <td>Standard</td>\n",
       "    </tr>\n",
       "    <tr>\n",
       "      <th>548</th>\n",
       "      <td>0x1936</td>\n",
       "      <td>CUS_0x74f2</td>\n",
       "      <td>May</td>\n",
       "      <td>Colew</td>\n",
       "      <td>30</td>\n",
       "      <td>755-18-0308</td>\n",
       "      <td>Architect</td>\n",
       "      <td>30390.44_</td>\n",
       "      <td>2721.537</td>\n",
       "      <td>5</td>\n",
       "      <td>6</td>\n",
       "      <td>5</td>\n",
       "      <td>4</td>\n",
       "      <td>Mortgage Loan, Student Loan, Not Specified, an...</td>\n",
       "      <td>15</td>\n",
       "      <td>18</td>\n",
       "      <td>8.36</td>\n",
       "      <td>4.000</td>\n",
       "      <td>Standard</td>\n",
       "      <td>580.31</td>\n",
       "      <td>38.002</td>\n",
       "      <td>295</td>\n",
       "      <td>No</td>\n",
       "      <td>64504.000</td>\n",
       "      <td>169.87637431078454</td>\n",
       "      <td>Low_spent_Large_value_payments</td>\n",
       "      <td>307.42925415086404</td>\n",
       "      <td>Standard</td>\n",
       "    </tr>\n",
       "    <tr>\n",
       "      <th>30170</th>\n",
       "      <td>0xc6c8</td>\n",
       "      <td>CUS_0xc2e8</td>\n",
       "      <td>March</td>\n",
       "      <td>Blamontc</td>\n",
       "      <td>40</td>\n",
       "      <td>243-24-5828</td>\n",
       "      <td>Architect</td>\n",
       "      <td>38325.88</td>\n",
       "      <td>2942.823</td>\n",
       "      <td>3</td>\n",
       "      <td>7</td>\n",
       "      <td>22</td>\n",
       "      <td>7</td>\n",
       "      <td>Auto Loan, Personal Loan, Personal Loan, Credi...</td>\n",
       "      <td>10</td>\n",
       "      <td>20</td>\n",
       "      <td>15.88</td>\n",
       "      <td>7.000</td>\n",
       "      <td>Standard</td>\n",
       "      <td>1765.56</td>\n",
       "      <td>24.139</td>\n",
       "      <td>113</td>\n",
       "      <td>Yes</td>\n",
       "      <td>173.695</td>\n",
       "      <td>297.7419506886757</td>\n",
       "      <td>Low_spent_Small_value_payments</td>\n",
       "      <td>112.84534812275179</td>\n",
       "      <td>Poor</td>\n",
       "    </tr>\n",
       "    <tr>\n",
       "      <th>18191</th>\n",
       "      <td>0x8095</td>\n",
       "      <td>CUS_0x8d45</td>\n",
       "      <td>August</td>\n",
       "      <td>Terril Yued</td>\n",
       "      <td>38</td>\n",
       "      <td>239-07-9719</td>\n",
       "      <td>Mechanic</td>\n",
       "      <td>18718.52</td>\n",
       "      <td>1784.877</td>\n",
       "      <td>6</td>\n",
       "      <td>9</td>\n",
       "      <td>16</td>\n",
       "      <td>-100</td>\n",
       "      <td>Credit-Builder Loan, Student Loan, Credit-Buil...</td>\n",
       "      <td>56</td>\n",
       "      <td>15</td>\n",
       "      <td>18.73</td>\n",
       "      <td>14.000</td>\n",
       "      <td>Bad</td>\n",
       "      <td>4432.96</td>\n",
       "      <td>33.606</td>\n",
       "      <td>139</td>\n",
       "      <td>Yes</td>\n",
       "      <td>126.491</td>\n",
       "      <td>47.587900225325754</td>\n",
       "      <td>High_spent_Medium_value_payments</td>\n",
       "      <td>254.40827721361592</td>\n",
       "      <td>Poor</td>\n",
       "    </tr>\n",
       "    <tr>\n",
       "      <th>62533</th>\n",
       "      <td>0x18467</td>\n",
       "      <td>CUS_0x3033</td>\n",
       "      <td>June</td>\n",
       "      <td>Tommyl</td>\n",
       "      <td>55</td>\n",
       "      <td>159-13-7415</td>\n",
       "      <td>Teacher</td>\n",
       "      <td>97635.87</td>\n",
       "      <td>6907.982</td>\n",
       "      <td>3</td>\n",
       "      <td>4</td>\n",
       "      <td>12</td>\n",
       "      <td>-100</td>\n",
       "      <td>Student Loan, Personal Loan, and Auto Loan</td>\n",
       "      <td>18</td>\n",
       "      <td>8</td>\n",
       "      <td>7.17</td>\n",
       "      <td>4.000</td>\n",
       "      <td>Good</td>\n",
       "      <td>1298.97</td>\n",
       "      <td>31.720</td>\n",
       "      <td>309</td>\n",
       "      <td>No</td>\n",
       "      <td>1203.206</td>\n",
       "      <td>131.8406790245576</td>\n",
       "      <td>High_spent_Large_value_payments</td>\n",
       "      <td>684.0259203446677</td>\n",
       "      <td>Standard</td>\n",
       "    </tr>\n",
       "  </tbody>\n",
       "</table>\n",
       "</div>"
      ],
      "text/plain": [
       "            id customer_id   month         name age          ssn occupation  \\\n",
       "57196  0x16522  CUS_0x970f     May        Hodog  30    #F%$D@*&8   Musician   \n",
       "548     0x1936  CUS_0x74f2     May        Colew  30  755-18-0308  Architect   \n",
       "30170   0xc6c8  CUS_0xc2e8   March     Blamontc  40  243-24-5828  Architect   \n",
       "18191   0x8095  CUS_0x8d45  August  Terril Yued  38  239-07-9719   Mechanic   \n",
       "62533  0x18467  CUS_0x3033    June       Tommyl  55  159-13-7415    Teacher   \n",
       "\n",
       "      annual_income  monthly_inhand_salary  num_bank_accounts  \\\n",
       "57196      121944.2              10247.017                  3   \n",
       "548       30390.44_               2721.537                  5   \n",
       "30170      38325.88               2942.823                  3   \n",
       "18191      18718.52               1784.877                  6   \n",
       "62533      97635.87               6907.982                  3   \n",
       "\n",
       "       num_credit_card  interest_rate num_of_loan  \\\n",
       "57196                6              2           1   \n",
       "548                  6              5           4   \n",
       "30170                7             22           7   \n",
       "18191                9             16        -100   \n",
       "62533                4             12        -100   \n",
       "\n",
       "                                            type_of_loan  delay_from_due_date  \\\n",
       "57196                                      Not Specified                   23   \n",
       "548    Mortgage Loan, Student Loan, Not Specified, an...                   15   \n",
       "30170  Auto Loan, Personal Loan, Personal Loan, Credi...                   10   \n",
       "18191  Credit-Builder Loan, Student Loan, Credit-Buil...                   56   \n",
       "62533         Student Loan, Personal Loan, and Auto Loan                   18   \n",
       "\n",
       "      num_of_delayed_payment changed_credit_limit  num_credit_inquiries  \\\n",
       "57196                     17                 9.16                 2.000   \n",
       "548                       18                 8.36                 4.000   \n",
       "30170                     20                15.88                 7.000   \n",
       "18191                     15                18.73                14.000   \n",
       "62533                      8                 7.17                 4.000   \n",
       "\n",
       "      credit_mix outstanding_debt  credit_utilization_ratio  \\\n",
       "57196       Good          1344.25                    35.793   \n",
       "548     Standard           580.31                    38.002   \n",
       "30170   Standard          1765.56                    24.139   \n",
       "18191        Bad          4432.96                    33.606   \n",
       "62533       Good          1298.97                    31.720   \n",
       "\n",
       "       credit_history_age payment_of_min_amount  total_emi_per_month  \\\n",
       "57196                 362                    No            50685.000   \n",
       "548                   295                    No            64504.000   \n",
       "30170                 113                   Yes              173.695   \n",
       "18191                 139                   Yes              126.491   \n",
       "62533                 309                    No             1203.206   \n",
       "\n",
       "      amount_invested_monthly                 payment_behaviour  \\\n",
       "57196        229.845873287016   High_spent_Large_value_payments   \n",
       "548        169.87637431078454    Low_spent_Large_value_payments   \n",
       "30170       297.7419506886757    Low_spent_Small_value_payments   \n",
       "18191      47.587900225325754  High_spent_Medium_value_payments   \n",
       "62533       131.8406790245576   High_spent_Large_value_payments   \n",
       "\n",
       "          monthly_balance credit_score  \n",
       "57196   978.8201936792681     Standard  \n",
       "548    307.42925415086404     Standard  \n",
       "30170  112.84534812275179         Poor  \n",
       "18191  254.40827721361592         Poor  \n",
       "62533   684.0259203446677     Standard  "
      ]
     },
     "execution_count": 46,
     "metadata": {},
     "output_type": "execute_result"
    }
   ],
   "source": [
    "df.sample(5)"
   ]
  },
  {
   "cell_type": "code",
   "execution_count": 47,
   "id": "9b9f2acc",
   "metadata": {
    "ExecuteTime": {
     "end_time": "2024-04-28T01:11:13.503894Z",
     "start_time": "2024-04-28T01:11:13.455102Z"
    },
    "execution": {
     "iopub.execute_input": "2024-05-03T19:22:55.677878Z",
     "iopub.status.busy": "2024-05-03T19:22:55.677640Z",
     "iopub.status.idle": "2024-05-03T19:22:55.703754Z",
     "shell.execute_reply": "2024-05-03T19:22:55.703126Z"
    },
    "papermill": {
     "duration": 0.057318,
     "end_time": "2024-05-03T19:22:55.705370",
     "exception": false,
     "start_time": "2024-05-03T19:22:55.648052",
     "status": "completed"
    },
    "tags": []
   },
   "outputs": [],
   "source": [
    "df.age = df.age.apply(lambda x : x.rstrip(\"_\").lstrip(\"_\"))"
   ]
  },
  {
   "cell_type": "code",
   "execution_count": 48,
   "id": "09d2bb9d",
   "metadata": {
    "ExecuteTime": {
     "end_time": "2024-04-28T01:11:15.427622Z",
     "start_time": "2024-04-28T01:11:15.359985Z"
    },
    "execution": {
     "iopub.execute_input": "2024-05-03T19:22:55.765549Z",
     "iopub.status.busy": "2024-05-03T19:22:55.765245Z",
     "iopub.status.idle": "2024-05-03T19:22:55.796062Z",
     "shell.execute_reply": "2024-05-03T19:22:55.795377Z"
    },
    "papermill": {
     "duration": 0.064313,
     "end_time": "2024-05-03T19:22:55.798048",
     "exception": false,
     "start_time": "2024-05-03T19:22:55.733735",
     "status": "completed"
    },
    "tags": []
   },
   "outputs": [],
   "source": [
    "df[\"amount_invested_monthly\"]=df[\"amount_invested_monthly\"].apply(lambda x : x.rstrip(\"__\").lstrip(\"__\"))"
   ]
  },
  {
   "cell_type": "code",
   "execution_count": 49,
   "id": "1021b130",
   "metadata": {
    "ExecuteTime": {
     "end_time": "2024-04-28T01:11:17.383935Z",
     "start_time": "2024-04-28T01:11:17.117271Z"
    },
    "execution": {
     "iopub.execute_input": "2024-05-03T19:22:55.858588Z",
     "iopub.status.busy": "2024-05-03T19:22:55.858313Z",
     "iopub.status.idle": "2024-05-03T19:22:55.983313Z",
     "shell.execute_reply": "2024-05-03T19:22:55.982543Z"
    },
    "papermill": {
     "duration": 0.157189,
     "end_time": "2024-05-03T19:22:55.985655",
     "exception": false,
     "start_time": "2024-05-03T19:22:55.828466",
     "status": "completed"
    },
    "tags": []
   },
   "outputs": [],
   "source": [
    "df[\"amount_invested_monthly\"]=df[\"amount_invested_monthly\"].apply(lambda x : round(float(x),3))"
   ]
  },
  {
   "cell_type": "code",
   "execution_count": 50,
   "id": "f3588864",
   "metadata": {
    "ExecuteTime": {
     "end_time": "2024-04-28T01:11:18.829014Z",
     "start_time": "2024-04-28T01:11:18.769766Z"
    },
    "execution": {
     "iopub.execute_input": "2024-05-03T19:22:56.051385Z",
     "iopub.status.busy": "2024-05-03T19:22:56.051063Z",
     "iopub.status.idle": "2024-05-03T19:22:56.088630Z",
     "shell.execute_reply": "2024-05-03T19:22:56.087941Z"
    },
    "papermill": {
     "duration": 0.072889,
     "end_time": "2024-05-03T19:22:56.090336",
     "exception": false,
     "start_time": "2024-05-03T19:22:56.017447",
     "status": "completed"
    },
    "tags": []
   },
   "outputs": [],
   "source": [
    "df[\"monthly_balance\"]=df[\"monthly_balance\"].apply(lambda x : str(x).lstrip(\"__\").rstrip(\"__\"))"
   ]
  },
  {
   "cell_type": "code",
   "execution_count": 51,
   "id": "e3be4432",
   "metadata": {
    "ExecuteTime": {
     "end_time": "2024-04-28T01:11:20.794915Z",
     "start_time": "2024-04-28T01:11:20.537134Z"
    },
    "execution": {
     "iopub.execute_input": "2024-05-03T19:22:56.153767Z",
     "iopub.status.busy": "2024-05-03T19:22:56.152987Z",
     "iopub.status.idle": "2024-05-03T19:22:56.275665Z",
     "shell.execute_reply": "2024-05-03T19:22:56.274898Z"
    },
    "papermill": {
     "duration": 0.1568,
     "end_time": "2024-05-03T19:22:56.277625",
     "exception": false,
     "start_time": "2024-05-03T19:22:56.120825",
     "status": "completed"
    },
    "tags": []
   },
   "outputs": [],
   "source": [
    "df[\"monthly_balance\"]=df[\"monthly_balance\"].apply(lambda x : round(float(x),3))"
   ]
  },
  {
   "cell_type": "code",
   "execution_count": 52,
   "id": "410e7415",
   "metadata": {
    "ExecuteTime": {
     "end_time": "2024-04-28T01:11:26.219995Z",
     "start_time": "2024-04-28T01:11:26.175768Z"
    },
    "execution": {
     "iopub.execute_input": "2024-05-03T19:22:56.337049Z",
     "iopub.status.busy": "2024-05-03T19:22:56.336766Z",
     "iopub.status.idle": "2024-05-03T19:22:56.354356Z",
     "shell.execute_reply": "2024-05-03T19:22:56.353742Z"
    },
    "papermill": {
     "duration": 0.049584,
     "end_time": "2024-05-03T19:22:56.356011",
     "exception": false,
     "start_time": "2024-05-03T19:22:56.306427",
     "status": "completed"
    },
    "tags": []
   },
   "outputs": [
    {
     "data": {
      "text/html": [
       "<div>\n",
       "<style scoped>\n",
       "    .dataframe tbody tr th:only-of-type {\n",
       "        vertical-align: middle;\n",
       "    }\n",
       "\n",
       "    .dataframe tbody tr th {\n",
       "        vertical-align: top;\n",
       "    }\n",
       "\n",
       "    .dataframe thead th {\n",
       "        text-align: right;\n",
       "    }\n",
       "</style>\n",
       "<table border=\"1\" class=\"dataframe\">\n",
       "  <thead>\n",
       "    <tr style=\"text-align: right;\">\n",
       "      <th></th>\n",
       "      <th>id</th>\n",
       "      <th>customer_id</th>\n",
       "      <th>month</th>\n",
       "      <th>name</th>\n",
       "      <th>age</th>\n",
       "      <th>ssn</th>\n",
       "      <th>occupation</th>\n",
       "      <th>annual_income</th>\n",
       "      <th>monthly_inhand_salary</th>\n",
       "      <th>num_bank_accounts</th>\n",
       "      <th>num_credit_card</th>\n",
       "      <th>interest_rate</th>\n",
       "      <th>num_of_loan</th>\n",
       "      <th>type_of_loan</th>\n",
       "      <th>delay_from_due_date</th>\n",
       "      <th>num_of_delayed_payment</th>\n",
       "      <th>changed_credit_limit</th>\n",
       "      <th>num_credit_inquiries</th>\n",
       "      <th>credit_mix</th>\n",
       "      <th>outstanding_debt</th>\n",
       "      <th>credit_utilization_ratio</th>\n",
       "      <th>credit_history_age</th>\n",
       "      <th>payment_of_min_amount</th>\n",
       "      <th>total_emi_per_month</th>\n",
       "      <th>amount_invested_monthly</th>\n",
       "      <th>payment_behaviour</th>\n",
       "      <th>monthly_balance</th>\n",
       "      <th>credit_score</th>\n",
       "    </tr>\n",
       "  </thead>\n",
       "  <tbody>\n",
       "    <tr>\n",
       "      <th>0</th>\n",
       "      <td>0x1602</td>\n",
       "      <td>CUS_0xd40</td>\n",
       "      <td>January</td>\n",
       "      <td>Aaron Maashoh</td>\n",
       "      <td>23</td>\n",
       "      <td>821-00-0265</td>\n",
       "      <td>Scientist</td>\n",
       "      <td>19114.12</td>\n",
       "      <td>1824.843</td>\n",
       "      <td>3</td>\n",
       "      <td>4</td>\n",
       "      <td>3</td>\n",
       "      <td>4</td>\n",
       "      <td>Auto Loan, Credit-Builder Loan, Personal Loan,...</td>\n",
       "      <td>3</td>\n",
       "      <td>7</td>\n",
       "      <td>11.27</td>\n",
       "      <td>4.000</td>\n",
       "      <td>Good</td>\n",
       "      <td>809.98</td>\n",
       "      <td>26.823</td>\n",
       "      <td>265</td>\n",
       "      <td>No</td>\n",
       "      <td>49.575</td>\n",
       "      <td>80.415</td>\n",
       "      <td>High_spent_Small_value_payments</td>\n",
       "      <td>312.494</td>\n",
       "      <td>Good</td>\n",
       "    </tr>\n",
       "    <tr>\n",
       "      <th>1</th>\n",
       "      <td>0x1603</td>\n",
       "      <td>CUS_0xd40</td>\n",
       "      <td>February</td>\n",
       "      <td>Aaron Maashoh</td>\n",
       "      <td>23</td>\n",
       "      <td>821-00-0265</td>\n",
       "      <td>Scientist</td>\n",
       "      <td>19114.12</td>\n",
       "      <td>1824.843</td>\n",
       "      <td>3</td>\n",
       "      <td>4</td>\n",
       "      <td>3</td>\n",
       "      <td>4</td>\n",
       "      <td>Auto Loan, Credit-Builder Loan, Personal Loan,...</td>\n",
       "      <td>-1</td>\n",
       "      <td>7</td>\n",
       "      <td>11.27</td>\n",
       "      <td>4.000</td>\n",
       "      <td>Good</td>\n",
       "      <td>809.98</td>\n",
       "      <td>31.945</td>\n",
       "      <td>265</td>\n",
       "      <td>No</td>\n",
       "      <td>49.575</td>\n",
       "      <td>118.280</td>\n",
       "      <td>Low_spent_Large_value_payments</td>\n",
       "      <td>284.629</td>\n",
       "      <td>Good</td>\n",
       "    </tr>\n",
       "    <tr>\n",
       "      <th>2</th>\n",
       "      <td>0x1604</td>\n",
       "      <td>CUS_0xd40</td>\n",
       "      <td>March</td>\n",
       "      <td>Aaron Maashoh</td>\n",
       "      <td>-500</td>\n",
       "      <td>821-00-0265</td>\n",
       "      <td>Scientist</td>\n",
       "      <td>19114.12</td>\n",
       "      <td>1824.843</td>\n",
       "      <td>3</td>\n",
       "      <td>4</td>\n",
       "      <td>3</td>\n",
       "      <td>4</td>\n",
       "      <td>Auto Loan, Credit-Builder Loan, Personal Loan,...</td>\n",
       "      <td>3</td>\n",
       "      <td>7</td>\n",
       "      <td>11.27</td>\n",
       "      <td>4.000</td>\n",
       "      <td>Good</td>\n",
       "      <td>809.98</td>\n",
       "      <td>28.609</td>\n",
       "      <td>267</td>\n",
       "      <td>No</td>\n",
       "      <td>49.575</td>\n",
       "      <td>81.700</td>\n",
       "      <td>Low_spent_Medium_value_payments</td>\n",
       "      <td>331.210</td>\n",
       "      <td>Good</td>\n",
       "    </tr>\n",
       "    <tr>\n",
       "      <th>3</th>\n",
       "      <td>0x1605</td>\n",
       "      <td>CUS_0xd40</td>\n",
       "      <td>April</td>\n",
       "      <td>Aaron Maashoh</td>\n",
       "      <td>23</td>\n",
       "      <td>821-00-0265</td>\n",
       "      <td>Scientist</td>\n",
       "      <td>19114.12</td>\n",
       "      <td>1824.843</td>\n",
       "      <td>3</td>\n",
       "      <td>4</td>\n",
       "      <td>3</td>\n",
       "      <td>4</td>\n",
       "      <td>Auto Loan, Credit-Builder Loan, Personal Loan,...</td>\n",
       "      <td>5</td>\n",
       "      <td>4</td>\n",
       "      <td>6.27</td>\n",
       "      <td>4.000</td>\n",
       "      <td>Good</td>\n",
       "      <td>809.98</td>\n",
       "      <td>31.378</td>\n",
       "      <td>268</td>\n",
       "      <td>No</td>\n",
       "      <td>49.575</td>\n",
       "      <td>199.458</td>\n",
       "      <td>Low_spent_Small_value_payments</td>\n",
       "      <td>223.451</td>\n",
       "      <td>Good</td>\n",
       "    </tr>\n",
       "    <tr>\n",
       "      <th>4</th>\n",
       "      <td>0x1606</td>\n",
       "      <td>CUS_0xd40</td>\n",
       "      <td>May</td>\n",
       "      <td>Aaron Maashoh</td>\n",
       "      <td>23</td>\n",
       "      <td>821-00-0265</td>\n",
       "      <td>Scientist</td>\n",
       "      <td>19114.12</td>\n",
       "      <td>1824.843</td>\n",
       "      <td>3</td>\n",
       "      <td>4</td>\n",
       "      <td>3</td>\n",
       "      <td>4</td>\n",
       "      <td>Auto Loan, Credit-Builder Loan, Personal Loan,...</td>\n",
       "      <td>6</td>\n",
       "      <td>4</td>\n",
       "      <td>11.27</td>\n",
       "      <td>4.000</td>\n",
       "      <td>Good</td>\n",
       "      <td>809.98</td>\n",
       "      <td>24.797</td>\n",
       "      <td>269</td>\n",
       "      <td>No</td>\n",
       "      <td>49.575</td>\n",
       "      <td>41.420</td>\n",
       "      <td>High_spent_Medium_value_payments</td>\n",
       "      <td>341.489</td>\n",
       "      <td>Good</td>\n",
       "    </tr>\n",
       "  </tbody>\n",
       "</table>\n",
       "</div>"
      ],
      "text/plain": [
       "       id customer_id     month           name   age          ssn occupation  \\\n",
       "0  0x1602   CUS_0xd40   January  Aaron Maashoh    23  821-00-0265  Scientist   \n",
       "1  0x1603   CUS_0xd40  February  Aaron Maashoh    23  821-00-0265  Scientist   \n",
       "2  0x1604   CUS_0xd40     March  Aaron Maashoh  -500  821-00-0265  Scientist   \n",
       "3  0x1605   CUS_0xd40     April  Aaron Maashoh    23  821-00-0265  Scientist   \n",
       "4  0x1606   CUS_0xd40       May  Aaron Maashoh    23  821-00-0265  Scientist   \n",
       "\n",
       "  annual_income  monthly_inhand_salary  num_bank_accounts  num_credit_card  \\\n",
       "0      19114.12               1824.843                  3                4   \n",
       "1      19114.12               1824.843                  3                4   \n",
       "2      19114.12               1824.843                  3                4   \n",
       "3      19114.12               1824.843                  3                4   \n",
       "4      19114.12               1824.843                  3                4   \n",
       "\n",
       "   interest_rate num_of_loan  \\\n",
       "0              3           4   \n",
       "1              3           4   \n",
       "2              3           4   \n",
       "3              3           4   \n",
       "4              3           4   \n",
       "\n",
       "                                        type_of_loan  delay_from_due_date  \\\n",
       "0  Auto Loan, Credit-Builder Loan, Personal Loan,...                    3   \n",
       "1  Auto Loan, Credit-Builder Loan, Personal Loan,...                   -1   \n",
       "2  Auto Loan, Credit-Builder Loan, Personal Loan,...                    3   \n",
       "3  Auto Loan, Credit-Builder Loan, Personal Loan,...                    5   \n",
       "4  Auto Loan, Credit-Builder Loan, Personal Loan,...                    6   \n",
       "\n",
       "  num_of_delayed_payment changed_credit_limit  num_credit_inquiries  \\\n",
       "0                      7                11.27                 4.000   \n",
       "1                      7                11.27                 4.000   \n",
       "2                      7                11.27                 4.000   \n",
       "3                      4                 6.27                 4.000   \n",
       "4                      4                11.27                 4.000   \n",
       "\n",
       "  credit_mix outstanding_debt  credit_utilization_ratio  credit_history_age  \\\n",
       "0       Good           809.98                    26.823                 265   \n",
       "1       Good           809.98                    31.945                 265   \n",
       "2       Good           809.98                    28.609                 267   \n",
       "3       Good           809.98                    31.378                 268   \n",
       "4       Good           809.98                    24.797                 269   \n",
       "\n",
       "  payment_of_min_amount  total_emi_per_month  amount_invested_monthly  \\\n",
       "0                    No               49.575                   80.415   \n",
       "1                    No               49.575                  118.280   \n",
       "2                    No               49.575                   81.700   \n",
       "3                    No               49.575                  199.458   \n",
       "4                    No               49.575                   41.420   \n",
       "\n",
       "                  payment_behaviour  monthly_balance credit_score  \n",
       "0   High_spent_Small_value_payments          312.494         Good  \n",
       "1    Low_spent_Large_value_payments          284.629         Good  \n",
       "2   Low_spent_Medium_value_payments          331.210         Good  \n",
       "3    Low_spent_Small_value_payments          223.451         Good  \n",
       "4  High_spent_Medium_value_payments          341.489         Good  "
      ]
     },
     "execution_count": 52,
     "metadata": {},
     "output_type": "execute_result"
    }
   ],
   "source": [
    "df.head()"
   ]
  },
  {
   "cell_type": "code",
   "execution_count": 53,
   "id": "56d8e7fd",
   "metadata": {
    "ExecuteTime": {
     "end_time": "2024-04-27T23:30:58.440649Z",
     "start_time": "2024-04-27T23:30:56.862165Z"
    },
    "execution": {
     "iopub.execute_input": "2024-05-03T19:22:56.422902Z",
     "iopub.status.busy": "2024-05-03T19:22:56.422557Z",
     "iopub.status.idle": "2024-05-03T19:22:57.011283Z",
     "shell.execute_reply": "2024-05-03T19:22:57.010670Z"
    },
    "papermill": {
     "duration": 0.624774,
     "end_time": "2024-05-03T19:22:57.013678",
     "exception": false,
     "start_time": "2024-05-03T19:22:56.388904",
     "status": "completed"
    },
    "tags": []
   },
   "outputs": [
    {
     "data": {
      "text/html": [
       "<div>\n",
       "<style scoped>\n",
       "    .dataframe tbody tr th:only-of-type {\n",
       "        vertical-align: middle;\n",
       "    }\n",
       "\n",
       "    .dataframe tbody tr th {\n",
       "        vertical-align: top;\n",
       "    }\n",
       "\n",
       "    .dataframe thead th {\n",
       "        text-align: right;\n",
       "    }\n",
       "</style>\n",
       "<table border=\"1\" class=\"dataframe\">\n",
       "  <thead>\n",
       "    <tr style=\"text-align: right;\">\n",
       "      <th></th>\n",
       "      <th>Type</th>\n",
       "      <th>Nunique</th>\n",
       "      <th>#of Missing</th>\n",
       "      <th>MostFreqItem</th>\n",
       "      <th>MostFreqCount</th>\n",
       "      <th>First</th>\n",
       "    </tr>\n",
       "  </thead>\n",
       "  <tbody>\n",
       "    <tr>\n",
       "      <th>id</th>\n",
       "      <td>object</td>\n",
       "      <td>100000</td>\n",
       "      <td>0</td>\n",
       "      <td>0x25fb6</td>\n",
       "      <td>1</td>\n",
       "      <td>0x1602</td>\n",
       "    </tr>\n",
       "    <tr>\n",
       "      <th>customer_id</th>\n",
       "      <td>object</td>\n",
       "      <td>12500</td>\n",
       "      <td>0</td>\n",
       "      <td>CUS_0x942c</td>\n",
       "      <td>8</td>\n",
       "      <td>CUS_0xd40</td>\n",
       "    </tr>\n",
       "    <tr>\n",
       "      <th>month</th>\n",
       "      <td>object</td>\n",
       "      <td>8</td>\n",
       "      <td>0</td>\n",
       "      <td>January</td>\n",
       "      <td>12500</td>\n",
       "      <td>January</td>\n",
       "    </tr>\n",
       "    <tr>\n",
       "      <th>name</th>\n",
       "      <td>object</td>\n",
       "      <td>10139</td>\n",
       "      <td>0</td>\n",
       "      <td>Stevex</td>\n",
       "      <td>48</td>\n",
       "      <td>Aaron Maashoh</td>\n",
       "    </tr>\n",
       "    <tr>\n",
       "      <th>age</th>\n",
       "      <td>object</td>\n",
       "      <td>1728</td>\n",
       "      <td>0</td>\n",
       "      <td>38</td>\n",
       "      <td>2994</td>\n",
       "      <td>23</td>\n",
       "    </tr>\n",
       "    <tr>\n",
       "      <th>ssn</th>\n",
       "      <td>object</td>\n",
       "      <td>12501</td>\n",
       "      <td>0</td>\n",
       "      <td>#F%$D@*&amp;8</td>\n",
       "      <td>5572</td>\n",
       "      <td>821-00-0265</td>\n",
       "    </tr>\n",
       "    <tr>\n",
       "      <th>occupation</th>\n",
       "      <td>object</td>\n",
       "      <td>15</td>\n",
       "      <td>0</td>\n",
       "      <td>Lawyer</td>\n",
       "      <td>7096</td>\n",
       "      <td>Scientist</td>\n",
       "    </tr>\n",
       "    <tr>\n",
       "      <th>annual_income</th>\n",
       "      <td>object</td>\n",
       "      <td>18940</td>\n",
       "      <td>0</td>\n",
       "      <td>20867.67</td>\n",
       "      <td>16</td>\n",
       "      <td>19114.12</td>\n",
       "    </tr>\n",
       "    <tr>\n",
       "      <th>monthly_inhand_salary</th>\n",
       "      <td>float64</td>\n",
       "      <td>13235</td>\n",
       "      <td>0</td>\n",
       "      <td>3080.555</td>\n",
       "      <td>16</td>\n",
       "      <td>1824.843</td>\n",
       "    </tr>\n",
       "    <tr>\n",
       "      <th>num_bank_accounts</th>\n",
       "      <td>int64</td>\n",
       "      <td>943</td>\n",
       "      <td>0</td>\n",
       "      <td>6</td>\n",
       "      <td>13001</td>\n",
       "      <td>3</td>\n",
       "    </tr>\n",
       "    <tr>\n",
       "      <th>num_credit_card</th>\n",
       "      <td>int64</td>\n",
       "      <td>1179</td>\n",
       "      <td>0</td>\n",
       "      <td>5</td>\n",
       "      <td>18459</td>\n",
       "      <td>4</td>\n",
       "    </tr>\n",
       "    <tr>\n",
       "      <th>interest_rate</th>\n",
       "      <td>int64</td>\n",
       "      <td>1750</td>\n",
       "      <td>0</td>\n",
       "      <td>8</td>\n",
       "      <td>5012</td>\n",
       "      <td>3</td>\n",
       "    </tr>\n",
       "    <tr>\n",
       "      <th>num_of_loan</th>\n",
       "      <td>object</td>\n",
       "      <td>434</td>\n",
       "      <td>0</td>\n",
       "      <td>3</td>\n",
       "      <td>14386</td>\n",
       "      <td>4</td>\n",
       "    </tr>\n",
       "    <tr>\n",
       "      <th>type_of_loan</th>\n",
       "      <td>object</td>\n",
       "      <td>6260</td>\n",
       "      <td>11408</td>\n",
       "      <td>Not Specified</td>\n",
       "      <td>1408</td>\n",
       "      <td>Auto Loan, Credit-Builder Loan, Personal Loan,...</td>\n",
       "    </tr>\n",
       "    <tr>\n",
       "      <th>delay_from_due_date</th>\n",
       "      <td>int64</td>\n",
       "      <td>73</td>\n",
       "      <td>0</td>\n",
       "      <td>15</td>\n",
       "      <td>3596</td>\n",
       "      <td>3</td>\n",
       "    </tr>\n",
       "    <tr>\n",
       "      <th>num_of_delayed_payment</th>\n",
       "      <td>object</td>\n",
       "      <td>749</td>\n",
       "      <td>0</td>\n",
       "      <td>19</td>\n",
       "      <td>5722</td>\n",
       "      <td>7</td>\n",
       "    </tr>\n",
       "    <tr>\n",
       "      <th>changed_credit_limit</th>\n",
       "      <td>object</td>\n",
       "      <td>4383</td>\n",
       "      <td>0</td>\n",
       "      <td>8.22</td>\n",
       "      <td>137</td>\n",
       "      <td>11.27</td>\n",
       "    </tr>\n",
       "    <tr>\n",
       "      <th>num_credit_inquiries</th>\n",
       "      <td>float64</td>\n",
       "      <td>1223</td>\n",
       "      <td>0</td>\n",
       "      <td>4.000</td>\n",
       "      <td>11527</td>\n",
       "      <td>4.000</td>\n",
       "    </tr>\n",
       "    <tr>\n",
       "      <th>credit_mix</th>\n",
       "      <td>object</td>\n",
       "      <td>3</td>\n",
       "      <td>0</td>\n",
       "      <td>Standard</td>\n",
       "      <td>45848</td>\n",
       "      <td>Good</td>\n",
       "    </tr>\n",
       "    <tr>\n",
       "      <th>outstanding_debt</th>\n",
       "      <td>object</td>\n",
       "      <td>13178</td>\n",
       "      <td>0</td>\n",
       "      <td>1360.45</td>\n",
       "      <td>24</td>\n",
       "      <td>809.98</td>\n",
       "    </tr>\n",
       "    <tr>\n",
       "      <th>credit_utilization_ratio</th>\n",
       "      <td>float64</td>\n",
       "      <td>100000</td>\n",
       "      <td>0</td>\n",
       "      <td>27.289</td>\n",
       "      <td>1</td>\n",
       "      <td>26.823</td>\n",
       "    </tr>\n",
       "    <tr>\n",
       "      <th>credit_history_age</th>\n",
       "      <td>int64</td>\n",
       "      <td>404</td>\n",
       "      <td>0</td>\n",
       "      <td>233</td>\n",
       "      <td>497</td>\n",
       "      <td>265</td>\n",
       "    </tr>\n",
       "    <tr>\n",
       "      <th>payment_of_min_amount</th>\n",
       "      <td>object</td>\n",
       "      <td>3</td>\n",
       "      <td>0</td>\n",
       "      <td>Yes</td>\n",
       "      <td>52326</td>\n",
       "      <td>No</td>\n",
       "    </tr>\n",
       "    <tr>\n",
       "      <th>total_emi_per_month</th>\n",
       "      <td>float64</td>\n",
       "      <td>14950</td>\n",
       "      <td>0</td>\n",
       "      <td>0.000</td>\n",
       "      <td>10613</td>\n",
       "      <td>49.575</td>\n",
       "    </tr>\n",
       "    <tr>\n",
       "      <th>amount_invested_monthly</th>\n",
       "      <td>float64</td>\n",
       "      <td>80049</td>\n",
       "      <td>0</td>\n",
       "      <td>10000.000</td>\n",
       "      <td>4507</td>\n",
       "      <td>80.415</td>\n",
       "    </tr>\n",
       "    <tr>\n",
       "      <th>payment_behaviour</th>\n",
       "      <td>object</td>\n",
       "      <td>7</td>\n",
       "      <td>0</td>\n",
       "      <td>Low_spent_Small_value_payments</td>\n",
       "      <td>25513</td>\n",
       "      <td>High_spent_Small_value_payments</td>\n",
       "    </tr>\n",
       "    <tr>\n",
       "      <th>monthly_balance</th>\n",
       "      <td>float64</td>\n",
       "      <td>89466</td>\n",
       "      <td>0</td>\n",
       "      <td>-333333333333333314856026112.000</td>\n",
       "      <td>9</td>\n",
       "      <td>312.494</td>\n",
       "    </tr>\n",
       "    <tr>\n",
       "      <th>credit_score</th>\n",
       "      <td>object</td>\n",
       "      <td>3</td>\n",
       "      <td>0</td>\n",
       "      <td>Standard</td>\n",
       "      <td>53174</td>\n",
       "      <td>Good</td>\n",
       "    </tr>\n",
       "  </tbody>\n",
       "</table>\n",
       "</div>"
      ],
      "text/plain": [
       "                             Type  Nunique  #of Missing  \\\n",
       "id                         object   100000            0   \n",
       "customer_id                object    12500            0   \n",
       "month                      object        8            0   \n",
       "name                       object    10139            0   \n",
       "age                        object     1728            0   \n",
       "ssn                        object    12501            0   \n",
       "occupation                 object       15            0   \n",
       "annual_income              object    18940            0   \n",
       "monthly_inhand_salary     float64    13235            0   \n",
       "num_bank_accounts           int64      943            0   \n",
       "num_credit_card             int64     1179            0   \n",
       "interest_rate               int64     1750            0   \n",
       "num_of_loan                object      434            0   \n",
       "type_of_loan               object     6260        11408   \n",
       "delay_from_due_date         int64       73            0   \n",
       "num_of_delayed_payment     object      749            0   \n",
       "changed_credit_limit       object     4383            0   \n",
       "num_credit_inquiries      float64     1223            0   \n",
       "credit_mix                 object        3            0   \n",
       "outstanding_debt           object    13178            0   \n",
       "credit_utilization_ratio  float64   100000            0   \n",
       "credit_history_age          int64      404            0   \n",
       "payment_of_min_amount      object        3            0   \n",
       "total_emi_per_month       float64    14950            0   \n",
       "amount_invested_monthly   float64    80049            0   \n",
       "payment_behaviour          object        7            0   \n",
       "monthly_balance           float64    89466            0   \n",
       "credit_score               object        3            0   \n",
       "\n",
       "                                             MostFreqItem  MostFreqCount  \\\n",
       "id                                                0x25fb6              1   \n",
       "customer_id                                    CUS_0x942c              8   \n",
       "month                                             January          12500   \n",
       "name                                               Stevex             48   \n",
       "age                                                    38           2994   \n",
       "ssn                                             #F%$D@*&8           5572   \n",
       "occupation                                         Lawyer           7096   \n",
       "annual_income                                    20867.67             16   \n",
       "monthly_inhand_salary                            3080.555             16   \n",
       "num_bank_accounts                                       6          13001   \n",
       "num_credit_card                                         5          18459   \n",
       "interest_rate                                           8           5012   \n",
       "num_of_loan                                             3          14386   \n",
       "type_of_loan                                Not Specified           1408   \n",
       "delay_from_due_date                                    15           3596   \n",
       "num_of_delayed_payment                                 19           5722   \n",
       "changed_credit_limit                                 8.22            137   \n",
       "num_credit_inquiries                                4.000          11527   \n",
       "credit_mix                                       Standard          45848   \n",
       "outstanding_debt                                  1360.45             24   \n",
       "credit_utilization_ratio                           27.289              1   \n",
       "credit_history_age                                    233            497   \n",
       "payment_of_min_amount                                 Yes          52326   \n",
       "total_emi_per_month                                 0.000          10613   \n",
       "amount_invested_monthly                         10000.000           4507   \n",
       "payment_behaviour          Low_spent_Small_value_payments          25513   \n",
       "monthly_balance          -333333333333333314856026112.000              9   \n",
       "credit_score                                     Standard          53174   \n",
       "\n",
       "                                                                      First  \n",
       "id                                                                   0x1602  \n",
       "customer_id                                                       CUS_0xd40  \n",
       "month                                                               January  \n",
       "name                                                          Aaron Maashoh  \n",
       "age                                                                      23  \n",
       "ssn                                                             821-00-0265  \n",
       "occupation                                                        Scientist  \n",
       "annual_income                                                      19114.12  \n",
       "monthly_inhand_salary                                              1824.843  \n",
       "num_bank_accounts                                                         3  \n",
       "num_credit_card                                                           4  \n",
       "interest_rate                                                             3  \n",
       "num_of_loan                                                               4  \n",
       "type_of_loan              Auto Loan, Credit-Builder Loan, Personal Loan,...  \n",
       "delay_from_due_date                                                       3  \n",
       "num_of_delayed_payment                                                    7  \n",
       "changed_credit_limit                                                  11.27  \n",
       "num_credit_inquiries                                                  4.000  \n",
       "credit_mix                                                             Good  \n",
       "outstanding_debt                                                     809.98  \n",
       "credit_utilization_ratio                                             26.823  \n",
       "credit_history_age                                                      265  \n",
       "payment_of_min_amount                                                    No  \n",
       "total_emi_per_month                                                  49.575  \n",
       "amount_invested_monthly                                              80.415  \n",
       "payment_behaviour                           High_spent_Small_value_payments  \n",
       "monthly_balance                                                     312.494  \n",
       "credit_score                                                           Good  "
      ]
     },
     "execution_count": 53,
     "metadata": {},
     "output_type": "execute_result"
    }
   ],
   "source": [
    "compr_info(df)"
   ]
  },
  {
   "cell_type": "markdown",
   "id": "acd3fad7",
   "metadata": {
    "papermill": {
     "duration": 0.02944,
     "end_time": "2024-05-03T19:22:57.074185",
     "exception": false,
     "start_time": "2024-05-03T19:22:57.044745",
     "status": "completed"
    },
    "tags": []
   },
   "source": [
    "### Monthly_balance feature"
   ]
  },
  {
   "cell_type": "code",
   "execution_count": 54,
   "id": "d32ddd29",
   "metadata": {
    "ExecuteTime": {
     "end_time": "2024-04-26T20:57:44.449369Z",
     "start_time": "2024-04-26T20:57:44.428351Z"
    },
    "execution": {
     "iopub.execute_input": "2024-05-03T19:22:57.134026Z",
     "iopub.status.busy": "2024-05-03T19:22:57.133718Z",
     "iopub.status.idle": "2024-05-03T19:22:57.145050Z",
     "shell.execute_reply": "2024-05-03T19:22:57.144437Z"
    },
    "papermill": {
     "duration": 0.043388,
     "end_time": "2024-05-03T19:22:57.146672",
     "exception": false,
     "start_time": "2024-05-03T19:22:57.103284",
     "status": "completed"
    },
    "tags": []
   },
   "outputs": [
    {
     "data": {
      "text/plain": [
       "count                         100000.000\n",
       "mean        -29999999999999995805696.000\n",
       "std        3162151165267075223519232.000\n",
       "min     -333333333333333314856026112.000\n",
       "25%                              270.016\n",
       "50%                              337.068\n",
       "75%                              471.533\n",
       "max                             1602.041\n",
       "Name: monthly_balance, dtype: float64"
      ]
     },
     "execution_count": 54,
     "metadata": {},
     "output_type": "execute_result"
    }
   ],
   "source": [
    "df[\"monthly_balance\"].describe()"
   ]
  },
  {
   "cell_type": "code",
   "execution_count": 55,
   "id": "124dd22a",
   "metadata": {
    "execution": {
     "iopub.execute_input": "2024-05-03T19:22:57.241282Z",
     "iopub.status.busy": "2024-05-03T19:22:57.240985Z",
     "iopub.status.idle": "2024-05-03T19:22:57.245465Z",
     "shell.execute_reply": "2024-05-03T19:22:57.244907Z"
    },
    "papermill": {
     "duration": 0.07132,
     "end_time": "2024-05-03T19:22:57.247140",
     "exception": false,
     "start_time": "2024-05-03T19:22:57.175820",
     "status": "completed"
    },
    "tags": []
   },
   "outputs": [
    {
     "data": {
      "text/plain": [
       "(100000, 28)"
      ]
     },
     "execution_count": 55,
     "metadata": {},
     "output_type": "execute_result"
    }
   ],
   "source": [
    "df.shape"
   ]
  },
  {
   "cell_type": "code",
   "execution_count": 56,
   "id": "dc10fd89",
   "metadata": {
    "ExecuteTime": {
     "end_time": "2024-04-28T00:09:49.115881Z",
     "start_time": "2024-04-28T00:09:49.105897Z"
    },
    "execution": {
     "iopub.execute_input": "2024-05-03T19:22:57.307176Z",
     "iopub.status.busy": "2024-05-03T19:22:57.306945Z",
     "iopub.status.idle": "2024-05-03T19:22:57.310700Z",
     "shell.execute_reply": "2024-05-03T19:22:57.310121Z"
    },
    "papermill": {
     "duration": 0.036021,
     "end_time": "2024-05-03T19:22:57.312414",
     "exception": false,
     "start_time": "2024-05-03T19:22:57.276393",
     "status": "completed"
    },
    "tags": []
   },
   "outputs": [],
   "source": [
    "q1 = 270.035\n",
    "q3 = 471.606\n",
    "iqr = q3 - q1 \n",
    "lower_limit = q1-(2 * iqr)\n",
    "top_limit = df[\"monthly_balance\"].max()"
   ]
  },
  {
   "cell_type": "code",
   "execution_count": 57,
   "id": "840f20c1",
   "metadata": {
    "ExecuteTime": {
     "end_time": "2024-04-28T00:09:51.106494Z",
     "start_time": "2024-04-28T00:09:51.093097Z"
    },
    "execution": {
     "iopub.execute_input": "2024-05-03T19:22:57.372428Z",
     "iopub.status.busy": "2024-05-03T19:22:57.372161Z",
     "iopub.status.idle": "2024-05-03T19:22:57.376242Z",
     "shell.execute_reply": "2024-05-03T19:22:57.375692Z"
    },
    "papermill": {
     "duration": 0.036285,
     "end_time": "2024-05-03T19:22:57.377779",
     "exception": false,
     "start_time": "2024-05-03T19:22:57.341494",
     "status": "completed"
    },
    "tags": []
   },
   "outputs": [
    {
     "data": {
      "text/plain": [
       "-133.1069999999999"
      ]
     },
     "execution_count": 57,
     "metadata": {},
     "output_type": "execute_result"
    }
   ],
   "source": [
    "lower_limit"
   ]
  },
  {
   "cell_type": "code",
   "execution_count": 58,
   "id": "883e4bee",
   "metadata": {
    "ExecuteTime": {
     "end_time": "2024-04-28T00:09:53.126286Z",
     "start_time": "2024-04-28T00:09:53.111961Z"
    },
    "execution": {
     "iopub.execute_input": "2024-05-03T19:22:57.438384Z",
     "iopub.status.busy": "2024-05-03T19:22:57.438127Z",
     "iopub.status.idle": "2024-05-03T19:22:57.442803Z",
     "shell.execute_reply": "2024-05-03T19:22:57.442109Z"
    },
    "papermill": {
     "duration": 0.037163,
     "end_time": "2024-05-03T19:22:57.444298",
     "exception": false,
     "start_time": "2024-05-03T19:22:57.407135",
     "status": "completed"
    },
    "tags": []
   },
   "outputs": [
    {
     "data": {
      "text/plain": [
       "1602.041"
      ]
     },
     "execution_count": 58,
     "metadata": {},
     "output_type": "execute_result"
    }
   ],
   "source": [
    "top_limit"
   ]
  },
  {
   "cell_type": "code",
   "execution_count": 59,
   "id": "2fe513bc",
   "metadata": {
    "execution": {
     "iopub.execute_input": "2024-05-03T19:22:57.506413Z",
     "iopub.status.busy": "2024-05-03T19:22:57.506173Z",
     "iopub.status.idle": "2024-05-03T19:22:57.515417Z",
     "shell.execute_reply": "2024-05-03T19:22:57.514861Z"
    },
    "papermill": {
     "duration": 0.043093,
     "end_time": "2024-05-03T19:22:57.517029",
     "exception": false,
     "start_time": "2024-05-03T19:22:57.473936",
     "status": "completed"
    },
    "tags": []
   },
   "outputs": [
    {
     "data": {
      "text/html": [
       "<div>\n",
       "<style scoped>\n",
       "    .dataframe tbody tr th:only-of-type {\n",
       "        vertical-align: middle;\n",
       "    }\n",
       "\n",
       "    .dataframe tbody tr th {\n",
       "        vertical-align: top;\n",
       "    }\n",
       "\n",
       "    .dataframe thead th {\n",
       "        text-align: right;\n",
       "    }\n",
       "</style>\n",
       "<table border=\"1\" class=\"dataframe\">\n",
       "  <thead>\n",
       "    <tr style=\"text-align: right;\">\n",
       "      <th></th>\n",
       "      <th>customer_id</th>\n",
       "      <th>month</th>\n",
       "      <th>monthly_balance</th>\n",
       "    </tr>\n",
       "  </thead>\n",
       "  <tbody>\n",
       "    <tr>\n",
       "      <th>5545</th>\n",
       "      <td>CUS_0x9885</td>\n",
       "      <td>February</td>\n",
       "      <td>-333333333333333314856026112.000</td>\n",
       "    </tr>\n",
       "    <tr>\n",
       "      <th>26177</th>\n",
       "      <td>CUS_0x5a90</td>\n",
       "      <td>February</td>\n",
       "      <td>-333333333333333314856026112.000</td>\n",
       "    </tr>\n",
       "    <tr>\n",
       "      <th>29158</th>\n",
       "      <td>CUS_0x288d</td>\n",
       "      <td>July</td>\n",
       "      <td>-333333333333333314856026112.000</td>\n",
       "    </tr>\n",
       "    <tr>\n",
       "      <th>35570</th>\n",
       "      <td>CUS_0x85e9</td>\n",
       "      <td>March</td>\n",
       "      <td>-333333333333333314856026112.000</td>\n",
       "    </tr>\n",
       "    <tr>\n",
       "      <th>38622</th>\n",
       "      <td>CUS_0x2b77</td>\n",
       "      <td>July</td>\n",
       "      <td>-333333333333333314856026112.000</td>\n",
       "    </tr>\n",
       "    <tr>\n",
       "      <th>60009</th>\n",
       "      <td>CUS_0xc06e</td>\n",
       "      <td>February</td>\n",
       "      <td>-333333333333333314856026112.000</td>\n",
       "    </tr>\n",
       "    <tr>\n",
       "      <th>75251</th>\n",
       "      <td>CUS_0x57f3</td>\n",
       "      <td>April</td>\n",
       "      <td>-333333333333333314856026112.000</td>\n",
       "    </tr>\n",
       "    <tr>\n",
       "      <th>82918</th>\n",
       "      <td>CUS_0x41bf</td>\n",
       "      <td>July</td>\n",
       "      <td>-333333333333333314856026112.000</td>\n",
       "    </tr>\n",
       "    <tr>\n",
       "      <th>83255</th>\n",
       "      <td>CUS_0x2f7e</td>\n",
       "      <td>August</td>\n",
       "      <td>-333333333333333314856026112.000</td>\n",
       "    </tr>\n",
       "  </tbody>\n",
       "</table>\n",
       "</div>"
      ],
      "text/plain": [
       "      customer_id     month                  monthly_balance\n",
       "5545   CUS_0x9885  February -333333333333333314856026112.000\n",
       "26177  CUS_0x5a90  February -333333333333333314856026112.000\n",
       "29158  CUS_0x288d      July -333333333333333314856026112.000\n",
       "35570  CUS_0x85e9     March -333333333333333314856026112.000\n",
       "38622  CUS_0x2b77      July -333333333333333314856026112.000\n",
       "60009  CUS_0xc06e  February -333333333333333314856026112.000\n",
       "75251  CUS_0x57f3     April -333333333333333314856026112.000\n",
       "82918  CUS_0x41bf      July -333333333333333314856026112.000\n",
       "83255  CUS_0x2f7e    August -333333333333333314856026112.000"
      ]
     },
     "execution_count": 59,
     "metadata": {},
     "output_type": "execute_result"
    }
   ],
   "source": [
    " df.loc[(df[\"monthly_balance\"] < lower_limit)][[\"customer_id\",\"month\",\"monthly_balance\"]]"
   ]
  },
  {
   "cell_type": "code",
   "execution_count": 60,
   "id": "8f56a73e",
   "metadata": {
    "execution": {
     "iopub.execute_input": "2024-05-03T19:22:57.580115Z",
     "iopub.status.busy": "2024-05-03T19:22:57.579838Z",
     "iopub.status.idle": "2024-05-03T19:22:57.596407Z",
     "shell.execute_reply": "2024-05-03T19:22:57.595851Z"
    },
    "papermill": {
     "duration": 0.050958,
     "end_time": "2024-05-03T19:22:57.598024",
     "exception": false,
     "start_time": "2024-05-03T19:22:57.547066",
     "status": "completed"
    },
    "scrolled": true,
    "tags": []
   },
   "outputs": [
    {
     "data": {
      "text/html": [
       "<div>\n",
       "<style scoped>\n",
       "    .dataframe tbody tr th:only-of-type {\n",
       "        vertical-align: middle;\n",
       "    }\n",
       "\n",
       "    .dataframe tbody tr th {\n",
       "        vertical-align: top;\n",
       "    }\n",
       "\n",
       "    .dataframe thead th {\n",
       "        text-align: right;\n",
       "    }\n",
       "</style>\n",
       "<table border=\"1\" class=\"dataframe\">\n",
       "  <thead>\n",
       "    <tr style=\"text-align: right;\">\n",
       "      <th></th>\n",
       "      <th>customer_id</th>\n",
       "      <th>month</th>\n",
       "      <th>monthly_balance</th>\n",
       "    </tr>\n",
       "  </thead>\n",
       "  <tbody>\n",
       "    <tr>\n",
       "      <th>5544</th>\n",
       "      <td>CUS_0x9885</td>\n",
       "      <td>January</td>\n",
       "      <td>423.397</td>\n",
       "    </tr>\n",
       "    <tr>\n",
       "      <th>5545</th>\n",
       "      <td>CUS_0x9885</td>\n",
       "      <td>February</td>\n",
       "      <td>-333333333333333314856026112.000</td>\n",
       "    </tr>\n",
       "    <tr>\n",
       "      <th>5546</th>\n",
       "      <td>CUS_0x9885</td>\n",
       "      <td>March</td>\n",
       "      <td>278.412</td>\n",
       "    </tr>\n",
       "    <tr>\n",
       "      <th>5547</th>\n",
       "      <td>CUS_0x9885</td>\n",
       "      <td>April</td>\n",
       "      <td>420.557</td>\n",
       "    </tr>\n",
       "    <tr>\n",
       "      <th>5548</th>\n",
       "      <td>CUS_0x9885</td>\n",
       "      <td>May</td>\n",
       "      <td>71.288</td>\n",
       "    </tr>\n",
       "    <tr>\n",
       "      <th>5549</th>\n",
       "      <td>CUS_0x9885</td>\n",
       "      <td>June</td>\n",
       "      <td>383.284</td>\n",
       "    </tr>\n",
       "    <tr>\n",
       "      <th>5550</th>\n",
       "      <td>CUS_0x9885</td>\n",
       "      <td>July</td>\n",
       "      <td>229.007</td>\n",
       "    </tr>\n",
       "    <tr>\n",
       "      <th>5551</th>\n",
       "      <td>CUS_0x9885</td>\n",
       "      <td>August</td>\n",
       "      <td>374.031</td>\n",
       "    </tr>\n",
       "  </tbody>\n",
       "</table>\n",
       "</div>"
      ],
      "text/plain": [
       "     customer_id     month                  monthly_balance\n",
       "5544  CUS_0x9885   January                          423.397\n",
       "5545  CUS_0x9885  February -333333333333333314856026112.000\n",
       "5546  CUS_0x9885     March                          278.412\n",
       "5547  CUS_0x9885     April                          420.557\n",
       "5548  CUS_0x9885       May                           71.288\n",
       "5549  CUS_0x9885      June                          383.284\n",
       "5550  CUS_0x9885      July                          229.007\n",
       "5551  CUS_0x9885    August                          374.031"
      ]
     },
     "execution_count": 60,
     "metadata": {},
     "output_type": "execute_result"
    }
   ],
   "source": [
    "df.loc[df[\"customer_id\"]==\"CUS_0x9885\"][[\"customer_id\",\"month\",\"monthly_balance\"]]"
   ]
  },
  {
   "cell_type": "code",
   "execution_count": 61,
   "id": "4bdcb2b9",
   "metadata": {
    "ExecuteTime": {
     "end_time": "2024-04-28T01:11:35.983593Z",
     "start_time": "2024-04-28T01:11:35.525420Z"
    },
    "execution": {
     "iopub.execute_input": "2024-05-03T19:22:57.660371Z",
     "iopub.status.busy": "2024-05-03T19:22:57.660091Z",
     "iopub.status.idle": "2024-05-03T19:22:57.924193Z",
     "shell.execute_reply": "2024-05-03T19:22:57.923603Z"
    },
    "papermill": {
     "duration": 0.297978,
     "end_time": "2024-05-03T19:22:57.925887",
     "exception": false,
     "start_time": "2024-05-03T19:22:57.627909",
     "status": "completed"
    },
    "tags": []
   },
   "outputs": [],
   "source": [
    "df.loc[((df[\"customer_id\"]==\"CUS_0x9885\") & (df[\"month\"]==\"February\")),\"monthly_balance\"] = df.loc[(df[\"customer_id\"]==\"CUS_0x9885\")&(df[\"month\"]!=\"February\")][\"monthly_balance\"].mean()\n",
    "df.loc[((df[\"customer_id\"]==\"CUS_0x5a90\") & (df[\"month\"]==\"February\")),\"monthly_balance\"] = df.loc[(df[\"customer_id\"]==\"CUS_0x5a90\")&(df[\"month\"]!=\"February\")][\"monthly_balance\"].mean()\n",
    "df.loc[((df[\"customer_id\"]==\"CUS_0x288d\") & (df[\"month\"]==\"July\")),\"monthly_balance\"] = df.loc[(df[\"customer_id\"]==\"CUS_0x288d\")&(df[\"month\"]!=\"July\")][\"monthly_balance\"].mean()\n",
    "df.loc[((df[\"customer_id\"]==\"CUS_0x85e9\") & (df[\"month\"]==\"March\")),\"monthly_balance\"] = df.loc[(df[\"customer_id\"]==\"CUS_0x85e9\")&(df[\"month\"]!=\"March\")][\"monthly_balance\"].mean()\n",
    "df.loc[((df[\"customer_id\"]==\"CUS_0x2b77\") & (df[\"month\"]==\"July\")),\"monthly_balance\"] = df.loc[(df[\"customer_id\"]==\"CUS_0x2b77\")&(df[\"month\"]!=\"July\")][\"monthly_balance\"].mean()\n",
    "df.loc[((df[\"customer_id\"]==\"CUS_0xc06e\") & (df[\"month\"]==\"February\")),\"monthly_balance\"] = df.loc[(df[\"customer_id\"]==\"CUS_0xc06e\")&(df[\"month\"]!=\"February\")][\"monthly_balance\"].mean()\n",
    "df.loc[((df[\"customer_id\"]==\"CUS_0x57f3\") & (df[\"month\"]==\"April\")),\"monthly_balance\"] = df.loc[(df[\"customer_id\"]==\"CUS_0x57f3\")&(df[\"month\"]!=\"April\")][\"monthly_balance\"].mean()\n",
    "df.loc[((df[\"customer_id\"]==\"CUS_0x41bf\") & (df[\"month\"]==\"July\")),\"monthly_balance\"] = df.loc[(df[\"customer_id\"]==\"CUS_0x41bf\")&(df[\"month\"]!=\"July\")][\"monthly_balance\"].mean()\n",
    "df.loc[((df[\"customer_id\"]==\"CUS_0x2f7e\") & (df[\"month\"]==\"August\")),\"monthly_balance\"] = df.loc[(df[\"customer_id\"]==\"CUS_0x2f7e\")&(df[\"month\"]!=\"August\")][\"monthly_balance\"].mean()"
   ]
  },
  {
   "cell_type": "code",
   "execution_count": 62,
   "id": "afc12981",
   "metadata": {
    "ExecuteTime": {
     "end_time": "2024-04-28T00:56:04.700667Z",
     "start_time": "2024-04-28T00:56:04.665494Z"
    },
    "execution": {
     "iopub.execute_input": "2024-05-03T19:22:57.987243Z",
     "iopub.status.busy": "2024-05-03T19:22:57.987013Z",
     "iopub.status.idle": "2024-05-03T19:22:57.996080Z",
     "shell.execute_reply": "2024-05-03T19:22:57.995522Z"
    },
    "papermill": {
     "duration": 0.041842,
     "end_time": "2024-05-03T19:22:57.997681",
     "exception": false,
     "start_time": "2024-05-03T19:22:57.955839",
     "status": "completed"
    },
    "tags": []
   },
   "outputs": [
    {
     "data": {
      "text/html": [
       "<div>\n",
       "<style scoped>\n",
       "    .dataframe tbody tr th:only-of-type {\n",
       "        vertical-align: middle;\n",
       "    }\n",
       "\n",
       "    .dataframe tbody tr th {\n",
       "        vertical-align: top;\n",
       "    }\n",
       "\n",
       "    .dataframe thead th {\n",
       "        text-align: right;\n",
       "    }\n",
       "</style>\n",
       "<table border=\"1\" class=\"dataframe\">\n",
       "  <thead>\n",
       "    <tr style=\"text-align: right;\">\n",
       "      <th></th>\n",
       "      <th>customer_id</th>\n",
       "      <th>month</th>\n",
       "      <th>monthly_balance</th>\n",
       "    </tr>\n",
       "  </thead>\n",
       "  <tbody>\n",
       "    <tr>\n",
       "      <th>5545</th>\n",
       "      <td>CUS_0x9885</td>\n",
       "      <td>February</td>\n",
       "      <td>311.425</td>\n",
       "    </tr>\n",
       "    <tr>\n",
       "      <th>26177</th>\n",
       "      <td>CUS_0x5a90</td>\n",
       "      <td>February</td>\n",
       "      <td>333.956</td>\n",
       "    </tr>\n",
       "    <tr>\n",
       "      <th>29158</th>\n",
       "      <td>CUS_0x288d</td>\n",
       "      <td>July</td>\n",
       "      <td>283.236</td>\n",
       "    </tr>\n",
       "    <tr>\n",
       "      <th>35570</th>\n",
       "      <td>CUS_0x85e9</td>\n",
       "      <td>March</td>\n",
       "      <td>319.296</td>\n",
       "    </tr>\n",
       "    <tr>\n",
       "      <th>38622</th>\n",
       "      <td>CUS_0x2b77</td>\n",
       "      <td>July</td>\n",
       "      <td>336.442</td>\n",
       "    </tr>\n",
       "    <tr>\n",
       "      <th>60009</th>\n",
       "      <td>CUS_0xc06e</td>\n",
       "      <td>February</td>\n",
       "      <td>702.613</td>\n",
       "    </tr>\n",
       "    <tr>\n",
       "      <th>75251</th>\n",
       "      <td>CUS_0x57f3</td>\n",
       "      <td>April</td>\n",
       "      <td>506.502</td>\n",
       "    </tr>\n",
       "    <tr>\n",
       "      <th>82918</th>\n",
       "      <td>CUS_0x41bf</td>\n",
       "      <td>July</td>\n",
       "      <td>237.225</td>\n",
       "    </tr>\n",
       "    <tr>\n",
       "      <th>83255</th>\n",
       "      <td>CUS_0x2f7e</td>\n",
       "      <td>August</td>\n",
       "      <td>847.945</td>\n",
       "    </tr>\n",
       "  </tbody>\n",
       "</table>\n",
       "</div>"
      ],
      "text/plain": [
       "      customer_id     month  monthly_balance\n",
       "5545   CUS_0x9885  February          311.425\n",
       "26177  CUS_0x5a90  February          333.956\n",
       "29158  CUS_0x288d      July          283.236\n",
       "35570  CUS_0x85e9     March          319.296\n",
       "38622  CUS_0x2b77      July          336.442\n",
       "60009  CUS_0xc06e  February          702.613\n",
       "75251  CUS_0x57f3     April          506.502\n",
       "82918  CUS_0x41bf      July          237.225\n",
       "83255  CUS_0x2f7e    August          847.945"
      ]
     },
     "execution_count": 62,
     "metadata": {},
     "output_type": "execute_result"
    }
   ],
   "source": [
    " df.loc[[5545,26177,29158,35570,38622,60009,75251,82918,83255]][[\"customer_id\",\"month\",\"monthly_balance\"]]"
   ]
  },
  {
   "cell_type": "code",
   "execution_count": 63,
   "id": "d8e4dcba",
   "metadata": {
    "ExecuteTime": {
     "end_time": "2024-04-28T00:56:09.471932Z",
     "start_time": "2024-04-28T00:56:09.457391Z"
    },
    "execution": {
     "iopub.execute_input": "2024-05-03T19:22:58.059982Z",
     "iopub.status.busy": "2024-05-03T19:22:58.059744Z",
     "iopub.status.idle": "2024-05-03T19:22:58.064609Z",
     "shell.execute_reply": "2024-05-03T19:22:58.064040Z"
    },
    "papermill": {
     "duration": 0.038235,
     "end_time": "2024-05-03T19:22:58.066182",
     "exception": false,
     "start_time": "2024-05-03T19:22:58.027947",
     "status": "completed"
    },
    "tags": []
   },
   "outputs": [
    {
     "data": {
      "text/plain": [
       "0"
      ]
     },
     "execution_count": 63,
     "metadata": {},
     "output_type": "execute_result"
    }
   ],
   "source": [
    "df[\"monthly_balance\"].isna().sum()"
   ]
  },
  {
   "cell_type": "code",
   "execution_count": 64,
   "id": "b6736480",
   "metadata": {
    "ExecuteTime": {
     "end_time": "2024-04-28T00:56:12.258996Z",
     "start_time": "2024-04-28T00:56:12.139796Z"
    },
    "execution": {
     "iopub.execute_input": "2024-05-03T19:22:58.127961Z",
     "iopub.status.busy": "2024-05-03T19:22:58.127726Z",
     "iopub.status.idle": "2024-05-03T19:22:58.202802Z",
     "shell.execute_reply": "2024-05-03T19:22:58.202084Z"
    },
    "papermill": {
     "duration": 0.107979,
     "end_time": "2024-05-03T19:22:58.204361",
     "exception": false,
     "start_time": "2024-05-03T19:22:58.096382",
     "status": "completed"
    },
    "tags": []
   },
   "outputs": [
    {
     "data": {
      "text/plain": [
       "id                              0\n",
       "customer_id                     0\n",
       "month                           0\n",
       "name                            0\n",
       "age                             0\n",
       "ssn                             0\n",
       "occupation                      0\n",
       "annual_income                   0\n",
       "monthly_inhand_salary           0\n",
       "num_bank_accounts               0\n",
       "num_credit_card                 0\n",
       "interest_rate                   0\n",
       "num_of_loan                     0\n",
       "type_of_loan                11408\n",
       "delay_from_due_date             0\n",
       "num_of_delayed_payment          0\n",
       "changed_credit_limit            0\n",
       "num_credit_inquiries            0\n",
       "credit_mix                      0\n",
       "outstanding_debt                0\n",
       "credit_utilization_ratio        0\n",
       "credit_history_age              0\n",
       "payment_of_min_amount           0\n",
       "total_emi_per_month             0\n",
       "amount_invested_monthly         0\n",
       "payment_behaviour               0\n",
       "monthly_balance                 0\n",
       "credit_score                    0\n",
       "dtype: int64"
      ]
     },
     "execution_count": 64,
     "metadata": {},
     "output_type": "execute_result"
    }
   ],
   "source": [
    "df.isna().sum()"
   ]
  },
  {
   "cell_type": "markdown",
   "id": "fc03db56",
   "metadata": {
    "papermill": {
     "duration": 0.030482,
     "end_time": "2024-05-03T19:22:58.265126",
     "exception": false,
     "start_time": "2024-05-03T19:22:58.234644",
     "status": "completed"
    },
    "tags": []
   },
   "source": [
    "### Age Feature"
   ]
  },
  {
   "cell_type": "code",
   "execution_count": 65,
   "id": "81d075c1",
   "metadata": {
    "execution": {
     "iopub.execute_input": "2024-05-03T19:22:58.327134Z",
     "iopub.status.busy": "2024-05-03T19:22:58.326896Z",
     "iopub.status.idle": "2024-05-03T19:22:58.344790Z",
     "shell.execute_reply": "2024-05-03T19:22:58.344234Z"
    },
    "papermill": {
     "duration": 0.050938,
     "end_time": "2024-05-03T19:22:58.346401",
     "exception": false,
     "start_time": "2024-05-03T19:22:58.295463",
     "status": "completed"
    },
    "tags": []
   },
   "outputs": [
    {
     "data": {
      "text/plain": [
       "count   100000.000\n",
       "mean       110.650\n",
       "std        686.245\n",
       "min       -500.000\n",
       "25%         24.000\n",
       "50%         33.000\n",
       "75%         42.000\n",
       "max       8698.000\n",
       "Name: age, dtype: float64"
      ]
     },
     "execution_count": 65,
     "metadata": {},
     "output_type": "execute_result"
    }
   ],
   "source": [
    "df.age.astype(\"int\").describe()"
   ]
  },
  {
   "cell_type": "code",
   "execution_count": 66,
   "id": "7a8ec56b",
   "metadata": {
    "ExecuteTime": {
     "end_time": "2024-04-28T01:11:41.961208Z",
     "start_time": "2024-04-28T01:11:41.936886Z"
    },
    "execution": {
     "iopub.execute_input": "2024-05-03T19:22:58.408792Z",
     "iopub.status.busy": "2024-05-03T19:22:58.408533Z",
     "iopub.status.idle": "2024-05-03T19:22:58.421115Z",
     "shell.execute_reply": "2024-05-03T19:22:58.420554Z"
    },
    "papermill": {
     "duration": 0.046007,
     "end_time": "2024-05-03T19:22:58.422840",
     "exception": false,
     "start_time": "2024-05-03T19:22:58.376833",
     "status": "completed"
    },
    "tags": []
   },
   "outputs": [],
   "source": [
    "df.age = df.age.astype(\"int\")"
   ]
  },
  {
   "cell_type": "code",
   "execution_count": 67,
   "id": "0c81ecb0",
   "metadata": {
    "ExecuteTime": {
     "end_time": "2024-04-28T01:11:43.741878Z",
     "start_time": "2024-04-28T01:11:43.728197Z"
    },
    "execution": {
     "iopub.execute_input": "2024-05-03T19:22:58.485463Z",
     "iopub.status.busy": "2024-05-03T19:22:58.484897Z",
     "iopub.status.idle": "2024-05-03T19:22:58.489027Z",
     "shell.execute_reply": "2024-05-03T19:22:58.488486Z"
    },
    "papermill": {
     "duration": 0.037399,
     "end_time": "2024-05-03T19:22:58.490640",
     "exception": false,
     "start_time": "2024-05-03T19:22:58.453241",
     "status": "completed"
    },
    "tags": []
   },
   "outputs": [
    {
     "data": {
      "text/plain": [
       "dtype('int64')"
      ]
     },
     "execution_count": 67,
     "metadata": {},
     "output_type": "execute_result"
    }
   ],
   "source": [
    "df.age.dtype"
   ]
  },
  {
   "cell_type": "code",
   "execution_count": 68,
   "id": "f29675ff",
   "metadata": {
    "ExecuteTime": {
     "end_time": "2024-04-28T00:56:23.655777Z",
     "start_time": "2024-04-28T00:56:23.634796Z"
    },
    "execution": {
     "iopub.execute_input": "2024-05-03T19:22:58.553640Z",
     "iopub.status.busy": "2024-05-03T19:22:58.553350Z",
     "iopub.status.idle": "2024-05-03T19:22:58.561584Z",
     "shell.execute_reply": "2024-05-03T19:22:58.560996Z"
    },
    "papermill": {
     "duration": 0.041755,
     "end_time": "2024-05-03T19:22:58.563268",
     "exception": false,
     "start_time": "2024-05-03T19:22:58.521513",
     "status": "completed"
    },
    "tags": []
   },
   "outputs": [
    {
     "data": {
      "text/plain": [
       "1895"
      ]
     },
     "execution_count": 68,
     "metadata": {},
     "output_type": "execute_result"
    }
   ],
   "source": [
    "len(df.loc[df[\"age\"] > 56])"
   ]
  },
  {
   "cell_type": "code",
   "execution_count": 69,
   "id": "05f52cc6",
   "metadata": {
    "ExecuteTime": {
     "end_time": "2024-04-28T00:56:26.847725Z",
     "start_time": "2024-04-28T00:56:26.828647Z"
    },
    "execution": {
     "iopub.execute_input": "2024-05-03T19:22:58.627140Z",
     "iopub.status.busy": "2024-05-03T19:22:58.626681Z",
     "iopub.status.idle": "2024-05-03T19:22:58.634455Z",
     "shell.execute_reply": "2024-05-03T19:22:58.633896Z"
    },
    "papermill": {
     "duration": 0.041368,
     "end_time": "2024-05-03T19:22:58.636112",
     "exception": false,
     "start_time": "2024-05-03T19:22:58.594744",
     "status": "completed"
    },
    "tags": []
   },
   "outputs": [
    {
     "data": {
      "text/plain": [
       "886"
      ]
     },
     "execution_count": 69,
     "metadata": {},
     "output_type": "execute_result"
    }
   ],
   "source": [
    "len(df.loc[df[\"age\"] < 14])"
   ]
  },
  {
   "cell_type": "code",
   "execution_count": 70,
   "id": "c265afcb",
   "metadata": {
    "execution": {
     "iopub.execute_input": "2024-05-03T19:22:58.699877Z",
     "iopub.status.busy": "2024-05-03T19:22:58.699632Z",
     "iopub.status.idle": "2024-05-03T19:22:58.708759Z",
     "shell.execute_reply": "2024-05-03T19:22:58.708222Z"
    },
    "papermill": {
     "duration": 0.042838,
     "end_time": "2024-05-03T19:22:58.710341",
     "exception": false,
     "start_time": "2024-05-03T19:22:58.667503",
     "status": "completed"
    },
    "tags": []
   },
   "outputs": [
    {
     "data": {
      "text/plain": [
       "count    886.000\n",
       "mean    -500.000\n",
       "std        0.000\n",
       "min     -500.000\n",
       "25%     -500.000\n",
       "50%     -500.000\n",
       "75%     -500.000\n",
       "max     -500.000\n",
       "Name: age, dtype: float64"
      ]
     },
     "execution_count": 70,
     "metadata": {},
     "output_type": "execute_result"
    }
   ],
   "source": [
    "df.loc[df[\"age\"] < 14].age.describe()"
   ]
  },
  {
   "cell_type": "code",
   "execution_count": 71,
   "id": "8d1e82a4",
   "metadata": {
    "execution": {
     "iopub.execute_input": "2024-05-03T19:22:58.773678Z",
     "iopub.status.busy": "2024-05-03T19:22:58.773395Z",
     "iopub.status.idle": "2024-05-03T19:22:58.781131Z",
     "shell.execute_reply": "2024-05-03T19:22:58.780513Z"
    },
    "papermill": {
     "duration": 0.041477,
     "end_time": "2024-05-03T19:22:58.782777",
     "exception": false,
     "start_time": "2024-05-03T19:22:58.741300",
     "status": "completed"
    },
    "tags": []
   },
   "outputs": [
    {
     "data": {
      "text/plain": [
       "count   100000.000\n",
       "mean       110.650\n",
       "std        686.245\n",
       "min       -500.000\n",
       "25%         24.000\n",
       "50%         33.000\n",
       "75%         42.000\n",
       "max       8698.000\n",
       "Name: age, dtype: float64"
      ]
     },
     "execution_count": 71,
     "metadata": {},
     "output_type": "execute_result"
    }
   ],
   "source": [
    "df.age.describe()"
   ]
  },
  {
   "cell_type": "code",
   "execution_count": 72,
   "id": "b363f91c",
   "metadata": {
    "execution": {
     "iopub.execute_input": "2024-05-03T19:22:58.846763Z",
     "iopub.status.busy": "2024-05-03T19:22:58.846208Z",
     "iopub.status.idle": "2024-05-03T19:22:58.862429Z",
     "shell.execute_reply": "2024-05-03T19:22:58.861779Z"
    },
    "papermill": {
     "duration": 0.050057,
     "end_time": "2024-05-03T19:22:58.864060",
     "exception": false,
     "start_time": "2024-05-03T19:22:58.814003",
     "status": "completed"
    },
    "tags": []
   },
   "outputs": [
    {
     "data": {
      "text/html": [
       "<div>\n",
       "<style scoped>\n",
       "    .dataframe tbody tr th:only-of-type {\n",
       "        vertical-align: middle;\n",
       "    }\n",
       "\n",
       "    .dataframe tbody tr th {\n",
       "        vertical-align: top;\n",
       "    }\n",
       "\n",
       "    .dataframe thead th {\n",
       "        text-align: right;\n",
       "    }\n",
       "</style>\n",
       "<table border=\"1\" class=\"dataframe\">\n",
       "  <thead>\n",
       "    <tr style=\"text-align: right;\">\n",
       "      <th></th>\n",
       "      <th>id</th>\n",
       "      <th>customer_id</th>\n",
       "      <th>month</th>\n",
       "      <th>name</th>\n",
       "      <th>age</th>\n",
       "      <th>ssn</th>\n",
       "      <th>occupation</th>\n",
       "      <th>annual_income</th>\n",
       "      <th>monthly_inhand_salary</th>\n",
       "      <th>num_bank_accounts</th>\n",
       "      <th>num_credit_card</th>\n",
       "      <th>interest_rate</th>\n",
       "      <th>num_of_loan</th>\n",
       "      <th>type_of_loan</th>\n",
       "      <th>delay_from_due_date</th>\n",
       "      <th>num_of_delayed_payment</th>\n",
       "      <th>changed_credit_limit</th>\n",
       "      <th>num_credit_inquiries</th>\n",
       "      <th>credit_mix</th>\n",
       "      <th>outstanding_debt</th>\n",
       "      <th>credit_utilization_ratio</th>\n",
       "      <th>credit_history_age</th>\n",
       "      <th>payment_of_min_amount</th>\n",
       "      <th>total_emi_per_month</th>\n",
       "      <th>amount_invested_monthly</th>\n",
       "      <th>payment_behaviour</th>\n",
       "      <th>monthly_balance</th>\n",
       "      <th>credit_score</th>\n",
       "    </tr>\n",
       "  </thead>\n",
       "  <tbody>\n",
       "    <tr>\n",
       "      <th>65925</th>\n",
       "      <td>0x19847</td>\n",
       "      <td>CUS_0xac29</td>\n",
       "      <td>June</td>\n",
       "      <td>Susanq</td>\n",
       "      <td>14</td>\n",
       "      <td>985-65-5941</td>\n",
       "      <td>Doctor</td>\n",
       "      <td>9654.115</td>\n",
       "      <td>620.510</td>\n",
       "      <td>6</td>\n",
       "      <td>7</td>\n",
       "      <td>18</td>\n",
       "      <td>3</td>\n",
       "      <td>Credit-Builder Loan, Credit-Builder Loan, and ...</td>\n",
       "      <td>57</td>\n",
       "      <td>18</td>\n",
       "      <td>14.3</td>\n",
       "      <td>10.000</td>\n",
       "      <td>Standard</td>\n",
       "      <td>2081.23</td>\n",
       "      <td>31.813</td>\n",
       "      <td>110</td>\n",
       "      <td>Yes</td>\n",
       "      <td>20.328</td>\n",
       "      <td>69.401</td>\n",
       "      <td>Low_spent_Small_value_payments</td>\n",
       "      <td>262.323</td>\n",
       "      <td>Poor</td>\n",
       "    </tr>\n",
       "    <tr>\n",
       "      <th>14196</th>\n",
       "      <td>0x692e</td>\n",
       "      <td>CUS_0x6958</td>\n",
       "      <td>May</td>\n",
       "      <td>Tarao</td>\n",
       "      <td>14</td>\n",
       "      <td>811-14-4092</td>\n",
       "      <td>Manager</td>\n",
       "      <td>28312.79</td>\n",
       "      <td>2566.399</td>\n",
       "      <td>3</td>\n",
       "      <td>3</td>\n",
       "      <td>5</td>\n",
       "      <td>3</td>\n",
       "      <td>Auto Loan, Not Specified, and Mortgage Loan</td>\n",
       "      <td>29</td>\n",
       "      <td>7</td>\n",
       "      <td>16.57</td>\n",
       "      <td>5.000</td>\n",
       "      <td>Standard</td>\n",
       "      <td>365.77</td>\n",
       "      <td>32.406</td>\n",
       "      <td>115</td>\n",
       "      <td>Yes</td>\n",
       "      <td>50.677</td>\n",
       "      <td>271.931</td>\n",
       "      <td>Low_spent_Small_value_payments</td>\n",
       "      <td>224.031</td>\n",
       "      <td>Standard</td>\n",
       "    </tr>\n",
       "    <tr>\n",
       "      <th>48171</th>\n",
       "      <td>0x13041</td>\n",
       "      <td>CUS_0xa3db</td>\n",
       "      <td>April</td>\n",
       "      <td>Euan Rochap</td>\n",
       "      <td>14</td>\n",
       "      <td>736-80-3805</td>\n",
       "      <td>Accountant</td>\n",
       "      <td>18290.03_</td>\n",
       "      <td>1454.169</td>\n",
       "      <td>8</td>\n",
       "      <td>7</td>\n",
       "      <td>16</td>\n",
       "      <td>5</td>\n",
       "      <td>Credit-Builder Loan, Credit-Builder Loan, Stud...</td>\n",
       "      <td>35</td>\n",
       "      <td>20_</td>\n",
       "      <td>15.61</td>\n",
       "      <td>8.000</td>\n",
       "      <td>Bad</td>\n",
       "      <td>4107.9</td>\n",
       "      <td>31.361</td>\n",
       "      <td>152</td>\n",
       "      <td>Yes</td>\n",
       "      <td>66.310</td>\n",
       "      <td>78.583</td>\n",
       "      <td>Low_spent_Small_value_payments</td>\n",
       "      <td>290.523</td>\n",
       "      <td>Poor</td>\n",
       "    </tr>\n",
       "  </tbody>\n",
       "</table>\n",
       "</div>"
      ],
      "text/plain": [
       "            id customer_id  month         name  age          ssn  occupation  \\\n",
       "65925  0x19847  CUS_0xac29   June       Susanq   14  985-65-5941      Doctor   \n",
       "14196   0x692e  CUS_0x6958    May        Tarao   14  811-14-4092     Manager   \n",
       "48171  0x13041  CUS_0xa3db  April  Euan Rochap   14  736-80-3805  Accountant   \n",
       "\n",
       "      annual_income  monthly_inhand_salary  num_bank_accounts  \\\n",
       "65925      9654.115                620.510                  6   \n",
       "14196      28312.79               2566.399                  3   \n",
       "48171     18290.03_               1454.169                  8   \n",
       "\n",
       "       num_credit_card  interest_rate num_of_loan  \\\n",
       "65925                7             18           3   \n",
       "14196                3              5           3   \n",
       "48171                7             16           5   \n",
       "\n",
       "                                            type_of_loan  delay_from_due_date  \\\n",
       "65925  Credit-Builder Loan, Credit-Builder Loan, and ...                   57   \n",
       "14196        Auto Loan, Not Specified, and Mortgage Loan                   29   \n",
       "48171  Credit-Builder Loan, Credit-Builder Loan, Stud...                   35   \n",
       "\n",
       "      num_of_delayed_payment changed_credit_limit  num_credit_inquiries  \\\n",
       "65925                     18                 14.3                10.000   \n",
       "14196                      7                16.57                 5.000   \n",
       "48171                    20_                15.61                 8.000   \n",
       "\n",
       "      credit_mix outstanding_debt  credit_utilization_ratio  \\\n",
       "65925   Standard          2081.23                    31.813   \n",
       "14196   Standard           365.77                    32.406   \n",
       "48171        Bad           4107.9                    31.361   \n",
       "\n",
       "       credit_history_age payment_of_min_amount  total_emi_per_month  \\\n",
       "65925                 110                   Yes               20.328   \n",
       "14196                 115                   Yes               50.677   \n",
       "48171                 152                   Yes               66.310   \n",
       "\n",
       "       amount_invested_monthly               payment_behaviour  \\\n",
       "65925                   69.401  Low_spent_Small_value_payments   \n",
       "14196                  271.931  Low_spent_Small_value_payments   \n",
       "48171                   78.583  Low_spent_Small_value_payments   \n",
       "\n",
       "       monthly_balance credit_score  \n",
       "65925          262.323         Poor  \n",
       "14196          224.031     Standard  \n",
       "48171          290.523         Poor  "
      ]
     },
     "execution_count": 72,
     "metadata": {},
     "output_type": "execute_result"
    }
   ],
   "source": [
    "df.loc[df[\"age\"] == 14 ].sample(3)"
   ]
  },
  {
   "cell_type": "code",
   "execution_count": 73,
   "id": "98f4a159",
   "metadata": {
    "execution": {
     "iopub.execute_input": "2024-05-03T19:22:58.928724Z",
     "iopub.status.busy": "2024-05-03T19:22:58.928268Z",
     "iopub.status.idle": "2024-05-03T19:22:58.938130Z",
     "shell.execute_reply": "2024-05-03T19:22:58.937585Z"
    },
    "papermill": {
     "duration": 0.043977,
     "end_time": "2024-05-03T19:22:58.939712",
     "exception": false,
     "start_time": "2024-05-03T19:22:58.895735",
     "status": "completed"
    },
    "tags": []
   },
   "outputs": [
    {
     "data": {
      "text/plain": [
       "count   1895.000\n",
       "mean    4363.394\n",
       "std     2506.279\n",
       "min       95.000\n",
       "25%     2165.000\n",
       "50%     4380.000\n",
       "75%     6518.000\n",
       "max     8698.000\n",
       "Name: age, dtype: float64"
      ]
     },
     "execution_count": 73,
     "metadata": {},
     "output_type": "execute_result"
    }
   ],
   "source": [
    "df.loc[df[\"age\"] > 56].age.describe()"
   ]
  },
  {
   "cell_type": "code",
   "execution_count": 74,
   "id": "34a1990f",
   "metadata": {
    "execution": {
     "iopub.execute_input": "2024-05-03T19:22:59.005337Z",
     "iopub.status.busy": "2024-05-03T19:22:59.004756Z",
     "iopub.status.idle": "2024-05-03T19:22:59.019232Z",
     "shell.execute_reply": "2024-05-03T19:22:59.018605Z"
    },
    "papermill": {
     "duration": 0.04957,
     "end_time": "2024-05-03T19:22:59.020816",
     "exception": false,
     "start_time": "2024-05-03T19:22:58.971246",
     "status": "completed"
    },
    "tags": []
   },
   "outputs": [
    {
     "data": {
      "text/html": [
       "<div>\n",
       "<style scoped>\n",
       "    .dataframe tbody tr th:only-of-type {\n",
       "        vertical-align: middle;\n",
       "    }\n",
       "\n",
       "    .dataframe tbody tr th {\n",
       "        vertical-align: top;\n",
       "    }\n",
       "\n",
       "    .dataframe thead th {\n",
       "        text-align: right;\n",
       "    }\n",
       "</style>\n",
       "<table border=\"1\" class=\"dataframe\">\n",
       "  <thead>\n",
       "    <tr style=\"text-align: right;\">\n",
       "      <th></th>\n",
       "      <th>id</th>\n",
       "      <th>customer_id</th>\n",
       "      <th>month</th>\n",
       "      <th>name</th>\n",
       "      <th>age</th>\n",
       "      <th>ssn</th>\n",
       "      <th>occupation</th>\n",
       "      <th>annual_income</th>\n",
       "      <th>monthly_inhand_salary</th>\n",
       "      <th>num_bank_accounts</th>\n",
       "      <th>num_credit_card</th>\n",
       "      <th>interest_rate</th>\n",
       "      <th>num_of_loan</th>\n",
       "      <th>type_of_loan</th>\n",
       "      <th>delay_from_due_date</th>\n",
       "      <th>num_of_delayed_payment</th>\n",
       "      <th>changed_credit_limit</th>\n",
       "      <th>num_credit_inquiries</th>\n",
       "      <th>credit_mix</th>\n",
       "      <th>outstanding_debt</th>\n",
       "      <th>credit_utilization_ratio</th>\n",
       "      <th>credit_history_age</th>\n",
       "      <th>payment_of_min_amount</th>\n",
       "      <th>total_emi_per_month</th>\n",
       "      <th>amount_invested_monthly</th>\n",
       "      <th>payment_behaviour</th>\n",
       "      <th>monthly_balance</th>\n",
       "      <th>credit_score</th>\n",
       "    </tr>\n",
       "  </thead>\n",
       "  <tbody>\n",
       "    <tr>\n",
       "      <th>20368</th>\n",
       "      <td>0x8d5a</td>\n",
       "      <td>CUS_0x1f2e</td>\n",
       "      <td>January</td>\n",
       "      <td>Stefano Bernabeiq</td>\n",
       "      <td>4380</td>\n",
       "      <td>049-84-5378</td>\n",
       "      <td>Entrepreneur</td>\n",
       "      <td>41012.42</td>\n",
       "      <td>3341.702</td>\n",
       "      <td>5</td>\n",
       "      <td>4</td>\n",
       "      <td>27</td>\n",
       "      <td>7</td>\n",
       "      <td>Payday Loan, Debt Consolidation Loan, Home Equ...</td>\n",
       "      <td>13</td>\n",
       "      <td>13</td>\n",
       "      <td>19.47</td>\n",
       "      <td>4.000</td>\n",
       "      <td>Standard</td>\n",
       "      <td>1690.55</td>\n",
       "      <td>26.118</td>\n",
       "      <td>88</td>\n",
       "      <td>Yes</td>\n",
       "      <td>199.368</td>\n",
       "      <td>351.341</td>\n",
       "      <td>Low_spent_Small_value_payments</td>\n",
       "      <td>73.461</td>\n",
       "      <td>Poor</td>\n",
       "    </tr>\n",
       "  </tbody>\n",
       "</table>\n",
       "</div>"
      ],
      "text/plain": [
       "           id customer_id    month               name   age          ssn  \\\n",
       "20368  0x8d5a  CUS_0x1f2e  January  Stefano Bernabeiq  4380  049-84-5378   \n",
       "\n",
       "         occupation annual_income  monthly_inhand_salary  num_bank_accounts  \\\n",
       "20368  Entrepreneur      41012.42               3341.702                  5   \n",
       "\n",
       "       num_credit_card  interest_rate num_of_loan  \\\n",
       "20368                4             27           7   \n",
       "\n",
       "                                            type_of_loan  delay_from_due_date  \\\n",
       "20368  Payday Loan, Debt Consolidation Loan, Home Equ...                   13   \n",
       "\n",
       "      num_of_delayed_payment changed_credit_limit  num_credit_inquiries  \\\n",
       "20368                     13                19.47                 4.000   \n",
       "\n",
       "      credit_mix outstanding_debt  credit_utilization_ratio  \\\n",
       "20368   Standard          1690.55                    26.118   \n",
       "\n",
       "       credit_history_age payment_of_min_amount  total_emi_per_month  \\\n",
       "20368                  88                   Yes              199.368   \n",
       "\n",
       "       amount_invested_monthly               payment_behaviour  \\\n",
       "20368                  351.341  Low_spent_Small_value_payments   \n",
       "\n",
       "       monthly_balance credit_score  \n",
       "20368           73.461         Poor  "
      ]
     },
     "execution_count": 74,
     "metadata": {},
     "output_type": "execute_result"
    }
   ],
   "source": [
    "df.loc[df[\"age\"] == 4380.000]"
   ]
  },
  {
   "cell_type": "code",
   "execution_count": 75,
   "id": "b2f372ec",
   "metadata": {
    "execution": {
     "iopub.execute_input": "2024-05-03T19:22:59.086723Z",
     "iopub.status.busy": "2024-05-03T19:22:59.086478Z",
     "iopub.status.idle": "2024-05-03T19:22:59.110860Z",
     "shell.execute_reply": "2024-05-03T19:22:59.110284Z"
    },
    "papermill": {
     "duration": 0.059409,
     "end_time": "2024-05-03T19:22:59.112548",
     "exception": false,
     "start_time": "2024-05-03T19:22:59.053139",
     "status": "completed"
    },
    "tags": []
   },
   "outputs": [
    {
     "data": {
      "text/html": [
       "<div>\n",
       "<style scoped>\n",
       "    .dataframe tbody tr th:only-of-type {\n",
       "        vertical-align: middle;\n",
       "    }\n",
       "\n",
       "    .dataframe tbody tr th {\n",
       "        vertical-align: top;\n",
       "    }\n",
       "\n",
       "    .dataframe thead th {\n",
       "        text-align: right;\n",
       "    }\n",
       "</style>\n",
       "<table border=\"1\" class=\"dataframe\">\n",
       "  <thead>\n",
       "    <tr style=\"text-align: right;\">\n",
       "      <th></th>\n",
       "      <th>id</th>\n",
       "      <th>customer_id</th>\n",
       "      <th>month</th>\n",
       "      <th>name</th>\n",
       "      <th>age</th>\n",
       "      <th>ssn</th>\n",
       "      <th>occupation</th>\n",
       "      <th>annual_income</th>\n",
       "      <th>monthly_inhand_salary</th>\n",
       "      <th>num_bank_accounts</th>\n",
       "      <th>num_credit_card</th>\n",
       "      <th>interest_rate</th>\n",
       "      <th>num_of_loan</th>\n",
       "      <th>type_of_loan</th>\n",
       "      <th>delay_from_due_date</th>\n",
       "      <th>num_of_delayed_payment</th>\n",
       "      <th>changed_credit_limit</th>\n",
       "      <th>num_credit_inquiries</th>\n",
       "      <th>credit_mix</th>\n",
       "      <th>outstanding_debt</th>\n",
       "      <th>credit_utilization_ratio</th>\n",
       "      <th>credit_history_age</th>\n",
       "      <th>payment_of_min_amount</th>\n",
       "      <th>total_emi_per_month</th>\n",
       "      <th>amount_invested_monthly</th>\n",
       "      <th>payment_behaviour</th>\n",
       "      <th>monthly_balance</th>\n",
       "      <th>credit_score</th>\n",
       "    </tr>\n",
       "  </thead>\n",
       "  <tbody>\n",
       "    <tr>\n",
       "      <th>20368</th>\n",
       "      <td>0x8d5a</td>\n",
       "      <td>CUS_0x1f2e</td>\n",
       "      <td>January</td>\n",
       "      <td>Stefano Bernabeiq</td>\n",
       "      <td>4380</td>\n",
       "      <td>049-84-5378</td>\n",
       "      <td>Entrepreneur</td>\n",
       "      <td>41012.42</td>\n",
       "      <td>3341.702</td>\n",
       "      <td>5</td>\n",
       "      <td>4</td>\n",
       "      <td>27</td>\n",
       "      <td>7</td>\n",
       "      <td>Payday Loan, Debt Consolidation Loan, Home Equ...</td>\n",
       "      <td>13</td>\n",
       "      <td>13</td>\n",
       "      <td>19.47</td>\n",
       "      <td>4.000</td>\n",
       "      <td>Standard</td>\n",
       "      <td>1690.55</td>\n",
       "      <td>26.118</td>\n",
       "      <td>88</td>\n",
       "      <td>Yes</td>\n",
       "      <td>199.368</td>\n",
       "      <td>351.341</td>\n",
       "      <td>Low_spent_Small_value_payments</td>\n",
       "      <td>73.461</td>\n",
       "      <td>Poor</td>\n",
       "    </tr>\n",
       "    <tr>\n",
       "      <th>20369</th>\n",
       "      <td>0x8d5b</td>\n",
       "      <td>CUS_0x1f2e</td>\n",
       "      <td>February</td>\n",
       "      <td>Stefano Bernabeiq</td>\n",
       "      <td>26</td>\n",
       "      <td>049-84-5378</td>\n",
       "      <td>Entrepreneur</td>\n",
       "      <td>41012.42</td>\n",
       "      <td>3341.702</td>\n",
       "      <td>5</td>\n",
       "      <td>4</td>\n",
       "      <td>27</td>\n",
       "      <td>7</td>\n",
       "      <td>Payday Loan, Debt Consolidation Loan, Home Equ...</td>\n",
       "      <td>13</td>\n",
       "      <td>11</td>\n",
       "      <td>22.47</td>\n",
       "      <td>4.000</td>\n",
       "      <td>Standard</td>\n",
       "      <td>1690.55</td>\n",
       "      <td>26.470</td>\n",
       "      <td>89</td>\n",
       "      <td>Yes</td>\n",
       "      <td>199.368</td>\n",
       "      <td>205.382</td>\n",
       "      <td>Low_spent_Large_value_payments</td>\n",
       "      <td>199.421</td>\n",
       "      <td>Poor</td>\n",
       "    </tr>\n",
       "    <tr>\n",
       "      <th>20370</th>\n",
       "      <td>0x8d5c</td>\n",
       "      <td>CUS_0x1f2e</td>\n",
       "      <td>March</td>\n",
       "      <td>Stefano Bernabeiq</td>\n",
       "      <td>26</td>\n",
       "      <td>049-84-5378</td>\n",
       "      <td>Entrepreneur</td>\n",
       "      <td>41012.42</td>\n",
       "      <td>3341.702</td>\n",
       "      <td>5</td>\n",
       "      <td>4</td>\n",
       "      <td>27</td>\n",
       "      <td>7</td>\n",
       "      <td>Payday Loan, Debt Consolidation Loan, Home Equ...</td>\n",
       "      <td>9</td>\n",
       "      <td>11</td>\n",
       "      <td>19.47</td>\n",
       "      <td>4.000</td>\n",
       "      <td>Standard</td>\n",
       "      <td>1690.55</td>\n",
       "      <td>25.467</td>\n",
       "      <td>90</td>\n",
       "      <td>NM</td>\n",
       "      <td>199.368</td>\n",
       "      <td>109.167</td>\n",
       "      <td>!@9#%8</td>\n",
       "      <td>285.636</td>\n",
       "      <td>Poor</td>\n",
       "    </tr>\n",
       "    <tr>\n",
       "      <th>20371</th>\n",
       "      <td>0x8d5d</td>\n",
       "      <td>CUS_0x1f2e</td>\n",
       "      <td>April</td>\n",
       "      <td>Stefano Bernabeiq</td>\n",
       "      <td>26</td>\n",
       "      <td>049-84-5378</td>\n",
       "      <td>Entrepreneur</td>\n",
       "      <td>41012.42_</td>\n",
       "      <td>3341.702</td>\n",
       "      <td>5</td>\n",
       "      <td>4</td>\n",
       "      <td>27</td>\n",
       "      <td>7_</td>\n",
       "      <td>Payday Loan, Debt Consolidation Loan, Home Equ...</td>\n",
       "      <td>8</td>\n",
       "      <td>14</td>\n",
       "      <td>14.47</td>\n",
       "      <td>4.000</td>\n",
       "      <td>Standard</td>\n",
       "      <td>1690.55</td>\n",
       "      <td>30.387</td>\n",
       "      <td>91</td>\n",
       "      <td>NM</td>\n",
       "      <td>199.368</td>\n",
       "      <td>224.138</td>\n",
       "      <td>Low_spent_Small_value_payments</td>\n",
       "      <td>200.664</td>\n",
       "      <td>Poor</td>\n",
       "    </tr>\n",
       "    <tr>\n",
       "      <th>20372</th>\n",
       "      <td>0x8d5e</td>\n",
       "      <td>CUS_0x1f2e</td>\n",
       "      <td>May</td>\n",
       "      <td>Stefano Bernabeiq</td>\n",
       "      <td>26</td>\n",
       "      <td>049-84-5378</td>\n",
       "      <td>Entrepreneur</td>\n",
       "      <td>41012.42_</td>\n",
       "      <td>3341.702</td>\n",
       "      <td>5</td>\n",
       "      <td>4</td>\n",
       "      <td>27</td>\n",
       "      <td>-100</td>\n",
       "      <td>Payday Loan, Debt Consolidation Loan, Home Equ...</td>\n",
       "      <td>13</td>\n",
       "      <td>11</td>\n",
       "      <td>19.47</td>\n",
       "      <td>4.000</td>\n",
       "      <td>Standard</td>\n",
       "      <td>1690.55</td>\n",
       "      <td>37.308</td>\n",
       "      <td>91</td>\n",
       "      <td>Yes</td>\n",
       "      <td>199.368</td>\n",
       "      <td>117.137</td>\n",
       "      <td>High_spent_Small_value_payments</td>\n",
       "      <td>277.665</td>\n",
       "      <td>Poor</td>\n",
       "    </tr>\n",
       "    <tr>\n",
       "      <th>20373</th>\n",
       "      <td>0x8d5f</td>\n",
       "      <td>CUS_0x1f2e</td>\n",
       "      <td>June</td>\n",
       "      <td>Stefano Bernabeiq</td>\n",
       "      <td>26</td>\n",
       "      <td>049-84-5378</td>\n",
       "      <td>Entrepreneur</td>\n",
       "      <td>41012.42</td>\n",
       "      <td>3341.702</td>\n",
       "      <td>5</td>\n",
       "      <td>4</td>\n",
       "      <td>27</td>\n",
       "      <td>7</td>\n",
       "      <td>Payday Loan, Debt Consolidation Loan, Home Equ...</td>\n",
       "      <td>13</td>\n",
       "      <td>11</td>\n",
       "      <td>14.47</td>\n",
       "      <td>4.000</td>\n",
       "      <td>Standard</td>\n",
       "      <td>1690.55</td>\n",
       "      <td>31.645</td>\n",
       "      <td>91</td>\n",
       "      <td>Yes</td>\n",
       "      <td>199.368</td>\n",
       "      <td>118.545</td>\n",
       "      <td>High_spent_Medium_value_payments</td>\n",
       "      <td>266.257</td>\n",
       "      <td>Standard</td>\n",
       "    </tr>\n",
       "    <tr>\n",
       "      <th>20374</th>\n",
       "      <td>0x8d60</td>\n",
       "      <td>CUS_0x1f2e</td>\n",
       "      <td>July</td>\n",
       "      <td>Stefano Bernabeiq</td>\n",
       "      <td>26</td>\n",
       "      <td>049-84-5378</td>\n",
       "      <td>Entrepreneur</td>\n",
       "      <td>41012.42</td>\n",
       "      <td>3341.702</td>\n",
       "      <td>5</td>\n",
       "      <td>4</td>\n",
       "      <td>27</td>\n",
       "      <td>7</td>\n",
       "      <td>Payday Loan, Debt Consolidation Loan, Home Equ...</td>\n",
       "      <td>18</td>\n",
       "      <td>10</td>\n",
       "      <td>19.47</td>\n",
       "      <td>4.000</td>\n",
       "      <td>Standard</td>\n",
       "      <td>1690.55</td>\n",
       "      <td>32.476</td>\n",
       "      <td>94</td>\n",
       "      <td>Yes</td>\n",
       "      <td>199.368</td>\n",
       "      <td>89.851</td>\n",
       "      <td>High_spent_Medium_value_payments</td>\n",
       "      <td>294.951</td>\n",
       "      <td>Poor</td>\n",
       "    </tr>\n",
       "    <tr>\n",
       "      <th>20375</th>\n",
       "      <td>0x8d61</td>\n",
       "      <td>CUS_0x1f2e</td>\n",
       "      <td>August</td>\n",
       "      <td>Stefano Bernabeiq</td>\n",
       "      <td>26</td>\n",
       "      <td>049-84-5378</td>\n",
       "      <td>Entrepreneur</td>\n",
       "      <td>41012.42</td>\n",
       "      <td>3341.702</td>\n",
       "      <td>5</td>\n",
       "      <td>4</td>\n",
       "      <td>27</td>\n",
       "      <td>7</td>\n",
       "      <td>Payday Loan, Debt Consolidation Loan, Home Equ...</td>\n",
       "      <td>13</td>\n",
       "      <td>9</td>\n",
       "      <td>14.47</td>\n",
       "      <td>4.000</td>\n",
       "      <td>Standard</td>\n",
       "      <td>1690.55</td>\n",
       "      <td>30.687</td>\n",
       "      <td>95</td>\n",
       "      <td>Yes</td>\n",
       "      <td>199.368</td>\n",
       "      <td>174.795</td>\n",
       "      <td>High_spent_Small_value_payments</td>\n",
       "      <td>220.007</td>\n",
       "      <td>Standard</td>\n",
       "    </tr>\n",
       "  </tbody>\n",
       "</table>\n",
       "</div>"
      ],
      "text/plain": [
       "           id customer_id     month               name   age          ssn  \\\n",
       "20368  0x8d5a  CUS_0x1f2e   January  Stefano Bernabeiq  4380  049-84-5378   \n",
       "20369  0x8d5b  CUS_0x1f2e  February  Stefano Bernabeiq    26  049-84-5378   \n",
       "20370  0x8d5c  CUS_0x1f2e     March  Stefano Bernabeiq    26  049-84-5378   \n",
       "20371  0x8d5d  CUS_0x1f2e     April  Stefano Bernabeiq    26  049-84-5378   \n",
       "20372  0x8d5e  CUS_0x1f2e       May  Stefano Bernabeiq    26  049-84-5378   \n",
       "20373  0x8d5f  CUS_0x1f2e      June  Stefano Bernabeiq    26  049-84-5378   \n",
       "20374  0x8d60  CUS_0x1f2e      July  Stefano Bernabeiq    26  049-84-5378   \n",
       "20375  0x8d61  CUS_0x1f2e    August  Stefano Bernabeiq    26  049-84-5378   \n",
       "\n",
       "         occupation annual_income  monthly_inhand_salary  num_bank_accounts  \\\n",
       "20368  Entrepreneur      41012.42               3341.702                  5   \n",
       "20369  Entrepreneur      41012.42               3341.702                  5   \n",
       "20370  Entrepreneur      41012.42               3341.702                  5   \n",
       "20371  Entrepreneur     41012.42_               3341.702                  5   \n",
       "20372  Entrepreneur     41012.42_               3341.702                  5   \n",
       "20373  Entrepreneur      41012.42               3341.702                  5   \n",
       "20374  Entrepreneur      41012.42               3341.702                  5   \n",
       "20375  Entrepreneur      41012.42               3341.702                  5   \n",
       "\n",
       "       num_credit_card  interest_rate num_of_loan  \\\n",
       "20368                4             27           7   \n",
       "20369                4             27           7   \n",
       "20370                4             27           7   \n",
       "20371                4             27          7_   \n",
       "20372                4             27        -100   \n",
       "20373                4             27           7   \n",
       "20374                4             27           7   \n",
       "20375                4             27           7   \n",
       "\n",
       "                                            type_of_loan  delay_from_due_date  \\\n",
       "20368  Payday Loan, Debt Consolidation Loan, Home Equ...                   13   \n",
       "20369  Payday Loan, Debt Consolidation Loan, Home Equ...                   13   \n",
       "20370  Payday Loan, Debt Consolidation Loan, Home Equ...                    9   \n",
       "20371  Payday Loan, Debt Consolidation Loan, Home Equ...                    8   \n",
       "20372  Payday Loan, Debt Consolidation Loan, Home Equ...                   13   \n",
       "20373  Payday Loan, Debt Consolidation Loan, Home Equ...                   13   \n",
       "20374  Payday Loan, Debt Consolidation Loan, Home Equ...                   18   \n",
       "20375  Payday Loan, Debt Consolidation Loan, Home Equ...                   13   \n",
       "\n",
       "      num_of_delayed_payment changed_credit_limit  num_credit_inquiries  \\\n",
       "20368                     13                19.47                 4.000   \n",
       "20369                     11                22.47                 4.000   \n",
       "20370                     11                19.47                 4.000   \n",
       "20371                     14                14.47                 4.000   \n",
       "20372                     11                19.47                 4.000   \n",
       "20373                     11                14.47                 4.000   \n",
       "20374                     10                19.47                 4.000   \n",
       "20375                      9                14.47                 4.000   \n",
       "\n",
       "      credit_mix outstanding_debt  credit_utilization_ratio  \\\n",
       "20368   Standard          1690.55                    26.118   \n",
       "20369   Standard          1690.55                    26.470   \n",
       "20370   Standard          1690.55                    25.467   \n",
       "20371   Standard          1690.55                    30.387   \n",
       "20372   Standard          1690.55                    37.308   \n",
       "20373   Standard          1690.55                    31.645   \n",
       "20374   Standard          1690.55                    32.476   \n",
       "20375   Standard          1690.55                    30.687   \n",
       "\n",
       "       credit_history_age payment_of_min_amount  total_emi_per_month  \\\n",
       "20368                  88                   Yes              199.368   \n",
       "20369                  89                   Yes              199.368   \n",
       "20370                  90                    NM              199.368   \n",
       "20371                  91                    NM              199.368   \n",
       "20372                  91                   Yes              199.368   \n",
       "20373                  91                   Yes              199.368   \n",
       "20374                  94                   Yes              199.368   \n",
       "20375                  95                   Yes              199.368   \n",
       "\n",
       "       amount_invested_monthly                 payment_behaviour  \\\n",
       "20368                  351.341    Low_spent_Small_value_payments   \n",
       "20369                  205.382    Low_spent_Large_value_payments   \n",
       "20370                  109.167                            !@9#%8   \n",
       "20371                  224.138    Low_spent_Small_value_payments   \n",
       "20372                  117.137   High_spent_Small_value_payments   \n",
       "20373                  118.545  High_spent_Medium_value_payments   \n",
       "20374                   89.851  High_spent_Medium_value_payments   \n",
       "20375                  174.795   High_spent_Small_value_payments   \n",
       "\n",
       "       monthly_balance credit_score  \n",
       "20368           73.461         Poor  \n",
       "20369          199.421         Poor  \n",
       "20370          285.636         Poor  \n",
       "20371          200.664         Poor  \n",
       "20372          277.665         Poor  \n",
       "20373          266.257     Standard  \n",
       "20374          294.951         Poor  \n",
       "20375          220.007     Standard  "
      ]
     },
     "execution_count": 75,
     "metadata": {},
     "output_type": "execute_result"
    }
   ],
   "source": [
    "df.loc[df[\"customer_id\"] == \"CUS_0x1f2e\"]"
   ]
  },
  {
   "cell_type": "code",
   "execution_count": 76,
   "id": "83254e53",
   "metadata": {
    "ExecuteTime": {
     "end_time": "2024-04-28T00:56:45.755167Z",
     "start_time": "2024-04-28T00:56:45.662607Z"
    },
    "execution": {
     "iopub.execute_input": "2024-05-03T19:22:59.178692Z",
     "iopub.status.busy": "2024-05-03T19:22:59.178422Z",
     "iopub.status.idle": "2024-05-03T19:22:59.226510Z",
     "shell.execute_reply": "2024-05-03T19:22:59.225889Z"
    },
    "papermill": {
     "duration": 0.083126,
     "end_time": "2024-05-03T19:22:59.228160",
     "exception": false,
     "start_time": "2024-05-03T19:22:59.145034",
     "status": "completed"
    },
    "tags": []
   },
   "outputs": [
    {
     "data": {
      "text/plain": [
       "2777"
      ]
     },
     "execution_count": 76,
     "metadata": {},
     "output_type": "execute_result"
    }
   ],
   "source": [
    "len(df[df[\"age\"].apply(lambda x: len(str(int(x))) > 2)])"
   ]
  },
  {
   "cell_type": "code",
   "execution_count": 77,
   "id": "e610ca8c",
   "metadata": {
    "ExecuteTime": {
     "end_time": "2024-04-28T01:12:01.508364Z",
     "start_time": "2024-04-28T01:12:01.398739Z"
    },
    "execution": {
     "iopub.execute_input": "2024-05-03T19:22:59.294969Z",
     "iopub.status.busy": "2024-05-03T19:22:59.294712Z",
     "iopub.status.idle": "2024-05-03T19:22:59.339178Z",
     "shell.execute_reply": "2024-05-03T19:22:59.338595Z"
    },
    "papermill": {
     "duration": 0.079928,
     "end_time": "2024-05-03T19:22:59.340789",
     "exception": false,
     "start_time": "2024-05-03T19:22:59.260861",
     "status": "completed"
    },
    "tags": []
   },
   "outputs": [],
   "source": [
    "df.loc[df[\"age\"].apply(lambda x: len(str(int(x))) > 2),\"age\"]=np.nan"
   ]
  },
  {
   "cell_type": "code",
   "execution_count": 78,
   "id": "e0b603e8",
   "metadata": {
    "ExecuteTime": {
     "end_time": "2024-04-28T01:12:03.219897Z",
     "start_time": "2024-04-28T01:12:03.202749Z"
    },
    "execution": {
     "iopub.execute_input": "2024-05-03T19:22:59.407827Z",
     "iopub.status.busy": "2024-05-03T19:22:59.407254Z",
     "iopub.status.idle": "2024-05-03T19:22:59.412292Z",
     "shell.execute_reply": "2024-05-03T19:22:59.411672Z"
    },
    "papermill": {
     "duration": 0.04028,
     "end_time": "2024-05-03T19:22:59.413960",
     "exception": false,
     "start_time": "2024-05-03T19:22:59.373680",
     "status": "completed"
    },
    "tags": []
   },
   "outputs": [
    {
     "data": {
      "text/plain": [
       "2777"
      ]
     },
     "execution_count": 78,
     "metadata": {},
     "output_type": "execute_result"
    }
   ],
   "source": [
    "df.age.isna().sum()"
   ]
  },
  {
   "cell_type": "code",
   "execution_count": 79,
   "id": "5f2d33f8",
   "metadata": {
    "ExecuteTime": {
     "end_time": "2024-04-28T01:01:34.425705Z",
     "start_time": "2024-04-28T01:01:34.363255Z"
    },
    "execution": {
     "iopub.execute_input": "2024-05-03T19:22:59.484658Z",
     "iopub.status.busy": "2024-05-03T19:22:59.484377Z",
     "iopub.status.idle": "2024-05-03T19:22:59.511350Z",
     "shell.execute_reply": "2024-05-03T19:22:59.510721Z"
    },
    "papermill": {
     "duration": 0.063648,
     "end_time": "2024-05-03T19:22:59.513126",
     "exception": false,
     "start_time": "2024-05-03T19:22:59.449478",
     "status": "completed"
    },
    "tags": []
   },
   "outputs": [
    {
     "data": {
      "text/html": [
       "<div>\n",
       "<style scoped>\n",
       "    .dataframe tbody tr th:only-of-type {\n",
       "        vertical-align: middle;\n",
       "    }\n",
       "\n",
       "    .dataframe tbody tr th {\n",
       "        vertical-align: top;\n",
       "    }\n",
       "\n",
       "    .dataframe thead th {\n",
       "        text-align: right;\n",
       "    }\n",
       "</style>\n",
       "<table border=\"1\" class=\"dataframe\">\n",
       "  <thead>\n",
       "    <tr style=\"text-align: right;\">\n",
       "      <th></th>\n",
       "      <th>id</th>\n",
       "      <th>customer_id</th>\n",
       "      <th>month</th>\n",
       "      <th>name</th>\n",
       "      <th>age</th>\n",
       "      <th>ssn</th>\n",
       "      <th>occupation</th>\n",
       "      <th>annual_income</th>\n",
       "      <th>monthly_inhand_salary</th>\n",
       "      <th>num_bank_accounts</th>\n",
       "      <th>num_credit_card</th>\n",
       "      <th>interest_rate</th>\n",
       "      <th>num_of_loan</th>\n",
       "      <th>type_of_loan</th>\n",
       "      <th>delay_from_due_date</th>\n",
       "      <th>num_of_delayed_payment</th>\n",
       "      <th>changed_credit_limit</th>\n",
       "      <th>num_credit_inquiries</th>\n",
       "      <th>credit_mix</th>\n",
       "      <th>outstanding_debt</th>\n",
       "      <th>credit_utilization_ratio</th>\n",
       "      <th>credit_history_age</th>\n",
       "      <th>payment_of_min_amount</th>\n",
       "      <th>total_emi_per_month</th>\n",
       "      <th>amount_invested_monthly</th>\n",
       "      <th>payment_behaviour</th>\n",
       "      <th>monthly_balance</th>\n",
       "      <th>credit_score</th>\n",
       "    </tr>\n",
       "  </thead>\n",
       "  <tbody>\n",
       "    <tr>\n",
       "      <th>712</th>\n",
       "      <td>0x1a2e</td>\n",
       "      <td>CUS_0x3861</td>\n",
       "      <td>January</td>\n",
       "      <td>Fiona Ortizx</td>\n",
       "      <td>53.000</td>\n",
       "      <td>212-32-2085</td>\n",
       "      <td>Engineer</td>\n",
       "      <td>17992.775</td>\n",
       "      <td>1769.398</td>\n",
       "      <td>3</td>\n",
       "      <td>5</td>\n",
       "      <td>6</td>\n",
       "      <td>-100</td>\n",
       "      <td>NaN</td>\n",
       "      <td>5</td>\n",
       "      <td>9</td>\n",
       "      <td>8.61</td>\n",
       "      <td>2.000</td>\n",
       "      <td>Good</td>\n",
       "      <td>565.22</td>\n",
       "      <td>22.380</td>\n",
       "      <td>227</td>\n",
       "      <td>No</td>\n",
       "      <td>0.000</td>\n",
       "      <td>88.443</td>\n",
       "      <td>!@9#%8</td>\n",
       "      <td>348.497</td>\n",
       "      <td>Poor</td>\n",
       "    </tr>\n",
       "    <tr>\n",
       "      <th>713</th>\n",
       "      <td>0x1a2f</td>\n",
       "      <td>CUS_0x3861</td>\n",
       "      <td>February</td>\n",
       "      <td>Fiona Ortizx</td>\n",
       "      <td>53.000</td>\n",
       "      <td>212-32-2085</td>\n",
       "      <td>Engineer</td>\n",
       "      <td>17992.775_</td>\n",
       "      <td>1769.398</td>\n",
       "      <td>3</td>\n",
       "      <td>5</td>\n",
       "      <td>6</td>\n",
       "      <td>0</td>\n",
       "      <td>NaN</td>\n",
       "      <td>11</td>\n",
       "      <td>15</td>\n",
       "      <td>8.61</td>\n",
       "      <td>2.000</td>\n",
       "      <td>Good</td>\n",
       "      <td>565.22</td>\n",
       "      <td>37.219</td>\n",
       "      <td>228</td>\n",
       "      <td>NM</td>\n",
       "      <td>0.000</td>\n",
       "      <td>137.398</td>\n",
       "      <td>Low_spent_Small_value_payments</td>\n",
       "      <td>329.541</td>\n",
       "      <td>Poor</td>\n",
       "    </tr>\n",
       "    <tr>\n",
       "      <th>714</th>\n",
       "      <td>0x1a30</td>\n",
       "      <td>CUS_0x3861</td>\n",
       "      <td>March</td>\n",
       "      <td>Fiona Ortizx</td>\n",
       "      <td>NaN</td>\n",
       "      <td>212-32-2085</td>\n",
       "      <td>Engineer</td>\n",
       "      <td>17992.775</td>\n",
       "      <td>1769.398</td>\n",
       "      <td>3</td>\n",
       "      <td>5</td>\n",
       "      <td>6</td>\n",
       "      <td>0</td>\n",
       "      <td>NaN</td>\n",
       "      <td>4</td>\n",
       "      <td>12</td>\n",
       "      <td>4.6099999999999985</td>\n",
       "      <td>2.000</td>\n",
       "      <td>Good</td>\n",
       "      <td>565.22</td>\n",
       "      <td>23.137</td>\n",
       "      <td>229</td>\n",
       "      <td>No</td>\n",
       "      <td>0.000</td>\n",
       "      <td>95.656</td>\n",
       "      <td>High_spent_Small_value_payments</td>\n",
       "      <td>341.283</td>\n",
       "      <td>Poor</td>\n",
       "    </tr>\n",
       "    <tr>\n",
       "      <th>715</th>\n",
       "      <td>0x1a31</td>\n",
       "      <td>CUS_0x3861</td>\n",
       "      <td>April</td>\n",
       "      <td>Fiona Ortizx</td>\n",
       "      <td>53.000</td>\n",
       "      <td>#F%$D@*&amp;8</td>\n",
       "      <td>Engineer</td>\n",
       "      <td>17992.775</td>\n",
       "      <td>1769.398</td>\n",
       "      <td>3</td>\n",
       "      <td>5</td>\n",
       "      <td>6</td>\n",
       "      <td>0</td>\n",
       "      <td>NaN</td>\n",
       "      <td>8</td>\n",
       "      <td>12</td>\n",
       "      <td>4.6099999999999985</td>\n",
       "      <td>2.000</td>\n",
       "      <td>Good</td>\n",
       "      <td>565.22</td>\n",
       "      <td>25.152</td>\n",
       "      <td>230</td>\n",
       "      <td>No</td>\n",
       "      <td>0.000</td>\n",
       "      <td>162.643</td>\n",
       "      <td>Low_spent_Small_value_payments</td>\n",
       "      <td>304.297</td>\n",
       "      <td>Poor</td>\n",
       "    </tr>\n",
       "    <tr>\n",
       "      <th>716</th>\n",
       "      <td>0x1a32</td>\n",
       "      <td>CUS_0x3861</td>\n",
       "      <td>May</td>\n",
       "      <td>Fiona Ortizx</td>\n",
       "      <td>53.000</td>\n",
       "      <td>212-32-2085</td>\n",
       "      <td>Engineer</td>\n",
       "      <td>17992.775</td>\n",
       "      <td>1769.398</td>\n",
       "      <td>3</td>\n",
       "      <td>5</td>\n",
       "      <td>6</td>\n",
       "      <td>0</td>\n",
       "      <td>NaN</td>\n",
       "      <td>8</td>\n",
       "      <td>10</td>\n",
       "      <td>8.61</td>\n",
       "      <td>3.000</td>\n",
       "      <td>Good</td>\n",
       "      <td>565.22</td>\n",
       "      <td>34.182</td>\n",
       "      <td>231</td>\n",
       "      <td>No</td>\n",
       "      <td>0.000</td>\n",
       "      <td>10000.000</td>\n",
       "      <td>High_spent_Medium_value_payments</td>\n",
       "      <td>386.841</td>\n",
       "      <td>Standard</td>\n",
       "    </tr>\n",
       "    <tr>\n",
       "      <th>717</th>\n",
       "      <td>0x1a33</td>\n",
       "      <td>CUS_0x3861</td>\n",
       "      <td>June</td>\n",
       "      <td>Fiona Ortizx</td>\n",
       "      <td>53.000</td>\n",
       "      <td>212-32-2085</td>\n",
       "      <td>Engineer</td>\n",
       "      <td>17992.775</td>\n",
       "      <td>1769.398</td>\n",
       "      <td>3</td>\n",
       "      <td>5</td>\n",
       "      <td>6</td>\n",
       "      <td>0</td>\n",
       "      <td>NaN</td>\n",
       "      <td>5</td>\n",
       "      <td>10</td>\n",
       "      <td>8.61</td>\n",
       "      <td>3.000</td>\n",
       "      <td>Good</td>\n",
       "      <td>565.22</td>\n",
       "      <td>31.054</td>\n",
       "      <td>232</td>\n",
       "      <td>No</td>\n",
       "      <td>0.000</td>\n",
       "      <td>23.003</td>\n",
       "      <td>!@9#%8</td>\n",
       "      <td>393.937</td>\n",
       "      <td>Poor</td>\n",
       "    </tr>\n",
       "    <tr>\n",
       "      <th>718</th>\n",
       "      <td>0x1a34</td>\n",
       "      <td>CUS_0x3861</td>\n",
       "      <td>July</td>\n",
       "      <td>Fiona Ortizx</td>\n",
       "      <td>53.000</td>\n",
       "      <td>212-32-2085</td>\n",
       "      <td>Engineer</td>\n",
       "      <td>17992.775</td>\n",
       "      <td>1769.398</td>\n",
       "      <td>3</td>\n",
       "      <td>5</td>\n",
       "      <td>6</td>\n",
       "      <td>0</td>\n",
       "      <td>NaN</td>\n",
       "      <td>6</td>\n",
       "      <td>10</td>\n",
       "      <td>8.61</td>\n",
       "      <td>3.000</td>\n",
       "      <td>Good</td>\n",
       "      <td>565.22</td>\n",
       "      <td>33.160</td>\n",
       "      <td>233</td>\n",
       "      <td>No</td>\n",
       "      <td>0.000</td>\n",
       "      <td>14.787</td>\n",
       "      <td>High_spent_Large_value_payments</td>\n",
       "      <td>402.153</td>\n",
       "      <td>Poor</td>\n",
       "    </tr>\n",
       "    <tr>\n",
       "      <th>719</th>\n",
       "      <td>0x1a35</td>\n",
       "      <td>CUS_0x3861</td>\n",
       "      <td>August</td>\n",
       "      <td>Fiona Ortizx</td>\n",
       "      <td>53.000</td>\n",
       "      <td>212-32-2085</td>\n",
       "      <td>Engineer</td>\n",
       "      <td>17992.775</td>\n",
       "      <td>1769.398</td>\n",
       "      <td>3</td>\n",
       "      <td>5</td>\n",
       "      <td>570</td>\n",
       "      <td>0</td>\n",
       "      <td>NaN</td>\n",
       "      <td>8</td>\n",
       "      <td>10</td>\n",
       "      <td>8.61</td>\n",
       "      <td>3.000</td>\n",
       "      <td>Good</td>\n",
       "      <td>565.22</td>\n",
       "      <td>33.464</td>\n",
       "      <td>234</td>\n",
       "      <td>No</td>\n",
       "      <td>0.000</td>\n",
       "      <td>79.040</td>\n",
       "      <td>Low_spent_Small_value_payments</td>\n",
       "      <td>387.900</td>\n",
       "      <td>Poor</td>\n",
       "    </tr>\n",
       "  </tbody>\n",
       "</table>\n",
       "</div>"
      ],
      "text/plain": [
       "         id customer_id     month          name    age          ssn  \\\n",
       "712  0x1a2e  CUS_0x3861   January  Fiona Ortizx 53.000  212-32-2085   \n",
       "713  0x1a2f  CUS_0x3861  February  Fiona Ortizx 53.000  212-32-2085   \n",
       "714  0x1a30  CUS_0x3861     March  Fiona Ortizx    NaN  212-32-2085   \n",
       "715  0x1a31  CUS_0x3861     April  Fiona Ortizx 53.000    #F%$D@*&8   \n",
       "716  0x1a32  CUS_0x3861       May  Fiona Ortizx 53.000  212-32-2085   \n",
       "717  0x1a33  CUS_0x3861      June  Fiona Ortizx 53.000  212-32-2085   \n",
       "718  0x1a34  CUS_0x3861      July  Fiona Ortizx 53.000  212-32-2085   \n",
       "719  0x1a35  CUS_0x3861    August  Fiona Ortizx 53.000  212-32-2085   \n",
       "\n",
       "    occupation annual_income  monthly_inhand_salary  num_bank_accounts  \\\n",
       "712   Engineer     17992.775               1769.398                  3   \n",
       "713   Engineer    17992.775_               1769.398                  3   \n",
       "714   Engineer     17992.775               1769.398                  3   \n",
       "715   Engineer     17992.775               1769.398                  3   \n",
       "716   Engineer     17992.775               1769.398                  3   \n",
       "717   Engineer     17992.775               1769.398                  3   \n",
       "718   Engineer     17992.775               1769.398                  3   \n",
       "719   Engineer     17992.775               1769.398                  3   \n",
       "\n",
       "     num_credit_card  interest_rate num_of_loan type_of_loan  \\\n",
       "712                5              6        -100          NaN   \n",
       "713                5              6           0          NaN   \n",
       "714                5              6           0          NaN   \n",
       "715                5              6           0          NaN   \n",
       "716                5              6           0          NaN   \n",
       "717                5              6           0          NaN   \n",
       "718                5              6           0          NaN   \n",
       "719                5            570           0          NaN   \n",
       "\n",
       "     delay_from_due_date num_of_delayed_payment changed_credit_limit  \\\n",
       "712                    5                      9                 8.61   \n",
       "713                   11                     15                 8.61   \n",
       "714                    4                     12   4.6099999999999985   \n",
       "715                    8                     12   4.6099999999999985   \n",
       "716                    8                     10                 8.61   \n",
       "717                    5                     10                 8.61   \n",
       "718                    6                     10                 8.61   \n",
       "719                    8                     10                 8.61   \n",
       "\n",
       "     num_credit_inquiries credit_mix outstanding_debt  \\\n",
       "712                 2.000       Good           565.22   \n",
       "713                 2.000       Good           565.22   \n",
       "714                 2.000       Good           565.22   \n",
       "715                 2.000       Good           565.22   \n",
       "716                 3.000       Good           565.22   \n",
       "717                 3.000       Good           565.22   \n",
       "718                 3.000       Good           565.22   \n",
       "719                 3.000       Good           565.22   \n",
       "\n",
       "     credit_utilization_ratio  credit_history_age payment_of_min_amount  \\\n",
       "712                    22.380                 227                    No   \n",
       "713                    37.219                 228                    NM   \n",
       "714                    23.137                 229                    No   \n",
       "715                    25.152                 230                    No   \n",
       "716                    34.182                 231                    No   \n",
       "717                    31.054                 232                    No   \n",
       "718                    33.160                 233                    No   \n",
       "719                    33.464                 234                    No   \n",
       "\n",
       "     total_emi_per_month  amount_invested_monthly  \\\n",
       "712                0.000                   88.443   \n",
       "713                0.000                  137.398   \n",
       "714                0.000                   95.656   \n",
       "715                0.000                  162.643   \n",
       "716                0.000                10000.000   \n",
       "717                0.000                   23.003   \n",
       "718                0.000                   14.787   \n",
       "719                0.000                   79.040   \n",
       "\n",
       "                    payment_behaviour  monthly_balance credit_score  \n",
       "712                            !@9#%8          348.497         Poor  \n",
       "713    Low_spent_Small_value_payments          329.541         Poor  \n",
       "714   High_spent_Small_value_payments          341.283         Poor  \n",
       "715    Low_spent_Small_value_payments          304.297         Poor  \n",
       "716  High_spent_Medium_value_payments          386.841     Standard  \n",
       "717                            !@9#%8          393.937         Poor  \n",
       "718   High_spent_Large_value_payments          402.153         Poor  \n",
       "719    Low_spent_Small_value_payments          387.900         Poor  "
      ]
     },
     "execution_count": 79,
     "metadata": {},
     "output_type": "execute_result"
    }
   ],
   "source": [
    "df[df[\"customer_id\"]==\"CUS_0x3861\"]"
   ]
  },
  {
   "cell_type": "code",
   "execution_count": 80,
   "id": "2af1f340",
   "metadata": {
    "ExecuteTime": {
     "end_time": "2024-04-28T01:12:09.325504Z",
     "start_time": "2024-04-28T01:12:09.296647Z"
    },
    "execution": {
     "iopub.execute_input": "2024-05-03T19:22:59.582905Z",
     "iopub.status.busy": "2024-05-03T19:22:59.582185Z",
     "iopub.status.idle": "2024-05-03T19:22:59.587125Z",
     "shell.execute_reply": "2024-05-03T19:22:59.586508Z"
    },
    "papermill": {
     "duration": 0.041774,
     "end_time": "2024-05-03T19:22:59.588817",
     "exception": false,
     "start_time": "2024-05-03T19:22:59.547043",
     "status": "completed"
    },
    "tags": []
   },
   "outputs": [],
   "source": [
    "nan_customer_ids = df.loc[df['age'].isna(), 'customer_id'].unique()"
   ]
  },
  {
   "cell_type": "code",
   "execution_count": 81,
   "id": "10ba5f65",
   "metadata": {
    "ExecuteTime": {
     "end_time": "2024-04-28T01:12:12.212199Z",
     "start_time": "2024-04-28T01:12:12.200427Z"
    },
    "execution": {
     "iopub.execute_input": "2024-05-03T19:22:59.661747Z",
     "iopub.status.busy": "2024-05-03T19:22:59.661123Z",
     "iopub.status.idle": "2024-05-03T19:22:59.665989Z",
     "shell.execute_reply": "2024-05-03T19:22:59.665366Z"
    },
    "papermill": {
     "duration": 0.044552,
     "end_time": "2024-05-03T19:22:59.667697",
     "exception": false,
     "start_time": "2024-05-03T19:22:59.623145",
     "status": "completed"
    },
    "tags": []
   },
   "outputs": [
    {
     "data": {
      "text/plain": [
       "2526"
      ]
     },
     "execution_count": 81,
     "metadata": {},
     "output_type": "execute_result"
    }
   ],
   "source": [
    "len(nan_customer_ids)"
   ]
  },
  {
   "cell_type": "code",
   "execution_count": 82,
   "id": "83907f25",
   "metadata": {
    "ExecuteTime": {
     "end_time": "2024-04-28T01:13:36.232036Z",
     "start_time": "2024-04-28T01:12:17.109133Z"
    },
    "execution": {
     "iopub.execute_input": "2024-05-03T19:22:59.740699Z",
     "iopub.status.busy": "2024-05-03T19:22:59.740070Z",
     "iopub.status.idle": "2024-05-03T19:23:38.379293Z",
     "shell.execute_reply": "2024-05-03T19:23:38.378617Z"
    },
    "papermill": {
     "duration": 38.677983,
     "end_time": "2024-05-03T19:23:38.381763",
     "exception": false,
     "start_time": "2024-05-03T19:22:59.703780",
     "status": "completed"
    },
    "tags": []
   },
   "outputs": [],
   "source": [
    "for customer_id in nan_customer_ids:\n",
    "    \n",
    "        right_age = df.loc[(df['customer_id'] == customer_id) & (~df['age'].isna()), 'age'].iloc[0]\n",
    "        df.loc[(df['customer_id'] == customer_id) & (df['age'].isna()), 'age'] = right_age"
   ]
  },
  {
   "cell_type": "code",
   "execution_count": 83,
   "id": "6453e963",
   "metadata": {
    "ExecuteTime": {
     "end_time": "2024-04-28T01:13:49.335660Z",
     "start_time": "2024-04-28T01:13:49.322023Z"
    },
    "execution": {
     "iopub.execute_input": "2024-05-03T19:23:38.451606Z",
     "iopub.status.busy": "2024-05-03T19:23:38.451295Z",
     "iopub.status.idle": "2024-05-03T19:23:38.456485Z",
     "shell.execute_reply": "2024-05-03T19:23:38.455838Z"
    },
    "papermill": {
     "duration": 0.041645,
     "end_time": "2024-05-03T19:23:38.458222",
     "exception": false,
     "start_time": "2024-05-03T19:23:38.416577",
     "status": "completed"
    },
    "tags": []
   },
   "outputs": [
    {
     "data": {
      "text/plain": [
       "0"
      ]
     },
     "execution_count": 83,
     "metadata": {},
     "output_type": "execute_result"
    }
   ],
   "source": [
    "df.age.isna().sum()"
   ]
  },
  {
   "cell_type": "code",
   "execution_count": 84,
   "id": "fb7343fe",
   "metadata": {
    "ExecuteTime": {
     "end_time": "2024-04-28T01:13:52.834924Z",
     "start_time": "2024-04-28T01:13:52.808550Z"
    },
    "execution": {
     "iopub.execute_input": "2024-05-03T19:23:38.526914Z",
     "iopub.status.busy": "2024-05-03T19:23:38.526624Z",
     "iopub.status.idle": "2024-05-03T19:23:38.535611Z",
     "shell.execute_reply": "2024-05-03T19:23:38.534984Z"
    },
    "papermill": {
     "duration": 0.045793,
     "end_time": "2024-05-03T19:23:38.537246",
     "exception": false,
     "start_time": "2024-05-03T19:23:38.491453",
     "status": "completed"
    },
    "tags": []
   },
   "outputs": [
    {
     "data": {
      "text/plain": [
       "count   100000.000\n",
       "mean        33.306\n",
       "std         10.772\n",
       "min         14.000\n",
       "25%         24.000\n",
       "50%         33.000\n",
       "75%         42.000\n",
       "max         99.000\n",
       "Name: age, dtype: float64"
      ]
     },
     "execution_count": 84,
     "metadata": {},
     "output_type": "execute_result"
    }
   ],
   "source": [
    "df.age.describe()"
   ]
  },
  {
   "cell_type": "code",
   "execution_count": 85,
   "id": "3ca87ede",
   "metadata": {
    "ExecuteTime": {
     "end_time": "2024-04-29T21:37:34.549589Z",
     "start_time": "2024-04-29T21:37:34.528141Z"
    },
    "execution": {
     "iopub.execute_input": "2024-05-03T19:23:38.605956Z",
     "iopub.status.busy": "2024-05-03T19:23:38.605678Z",
     "iopub.status.idle": "2024-05-03T19:23:38.611268Z",
     "shell.execute_reply": "2024-05-03T19:23:38.610740Z"
    },
    "papermill": {
     "duration": 0.041595,
     "end_time": "2024-05-03T19:23:38.612855",
     "exception": false,
     "start_time": "2024-05-03T19:23:38.571260",
     "status": "completed"
    },
    "tags": []
   },
   "outputs": [
    {
     "data": {
      "text/plain": [
       "Index([28718, 38248, 65420, 78564], dtype='int64')"
      ]
     },
     "execution_count": 85,
     "metadata": {},
     "output_type": "execute_result"
    }
   ],
   "source": [
    "age_max_idx = df.loc[df[\"age\"]>56].index\n",
    "age_max_idx"
   ]
  },
  {
   "cell_type": "code",
   "execution_count": 86,
   "id": "bdfe2823",
   "metadata": {
    "ExecuteTime": {
     "end_time": "2024-04-29T21:37:36.749182Z",
     "start_time": "2024-04-29T21:37:36.680490Z"
    },
    "execution": {
     "iopub.execute_input": "2024-05-03T19:23:38.683693Z",
     "iopub.status.busy": "2024-05-03T19:23:38.683431Z",
     "iopub.status.idle": "2024-05-03T19:23:38.713554Z",
     "shell.execute_reply": "2024-05-03T19:23:38.712912Z"
    },
    "papermill": {
     "duration": 0.068313,
     "end_time": "2024-05-03T19:23:38.715373",
     "exception": false,
     "start_time": "2024-05-03T19:23:38.647060",
     "status": "completed"
    },
    "tags": []
   },
   "outputs": [],
   "source": [
    "df.drop(age_max_idx,inplace=True)"
   ]
  },
  {
   "cell_type": "code",
   "execution_count": 87,
   "id": "9a722402",
   "metadata": {
    "ExecuteTime": {
     "end_time": "2024-04-29T18:44:04.126966Z",
     "start_time": "2024-04-29T18:44:04.087226Z"
    },
    "execution": {
     "iopub.execute_input": "2024-05-03T19:23:38.784620Z",
     "iopub.status.busy": "2024-05-03T19:23:38.784333Z",
     "iopub.status.idle": "2024-05-03T19:23:38.793936Z",
     "shell.execute_reply": "2024-05-03T19:23:38.793370Z"
    },
    "papermill": {
     "duration": 0.046262,
     "end_time": "2024-05-03T19:23:38.795620",
     "exception": false,
     "start_time": "2024-05-03T19:23:38.749358",
     "status": "completed"
    },
    "tags": []
   },
   "outputs": [
    {
     "data": {
      "text/plain": [
       "count   99996.000\n",
       "mean       33.303\n",
       "std        10.765\n",
       "min        14.000\n",
       "25%        24.000\n",
       "50%        33.000\n",
       "75%        42.000\n",
       "max        56.000\n",
       "Name: age, dtype: float64"
      ]
     },
     "execution_count": 87,
     "metadata": {},
     "output_type": "execute_result"
    }
   ],
   "source": [
    "df.age.describe()"
   ]
  },
  {
   "cell_type": "markdown",
   "id": "71290b72",
   "metadata": {
    "papermill": {
     "duration": 0.033715,
     "end_time": "2024-05-03T19:23:38.863063",
     "exception": false,
     "start_time": "2024-05-03T19:23:38.829348",
     "status": "completed"
    },
    "tags": []
   },
   "source": [
    "### Payment Behaviour feature"
   ]
  },
  {
   "cell_type": "code",
   "execution_count": 88,
   "id": "32923c2b",
   "metadata": {
    "ExecuteTime": {
     "end_time": "2024-04-29T21:37:46.673264Z",
     "start_time": "2024-04-29T21:37:46.643612Z"
    },
    "execution": {
     "iopub.execute_input": "2024-05-03T19:23:38.933525Z",
     "iopub.status.busy": "2024-05-03T19:23:38.933262Z",
     "iopub.status.idle": "2024-05-03T19:23:38.945702Z",
     "shell.execute_reply": "2024-05-03T19:23:38.945002Z"
    },
    "papermill": {
     "duration": 0.050379,
     "end_time": "2024-05-03T19:23:38.947357",
     "exception": false,
     "start_time": "2024-05-03T19:23:38.896978",
     "status": "completed"
    },
    "tags": []
   },
   "outputs": [
    {
     "data": {
      "text/plain": [
       "payment_behaviour\n",
       "Low_spent_Small_value_payments      25512\n",
       "High_spent_Medium_value_payments    17540\n",
       "Low_spent_Medium_value_payments     13861\n",
       "High_spent_Large_value_payments     13721\n",
       "High_spent_Small_value_payments     11339\n",
       "Low_spent_Large_value_payments      10424\n",
       "!@9#%8                               7599\n",
       "Name: count, dtype: int64"
      ]
     },
     "execution_count": 88,
     "metadata": {},
     "output_type": "execute_result"
    }
   ],
   "source": [
    "df[\"payment_behaviour\"].value_counts()"
   ]
  },
  {
   "cell_type": "code",
   "execution_count": 89,
   "id": "ccf6b4a6",
   "metadata": {
    "ExecuteTime": {
     "end_time": "2024-04-29T21:37:50.706429Z",
     "start_time": "2024-04-29T21:37:50.699035Z"
    },
    "execution": {
     "iopub.execute_input": "2024-05-03T19:23:39.019720Z",
     "iopub.status.busy": "2024-05-03T19:23:39.019401Z",
     "iopub.status.idle": "2024-05-03T19:23:39.022982Z",
     "shell.execute_reply": "2024-05-03T19:23:39.022382Z"
    },
    "papermill": {
     "duration": 0.042395,
     "end_time": "2024-05-03T19:23:39.024726",
     "exception": false,
     "start_time": "2024-05-03T19:23:38.982331",
     "status": "completed"
    },
    "tags": []
   },
   "outputs": [],
   "source": [
    "pattern = re.compile(r\"\\W\") "
   ]
  },
  {
   "cell_type": "code",
   "execution_count": 90,
   "id": "1880682e",
   "metadata": {
    "ExecuteTime": {
     "end_time": "2024-04-29T18:44:28.445775Z",
     "start_time": "2024-04-29T18:44:28.429749Z"
    },
    "execution": {
     "iopub.execute_input": "2024-05-03T19:23:39.095246Z",
     "iopub.status.busy": "2024-05-03T19:23:39.094937Z",
     "iopub.status.idle": "2024-05-03T19:23:39.100453Z",
     "shell.execute_reply": "2024-05-03T19:23:39.099843Z"
    },
    "papermill": {
     "duration": 0.042875,
     "end_time": "2024-05-03T19:23:39.102061",
     "exception": false,
     "start_time": "2024-05-03T19:23:39.059186",
     "status": "completed"
    },
    "tags": []
   },
   "outputs": [],
   "source": [
    "# for checking all dataframe if there is any match with our regex pattern\n",
    "\n",
    "\n",
    "from colorama import init, Fore, Back, Style\n",
    "\n",
    "def matched_re(df):\n",
    "    total_matches = 0\n",
    "    for column in df.columns:\n",
    "        column_matches = 0\n",
    "        matched_values = set()  \n",
    "        for value in df[column]:\n",
    "            if re.search(r\"^[^a-zA-Z0-9 .,]+$\", str(value)):\n",
    "                column_matches += 1\n",
    "                matched_values.add(value)\n",
    "                total_matches += 1\n",
    "        if column_matches > 0:\n",
    "            print(f\"{Back.YELLOW + Fore.BLACK} Matched values in column {column}: {column_matches} times '{', '.join(matched_values)}' {Style.RESET_ALL}\")\n",
    "            \n",
    "        else:\n",
    "            print(f\"Total matches in column {column}: {column_matches}\")\n",
    "    print(f\"{Back.YELLOW + Fore.BLACK}Total matches in dataframe: {total_matches} {Style.RESET_ALL}\")"
   ]
  },
  {
   "cell_type": "code",
   "execution_count": 91,
   "id": "b6264fd3",
   "metadata": {
    "ExecuteTime": {
     "end_time": "2024-04-29T21:38:00.099287Z",
     "start_time": "2024-04-29T21:38:00.073883Z"
    },
    "execution": {
     "iopub.execute_input": "2024-05-03T19:23:39.177765Z",
     "iopub.status.busy": "2024-05-03T19:23:39.177466Z",
     "iopub.status.idle": "2024-05-03T19:23:39.188970Z",
     "shell.execute_reply": "2024-05-03T19:23:39.188302Z"
    },
    "papermill": {
     "duration": 0.053057,
     "end_time": "2024-05-03T19:23:39.190777",
     "exception": false,
     "start_time": "2024-05-03T19:23:39.137720",
     "status": "completed"
    },
    "tags": []
   },
   "outputs": [
    {
     "name": "stdout",
     "output_type": "stream",
     "text": [
      "Unmatched value: Low_spent_Small_value_payments\n",
      "Unmatched value: High_spent_Medium_value_payments\n",
      "Unmatched value: Low_spent_Medium_value_payments\n",
      "Unmatched value: High_spent_Large_value_payments\n",
      "Unmatched value: High_spent_Small_value_payments\n",
      "Unmatched value: Low_spent_Large_value_payments\n",
      "Matched value: !@9#%8\n"
     ]
    }
   ],
   "source": [
    "for text in df[\"payment_behaviour\"].value_counts().index:\n",
    "    if re.search(pattern, text):\n",
    "        print(\"Matched value:\", text)\n",
    "    else:\n",
    "        print(\"Unmatched value:\", text)"
   ]
  },
  {
   "cell_type": "code",
   "execution_count": 92,
   "id": "6accdf64",
   "metadata": {
    "ExecuteTime": {
     "end_time": "2024-04-29T18:37:40.904138Z",
     "start_time": "2024-04-29T18:37:40.844141Z"
    },
    "execution": {
     "iopub.execute_input": "2024-05-03T19:23:39.266078Z",
     "iopub.status.busy": "2024-05-03T19:23:39.265780Z",
     "iopub.status.idle": "2024-05-03T19:23:39.285474Z",
     "shell.execute_reply": "2024-05-03T19:23:39.284781Z"
    },
    "papermill": {
     "duration": 0.057064,
     "end_time": "2024-05-03T19:23:39.287143",
     "exception": false,
     "start_time": "2024-05-03T19:23:39.230079",
     "status": "completed"
    },
    "tags": []
   },
   "outputs": [
    {
     "data": {
      "text/plain": [
       "5900"
      ]
     },
     "execution_count": 92,
     "metadata": {},
     "output_type": "execute_result"
    }
   ],
   "source": [
    "df.loc[df[\"payment_behaviour\"]==\"!@9#%8\"][\"customer_id\"].nunique()"
   ]
  },
  {
   "cell_type": "code",
   "execution_count": 93,
   "id": "3c558c73",
   "metadata": {
    "ExecuteTime": {
     "end_time": "2024-04-29T18:45:48.362048Z",
     "start_time": "2024-04-29T18:45:48.298513Z"
    },
    "execution": {
     "iopub.execute_input": "2024-05-03T19:23:39.358028Z",
     "iopub.status.busy": "2024-05-03T19:23:39.357419Z",
     "iopub.status.idle": "2024-05-03T19:23:39.376305Z",
     "shell.execute_reply": "2024-05-03T19:23:39.375602Z"
    },
    "papermill": {
     "duration": 0.05599,
     "end_time": "2024-05-03T19:23:39.377883",
     "exception": false,
     "start_time": "2024-05-03T19:23:39.321893",
     "status": "completed"
    },
    "tags": []
   },
   "outputs": [
    {
     "data": {
      "text/plain": [
       "85499    CUS_0x1628\n",
       "97343    CUS_0xa015\n",
       "20739    CUS_0x3e91\n",
       "Name: customer_id, dtype: object"
      ]
     },
     "execution_count": 93,
     "metadata": {},
     "output_type": "execute_result"
    }
   ],
   "source": [
    "df.loc[df[\"payment_behaviour\"]==\"!@9#%8\"][\"customer_id\"].sample(3)"
   ]
  },
  {
   "cell_type": "code",
   "execution_count": 94,
   "id": "a3673860",
   "metadata": {
    "ExecuteTime": {
     "end_time": "2024-04-29T18:46:56.777866Z",
     "start_time": "2024-04-29T18:46:56.682126Z"
    },
    "execution": {
     "iopub.execute_input": "2024-05-03T19:23:39.447379Z",
     "iopub.status.busy": "2024-05-03T19:23:39.447108Z",
     "iopub.status.idle": "2024-05-03T19:23:39.472268Z",
     "shell.execute_reply": "2024-05-03T19:23:39.471581Z"
    },
    "papermill": {
     "duration": 0.062201,
     "end_time": "2024-05-03T19:23:39.473896",
     "exception": false,
     "start_time": "2024-05-03T19:23:39.411695",
     "status": "completed"
    },
    "tags": []
   },
   "outputs": [
    {
     "data": {
      "text/html": [
       "<div>\n",
       "<style scoped>\n",
       "    .dataframe tbody tr th:only-of-type {\n",
       "        vertical-align: middle;\n",
       "    }\n",
       "\n",
       "    .dataframe tbody tr th {\n",
       "        vertical-align: top;\n",
       "    }\n",
       "\n",
       "    .dataframe thead th {\n",
       "        text-align: right;\n",
       "    }\n",
       "</style>\n",
       "<table border=\"1\" class=\"dataframe\">\n",
       "  <thead>\n",
       "    <tr style=\"text-align: right;\">\n",
       "      <th></th>\n",
       "      <th>id</th>\n",
       "      <th>customer_id</th>\n",
       "      <th>month</th>\n",
       "      <th>name</th>\n",
       "      <th>age</th>\n",
       "      <th>ssn</th>\n",
       "      <th>occupation</th>\n",
       "      <th>annual_income</th>\n",
       "      <th>monthly_inhand_salary</th>\n",
       "      <th>num_bank_accounts</th>\n",
       "      <th>num_credit_card</th>\n",
       "      <th>interest_rate</th>\n",
       "      <th>num_of_loan</th>\n",
       "      <th>type_of_loan</th>\n",
       "      <th>delay_from_due_date</th>\n",
       "      <th>num_of_delayed_payment</th>\n",
       "      <th>changed_credit_limit</th>\n",
       "      <th>num_credit_inquiries</th>\n",
       "      <th>credit_mix</th>\n",
       "      <th>outstanding_debt</th>\n",
       "      <th>credit_utilization_ratio</th>\n",
       "      <th>credit_history_age</th>\n",
       "      <th>payment_of_min_amount</th>\n",
       "      <th>total_emi_per_month</th>\n",
       "      <th>amount_invested_monthly</th>\n",
       "      <th>payment_behaviour</th>\n",
       "      <th>monthly_balance</th>\n",
       "      <th>credit_score</th>\n",
       "    </tr>\n",
       "  </thead>\n",
       "  <tbody>\n",
       "    <tr>\n",
       "      <th>21320</th>\n",
       "      <td>0x92ee</td>\n",
       "      <td>CUS_0xc9f</td>\n",
       "      <td>January</td>\n",
       "      <td>Jennifert</td>\n",
       "      <td>14.000</td>\n",
       "      <td>594-51-0874</td>\n",
       "      <td>Scientist</td>\n",
       "      <td>21382.81</td>\n",
       "      <td>1684.901</td>\n",
       "      <td>7</td>\n",
       "      <td>5</td>\n",
       "      <td>14</td>\n",
       "      <td>2</td>\n",
       "      <td>Debt Consolidation Loan, and Auto Loan</td>\n",
       "      <td>18</td>\n",
       "      <td>9</td>\n",
       "      <td>14.18</td>\n",
       "      <td>4.000</td>\n",
       "      <td>Standard</td>\n",
       "      <td>1059.86</td>\n",
       "      <td>28.268</td>\n",
       "      <td>82</td>\n",
       "      <td>NM</td>\n",
       "      <td>67839.000</td>\n",
       "      <td>143.294</td>\n",
       "      <td>Low_spent_Small_value_payments</td>\n",
       "      <td>284.486</td>\n",
       "      <td>Standard</td>\n",
       "    </tr>\n",
       "    <tr>\n",
       "      <th>21321</th>\n",
       "      <td>0x92ef</td>\n",
       "      <td>CUS_0xc9f</td>\n",
       "      <td>February</td>\n",
       "      <td>Jennifert</td>\n",
       "      <td>15.000</td>\n",
       "      <td>594-51-0874</td>\n",
       "      <td>Scientist</td>\n",
       "      <td>21382.81</td>\n",
       "      <td>1684.901</td>\n",
       "      <td>7</td>\n",
       "      <td>5</td>\n",
       "      <td>14</td>\n",
       "      <td>2</td>\n",
       "      <td>Debt Consolidation Loan, and Auto Loan</td>\n",
       "      <td>23</td>\n",
       "      <td>11</td>\n",
       "      <td>14.18</td>\n",
       "      <td>4.000</td>\n",
       "      <td>Standard</td>\n",
       "      <td>1059.86</td>\n",
       "      <td>39.330</td>\n",
       "      <td>83</td>\n",
       "      <td>Yes</td>\n",
       "      <td>30.710</td>\n",
       "      <td>214.454</td>\n",
       "      <td>!@9#%8</td>\n",
       "      <td>213.326</td>\n",
       "      <td>Standard</td>\n",
       "    </tr>\n",
       "    <tr>\n",
       "      <th>21322</th>\n",
       "      <td>0x92f0</td>\n",
       "      <td>CUS_0xc9f</td>\n",
       "      <td>March</td>\n",
       "      <td>Jennifert</td>\n",
       "      <td>15.000</td>\n",
       "      <td>594-51-0874</td>\n",
       "      <td>Scientist</td>\n",
       "      <td>21382.81</td>\n",
       "      <td>1684.901</td>\n",
       "      <td>7</td>\n",
       "      <td>5</td>\n",
       "      <td>14</td>\n",
       "      <td>2</td>\n",
       "      <td>Debt Consolidation Loan, and Auto Loan</td>\n",
       "      <td>23</td>\n",
       "      <td>9</td>\n",
       "      <td>14.18</td>\n",
       "      <td>4.000</td>\n",
       "      <td>Standard</td>\n",
       "      <td>1059.86</td>\n",
       "      <td>32.736</td>\n",
       "      <td>84</td>\n",
       "      <td>Yes</td>\n",
       "      <td>30.710</td>\n",
       "      <td>40.948</td>\n",
       "      <td>High_spent_Large_value_payments</td>\n",
       "      <td>336.832</td>\n",
       "      <td>Standard</td>\n",
       "    </tr>\n",
       "    <tr>\n",
       "      <th>21323</th>\n",
       "      <td>0x92f1</td>\n",
       "      <td>CUS_0xc9f</td>\n",
       "      <td>April</td>\n",
       "      <td>Jennifert</td>\n",
       "      <td>15.000</td>\n",
       "      <td>594-51-0874</td>\n",
       "      <td>Scientist</td>\n",
       "      <td>21382.81</td>\n",
       "      <td>1684.901</td>\n",
       "      <td>7</td>\n",
       "      <td>5</td>\n",
       "      <td>14</td>\n",
       "      <td>2</td>\n",
       "      <td>Debt Consolidation Loan, and Auto Loan</td>\n",
       "      <td>18</td>\n",
       "      <td>11</td>\n",
       "      <td>14.18</td>\n",
       "      <td>4.000</td>\n",
       "      <td>Standard</td>\n",
       "      <td>1059.86</td>\n",
       "      <td>32.621</td>\n",
       "      <td>85</td>\n",
       "      <td>Yes</td>\n",
       "      <td>30.710</td>\n",
       "      <td>133.761</td>\n",
       "      <td>Low_spent_Small_value_payments</td>\n",
       "      <td>294.019</td>\n",
       "      <td>Standard</td>\n",
       "    </tr>\n",
       "    <tr>\n",
       "      <th>21324</th>\n",
       "      <td>0x92f2</td>\n",
       "      <td>CUS_0xc9f</td>\n",
       "      <td>May</td>\n",
       "      <td>Jennifert</td>\n",
       "      <td>15.000</td>\n",
       "      <td>594-51-0874</td>\n",
       "      <td>Scientist</td>\n",
       "      <td>21382.81</td>\n",
       "      <td>1684.901</td>\n",
       "      <td>7</td>\n",
       "      <td>5</td>\n",
       "      <td>14</td>\n",
       "      <td>2</td>\n",
       "      <td>Debt Consolidation Loan, and Auto Loan</td>\n",
       "      <td>22</td>\n",
       "      <td>11</td>\n",
       "      <td>14.18</td>\n",
       "      <td>4.000</td>\n",
       "      <td>Standard</td>\n",
       "      <td>1059.86</td>\n",
       "      <td>32.024</td>\n",
       "      <td>86</td>\n",
       "      <td>Yes</td>\n",
       "      <td>30.710</td>\n",
       "      <td>157.990</td>\n",
       "      <td>!@9#%8</td>\n",
       "      <td>249.790</td>\n",
       "      <td>Standard</td>\n",
       "    </tr>\n",
       "    <tr>\n",
       "      <th>21325</th>\n",
       "      <td>0x92f3</td>\n",
       "      <td>CUS_0xc9f</td>\n",
       "      <td>June</td>\n",
       "      <td>Jennifert</td>\n",
       "      <td>14.000</td>\n",
       "      <td>594-51-0874</td>\n",
       "      <td>Scientist</td>\n",
       "      <td>21382.81</td>\n",
       "      <td>1684.901</td>\n",
       "      <td>7</td>\n",
       "      <td>5</td>\n",
       "      <td>14</td>\n",
       "      <td>2</td>\n",
       "      <td>Debt Consolidation Loan, and Auto Loan</td>\n",
       "      <td>18</td>\n",
       "      <td>11</td>\n",
       "      <td>14.18</td>\n",
       "      <td>4.000</td>\n",
       "      <td>Standard</td>\n",
       "      <td>1059.86</td>\n",
       "      <td>24.024</td>\n",
       "      <td>87</td>\n",
       "      <td>Yes</td>\n",
       "      <td>65762.000</td>\n",
       "      <td>42.489</td>\n",
       "      <td>High_spent_Medium_value_payments</td>\n",
       "      <td>345.291</td>\n",
       "      <td>Standard</td>\n",
       "    </tr>\n",
       "    <tr>\n",
       "      <th>21326</th>\n",
       "      <td>0x92f4</td>\n",
       "      <td>CUS_0xc9f</td>\n",
       "      <td>July</td>\n",
       "      <td>Jennifert</td>\n",
       "      <td>14.000</td>\n",
       "      <td>594-51-0874</td>\n",
       "      <td>Scientist</td>\n",
       "      <td>21382.81</td>\n",
       "      <td>1684.901</td>\n",
       "      <td>7</td>\n",
       "      <td>5</td>\n",
       "      <td>14</td>\n",
       "      <td>2</td>\n",
       "      <td>Debt Consolidation Loan, and Auto Loan</td>\n",
       "      <td>19</td>\n",
       "      <td>11</td>\n",
       "      <td>7.18</td>\n",
       "      <td>8.000</td>\n",
       "      <td>Standard</td>\n",
       "      <td>1059.86</td>\n",
       "      <td>25.803</td>\n",
       "      <td>88</td>\n",
       "      <td>NM</td>\n",
       "      <td>30.710</td>\n",
       "      <td>10000.000</td>\n",
       "      <td>High_spent_Large_value_payments</td>\n",
       "      <td>365.335</td>\n",
       "      <td>Standard</td>\n",
       "    </tr>\n",
       "    <tr>\n",
       "      <th>21327</th>\n",
       "      <td>0x92f5</td>\n",
       "      <td>CUS_0xc9f</td>\n",
       "      <td>August</td>\n",
       "      <td>Jennifert</td>\n",
       "      <td>15.000</td>\n",
       "      <td>#F%$D@*&amp;8</td>\n",
       "      <td>Scientist</td>\n",
       "      <td>21382.81</td>\n",
       "      <td>1684.901</td>\n",
       "      <td>7</td>\n",
       "      <td>5</td>\n",
       "      <td>14</td>\n",
       "      <td>2</td>\n",
       "      <td>Debt Consolidation Loan, and Auto Loan</td>\n",
       "      <td>17</td>\n",
       "      <td>11</td>\n",
       "      <td>18.18</td>\n",
       "      <td>8.000</td>\n",
       "      <td>Standard</td>\n",
       "      <td>1059.86</td>\n",
       "      <td>33.045</td>\n",
       "      <td>89</td>\n",
       "      <td>Yes</td>\n",
       "      <td>30.710</td>\n",
       "      <td>100.701</td>\n",
       "      <td>Low_spent_Small_value_payments</td>\n",
       "      <td>327.079</td>\n",
       "      <td>Standard</td>\n",
       "    </tr>\n",
       "  </tbody>\n",
       "</table>\n",
       "</div>"
      ],
      "text/plain": [
       "           id customer_id     month       name    age          ssn occupation  \\\n",
       "21320  0x92ee   CUS_0xc9f   January  Jennifert 14.000  594-51-0874  Scientist   \n",
       "21321  0x92ef   CUS_0xc9f  February  Jennifert 15.000  594-51-0874  Scientist   \n",
       "21322  0x92f0   CUS_0xc9f     March  Jennifert 15.000  594-51-0874  Scientist   \n",
       "21323  0x92f1   CUS_0xc9f     April  Jennifert 15.000  594-51-0874  Scientist   \n",
       "21324  0x92f2   CUS_0xc9f       May  Jennifert 15.000  594-51-0874  Scientist   \n",
       "21325  0x92f3   CUS_0xc9f      June  Jennifert 14.000  594-51-0874  Scientist   \n",
       "21326  0x92f4   CUS_0xc9f      July  Jennifert 14.000  594-51-0874  Scientist   \n",
       "21327  0x92f5   CUS_0xc9f    August  Jennifert 15.000    #F%$D@*&8  Scientist   \n",
       "\n",
       "      annual_income  monthly_inhand_salary  num_bank_accounts  \\\n",
       "21320      21382.81               1684.901                  7   \n",
       "21321      21382.81               1684.901                  7   \n",
       "21322      21382.81               1684.901                  7   \n",
       "21323      21382.81               1684.901                  7   \n",
       "21324      21382.81               1684.901                  7   \n",
       "21325      21382.81               1684.901                  7   \n",
       "21326      21382.81               1684.901                  7   \n",
       "21327      21382.81               1684.901                  7   \n",
       "\n",
       "       num_credit_card  interest_rate num_of_loan  \\\n",
       "21320                5             14           2   \n",
       "21321                5             14           2   \n",
       "21322                5             14           2   \n",
       "21323                5             14           2   \n",
       "21324                5             14           2   \n",
       "21325                5             14           2   \n",
       "21326                5             14           2   \n",
       "21327                5             14           2   \n",
       "\n",
       "                                 type_of_loan  delay_from_due_date  \\\n",
       "21320  Debt Consolidation Loan, and Auto Loan                   18   \n",
       "21321  Debt Consolidation Loan, and Auto Loan                   23   \n",
       "21322  Debt Consolidation Loan, and Auto Loan                   23   \n",
       "21323  Debt Consolidation Loan, and Auto Loan                   18   \n",
       "21324  Debt Consolidation Loan, and Auto Loan                   22   \n",
       "21325  Debt Consolidation Loan, and Auto Loan                   18   \n",
       "21326  Debt Consolidation Loan, and Auto Loan                   19   \n",
       "21327  Debt Consolidation Loan, and Auto Loan                   17   \n",
       "\n",
       "      num_of_delayed_payment changed_credit_limit  num_credit_inquiries  \\\n",
       "21320                      9                14.18                 4.000   \n",
       "21321                     11                14.18                 4.000   \n",
       "21322                      9                14.18                 4.000   \n",
       "21323                     11                14.18                 4.000   \n",
       "21324                     11                14.18                 4.000   \n",
       "21325                     11                14.18                 4.000   \n",
       "21326                     11                 7.18                 8.000   \n",
       "21327                     11                18.18                 8.000   \n",
       "\n",
       "      credit_mix outstanding_debt  credit_utilization_ratio  \\\n",
       "21320   Standard          1059.86                    28.268   \n",
       "21321   Standard          1059.86                    39.330   \n",
       "21322   Standard          1059.86                    32.736   \n",
       "21323   Standard          1059.86                    32.621   \n",
       "21324   Standard          1059.86                    32.024   \n",
       "21325   Standard          1059.86                    24.024   \n",
       "21326   Standard          1059.86                    25.803   \n",
       "21327   Standard          1059.86                    33.045   \n",
       "\n",
       "       credit_history_age payment_of_min_amount  total_emi_per_month  \\\n",
       "21320                  82                    NM            67839.000   \n",
       "21321                  83                   Yes               30.710   \n",
       "21322                  84                   Yes               30.710   \n",
       "21323                  85                   Yes               30.710   \n",
       "21324                  86                   Yes               30.710   \n",
       "21325                  87                   Yes            65762.000   \n",
       "21326                  88                    NM               30.710   \n",
       "21327                  89                   Yes               30.710   \n",
       "\n",
       "       amount_invested_monthly                 payment_behaviour  \\\n",
       "21320                  143.294    Low_spent_Small_value_payments   \n",
       "21321                  214.454                            !@9#%8   \n",
       "21322                   40.948   High_spent_Large_value_payments   \n",
       "21323                  133.761    Low_spent_Small_value_payments   \n",
       "21324                  157.990                            !@9#%8   \n",
       "21325                   42.489  High_spent_Medium_value_payments   \n",
       "21326                10000.000   High_spent_Large_value_payments   \n",
       "21327                  100.701    Low_spent_Small_value_payments   \n",
       "\n",
       "       monthly_balance credit_score  \n",
       "21320          284.486     Standard  \n",
       "21321          213.326     Standard  \n",
       "21322          336.832     Standard  \n",
       "21323          294.019     Standard  \n",
       "21324          249.790     Standard  \n",
       "21325          345.291     Standard  \n",
       "21326          365.335     Standard  \n",
       "21327          327.079     Standard  "
      ]
     },
     "execution_count": 94,
     "metadata": {},
     "output_type": "execute_result"
    }
   ],
   "source": [
    "df.loc[df[\"customer_id\"]==\"CUS_0xc9f\"]"
   ]
  },
  {
   "cell_type": "code",
   "execution_count": 95,
   "id": "3922a7ae",
   "metadata": {
    "ExecuteTime": {
     "end_time": "2024-04-29T18:48:33.143973Z",
     "start_time": "2024-04-29T18:48:33.104987Z"
    },
    "execution": {
     "iopub.execute_input": "2024-05-03T19:23:39.546228Z",
     "iopub.status.busy": "2024-05-03T19:23:39.545918Z",
     "iopub.status.idle": "2024-05-03T19:23:39.559977Z",
     "shell.execute_reply": "2024-05-03T19:23:39.559261Z"
    },
    "papermill": {
     "duration": 0.052256,
     "end_time": "2024-05-03T19:23:39.561612",
     "exception": false,
     "start_time": "2024-05-03T19:23:39.509356",
     "status": "completed"
    },
    "tags": []
   },
   "outputs": [
    {
     "data": {
      "text/plain": [
       "array(['Low_spent_Small_value_payments', '!@9#%8',\n",
       "       'High_spent_Large_value_payments',\n",
       "       'High_spent_Medium_value_payments'], dtype=object)"
      ]
     },
     "execution_count": 95,
     "metadata": {},
     "output_type": "execute_result"
    }
   ],
   "source": [
    "df.loc[df[\"customer_id\"]==\"CUS_0xc9f\"][\"payment_behaviour\"].unique()"
   ]
  },
  {
   "cell_type": "code",
   "execution_count": 96,
   "id": "849258bc",
   "metadata": {
    "ExecuteTime": {
     "end_time": "2024-04-29T18:57:35.952220Z",
     "start_time": "2024-04-29T18:57:35.908259Z"
    },
    "execution": {
     "iopub.execute_input": "2024-05-03T19:23:39.641978Z",
     "iopub.status.busy": "2024-05-03T19:23:39.641428Z",
     "iopub.status.idle": "2024-05-03T19:23:39.654487Z",
     "shell.execute_reply": "2024-05-03T19:23:39.653933Z"
    },
    "papermill": {
     "duration": 0.056146,
     "end_time": "2024-05-03T19:23:39.656313",
     "exception": false,
     "start_time": "2024-05-03T19:23:39.600167",
     "status": "completed"
    },
    "tags": []
   },
   "outputs": [
    {
     "data": {
      "text/plain": [
       "payment_behaviour\n",
       "Low_spent_Small_value_payments      3\n",
       "!@9#%8                              2\n",
       "High_spent_Large_value_payments     2\n",
       "High_spent_Medium_value_payments    1\n",
       "Name: count, dtype: int64"
      ]
     },
     "execution_count": 96,
     "metadata": {},
     "output_type": "execute_result"
    }
   ],
   "source": [
    "df.loc[df[\"customer_id\"]==\"CUS_0xc9f\"][\"payment_behaviour\"].value_counts()"
   ]
  },
  {
   "cell_type": "code",
   "execution_count": 97,
   "id": "d434f6bb",
   "metadata": {
    "ExecuteTime": {
     "end_time": "2024-04-29T19:15:20.978016Z",
     "start_time": "2024-04-29T19:15:20.929052Z"
    },
    "execution": {
     "iopub.execute_input": "2024-05-03T19:23:39.729320Z",
     "iopub.status.busy": "2024-05-03T19:23:39.729085Z",
     "iopub.status.idle": "2024-05-03T19:23:39.742670Z",
     "shell.execute_reply": "2024-05-03T19:23:39.742019Z"
    },
    "papermill": {
     "duration": 0.051715,
     "end_time": "2024-05-03T19:23:39.744343",
     "exception": false,
     "start_time": "2024-05-03T19:23:39.692628",
     "status": "completed"
    },
    "tags": []
   },
   "outputs": [
    {
     "data": {
      "text/plain": [
       "payment_behaviour\n",
       "High_spent_Large_value_payments    2\n",
       "!@9#%8                             2\n",
       "Low_spent_Small_value_payments     2\n",
       "Low_spent_Medium_value_payments    1\n",
       "High_spent_Small_value_payments    1\n",
       "Name: count, dtype: int64"
      ]
     },
     "execution_count": 97,
     "metadata": {},
     "output_type": "execute_result"
    }
   ],
   "source": [
    "df.loc[df[\"customer_id\"]==\"CUS_0xb201\"][\"payment_behaviour\"].value_counts()"
   ]
  },
  {
   "cell_type": "code",
   "execution_count": 98,
   "id": "c70f4869",
   "metadata": {
    "ExecuteTime": {
     "end_time": "2024-04-29T21:38:22.583977Z",
     "start_time": "2024-04-29T21:38:22.546133Z"
    },
    "execution": {
     "iopub.execute_input": "2024-05-03T19:23:39.815749Z",
     "iopub.status.busy": "2024-05-03T19:23:39.815459Z",
     "iopub.status.idle": "2024-05-03T19:23:39.831857Z",
     "shell.execute_reply": "2024-05-03T19:23:39.831294Z"
    },
    "papermill": {
     "duration": 0.054137,
     "end_time": "2024-05-03T19:23:39.833579",
     "exception": false,
     "start_time": "2024-05-03T19:23:39.779442",
     "status": "completed"
    },
    "tags": []
   },
   "outputs": [],
   "source": [
    "undetermined_idx = df.loc[df[\"payment_behaviour\"]==\"!@9#%8\"][\"customer_id\"].unique()"
   ]
  },
  {
   "cell_type": "code",
   "execution_count": 99,
   "id": "43ace052",
   "metadata": {
    "ExecuteTime": {
     "end_time": "2024-04-29T21:44:46.594328Z",
     "start_time": "2024-04-29T21:38:25.058850Z"
    },
    "execution": {
     "iopub.execute_input": "2024-05-03T19:23:39.905130Z",
     "iopub.status.busy": "2024-05-03T19:23:39.904854Z",
     "iopub.status.idle": "2024-05-03T19:26:33.072328Z",
     "shell.execute_reply": "2024-05-03T19:26:33.071642Z"
    },
    "papermill": {
     "duration": 173.206245,
     "end_time": "2024-05-03T19:26:33.074771",
     "exception": false,
     "start_time": "2024-05-03T19:23:39.868526",
     "status": "completed"
    },
    "tags": []
   },
   "outputs": [],
   "source": [
    "for customer_id in undetermined_idx:\n",
    "    \n",
    "        customer_ids = df[(df['customer_id'] == customer_id) & (df['payment_behaviour'] != \"!@9#%8\")]\n",
    "        freq = customer_ids['payment_behaviour'].mode()[0]\n",
    "        df.loc[(df['customer_id'] == customer_id) & (df['payment_behaviour'] == \"!@9#%8\"), 'payment_behaviour'] = freq\n",
    "              \n",
    "    "
   ]
  },
  {
   "cell_type": "markdown",
   "id": "7453b812",
   "metadata": {
    "papermill": {
     "duration": 0.035303,
     "end_time": "2024-05-03T19:26:33.146504",
     "exception": false,
     "start_time": "2024-05-03T19:26:33.111201",
     "status": "completed"
    },
    "tags": []
   },
   "source": [
    "#### *I want to see the results of the changes I made*"
   ]
  },
  {
   "cell_type": "code",
   "execution_count": 100,
   "id": "1f2730dc",
   "metadata": {
    "ExecuteTime": {
     "end_time": "2024-04-29T21:45:00.959245Z",
     "start_time": "2024-04-29T21:45:00.932480Z"
    },
    "execution": {
     "iopub.execute_input": "2024-05-03T19:26:33.218169Z",
     "iopub.status.busy": "2024-05-03T19:26:33.217889Z",
     "iopub.status.idle": "2024-05-03T19:26:33.230899Z",
     "shell.execute_reply": "2024-05-03T19:26:33.230162Z"
    },
    "papermill": {
     "duration": 0.050892,
     "end_time": "2024-05-03T19:26:33.232448",
     "exception": false,
     "start_time": "2024-05-03T19:26:33.181556",
     "status": "completed"
    },
    "tags": []
   },
   "outputs": [
    {
     "data": {
      "text/plain": [
       "array(['Low_spent_Small_value_payments',\n",
       "       'High_spent_Large_value_payments',\n",
       "       'High_spent_Medium_value_payments'], dtype=object)"
      ]
     },
     "execution_count": 100,
     "metadata": {},
     "output_type": "execute_result"
    }
   ],
   "source": [
    "df.loc[df[\"customer_id\"]==\"CUS_0xc9f\"][\"payment_behaviour\"].unique()"
   ]
  },
  {
   "cell_type": "code",
   "execution_count": 101,
   "id": "1568ed00",
   "metadata": {
    "ExecuteTime": {
     "end_time": "2024-04-29T20:41:22.331505Z",
     "start_time": "2024-04-29T20:41:22.301736Z"
    },
    "execution": {
     "iopub.execute_input": "2024-05-03T19:26:33.304065Z",
     "iopub.status.busy": "2024-05-03T19:26:33.303820Z",
     "iopub.status.idle": "2024-05-03T19:26:33.317077Z",
     "shell.execute_reply": "2024-05-03T19:26:33.316509Z"
    },
    "papermill": {
     "duration": 0.051198,
     "end_time": "2024-05-03T19:26:33.318606",
     "exception": false,
     "start_time": "2024-05-03T19:26:33.267408",
     "status": "completed"
    },
    "tags": []
   },
   "outputs": [
    {
     "data": {
      "text/plain": [
       "payment_behaviour\n",
       "High_spent_Large_value_payments    4\n",
       "Low_spent_Small_value_payments     2\n",
       "Low_spent_Medium_value_payments    1\n",
       "High_spent_Small_value_payments    1\n",
       "Name: count, dtype: int64"
      ]
     },
     "execution_count": 101,
     "metadata": {},
     "output_type": "execute_result"
    }
   ],
   "source": [
    "df.loc[df[\"customer_id\"]==\"CUS_0xb201\"][\"payment_behaviour\"].value_counts()"
   ]
  },
  {
   "cell_type": "code",
   "execution_count": 102,
   "id": "2e84905d",
   "metadata": {
    "ExecuteTime": {
     "end_time": "2024-04-29T21:45:42.411148Z",
     "start_time": "2024-04-29T21:45:42.363777Z"
    },
    "execution": {
     "iopub.execute_input": "2024-05-03T19:26:33.390239Z",
     "iopub.status.busy": "2024-05-03T19:26:33.389974Z",
     "iopub.status.idle": "2024-05-03T19:26:33.403153Z",
     "shell.execute_reply": "2024-05-03T19:26:33.402609Z"
    },
    "papermill": {
     "duration": 0.050913,
     "end_time": "2024-05-03T19:26:33.404759",
     "exception": false,
     "start_time": "2024-05-03T19:26:33.353846",
     "status": "completed"
    },
    "tags": []
   },
   "outputs": [
    {
     "data": {
      "text/plain": [
       "payment_behaviour\n",
       "Low_spent_Small_value_payments      5\n",
       "High_spent_Large_value_payments     2\n",
       "High_spent_Medium_value_payments    1\n",
       "Name: count, dtype: int64"
      ]
     },
     "execution_count": 102,
     "metadata": {},
     "output_type": "execute_result"
    }
   ],
   "source": [
    "df.loc[df[\"customer_id\"]==\"CUS_0xc9f\"][\"payment_behaviour\"].value_counts()"
   ]
  },
  {
   "cell_type": "code",
   "execution_count": 103,
   "id": "d3db0349",
   "metadata": {
    "ExecuteTime": {
     "end_time": "2024-04-29T21:45:45.206280Z",
     "start_time": "2024-04-29T21:45:45.172995Z"
    },
    "execution": {
     "iopub.execute_input": "2024-05-03T19:26:33.477022Z",
     "iopub.status.busy": "2024-05-03T19:26:33.476766Z",
     "iopub.status.idle": "2024-05-03T19:26:33.490289Z",
     "shell.execute_reply": "2024-05-03T19:26:33.489622Z"
    },
    "papermill": {
     "duration": 0.051804,
     "end_time": "2024-05-03T19:26:33.491946",
     "exception": false,
     "start_time": "2024-05-03T19:26:33.440142",
     "status": "completed"
    },
    "tags": []
   },
   "outputs": [
    {
     "data": {
      "text/plain": [
       "payment_behaviour\n",
       "High_spent_Medium_value_payments    5\n",
       "Low_spent_Small_value_payments      2\n",
       "High_spent_Small_value_payments     1\n",
       "Name: count, dtype: int64"
      ]
     },
     "execution_count": 103,
     "metadata": {},
     "output_type": "execute_result"
    }
   ],
   "source": [
    "df.loc[df[\"customer_id\"]==\"CUS_0x4437\"][\"payment_behaviour\"].value_counts()"
   ]
  },
  {
   "cell_type": "code",
   "execution_count": 104,
   "id": "64da7652",
   "metadata": {
    "ExecuteTime": {
     "end_time": "2024-04-29T21:45:48.551334Z",
     "start_time": "2024-04-29T21:45:48.523099Z"
    },
    "execution": {
     "iopub.execute_input": "2024-05-03T19:26:33.564651Z",
     "iopub.status.busy": "2024-05-03T19:26:33.564374Z",
     "iopub.status.idle": "2024-05-03T19:26:33.575090Z",
     "shell.execute_reply": "2024-05-03T19:26:33.574508Z"
    },
    "papermill": {
     "duration": 0.048972,
     "end_time": "2024-05-03T19:26:33.576589",
     "exception": false,
     "start_time": "2024-05-03T19:26:33.527617",
     "status": "completed"
    },
    "tags": []
   },
   "outputs": [
    {
     "name": "stdout",
     "output_type": "stream",
     "text": [
      "Unmatched value: Low_spent_Small_value_payments\n",
      "Unmatched value: High_spent_Medium_value_payments\n",
      "Unmatched value: High_spent_Large_value_payments\n",
      "Unmatched value: Low_spent_Medium_value_payments\n",
      "Unmatched value: High_spent_Small_value_payments\n",
      "Unmatched value: Low_spent_Large_value_payments\n"
     ]
    }
   ],
   "source": [
    "for text in df[\"payment_behaviour\"].value_counts().index:\n",
    "    if re.search(pattern, text):\n",
    "        print(\"Matched value:\", text)\n",
    "    else:\n",
    "        print(\"Unmatched value:\", text)"
   ]
  },
  {
   "cell_type": "markdown",
   "id": "16b2b398",
   "metadata": {
    "papermill": {
     "duration": 0.036051,
     "end_time": "2024-05-03T19:26:33.648714",
     "exception": false,
     "start_time": "2024-05-03T19:26:33.612663",
     "status": "completed"
    },
    "tags": []
   },
   "source": [
    "### Type Of Loan Feature"
   ]
  },
  {
   "cell_type": "code",
   "execution_count": 105,
   "id": "0e7edaf0",
   "metadata": {
    "ExecuteTime": {
     "end_time": "2024-04-29T21:47:17.968953Z",
     "start_time": "2024-04-29T21:47:17.941236Z"
    },
    "execution": {
     "iopub.execute_input": "2024-05-03T19:26:33.757706Z",
     "iopub.status.busy": "2024-05-03T19:26:33.757329Z",
     "iopub.status.idle": "2024-05-03T19:26:33.766398Z",
     "shell.execute_reply": "2024-05-03T19:26:33.765848Z"
    },
    "papermill": {
     "duration": 0.081872,
     "end_time": "2024-05-03T19:26:33.767960",
     "exception": false,
     "start_time": "2024-05-03T19:26:33.686088",
     "status": "completed"
    },
    "tags": []
   },
   "outputs": [
    {
     "data": {
      "text/plain": [
       "11406"
      ]
     },
     "execution_count": 105,
     "metadata": {},
     "output_type": "execute_result"
    }
   ],
   "source": [
    "df[\"type_of_loan\"].isna().sum()"
   ]
  },
  {
   "cell_type": "code",
   "execution_count": 106,
   "id": "646599d0",
   "metadata": {
    "ExecuteTime": {
     "end_time": "2024-04-29T21:51:57.281975Z",
     "start_time": "2024-04-29T21:51:57.236176Z"
    },
    "execution": {
     "iopub.execute_input": "2024-05-03T19:26:33.840616Z",
     "iopub.status.busy": "2024-05-03T19:26:33.840317Z",
     "iopub.status.idle": "2024-05-03T19:26:33.856129Z",
     "shell.execute_reply": "2024-05-03T19:26:33.855551Z"
    },
    "papermill": {
     "duration": 0.053982,
     "end_time": "2024-05-03T19:26:33.857736",
     "exception": false,
     "start_time": "2024-05-03T19:26:33.803754",
     "status": "completed"
    },
    "tags": []
   },
   "outputs": [
    {
     "data": {
      "text/plain": [
       "558"
      ]
     },
     "execution_count": 106,
     "metadata": {},
     "output_type": "execute_result"
    }
   ],
   "source": [
    "df.loc[df[\"occupation\"]==\"Writer\"][\"type_of_loan\"].nunique()"
   ]
  },
  {
   "cell_type": "code",
   "execution_count": 107,
   "id": "62660a57",
   "metadata": {
    "ExecuteTime": {
     "end_time": "2024-04-29T21:55:49.547287Z",
     "start_time": "2024-04-29T21:55:49.446471Z"
    },
    "execution": {
     "iopub.execute_input": "2024-05-03T19:26:33.930685Z",
     "iopub.status.busy": "2024-05-03T19:26:33.930393Z",
     "iopub.status.idle": "2024-05-03T19:26:33.975805Z",
     "shell.execute_reply": "2024-05-03T19:26:33.975220Z"
    },
    "papermill": {
     "duration": 0.083441,
     "end_time": "2024-05-03T19:26:33.977369",
     "exception": false,
     "start_time": "2024-05-03T19:26:33.893928",
     "status": "completed"
    },
    "tags": []
   },
   "outputs": [
    {
     "data": {
      "text/plain": [
       "num_of_loan\n",
       "3        14386\n",
       "2        14249\n",
       "4        14016\n",
       "1        10083\n",
       "6         7405\n",
       "7         6930\n",
       "5         6864\n",
       "9         3542\n",
       "-100      3459\n",
       "8         3035\n",
       "2_         782\n",
       "4_         727\n",
       "3_         718\n",
       "1_         523\n",
       "7_         414\n",
       "6_         398\n",
       "5_         332\n",
       "9_         160\n",
       "8_         156\n",
       "1150         4\n",
       "430          3\n",
       "1480         3\n",
       "1228         3\n",
       "1217         2\n",
       "141          2\n",
       "58           2\n",
       "1236         2\n",
       "661          2\n",
       "773          2\n",
       "936          2\n",
       "31           2\n",
       "229          2\n",
       "95           2\n",
       "404          2\n",
       "1354         2\n",
       "697          2\n",
       "23           2\n",
       "898          2\n",
       "875          2\n",
       "1241         2\n",
       "1259         2\n",
       "955          2\n",
       "288          2\n",
       "1463         2\n",
       "1181         2\n",
       "855          2\n",
       "1209         2\n",
       "192          2\n",
       "290          2\n",
       "1353         2\n",
       "284          2\n",
       "733          2\n",
       "466          2\n",
       "1214         2\n",
       "1127         2\n",
       "49           2\n",
       "251          2\n",
       "217          2\n",
       "1017         2\n",
       "1365         2\n",
       "1464         2\n",
       "352          2\n",
       "1412         2\n",
       "1054         1\n",
       "365          1\n",
       "1023         1\n",
       "1182         1\n",
       "1040         1\n",
       "1077         1\n",
       "1457         1\n",
       "1014         1\n",
       "291          1\n",
       "1129_        1\n",
       "679          1\n",
       "571          1\n",
       "1216         1\n",
       "809          1\n",
       "190          1\n",
       "1441         1\n",
       "227_         1\n",
       "1297         1\n",
       "891          1\n",
       "889          1\n",
       "935          1\n",
       "596          1\n",
       "868          1\n",
       "29           1\n",
       "1159         1\n",
       "1222         1\n",
       "742          1\n",
       "701          1\n",
       "19           1\n",
       "330          1\n",
       "1482         1\n",
       "1359         1\n",
       "27_          1\n",
       "1131_        1\n",
       "1393         1\n",
       "285          1\n",
       "462          1\n",
       "143_         1\n",
       "289          1\n",
       "87           1\n",
       "629          1\n",
       "447          1\n",
       "659          1\n",
       "387          1\n",
       "633          1\n",
       "237          1\n",
       "433          1\n",
       "1085         1\n",
       "148          1\n",
       "832          1\n",
       "1225         1\n",
       "295          1\n",
       "1171_        1\n",
       "101          1\n",
       "785_         1\n",
       "1320         1\n",
       "910          1\n",
       "814          1\n",
       "579          1\n",
       "201          1\n",
       "1294         1\n",
       "1189         1\n",
       "581          1\n",
       "737          1\n",
       "1485         1\n",
       "720          1\n",
       "444          1\n",
       "349          1\n",
       "216          1\n",
       "978          1\n",
       "41           1\n",
       "56           1\n",
       "895          1\n",
       "917          1\n",
       "1008         1\n",
       "1132_        1\n",
       "1307         1\n",
       "1196         1\n",
       "968          1\n",
       "1470         1\n",
       "628          1\n",
       "84           1\n",
       "344          1\n",
       "657          1\n",
       "1433         1\n",
       "457          1\n",
       "1152         1\n",
       "1110         1\n",
       "1001         1\n",
       "424          1\n",
       "186          1\n",
       "931          1\n",
       "848          1\n",
       "716          1\n",
       "1106         1\n",
       "1302         1\n",
       "1019         1\n",
       "92_          1\n",
       "640          1\n",
       "663          1\n",
       "119          1\n",
       "617          1\n",
       "597_         1\n",
       "843          1\n",
       "313          1\n",
       "39           1\n",
       "1219_        1\n",
       "802          1\n",
       "1178         1\n",
       "17           1\n",
       "501          1\n",
       "1300         1\n",
       "1036         1\n",
       "606          1\n",
       "1372         1\n",
       "1091         1\n",
       "867          1\n",
       "65           1\n",
       "1002         1\n",
       "873          1\n",
       "926          1\n",
       "316          1\n",
       "991          1\n",
       "1340         1\n",
       "1274         1\n",
       "520          1\n",
       "548          1\n",
       "686          1\n",
       "78           1\n",
       "1400         1\n",
       "136          1\n",
       "504          1\n",
       "1103         1\n",
       "526          1\n",
       "1210         1\n",
       "1112         1\n",
       "1279         1\n",
       "1271         1\n",
       "924          1\n",
       "1345         1\n",
       "1371         1\n",
       "753          1\n",
       "1053         1\n",
       "228          1\n",
       "636          1\n",
       "196          1\n",
       "1496         1\n",
       "1137         1\n",
       "696_         1\n",
       "1461         1\n",
       "1348         1\n",
       "1406         1\n",
       "323          1\n",
       "1363         1\n",
       "614          1\n",
       "348          1\n",
       "1204         1\n",
       "1094         1\n",
       "1187         1\n",
       "684          1\n",
       "545          1\n",
       "649          1\n",
       "132          1\n",
       "484          1\n",
       "329          1\n",
       "699          1\n",
       "33           1\n",
       "1047         1\n",
       "1039         1\n",
       "1135         1\n",
       "904          1\n",
       "1131         1\n",
       "420          1\n",
       "1474         1\n",
       "1096         1\n",
       "55           1\n",
       "455          1\n",
       "816          1\n",
       "70           1\n",
       "905          1\n",
       "1185_        1\n",
       "696          1\n",
       "590          1\n",
       "359          1\n",
       "795          1\n",
       "1006         1\n",
       "819          1\n",
       "1154         1\n",
       "1424         1\n",
       "1312         1\n",
       "1465         1\n",
       "1289         1\n",
       "1160         1\n",
       "838          1\n",
       "515          1\n",
       "464          1\n",
       "863          1\n",
       "254          1\n",
       "967          1\n",
       "966          1\n",
       "635          1\n",
       "227          1\n",
       "300          1\n",
       "52           1\n",
       "1298         1\n",
       "341          1\n",
       "563          1\n",
       "146          1\n",
       "945          1\n",
       "472          1\n",
       "622          1\n",
       "728          1\n",
       "529          1\n",
       "662          1\n",
       "653          1\n",
       "927          1\n",
       "497          1\n",
       "463          1\n",
       "275          1\n",
       "1384         1\n",
       "147          1\n",
       "799          1\n",
       "778          1\n",
       "656          1\n",
       "1265         1\n",
       "54           1\n",
       "958          1\n",
       "869          1\n",
       "242          1\n",
       "527_         1\n",
       "574          1\n",
       "182          1\n",
       "208          1\n",
       "351          1\n",
       "282          1\n",
       "32           1\n",
       "191          1\n",
       "860          1\n",
       "1329         1\n",
       "100          1\n",
       "781          1\n",
       "1318         1\n",
       "89           1\n",
       "302          1\n",
       "1202         1\n",
       "562          1\n",
       "939          1\n",
       "952          1\n",
       "321          1\n",
       "1439         1\n",
       "613          1\n",
       "1048         1\n",
       "777          1\n",
       "943          1\n",
       "1311_        1\n",
       "131_         1\n",
       "540          1\n",
       "123          1\n",
       "820          1\n",
       "492          1\n",
       "311          1\n",
       "597          1\n",
       "996          1\n",
       "1387         1\n",
       "510          1\n",
       "267          1\n",
       "243          1\n",
       "639          1\n",
       "1225_        1\n",
       "292          1\n",
       "359_         1\n",
       "833          1\n",
       "416          1\n",
       "757          1\n",
       "332          1\n",
       "752          1\n",
       "231          1\n",
       "1319         1\n",
       "1313         1\n",
       "601          1\n",
       "1391         1\n",
       "1495         1\n",
       "1459_        1\n",
       "494          1\n",
       "1088         1\n",
       "1484         1\n",
       "280          1\n",
       "235_         1\n",
       "138          1\n",
       "638          1\n",
       "319          1\n",
       "418          1\n",
       "983          1\n",
       "449          1\n",
       "527          1\n",
       "274          1\n",
       "164          1\n",
       "157          1\n",
       "137          1\n",
       "172          1\n",
       "1257         1\n",
       "1030         1\n",
       "405          1\n",
       "241          1\n",
       "630_         1\n",
       "745          1\n",
       "174          1\n",
       "392          1\n",
       "841          1\n",
       "1015         1\n",
       "198          1\n",
       "719          1\n",
       "1151         1\n",
       "438          1\n",
       "834          1\n",
       "1046         1\n",
       "961          1\n",
       "1320_        1\n",
       "Name: count, dtype: int64"
      ]
     },
     "execution_count": 107,
     "metadata": {},
     "output_type": "execute_result"
    }
   ],
   "source": [
    "df.loc[df[\"type_of_loan\"].notna()][\"num_of_loan\"].value_counts()"
   ]
  },
  {
   "cell_type": "markdown",
   "id": "cb31ae49",
   "metadata": {
    "papermill": {
     "duration": 0.03758,
     "end_time": "2024-05-03T19:26:34.051252",
     "exception": false,
     "start_time": "2024-05-03T19:26:34.013672",
     "status": "completed"
    },
    "tags": []
   },
   "source": [
    "##### ***Let's see if the value in the \"num of loan\" column is related to the number of elements of the list in \"type of loan\"***"
   ]
  },
  {
   "cell_type": "code",
   "execution_count": 108,
   "id": "47969b15",
   "metadata": {
    "ExecuteTime": {
     "end_time": "2024-04-29T22:20:05.137572Z",
     "start_time": "2024-04-29T22:20:05.088461Z"
    },
    "execution": {
     "iopub.execute_input": "2024-05-03T19:26:34.125301Z",
     "iopub.status.busy": "2024-05-03T19:26:34.125029Z",
     "iopub.status.idle": "2024-05-03T19:26:34.144557Z",
     "shell.execute_reply": "2024-05-03T19:26:34.143983Z"
    },
    "papermill": {
     "duration": 0.058578,
     "end_time": "2024-05-03T19:26:34.146164",
     "exception": false,
     "start_time": "2024-05-03T19:26:34.087586",
     "status": "completed"
    },
    "tags": []
   },
   "outputs": [
    {
     "data": {
      "text/plain": [
       "70438        Not Specified, Student Loan, and Student Loan\n",
       "57683        Student Loan, Auto Loan, and Home Equity Loan\n",
       "92744    Credit-Builder Loan, Debt Consolidation Loan, ...\n",
       "9999       Student Loan, Payday Loan, and Home Equity Loan\n",
       "58398     Home Equity Loan, Payday Loan, and Not Specified\n",
       "Name: type_of_loan, dtype: object"
      ]
     },
     "execution_count": 108,
     "metadata": {},
     "output_type": "execute_result"
    }
   ],
   "source": [
    "df[df[\"num_of_loan\"] == \"3\"][\"type_of_loan\"].sample(5)"
   ]
  },
  {
   "cell_type": "code",
   "execution_count": 109,
   "id": "908d2a13",
   "metadata": {
    "ExecuteTime": {
     "end_time": "2024-04-29T22:21:10.573940Z",
     "start_time": "2024-04-29T22:21:10.556834Z"
    },
    "execution": {
     "iopub.execute_input": "2024-05-03T19:26:34.221124Z",
     "iopub.status.busy": "2024-05-03T19:26:34.220850Z",
     "iopub.status.idle": "2024-05-03T19:26:34.227591Z",
     "shell.execute_reply": "2024-05-03T19:26:34.226996Z"
    },
    "papermill": {
     "duration": 0.045873,
     "end_time": "2024-05-03T19:26:34.229000",
     "exception": false,
     "start_time": "2024-05-03T19:26:34.183127",
     "status": "completed"
    },
    "tags": []
   },
   "outputs": [
    {
     "data": {
      "text/plain": [
       "['Credit-Builder Loan, Home Equity Loan, and Not Specified']"
      ]
     },
     "execution_count": 109,
     "metadata": {},
     "output_type": "execute_result"
    }
   ],
   "source": [
    "df.loc[[53636]][\"type_of_loan\"].tolist()"
   ]
  },
  {
   "cell_type": "code",
   "execution_count": 110,
   "id": "5295f5d1",
   "metadata": {
    "ExecuteTime": {
     "end_time": "2024-04-29T22:21:49.018539Z",
     "start_time": "2024-04-29T22:21:49.002131Z"
    },
    "execution": {
     "iopub.execute_input": "2024-05-03T19:26:34.303393Z",
     "iopub.status.busy": "2024-05-03T19:26:34.303136Z",
     "iopub.status.idle": "2024-05-03T19:26:34.308123Z",
     "shell.execute_reply": "2024-05-03T19:26:34.307561Z"
    },
    "papermill": {
     "duration": 0.044188,
     "end_time": "2024-05-03T19:26:34.309616",
     "exception": false,
     "start_time": "2024-05-03T19:26:34.265428",
     "status": "completed"
    },
    "tags": []
   },
   "outputs": [
    {
     "data": {
      "text/plain": [
       "['Credit-Builder Loan, Not Specified, and Credit-Builder Loan']"
      ]
     },
     "execution_count": 110,
     "metadata": {},
     "output_type": "execute_result"
    }
   ],
   "source": [
    "df.loc[[23728]][\"type_of_loan\"].tolist()"
   ]
  },
  {
   "cell_type": "markdown",
   "id": "f73a2df4",
   "metadata": {
    "papermill": {
     "duration": 0.036644,
     "end_time": "2024-05-03T19:26:34.382687",
     "exception": false,
     "start_time": "2024-05-03T19:26:34.346043",
     "status": "completed"
    },
    "tags": []
   },
   "source": [
    "#### ***As I see above, record in the \"num_of_loan\" feature has same value with number of element of list in \"type_of_loan\" feature*** "
   ]
  },
  {
   "cell_type": "code",
   "execution_count": 111,
   "id": "09dc8a5e",
   "metadata": {
    "ExecuteTime": {
     "end_time": "2024-04-29T21:59:26.698912Z",
     "start_time": "2024-04-29T21:59:26.643769Z"
    },
    "execution": {
     "iopub.execute_input": "2024-05-03T19:26:34.457021Z",
     "iopub.status.busy": "2024-05-03T19:26:34.456757Z",
     "iopub.status.idle": "2024-05-03T19:26:34.479888Z",
     "shell.execute_reply": "2024-05-03T19:26:34.479212Z"
    },
    "papermill": {
     "duration": 0.062789,
     "end_time": "2024-05-03T19:26:34.481652",
     "exception": false,
     "start_time": "2024-05-03T19:26:34.418863",
     "status": "completed"
    },
    "tags": []
   },
   "outputs": [
    {
     "data": {
      "text/html": [
       "<div>\n",
       "<style scoped>\n",
       "    .dataframe tbody tr th:only-of-type {\n",
       "        vertical-align: middle;\n",
       "    }\n",
       "\n",
       "    .dataframe tbody tr th {\n",
       "        vertical-align: top;\n",
       "    }\n",
       "\n",
       "    .dataframe thead th {\n",
       "        text-align: right;\n",
       "    }\n",
       "</style>\n",
       "<table border=\"1\" class=\"dataframe\">\n",
       "  <thead>\n",
       "    <tr style=\"text-align: right;\">\n",
       "      <th></th>\n",
       "      <th>id</th>\n",
       "      <th>customer_id</th>\n",
       "      <th>month</th>\n",
       "      <th>name</th>\n",
       "      <th>age</th>\n",
       "      <th>ssn</th>\n",
       "      <th>occupation</th>\n",
       "      <th>annual_income</th>\n",
       "      <th>monthly_inhand_salary</th>\n",
       "      <th>num_bank_accounts</th>\n",
       "      <th>num_credit_card</th>\n",
       "      <th>interest_rate</th>\n",
       "      <th>num_of_loan</th>\n",
       "      <th>type_of_loan</th>\n",
       "      <th>delay_from_due_date</th>\n",
       "      <th>num_of_delayed_payment</th>\n",
       "      <th>changed_credit_limit</th>\n",
       "      <th>num_credit_inquiries</th>\n",
       "      <th>credit_mix</th>\n",
       "      <th>outstanding_debt</th>\n",
       "      <th>credit_utilization_ratio</th>\n",
       "      <th>credit_history_age</th>\n",
       "      <th>payment_of_min_amount</th>\n",
       "      <th>total_emi_per_month</th>\n",
       "      <th>amount_invested_monthly</th>\n",
       "      <th>payment_behaviour</th>\n",
       "      <th>monthly_balance</th>\n",
       "      <th>credit_score</th>\n",
       "    </tr>\n",
       "  </thead>\n",
       "  <tbody>\n",
       "    <tr>\n",
       "      <th>61898</th>\n",
       "      <td>0x180b0</td>\n",
       "      <td>CUS_0x96b3</td>\n",
       "      <td>March</td>\n",
       "      <td>Huw Jonesd</td>\n",
       "      <td>36.000</td>\n",
       "      <td>242-10-5844</td>\n",
       "      <td>Lawyer</td>\n",
       "      <td>61181.88</td>\n",
       "      <td>5192.490</td>\n",
       "      <td>7</td>\n",
       "      <td>6</td>\n",
       "      <td>18</td>\n",
       "      <td>1150</td>\n",
       "      <td>Not Specified, Debt Consolidation Loan, Mortga...</td>\n",
       "      <td>30</td>\n",
       "      <td>25</td>\n",
       "      <td>3.53</td>\n",
       "      <td>8.000</td>\n",
       "      <td>Bad</td>\n",
       "      <td>2245.8</td>\n",
       "      <td>32.929</td>\n",
       "      <td>178</td>\n",
       "      <td>NM</td>\n",
       "      <td>241.570</td>\n",
       "      <td>286.422</td>\n",
       "      <td>High_spent_Small_value_payments</td>\n",
       "      <td>251.256</td>\n",
       "      <td>Poor</td>\n",
       "    </tr>\n",
       "    <tr>\n",
       "      <th>76482</th>\n",
       "      <td>0x1d624</td>\n",
       "      <td>CUS_0x960e</td>\n",
       "      <td>March</td>\n",
       "      <td>Jessicax</td>\n",
       "      <td>17.000</td>\n",
       "      <td>087-18-7812</td>\n",
       "      <td>Engineer</td>\n",
       "      <td>9822.095</td>\n",
       "      <td>785.508</td>\n",
       "      <td>10</td>\n",
       "      <td>8</td>\n",
       "      <td>19</td>\n",
       "      <td>1150</td>\n",
       "      <td>Personal Loan, Student Loan, Not Specified, Pa...</td>\n",
       "      <td>35</td>\n",
       "      <td>18</td>\n",
       "      <td>31.11</td>\n",
       "      <td>8.000</td>\n",
       "      <td>Bad</td>\n",
       "      <td>2813.68</td>\n",
       "      <td>25.091</td>\n",
       "      <td>39</td>\n",
       "      <td>Yes</td>\n",
       "      <td>22.508</td>\n",
       "      <td>64.836</td>\n",
       "      <td>Low_spent_Small_value_payments</td>\n",
       "      <td>281.207</td>\n",
       "      <td>Poor</td>\n",
       "    </tr>\n",
       "    <tr>\n",
       "      <th>94211</th>\n",
       "      <td>0x23e05</td>\n",
       "      <td>CUS_0x7152</td>\n",
       "      <td>April</td>\n",
       "      <td>Costaf</td>\n",
       "      <td>14.000</td>\n",
       "      <td>399-91-2074</td>\n",
       "      <td>Doctor</td>\n",
       "      <td>49716.16</td>\n",
       "      <td>3925.013</td>\n",
       "      <td>4</td>\n",
       "      <td>3</td>\n",
       "      <td>20</td>\n",
       "      <td>1150</td>\n",
       "      <td>Credit-Builder Loan, Not Specified, Personal L...</td>\n",
       "      <td>17</td>\n",
       "      <td>21</td>\n",
       "      <td>12.81</td>\n",
       "      <td>8.000</td>\n",
       "      <td>Standard</td>\n",
       "      <td>1490.78</td>\n",
       "      <td>31.310</td>\n",
       "      <td>235</td>\n",
       "      <td>Yes</td>\n",
       "      <td>240.333</td>\n",
       "      <td>72.390</td>\n",
       "      <td>High_spent_Medium_value_payments</td>\n",
       "      <td>319.778</td>\n",
       "      <td>Standard</td>\n",
       "    </tr>\n",
       "    <tr>\n",
       "      <th>95130</th>\n",
       "      <td>0x24368</td>\n",
       "      <td>CUS_0x12a7</td>\n",
       "      <td>March</td>\n",
       "      <td>Luciat</td>\n",
       "      <td>37.000</td>\n",
       "      <td>145-72-2113</td>\n",
       "      <td>Media_Manager</td>\n",
       "      <td>26450.59</td>\n",
       "      <td>2079.216</td>\n",
       "      <td>5</td>\n",
       "      <td>6</td>\n",
       "      <td>20</td>\n",
       "      <td>1150</td>\n",
       "      <td>Debt Consolidation Loan, Home Equity Loan, Aut...</td>\n",
       "      <td>24</td>\n",
       "      <td>18</td>\n",
       "      <td>11.8</td>\n",
       "      <td>1.000</td>\n",
       "      <td>Standard</td>\n",
       "      <td>952.9</td>\n",
       "      <td>39.081</td>\n",
       "      <td>339</td>\n",
       "      <td>No</td>\n",
       "      <td>73.670</td>\n",
       "      <td>83.738</td>\n",
       "      <td>High_spent_Small_value_payments</td>\n",
       "      <td>310.513</td>\n",
       "      <td>Standard</td>\n",
       "    </tr>\n",
       "  </tbody>\n",
       "</table>\n",
       "</div>"
      ],
      "text/plain": [
       "            id customer_id  month        name    age          ssn  \\\n",
       "61898  0x180b0  CUS_0x96b3  March  Huw Jonesd 36.000  242-10-5844   \n",
       "76482  0x1d624  CUS_0x960e  March    Jessicax 17.000  087-18-7812   \n",
       "94211  0x23e05  CUS_0x7152  April      Costaf 14.000  399-91-2074   \n",
       "95130  0x24368  CUS_0x12a7  March      Luciat 37.000  145-72-2113   \n",
       "\n",
       "          occupation annual_income  monthly_inhand_salary  num_bank_accounts  \\\n",
       "61898         Lawyer      61181.88               5192.490                  7   \n",
       "76482       Engineer      9822.095                785.508                 10   \n",
       "94211         Doctor      49716.16               3925.013                  4   \n",
       "95130  Media_Manager      26450.59               2079.216                  5   \n",
       "\n",
       "       num_credit_card  interest_rate num_of_loan  \\\n",
       "61898                6             18        1150   \n",
       "76482                8             19        1150   \n",
       "94211                3             20        1150   \n",
       "95130                6             20        1150   \n",
       "\n",
       "                                            type_of_loan  delay_from_due_date  \\\n",
       "61898  Not Specified, Debt Consolidation Loan, Mortga...                   30   \n",
       "76482  Personal Loan, Student Loan, Not Specified, Pa...                   35   \n",
       "94211  Credit-Builder Loan, Not Specified, Personal L...                   17   \n",
       "95130  Debt Consolidation Loan, Home Equity Loan, Aut...                   24   \n",
       "\n",
       "      num_of_delayed_payment changed_credit_limit  num_credit_inquiries  \\\n",
       "61898                     25                 3.53                 8.000   \n",
       "76482                     18                31.11                 8.000   \n",
       "94211                     21                12.81                 8.000   \n",
       "95130                     18                 11.8                 1.000   \n",
       "\n",
       "      credit_mix outstanding_debt  credit_utilization_ratio  \\\n",
       "61898        Bad           2245.8                    32.929   \n",
       "76482        Bad          2813.68                    25.091   \n",
       "94211   Standard          1490.78                    31.310   \n",
       "95130   Standard            952.9                    39.081   \n",
       "\n",
       "       credit_history_age payment_of_min_amount  total_emi_per_month  \\\n",
       "61898                 178                    NM              241.570   \n",
       "76482                  39                   Yes               22.508   \n",
       "94211                 235                   Yes              240.333   \n",
       "95130                 339                    No               73.670   \n",
       "\n",
       "       amount_invested_monthly                 payment_behaviour  \\\n",
       "61898                  286.422   High_spent_Small_value_payments   \n",
       "76482                   64.836    Low_spent_Small_value_payments   \n",
       "94211                   72.390  High_spent_Medium_value_payments   \n",
       "95130                   83.738   High_spent_Small_value_payments   \n",
       "\n",
       "       monthly_balance credit_score  \n",
       "61898          251.256         Poor  \n",
       "76482          281.207         Poor  \n",
       "94211          319.778     Standard  \n",
       "95130          310.513     Standard  "
      ]
     },
     "execution_count": 111,
     "metadata": {},
     "output_type": "execute_result"
    }
   ],
   "source": [
    "df[df[\"num_of_loan\"] == \"1150\"]"
   ]
  },
  {
   "cell_type": "code",
   "execution_count": 112,
   "id": "788d4f77",
   "metadata": {
    "execution": {
     "iopub.execute_input": "2024-05-03T19:26:34.560161Z",
     "iopub.status.busy": "2024-05-03T19:26:34.559824Z",
     "iopub.status.idle": "2024-05-03T19:26:34.587219Z",
     "shell.execute_reply": "2024-05-03T19:26:34.586619Z"
    },
    "papermill": {
     "duration": 0.070479,
     "end_time": "2024-05-03T19:26:34.589030",
     "exception": false,
     "start_time": "2024-05-03T19:26:34.518551",
     "status": "completed"
    },
    "tags": []
   },
   "outputs": [],
   "source": [
    "df[\"num_of_loan\"] = df[\"num_of_loan\"].apply(lambda x : x.rstrip(\"_\").lstrip(\"-\"))"
   ]
  },
  {
   "cell_type": "code",
   "execution_count": 113,
   "id": "33e1b56e",
   "metadata": {
    "execution": {
     "iopub.execute_input": "2024-05-03T19:26:34.667631Z",
     "iopub.status.busy": "2024-05-03T19:26:34.667337Z",
     "iopub.status.idle": "2024-05-03T19:26:34.680827Z",
     "shell.execute_reply": "2024-05-03T19:26:34.680116Z"
    },
    "papermill": {
     "duration": 0.056247,
     "end_time": "2024-05-03T19:26:34.682367",
     "exception": false,
     "start_time": "2024-05-03T19:26:34.626120",
     "status": "completed"
    },
    "tags": []
   },
   "outputs": [],
   "source": [
    "df[\"num_of_loan\"] = df[\"num_of_loan\"].astype(\"int\")"
   ]
  },
  {
   "cell_type": "code",
   "execution_count": 114,
   "id": "6b8456a4",
   "metadata": {
    "ExecuteTime": {
     "end_time": "2024-04-29T21:53:55.331346Z",
     "start_time": "2024-04-29T21:53:55.295532Z"
    },
    "execution": {
     "iopub.execute_input": "2024-05-03T19:26:34.762058Z",
     "iopub.status.busy": "2024-05-03T19:26:34.761718Z",
     "iopub.status.idle": "2024-05-03T19:26:34.779221Z",
     "shell.execute_reply": "2024-05-03T19:26:34.778529Z"
    },
    "papermill": {
     "duration": 0.059735,
     "end_time": "2024-05-03T19:26:34.781018",
     "exception": false,
     "start_time": "2024-05-03T19:26:34.721283",
     "status": "completed"
    },
    "tags": []
   },
   "outputs": [
    {
     "data": {
      "text/plain": [
       "num_of_loan\n",
       "0       10928\n",
       "100       417\n",
       "911         2\n",
       "50          2\n",
       "1035        1\n",
       "1347        1\n",
       "193         1\n",
       "995         1\n",
       "1451        1\n",
       "654         1\n",
       "153         1\n",
       "1369        1\n",
       "501         1\n",
       "143         1\n",
       "1416        1\n",
       "1070        1\n",
       "238         1\n",
       "103         1\n",
       "172         1\n",
       "252         1\n",
       "1444        1\n",
       "330         1\n",
       "394         1\n",
       "859         1\n",
       "1227        1\n",
       "336         1\n",
       "940         1\n",
       "1447        1\n",
       "881         1\n",
       "538         1\n",
       "999         1\n",
       "831         1\n",
       "1384        1\n",
       "621         1\n",
       "1419        1\n",
       "1430        1\n",
       "1382        1\n",
       "437         1\n",
       "372         1\n",
       "126         1\n",
       "1074        1\n",
       "288         1\n",
       "378         1\n",
       "652         1\n",
       "33          1\n",
       "439         1\n",
       "1296        1\n",
       "773         1\n",
       "415         1\n",
       "275         1\n",
       "350         1\n",
       "507         1\n",
       "1129        1\n",
       "1027        1\n",
       "897         1\n",
       "546         1\n",
       "215         1\n",
       "1478        1\n",
       "83          1\n",
       "18          1\n",
       "801         1\n",
       "Name: count, dtype: int64"
      ]
     },
     "execution_count": 114,
     "metadata": {},
     "output_type": "execute_result"
    }
   ],
   "source": [
    "df.loc[df[\"type_of_loan\"].isna()][\"num_of_loan\"].value_counts()"
   ]
  },
  {
   "cell_type": "code",
   "execution_count": 115,
   "id": "0223f3e6",
   "metadata": {
    "execution": {
     "iopub.execute_input": "2024-05-03T19:26:34.859755Z",
     "iopub.status.busy": "2024-05-03T19:26:34.859395Z",
     "iopub.status.idle": "2024-05-03T19:26:35.042562Z",
     "shell.execute_reply": "2024-05-03T19:26:35.041846Z"
    },
    "papermill": {
     "duration": 0.224678,
     "end_time": "2024-05-03T19:26:35.044740",
     "exception": false,
     "start_time": "2024-05-03T19:26:34.820062",
     "status": "completed"
    },
    "tags": []
   },
   "outputs": [],
   "source": [
    "df.loc[df[\"type_of_loan\"].notna(),\"type_of_loan\"] = df.loc[df[\"type_of_loan\"].notna()][\"type_of_loan\"].apply(lambda x : x.split(\",\"))"
   ]
  },
  {
   "cell_type": "markdown",
   "id": "5453c185",
   "metadata": {
    "papermill": {
     "duration": 0.040282,
     "end_time": "2024-05-03T19:26:35.124166",
     "exception": false,
     "start_time": "2024-05-03T19:26:35.083884",
     "status": "completed"
    },
    "tags": []
   },
   "source": [
    "### filled each row with number of elemnt of list in the \"Type_of_Loan\" feature "
   ]
  },
  {
   "cell_type": "code",
   "execution_count": 116,
   "id": "a5d457d7",
   "metadata": {
    "execution": {
     "iopub.execute_input": "2024-05-03T19:26:35.208994Z",
     "iopub.status.busy": "2024-05-03T19:26:35.208271Z",
     "iopub.status.idle": "2024-05-03T19:26:59.611542Z",
     "shell.execute_reply": "2024-05-03T19:26:59.610811Z"
    },
    "papermill": {
     "duration": 24.447925,
     "end_time": "2024-05-03T19:26:59.613984",
     "exception": false,
     "start_time": "2024-05-03T19:26:35.166059",
     "status": "completed"
    },
    "tags": []
   },
   "outputs": [],
   "source": [
    "for row in df.index :\n",
    "    if not df.loc[row].isna().any() :\n",
    "        num = len(df.loc[row][\"type_of_loan\"]) \n",
    "        df.at[row, \"num_of_loan\"] = num"
   ]
  },
  {
   "cell_type": "code",
   "execution_count": 117,
   "id": "1576e8b9",
   "metadata": {
    "execution": {
     "iopub.execute_input": "2024-05-03T19:26:59.693995Z",
     "iopub.status.busy": "2024-05-03T19:26:59.693689Z",
     "iopub.status.idle": "2024-05-03T19:26:59.698001Z",
     "shell.execute_reply": "2024-05-03T19:26:59.697372Z"
    },
    "papermill": {
     "duration": 0.045907,
     "end_time": "2024-05-03T19:26:59.699506",
     "exception": false,
     "start_time": "2024-05-03T19:26:59.653599",
     "status": "completed"
    },
    "tags": []
   },
   "outputs": [],
   "source": [
    "df[\"num_of_loan\"].replace(100,0,inplace = True )"
   ]
  },
  {
   "cell_type": "code",
   "execution_count": 118,
   "id": "1001cd00",
   "metadata": {
    "execution": {
     "iopub.execute_input": "2024-05-03T19:26:59.775290Z",
     "iopub.status.busy": "2024-05-03T19:26:59.775055Z",
     "iopub.status.idle": "2024-05-03T19:26:59.786145Z",
     "shell.execute_reply": "2024-05-03T19:26:59.785590Z"
    },
    "papermill": {
     "duration": 0.050912,
     "end_time": "2024-05-03T19:26:59.787787",
     "exception": false,
     "start_time": "2024-05-03T19:26:59.736875",
     "status": "completed"
    },
    "tags": []
   },
   "outputs": [],
   "source": [
    "df.loc[(df[\"type_of_loan\"].isna()) & (df[\"num_of_loan\"]==0),\"type_of_loan\"] = \"new_credit\""
   ]
  },
  {
   "cell_type": "code",
   "execution_count": 119,
   "id": "93b2872e",
   "metadata": {
    "execution": {
     "iopub.execute_input": "2024-05-03T19:26:59.863343Z",
     "iopub.status.busy": "2024-05-03T19:26:59.863071Z",
     "iopub.status.idle": "2024-05-03T19:26:59.896043Z",
     "shell.execute_reply": "2024-05-03T19:26:59.895286Z"
    },
    "papermill": {
     "duration": 0.072649,
     "end_time": "2024-05-03T19:26:59.897665",
     "exception": false,
     "start_time": "2024-05-03T19:26:59.825016",
     "status": "completed"
    },
    "tags": []
   },
   "outputs": [
    {
     "data": {
      "text/plain": [
       "array([4, 1, 3, 0, 2, 7, 5, 6, 8, 9])"
      ]
     },
     "execution_count": 119,
     "metadata": {},
     "output_type": "execute_result"
    }
   ],
   "source": [
    "df.loc[df[\"type_of_loan\"].notna()][\"num_of_loan\"].unique()"
   ]
  },
  {
   "cell_type": "code",
   "execution_count": 120,
   "id": "7eed7b88",
   "metadata": {
    "execution": {
     "iopub.execute_input": "2024-05-03T19:26:59.975941Z",
     "iopub.status.busy": "2024-05-03T19:26:59.975688Z",
     "iopub.status.idle": "2024-05-03T19:26:59.986417Z",
     "shell.execute_reply": "2024-05-03T19:26:59.985871Z"
    },
    "papermill": {
     "duration": 0.050553,
     "end_time": "2024-05-03T19:26:59.987862",
     "exception": false,
     "start_time": "2024-05-03T19:26:59.937309",
     "status": "completed"
    },
    "tags": []
   },
   "outputs": [
    {
     "data": {
      "text/plain": [
       "59"
      ]
     },
     "execution_count": 120,
     "metadata": {},
     "output_type": "execute_result"
    }
   ],
   "source": [
    "df.loc[df[\"type_of_loan\"].isna()][\"num_of_loan\"].nunique()"
   ]
  },
  {
   "cell_type": "code",
   "execution_count": 121,
   "id": "b994e5c7",
   "metadata": {
    "execution": {
     "iopub.execute_input": "2024-05-03T19:27:00.063947Z",
     "iopub.status.busy": "2024-05-03T19:27:00.063677Z",
     "iopub.status.idle": "2024-05-03T19:27:00.073081Z",
     "shell.execute_reply": "2024-05-03T19:27:00.072435Z"
    },
    "papermill": {
     "duration": 0.049357,
     "end_time": "2024-05-03T19:27:00.074612",
     "exception": false,
     "start_time": "2024-05-03T19:27:00.025255",
     "status": "completed"
    },
    "tags": []
   },
   "outputs": [
    {
     "data": {
      "text/plain": [
       "61"
      ]
     },
     "execution_count": 121,
     "metadata": {},
     "output_type": "execute_result"
    }
   ],
   "source": [
    "df[\"type_of_loan\"].isna().sum()"
   ]
  },
  {
   "cell_type": "markdown",
   "id": "2c2a89a6",
   "metadata": {
    "papermill": {
     "duration": 0.037701,
     "end_time": "2024-05-03T19:27:00.149394",
     "exception": false,
     "start_time": "2024-05-03T19:27:00.111693",
     "status": "completed"
    },
    "tags": []
   },
   "source": [
    "#### I tried to correct the 2,3,4 digit meaningless, outlier values in the \"num_of_loan\" column with the \"type_of_loan\" column, but I could not find a way for the values that appeared as NaN in the \"type_of_loan\" column and such outliers in the \"num_of_loan\" column, and there are 61 rows in the 100.000 rows data. I overlooked these rows and decided to drop it."
   ]
  },
  {
   "cell_type": "code",
   "execution_count": 122,
   "id": "a159b677",
   "metadata": {
    "execution": {
     "iopub.execute_input": "2024-05-03T19:27:00.227045Z",
     "iopub.status.busy": "2024-05-03T19:27:00.226344Z",
     "iopub.status.idle": "2024-05-03T19:27:00.235934Z",
     "shell.execute_reply": "2024-05-03T19:27:00.235336Z"
    },
    "papermill": {
     "duration": 0.050164,
     "end_time": "2024-05-03T19:27:00.237490",
     "exception": false,
     "start_time": "2024-05-03T19:27:00.187326",
     "status": "completed"
    },
    "tags": []
   },
   "outputs": [],
   "source": [
    "nan_idx = df.loc[df[\"type_of_loan\"].isna()].index"
   ]
  },
  {
   "cell_type": "code",
   "execution_count": 123,
   "id": "7487053f",
   "metadata": {
    "execution": {
     "iopub.execute_input": "2024-05-03T19:27:00.313938Z",
     "iopub.status.busy": "2024-05-03T19:27:00.313642Z",
     "iopub.status.idle": "2024-05-03T19:27:00.337215Z",
     "shell.execute_reply": "2024-05-03T19:27:00.336612Z"
    },
    "papermill": {
     "duration": 0.063824,
     "end_time": "2024-05-03T19:27:00.338969",
     "exception": false,
     "start_time": "2024-05-03T19:27:00.275145",
     "status": "completed"
    },
    "tags": []
   },
   "outputs": [],
   "source": [
    "df.drop(nan_idx,inplace =True)"
   ]
  },
  {
   "cell_type": "code",
   "execution_count": 124,
   "id": "81421bd4",
   "metadata": {
    "ExecuteTime": {
     "end_time": "2024-05-01T08:51:44.743824Z",
     "start_time": "2024-05-01T08:51:44.710970Z"
    },
    "execution": {
     "iopub.execute_input": "2024-05-03T19:27:00.415749Z",
     "iopub.status.busy": "2024-05-03T19:27:00.415225Z",
     "iopub.status.idle": "2024-05-03T19:27:00.420211Z",
     "shell.execute_reply": "2024-05-03T19:27:00.419610Z"
    },
    "papermill": {
     "duration": 0.045463,
     "end_time": "2024-05-03T19:27:00.421866",
     "exception": false,
     "start_time": "2024-05-03T19:27:00.376403",
     "status": "completed"
    },
    "tags": []
   },
   "outputs": [
    {
     "data": {
      "text/plain": [
       "array([4, 1, 3, 0, 2, 7, 5, 6, 8, 9])"
      ]
     },
     "execution_count": 124,
     "metadata": {},
     "output_type": "execute_result"
    }
   ],
   "source": [
    "df[\"num_of_loan\"].unique()"
   ]
  },
  {
   "cell_type": "code",
   "execution_count": 125,
   "id": "e2b1257b",
   "metadata": {
    "ExecuteTime": {
     "end_time": "2024-05-01T08:51:47.535399Z",
     "start_time": "2024-05-01T08:51:47.512666Z"
    },
    "execution": {
     "iopub.execute_input": "2024-05-03T19:27:00.498788Z",
     "iopub.status.busy": "2024-05-03T19:27:00.498529Z",
     "iopub.status.idle": "2024-05-03T19:27:00.508585Z",
     "shell.execute_reply": "2024-05-03T19:27:00.508008Z"
    },
    "papermill": {
     "duration": 0.05049,
     "end_time": "2024-05-03T19:27:00.510022",
     "exception": false,
     "start_time": "2024-05-03T19:27:00.459532",
     "status": "completed"
    },
    "tags": []
   },
   "outputs": [
    {
     "data": {
      "text/plain": [
       "0"
      ]
     },
     "execution_count": 125,
     "metadata": {},
     "output_type": "execute_result"
    }
   ],
   "source": [
    "df[\"type_of_loan\"].isna().sum()"
   ]
  },
  {
   "cell_type": "code",
   "execution_count": 126,
   "id": "63e70834",
   "metadata": {
    "ExecuteTime": {
     "end_time": "2024-05-01T10:00:09.240493Z",
     "start_time": "2024-05-01T10:00:09.179601Z"
    },
    "execution": {
     "iopub.execute_input": "2024-05-03T19:27:00.589335Z",
     "iopub.status.busy": "2024-05-03T19:27:00.588648Z",
     "iopub.status.idle": "2024-05-03T19:27:00.616716Z",
     "shell.execute_reply": "2024-05-03T19:27:00.616126Z"
    },
    "papermill": {
     "duration": 0.069596,
     "end_time": "2024-05-03T19:27:00.618344",
     "exception": false,
     "start_time": "2024-05-03T19:27:00.548748",
     "status": "completed"
    },
    "tags": []
   },
   "outputs": [],
   "source": [
    "df[\"annual_income\"] = df[\"annual_income\"].apply(lambda x : x.rstrip(\"_\").lstrip(\"_\") )"
   ]
  },
  {
   "cell_type": "code",
   "execution_count": 127,
   "id": "91ebac6d",
   "metadata": {
    "ExecuteTime": {
     "end_time": "2024-05-01T10:02:03.023034Z",
     "start_time": "2024-05-01T10:02:02.961145Z"
    },
    "execution": {
     "iopub.execute_input": "2024-05-03T19:27:00.699292Z",
     "iopub.status.busy": "2024-05-03T19:27:00.698664Z",
     "iopub.status.idle": "2024-05-03T19:27:00.724477Z",
     "shell.execute_reply": "2024-05-03T19:27:00.723890Z"
    },
    "papermill": {
     "duration": 0.067674,
     "end_time": "2024-05-03T19:27:00.726229",
     "exception": false,
     "start_time": "2024-05-03T19:27:00.658555",
     "status": "completed"
    },
    "tags": []
   },
   "outputs": [],
   "source": [
    "df[\"num_of_delayed_payment\"] = df[\"num_of_delayed_payment\"].apply(lambda x : x.rstrip(\"_\").lstrip(\"_\") )"
   ]
  },
  {
   "cell_type": "code",
   "execution_count": 128,
   "id": "06c46f1a",
   "metadata": {
    "ExecuteTime": {
     "end_time": "2024-05-01T10:07:54.496254Z",
     "start_time": "2024-05-01T10:07:54.444336Z"
    },
    "execution": {
     "iopub.execute_input": "2024-05-03T19:27:00.803218Z",
     "iopub.status.busy": "2024-05-03T19:27:00.802955Z",
     "iopub.status.idle": "2024-05-03T19:27:00.828769Z",
     "shell.execute_reply": "2024-05-03T19:27:00.828134Z"
    },
    "papermill": {
     "duration": 0.066078,
     "end_time": "2024-05-03T19:27:00.830307",
     "exception": false,
     "start_time": "2024-05-03T19:27:00.764229",
     "status": "completed"
    },
    "tags": []
   },
   "outputs": [],
   "source": [
    "df[\"outstanding_debt\"] = df[\"outstanding_debt\"].apply(lambda x : x.rstrip(\"_\").lstrip(\"_\") )"
   ]
  },
  {
   "cell_type": "code",
   "execution_count": 129,
   "id": "63088418",
   "metadata": {
    "ExecuteTime": {
     "end_time": "2024-05-01T08:58:44.525688Z",
     "start_time": "2024-05-01T08:58:44.459510Z"
    },
    "execution": {
     "iopub.execute_input": "2024-05-03T19:27:00.907826Z",
     "iopub.status.busy": "2024-05-03T19:27:00.907591Z",
     "iopub.status.idle": "2024-05-03T19:27:00.935501Z",
     "shell.execute_reply": "2024-05-03T19:27:00.934921Z"
    },
    "papermill": {
     "duration": 0.068785,
     "end_time": "2024-05-03T19:27:00.937233",
     "exception": false,
     "start_time": "2024-05-03T19:27:00.868448",
     "status": "completed"
    },
    "tags": []
   },
   "outputs": [],
   "source": [
    "df.drop([\"id\",\"customer_id\",\"name\",\"ssn\",\"type_of_loan\"],inplace =True,axis =1)"
   ]
  },
  {
   "cell_type": "code",
   "execution_count": 130,
   "id": "0837b036",
   "metadata": {
    "ExecuteTime": {
     "end_time": "2024-05-01T09:57:16.802447Z",
     "start_time": "2024-05-01T09:57:16.787516Z"
    },
    "execution": {
     "iopub.execute_input": "2024-05-03T19:27:01.014201Z",
     "iopub.status.busy": "2024-05-03T19:27:01.013934Z",
     "iopub.status.idle": "2024-05-03T19:27:01.018153Z",
     "shell.execute_reply": "2024-05-03T19:27:01.017607Z"
    },
    "papermill": {
     "duration": 0.044687,
     "end_time": "2024-05-03T19:27:01.019753",
     "exception": false,
     "start_time": "2024-05-03T19:27:00.975066",
     "status": "completed"
    },
    "tags": []
   },
   "outputs": [
    {
     "data": {
      "text/plain": [
       "(99935, 23)"
      ]
     },
     "execution_count": 130,
     "metadata": {},
     "output_type": "execute_result"
    }
   ],
   "source": [
    "df.shape"
   ]
  },
  {
   "cell_type": "code",
   "execution_count": 131,
   "id": "81dbcd77",
   "metadata": {
    "ExecuteTime": {
     "end_time": "2024-05-01T09:57:19.299163Z",
     "start_time": "2024-05-01T09:57:19.205312Z"
    },
    "execution": {
     "iopub.execute_input": "2024-05-03T19:27:01.097029Z",
     "iopub.status.busy": "2024-05-03T19:27:01.096802Z",
     "iopub.status.idle": "2024-05-03T19:27:01.144673Z",
     "shell.execute_reply": "2024-05-03T19:27:01.144122Z"
    },
    "papermill": {
     "duration": 0.088528,
     "end_time": "2024-05-03T19:27:01.146174",
     "exception": false,
     "start_time": "2024-05-03T19:27:01.057646",
     "status": "completed"
    },
    "tags": []
   },
   "outputs": [
    {
     "data": {
      "text/plain": [
       "month                       0\n",
       "age                         0\n",
       "occupation                  0\n",
       "annual_income               0\n",
       "monthly_inhand_salary       0\n",
       "num_bank_accounts           0\n",
       "num_credit_card             0\n",
       "interest_rate               0\n",
       "num_of_loan                 0\n",
       "delay_from_due_date         0\n",
       "num_of_delayed_payment      0\n",
       "changed_credit_limit        0\n",
       "num_credit_inquiries        0\n",
       "credit_mix                  0\n",
       "outstanding_debt            0\n",
       "credit_utilization_ratio    0\n",
       "credit_history_age          0\n",
       "payment_of_min_amount       0\n",
       "total_emi_per_month         0\n",
       "amount_invested_monthly     0\n",
       "payment_behaviour           0\n",
       "monthly_balance             0\n",
       "credit_score                0\n",
       "dtype: int64"
      ]
     },
     "execution_count": 131,
     "metadata": {},
     "output_type": "execute_result"
    }
   ],
   "source": [
    "df.isna().sum()"
   ]
  },
  {
   "cell_type": "code",
   "execution_count": 132,
   "id": "485fda7e",
   "metadata": {
    "ExecuteTime": {
     "end_time": "2024-05-01T09:57:30.792052Z",
     "start_time": "2024-05-01T09:57:22.356004Z"
    },
    "execution": {
     "iopub.execute_input": "2024-05-03T19:27:01.224318Z",
     "iopub.status.busy": "2024-05-03T19:27:01.224082Z",
     "iopub.status.idle": "2024-05-03T19:27:03.956725Z",
     "shell.execute_reply": "2024-05-03T19:27:03.955881Z"
    },
    "papermill": {
     "duration": 2.774207,
     "end_time": "2024-05-03T19:27:03.958550",
     "exception": false,
     "start_time": "2024-05-03T19:27:01.184343",
     "status": "completed"
    },
    "tags": []
   },
   "outputs": [
    {
     "name": "stdout",
     "output_type": "stream",
     "text": [
      "Total matches in column month: 0\n",
      "Total matches in column age: 0\n",
      "Total matches in column occupation: 0\n"
     ]
    },
    {
     "name": "stdout",
     "output_type": "stream",
     "text": [
      "Total matches in column annual_income: 0\n",
      "Total matches in column monthly_inhand_salary: 0\n"
     ]
    },
    {
     "name": "stdout",
     "output_type": "stream",
     "text": [
      "Total matches in column num_bank_accounts: 0\n",
      "Total matches in column num_credit_card: 0\n",
      "Total matches in column interest_rate: 0\n"
     ]
    },
    {
     "name": "stdout",
     "output_type": "stream",
     "text": [
      "Total matches in column num_of_loan: 0\n",
      "Total matches in column delay_from_due_date: 0\n",
      "Total matches in column num_of_delayed_payment: 0\n"
     ]
    },
    {
     "name": "stdout",
     "output_type": "stream",
     "text": [
      "Total matches in column changed_credit_limit: 0\n",
      "Total matches in column num_credit_inquiries: 0\n"
     ]
    },
    {
     "name": "stdout",
     "output_type": "stream",
     "text": [
      "Total matches in column credit_mix: 0\n",
      "Total matches in column outstanding_debt: 0\n"
     ]
    },
    {
     "name": "stdout",
     "output_type": "stream",
     "text": [
      "Total matches in column credit_utilization_ratio: 0\n",
      "Total matches in column credit_history_age: 0\n",
      "Total matches in column payment_of_min_amount: 0\n"
     ]
    },
    {
     "name": "stdout",
     "output_type": "stream",
     "text": [
      "Total matches in column total_emi_per_month: 0\n",
      "Total matches in column amount_invested_monthly: 0\n"
     ]
    },
    {
     "name": "stdout",
     "output_type": "stream",
     "text": [
      "Total matches in column payment_behaviour: 0\n",
      "Total matches in column monthly_balance: 0\n"
     ]
    },
    {
     "name": "stdout",
     "output_type": "stream",
     "text": [
      "Total matches in column credit_score: 0\n",
      "\u001b[43m\u001b[30mTotal matches in dataframe: 0 \u001b[0m\n"
     ]
    }
   ],
   "source": [
    "matched_re(df)"
   ]
  },
  {
   "cell_type": "markdown",
   "id": "d991e810",
   "metadata": {
    "papermill": {
     "duration": 0.041887,
     "end_time": "2024-05-03T19:27:04.041537",
     "exception": false,
     "start_time": "2024-05-03T19:27:03.999650",
     "status": "completed"
    },
    "tags": []
   },
   "source": [
    "#### ***Last version of dataset***"
   ]
  },
  {
   "cell_type": "code",
   "execution_count": 133,
   "id": "7993411e",
   "metadata": {
    "execution": {
     "iopub.execute_input": "2024-05-03T19:27:04.125982Z",
     "iopub.status.busy": "2024-05-03T19:27:04.125606Z",
     "iopub.status.idle": "2024-05-03T19:27:05.009788Z",
     "shell.execute_reply": "2024-05-03T19:27:05.008862Z"
    },
    "jupyter": {
     "source_hidden": true
    },
    "papermill": {
     "duration": 0.930198,
     "end_time": "2024-05-03T19:27:05.012416",
     "exception": false,
     "start_time": "2024-05-03T19:27:04.082218",
     "status": "completed"
    },
    "tags": []
   },
   "outputs": [],
   "source": [
    "df = pd.read_csv(\"/kaggle/input/last-version-of-dataset/dataset_final_30_04.csv\") "
   ]
  },
  {
   "cell_type": "code",
   "execution_count": 134,
   "id": "fec8ce11",
   "metadata": {
    "execution": {
     "iopub.execute_input": "2024-05-03T19:27:05.095225Z",
     "iopub.status.busy": "2024-05-03T19:27:05.094460Z",
     "iopub.status.idle": "2024-05-03T19:27:05.158776Z",
     "shell.execute_reply": "2024-05-03T19:27:05.157974Z"
    },
    "papermill": {
     "duration": 0.106862,
     "end_time": "2024-05-03T19:27:05.160375",
     "exception": false,
     "start_time": "2024-05-03T19:27:05.053513",
     "status": "completed"
    },
    "tags": []
   },
   "outputs": [
    {
     "data": {
      "text/plain": [
       "id                          0\n",
       "customer_id                 0\n",
       "month                       0\n",
       "name                        0\n",
       "age                         0\n",
       "ssn                         0\n",
       "occupation                  0\n",
       "annual_income               0\n",
       "monthly_inhand_salary       0\n",
       "num_bank_accounts           0\n",
       "num_credit_card             0\n",
       "interest_rate               0\n",
       "num_of_loan                 0\n",
       "type_of_loan                0\n",
       "delay_from_due_date         0\n",
       "num_of_delayed_payment      0\n",
       "changed_credit_limit        0\n",
       "num_credit_inquiries        0\n",
       "credit_mix                  0\n",
       "outstanding_debt            0\n",
       "credit_utilization_ratio    0\n",
       "credit_history_age          0\n",
       "payment_of_min_amount       0\n",
       "total_emi_per_month         0\n",
       "amount_invested_monthly     0\n",
       "payment_behaviour           0\n",
       "monthly_balance             0\n",
       "credit_score                0\n",
       "dtype: int64"
      ]
     },
     "execution_count": 134,
     "metadata": {},
     "output_type": "execute_result"
    }
   ],
   "source": [
    "df.isna().sum()"
   ]
  },
  {
   "cell_type": "code",
   "execution_count": 135,
   "id": "8e47a103",
   "metadata": {
    "execution": {
     "iopub.execute_input": "2024-05-03T19:27:05.240496Z",
     "iopub.status.busy": "2024-05-03T19:27:05.240163Z",
     "iopub.status.idle": "2024-05-03T19:27:05.254857Z",
     "shell.execute_reply": "2024-05-03T19:27:05.254024Z"
    },
    "papermill": {
     "duration": 0.05742,
     "end_time": "2024-05-03T19:27:05.256692",
     "exception": false,
     "start_time": "2024-05-03T19:27:05.199272",
     "status": "completed"
    },
    "tags": []
   },
   "outputs": [],
   "source": [
    "df.drop([\"id\",\"customer_id\",\"name\",\"ssn\",\"type_of_loan\"],axis=1,inplace = True)"
   ]
  },
  {
   "cell_type": "code",
   "execution_count": 136,
   "id": "0c6a9d7d",
   "metadata": {
    "execution": {
     "iopub.execute_input": "2024-05-03T19:27:05.336030Z",
     "iopub.status.busy": "2024-05-03T19:27:05.335744Z",
     "iopub.status.idle": "2024-05-03T19:27:05.354523Z",
     "shell.execute_reply": "2024-05-03T19:27:05.353587Z"
    },
    "papermill": {
     "duration": 0.060678,
     "end_time": "2024-05-03T19:27:05.356340",
     "exception": false,
     "start_time": "2024-05-03T19:27:05.295662",
     "status": "completed"
    },
    "tags": []
   },
   "outputs": [
    {
     "data": {
      "text/html": [
       "<div>\n",
       "<style scoped>\n",
       "    .dataframe tbody tr th:only-of-type {\n",
       "        vertical-align: middle;\n",
       "    }\n",
       "\n",
       "    .dataframe tbody tr th {\n",
       "        vertical-align: top;\n",
       "    }\n",
       "\n",
       "    .dataframe thead th {\n",
       "        text-align: right;\n",
       "    }\n",
       "</style>\n",
       "<table border=\"1\" class=\"dataframe\">\n",
       "  <thead>\n",
       "    <tr style=\"text-align: right;\">\n",
       "      <th></th>\n",
       "      <th>month</th>\n",
       "      <th>age</th>\n",
       "      <th>occupation</th>\n",
       "      <th>annual_income</th>\n",
       "      <th>monthly_inhand_salary</th>\n",
       "      <th>num_bank_accounts</th>\n",
       "      <th>num_credit_card</th>\n",
       "      <th>interest_rate</th>\n",
       "      <th>num_of_loan</th>\n",
       "      <th>delay_from_due_date</th>\n",
       "      <th>num_of_delayed_payment</th>\n",
       "      <th>changed_credit_limit</th>\n",
       "      <th>num_credit_inquiries</th>\n",
       "      <th>credit_mix</th>\n",
       "      <th>outstanding_debt</th>\n",
       "      <th>credit_utilization_ratio</th>\n",
       "      <th>credit_history_age</th>\n",
       "      <th>payment_of_min_amount</th>\n",
       "      <th>total_emi_per_month</th>\n",
       "      <th>amount_invested_monthly</th>\n",
       "      <th>payment_behaviour</th>\n",
       "      <th>monthly_balance</th>\n",
       "      <th>credit_score</th>\n",
       "    </tr>\n",
       "  </thead>\n",
       "  <tbody>\n",
       "    <tr>\n",
       "      <th>2867</th>\n",
       "      <td>April</td>\n",
       "      <td>18.000</td>\n",
       "      <td>Engineer</td>\n",
       "      <td>15119.56</td>\n",
       "      <td>1209.963</td>\n",
       "      <td>6</td>\n",
       "      <td>5</td>\n",
       "      <td>29</td>\n",
       "      <td>6</td>\n",
       "      <td>29</td>\n",
       "      <td>18</td>\n",
       "      <td>21.630</td>\n",
       "      <td>11.000</td>\n",
       "      <td>Bad</td>\n",
       "      <td>3154.07</td>\n",
       "      <td>41.279</td>\n",
       "      <td>154</td>\n",
       "      <td>Yes</td>\n",
       "      <td>58.211</td>\n",
       "      <td>66.176</td>\n",
       "      <td>Low_spent_Small_value_payments</td>\n",
       "      <td>286.609</td>\n",
       "      <td>Standard</td>\n",
       "    </tr>\n",
       "    <tr>\n",
       "      <th>35074</th>\n",
       "      <td>March</td>\n",
       "      <td>19.000</td>\n",
       "      <td>Mechanic</td>\n",
       "      <td>17414.3</td>\n",
       "      <td>1285.192</td>\n",
       "      <td>3</td>\n",
       "      <td>7</td>\n",
       "      <td>34</td>\n",
       "      <td>5</td>\n",
       "      <td>25</td>\n",
       "      <td>11</td>\n",
       "      <td>15.920</td>\n",
       "      <td>6.000</td>\n",
       "      <td>Standard</td>\n",
       "      <td>2500.7</td>\n",
       "      <td>31.370</td>\n",
       "      <td>179</td>\n",
       "      <td>Yes</td>\n",
       "      <td>61.170</td>\n",
       "      <td>72.679</td>\n",
       "      <td>Low_spent_Small_value_payments</td>\n",
       "      <td>284.671</td>\n",
       "      <td>Poor</td>\n",
       "    </tr>\n",
       "    <tr>\n",
       "      <th>24937</th>\n",
       "      <td>February</td>\n",
       "      <td>48.000</td>\n",
       "      <td>Media_Manager</td>\n",
       "      <td>19042.55</td>\n",
       "      <td>1716.879</td>\n",
       "      <td>3</td>\n",
       "      <td>7</td>\n",
       "      <td>15</td>\n",
       "      <td>12</td>\n",
       "      <td>10</td>\n",
       "      <td>16</td>\n",
       "      <td>13.300</td>\n",
       "      <td>1.000</td>\n",
       "      <td>Standard</td>\n",
       "      <td>36.36</td>\n",
       "      <td>39.233</td>\n",
       "      <td>267</td>\n",
       "      <td>Yes</td>\n",
       "      <td>0.000</td>\n",
       "      <td>231.084</td>\n",
       "      <td>Low_spent_Small_value_payments</td>\n",
       "      <td>230.604</td>\n",
       "      <td>Standard</td>\n",
       "    </tr>\n",
       "    <tr>\n",
       "      <th>45220</th>\n",
       "      <td>May</td>\n",
       "      <td>39.000</td>\n",
       "      <td>Teacher</td>\n",
       "      <td>83418.18</td>\n",
       "      <td>7113.515</td>\n",
       "      <td>0</td>\n",
       "      <td>4</td>\n",
       "      <td>6</td>\n",
       "      <td>1</td>\n",
       "      <td>16</td>\n",
       "      <td>6</td>\n",
       "      <td>11.900</td>\n",
       "      <td>2.000</td>\n",
       "      <td>Good</td>\n",
       "      <td>972.51</td>\n",
       "      <td>32.115</td>\n",
       "      <td>361</td>\n",
       "      <td>No</td>\n",
       "      <td>59.584</td>\n",
       "      <td>126.233</td>\n",
       "      <td>High_spent_Large_value_payments</td>\n",
       "      <td>765.535</td>\n",
       "      <td>Standard</td>\n",
       "    </tr>\n",
       "    <tr>\n",
       "      <th>93357</th>\n",
       "      <td>June</td>\n",
       "      <td>31.000</td>\n",
       "      <td>Manager</td>\n",
       "      <td>70543.77</td>\n",
       "      <td>5986.648</td>\n",
       "      <td>5</td>\n",
       "      <td>5</td>\n",
       "      <td>16</td>\n",
       "      <td>4</td>\n",
       "      <td>16</td>\n",
       "      <td>15</td>\n",
       "      <td>17.680</td>\n",
       "      <td>7.000</td>\n",
       "      <td>Standard</td>\n",
       "      <td>1395.86</td>\n",
       "      <td>28.623</td>\n",
       "      <td>290</td>\n",
       "      <td>NM</td>\n",
       "      <td>218.011</td>\n",
       "      <td>258.243</td>\n",
       "      <td>High_spent_Large_value_payments</td>\n",
       "      <td>577.307</td>\n",
       "      <td>Standard</td>\n",
       "    </tr>\n",
       "    <tr>\n",
       "      <th>5436</th>\n",
       "      <td>May</td>\n",
       "      <td>18.000</td>\n",
       "      <td>Journalist</td>\n",
       "      <td>71368.6</td>\n",
       "      <td>5844.383</td>\n",
       "      <td>6</td>\n",
       "      <td>3</td>\n",
       "      <td>6</td>\n",
       "      <td>12</td>\n",
       "      <td>19</td>\n",
       "      <td>15</td>\n",
       "      <td>10.880</td>\n",
       "      <td>8.000</td>\n",
       "      <td>Standard</td>\n",
       "      <td>1161.1</td>\n",
       "      <td>31.816</td>\n",
       "      <td>335</td>\n",
       "      <td>Yes</td>\n",
       "      <td>0.000</td>\n",
       "      <td>211.303</td>\n",
       "      <td>Low_spent_Medium_value_payments</td>\n",
       "      <td>653.135</td>\n",
       "      <td>Standard</td>\n",
       "    </tr>\n",
       "    <tr>\n",
       "      <th>86154</th>\n",
       "      <td>March</td>\n",
       "      <td>19.000</td>\n",
       "      <td>Musician</td>\n",
       "      <td>24293.22</td>\n",
       "      <td>1906.435</td>\n",
       "      <td>4</td>\n",
       "      <td>7</td>\n",
       "      <td>14</td>\n",
       "      <td>3</td>\n",
       "      <td>5</td>\n",
       "      <td>18</td>\n",
       "      <td>11.660</td>\n",
       "      <td>2.000</td>\n",
       "      <td>Standard</td>\n",
       "      <td>62.26</td>\n",
       "      <td>38.396</td>\n",
       "      <td>255</td>\n",
       "      <td>No</td>\n",
       "      <td>55.439</td>\n",
       "      <td>72.801</td>\n",
       "      <td>High_spent_Medium_value_payments</td>\n",
       "      <td>312.403</td>\n",
       "      <td>Standard</td>\n",
       "    </tr>\n",
       "    <tr>\n",
       "      <th>38216</th>\n",
       "      <td>January</td>\n",
       "      <td>18.000</td>\n",
       "      <td>Journalist</td>\n",
       "      <td>9092.87</td>\n",
       "      <td>477.739</td>\n",
       "      <td>6</td>\n",
       "      <td>6</td>\n",
       "      <td>16</td>\n",
       "      <td>5</td>\n",
       "      <td>11</td>\n",
       "      <td>17</td>\n",
       "      <td>15.800</td>\n",
       "      <td>8.000</td>\n",
       "      <td>Standard</td>\n",
       "      <td>2216.91</td>\n",
       "      <td>35.479</td>\n",
       "      <td>92</td>\n",
       "      <td>Yes</td>\n",
       "      <td>30.733</td>\n",
       "      <td>50.045</td>\n",
       "      <td>Low_spent_Medium_value_payments</td>\n",
       "      <td>256.995</td>\n",
       "      <td>Standard</td>\n",
       "    </tr>\n",
       "    <tr>\n",
       "      <th>48198</th>\n",
       "      <td>July</td>\n",
       "      <td>41.000</td>\n",
       "      <td>Engineer</td>\n",
       "      <td>15957.41</td>\n",
       "      <td>1039.784</td>\n",
       "      <td>8</td>\n",
       "      <td>5</td>\n",
       "      <td>7</td>\n",
       "      <td>3</td>\n",
       "      <td>18</td>\n",
       "      <td>19</td>\n",
       "      <td>16.330</td>\n",
       "      <td>4.000</td>\n",
       "      <td>Standard</td>\n",
       "      <td>1269.87</td>\n",
       "      <td>37.501</td>\n",
       "      <td>129</td>\n",
       "      <td>Yes</td>\n",
       "      <td>25.049</td>\n",
       "      <td>73.459</td>\n",
       "      <td>Low_spent_Small_value_payments</td>\n",
       "      <td>295.471</td>\n",
       "      <td>Standard</td>\n",
       "    </tr>\n",
       "    <tr>\n",
       "      <th>83952</th>\n",
       "      <td>January</td>\n",
       "      <td>14.000</td>\n",
       "      <td>Manager</td>\n",
       "      <td>61922.24</td>\n",
       "      <td>5418.187</td>\n",
       "      <td>6</td>\n",
       "      <td>9</td>\n",
       "      <td>18</td>\n",
       "      <td>9</td>\n",
       "      <td>25</td>\n",
       "      <td>19</td>\n",
       "      <td>23.280</td>\n",
       "      <td>12.000</td>\n",
       "      <td>Bad</td>\n",
       "      <td>4678.77</td>\n",
       "      <td>25.661</td>\n",
       "      <td>40</td>\n",
       "      <td>Yes</td>\n",
       "      <td>336.015</td>\n",
       "      <td>131.642</td>\n",
       "      <td>High_spent_Large_value_payments</td>\n",
       "      <td>314.162</td>\n",
       "      <td>Poor</td>\n",
       "    </tr>\n",
       "  </tbody>\n",
       "</table>\n",
       "</div>"
      ],
      "text/plain": [
       "          month    age     occupation annual_income  monthly_inhand_salary  \\\n",
       "2867      April 18.000       Engineer      15119.56               1209.963   \n",
       "35074     March 19.000       Mechanic       17414.3               1285.192   \n",
       "24937  February 48.000  Media_Manager      19042.55               1716.879   \n",
       "45220       May 39.000        Teacher      83418.18               7113.515   \n",
       "93357      June 31.000        Manager      70543.77               5986.648   \n",
       "5436        May 18.000     Journalist       71368.6               5844.383   \n",
       "86154     March 19.000       Musician      24293.22               1906.435   \n",
       "38216   January 18.000     Journalist       9092.87                477.739   \n",
       "48198      July 41.000       Engineer      15957.41               1039.784   \n",
       "83952   January 14.000        Manager      61922.24               5418.187   \n",
       "\n",
       "       num_bank_accounts  num_credit_card  interest_rate  num_of_loan  \\\n",
       "2867                   6                5             29            6   \n",
       "35074                  3                7             34            5   \n",
       "24937                  3                7             15           12   \n",
       "45220                  0                4              6            1   \n",
       "93357                  5                5             16            4   \n",
       "5436                   6                3              6           12   \n",
       "86154                  4                7             14            3   \n",
       "38216                  6                6             16            5   \n",
       "48198                  8                5              7            3   \n",
       "83952                  6                9             18            9   \n",
       "\n",
       "       delay_from_due_date num_of_delayed_payment  changed_credit_limit  \\\n",
       "2867                    29                     18                21.630   \n",
       "35074                   25                     11                15.920   \n",
       "24937                   10                     16                13.300   \n",
       "45220                   16                      6                11.900   \n",
       "93357                   16                     15                17.680   \n",
       "5436                    19                     15                10.880   \n",
       "86154                    5                     18                11.660   \n",
       "38216                   11                     17                15.800   \n",
       "48198                   18                     19                16.330   \n",
       "83952                   25                     19                23.280   \n",
       "\n",
       "       num_credit_inquiries credit_mix outstanding_debt  \\\n",
       "2867                 11.000        Bad          3154.07   \n",
       "35074                 6.000   Standard           2500.7   \n",
       "24937                 1.000   Standard            36.36   \n",
       "45220                 2.000       Good           972.51   \n",
       "93357                 7.000   Standard          1395.86   \n",
       "5436                  8.000   Standard           1161.1   \n",
       "86154                 2.000   Standard            62.26   \n",
       "38216                 8.000   Standard          2216.91   \n",
       "48198                 4.000   Standard          1269.87   \n",
       "83952                12.000        Bad          4678.77   \n",
       "\n",
       "       credit_utilization_ratio  credit_history_age payment_of_min_amount  \\\n",
       "2867                     41.279                 154                   Yes   \n",
       "35074                    31.370                 179                   Yes   \n",
       "24937                    39.233                 267                   Yes   \n",
       "45220                    32.115                 361                    No   \n",
       "93357                    28.623                 290                    NM   \n",
       "5436                     31.816                 335                   Yes   \n",
       "86154                    38.396                 255                    No   \n",
       "38216                    35.479                  92                   Yes   \n",
       "48198                    37.501                 129                   Yes   \n",
       "83952                    25.661                  40                   Yes   \n",
       "\n",
       "       total_emi_per_month  amount_invested_monthly  \\\n",
       "2867                58.211                   66.176   \n",
       "35074               61.170                   72.679   \n",
       "24937                0.000                  231.084   \n",
       "45220               59.584                  126.233   \n",
       "93357              218.011                  258.243   \n",
       "5436                 0.000                  211.303   \n",
       "86154               55.439                   72.801   \n",
       "38216               30.733                   50.045   \n",
       "48198               25.049                   73.459   \n",
       "83952              336.015                  131.642   \n",
       "\n",
       "                      payment_behaviour  monthly_balance credit_score  \n",
       "2867     Low_spent_Small_value_payments          286.609     Standard  \n",
       "35074    Low_spent_Small_value_payments          284.671         Poor  \n",
       "24937    Low_spent_Small_value_payments          230.604     Standard  \n",
       "45220   High_spent_Large_value_payments          765.535     Standard  \n",
       "93357   High_spent_Large_value_payments          577.307     Standard  \n",
       "5436    Low_spent_Medium_value_payments          653.135     Standard  \n",
       "86154  High_spent_Medium_value_payments          312.403     Standard  \n",
       "38216   Low_spent_Medium_value_payments          256.995     Standard  \n",
       "48198    Low_spent_Small_value_payments          295.471     Standard  \n",
       "83952   High_spent_Large_value_payments          314.162         Poor  "
      ]
     },
     "execution_count": 136,
     "metadata": {},
     "output_type": "execute_result"
    }
   ],
   "source": [
    "df.sample(10)"
   ]
  },
  {
   "cell_type": "code",
   "execution_count": 137,
   "id": "e3f30e5c",
   "metadata": {
    "execution": {
     "iopub.execute_input": "2024-05-03T19:27:05.436748Z",
     "iopub.status.busy": "2024-05-03T19:27:05.436193Z",
     "iopub.status.idle": "2024-05-03T19:27:05.879408Z",
     "shell.execute_reply": "2024-05-03T19:27:05.878421Z"
    },
    "papermill": {
     "duration": 0.485984,
     "end_time": "2024-05-03T19:27:05.881620",
     "exception": false,
     "start_time": "2024-05-03T19:27:05.395636",
     "status": "completed"
    },
    "tags": []
   },
   "outputs": [],
   "source": [
    "df = df.replace(\"_\",\"\",regex=True)"
   ]
  },
  {
   "cell_type": "code",
   "execution_count": 138,
   "id": "32cef3fb",
   "metadata": {
    "execution": {
     "iopub.execute_input": "2024-05-03T19:27:05.999039Z",
     "iopub.status.busy": "2024-05-03T19:27:05.998732Z",
     "iopub.status.idle": "2024-05-03T19:27:06.014667Z",
     "shell.execute_reply": "2024-05-03T19:27:06.013726Z"
    },
    "papermill": {
     "duration": 0.058714,
     "end_time": "2024-05-03T19:27:06.016438",
     "exception": false,
     "start_time": "2024-05-03T19:27:05.957724",
     "status": "completed"
    },
    "tags": []
   },
   "outputs": [
    {
     "data": {
      "text/html": [
       "<div>\n",
       "<style scoped>\n",
       "    .dataframe tbody tr th:only-of-type {\n",
       "        vertical-align: middle;\n",
       "    }\n",
       "\n",
       "    .dataframe tbody tr th {\n",
       "        vertical-align: top;\n",
       "    }\n",
       "\n",
       "    .dataframe thead th {\n",
       "        text-align: right;\n",
       "    }\n",
       "</style>\n",
       "<table border=\"1\" class=\"dataframe\">\n",
       "  <thead>\n",
       "    <tr style=\"text-align: right;\">\n",
       "      <th></th>\n",
       "      <th>month</th>\n",
       "      <th>age</th>\n",
       "      <th>occupation</th>\n",
       "      <th>annual_income</th>\n",
       "      <th>monthly_inhand_salary</th>\n",
       "      <th>num_bank_accounts</th>\n",
       "      <th>num_credit_card</th>\n",
       "      <th>interest_rate</th>\n",
       "      <th>num_of_loan</th>\n",
       "      <th>delay_from_due_date</th>\n",
       "      <th>num_of_delayed_payment</th>\n",
       "      <th>changed_credit_limit</th>\n",
       "      <th>num_credit_inquiries</th>\n",
       "      <th>credit_mix</th>\n",
       "      <th>outstanding_debt</th>\n",
       "      <th>credit_utilization_ratio</th>\n",
       "      <th>credit_history_age</th>\n",
       "      <th>payment_of_min_amount</th>\n",
       "      <th>total_emi_per_month</th>\n",
       "      <th>amount_invested_monthly</th>\n",
       "      <th>payment_behaviour</th>\n",
       "      <th>monthly_balance</th>\n",
       "      <th>credit_score</th>\n",
       "    </tr>\n",
       "  </thead>\n",
       "  <tbody>\n",
       "    <tr>\n",
       "      <th>67491</th>\n",
       "      <td>April</td>\n",
       "      <td>22.000</td>\n",
       "      <td>Teacher</td>\n",
       "      <td>104849.82</td>\n",
       "      <td>8744.485</td>\n",
       "      <td>4</td>\n",
       "      <td>6</td>\n",
       "      <td>18</td>\n",
       "      <td>12</td>\n",
       "      <td>29</td>\n",
       "      <td>12</td>\n",
       "      <td>18.280</td>\n",
       "      <td>1.000</td>\n",
       "      <td>Standard</td>\n",
       "      <td>1439.21</td>\n",
       "      <td>27.590</td>\n",
       "      <td>257</td>\n",
       "      <td>Yes</td>\n",
       "      <td>0.000</td>\n",
       "      <td>168.072</td>\n",
       "      <td>HighspentLargevaluepayments</td>\n",
       "      <td>946.376</td>\n",
       "      <td>Good</td>\n",
       "    </tr>\n",
       "  </tbody>\n",
       "</table>\n",
       "</div>"
      ],
      "text/plain": [
       "       month    age occupation annual_income  monthly_inhand_salary  \\\n",
       "67491  April 22.000    Teacher     104849.82               8744.485   \n",
       "\n",
       "       num_bank_accounts  num_credit_card  interest_rate  num_of_loan  \\\n",
       "67491                  4                6             18           12   \n",
       "\n",
       "       delay_from_due_date num_of_delayed_payment  changed_credit_limit  \\\n",
       "67491                   29                     12                18.280   \n",
       "\n",
       "       num_credit_inquiries credit_mix outstanding_debt  \\\n",
       "67491                 1.000   Standard          1439.21   \n",
       "\n",
       "       credit_utilization_ratio  credit_history_age payment_of_min_amount  \\\n",
       "67491                    27.590                 257                   Yes   \n",
       "\n",
       "       total_emi_per_month  amount_invested_monthly  \\\n",
       "67491                0.000                  168.072   \n",
       "\n",
       "                 payment_behaviour  monthly_balance credit_score  \n",
       "67491  HighspentLargevaluepayments          946.376         Good  "
      ]
     },
     "execution_count": 138,
     "metadata": {},
     "output_type": "execute_result"
    }
   ],
   "source": [
    "df.loc[[67491]]"
   ]
  },
  {
   "cell_type": "code",
   "execution_count": 139,
   "id": "26e4a685",
   "metadata": {
    "execution": {
     "iopub.execute_input": "2024-05-03T19:27:06.096971Z",
     "iopub.status.busy": "2024-05-03T19:27:06.096701Z",
     "iopub.status.idle": "2024-05-03T19:27:06.101526Z",
     "shell.execute_reply": "2024-05-03T19:27:06.100768Z"
    },
    "papermill": {
     "duration": 0.047315,
     "end_time": "2024-05-03T19:27:06.103424",
     "exception": false,
     "start_time": "2024-05-03T19:27:06.056109",
     "status": "completed"
    },
    "tags": []
   },
   "outputs": [
    {
     "data": {
      "text/plain": [
       "(99935, 23)"
      ]
     },
     "execution_count": 139,
     "metadata": {},
     "output_type": "execute_result"
    }
   ],
   "source": [
    "df.shape"
   ]
  },
  {
   "cell_type": "code",
   "execution_count": 140,
   "id": "0d563e9d",
   "metadata": {
    "execution": {
     "iopub.execute_input": "2024-05-03T19:27:06.184694Z",
     "iopub.status.busy": "2024-05-03T19:27:06.184407Z",
     "iopub.status.idle": "2024-05-03T19:27:06.202258Z",
     "shell.execute_reply": "2024-05-03T19:27:06.201492Z"
    },
    "papermill": {
     "duration": 0.060319,
     "end_time": "2024-05-03T19:27:06.204115",
     "exception": false,
     "start_time": "2024-05-03T19:27:06.143796",
     "status": "completed"
    },
    "tags": []
   },
   "outputs": [
    {
     "data": {
      "text/html": [
       "<div>\n",
       "<style scoped>\n",
       "    .dataframe tbody tr th:only-of-type {\n",
       "        vertical-align: middle;\n",
       "    }\n",
       "\n",
       "    .dataframe tbody tr th {\n",
       "        vertical-align: top;\n",
       "    }\n",
       "\n",
       "    .dataframe thead th {\n",
       "        text-align: right;\n",
       "    }\n",
       "</style>\n",
       "<table border=\"1\" class=\"dataframe\">\n",
       "  <thead>\n",
       "    <tr style=\"text-align: right;\">\n",
       "      <th></th>\n",
       "      <th>month</th>\n",
       "      <th>age</th>\n",
       "      <th>occupation</th>\n",
       "      <th>annual_income</th>\n",
       "      <th>monthly_inhand_salary</th>\n",
       "      <th>num_bank_accounts</th>\n",
       "      <th>num_credit_card</th>\n",
       "      <th>interest_rate</th>\n",
       "      <th>num_of_loan</th>\n",
       "      <th>delay_from_due_date</th>\n",
       "      <th>num_of_delayed_payment</th>\n",
       "      <th>changed_credit_limit</th>\n",
       "      <th>num_credit_inquiries</th>\n",
       "      <th>credit_mix</th>\n",
       "      <th>outstanding_debt</th>\n",
       "      <th>credit_utilization_ratio</th>\n",
       "      <th>credit_history_age</th>\n",
       "      <th>payment_of_min_amount</th>\n",
       "      <th>total_emi_per_month</th>\n",
       "      <th>amount_invested_monthly</th>\n",
       "      <th>payment_behaviour</th>\n",
       "      <th>monthly_balance</th>\n",
       "      <th>credit_score</th>\n",
       "    </tr>\n",
       "  </thead>\n",
       "  <tbody>\n",
       "    <tr>\n",
       "      <th>99936</th>\n",
       "      <td>January</td>\n",
       "      <td>47.000</td>\n",
       "      <td>Developer</td>\n",
       "      <td>22620.79</td>\n",
       "      <td>1722.066</td>\n",
       "      <td>7</td>\n",
       "      <td>3</td>\n",
       "      <td>9</td>\n",
       "      <td>12</td>\n",
       "      <td>27</td>\n",
       "      <td>18</td>\n",
       "      <td>5.310</td>\n",
       "      <td>2.000</td>\n",
       "      <td>Standard</td>\n",
       "      <td>642.46</td>\n",
       "      <td>31.606</td>\n",
       "      <td>351</td>\n",
       "      <td>No</td>\n",
       "      <td>0.000</td>\n",
       "      <td>56.073</td>\n",
       "      <td>HighspentMediumvaluepayments</td>\n",
       "      <td>366.134</td>\n",
       "      <td>Standard</td>\n",
       "    </tr>\n",
       "    <tr>\n",
       "      <th>27462</th>\n",
       "      <td>July</td>\n",
       "      <td>38.000</td>\n",
       "      <td>Writer</td>\n",
       "      <td>55139.82</td>\n",
       "      <td>4703.985</td>\n",
       "      <td>3</td>\n",
       "      <td>4</td>\n",
       "      <td>5</td>\n",
       "      <td>4</td>\n",
       "      <td>28</td>\n",
       "      <td>10</td>\n",
       "      <td>8.400</td>\n",
       "      <td>11.000</td>\n",
       "      <td>Standard</td>\n",
       "      <td>95.73</td>\n",
       "      <td>35.019</td>\n",
       "      <td>303</td>\n",
       "      <td>Yes</td>\n",
       "      <td>110.392</td>\n",
       "      <td>363.508</td>\n",
       "      <td>LowspentSmallvaluepayments</td>\n",
       "      <td>286.499</td>\n",
       "      <td>Standard</td>\n",
       "    </tr>\n",
       "    <tr>\n",
       "      <th>91030</th>\n",
       "      <td>July</td>\n",
       "      <td>25.000</td>\n",
       "      <td>Lawyer</td>\n",
       "      <td>129903.0</td>\n",
       "      <td>10705.250</td>\n",
       "      <td>4</td>\n",
       "      <td>6</td>\n",
       "      <td>8</td>\n",
       "      <td>2</td>\n",
       "      <td>6</td>\n",
       "      <td>8</td>\n",
       "      <td>8.160</td>\n",
       "      <td>4.000</td>\n",
       "      <td>Good</td>\n",
       "      <td>585.74</td>\n",
       "      <td>28.818</td>\n",
       "      <td>199</td>\n",
       "      <td>No</td>\n",
       "      <td>170.012</td>\n",
       "      <td>234.981</td>\n",
       "      <td>HighspentLargevaluepayments</td>\n",
       "      <td>941.536</td>\n",
       "      <td>Standard</td>\n",
       "    </tr>\n",
       "    <tr>\n",
       "      <th>67020</th>\n",
       "      <td>May</td>\n",
       "      <td>18.000</td>\n",
       "      <td>Engineer</td>\n",
       "      <td>7632.555</td>\n",
       "      <td>476.046</td>\n",
       "      <td>7</td>\n",
       "      <td>8</td>\n",
       "      <td>32</td>\n",
       "      <td>6</td>\n",
       "      <td>12</td>\n",
       "      <td>10</td>\n",
       "      <td>15.260</td>\n",
       "      <td>7.000</td>\n",
       "      <td>Standard</td>\n",
       "      <td>1401.9</td>\n",
       "      <td>39.924</td>\n",
       "      <td>149</td>\n",
       "      <td>Yes</td>\n",
       "      <td>34.929</td>\n",
       "      <td>26.260</td>\n",
       "      <td>LowspentSmallvaluepayments</td>\n",
       "      <td>276.416</td>\n",
       "      <td>Poor</td>\n",
       "    </tr>\n",
       "    <tr>\n",
       "      <th>21041</th>\n",
       "      <td>February</td>\n",
       "      <td>23.000</td>\n",
       "      <td>Architect</td>\n",
       "      <td>99663.0</td>\n",
       "      <td>8551.250</td>\n",
       "      <td>5</td>\n",
       "      <td>3</td>\n",
       "      <td>7</td>\n",
       "      <td>4</td>\n",
       "      <td>15</td>\n",
       "      <td>0</td>\n",
       "      <td>11.500</td>\n",
       "      <td>4.000</td>\n",
       "      <td>Good</td>\n",
       "      <td>96.62</td>\n",
       "      <td>27.185</td>\n",
       "      <td>245</td>\n",
       "      <td>NM</td>\n",
       "      <td>293.318</td>\n",
       "      <td>442.242</td>\n",
       "      <td>LowspentMediumvaluepayments</td>\n",
       "      <td>399.564</td>\n",
       "      <td>Good</td>\n",
       "    </tr>\n",
       "    <tr>\n",
       "      <th>22057</th>\n",
       "      <td>February</td>\n",
       "      <td>26.000</td>\n",
       "      <td>Scientist</td>\n",
       "      <td>9846.615</td>\n",
       "      <td>826.551</td>\n",
       "      <td>8</td>\n",
       "      <td>5</td>\n",
       "      <td>19</td>\n",
       "      <td>8</td>\n",
       "      <td>26</td>\n",
       "      <td>17</td>\n",
       "      <td>1.550</td>\n",
       "      <td>12.000</td>\n",
       "      <td>Bad</td>\n",
       "      <td>4121.85</td>\n",
       "      <td>37.470</td>\n",
       "      <td>76</td>\n",
       "      <td>Yes</td>\n",
       "      <td>33.196</td>\n",
       "      <td>31.295</td>\n",
       "      <td>LowspentLargevaluepayments</td>\n",
       "      <td>247.918</td>\n",
       "      <td>Poor</td>\n",
       "    </tr>\n",
       "    <tr>\n",
       "      <th>94340</th>\n",
       "      <td>May</td>\n",
       "      <td>21.000</td>\n",
       "      <td>Lawyer</td>\n",
       "      <td>68751.75</td>\n",
       "      <td>5468.312</td>\n",
       "      <td>6</td>\n",
       "      <td>3</td>\n",
       "      <td>10</td>\n",
       "      <td>12</td>\n",
       "      <td>25</td>\n",
       "      <td>14</td>\n",
       "      <td>11.610</td>\n",
       "      <td>1.000</td>\n",
       "      <td>Good</td>\n",
       "      <td>64.47</td>\n",
       "      <td>38.421</td>\n",
       "      <td>357</td>\n",
       "      <td>No</td>\n",
       "      <td>0.000</td>\n",
       "      <td>206.385</td>\n",
       "      <td>LowspentSmallvaluepayments</td>\n",
       "      <td>630.446</td>\n",
       "      <td>Good</td>\n",
       "    </tr>\n",
       "    <tr>\n",
       "      <th>93680</th>\n",
       "      <td>January</td>\n",
       "      <td>38.000</td>\n",
       "      <td>Teacher</td>\n",
       "      <td>20528.59</td>\n",
       "      <td>1900.716</td>\n",
       "      <td>6</td>\n",
       "      <td>7</td>\n",
       "      <td>32</td>\n",
       "      <td>9</td>\n",
       "      <td>61</td>\n",
       "      <td>15</td>\n",
       "      <td>28.490</td>\n",
       "      <td>12.000</td>\n",
       "      <td>Bad</td>\n",
       "      <td>3578.54</td>\n",
       "      <td>34.261</td>\n",
       "      <td>63</td>\n",
       "      <td>Yes</td>\n",
       "      <td>127.902</td>\n",
       "      <td>131.368</td>\n",
       "      <td>HighspentSmallvaluepayments</td>\n",
       "      <td>190.802</td>\n",
       "      <td>Poor</td>\n",
       "    </tr>\n",
       "    <tr>\n",
       "      <th>76931</th>\n",
       "      <td>April</td>\n",
       "      <td>51.000</td>\n",
       "      <td>Teacher</td>\n",
       "      <td>30961.62</td>\n",
       "      <td>2283.135</td>\n",
       "      <td>5</td>\n",
       "      <td>7</td>\n",
       "      <td>11</td>\n",
       "      <td>12</td>\n",
       "      <td>10</td>\n",
       "      <td>6</td>\n",
       "      <td>6.520</td>\n",
       "      <td>1.000</td>\n",
       "      <td>Good</td>\n",
       "      <td>1304.15</td>\n",
       "      <td>27.978</td>\n",
       "      <td>309</td>\n",
       "      <td>No</td>\n",
       "      <td>0.000</td>\n",
       "      <td>254.709</td>\n",
       "      <td>LowspentSmallvaluepayments</td>\n",
       "      <td>263.604</td>\n",
       "      <td>Poor</td>\n",
       "    </tr>\n",
       "    <tr>\n",
       "      <th>94449</th>\n",
       "      <td>February</td>\n",
       "      <td>27.000</td>\n",
       "      <td>Mechanic</td>\n",
       "      <td>34428.72</td>\n",
       "      <td>2923.060</td>\n",
       "      <td>4</td>\n",
       "      <td>3</td>\n",
       "      <td>9</td>\n",
       "      <td>5</td>\n",
       "      <td>6</td>\n",
       "      <td>18</td>\n",
       "      <td>18.480</td>\n",
       "      <td>8.000</td>\n",
       "      <td>Standard</td>\n",
       "      <td>478.11</td>\n",
       "      <td>39.874</td>\n",
       "      <td>92</td>\n",
       "      <td>NM</td>\n",
       "      <td>130.019</td>\n",
       "      <td>180.179</td>\n",
       "      <td>HighspentSmallvaluepayments</td>\n",
       "      <td>242.108</td>\n",
       "      <td>Standard</td>\n",
       "    </tr>\n",
       "  </tbody>\n",
       "</table>\n",
       "</div>"
      ],
      "text/plain": [
       "          month    age occupation annual_income  monthly_inhand_salary  \\\n",
       "99936   January 47.000  Developer      22620.79               1722.066   \n",
       "27462      July 38.000     Writer      55139.82               4703.985   \n",
       "91030      July 25.000     Lawyer      129903.0              10705.250   \n",
       "67020       May 18.000   Engineer      7632.555                476.046   \n",
       "21041  February 23.000  Architect       99663.0               8551.250   \n",
       "22057  February 26.000  Scientist      9846.615                826.551   \n",
       "94340       May 21.000     Lawyer      68751.75               5468.312   \n",
       "93680   January 38.000    Teacher      20528.59               1900.716   \n",
       "76931     April 51.000    Teacher      30961.62               2283.135   \n",
       "94449  February 27.000   Mechanic      34428.72               2923.060   \n",
       "\n",
       "       num_bank_accounts  num_credit_card  interest_rate  num_of_loan  \\\n",
       "99936                  7                3              9           12   \n",
       "27462                  3                4              5            4   \n",
       "91030                  4                6              8            2   \n",
       "67020                  7                8             32            6   \n",
       "21041                  5                3              7            4   \n",
       "22057                  8                5             19            8   \n",
       "94340                  6                3             10           12   \n",
       "93680                  6                7             32            9   \n",
       "76931                  5                7             11           12   \n",
       "94449                  4                3              9            5   \n",
       "\n",
       "       delay_from_due_date num_of_delayed_payment  changed_credit_limit  \\\n",
       "99936                   27                     18                 5.310   \n",
       "27462                   28                     10                 8.400   \n",
       "91030                    6                      8                 8.160   \n",
       "67020                   12                     10                15.260   \n",
       "21041                   15                      0                11.500   \n",
       "22057                   26                     17                 1.550   \n",
       "94340                   25                     14                11.610   \n",
       "93680                   61                     15                28.490   \n",
       "76931                   10                      6                 6.520   \n",
       "94449                    6                     18                18.480   \n",
       "\n",
       "       num_credit_inquiries credit_mix outstanding_debt  \\\n",
       "99936                 2.000   Standard           642.46   \n",
       "27462                11.000   Standard            95.73   \n",
       "91030                 4.000       Good           585.74   \n",
       "67020                 7.000   Standard           1401.9   \n",
       "21041                 4.000       Good            96.62   \n",
       "22057                12.000        Bad          4121.85   \n",
       "94340                 1.000       Good            64.47   \n",
       "93680                12.000        Bad          3578.54   \n",
       "76931                 1.000       Good          1304.15   \n",
       "94449                 8.000   Standard           478.11   \n",
       "\n",
       "       credit_utilization_ratio  credit_history_age payment_of_min_amount  \\\n",
       "99936                    31.606                 351                    No   \n",
       "27462                    35.019                 303                   Yes   \n",
       "91030                    28.818                 199                    No   \n",
       "67020                    39.924                 149                   Yes   \n",
       "21041                    27.185                 245                    NM   \n",
       "22057                    37.470                  76                   Yes   \n",
       "94340                    38.421                 357                    No   \n",
       "93680                    34.261                  63                   Yes   \n",
       "76931                    27.978                 309                    No   \n",
       "94449                    39.874                  92                    NM   \n",
       "\n",
       "       total_emi_per_month  amount_invested_monthly  \\\n",
       "99936                0.000                   56.073   \n",
       "27462              110.392                  363.508   \n",
       "91030              170.012                  234.981   \n",
       "67020               34.929                   26.260   \n",
       "21041              293.318                  442.242   \n",
       "22057               33.196                   31.295   \n",
       "94340                0.000                  206.385   \n",
       "93680              127.902                  131.368   \n",
       "76931                0.000                  254.709   \n",
       "94449              130.019                  180.179   \n",
       "\n",
       "                  payment_behaviour  monthly_balance credit_score  \n",
       "99936  HighspentMediumvaluepayments          366.134     Standard  \n",
       "27462    LowspentSmallvaluepayments          286.499     Standard  \n",
       "91030   HighspentLargevaluepayments          941.536     Standard  \n",
       "67020    LowspentSmallvaluepayments          276.416         Poor  \n",
       "21041   LowspentMediumvaluepayments          399.564         Good  \n",
       "22057    LowspentLargevaluepayments          247.918         Poor  \n",
       "94340    LowspentSmallvaluepayments          630.446         Good  \n",
       "93680   HighspentSmallvaluepayments          190.802         Poor  \n",
       "76931    LowspentSmallvaluepayments          263.604         Poor  \n",
       "94449   HighspentSmallvaluepayments          242.108     Standard  "
      ]
     },
     "execution_count": 140,
     "metadata": {},
     "output_type": "execute_result"
    }
   ],
   "source": [
    "df.sample(10)"
   ]
  },
  {
   "cell_type": "code",
   "execution_count": 141,
   "id": "6db92363",
   "metadata": {
    "execution": {
     "iopub.execute_input": "2024-05-03T19:27:06.286299Z",
     "iopub.status.busy": "2024-05-03T19:27:06.285934Z",
     "iopub.status.idle": "2024-05-03T19:27:07.463629Z",
     "shell.execute_reply": "2024-05-03T19:27:07.462625Z"
    },
    "papermill": {
     "duration": 1.220778,
     "end_time": "2024-05-03T19:27:07.465642",
     "exception": false,
     "start_time": "2024-05-03T19:27:06.244864",
     "status": "completed"
    },
    "tags": []
   },
   "outputs": [],
   "source": [
    "df.to_csv(\"cleaned_creditscore_dataset.csv\",index = False)"
   ]
  },
  {
   "cell_type": "code",
   "execution_count": 142,
   "id": "e94cae2a",
   "metadata": {
    "execution": {
     "iopub.execute_input": "2024-05-03T19:27:07.548302Z",
     "iopub.status.busy": "2024-05-03T19:27:07.547981Z",
     "iopub.status.idle": "2024-05-03T19:27:07.805016Z",
     "shell.execute_reply": "2024-05-03T19:27:07.804097Z"
    },
    "papermill": {
     "duration": 0.300662,
     "end_time": "2024-05-03T19:27:07.806841",
     "exception": false,
     "start_time": "2024-05-03T19:27:07.506179",
     "status": "completed"
    },
    "tags": []
   },
   "outputs": [
    {
     "data": {
      "text/html": [
       "<div>\n",
       "<style scoped>\n",
       "    .dataframe tbody tr th:only-of-type {\n",
       "        vertical-align: middle;\n",
       "    }\n",
       "\n",
       "    .dataframe tbody tr th {\n",
       "        vertical-align: top;\n",
       "    }\n",
       "\n",
       "    .dataframe thead th {\n",
       "        text-align: right;\n",
       "    }\n",
       "</style>\n",
       "<table border=\"1\" class=\"dataframe\">\n",
       "  <thead>\n",
       "    <tr style=\"text-align: right;\">\n",
       "      <th></th>\n",
       "      <th>month</th>\n",
       "      <th>age</th>\n",
       "      <th>occupation</th>\n",
       "      <th>annual_income</th>\n",
       "      <th>monthly_inhand_salary</th>\n",
       "      <th>num_bank_accounts</th>\n",
       "      <th>num_credit_card</th>\n",
       "      <th>interest_rate</th>\n",
       "      <th>num_of_loan</th>\n",
       "      <th>delay_from_due_date</th>\n",
       "      <th>num_of_delayed_payment</th>\n",
       "      <th>changed_credit_limit</th>\n",
       "      <th>num_credit_inquiries</th>\n",
       "      <th>credit_mix</th>\n",
       "      <th>outstanding_debt</th>\n",
       "      <th>credit_utilization_ratio</th>\n",
       "      <th>credit_history_age</th>\n",
       "      <th>payment_of_min_amount</th>\n",
       "      <th>total_emi_per_month</th>\n",
       "      <th>amount_invested_monthly</th>\n",
       "      <th>payment_behaviour</th>\n",
       "      <th>monthly_balance</th>\n",
       "      <th>credit_score</th>\n",
       "    </tr>\n",
       "  </thead>\n",
       "  <tbody>\n",
       "    <tr>\n",
       "      <th>0</th>\n",
       "      <td>January</td>\n",
       "      <td>23.000</td>\n",
       "      <td>Scientist</td>\n",
       "      <td>19114.120</td>\n",
       "      <td>1824.843</td>\n",
       "      <td>3</td>\n",
       "      <td>4</td>\n",
       "      <td>3</td>\n",
       "      <td>4</td>\n",
       "      <td>3</td>\n",
       "      <td>7</td>\n",
       "      <td>11.270</td>\n",
       "      <td>4.000</td>\n",
       "      <td>Good</td>\n",
       "      <td>809.980</td>\n",
       "      <td>26.823</td>\n",
       "      <td>265</td>\n",
       "      <td>No</td>\n",
       "      <td>49.575</td>\n",
       "      <td>80.415</td>\n",
       "      <td>HighspentSmallvaluepayments</td>\n",
       "      <td>312.494</td>\n",
       "      <td>Good</td>\n",
       "    </tr>\n",
       "    <tr>\n",
       "      <th>1</th>\n",
       "      <td>February</td>\n",
       "      <td>23.000</td>\n",
       "      <td>Scientist</td>\n",
       "      <td>19114.120</td>\n",
       "      <td>1824.843</td>\n",
       "      <td>3</td>\n",
       "      <td>4</td>\n",
       "      <td>3</td>\n",
       "      <td>4</td>\n",
       "      <td>-1</td>\n",
       "      <td>7</td>\n",
       "      <td>11.270</td>\n",
       "      <td>4.000</td>\n",
       "      <td>Good</td>\n",
       "      <td>809.980</td>\n",
       "      <td>31.945</td>\n",
       "      <td>265</td>\n",
       "      <td>No</td>\n",
       "      <td>49.575</td>\n",
       "      <td>118.280</td>\n",
       "      <td>LowspentLargevaluepayments</td>\n",
       "      <td>284.629</td>\n",
       "      <td>Good</td>\n",
       "    </tr>\n",
       "    <tr>\n",
       "      <th>2</th>\n",
       "      <td>March</td>\n",
       "      <td>23.000</td>\n",
       "      <td>Scientist</td>\n",
       "      <td>19114.120</td>\n",
       "      <td>1824.843</td>\n",
       "      <td>3</td>\n",
       "      <td>4</td>\n",
       "      <td>3</td>\n",
       "      <td>4</td>\n",
       "      <td>3</td>\n",
       "      <td>7</td>\n",
       "      <td>11.270</td>\n",
       "      <td>4.000</td>\n",
       "      <td>Good</td>\n",
       "      <td>809.980</td>\n",
       "      <td>28.609</td>\n",
       "      <td>267</td>\n",
       "      <td>No</td>\n",
       "      <td>49.575</td>\n",
       "      <td>81.700</td>\n",
       "      <td>LowspentMediumvaluepayments</td>\n",
       "      <td>331.210</td>\n",
       "      <td>Good</td>\n",
       "    </tr>\n",
       "    <tr>\n",
       "      <th>3</th>\n",
       "      <td>April</td>\n",
       "      <td>23.000</td>\n",
       "      <td>Scientist</td>\n",
       "      <td>19114.120</td>\n",
       "      <td>1824.843</td>\n",
       "      <td>3</td>\n",
       "      <td>4</td>\n",
       "      <td>3</td>\n",
       "      <td>4</td>\n",
       "      <td>5</td>\n",
       "      <td>4</td>\n",
       "      <td>6.270</td>\n",
       "      <td>4.000</td>\n",
       "      <td>Good</td>\n",
       "      <td>809.980</td>\n",
       "      <td>31.378</td>\n",
       "      <td>268</td>\n",
       "      <td>No</td>\n",
       "      <td>49.575</td>\n",
       "      <td>199.458</td>\n",
       "      <td>LowspentSmallvaluepayments</td>\n",
       "      <td>223.451</td>\n",
       "      <td>Good</td>\n",
       "    </tr>\n",
       "    <tr>\n",
       "      <th>4</th>\n",
       "      <td>May</td>\n",
       "      <td>23.000</td>\n",
       "      <td>Scientist</td>\n",
       "      <td>19114.120</td>\n",
       "      <td>1824.843</td>\n",
       "      <td>3</td>\n",
       "      <td>4</td>\n",
       "      <td>3</td>\n",
       "      <td>4</td>\n",
       "      <td>6</td>\n",
       "      <td>4</td>\n",
       "      <td>11.270</td>\n",
       "      <td>4.000</td>\n",
       "      <td>Good</td>\n",
       "      <td>809.980</td>\n",
       "      <td>24.797</td>\n",
       "      <td>269</td>\n",
       "      <td>No</td>\n",
       "      <td>49.575</td>\n",
       "      <td>41.420</td>\n",
       "      <td>HighspentMediumvaluepayments</td>\n",
       "      <td>341.489</td>\n",
       "      <td>Good</td>\n",
       "    </tr>\n",
       "  </tbody>\n",
       "</table>\n",
       "</div>"
      ],
      "text/plain": [
       "      month    age occupation  annual_income  monthly_inhand_salary  \\\n",
       "0   January 23.000  Scientist      19114.120               1824.843   \n",
       "1  February 23.000  Scientist      19114.120               1824.843   \n",
       "2     March 23.000  Scientist      19114.120               1824.843   \n",
       "3     April 23.000  Scientist      19114.120               1824.843   \n",
       "4       May 23.000  Scientist      19114.120               1824.843   \n",
       "\n",
       "   num_bank_accounts  num_credit_card  interest_rate  num_of_loan  \\\n",
       "0                  3                4              3            4   \n",
       "1                  3                4              3            4   \n",
       "2                  3                4              3            4   \n",
       "3                  3                4              3            4   \n",
       "4                  3                4              3            4   \n",
       "\n",
       "   delay_from_due_date  num_of_delayed_payment  changed_credit_limit  \\\n",
       "0                    3                       7                11.270   \n",
       "1                   -1                       7                11.270   \n",
       "2                    3                       7                11.270   \n",
       "3                    5                       4                 6.270   \n",
       "4                    6                       4                11.270   \n",
       "\n",
       "   num_credit_inquiries credit_mix  outstanding_debt  \\\n",
       "0                 4.000       Good           809.980   \n",
       "1                 4.000       Good           809.980   \n",
       "2                 4.000       Good           809.980   \n",
       "3                 4.000       Good           809.980   \n",
       "4                 4.000       Good           809.980   \n",
       "\n",
       "   credit_utilization_ratio  credit_history_age payment_of_min_amount  \\\n",
       "0                    26.823                 265                    No   \n",
       "1                    31.945                 265                    No   \n",
       "2                    28.609                 267                    No   \n",
       "3                    31.378                 268                    No   \n",
       "4                    24.797                 269                    No   \n",
       "\n",
       "   total_emi_per_month  amount_invested_monthly             payment_behaviour  \\\n",
       "0               49.575                   80.415   HighspentSmallvaluepayments   \n",
       "1               49.575                  118.280    LowspentLargevaluepayments   \n",
       "2               49.575                   81.700   LowspentMediumvaluepayments   \n",
       "3               49.575                  199.458    LowspentSmallvaluepayments   \n",
       "4               49.575                   41.420  HighspentMediumvaluepayments   \n",
       "\n",
       "   monthly_balance credit_score  \n",
       "0          312.494         Good  \n",
       "1          284.629         Good  \n",
       "2          331.210         Good  \n",
       "3          223.451         Good  \n",
       "4          341.489         Good  "
      ]
     },
     "execution_count": 142,
     "metadata": {},
     "output_type": "execute_result"
    }
   ],
   "source": [
    "df = pd.read_csv('/kaggle/working/cleaned_creditscore_dataset.csv')\n",
    "df.head()"
   ]
  },
  {
   "cell_type": "code",
   "execution_count": null,
   "id": "5cafd8f6",
   "metadata": {
    "papermill": {
     "duration": 0.041049,
     "end_time": "2024-05-03T19:27:07.889078",
     "exception": false,
     "start_time": "2024-05-03T19:27:07.848029",
     "status": "completed"
    },
    "tags": []
   },
   "outputs": [],
   "source": []
  },
  {
   "cell_type": "code",
   "execution_count": null,
   "id": "a2d4032f",
   "metadata": {
    "papermill": {
     "duration": 0.041063,
     "end_time": "2024-05-03T19:27:07.972479",
     "exception": false,
     "start_time": "2024-05-03T19:27:07.931416",
     "status": "completed"
    },
    "tags": []
   },
   "outputs": [],
   "source": []
  },
  {
   "cell_type": "code",
   "execution_count": null,
   "id": "68e2d9c0",
   "metadata": {
    "papermill": {
     "duration": 0.040793,
     "end_time": "2024-05-03T19:27:08.054947",
     "exception": false,
     "start_time": "2024-05-03T19:27:08.014154",
     "status": "completed"
    },
    "tags": []
   },
   "outputs": [],
   "source": []
  },
  {
   "cell_type": "code",
   "execution_count": null,
   "id": "68a6b88e",
   "metadata": {
    "papermill": {
     "duration": 0.040783,
     "end_time": "2024-05-03T19:27:08.136439",
     "exception": false,
     "start_time": "2024-05-03T19:27:08.095656",
     "status": "completed"
    },
    "tags": []
   },
   "outputs": [],
   "source": []
  },
  {
   "cell_type": "code",
   "execution_count": null,
   "id": "7a170d18",
   "metadata": {
    "papermill": {
     "duration": 0.040708,
     "end_time": "2024-05-03T19:27:08.217847",
     "exception": false,
     "start_time": "2024-05-03T19:27:08.177139",
     "status": "completed"
    },
    "tags": []
   },
   "outputs": [],
   "source": []
  },
  {
   "cell_type": "code",
   "execution_count": null,
   "id": "f6d61a97",
   "metadata": {
    "papermill": {
     "duration": 0.040963,
     "end_time": "2024-05-03T19:27:08.299997",
     "exception": false,
     "start_time": "2024-05-03T19:27:08.259034",
     "status": "completed"
    },
    "tags": []
   },
   "outputs": [],
   "source": []
  },
  {
   "cell_type": "code",
   "execution_count": null,
   "id": "e779cf77",
   "metadata": {
    "papermill": {
     "duration": 0.040758,
     "end_time": "2024-05-03T19:27:08.382157",
     "exception": false,
     "start_time": "2024-05-03T19:27:08.341399",
     "status": "completed"
    },
    "tags": []
   },
   "outputs": [],
   "source": []
  },
  {
   "cell_type": "code",
   "execution_count": null,
   "id": "d9549c70",
   "metadata": {
    "papermill": {
     "duration": 0.041587,
     "end_time": "2024-05-03T19:27:08.464722",
     "exception": false,
     "start_time": "2024-05-03T19:27:08.423135",
     "status": "completed"
    },
    "tags": []
   },
   "outputs": [],
   "source": []
  },
  {
   "cell_type": "code",
   "execution_count": null,
   "id": "dfd4983c",
   "metadata": {
    "papermill": {
     "duration": 0.040983,
     "end_time": "2024-05-03T19:27:08.547354",
     "exception": false,
     "start_time": "2024-05-03T19:27:08.506371",
     "status": "completed"
    },
    "tags": []
   },
   "outputs": [],
   "source": []
  }
 ],
 "metadata": {
  "hide_input": false,
  "kaggle": {
   "accelerator": "tpu1vmV38",
   "dataSources": [
    {
     "datasetId": 2289007,
     "sourceId": 3846912,
     "sourceType": "datasetVersion"
    },
    {
     "datasetId": 4918976,
     "sourceId": 8282453,
     "sourceType": "datasetVersion"
    }
   ],
   "dockerImageVersionId": 30698,
   "isGpuEnabled": false,
   "isInternetEnabled": true,
   "language": "python",
   "sourceType": "notebook"
  },
  "kernelspec": {
   "display_name": "Python 3",
   "language": "python",
   "name": "python3"
  },
  "language_info": {
   "codemirror_mode": {
    "name": "ipython",
    "version": 3
   },
   "file_extension": ".py",
   "mimetype": "text/x-python",
   "name": "python",
   "nbconvert_exporter": "python",
   "pygments_lexer": "ipython3",
   "version": "3.10.14"
  },
  "papermill": {
   "default_parameters": {},
   "duration": 637.557561,
   "end_time": "2024-05-03T19:27:09.009419",
   "environment_variables": {},
   "exception": null,
   "input_path": "__notebook__.ipynb",
   "output_path": "__notebook__.ipynb",
   "parameters": {},
   "start_time": "2024-05-03T19:16:31.451858",
   "version": "2.5.0"
  },
  "toc": {
   "base_numbering": 1,
   "nav_menu": {},
   "number_sections": true,
   "sideBar": true,
   "skip_h1_title": false,
   "title_cell": "Table of Contents",
   "title_sidebar": "Contents",
   "toc_cell": false,
   "toc_position": {},
   "toc_section_display": true,
   "toc_window_display": false
  }
 },
 "nbformat": 4,
 "nbformat_minor": 5
}
