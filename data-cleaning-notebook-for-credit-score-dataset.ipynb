{
 "cells": [
  {
   "cell_type": "markdown",
   "id": "006a2070",
   "metadata": {
    "papermill": {
     "duration": 0.038315,
     "end_time": "2024-05-02T12:53:48.318379",
     "exception": false,
     "start_time": "2024-05-02T12:53:48.280064",
     "status": "completed"
    },
    "tags": []
   },
   "source": [
    "<div style=\"background-color: #ffd700; padding: 20px; border-radius: 10px;\">\n",
    "    <h1 style=\"color: #2196F3; font-family: 'Roboto', sans-serif; font-size: 36px; font-weight: bold; text-align: center;\">Data Cleaning Notebook for Credit Score Dataset</h1>\n",
    "</div>"
   ]
  },
  {
   "cell_type": "code",
   "execution_count": 1,
   "id": "3f1bdcd9",
   "metadata": {
    "ExecuteTime": {
     "end_time": "2024-05-01T08:50:37.538545Z",
     "start_time": "2024-05-01T08:50:37.525185Z"
    },
    "execution": {
     "iopub.execute_input": "2024-05-02T12:53:48.391899Z",
     "iopub.status.busy": "2024-05-02T12:53:48.391541Z",
     "iopub.status.idle": "2024-05-02T12:53:50.555842Z",
     "shell.execute_reply": "2024-05-02T12:53:50.555107Z"
    },
    "papermill": {
     "duration": 2.203475,
     "end_time": "2024-05-02T12:53:50.558123",
     "exception": false,
     "start_time": "2024-05-02T12:53:48.354648",
     "status": "completed"
    },
    "tags": []
   },
   "outputs": [],
   "source": [
    "import numpy as np \n",
    "import pandas as pd \n",
    "\n",
    "import matplotlib.pyplot as plt\n",
    "import seaborn as sns\n",
    "\n",
    "import re  # library for regex\n",
    "\n",
    "import warnings    # Applies a warning filter to not show warning messages.\n",
    "warnings.filterwarnings(\"ignore\")  # This prevents warning messages from appearing when you run the code.\n",
    "warnings.warn(\"this will not show\") \n",
    "\n",
    "plt.rcParams[\"figure.figsize\"] = (10,6)\n",
    "# Sets the plot dimensions (figure size) in the Matplotlib library.\n",
    "# Here (10,6) specifies a frame size of 10 units in width and 6 units in height.\n",
    "\n",
    "sns.set_style(\"whitegrid\")\n",
    "# Sets the grid view in the Seaborn library to a white background.\n",
    "\n",
    "pd.set_option('display.float_format', lambda x: '%.3f' % x)\n",
    "# sets the float format in the pandas library.\n",
    "# Here, the display format of decimal numbers is set using the lambda function.\n",
    "\n",
    "pd.set_option('display.max_rows', None)\n",
    "# sets the display.max_rows option to None if you do not want all rows in the data frames to be displayed.\n",
    "\n",
    "pd.set_option('display.max_columns', None)\n",
    "# sets the display.max_columns option to None if you do not want all columns in the data frames to be displayed.\n",
    "\n"
   ]
  },
  {
   "cell_type": "code",
   "execution_count": 2,
   "id": "140f9e77",
   "metadata": {
    "ExecuteTime": {
     "end_time": "2024-05-01T08:50:43.697135Z",
     "start_time": "2024-05-01T08:50:41.578313Z"
    },
    "execution": {
     "iopub.execute_input": "2024-05-02T12:53:50.633859Z",
     "iopub.status.busy": "2024-05-02T12:53:50.632949Z",
     "iopub.status.idle": "2024-05-02T12:53:52.246506Z",
     "shell.execute_reply": "2024-05-02T12:53:52.245429Z"
    },
    "papermill": {
     "duration": 1.65382,
     "end_time": "2024-05-02T12:53:52.249254",
     "exception": false,
     "start_time": "2024-05-02T12:53:50.595434",
     "status": "completed"
    },
    "tags": []
   },
   "outputs": [],
   "source": [
    "train_data= pd.read_csv(\"/kaggle/input/credit-score-classification/train.csv\")\n",
    "test_data = pd.read_csv (\"/kaggle/input/credit-score-classification/test.csv\")"
   ]
  },
  {
   "cell_type": "code",
   "execution_count": 3,
   "id": "75525a22",
   "metadata": {
    "ExecuteTime": {
     "end_time": "2024-04-26T15:17:46.452860Z",
     "start_time": "2024-04-26T15:17:46.441982Z"
    },
    "execution": {
     "iopub.execute_input": "2024-05-02T12:53:52.327814Z",
     "iopub.status.busy": "2024-05-02T12:53:52.327127Z",
     "iopub.status.idle": "2024-05-02T12:53:52.332924Z",
     "shell.execute_reply": "2024-05-02T12:53:52.331946Z"
    },
    "papermill": {
     "duration": 0.046968,
     "end_time": "2024-05-02T12:53:52.335121",
     "exception": false,
     "start_time": "2024-05-02T12:53:52.288153",
     "status": "completed"
    },
    "tags": []
   },
   "outputs": [
    {
     "name": "stdout",
     "output_type": "stream",
     "text": [
      "(100000, 28)\n",
      "(50000, 27)\n"
     ]
    }
   ],
   "source": [
    "print(train_data.shape)\n",
    "print(test_data.shape)"
   ]
  },
  {
   "cell_type": "markdown",
   "id": "3e3c3616",
   "metadata": {
    "papermill": {
     "duration": 0.036542,
     "end_time": "2024-05-02T12:53:52.409566",
     "exception": false,
     "start_time": "2024-05-02T12:53:52.373024",
     "status": "completed"
    },
    "tags": []
   },
   "source": [
    "# ***Dataset info***<br><br>\n",
    "- ***ID:*** Unique identifier for each entry in the dataset.<br>\n",
    "\n",
    "- ***Customer_ID:*** Identifier for each customer.<br>\n",
    "\n",
    "- ***Month:*** Month of data collection.<br>\n",
    "\n",
    "- ***Name:*** Name of the customer.<br>\n",
    "\n",
    "- ***Age:*** Age of the customer.<br>\n",
    "\n",
    "- ***SSN:*** Social Security Number of the customer.<br>\n",
    "\n",
    "- ***Occupation:*** Occupation of the customer.<br>\n",
    "\n",
    "- ***Annual_Income:*** Annual income of the customer.<br>\n",
    "\n",
    "- ***Monthly_Inhand_Salary:*** Monthly salary after deductions.<br>\n",
    "\n",
    "- ***Num_Bank_Accounts:*** Number of bank accounts the customer has.<br>\n",
    "\n",
    "- ***Num_Credit_Card:*** Number of credit cards the customer has.<br>\n",
    "\n",
    "- ***Interest_Rate:*** Interest rate applied on loans.<br>\n",
    "\n",
    "- ***Num_of_Loan:*** Number of loans the customer has.<br>\n",
    "\n",
    "- ***Type_of_Loan:*** Type of loan taken by the customer.<br>\n",
    "\n",
    "- ***Delay_from_due_date:*** Number of days delayed from due date for payments.<br>\n",
    "\n",
    "- ***Num_of_Delayed_Payment:*** Number of delayed payments made by the customer.<br>\n",
    "\n",
    "- ***Changed_Credit_Limit:*** Indicates if the credit limit has been changed.<br>\n",
    "\n",
    "- ***Num_Credit_Inquiries:*** Number of credit inquiries made by the customer.<br>\n",
    "\n",
    "- ***Credit_Mix:*** Mix of different types of credit accounts held by the customer.<br>\n",
    "\n",
    "- ***Outstanding_Debt:*** Amount of outstanding debt.<br>\n",
    "\n",
    "- ***Credit_Utilization_Ratio:*** Ratio of credit used to credit available.<br>\n",
    "\n",
    "- ***Credit_History_Age:*** Age of credit history.<br>\n",
    "\n",
    "- ***Payment_of_Min_Amount:*** Indicates if minimum payment amount is met.<br>\n",
    "\n",
    "- ***Total_EMI_per_month:*** Total Equated Monthly Installment (EMI) paid by the customer.<br>\n",
    "\n",
    "- ***Amount_invested_monthly:*** Amount invested monthly by the customer.<br>\n",
    "\n",
    "- ***Payment_Behaviour:*** Payment behavior of the customer.<br>\n",
    "\n",
    "- ***Monthly_Balance:*** Monthly balance in the account.<br>\n",
    "\n",
    "- ***Credit_Score:*** Target variable - credit score of the customer.<br>\n",
    "\n"
   ]
  },
  {
   "cell_type": "markdown",
   "id": "4df10331",
   "metadata": {
    "papermill": {
     "duration": 0.035872,
     "end_time": "2024-05-02T12:53:52.480971",
     "exception": false,
     "start_time": "2024-05-02T12:53:52.445099",
     "status": "completed"
    },
    "tags": []
   },
   "source": [
    "### Defination of df "
   ]
  },
  {
   "cell_type": "code",
   "execution_count": 4,
   "id": "6d87f70d",
   "metadata": {
    "ExecuteTime": {
     "end_time": "2024-04-26T15:17:52.428027Z",
     "start_time": "2024-04-26T15:17:52.322523Z"
    },
    "execution": {
     "iopub.execute_input": "2024-05-02T12:53:52.597083Z",
     "iopub.status.busy": "2024-05-02T12:53:52.596480Z",
     "iopub.status.idle": "2024-05-02T12:53:52.647191Z",
     "shell.execute_reply": "2024-05-02T12:53:52.646227Z"
    },
    "papermill": {
     "duration": 0.090786,
     "end_time": "2024-05-02T12:53:52.649667",
     "exception": false,
     "start_time": "2024-05-02T12:53:52.558881",
     "status": "completed"
    },
    "tags": []
   },
   "outputs": [
    {
     "data": {
      "text/html": [
       "<div>\n",
       "<style scoped>\n",
       "    .dataframe tbody tr th:only-of-type {\n",
       "        vertical-align: middle;\n",
       "    }\n",
       "\n",
       "    .dataframe tbody tr th {\n",
       "        vertical-align: top;\n",
       "    }\n",
       "\n",
       "    .dataframe thead th {\n",
       "        text-align: right;\n",
       "    }\n",
       "</style>\n",
       "<table border=\"1\" class=\"dataframe\">\n",
       "  <thead>\n",
       "    <tr style=\"text-align: right;\">\n",
       "      <th></th>\n",
       "      <th>ID</th>\n",
       "      <th>Customer_ID</th>\n",
       "      <th>Month</th>\n",
       "      <th>Name</th>\n",
       "      <th>Age</th>\n",
       "      <th>SSN</th>\n",
       "      <th>Occupation</th>\n",
       "      <th>Annual_Income</th>\n",
       "      <th>Monthly_Inhand_Salary</th>\n",
       "      <th>Num_Bank_Accounts</th>\n",
       "      <th>Num_Credit_Card</th>\n",
       "      <th>Interest_Rate</th>\n",
       "      <th>Num_of_Loan</th>\n",
       "      <th>Type_of_Loan</th>\n",
       "      <th>Delay_from_due_date</th>\n",
       "      <th>Num_of_Delayed_Payment</th>\n",
       "      <th>Changed_Credit_Limit</th>\n",
       "      <th>Num_Credit_Inquiries</th>\n",
       "      <th>Credit_Mix</th>\n",
       "      <th>Outstanding_Debt</th>\n",
       "      <th>Credit_Utilization_Ratio</th>\n",
       "      <th>Credit_History_Age</th>\n",
       "      <th>Payment_of_Min_Amount</th>\n",
       "      <th>Total_EMI_per_month</th>\n",
       "      <th>Amount_invested_monthly</th>\n",
       "      <th>Payment_Behaviour</th>\n",
       "      <th>Monthly_Balance</th>\n",
       "      <th>Credit_Score</th>\n",
       "    </tr>\n",
       "  </thead>\n",
       "  <tbody>\n",
       "    <tr>\n",
       "      <th>0</th>\n",
       "      <td>0x1602</td>\n",
       "      <td>CUS_0xd40</td>\n",
       "      <td>January</td>\n",
       "      <td>Aaron Maashoh</td>\n",
       "      <td>23</td>\n",
       "      <td>821-00-0265</td>\n",
       "      <td>Scientist</td>\n",
       "      <td>19114.12</td>\n",
       "      <td>1824.843</td>\n",
       "      <td>3</td>\n",
       "      <td>4</td>\n",
       "      <td>3</td>\n",
       "      <td>4</td>\n",
       "      <td>Auto Loan, Credit-Builder Loan, Personal Loan,...</td>\n",
       "      <td>3</td>\n",
       "      <td>7</td>\n",
       "      <td>11.27</td>\n",
       "      <td>4.000</td>\n",
       "      <td>_</td>\n",
       "      <td>809.98</td>\n",
       "      <td>26.823</td>\n",
       "      <td>22 Years and 1 Months</td>\n",
       "      <td>No</td>\n",
       "      <td>49.575</td>\n",
       "      <td>80.41529543900253</td>\n",
       "      <td>High_spent_Small_value_payments</td>\n",
       "      <td>312.49408867943663</td>\n",
       "      <td>Good</td>\n",
       "    </tr>\n",
       "    <tr>\n",
       "      <th>1</th>\n",
       "      <td>0x1603</td>\n",
       "      <td>CUS_0xd40</td>\n",
       "      <td>February</td>\n",
       "      <td>Aaron Maashoh</td>\n",
       "      <td>23</td>\n",
       "      <td>821-00-0265</td>\n",
       "      <td>Scientist</td>\n",
       "      <td>19114.12</td>\n",
       "      <td>NaN</td>\n",
       "      <td>3</td>\n",
       "      <td>4</td>\n",
       "      <td>3</td>\n",
       "      <td>4</td>\n",
       "      <td>Auto Loan, Credit-Builder Loan, Personal Loan,...</td>\n",
       "      <td>-1</td>\n",
       "      <td>NaN</td>\n",
       "      <td>11.27</td>\n",
       "      <td>4.000</td>\n",
       "      <td>Good</td>\n",
       "      <td>809.98</td>\n",
       "      <td>31.945</td>\n",
       "      <td>NaN</td>\n",
       "      <td>No</td>\n",
       "      <td>49.575</td>\n",
       "      <td>118.28022162236736</td>\n",
       "      <td>Low_spent_Large_value_payments</td>\n",
       "      <td>284.62916249607184</td>\n",
       "      <td>Good</td>\n",
       "    </tr>\n",
       "    <tr>\n",
       "      <th>2</th>\n",
       "      <td>0x1604</td>\n",
       "      <td>CUS_0xd40</td>\n",
       "      <td>March</td>\n",
       "      <td>Aaron Maashoh</td>\n",
       "      <td>-500</td>\n",
       "      <td>821-00-0265</td>\n",
       "      <td>Scientist</td>\n",
       "      <td>19114.12</td>\n",
       "      <td>NaN</td>\n",
       "      <td>3</td>\n",
       "      <td>4</td>\n",
       "      <td>3</td>\n",
       "      <td>4</td>\n",
       "      <td>Auto Loan, Credit-Builder Loan, Personal Loan,...</td>\n",
       "      <td>3</td>\n",
       "      <td>7</td>\n",
       "      <td>_</td>\n",
       "      <td>4.000</td>\n",
       "      <td>Good</td>\n",
       "      <td>809.98</td>\n",
       "      <td>28.609</td>\n",
       "      <td>22 Years and 3 Months</td>\n",
       "      <td>No</td>\n",
       "      <td>49.575</td>\n",
       "      <td>81.699521264648</td>\n",
       "      <td>Low_spent_Medium_value_payments</td>\n",
       "      <td>331.2098628537912</td>\n",
       "      <td>Good</td>\n",
       "    </tr>\n",
       "    <tr>\n",
       "      <th>3</th>\n",
       "      <td>0x1605</td>\n",
       "      <td>CUS_0xd40</td>\n",
       "      <td>April</td>\n",
       "      <td>Aaron Maashoh</td>\n",
       "      <td>23</td>\n",
       "      <td>821-00-0265</td>\n",
       "      <td>Scientist</td>\n",
       "      <td>19114.12</td>\n",
       "      <td>NaN</td>\n",
       "      <td>3</td>\n",
       "      <td>4</td>\n",
       "      <td>3</td>\n",
       "      <td>4</td>\n",
       "      <td>Auto Loan, Credit-Builder Loan, Personal Loan,...</td>\n",
       "      <td>5</td>\n",
       "      <td>4</td>\n",
       "      <td>6.27</td>\n",
       "      <td>4.000</td>\n",
       "      <td>Good</td>\n",
       "      <td>809.98</td>\n",
       "      <td>31.378</td>\n",
       "      <td>22 Years and 4 Months</td>\n",
       "      <td>No</td>\n",
       "      <td>49.575</td>\n",
       "      <td>199.4580743910713</td>\n",
       "      <td>Low_spent_Small_value_payments</td>\n",
       "      <td>223.45130972736786</td>\n",
       "      <td>Good</td>\n",
       "    </tr>\n",
       "    <tr>\n",
       "      <th>4</th>\n",
       "      <td>0x1606</td>\n",
       "      <td>CUS_0xd40</td>\n",
       "      <td>May</td>\n",
       "      <td>Aaron Maashoh</td>\n",
       "      <td>23</td>\n",
       "      <td>821-00-0265</td>\n",
       "      <td>Scientist</td>\n",
       "      <td>19114.12</td>\n",
       "      <td>1824.843</td>\n",
       "      <td>3</td>\n",
       "      <td>4</td>\n",
       "      <td>3</td>\n",
       "      <td>4</td>\n",
       "      <td>Auto Loan, Credit-Builder Loan, Personal Loan,...</td>\n",
       "      <td>6</td>\n",
       "      <td>NaN</td>\n",
       "      <td>11.27</td>\n",
       "      <td>4.000</td>\n",
       "      <td>Good</td>\n",
       "      <td>809.98</td>\n",
       "      <td>24.797</td>\n",
       "      <td>22 Years and 5 Months</td>\n",
       "      <td>No</td>\n",
       "      <td>49.575</td>\n",
       "      <td>41.420153086217326</td>\n",
       "      <td>High_spent_Medium_value_payments</td>\n",
       "      <td>341.48923103222177</td>\n",
       "      <td>Good</td>\n",
       "    </tr>\n",
       "  </tbody>\n",
       "</table>\n",
       "</div>"
      ],
      "text/plain": [
       "       ID Customer_ID     Month           Name   Age          SSN Occupation  \\\n",
       "0  0x1602   CUS_0xd40   January  Aaron Maashoh    23  821-00-0265  Scientist   \n",
       "1  0x1603   CUS_0xd40  February  Aaron Maashoh    23  821-00-0265  Scientist   \n",
       "2  0x1604   CUS_0xd40     March  Aaron Maashoh  -500  821-00-0265  Scientist   \n",
       "3  0x1605   CUS_0xd40     April  Aaron Maashoh    23  821-00-0265  Scientist   \n",
       "4  0x1606   CUS_0xd40       May  Aaron Maashoh    23  821-00-0265  Scientist   \n",
       "\n",
       "  Annual_Income  Monthly_Inhand_Salary  Num_Bank_Accounts  Num_Credit_Card  \\\n",
       "0      19114.12               1824.843                  3                4   \n",
       "1      19114.12                    NaN                  3                4   \n",
       "2      19114.12                    NaN                  3                4   \n",
       "3      19114.12                    NaN                  3                4   \n",
       "4      19114.12               1824.843                  3                4   \n",
       "\n",
       "   Interest_Rate Num_of_Loan  \\\n",
       "0              3           4   \n",
       "1              3           4   \n",
       "2              3           4   \n",
       "3              3           4   \n",
       "4              3           4   \n",
       "\n",
       "                                        Type_of_Loan  Delay_from_due_date  \\\n",
       "0  Auto Loan, Credit-Builder Loan, Personal Loan,...                    3   \n",
       "1  Auto Loan, Credit-Builder Loan, Personal Loan,...                   -1   \n",
       "2  Auto Loan, Credit-Builder Loan, Personal Loan,...                    3   \n",
       "3  Auto Loan, Credit-Builder Loan, Personal Loan,...                    5   \n",
       "4  Auto Loan, Credit-Builder Loan, Personal Loan,...                    6   \n",
       "\n",
       "  Num_of_Delayed_Payment Changed_Credit_Limit  Num_Credit_Inquiries  \\\n",
       "0                      7                11.27                 4.000   \n",
       "1                    NaN                11.27                 4.000   \n",
       "2                      7                    _                 4.000   \n",
       "3                      4                 6.27                 4.000   \n",
       "4                    NaN                11.27                 4.000   \n",
       "\n",
       "  Credit_Mix Outstanding_Debt  Credit_Utilization_Ratio  \\\n",
       "0          _           809.98                    26.823   \n",
       "1       Good           809.98                    31.945   \n",
       "2       Good           809.98                    28.609   \n",
       "3       Good           809.98                    31.378   \n",
       "4       Good           809.98                    24.797   \n",
       "\n",
       "      Credit_History_Age Payment_of_Min_Amount  Total_EMI_per_month  \\\n",
       "0  22 Years and 1 Months                    No               49.575   \n",
       "1                    NaN                    No               49.575   \n",
       "2  22 Years and 3 Months                    No               49.575   \n",
       "3  22 Years and 4 Months                    No               49.575   \n",
       "4  22 Years and 5 Months                    No               49.575   \n",
       "\n",
       "  Amount_invested_monthly                 Payment_Behaviour  \\\n",
       "0       80.41529543900253   High_spent_Small_value_payments   \n",
       "1      118.28022162236736    Low_spent_Large_value_payments   \n",
       "2         81.699521264648   Low_spent_Medium_value_payments   \n",
       "3       199.4580743910713    Low_spent_Small_value_payments   \n",
       "4      41.420153086217326  High_spent_Medium_value_payments   \n",
       "\n",
       "      Monthly_Balance Credit_Score  \n",
       "0  312.49408867943663         Good  \n",
       "1  284.62916249607184         Good  \n",
       "2   331.2098628537912         Good  \n",
       "3  223.45130972736786         Good  \n",
       "4  341.48923103222177         Good  "
      ]
     },
     "execution_count": 4,
     "metadata": {},
     "output_type": "execute_result"
    }
   ],
   "source": [
    "df = train_data.copy()\n",
    "df.head()"
   ]
  },
  {
   "cell_type": "code",
   "execution_count": 5,
   "id": "0c447545",
   "metadata": {
    "ExecuteTime": {
     "end_time": "2024-04-26T15:17:57.770792Z",
     "start_time": "2024-04-26T15:17:57.757720Z"
    },
    "execution": {
     "iopub.execute_input": "2024-05-02T12:53:52.731095Z",
     "iopub.status.busy": "2024-05-02T12:53:52.730758Z",
     "iopub.status.idle": "2024-05-02T12:53:52.736646Z",
     "shell.execute_reply": "2024-05-02T12:53:52.735742Z"
    },
    "papermill": {
     "duration": 0.047787,
     "end_time": "2024-05-02T12:53:52.738939",
     "exception": false,
     "start_time": "2024-05-02T12:53:52.691152",
     "status": "completed"
    },
    "tags": []
   },
   "outputs": [
    {
     "data": {
      "text/plain": [
       "(100000, 28)"
      ]
     },
     "execution_count": 5,
     "metadata": {},
     "output_type": "execute_result"
    }
   ],
   "source": [
    "df.shape"
   ]
  },
  {
   "cell_type": "code",
   "execution_count": 6,
   "id": "60fc629f",
   "metadata": {
    "ExecuteTime": {
     "end_time": "2024-04-26T15:18:01.269880Z",
     "start_time": "2024-04-26T15:18:01.257646Z"
    },
    "execution": {
     "iopub.execute_input": "2024-05-02T12:53:52.819963Z",
     "iopub.status.busy": "2024-05-02T12:53:52.819658Z",
     "iopub.status.idle": "2024-05-02T12:53:52.825956Z",
     "shell.execute_reply": "2024-05-02T12:53:52.825061Z"
    },
    "papermill": {
     "duration": 0.048683,
     "end_time": "2024-05-02T12:53:52.828197",
     "exception": false,
     "start_time": "2024-05-02T12:53:52.779514",
     "status": "completed"
    },
    "tags": []
   },
   "outputs": [
    {
     "data": {
      "text/plain": [
       "Index(['ID', 'Customer_ID', 'Month', 'Name', 'Age', 'SSN', 'Occupation',\n",
       "       'Annual_Income', 'Monthly_Inhand_Salary', 'Num_Bank_Accounts',\n",
       "       'Num_Credit_Card', 'Interest_Rate', 'Num_of_Loan', 'Type_of_Loan',\n",
       "       'Delay_from_due_date', 'Num_of_Delayed_Payment', 'Changed_Credit_Limit',\n",
       "       'Num_Credit_Inquiries', 'Credit_Mix', 'Outstanding_Debt',\n",
       "       'Credit_Utilization_Ratio', 'Credit_History_Age',\n",
       "       'Payment_of_Min_Amount', 'Total_EMI_per_month',\n",
       "       'Amount_invested_monthly', 'Payment_Behaviour', 'Monthly_Balance',\n",
       "       'Credit_Score'],\n",
       "      dtype='object')"
      ]
     },
     "execution_count": 6,
     "metadata": {},
     "output_type": "execute_result"
    }
   ],
   "source": [
    "df.columns"
   ]
  },
  {
   "cell_type": "markdown",
   "id": "eab5ced1",
   "metadata": {
    "papermill": {
     "duration": 0.038191,
     "end_time": "2024-05-02T12:53:52.906504",
     "exception": false,
     "start_time": "2024-05-02T12:53:52.868313",
     "status": "completed"
    },
    "tags": []
   },
   "source": [
    "#### First of all, it would be useful to know how the relavant persons calculate the credit score and which parameters are included in the calculation of the credit score.\n",
    "https://www.investopedia.com/ask/answers/05/creditscorecalculation.asp<br>\n",
    "A credit score is designed to measure your risk as a borrower. FICO does not reveal its proprietary credit score calculator formula, but the calculation incorporates five major components, with varying levels of importance. These categories with their relative weights are<br>\n",
    "- Payment history (35%)<br>\n",
    "- Amount owed (30%)<br>\n",
    "- Length of credit history (15%)<br>\n",
    "- New credit (10%)<br>\n",
    "- Credit mix (10%)<br><br>\n",
    "***All of these categories are taken into account in the calculation of your overall score, which can range from 300 to 850.And I tried to associate the features in the dataset with the parameters in these 5 categories.***<br><br>\n",
    "- Payment history (35%) and features in our dataset that may be related : **\"Payment_of_Min_Amount\",\"Payment_Behaviour\",\"Num_of_Delayed_Payment\",\n",
    "\"Delay_from_due_date\",\"Outstanding_Debt\",\"Amount_invested_monthly\"** <br>\n",
    "- Amount owed (30%) and features in our dataset that may be related:  **\"Credit_Utilization_Ratio\",\"Outstanding_Debt\",\"Monthly_Balance\",\"Amount_invested_monthly\"**<br>\n",
    "- Length of credit history (15%) and features in our dataset that may be related : ***\"Credit_History_Age\",\"Num_of_Loan\"***   <br>\n",
    "- New credit (10%) and features in our dataset that may be related : **\"Num_Credit_Inquiries\",\"Num_of_Loan\",\"Payment_of_Min_Amount\",\"Monthly_Balance\",\"Amount_invested_monthly\"**   <br>\n",
    "- Credit mix (10%) and features in our dataset that may be related :**\"Credit_Mix\"**     <br><br>\n",
    " What Isn’t Included:<br>\n",
    " - Your credit score reflects only the information contained in your credit report. Your credit report doesn't include information like your **age**, **income**, or employment history. It also will generally not include your history with utilities such as cable and phone bills nor your rental payment history."
   ]
  },
  {
   "cell_type": "code",
   "execution_count": 7,
   "id": "30785019",
   "metadata": {
    "ExecuteTime": {
     "end_time": "2024-04-24T22:02:09.335779Z",
     "start_time": "2024-04-24T22:02:09.177360Z"
    },
    "execution": {
     "iopub.execute_input": "2024-05-02T12:53:52.984536Z",
     "iopub.status.busy": "2024-05-02T12:53:52.983540Z",
     "iopub.status.idle": "2024-05-02T12:53:53.204232Z",
     "shell.execute_reply": "2024-05-02T12:53:53.203214Z"
    },
    "papermill": {
     "duration": 0.262777,
     "end_time": "2024-05-02T12:53:53.206874",
     "exception": false,
     "start_time": "2024-05-02T12:53:52.944097",
     "status": "completed"
    },
    "tags": []
   },
   "outputs": [
    {
     "name": "stdout",
     "output_type": "stream",
     "text": [
      "<class 'pandas.core.frame.DataFrame'>\n",
      "RangeIndex: 100000 entries, 0 to 99999\n",
      "Data columns (total 28 columns):\n",
      " #   Column                    Non-Null Count   Dtype  \n",
      "---  ------                    --------------   -----  \n",
      " 0   ID                        100000 non-null  object \n",
      " 1   Customer_ID               100000 non-null  object \n",
      " 2   Month                     100000 non-null  object \n",
      " 3   Name                      90015 non-null   object \n",
      " 4   Age                       100000 non-null  object \n",
      " 5   SSN                       100000 non-null  object \n",
      " 6   Occupation                100000 non-null  object \n",
      " 7   Annual_Income             100000 non-null  object \n",
      " 8   Monthly_Inhand_Salary     84998 non-null   float64\n",
      " 9   Num_Bank_Accounts         100000 non-null  int64  \n",
      " 10  Num_Credit_Card           100000 non-null  int64  \n",
      " 11  Interest_Rate             100000 non-null  int64  \n",
      " 12  Num_of_Loan               100000 non-null  object \n",
      " 13  Type_of_Loan              88592 non-null   object \n",
      " 14  Delay_from_due_date       100000 non-null  int64  \n",
      " 15  Num_of_Delayed_Payment    92998 non-null   object \n",
      " 16  Changed_Credit_Limit      100000 non-null  object \n",
      " 17  Num_Credit_Inquiries      98035 non-null   float64\n",
      " 18  Credit_Mix                100000 non-null  object \n",
      " 19  Outstanding_Debt          100000 non-null  object \n",
      " 20  Credit_Utilization_Ratio  100000 non-null  float64\n",
      " 21  Credit_History_Age        90970 non-null   object \n",
      " 22  Payment_of_Min_Amount     100000 non-null  object \n",
      " 23  Total_EMI_per_month       100000 non-null  float64\n",
      " 24  Amount_invested_monthly   95521 non-null   object \n",
      " 25  Payment_Behaviour         100000 non-null  object \n",
      " 26  Monthly_Balance           98800 non-null   object \n",
      " 27  Credit_Score              100000 non-null  object \n",
      "dtypes: float64(4), int64(4), object(20)\n",
      "memory usage: 21.4+ MB\n"
     ]
    }
   ],
   "source": [
    "df.info()"
   ]
  },
  {
   "cell_type": "code",
   "execution_count": 8,
   "id": "cc187cda",
   "metadata": {
    "ExecuteTime": {
     "end_time": "2024-04-26T19:02:14.054014Z",
     "start_time": "2024-04-26T19:02:14.039495Z"
    },
    "execution": {
     "iopub.execute_input": "2024-05-02T12:53:53.287011Z",
     "iopub.status.busy": "2024-05-02T12:53:53.286653Z",
     "iopub.status.idle": "2024-05-02T12:53:54.705758Z",
     "shell.execute_reply": "2024-05-02T12:53:54.704735Z"
    },
    "papermill": {
     "duration": 1.461524,
     "end_time": "2024-05-02T12:53:54.708092",
     "exception": false,
     "start_time": "2024-05-02T12:53:53.246568",
     "status": "completed"
    },
    "tags": []
   },
   "outputs": [
    {
     "data": {
      "text/html": [
       "<div>\n",
       "<style scoped>\n",
       "    .dataframe tbody tr th:only-of-type {\n",
       "        vertical-align: middle;\n",
       "    }\n",
       "\n",
       "    .dataframe tbody tr th {\n",
       "        vertical-align: top;\n",
       "    }\n",
       "\n",
       "    .dataframe thead th {\n",
       "        text-align: right;\n",
       "    }\n",
       "</style>\n",
       "<table border=\"1\" class=\"dataframe\">\n",
       "  <thead>\n",
       "    <tr style=\"text-align: right;\">\n",
       "      <th></th>\n",
       "      <th>Type</th>\n",
       "      <th>Nunique</th>\n",
       "      <th>#of Missing</th>\n",
       "      <th>MostFreqItem</th>\n",
       "      <th>MostFreqCount</th>\n",
       "      <th>First</th>\n",
       "    </tr>\n",
       "  </thead>\n",
       "  <tbody>\n",
       "    <tr>\n",
       "      <th>ID</th>\n",
       "      <td>object</td>\n",
       "      <td>100000</td>\n",
       "      <td>0</td>\n",
       "      <td>0x25fb6</td>\n",
       "      <td>1</td>\n",
       "      <td>0x1602</td>\n",
       "    </tr>\n",
       "    <tr>\n",
       "      <th>Customer_ID</th>\n",
       "      <td>object</td>\n",
       "      <td>12500</td>\n",
       "      <td>0</td>\n",
       "      <td>CUS_0x942c</td>\n",
       "      <td>8</td>\n",
       "      <td>CUS_0xd40</td>\n",
       "    </tr>\n",
       "    <tr>\n",
       "      <th>Month</th>\n",
       "      <td>object</td>\n",
       "      <td>8</td>\n",
       "      <td>0</td>\n",
       "      <td>January</td>\n",
       "      <td>12500</td>\n",
       "      <td>January</td>\n",
       "    </tr>\n",
       "    <tr>\n",
       "      <th>Name</th>\n",
       "      <td>object</td>\n",
       "      <td>10139</td>\n",
       "      <td>9985</td>\n",
       "      <td>Langep</td>\n",
       "      <td>44</td>\n",
       "      <td>Aaron Maashoh</td>\n",
       "    </tr>\n",
       "    <tr>\n",
       "      <th>Age</th>\n",
       "      <td>object</td>\n",
       "      <td>1788</td>\n",
       "      <td>0</td>\n",
       "      <td>38</td>\n",
       "      <td>2833</td>\n",
       "      <td>23</td>\n",
       "    </tr>\n",
       "    <tr>\n",
       "      <th>SSN</th>\n",
       "      <td>object</td>\n",
       "      <td>12501</td>\n",
       "      <td>0</td>\n",
       "      <td>#F%$D@*&amp;8</td>\n",
       "      <td>5572</td>\n",
       "      <td>821-00-0265</td>\n",
       "    </tr>\n",
       "    <tr>\n",
       "      <th>Occupation</th>\n",
       "      <td>object</td>\n",
       "      <td>16</td>\n",
       "      <td>0</td>\n",
       "      <td>_______</td>\n",
       "      <td>7062</td>\n",
       "      <td>Scientist</td>\n",
       "    </tr>\n",
       "    <tr>\n",
       "      <th>Annual_Income</th>\n",
       "      <td>object</td>\n",
       "      <td>18940</td>\n",
       "      <td>0</td>\n",
       "      <td>20867.67</td>\n",
       "      <td>16</td>\n",
       "      <td>19114.12</td>\n",
       "    </tr>\n",
       "    <tr>\n",
       "      <th>Monthly_Inhand_Salary</th>\n",
       "      <td>float64</td>\n",
       "      <td>13235</td>\n",
       "      <td>15002</td>\n",
       "      <td>6358.957</td>\n",
       "      <td>15</td>\n",
       "      <td>1824.843</td>\n",
       "    </tr>\n",
       "    <tr>\n",
       "      <th>Num_Bank_Accounts</th>\n",
       "      <td>int64</td>\n",
       "      <td>943</td>\n",
       "      <td>0</td>\n",
       "      <td>6</td>\n",
       "      <td>13001</td>\n",
       "      <td>3</td>\n",
       "    </tr>\n",
       "    <tr>\n",
       "      <th>Num_Credit_Card</th>\n",
       "      <td>int64</td>\n",
       "      <td>1179</td>\n",
       "      <td>0</td>\n",
       "      <td>5</td>\n",
       "      <td>18459</td>\n",
       "      <td>4</td>\n",
       "    </tr>\n",
       "    <tr>\n",
       "      <th>Interest_Rate</th>\n",
       "      <td>int64</td>\n",
       "      <td>1750</td>\n",
       "      <td>0</td>\n",
       "      <td>8</td>\n",
       "      <td>5012</td>\n",
       "      <td>3</td>\n",
       "    </tr>\n",
       "    <tr>\n",
       "      <th>Num_of_Loan</th>\n",
       "      <td>object</td>\n",
       "      <td>434</td>\n",
       "      <td>0</td>\n",
       "      <td>3</td>\n",
       "      <td>14386</td>\n",
       "      <td>4</td>\n",
       "    </tr>\n",
       "    <tr>\n",
       "      <th>Type_of_Loan</th>\n",
       "      <td>object</td>\n",
       "      <td>6260</td>\n",
       "      <td>11408</td>\n",
       "      <td>Not Specified</td>\n",
       "      <td>1408</td>\n",
       "      <td>Auto Loan, Credit-Builder Loan, Personal Loan,...</td>\n",
       "    </tr>\n",
       "    <tr>\n",
       "      <th>Delay_from_due_date</th>\n",
       "      <td>int64</td>\n",
       "      <td>73</td>\n",
       "      <td>0</td>\n",
       "      <td>15</td>\n",
       "      <td>3596</td>\n",
       "      <td>3</td>\n",
       "    </tr>\n",
       "    <tr>\n",
       "      <th>Num_of_Delayed_Payment</th>\n",
       "      <td>object</td>\n",
       "      <td>749</td>\n",
       "      <td>7002</td>\n",
       "      <td>19</td>\n",
       "      <td>5327</td>\n",
       "      <td>7</td>\n",
       "    </tr>\n",
       "    <tr>\n",
       "      <th>Changed_Credit_Limit</th>\n",
       "      <td>object</td>\n",
       "      <td>4384</td>\n",
       "      <td>0</td>\n",
       "      <td>_</td>\n",
       "      <td>2091</td>\n",
       "      <td>11.27</td>\n",
       "    </tr>\n",
       "    <tr>\n",
       "      <th>Num_Credit_Inquiries</th>\n",
       "      <td>float64</td>\n",
       "      <td>1223</td>\n",
       "      <td>1965</td>\n",
       "      <td>4.000</td>\n",
       "      <td>11271</td>\n",
       "      <td>4.000</td>\n",
       "    </tr>\n",
       "    <tr>\n",
       "      <th>Credit_Mix</th>\n",
       "      <td>object</td>\n",
       "      <td>4</td>\n",
       "      <td>0</td>\n",
       "      <td>Standard</td>\n",
       "      <td>36479</td>\n",
       "      <td>_</td>\n",
       "    </tr>\n",
       "    <tr>\n",
       "      <th>Outstanding_Debt</th>\n",
       "      <td>object</td>\n",
       "      <td>13178</td>\n",
       "      <td>0</td>\n",
       "      <td>1360.45</td>\n",
       "      <td>24</td>\n",
       "      <td>809.98</td>\n",
       "    </tr>\n",
       "    <tr>\n",
       "      <th>Credit_Utilization_Ratio</th>\n",
       "      <td>float64</td>\n",
       "      <td>100000</td>\n",
       "      <td>0</td>\n",
       "      <td>27.289</td>\n",
       "      <td>1</td>\n",
       "      <td>26.823</td>\n",
       "    </tr>\n",
       "    <tr>\n",
       "      <th>Credit_History_Age</th>\n",
       "      <td>object</td>\n",
       "      <td>404</td>\n",
       "      <td>9030</td>\n",
       "      <td>15 Years and 11 Months</td>\n",
       "      <td>446</td>\n",
       "      <td>22 Years and 1 Months</td>\n",
       "    </tr>\n",
       "    <tr>\n",
       "      <th>Payment_of_Min_Amount</th>\n",
       "      <td>object</td>\n",
       "      <td>3</td>\n",
       "      <td>0</td>\n",
       "      <td>Yes</td>\n",
       "      <td>52326</td>\n",
       "      <td>No</td>\n",
       "    </tr>\n",
       "    <tr>\n",
       "      <th>Total_EMI_per_month</th>\n",
       "      <td>float64</td>\n",
       "      <td>14950</td>\n",
       "      <td>0</td>\n",
       "      <td>0.000</td>\n",
       "      <td>10613</td>\n",
       "      <td>49.575</td>\n",
       "    </tr>\n",
       "    <tr>\n",
       "      <th>Amount_invested_monthly</th>\n",
       "      <td>object</td>\n",
       "      <td>91049</td>\n",
       "      <td>4479</td>\n",
       "      <td>__10000__</td>\n",
       "      <td>4305</td>\n",
       "      <td>80.41529543900253</td>\n",
       "    </tr>\n",
       "    <tr>\n",
       "      <th>Payment_Behaviour</th>\n",
       "      <td>object</td>\n",
       "      <td>7</td>\n",
       "      <td>0</td>\n",
       "      <td>Low_spent_Small_value_payments</td>\n",
       "      <td>25513</td>\n",
       "      <td>High_spent_Small_value_payments</td>\n",
       "    </tr>\n",
       "    <tr>\n",
       "      <th>Monthly_Balance</th>\n",
       "      <td>object</td>\n",
       "      <td>98792</td>\n",
       "      <td>1200</td>\n",
       "      <td>__-333333333333333333333333333__</td>\n",
       "      <td>9</td>\n",
       "      <td>312.49408867943663</td>\n",
       "    </tr>\n",
       "    <tr>\n",
       "      <th>Credit_Score</th>\n",
       "      <td>object</td>\n",
       "      <td>3</td>\n",
       "      <td>0</td>\n",
       "      <td>Standard</td>\n",
       "      <td>53174</td>\n",
       "      <td>Good</td>\n",
       "    </tr>\n",
       "  </tbody>\n",
       "</table>\n",
       "</div>"
      ],
      "text/plain": [
       "                             Type  Nunique  #of Missing  \\\n",
       "ID                         object   100000            0   \n",
       "Customer_ID                object    12500            0   \n",
       "Month                      object        8            0   \n",
       "Name                       object    10139         9985   \n",
       "Age                        object     1788            0   \n",
       "SSN                        object    12501            0   \n",
       "Occupation                 object       16            0   \n",
       "Annual_Income              object    18940            0   \n",
       "Monthly_Inhand_Salary     float64    13235        15002   \n",
       "Num_Bank_Accounts           int64      943            0   \n",
       "Num_Credit_Card             int64     1179            0   \n",
       "Interest_Rate               int64     1750            0   \n",
       "Num_of_Loan                object      434            0   \n",
       "Type_of_Loan               object     6260        11408   \n",
       "Delay_from_due_date         int64       73            0   \n",
       "Num_of_Delayed_Payment     object      749         7002   \n",
       "Changed_Credit_Limit       object     4384            0   \n",
       "Num_Credit_Inquiries      float64     1223         1965   \n",
       "Credit_Mix                 object        4            0   \n",
       "Outstanding_Debt           object    13178            0   \n",
       "Credit_Utilization_Ratio  float64   100000            0   \n",
       "Credit_History_Age         object      404         9030   \n",
       "Payment_of_Min_Amount      object        3            0   \n",
       "Total_EMI_per_month       float64    14950            0   \n",
       "Amount_invested_monthly    object    91049         4479   \n",
       "Payment_Behaviour          object        7            0   \n",
       "Monthly_Balance            object    98792         1200   \n",
       "Credit_Score               object        3            0   \n",
       "\n",
       "                                              MostFreqItem  MostFreqCount  \\\n",
       "ID                                                 0x25fb6              1   \n",
       "Customer_ID                                     CUS_0x942c              8   \n",
       "Month                                              January          12500   \n",
       "Name                                                Langep             44   \n",
       "Age                                                     38           2833   \n",
       "SSN                                              #F%$D@*&8           5572   \n",
       "Occupation                                         _______           7062   \n",
       "Annual_Income                                     20867.67             16   \n",
       "Monthly_Inhand_Salary                             6358.957             15   \n",
       "Num_Bank_Accounts                                        6          13001   \n",
       "Num_Credit_Card                                          5          18459   \n",
       "Interest_Rate                                            8           5012   \n",
       "Num_of_Loan                                              3          14386   \n",
       "Type_of_Loan                                 Not Specified           1408   \n",
       "Delay_from_due_date                                     15           3596   \n",
       "Num_of_Delayed_Payment                                  19           5327   \n",
       "Changed_Credit_Limit                                     _           2091   \n",
       "Num_Credit_Inquiries                                 4.000          11271   \n",
       "Credit_Mix                                        Standard          36479   \n",
       "Outstanding_Debt                                   1360.45             24   \n",
       "Credit_Utilization_Ratio                            27.289              1   \n",
       "Credit_History_Age                  15 Years and 11 Months            446   \n",
       "Payment_of_Min_Amount                                  Yes          52326   \n",
       "Total_EMI_per_month                                  0.000          10613   \n",
       "Amount_invested_monthly                          __10000__           4305   \n",
       "Payment_Behaviour           Low_spent_Small_value_payments          25513   \n",
       "Monthly_Balance           __-333333333333333333333333333__              9   \n",
       "Credit_Score                                      Standard          53174   \n",
       "\n",
       "                                                                      First  \n",
       "ID                                                                   0x1602  \n",
       "Customer_ID                                                       CUS_0xd40  \n",
       "Month                                                               January  \n",
       "Name                                                          Aaron Maashoh  \n",
       "Age                                                                      23  \n",
       "SSN                                                             821-00-0265  \n",
       "Occupation                                                        Scientist  \n",
       "Annual_Income                                                      19114.12  \n",
       "Monthly_Inhand_Salary                                              1824.843  \n",
       "Num_Bank_Accounts                                                         3  \n",
       "Num_Credit_Card                                                           4  \n",
       "Interest_Rate                                                             3  \n",
       "Num_of_Loan                                                               4  \n",
       "Type_of_Loan              Auto Loan, Credit-Builder Loan, Personal Loan,...  \n",
       "Delay_from_due_date                                                       3  \n",
       "Num_of_Delayed_Payment                                                    7  \n",
       "Changed_Credit_Limit                                                  11.27  \n",
       "Num_Credit_Inquiries                                                  4.000  \n",
       "Credit_Mix                                                                _  \n",
       "Outstanding_Debt                                                     809.98  \n",
       "Credit_Utilization_Ratio                                             26.823  \n",
       "Credit_History_Age                                    22 Years and 1 Months  \n",
       "Payment_of_Min_Amount                                                    No  \n",
       "Total_EMI_per_month                                                  49.575  \n",
       "Amount_invested_monthly                                   80.41529543900253  \n",
       "Payment_Behaviour                           High_spent_Small_value_payments  \n",
       "Monthly_Balance                                          312.49408867943663  \n",
       "Credit_Score                                                           Good  "
      ]
     },
     "execution_count": 8,
     "metadata": {},
     "output_type": "execute_result"
    }
   ],
   "source": [
    "# The alternative code for an overview of dataset features ;\n",
    "\n",
    "def compr_info(df, dropna=False):\n",
    "    \"\"\"\n",
    "    Returns a dataframe consisting of datatypes, nuniques, #s of nulls head(1), most frequent item and its frequncy,\n",
    "    where the column names are indices.\n",
    "    \"\"\"\n",
    "    dt=pd.DataFrame(df.dtypes, columns=[\"Type\"])\n",
    "    dn=pd.DataFrame(df.nunique(), columns=[\"Nunique\"])\n",
    "    nonnull=pd.DataFrame(df.isnull().sum(), columns=[\"#of Missing\"])\n",
    "    firstT=df.head(1).T.rename(columns={0:\"First\"})\n",
    "    MostFreqI=pd.DataFrame([df[x].value_counts().head(1).index[0] for x in df.columns], columns=[\"MostFreqItem\"],index=df.columns)\n",
    "    MostFreqC=pd.DataFrame([df[x].value_counts().head(1).values[0] for x in df.columns], columns=[\"MostFreqCount\"],index=df.columns)\n",
    "    return pd.concat([dt,dn,nonnull,MostFreqI,MostFreqC,firstT],axis=1)\n",
    "\n",
    "compr_info(df)"
   ]
  },
  {
   "cell_type": "code",
   "execution_count": 9,
   "id": "7141cb51",
   "metadata": {
    "ExecuteTime": {
     "end_time": "2024-04-24T22:02:21.569430Z",
     "start_time": "2024-04-24T22:02:21.445267Z"
    },
    "execution": {
     "iopub.execute_input": "2024-05-02T12:53:54.791532Z",
     "iopub.status.busy": "2024-05-02T12:53:54.791155Z",
     "iopub.status.idle": "2024-05-02T12:53:54.990810Z",
     "shell.execute_reply": "2024-05-02T12:53:54.989687Z"
    },
    "papermill": {
     "duration": 0.244051,
     "end_time": "2024-05-02T12:53:54.993095",
     "exception": false,
     "start_time": "2024-05-02T12:53:54.749044",
     "status": "completed"
    },
    "tags": []
   },
   "outputs": [
    {
     "data": {
      "text/plain": [
       "ID                              0\n",
       "Customer_ID                     0\n",
       "Month                           0\n",
       "Name                         9985\n",
       "Age                             0\n",
       "SSN                             0\n",
       "Occupation                      0\n",
       "Annual_Income                   0\n",
       "Monthly_Inhand_Salary       15002\n",
       "Num_Bank_Accounts               0\n",
       "Num_Credit_Card                 0\n",
       "Interest_Rate                   0\n",
       "Num_of_Loan                     0\n",
       "Type_of_Loan                11408\n",
       "Delay_from_due_date             0\n",
       "Num_of_Delayed_Payment       7002\n",
       "Changed_Credit_Limit            0\n",
       "Num_Credit_Inquiries         1965\n",
       "Credit_Mix                      0\n",
       "Outstanding_Debt                0\n",
       "Credit_Utilization_Ratio        0\n",
       "Credit_History_Age           9030\n",
       "Payment_of_Min_Amount           0\n",
       "Total_EMI_per_month             0\n",
       "Amount_invested_monthly      4479\n",
       "Payment_Behaviour               0\n",
       "Monthly_Balance              1200\n",
       "Credit_Score                    0\n",
       "dtype: int64"
      ]
     },
     "execution_count": 9,
     "metadata": {},
     "output_type": "execute_result"
    }
   ],
   "source": [
    "df.isna().sum()"
   ]
  },
  {
   "cell_type": "code",
   "execution_count": 10,
   "id": "6dde2ff4",
   "metadata": {
    "ExecuteTime": {
     "end_time": "2024-04-24T22:02:24.633234Z",
     "start_time": "2024-04-24T22:02:24.442263Z"
    },
    "execution": {
     "iopub.execute_input": "2024-05-02T12:53:55.077646Z",
     "iopub.status.busy": "2024-05-02T12:53:55.076672Z",
     "iopub.status.idle": "2024-05-02T12:53:55.281281Z",
     "shell.execute_reply": "2024-05-02T12:53:55.280338Z"
    },
    "papermill": {
     "duration": 0.247761,
     "end_time": "2024-05-02T12:53:55.283534",
     "exception": false,
     "start_time": "2024-05-02T12:53:55.035773",
     "status": "completed"
    },
    "tags": []
   },
   "outputs": [
    {
     "data": {
      "text/plain": [
       "60071"
      ]
     },
     "execution_count": 10,
     "metadata": {},
     "output_type": "execute_result"
    }
   ],
   "source": [
    " df.isna().sum().sum()"
   ]
  },
  {
   "cell_type": "markdown",
   "id": "6a2c5bd1",
   "metadata": {
    "papermill": {
     "duration": 0.040044,
     "end_time": "2024-05-02T12:53:55.362155",
     "exception": false,
     "start_time": "2024-05-02T12:53:55.322111",
     "status": "completed"
    },
    "tags": []
   },
   "source": [
    "#### ***Although the columns are not NaN, there may be rows containing any other expressions that express absence.***"
   ]
  },
  {
   "cell_type": "code",
   "execution_count": 11,
   "id": "8233242d",
   "metadata": {
    "execution": {
     "iopub.execute_input": "2024-05-02T12:53:55.442494Z",
     "iopub.status.busy": "2024-05-02T12:53:55.442123Z",
     "iopub.status.idle": "2024-05-02T12:54:09.820277Z",
     "shell.execute_reply": "2024-05-02T12:54:09.819147Z"
    },
    "papermill": {
     "duration": 14.421232,
     "end_time": "2024-05-02T12:54:09.822449",
     "exception": false,
     "start_time": "2024-05-02T12:53:55.401217",
     "status": "completed"
    },
    "tags": []
   },
   "outputs": [
    {
     "name": "stdout",
     "output_type": "stream",
     "text": [
      "Requirement already satisfied: colorama in /opt/conda/lib/python3.10/site-packages (0.4.6)\r\n",
      "Note: you may need to restart the kernel to use updated packages.\n"
     ]
    }
   ],
   "source": [
    "pip install colorama"
   ]
  },
  {
   "cell_type": "code",
   "execution_count": 12,
   "id": "023ad797",
   "metadata": {
    "ExecuteTime": {
     "end_time": "2024-05-01T08:52:12.516420Z",
     "start_time": "2024-05-01T08:52:12.502265Z"
    },
    "execution": {
     "iopub.execute_input": "2024-05-02T12:54:09.902366Z",
     "iopub.status.busy": "2024-05-02T12:54:09.901549Z",
     "iopub.status.idle": "2024-05-02T12:54:09.909845Z",
     "shell.execute_reply": "2024-05-02T12:54:09.908959Z"
    },
    "papermill": {
     "duration": 0.051158,
     "end_time": "2024-05-02T12:54:09.912020",
     "exception": false,
     "start_time": "2024-05-02T12:54:09.860862",
     "status": "completed"
    },
    "tags": []
   },
   "outputs": [],
   "source": [
    "# for checking all dataframe if there is any match with our regex pattern\n",
    "\n",
    "pattern = re.compile(r\"^[^a-zA-Z0-9 .,]+$\") \n",
    "\n",
    "from colorama import init, Fore, Back, Style\n",
    "\n",
    "def matched_re(df):\n",
    "    total_matches = 0\n",
    "    for column in df.columns:\n",
    "        column_matches = 0\n",
    "        matched_values = set()  \n",
    "        for value in df[column]:\n",
    "            if re.search(r\"^[^a-zA-Z0-9 .,]+$\", str(value)):\n",
    "                column_matches += 1\n",
    "                matched_values.add(value)\n",
    "                total_matches += 1\n",
    "        if column_matches > 0:\n",
    "            print(f\"{Back.YELLOW + Fore.BLACK} Matched values in column {column}: {column_matches} times '{', '.join(matched_values)}' {Style.RESET_ALL}\")\n",
    "            \n",
    "        else:\n",
    "            print(f\"Total matches in column {column}: {column_matches}\")\n",
    "    print(f\"{Back.YELLOW + Fore.BLACK}Total matches in dataframe: {total_matches} {Style.RESET_ALL}\")"
   ]
  },
  {
   "cell_type": "code",
   "execution_count": 13,
   "id": "e88dfc60",
   "metadata": {
    "ExecuteTime": {
     "end_time": "2024-04-24T22:02:39.099282Z",
     "start_time": "2024-04-24T22:02:31.947373Z"
    },
    "execution": {
     "iopub.execute_input": "2024-05-02T12:54:09.991664Z",
     "iopub.status.busy": "2024-05-02T12:54:09.991308Z",
     "iopub.status.idle": "2024-05-02T12:54:14.991468Z",
     "shell.execute_reply": "2024-05-02T12:54:14.990239Z"
    },
    "papermill": {
     "duration": 5.042092,
     "end_time": "2024-05-02T12:54:14.993957",
     "exception": false,
     "start_time": "2024-05-02T12:54:09.951865",
     "status": "completed"
    },
    "tags": []
   },
   "outputs": [
    {
     "name": "stdout",
     "output_type": "stream",
     "text": [
      "Total matches in column ID: 0\n",
      "Total matches in column Customer_ID: 0\n",
      "Total matches in column Month: 0\n",
      "Total matches in column Name: 0\n",
      "Total matches in column Age: 0\n",
      "Total matches in column SSN: 0\n",
      "\u001b[43m\u001b[30m Matched values in column Occupation: 7062 times '_______' \u001b[0m\n",
      "Total matches in column Annual_Income: 0\n",
      "Total matches in column Monthly_Inhand_Salary: 0\n",
      "Total matches in column Num_Bank_Accounts: 0\n",
      "Total matches in column Num_Credit_Card: 0\n",
      "Total matches in column Interest_Rate: 0\n",
      "Total matches in column Num_of_Loan: 0\n",
      "Total matches in column Type_of_Loan: 0\n",
      "Total matches in column Delay_from_due_date: 0\n",
      "Total matches in column Num_of_Delayed_Payment: 0\n",
      "\u001b[43m\u001b[30m Matched values in column Changed_Credit_Limit: 2091 times '_' \u001b[0m\n",
      "Total matches in column Num_Credit_Inquiries: 0\n",
      "\u001b[43m\u001b[30m Matched values in column Credit_Mix: 20195 times '_' \u001b[0m\n",
      "Total matches in column Outstanding_Debt: 0\n",
      "Total matches in column Credit_Utilization_Ratio: 0\n",
      "Total matches in column Credit_History_Age: 0\n",
      "Total matches in column Payment_of_Min_Amount: 0\n",
      "Total matches in column Total_EMI_per_month: 0\n",
      "Total matches in column Amount_invested_monthly: 0\n",
      "Total matches in column Payment_Behaviour: 0\n",
      "Total matches in column Monthly_Balance: 0\n",
      "Total matches in column Credit_Score: 0\n",
      "\u001b[43m\u001b[30mTotal matches in dataframe: 29348 \u001b[0m\n"
     ]
    }
   ],
   "source": [
    "matched_re(df)"
   ]
  },
  {
   "cell_type": "code",
   "execution_count": 14,
   "id": "8f85ec4e",
   "metadata": {
    "ExecuteTime": {
     "end_time": "2024-04-24T22:02:42.125163Z",
     "start_time": "2024-04-24T22:02:41.990116Z"
    },
    "execution": {
     "iopub.execute_input": "2024-05-02T12:54:15.083940Z",
     "iopub.status.busy": "2024-05-02T12:54:15.083037Z",
     "iopub.status.idle": "2024-05-02T12:54:15.297032Z",
     "shell.execute_reply": "2024-05-02T12:54:15.295937Z"
    },
    "papermill": {
     "duration": 0.26181,
     "end_time": "2024-05-02T12:54:15.299372",
     "exception": false,
     "start_time": "2024-05-02T12:54:15.037562",
     "status": "completed"
    },
    "tags": []
   },
   "outputs": [
    {
     "data": {
      "text/plain": [
       "60071"
      ]
     },
     "execution_count": 14,
     "metadata": {},
     "output_type": "execute_result"
    }
   ],
   "source": [
    "df.isna().sum().sum() "
   ]
  },
  {
   "cell_type": "code",
   "execution_count": 15,
   "id": "0fe26006",
   "metadata": {
    "ExecuteTime": {
     "end_time": "2024-04-24T22:02:43.793541Z",
     "start_time": "2024-04-24T22:02:43.781078Z"
    },
    "execution": {
     "iopub.execute_input": "2024-05-02T12:54:15.387821Z",
     "iopub.status.busy": "2024-05-02T12:54:15.387418Z",
     "iopub.status.idle": "2024-05-02T12:54:15.393203Z",
     "shell.execute_reply": "2024-05-02T12:54:15.392378Z"
    },
    "papermill": {
     "duration": 0.052166,
     "end_time": "2024-05-02T12:54:15.395161",
     "exception": false,
     "start_time": "2024-05-02T12:54:15.342995",
     "status": "completed"
    },
    "tags": []
   },
   "outputs": [
    {
     "data": {
      "text/plain": [
       "89419"
      ]
     },
     "execution_count": 15,
     "metadata": {},
     "output_type": "execute_result"
    }
   ],
   "source": [
    "60071+29348"
   ]
  },
  {
   "cell_type": "markdown",
   "id": "b366d909",
   "metadata": {
    "papermill": {
     "duration": 0.042124,
     "end_time": "2024-05-02T12:54:15.481881",
     "exception": false,
     "start_time": "2024-05-02T12:54:15.439757",
     "status": "completed"
    },
    "tags": []
   },
   "source": [
    "#### *The total number of nulls is 60071 + 29348 = 89419 so many that we have a problem to overcome,first I will replace the values that are not entered and appear as underscores and similar symbols with NaN to make them easier to use.*"
   ]
  },
  {
   "cell_type": "code",
   "execution_count": 16,
   "id": "e29b4a00",
   "metadata": {
    "ExecuteTime": {
     "end_time": "2024-04-24T22:02:47.440042Z",
     "start_time": "2024-04-24T22:02:47.279339Z"
    },
    "execution": {
     "iopub.execute_input": "2024-05-02T12:54:15.565708Z",
     "iopub.status.busy": "2024-05-02T12:54:15.565335Z",
     "iopub.status.idle": "2024-05-02T12:54:15.662419Z",
     "shell.execute_reply": "2024-05-02T12:54:15.661394Z"
    },
    "papermill": {
     "duration": 0.141361,
     "end_time": "2024-05-02T12:54:15.664635",
     "exception": false,
     "start_time": "2024-05-02T12:54:15.523274",
     "status": "completed"
    },
    "tags": []
   },
   "outputs": [
    {
     "data": {
      "text/html": [
       "<div>\n",
       "<style scoped>\n",
       "    .dataframe tbody tr th:only-of-type {\n",
       "        vertical-align: middle;\n",
       "    }\n",
       "\n",
       "    .dataframe tbody tr th {\n",
       "        vertical-align: top;\n",
       "    }\n",
       "\n",
       "    .dataframe thead th {\n",
       "        text-align: right;\n",
       "    }\n",
       "</style>\n",
       "<table border=\"1\" class=\"dataframe\">\n",
       "  <thead>\n",
       "    <tr style=\"text-align: right;\">\n",
       "      <th></th>\n",
       "      <th>ID</th>\n",
       "      <th>Customer_ID</th>\n",
       "      <th>Month</th>\n",
       "      <th>Name</th>\n",
       "      <th>Age</th>\n",
       "      <th>SSN</th>\n",
       "      <th>Occupation</th>\n",
       "      <th>Annual_Income</th>\n",
       "      <th>Monthly_Inhand_Salary</th>\n",
       "      <th>Num_Bank_Accounts</th>\n",
       "      <th>Num_Credit_Card</th>\n",
       "      <th>Interest_Rate</th>\n",
       "      <th>Num_of_Loan</th>\n",
       "      <th>Type_of_Loan</th>\n",
       "      <th>Delay_from_due_date</th>\n",
       "      <th>Num_of_Delayed_Payment</th>\n",
       "      <th>Changed_Credit_Limit</th>\n",
       "      <th>Num_Credit_Inquiries</th>\n",
       "      <th>Credit_Mix</th>\n",
       "      <th>Outstanding_Debt</th>\n",
       "      <th>Credit_Utilization_Ratio</th>\n",
       "      <th>Credit_History_Age</th>\n",
       "      <th>Payment_of_Min_Amount</th>\n",
       "      <th>Total_EMI_per_month</th>\n",
       "      <th>Amount_invested_monthly</th>\n",
       "      <th>Payment_Behaviour</th>\n",
       "      <th>Monthly_Balance</th>\n",
       "      <th>Credit_Score</th>\n",
       "    </tr>\n",
       "  </thead>\n",
       "  <tbody>\n",
       "    <tr>\n",
       "      <th>2</th>\n",
       "      <td>0x1604</td>\n",
       "      <td>CUS_0xd40</td>\n",
       "      <td>March</td>\n",
       "      <td>Aaron Maashoh</td>\n",
       "      <td>-500</td>\n",
       "      <td>821-00-0265</td>\n",
       "      <td>Scientist</td>\n",
       "      <td>19114.12</td>\n",
       "      <td>NaN</td>\n",
       "      <td>3</td>\n",
       "      <td>4</td>\n",
       "      <td>3</td>\n",
       "      <td>4</td>\n",
       "      <td>Auto Loan, Credit-Builder Loan, Personal Loan,...</td>\n",
       "      <td>3</td>\n",
       "      <td>7</td>\n",
       "      <td>_</td>\n",
       "      <td>4.000</td>\n",
       "      <td>Good</td>\n",
       "      <td>809.98</td>\n",
       "      <td>28.609</td>\n",
       "      <td>22 Years and 3 Months</td>\n",
       "      <td>No</td>\n",
       "      <td>49.575</td>\n",
       "      <td>81.699521264648</td>\n",
       "      <td>Low_spent_Medium_value_payments</td>\n",
       "      <td>331.2098628537912</td>\n",
       "      <td>Good</td>\n",
       "    </tr>\n",
       "    <tr>\n",
       "      <th>65</th>\n",
       "      <td>0x1663</td>\n",
       "      <td>CUS_0x4157</td>\n",
       "      <td>February</td>\n",
       "      <td>Charlie Zhur</td>\n",
       "      <td>23</td>\n",
       "      <td>070-19-1622</td>\n",
       "      <td>Doctor</td>\n",
       "      <td>114838.41</td>\n",
       "      <td>9843.868</td>\n",
       "      <td>2</td>\n",
       "      <td>5</td>\n",
       "      <td>7</td>\n",
       "      <td>3</td>\n",
       "      <td>Personal Loan, Debt Consolidation Loan, and Au...</td>\n",
       "      <td>14</td>\n",
       "      <td>8</td>\n",
       "      <td>_</td>\n",
       "      <td>3.000</td>\n",
       "      <td>Good</td>\n",
       "      <td>1377.74</td>\n",
       "      <td>27.626</td>\n",
       "      <td>21 Years and 5 Months</td>\n",
       "      <td>NM</td>\n",
       "      <td>226.893</td>\n",
       "      <td>212.23560220847847</td>\n",
       "      <td>High_spent_Large_value_payments</td>\n",
       "      <td>785.2583558699787</td>\n",
       "      <td>Good</td>\n",
       "    </tr>\n",
       "    <tr>\n",
       "      <th>66</th>\n",
       "      <td>0x1664</td>\n",
       "      <td>CUS_0x4157</td>\n",
       "      <td>March</td>\n",
       "      <td>Charlie Zhur</td>\n",
       "      <td>23</td>\n",
       "      <td>070-19-1622</td>\n",
       "      <td>Doctor</td>\n",
       "      <td>114838.41_</td>\n",
       "      <td>NaN</td>\n",
       "      <td>2</td>\n",
       "      <td>5</td>\n",
       "      <td>7</td>\n",
       "      <td>3</td>\n",
       "      <td>Personal Loan, Debt Consolidation Loan, and Au...</td>\n",
       "      <td>11</td>\n",
       "      <td>11</td>\n",
       "      <td>_</td>\n",
       "      <td>3.000</td>\n",
       "      <td>Good</td>\n",
       "      <td>1377.74</td>\n",
       "      <td>35.142</td>\n",
       "      <td>21 Years and 6 Months</td>\n",
       "      <td>NM</td>\n",
       "      <td>226.893</td>\n",
       "      <td>470.3857956796373</td>\n",
       "      <td>High_spent_Small_value_payments</td>\n",
       "      <td>547.1081623988198</td>\n",
       "      <td>Good</td>\n",
       "    </tr>\n",
       "  </tbody>\n",
       "</table>\n",
       "</div>"
      ],
      "text/plain": [
       "        ID Customer_ID     Month           Name   Age          SSN Occupation  \\\n",
       "2   0x1604   CUS_0xd40     March  Aaron Maashoh  -500  821-00-0265  Scientist   \n",
       "65  0x1663  CUS_0x4157  February   Charlie Zhur    23  070-19-1622     Doctor   \n",
       "66  0x1664  CUS_0x4157     March   Charlie Zhur    23  070-19-1622     Doctor   \n",
       "\n",
       "   Annual_Income  Monthly_Inhand_Salary  Num_Bank_Accounts  Num_Credit_Card  \\\n",
       "2       19114.12                    NaN                  3                4   \n",
       "65     114838.41               9843.868                  2                5   \n",
       "66    114838.41_                    NaN                  2                5   \n",
       "\n",
       "    Interest_Rate Num_of_Loan  \\\n",
       "2               3           4   \n",
       "65              7           3   \n",
       "66              7           3   \n",
       "\n",
       "                                         Type_of_Loan  Delay_from_due_date  \\\n",
       "2   Auto Loan, Credit-Builder Loan, Personal Loan,...                    3   \n",
       "65  Personal Loan, Debt Consolidation Loan, and Au...                   14   \n",
       "66  Personal Loan, Debt Consolidation Loan, and Au...                   11   \n",
       "\n",
       "   Num_of_Delayed_Payment Changed_Credit_Limit  Num_Credit_Inquiries  \\\n",
       "2                       7                    _                 4.000   \n",
       "65                      8                    _                 3.000   \n",
       "66                     11                    _                 3.000   \n",
       "\n",
       "   Credit_Mix Outstanding_Debt  Credit_Utilization_Ratio  \\\n",
       "2        Good           809.98                    28.609   \n",
       "65       Good          1377.74                    27.626   \n",
       "66       Good          1377.74                    35.142   \n",
       "\n",
       "       Credit_History_Age Payment_of_Min_Amount  Total_EMI_per_month  \\\n",
       "2   22 Years and 3 Months                    No               49.575   \n",
       "65  21 Years and 5 Months                    NM              226.893   \n",
       "66  21 Years and 6 Months                    NM              226.893   \n",
       "\n",
       "   Amount_invested_monthly                Payment_Behaviour  \\\n",
       "2          81.699521264648  Low_spent_Medium_value_payments   \n",
       "65      212.23560220847847  High_spent_Large_value_payments   \n",
       "66       470.3857956796373  High_spent_Small_value_payments   \n",
       "\n",
       "      Monthly_Balance Credit_Score  \n",
       "2   331.2098628537912         Good  \n",
       "65  785.2583558699787         Good  \n",
       "66  547.1081623988198         Good  "
      ]
     },
     "execution_count": 16,
     "metadata": {},
     "output_type": "execute_result"
    }
   ],
   "source": [
    "df.loc[(df[\"Changed_Credit_Limit\"].str.contains(pattern,regex=True)==True)].head(3)"
   ]
  },
  {
   "cell_type": "code",
   "execution_count": 17,
   "id": "10c6cc61",
   "metadata": {
    "ExecuteTime": {
     "end_time": "2024-04-25T00:51:48.264756Z",
     "start_time": "2024-04-25T00:51:48.125045Z"
    },
    "execution": {
     "iopub.execute_input": "2024-05-02T12:54:15.752762Z",
     "iopub.status.busy": "2024-05-02T12:54:15.752150Z",
     "iopub.status.idle": "2024-05-02T12:54:15.831292Z",
     "shell.execute_reply": "2024-05-02T12:54:15.830515Z"
    },
    "papermill": {
     "duration": 0.124308,
     "end_time": "2024-05-02T12:54:15.833795",
     "exception": false,
     "start_time": "2024-05-02T12:54:15.709487",
     "status": "completed"
    },
    "tags": []
   },
   "outputs": [],
   "source": [
    "df.loc[(df[\"Changed_Credit_Limit\"].str.contains(pattern,regex=True)==True),\"Changed_Credit_Limit\"] = np.nan"
   ]
  },
  {
   "cell_type": "code",
   "execution_count": 18,
   "id": "0f1cdffa",
   "metadata": {
    "ExecuteTime": {
     "end_time": "2024-04-25T00:51:50.689163Z",
     "start_time": "2024-04-25T00:51:50.541372Z"
    },
    "execution": {
     "iopub.execute_input": "2024-05-02T12:54:15.927354Z",
     "iopub.status.busy": "2024-05-02T12:54:15.926528Z",
     "iopub.status.idle": "2024-05-02T12:54:16.023447Z",
     "shell.execute_reply": "2024-05-02T12:54:16.022556Z"
    },
    "papermill": {
     "duration": 0.145342,
     "end_time": "2024-05-02T12:54:16.025677",
     "exception": false,
     "start_time": "2024-05-02T12:54:15.880335",
     "status": "completed"
    },
    "tags": []
   },
   "outputs": [
    {
     "data": {
      "text/plain": [
       "0"
      ]
     },
     "execution_count": 18,
     "metadata": {},
     "output_type": "execute_result"
    }
   ],
   "source": [
    "df.loc[(df[\"Changed_Credit_Limit\"].str.contains(pattern,regex=True)==True),\"Changed_Credit_Limit\"].count()"
   ]
  },
  {
   "cell_type": "code",
   "execution_count": 19,
   "id": "01ba2af1",
   "metadata": {
    "ExecuteTime": {
     "end_time": "2024-04-25T00:51:53.171941Z",
     "start_time": "2024-04-25T00:51:53.142273Z"
    },
    "execution": {
     "iopub.execute_input": "2024-05-02T12:54:16.111910Z",
     "iopub.status.busy": "2024-05-02T12:54:16.111571Z",
     "iopub.status.idle": "2024-05-02T12:54:16.125282Z",
     "shell.execute_reply": "2024-05-02T12:54:16.124416Z"
    },
    "papermill": {
     "duration": 0.058029,
     "end_time": "2024-05-02T12:54:16.127396",
     "exception": false,
     "start_time": "2024-05-02T12:54:16.069367",
     "status": "completed"
    },
    "tags": []
   },
   "outputs": [
    {
     "data": {
      "text/plain": [
       "Occupation\n",
       "_______          7062\n",
       "Lawyer           6575\n",
       "Architect        6355\n",
       "Engineer         6350\n",
       "Scientist        6299\n",
       "Mechanic         6291\n",
       "Accountant       6271\n",
       "Developer        6235\n",
       "Media_Manager    6232\n",
       "Teacher          6215\n",
       "Entrepreneur     6174\n",
       "Doctor           6087\n",
       "Journalist       6085\n",
       "Manager          5973\n",
       "Musician         5911\n",
       "Writer           5885\n",
       "Name: count, dtype: int64"
      ]
     },
     "execution_count": 19,
     "metadata": {},
     "output_type": "execute_result"
    }
   ],
   "source": [
    "df.Occupation.value_counts(dropna=False)"
   ]
  },
  {
   "cell_type": "code",
   "execution_count": 20,
   "id": "8f57948a",
   "metadata": {
    "ExecuteTime": {
     "end_time": "2024-04-25T00:51:57.398357Z",
     "start_time": "2024-04-25T00:51:57.364107Z"
    },
    "execution": {
     "iopub.execute_input": "2024-05-02T12:54:16.216312Z",
     "iopub.status.busy": "2024-05-02T12:54:16.216000Z",
     "iopub.status.idle": "2024-05-02T12:54:16.238373Z",
     "shell.execute_reply": "2024-05-02T12:54:16.237431Z"
    },
    "papermill": {
     "duration": 0.06738,
     "end_time": "2024-05-02T12:54:16.240695",
     "exception": false,
     "start_time": "2024-05-02T12:54:16.173315",
     "status": "completed"
    },
    "tags": []
   },
   "outputs": [
    {
     "name": "stdout",
     "output_type": "stream",
     "text": [
      "Matched value: _______\n",
      "Unmatched value: Lawyer\n",
      "Unmatched value: Architect\n",
      "Unmatched value: Engineer\n",
      "Unmatched value: Scientist\n",
      "Unmatched value: Mechanic\n",
      "Unmatched value: Accountant\n",
      "Unmatched value: Developer\n",
      "Unmatched value: Media_Manager\n",
      "Unmatched value: Teacher\n",
      "Unmatched value: Entrepreneur\n",
      "Unmatched value: Doctor\n",
      "Unmatched value: Journalist\n",
      "Unmatched value: Manager\n",
      "Unmatched value: Musician\n",
      "Unmatched value: Writer\n"
     ]
    }
   ],
   "source": [
    "# Again for checking if the created pattern matches in only Occupation feature\n",
    "\n",
    "for text in df.Occupation.value_counts().index:\n",
    "    if re.search(pattern, text):\n",
    "        print(\"Matched value:\", text)\n",
    "    else:\n",
    "        print(\"Unmatched value:\", text)"
   ]
  },
  {
   "cell_type": "code",
   "execution_count": 21,
   "id": "c8035979",
   "metadata": {
    "ExecuteTime": {
     "end_time": "2024-04-25T00:53:20.852870Z",
     "start_time": "2024-04-25T00:53:20.716830Z"
    },
    "execution": {
     "iopub.execute_input": "2024-05-02T12:54:16.327459Z",
     "iopub.status.busy": "2024-05-02T12:54:16.326790Z",
     "iopub.status.idle": "2024-05-02T12:54:16.430134Z",
     "shell.execute_reply": "2024-05-02T12:54:16.429192Z"
    },
    "papermill": {
     "duration": 0.149741,
     "end_time": "2024-05-02T12:54:16.432933",
     "exception": false,
     "start_time": "2024-05-02T12:54:16.283192",
     "status": "completed"
    },
    "tags": []
   },
   "outputs": [],
   "source": [
    "df['Occupation'] = df['Occupation'].replace(pattern,np.nan, regex=True)"
   ]
  },
  {
   "cell_type": "code",
   "execution_count": 22,
   "id": "2577f439",
   "metadata": {
    "ExecuteTime": {
     "end_time": "2024-04-25T00:53:22.919777Z",
     "start_time": "2024-04-25T00:53:22.896756Z"
    },
    "execution": {
     "iopub.execute_input": "2024-05-02T12:54:16.518716Z",
     "iopub.status.busy": "2024-05-02T12:54:16.518395Z",
     "iopub.status.idle": "2024-05-02T12:54:16.531869Z",
     "shell.execute_reply": "2024-05-02T12:54:16.530929Z"
    },
    "papermill": {
     "duration": 0.058581,
     "end_time": "2024-05-02T12:54:16.533932",
     "exception": false,
     "start_time": "2024-05-02T12:54:16.475351",
     "status": "completed"
    },
    "tags": []
   },
   "outputs": [
    {
     "data": {
      "text/plain": [
       "Occupation\n",
       "NaN              7062\n",
       "Lawyer           6575\n",
       "Architect        6355\n",
       "Engineer         6350\n",
       "Scientist        6299\n",
       "Mechanic         6291\n",
       "Accountant       6271\n",
       "Developer        6235\n",
       "Media_Manager    6232\n",
       "Teacher          6215\n",
       "Entrepreneur     6174\n",
       "Doctor           6087\n",
       "Journalist       6085\n",
       "Manager          5973\n",
       "Musician         5911\n",
       "Writer           5885\n",
       "Name: count, dtype: int64"
      ]
     },
     "execution_count": 22,
     "metadata": {},
     "output_type": "execute_result"
    }
   ],
   "source": [
    "df.Occupation.value_counts(dropna=False)"
   ]
  },
  {
   "cell_type": "code",
   "execution_count": 23,
   "id": "7a7f14be",
   "metadata": {
    "ExecuteTime": {
     "end_time": "2024-04-25T00:53:29.380832Z",
     "start_time": "2024-04-25T00:53:29.360398Z"
    },
    "execution": {
     "iopub.execute_input": "2024-05-02T12:54:16.619808Z",
     "iopub.status.busy": "2024-05-02T12:54:16.619220Z",
     "iopub.status.idle": "2024-05-02T12:54:16.632469Z",
     "shell.execute_reply": "2024-05-02T12:54:16.631538Z"
    },
    "papermill": {
     "duration": 0.058765,
     "end_time": "2024-05-02T12:54:16.634575",
     "exception": false,
     "start_time": "2024-05-02T12:54:16.575810",
     "status": "completed"
    },
    "tags": []
   },
   "outputs": [
    {
     "data": {
      "text/plain": [
       "Credit_Mix\n",
       "Standard    36479\n",
       "Good        24337\n",
       "_           20195\n",
       "Bad         18989\n",
       "Name: count, dtype: int64"
      ]
     },
     "execution_count": 23,
     "metadata": {},
     "output_type": "execute_result"
    }
   ],
   "source": [
    "df['Credit_Mix'].value_counts(dropna=False)"
   ]
  },
  {
   "cell_type": "code",
   "execution_count": 24,
   "id": "2a57c552",
   "metadata": {
    "ExecuteTime": {
     "end_time": "2024-04-25T00:53:32.208848Z",
     "start_time": "2024-04-25T00:53:32.076676Z"
    },
    "execution": {
     "iopub.execute_input": "2024-05-02T12:54:16.723026Z",
     "iopub.status.busy": "2024-05-02T12:54:16.722322Z",
     "iopub.status.idle": "2024-05-02T12:54:16.822705Z",
     "shell.execute_reply": "2024-05-02T12:54:16.821962Z"
    },
    "papermill": {
     "duration": 0.145829,
     "end_time": "2024-05-02T12:54:16.824866",
     "exception": false,
     "start_time": "2024-05-02T12:54:16.679037",
     "status": "completed"
    },
    "tags": []
   },
   "outputs": [],
   "source": [
    "df['Credit_Mix'] = df['Credit_Mix'].replace(pattern,np.nan, regex=True)"
   ]
  },
  {
   "cell_type": "code",
   "execution_count": 25,
   "id": "548aa7a9",
   "metadata": {
    "ExecuteTime": {
     "end_time": "2024-04-25T00:53:36.680547Z",
     "start_time": "2024-04-25T00:53:36.660586Z"
    },
    "execution": {
     "iopub.execute_input": "2024-05-02T12:54:16.910224Z",
     "iopub.status.busy": "2024-05-02T12:54:16.909908Z",
     "iopub.status.idle": "2024-05-02T12:54:16.923447Z",
     "shell.execute_reply": "2024-05-02T12:54:16.922581Z"
    },
    "papermill": {
     "duration": 0.058621,
     "end_time": "2024-05-02T12:54:16.925672",
     "exception": false,
     "start_time": "2024-05-02T12:54:16.867051",
     "status": "completed"
    },
    "tags": []
   },
   "outputs": [
    {
     "data": {
      "text/plain": [
       "Credit_Mix\n",
       "Standard    36479\n",
       "Good        24337\n",
       "NaN         20195\n",
       "Bad         18989\n",
       "Name: count, dtype: int64"
      ]
     },
     "execution_count": 25,
     "metadata": {},
     "output_type": "execute_result"
    }
   ],
   "source": [
    "df['Credit_Mix'].value_counts(dropna=False)"
   ]
  },
  {
   "cell_type": "code",
   "execution_count": 26,
   "id": "b9763935",
   "metadata": {
    "ExecuteTime": {
     "end_time": "2024-04-25T00:53:47.825223Z",
     "start_time": "2024-04-25T00:53:40.587318Z"
    },
    "execution": {
     "iopub.execute_input": "2024-05-02T12:54:17.018839Z",
     "iopub.status.busy": "2024-05-02T12:54:17.018290Z",
     "iopub.status.idle": "2024-05-02T12:54:22.080992Z",
     "shell.execute_reply": "2024-05-02T12:54:22.079984Z"
    },
    "papermill": {
     "duration": 5.110436,
     "end_time": "2024-05-02T12:54:22.083401",
     "exception": false,
     "start_time": "2024-05-02T12:54:16.972965",
     "status": "completed"
    },
    "tags": []
   },
   "outputs": [
    {
     "name": "stdout",
     "output_type": "stream",
     "text": [
      "Total matches in column ID: 0\n",
      "Total matches in column Customer_ID: 0\n",
      "Total matches in column Month: 0\n",
      "Total matches in column Name: 0\n",
      "Total matches in column Age: 0\n",
      "Total matches in column SSN: 0\n",
      "Total matches in column Occupation: 0\n",
      "Total matches in column Annual_Income: 0\n",
      "Total matches in column Monthly_Inhand_Salary: 0\n",
      "Total matches in column Num_Bank_Accounts: 0\n",
      "Total matches in column Num_Credit_Card: 0\n",
      "Total matches in column Interest_Rate: 0\n",
      "Total matches in column Num_of_Loan: 0\n",
      "Total matches in column Type_of_Loan: 0\n",
      "Total matches in column Delay_from_due_date: 0\n",
      "Total matches in column Num_of_Delayed_Payment: 0\n",
      "Total matches in column Changed_Credit_Limit: 0\n",
      "Total matches in column Num_Credit_Inquiries: 0\n",
      "Total matches in column Credit_Mix: 0\n",
      "Total matches in column Outstanding_Debt: 0\n",
      "Total matches in column Credit_Utilization_Ratio: 0\n",
      "Total matches in column Credit_History_Age: 0\n",
      "Total matches in column Payment_of_Min_Amount: 0\n",
      "Total matches in column Total_EMI_per_month: 0\n",
      "Total matches in column Amount_invested_monthly: 0\n",
      "Total matches in column Payment_Behaviour: 0\n",
      "Total matches in column Monthly_Balance: 0\n",
      "Total matches in column Credit_Score: 0\n",
      "\u001b[43m\u001b[30mTotal matches in dataframe: 0 \u001b[0m\n"
     ]
    }
   ],
   "source": [
    "matched_re(df) # let's double check all dataframe for empty value"
   ]
  },
  {
   "cell_type": "code",
   "execution_count": 27,
   "id": "d0b84bc7",
   "metadata": {
    "ExecuteTime": {
     "end_time": "2024-04-24T23:04:10.576130Z",
     "start_time": "2024-04-24T23:04:10.444651Z"
    },
    "execution": {
     "iopub.execute_input": "2024-05-02T12:54:22.178343Z",
     "iopub.status.busy": "2024-05-02T12:54:22.177989Z",
     "iopub.status.idle": "2024-05-02T12:54:22.385585Z",
     "shell.execute_reply": "2024-05-02T12:54:22.384565Z"
    },
    "papermill": {
     "duration": 0.257553,
     "end_time": "2024-05-02T12:54:22.388017",
     "exception": false,
     "start_time": "2024-05-02T12:54:22.130464",
     "status": "completed"
    },
    "tags": []
   },
   "outputs": [
    {
     "data": {
      "text/plain": [
       "ID                              0\n",
       "Customer_ID                     0\n",
       "Month                           0\n",
       "Name                         9985\n",
       "Age                             0\n",
       "SSN                             0\n",
       "Occupation                   7062\n",
       "Annual_Income                   0\n",
       "Monthly_Inhand_Salary       15002\n",
       "Num_Bank_Accounts               0\n",
       "Num_Credit_Card                 0\n",
       "Interest_Rate                   0\n",
       "Num_of_Loan                     0\n",
       "Type_of_Loan                11408\n",
       "Delay_from_due_date             0\n",
       "Num_of_Delayed_Payment       7002\n",
       "Changed_Credit_Limit         2091\n",
       "Num_Credit_Inquiries         1965\n",
       "Credit_Mix                  20195\n",
       "Outstanding_Debt                0\n",
       "Credit_Utilization_Ratio        0\n",
       "Credit_History_Age           9030\n",
       "Payment_of_Min_Amount           0\n",
       "Total_EMI_per_month             0\n",
       "Amount_invested_monthly      4479\n",
       "Payment_Behaviour               0\n",
       "Monthly_Balance              1200\n",
       "Credit_Score                    0\n",
       "dtype: int64"
      ]
     },
     "execution_count": 27,
     "metadata": {},
     "output_type": "execute_result"
    }
   ],
   "source": [
    "df.isna().sum()"
   ]
  },
  {
   "cell_type": "code",
   "execution_count": 28,
   "id": "58814ede",
   "metadata": {
    "ExecuteTime": {
     "end_time": "2024-04-25T00:53:56.274471Z",
     "start_time": "2024-04-25T00:53:56.260723Z"
    },
    "execution": {
     "iopub.execute_input": "2024-05-02T12:54:22.486143Z",
     "iopub.status.busy": "2024-05-02T12:54:22.485800Z",
     "iopub.status.idle": "2024-05-02T12:54:22.493155Z",
     "shell.execute_reply": "2024-05-02T12:54:22.492336Z"
    },
    "papermill": {
     "duration": 0.056676,
     "end_time": "2024-05-02T12:54:22.495248",
     "exception": false,
     "start_time": "2024-05-02T12:54:22.438572",
     "status": "completed"
    },
    "tags": []
   },
   "outputs": [
    {
     "data": {
      "text/plain": [
       "Index(['id', 'customer_id', 'month', 'name', 'age', 'ssn', 'occupation',\n",
       "       'annual_income', 'monthly_inhand_salary', 'num_bank_accounts',\n",
       "       'num_credit_card', 'interest_rate', 'num_of_loan', 'type_of_loan',\n",
       "       'delay_from_due_date', 'num_of_delayed_payment', 'changed_credit_limit',\n",
       "       'num_credit_inquiries', 'credit_mix', 'outstanding_debt',\n",
       "       'credit_utilization_ratio', 'credit_history_age',\n",
       "       'payment_of_min_amount', 'total_emi_per_month',\n",
       "       'amount_invested_monthly', 'payment_behaviour', 'monthly_balance',\n",
       "       'credit_score'],\n",
       "      dtype='object')"
      ]
     },
     "execution_count": 28,
     "metadata": {},
     "output_type": "execute_result"
    }
   ],
   "source": [
    "df.columns = df.columns.str.lower()\n",
    "df.columns"
   ]
  },
  {
   "cell_type": "code",
   "execution_count": 29,
   "id": "eaedcc22",
   "metadata": {
    "ExecuteTime": {
     "end_time": "2024-04-25T00:54:00.982292Z",
     "start_time": "2024-04-25T00:54:00.972195Z"
    },
    "execution": {
     "iopub.execute_input": "2024-05-02T12:54:22.588427Z",
     "iopub.status.busy": "2024-05-02T12:54:22.588055Z",
     "iopub.status.idle": "2024-05-02T12:54:22.593959Z",
     "shell.execute_reply": "2024-05-02T12:54:22.593042Z"
    },
    "papermill": {
     "duration": 0.054241,
     "end_time": "2024-05-02T12:54:22.596096",
     "exception": false,
     "start_time": "2024-05-02T12:54:22.541855",
     "status": "completed"
    },
    "tags": []
   },
   "outputs": [
    {
     "data": {
      "text/plain": [
       "(100000, 28)"
      ]
     },
     "execution_count": 29,
     "metadata": {},
     "output_type": "execute_result"
    }
   ],
   "source": [
    "df.shape"
   ]
  },
  {
   "cell_type": "code",
   "execution_count": 30,
   "id": "c3bbbdf4",
   "metadata": {
    "ExecuteTime": {
     "end_time": "2024-04-25T00:54:13.900514Z",
     "start_time": "2024-04-25T00:54:13.695538Z"
    },
    "execution": {
     "iopub.execute_input": "2024-05-02T12:54:22.689673Z",
     "iopub.status.busy": "2024-05-02T12:54:22.689313Z",
     "iopub.status.idle": "2024-05-02T12:54:22.994803Z",
     "shell.execute_reply": "2024-05-02T12:54:22.993758Z"
    },
    "papermill": {
     "duration": 0.355548,
     "end_time": "2024-05-02T12:54:22.997157",
     "exception": false,
     "start_time": "2024-05-02T12:54:22.641609",
     "status": "completed"
    },
    "tags": []
   },
   "outputs": [
    {
     "data": {
      "text/plain": [
       "credit_mix                 20195\n",
       "monthly_inhand_salary      15002\n",
       "type_of_loan               11408\n",
       "name                        9985\n",
       "credit_history_age          9030\n",
       "occupation                  7062\n",
       "num_of_delayed_payment      7002\n",
       "amount_invested_monthly     4479\n",
       "changed_credit_limit        2091\n",
       "num_credit_inquiries        1965\n",
       "monthly_balance             1200\n",
       "dtype: int64"
      ]
     },
     "execution_count": 30,
     "metadata": {},
     "output_type": "execute_result"
    }
   ],
   "source": [
    "null_columns = df.columns[df.isnull().any()]\n",
    "df[null_columns].isnull().sum().sort_values(ascending=False)"
   ]
  },
  {
   "cell_type": "code",
   "execution_count": 31,
   "id": "e0740162",
   "metadata": {
    "ExecuteTime": {
     "end_time": "2024-04-25T00:54:17.899305Z",
     "start_time": "2024-04-25T00:54:17.878284Z"
    },
    "execution": {
     "iopub.execute_input": "2024-05-02T12:54:23.090140Z",
     "iopub.status.busy": "2024-05-02T12:54:23.089468Z",
     "iopub.status.idle": "2024-05-02T12:54:23.102804Z",
     "shell.execute_reply": "2024-05-02T12:54:23.101854Z"
    },
    "papermill": {
     "duration": 0.060591,
     "end_time": "2024-05-02T12:54:23.105051",
     "exception": false,
     "start_time": "2024-05-02T12:54:23.044460",
     "status": "completed"
    },
    "tags": []
   },
   "outputs": [
    {
     "data": {
      "text/plain": [
       "credit_mix\n",
       "Standard    36479\n",
       "Good        24337\n",
       "NaN         20195\n",
       "Bad         18989\n",
       "Name: count, dtype: int64"
      ]
     },
     "execution_count": 31,
     "metadata": {},
     "output_type": "execute_result"
    }
   ],
   "source": [
    "df[\"credit_mix\"].value_counts(dropna=False)"
   ]
  },
  {
   "cell_type": "code",
   "execution_count": 32,
   "id": "d20a37dc",
   "metadata": {
    "ExecuteTime": {
     "end_time": "2024-04-25T00:54:22.038229Z",
     "start_time": "2024-04-25T00:54:21.958068Z"
    },
    "execution": {
     "iopub.execute_input": "2024-05-02T12:54:23.205269Z",
     "iopub.status.busy": "2024-05-02T12:54:23.204461Z",
     "iopub.status.idle": "2024-05-02T12:54:23.253920Z",
     "shell.execute_reply": "2024-05-02T12:54:23.252900Z"
    },
    "papermill": {
     "duration": 0.099816,
     "end_time": "2024-05-02T12:54:23.255928",
     "exception": false,
     "start_time": "2024-05-02T12:54:23.156112",
     "status": "completed"
    },
    "tags": []
   },
   "outputs": [
    {
     "data": {
      "text/plain": [
       "credit_mix                 20195\n",
       "monthly_inhand_salary       3042\n",
       "type_of_loan                2408\n",
       "name                        2028\n",
       "credit_history_age          1824\n",
       "occupation                  1421\n",
       "num_of_delayed_payment      1388\n",
       "amount_invested_monthly      861\n",
       "changed_credit_limit         406\n",
       "num_credit_inquiries         396\n",
       "monthly_balance              236\n",
       "dtype: int64"
      ]
     },
     "execution_count": 32,
     "metadata": {},
     "output_type": "execute_result"
    }
   ],
   "source": [
    "df[df[\"credit_mix\"].isna()][null_columns].isna().sum().sort_values(ascending=False)"
   ]
  },
  {
   "cell_type": "markdown",
   "id": "38bdfb88",
   "metadata": {
    "papermill": {
     "duration": 0.04507,
     "end_time": "2024-05-02T12:54:23.346359",
     "exception": false,
     "start_time": "2024-05-02T12:54:23.301289",
     "status": "completed"
    },
    "tags": []
   },
   "source": [
    "#### *Based on the above output, we can say that the values in 10 columns are missing for 236 rows in the data set.*"
   ]
  },
  {
   "cell_type": "markdown",
   "id": "e2c1e1ad",
   "metadata": {
    "papermill": {
     "duration": 0.044862,
     "end_time": "2024-05-02T12:54:23.437188",
     "exception": false,
     "start_time": "2024-05-02T12:54:23.392326",
     "status": "completed"
    },
    "tags": []
   },
   "source": [
    "#### ***The codes below are to investigate whether I can benefit from the information in other columns on how to fill in the missing data.***"
   ]
  },
  {
   "cell_type": "code",
   "execution_count": 33,
   "id": "bf67b263",
   "metadata": {
    "ExecuteTime": {
     "end_time": "2024-04-25T00:54:25.311117Z",
     "start_time": "2024-04-25T00:54:25.220047Z"
    },
    "execution": {
     "iopub.execute_input": "2024-05-02T12:54:23.530840Z",
     "iopub.status.busy": "2024-05-02T12:54:23.530094Z",
     "iopub.status.idle": "2024-05-02T12:54:23.631115Z",
     "shell.execute_reply": "2024-05-02T12:54:23.630011Z"
    },
    "papermill": {
     "duration": 0.148904,
     "end_time": "2024-05-02T12:54:23.633501",
     "exception": false,
     "start_time": "2024-05-02T12:54:23.484597",
     "status": "completed"
    },
    "tags": []
   },
   "outputs": [],
   "source": [
    "indices = df[null_columns].isnull().sum().sort_values(ascending=False).index"
   ]
  },
  {
   "cell_type": "code",
   "execution_count": 34,
   "id": "56172cac",
   "metadata": {
    "ExecuteTime": {
     "end_time": "2024-04-25T00:54:28.687973Z",
     "start_time": "2024-04-25T00:54:28.529930Z"
    },
    "execution": {
     "iopub.execute_input": "2024-05-02T12:54:23.729873Z",
     "iopub.status.busy": "2024-05-02T12:54:23.729084Z",
     "iopub.status.idle": "2024-05-02T12:54:23.880211Z",
     "shell.execute_reply": "2024-05-02T12:54:23.879280Z"
    },
    "papermill": {
     "duration": 0.201232,
     "end_time": "2024-05-02T12:54:23.882583",
     "exception": false,
     "start_time": "2024-05-02T12:54:23.681351",
     "status": "completed"
    },
    "tags": []
   },
   "outputs": [
    {
     "data": {
      "text/html": [
       "<div>\n",
       "<style scoped>\n",
       "    .dataframe tbody tr th:only-of-type {\n",
       "        vertical-align: middle;\n",
       "    }\n",
       "\n",
       "    .dataframe tbody tr th {\n",
       "        vertical-align: top;\n",
       "    }\n",
       "\n",
       "    .dataframe thead th {\n",
       "        text-align: right;\n",
       "    }\n",
       "</style>\n",
       "<table border=\"1\" class=\"dataframe\">\n",
       "  <thead>\n",
       "    <tr style=\"text-align: right;\">\n",
       "      <th></th>\n",
       "      <th>total_null_count</th>\n",
       "      <th>based_on_credit_mix</th>\n",
       "      <th>rate</th>\n",
       "    </tr>\n",
       "  </thead>\n",
       "  <tbody>\n",
       "    <tr>\n",
       "      <th>credit_mix</th>\n",
       "      <td>20195</td>\n",
       "      <td>20195</td>\n",
       "      <td>1.000</td>\n",
       "    </tr>\n",
       "    <tr>\n",
       "      <th>monthly_inhand_salary</th>\n",
       "      <td>15002</td>\n",
       "      <td>3042</td>\n",
       "      <td>0.203</td>\n",
       "    </tr>\n",
       "    <tr>\n",
       "      <th>type_of_loan</th>\n",
       "      <td>11408</td>\n",
       "      <td>2408</td>\n",
       "      <td>0.211</td>\n",
       "    </tr>\n",
       "    <tr>\n",
       "      <th>name</th>\n",
       "      <td>9985</td>\n",
       "      <td>2028</td>\n",
       "      <td>0.203</td>\n",
       "    </tr>\n",
       "    <tr>\n",
       "      <th>credit_history_age</th>\n",
       "      <td>9030</td>\n",
       "      <td>1824</td>\n",
       "      <td>0.202</td>\n",
       "    </tr>\n",
       "    <tr>\n",
       "      <th>occupation</th>\n",
       "      <td>7062</td>\n",
       "      <td>1421</td>\n",
       "      <td>0.201</td>\n",
       "    </tr>\n",
       "    <tr>\n",
       "      <th>num_of_delayed_payment</th>\n",
       "      <td>7002</td>\n",
       "      <td>1388</td>\n",
       "      <td>0.198</td>\n",
       "    </tr>\n",
       "    <tr>\n",
       "      <th>amount_invested_monthly</th>\n",
       "      <td>4479</td>\n",
       "      <td>861</td>\n",
       "      <td>0.192</td>\n",
       "    </tr>\n",
       "    <tr>\n",
       "      <th>changed_credit_limit</th>\n",
       "      <td>2091</td>\n",
       "      <td>406</td>\n",
       "      <td>0.194</td>\n",
       "    </tr>\n",
       "    <tr>\n",
       "      <th>num_credit_inquiries</th>\n",
       "      <td>1965</td>\n",
       "      <td>396</td>\n",
       "      <td>0.202</td>\n",
       "    </tr>\n",
       "    <tr>\n",
       "      <th>monthly_balance</th>\n",
       "      <td>1200</td>\n",
       "      <td>236</td>\n",
       "      <td>0.197</td>\n",
       "    </tr>\n",
       "  </tbody>\n",
       "</table>\n",
       "</div>"
      ],
      "text/plain": [
       "                         total_null_count  based_on_credit_mix  rate\n",
       "credit_mix                          20195                20195 1.000\n",
       "monthly_inhand_salary               15002                 3042 0.203\n",
       "type_of_loan                        11408                 2408 0.211\n",
       "name                                 9985                 2028 0.203\n",
       "credit_history_age                   9030                 1824 0.202\n",
       "occupation                           7062                 1421 0.201\n",
       "num_of_delayed_payment               7002                 1388 0.198\n",
       "amount_invested_monthly              4479                  861 0.192\n",
       "changed_credit_limit                 2091                  406 0.194\n",
       "num_credit_inquiries                 1965                  396 0.202\n",
       "monthly_balance                      1200                  236 0.197"
      ]
     },
     "execution_count": 34,
     "metadata": {},
     "output_type": "execute_result"
    }
   ],
   "source": [
    "col_total = df[null_columns].isnull().sum().sort_values(ascending=False).values.tolist()\n",
    "based_on_cr_mix =df[df[\"credit_mix\"].isna()][null_columns].isna().sum().sort_values(ascending=False).values.tolist()\n",
    "rate = []\n",
    "for i,j in zip(col_total,based_on_cr_mix):\n",
    "    rate_of_missing = j/i\n",
    "    rate.append(rate_of_missing)\n",
    "missing_data = pd.DataFrame({\"total_null_count\": col_total, \"based_on_credit_mix\": based_on_cr_mix, \"rate\": rate},index=indices)\n",
    "\n",
    "missing_data"
   ]
  },
  {
   "cell_type": "code",
   "execution_count": 35,
   "id": "766f55d4",
   "metadata": {
    "ExecuteTime": {
     "end_time": "2024-04-25T00:54:48.735054Z",
     "start_time": "2024-04-25T00:54:48.692783Z"
    },
    "execution": {
     "iopub.execute_input": "2024-05-02T12:54:23.984987Z",
     "iopub.status.busy": "2024-05-02T12:54:23.984264Z",
     "iopub.status.idle": "2024-05-02T12:54:23.999525Z",
     "shell.execute_reply": "2024-05-02T12:54:23.998741Z"
    },
    "papermill": {
     "duration": 0.065065,
     "end_time": "2024-05-02T12:54:24.001543",
     "exception": false,
     "start_time": "2024-05-02T12:54:23.936478",
     "status": "completed"
    },
    "tags": []
   },
   "outputs": [
    {
     "data": {
      "text/plain": [
       "20195"
      ]
     },
     "execution_count": 35,
     "metadata": {},
     "output_type": "execute_result"
    }
   ],
   "source": [
    "df[\"credit_mix\"].isna().sum()"
   ]
  },
  {
   "cell_type": "code",
   "execution_count": 36,
   "id": "52fda720",
   "metadata": {
    "ExecuteTime": {
     "end_time": "2024-04-25T00:55:08.990238Z",
     "start_time": "2024-04-25T00:55:08.924852Z"
    },
    "execution": {
     "iopub.execute_input": "2024-05-02T12:54:24.097452Z",
     "iopub.status.busy": "2024-05-02T12:54:24.096824Z",
     "iopub.status.idle": "2024-05-02T12:54:24.142104Z",
     "shell.execute_reply": "2024-05-02T12:54:24.141139Z"
    },
    "papermill": {
     "duration": 0.095793,
     "end_time": "2024-05-02T12:54:24.144072",
     "exception": false,
     "start_time": "2024-05-02T12:54:24.048279",
     "status": "completed"
    },
    "tags": []
   },
   "outputs": [
    {
     "data": {
      "text/html": [
       "<div>\n",
       "<style scoped>\n",
       "    .dataframe tbody tr th:only-of-type {\n",
       "        vertical-align: middle;\n",
       "    }\n",
       "\n",
       "    .dataframe tbody tr th {\n",
       "        vertical-align: top;\n",
       "    }\n",
       "\n",
       "    .dataframe thead th {\n",
       "        text-align: right;\n",
       "    }\n",
       "</style>\n",
       "<table border=\"1\" class=\"dataframe\">\n",
       "  <thead>\n",
       "    <tr style=\"text-align: right;\">\n",
       "      <th></th>\n",
       "      <th>id</th>\n",
       "      <th>customer_id</th>\n",
       "      <th>month</th>\n",
       "      <th>name</th>\n",
       "      <th>age</th>\n",
       "      <th>ssn</th>\n",
       "      <th>occupation</th>\n",
       "      <th>annual_income</th>\n",
       "      <th>monthly_inhand_salary</th>\n",
       "      <th>num_bank_accounts</th>\n",
       "      <th>num_credit_card</th>\n",
       "      <th>interest_rate</th>\n",
       "      <th>num_of_loan</th>\n",
       "      <th>type_of_loan</th>\n",
       "      <th>delay_from_due_date</th>\n",
       "      <th>num_of_delayed_payment</th>\n",
       "      <th>changed_credit_limit</th>\n",
       "      <th>num_credit_inquiries</th>\n",
       "      <th>credit_mix</th>\n",
       "      <th>outstanding_debt</th>\n",
       "      <th>credit_utilization_ratio</th>\n",
       "      <th>credit_history_age</th>\n",
       "      <th>payment_of_min_amount</th>\n",
       "      <th>total_emi_per_month</th>\n",
       "      <th>amount_invested_monthly</th>\n",
       "      <th>payment_behaviour</th>\n",
       "      <th>monthly_balance</th>\n",
       "      <th>credit_score</th>\n",
       "    </tr>\n",
       "  </thead>\n",
       "  <tbody>\n",
       "    <tr>\n",
       "      <th>25456</th>\n",
       "      <td>0xab2a</td>\n",
       "      <td>CUS_0x10fd</td>\n",
       "      <td>January</td>\n",
       "      <td>Hendersonu</td>\n",
       "      <td>29</td>\n",
       "      <td>119-33-7350</td>\n",
       "      <td>NaN</td>\n",
       "      <td>39576.59</td>\n",
       "      <td>3199.049</td>\n",
       "      <td>0</td>\n",
       "      <td>7</td>\n",
       "      <td>2</td>\n",
       "      <td>4</td>\n",
       "      <td>Personal Loan, Mortgage Loan, Home Equity Loan...</td>\n",
       "      <td>18</td>\n",
       "      <td>NaN</td>\n",
       "      <td>4.62</td>\n",
       "      <td>1.000</td>\n",
       "      <td>Good</td>\n",
       "      <td>226.37</td>\n",
       "      <td>23.086</td>\n",
       "      <td>19 Years and 4 Months</td>\n",
       "      <td>No</td>\n",
       "      <td>124.311</td>\n",
       "      <td>52.588915433114344</td>\n",
       "      <td>High_spent_Large_value_payments</td>\n",
       "      <td>383.0051621399922</td>\n",
       "      <td>Poor</td>\n",
       "    </tr>\n",
       "    <tr>\n",
       "      <th>25457</th>\n",
       "      <td>0xab2b</td>\n",
       "      <td>CUS_0x10fd</td>\n",
       "      <td>February</td>\n",
       "      <td>Hendersonu</td>\n",
       "      <td>29</td>\n",
       "      <td>119-33-7350</td>\n",
       "      <td>Developer</td>\n",
       "      <td>39576.59_</td>\n",
       "      <td>3199.049</td>\n",
       "      <td>0</td>\n",
       "      <td>7</td>\n",
       "      <td>2</td>\n",
       "      <td>4_</td>\n",
       "      <td>Personal Loan, Mortgage Loan, Home Equity Loan...</td>\n",
       "      <td>14</td>\n",
       "      <td>4</td>\n",
       "      <td>10.62</td>\n",
       "      <td>1.000</td>\n",
       "      <td>NaN</td>\n",
       "      <td>226.37</td>\n",
       "      <td>31.941</td>\n",
       "      <td>19 Years and 5 Months</td>\n",
       "      <td>NM</td>\n",
       "      <td>124.311</td>\n",
       "      <td>28.89323934124009</td>\n",
       "      <td>High_spent_Large_value_payments</td>\n",
       "      <td>406.7008382318664</td>\n",
       "      <td>Poor</td>\n",
       "    </tr>\n",
       "    <tr>\n",
       "      <th>25458</th>\n",
       "      <td>0xab2c</td>\n",
       "      <td>CUS_0x10fd</td>\n",
       "      <td>March</td>\n",
       "      <td>Hendersonu</td>\n",
       "      <td>29_</td>\n",
       "      <td>119-33-7350</td>\n",
       "      <td>Developer</td>\n",
       "      <td>39576.59</td>\n",
       "      <td>3199.049</td>\n",
       "      <td>0</td>\n",
       "      <td>7</td>\n",
       "      <td>2</td>\n",
       "      <td>4</td>\n",
       "      <td>Personal Loan, Mortgage Loan, Home Equity Loan...</td>\n",
       "      <td>14</td>\n",
       "      <td>4</td>\n",
       "      <td>-2.38</td>\n",
       "      <td>1.000</td>\n",
       "      <td>NaN</td>\n",
       "      <td>226.37</td>\n",
       "      <td>33.295</td>\n",
       "      <td>19 Years and 6 Months</td>\n",
       "      <td>No</td>\n",
       "      <td>124.311</td>\n",
       "      <td>176.5989160690919</td>\n",
       "      <td>Low_spent_Large_value_payments</td>\n",
       "      <td>288.9951615040146</td>\n",
       "      <td>Poor</td>\n",
       "    </tr>\n",
       "    <tr>\n",
       "      <th>25459</th>\n",
       "      <td>0xab2d</td>\n",
       "      <td>CUS_0x10fd</td>\n",
       "      <td>April</td>\n",
       "      <td>Hendersonu</td>\n",
       "      <td>29</td>\n",
       "      <td>119-33-7350</td>\n",
       "      <td>Developer</td>\n",
       "      <td>39576.59</td>\n",
       "      <td>NaN</td>\n",
       "      <td>0</td>\n",
       "      <td>7</td>\n",
       "      <td>2</td>\n",
       "      <td>4</td>\n",
       "      <td>Personal Loan, Mortgage Loan, Home Equity Loan...</td>\n",
       "      <td>14</td>\n",
       "      <td>4</td>\n",
       "      <td>8.620000000000001</td>\n",
       "      <td>1.000</td>\n",
       "      <td>Good</td>\n",
       "      <td>226.37</td>\n",
       "      <td>39.889</td>\n",
       "      <td>NaN</td>\n",
       "      <td>No</td>\n",
       "      <td>124.311</td>\n",
       "      <td>81.30606467113599</td>\n",
       "      <td>High_spent_Medium_value_payments</td>\n",
       "      <td>364.2880129019706</td>\n",
       "      <td>Poor</td>\n",
       "    </tr>\n",
       "    <tr>\n",
       "      <th>25460</th>\n",
       "      <td>0xab2e</td>\n",
       "      <td>CUS_0x10fd</td>\n",
       "      <td>May</td>\n",
       "      <td>Hendersonu</td>\n",
       "      <td>29_</td>\n",
       "      <td>119-33-7350</td>\n",
       "      <td>Developer</td>\n",
       "      <td>39576.59</td>\n",
       "      <td>3199.049</td>\n",
       "      <td>0</td>\n",
       "      <td>7</td>\n",
       "      <td>2</td>\n",
       "      <td>4</td>\n",
       "      <td>Personal Loan, Mortgage Loan, Home Equity Loan...</td>\n",
       "      <td>14</td>\n",
       "      <td>1</td>\n",
       "      <td>4.62</td>\n",
       "      <td>1.000</td>\n",
       "      <td>Good</td>\n",
       "      <td>226.37</td>\n",
       "      <td>35.163</td>\n",
       "      <td>19 Years and 8 Months</td>\n",
       "      <td>No</td>\n",
       "      <td>124.311</td>\n",
       "      <td>269.0649060320007</td>\n",
       "      <td>Low_spent_Large_value_payments</td>\n",
       "      <td>196.52917154110585</td>\n",
       "      <td>Poor</td>\n",
       "    </tr>\n",
       "    <tr>\n",
       "      <th>25461</th>\n",
       "      <td>0xab2f</td>\n",
       "      <td>CUS_0x10fd</td>\n",
       "      <td>June</td>\n",
       "      <td>Hendersonu</td>\n",
       "      <td>29</td>\n",
       "      <td>119-33-7350</td>\n",
       "      <td>Developer</td>\n",
       "      <td>39576.59</td>\n",
       "      <td>3199.049</td>\n",
       "      <td>0</td>\n",
       "      <td>7</td>\n",
       "      <td>2</td>\n",
       "      <td>4</td>\n",
       "      <td>Personal Loan, Mortgage Loan, Home Equity Loan...</td>\n",
       "      <td>14</td>\n",
       "      <td>6</td>\n",
       "      <td>4.62</td>\n",
       "      <td>1.000</td>\n",
       "      <td>Good</td>\n",
       "      <td>226.37</td>\n",
       "      <td>29.267</td>\n",
       "      <td>19 Years and 9 Months</td>\n",
       "      <td>No</td>\n",
       "      <td>124.311</td>\n",
       "      <td>162.99845492614182</td>\n",
       "      <td>Low_spent_Medium_value_payments</td>\n",
       "      <td>312.59562264696467</td>\n",
       "      <td>Poor</td>\n",
       "    </tr>\n",
       "    <tr>\n",
       "      <th>25462</th>\n",
       "      <td>0xab30</td>\n",
       "      <td>CUS_0x10fd</td>\n",
       "      <td>July</td>\n",
       "      <td>Hendersonu</td>\n",
       "      <td>29</td>\n",
       "      <td>119-33-7350</td>\n",
       "      <td>Developer</td>\n",
       "      <td>39576.59</td>\n",
       "      <td>3199.049</td>\n",
       "      <td>0</td>\n",
       "      <td>7</td>\n",
       "      <td>2</td>\n",
       "      <td>4</td>\n",
       "      <td>Personal Loan, Mortgage Loan, Home Equity Loan...</td>\n",
       "      <td>11</td>\n",
       "      <td>4</td>\n",
       "      <td>6.62</td>\n",
       "      <td>3.000</td>\n",
       "      <td>Good</td>\n",
       "      <td>226.37</td>\n",
       "      <td>24.766</td>\n",
       "      <td>19 Years and 10 Months</td>\n",
       "      <td>No</td>\n",
       "      <td>124.311</td>\n",
       "      <td>199.44446359793903</td>\n",
       "      <td>Low_spent_Medium_value_payments</td>\n",
       "      <td>276.14961397516737</td>\n",
       "      <td>Poor</td>\n",
       "    </tr>\n",
       "    <tr>\n",
       "      <th>25463</th>\n",
       "      <td>0xab31</td>\n",
       "      <td>CUS_0x10fd</td>\n",
       "      <td>August</td>\n",
       "      <td>Hendersonu</td>\n",
       "      <td>29</td>\n",
       "      <td>119-33-7350</td>\n",
       "      <td>Developer</td>\n",
       "      <td>39576.59</td>\n",
       "      <td>3199.049</td>\n",
       "      <td>0</td>\n",
       "      <td>7</td>\n",
       "      <td>2</td>\n",
       "      <td>4</td>\n",
       "      <td>Personal Loan, Mortgage Loan, Home Equity Loan...</td>\n",
       "      <td>14</td>\n",
       "      <td>4</td>\n",
       "      <td>4.62</td>\n",
       "      <td>3.000</td>\n",
       "      <td>NaN</td>\n",
       "      <td>226.37</td>\n",
       "      <td>29.326</td>\n",
       "      <td>19 Years and 11 Months</td>\n",
       "      <td>No</td>\n",
       "      <td>124.311</td>\n",
       "      <td>104.7631642205206</td>\n",
       "      <td>High_spent_Medium_value_payments</td>\n",
       "      <td>340.83091335258587</td>\n",
       "      <td>Poor</td>\n",
       "    </tr>\n",
       "  </tbody>\n",
       "</table>\n",
       "</div>"
      ],
      "text/plain": [
       "           id customer_id     month        name  age          ssn occupation  \\\n",
       "25456  0xab2a  CUS_0x10fd   January  Hendersonu   29  119-33-7350        NaN   \n",
       "25457  0xab2b  CUS_0x10fd  February  Hendersonu   29  119-33-7350  Developer   \n",
       "25458  0xab2c  CUS_0x10fd     March  Hendersonu  29_  119-33-7350  Developer   \n",
       "25459  0xab2d  CUS_0x10fd     April  Hendersonu   29  119-33-7350  Developer   \n",
       "25460  0xab2e  CUS_0x10fd       May  Hendersonu  29_  119-33-7350  Developer   \n",
       "25461  0xab2f  CUS_0x10fd      June  Hendersonu   29  119-33-7350  Developer   \n",
       "25462  0xab30  CUS_0x10fd      July  Hendersonu   29  119-33-7350  Developer   \n",
       "25463  0xab31  CUS_0x10fd    August  Hendersonu   29  119-33-7350  Developer   \n",
       "\n",
       "      annual_income  monthly_inhand_salary  num_bank_accounts  \\\n",
       "25456      39576.59               3199.049                  0   \n",
       "25457     39576.59_               3199.049                  0   \n",
       "25458      39576.59               3199.049                  0   \n",
       "25459      39576.59                    NaN                  0   \n",
       "25460      39576.59               3199.049                  0   \n",
       "25461      39576.59               3199.049                  0   \n",
       "25462      39576.59               3199.049                  0   \n",
       "25463      39576.59               3199.049                  0   \n",
       "\n",
       "       num_credit_card  interest_rate num_of_loan  \\\n",
       "25456                7              2           4   \n",
       "25457                7              2          4_   \n",
       "25458                7              2           4   \n",
       "25459                7              2           4   \n",
       "25460                7              2           4   \n",
       "25461                7              2           4   \n",
       "25462                7              2           4   \n",
       "25463                7              2           4   \n",
       "\n",
       "                                            type_of_loan  delay_from_due_date  \\\n",
       "25456  Personal Loan, Mortgage Loan, Home Equity Loan...                   18   \n",
       "25457  Personal Loan, Mortgage Loan, Home Equity Loan...                   14   \n",
       "25458  Personal Loan, Mortgage Loan, Home Equity Loan...                   14   \n",
       "25459  Personal Loan, Mortgage Loan, Home Equity Loan...                   14   \n",
       "25460  Personal Loan, Mortgage Loan, Home Equity Loan...                   14   \n",
       "25461  Personal Loan, Mortgage Loan, Home Equity Loan...                   14   \n",
       "25462  Personal Loan, Mortgage Loan, Home Equity Loan...                   11   \n",
       "25463  Personal Loan, Mortgage Loan, Home Equity Loan...                   14   \n",
       "\n",
       "      num_of_delayed_payment changed_credit_limit  num_credit_inquiries  \\\n",
       "25456                    NaN                 4.62                 1.000   \n",
       "25457                      4                10.62                 1.000   \n",
       "25458                      4                -2.38                 1.000   \n",
       "25459                      4    8.620000000000001                 1.000   \n",
       "25460                      1                 4.62                 1.000   \n",
       "25461                      6                 4.62                 1.000   \n",
       "25462                      4                 6.62                 3.000   \n",
       "25463                      4                 4.62                 3.000   \n",
       "\n",
       "      credit_mix outstanding_debt  credit_utilization_ratio  \\\n",
       "25456       Good           226.37                    23.086   \n",
       "25457        NaN           226.37                    31.941   \n",
       "25458        NaN           226.37                    33.295   \n",
       "25459       Good           226.37                    39.889   \n",
       "25460       Good           226.37                    35.163   \n",
       "25461       Good           226.37                    29.267   \n",
       "25462       Good           226.37                    24.766   \n",
       "25463        NaN           226.37                    29.326   \n",
       "\n",
       "           credit_history_age payment_of_min_amount  total_emi_per_month  \\\n",
       "25456   19 Years and 4 Months                    No              124.311   \n",
       "25457   19 Years and 5 Months                    NM              124.311   \n",
       "25458   19 Years and 6 Months                    No              124.311   \n",
       "25459                     NaN                    No              124.311   \n",
       "25460   19 Years and 8 Months                    No              124.311   \n",
       "25461   19 Years and 9 Months                    No              124.311   \n",
       "25462  19 Years and 10 Months                    No              124.311   \n",
       "25463  19 Years and 11 Months                    No              124.311   \n",
       "\n",
       "      amount_invested_monthly                 payment_behaviour  \\\n",
       "25456      52.588915433114344   High_spent_Large_value_payments   \n",
       "25457       28.89323934124009   High_spent_Large_value_payments   \n",
       "25458       176.5989160690919    Low_spent_Large_value_payments   \n",
       "25459       81.30606467113599  High_spent_Medium_value_payments   \n",
       "25460       269.0649060320007    Low_spent_Large_value_payments   \n",
       "25461      162.99845492614182   Low_spent_Medium_value_payments   \n",
       "25462      199.44446359793903   Low_spent_Medium_value_payments   \n",
       "25463       104.7631642205206  High_spent_Medium_value_payments   \n",
       "\n",
       "          monthly_balance credit_score  \n",
       "25456   383.0051621399922         Poor  \n",
       "25457   406.7008382318664         Poor  \n",
       "25458   288.9951615040146         Poor  \n",
       "25459   364.2880129019706         Poor  \n",
       "25460  196.52917154110585         Poor  \n",
       "25461  312.59562264696467         Poor  \n",
       "25462  276.14961397516737         Poor  \n",
       "25463  340.83091335258587         Poor  "
      ]
     },
     "execution_count": 36,
     "metadata": {},
     "output_type": "execute_result"
    }
   ],
   "source": [
    "df[df[\"customer_id\"]==\"CUS_0x10fd\"]"
   ]
  },
  {
   "cell_type": "code",
   "execution_count": 37,
   "id": "2227790a",
   "metadata": {
    "ExecuteTime": {
     "end_time": "2024-04-25T01:01:45.083002Z",
     "start_time": "2024-04-25T01:01:45.056195Z"
    },
    "execution": {
     "iopub.execute_input": "2024-05-02T12:54:24.238167Z",
     "iopub.status.busy": "2024-05-02T12:54:24.237413Z",
     "iopub.status.idle": "2024-05-02T12:54:24.252797Z",
     "shell.execute_reply": "2024-05-02T12:54:24.251944Z"
    },
    "papermill": {
     "duration": 0.064158,
     "end_time": "2024-05-02T12:54:24.254963",
     "exception": false,
     "start_time": "2024-05-02T12:54:24.190805",
     "status": "completed"
    },
    "tags": []
   },
   "outputs": [
    {
     "data": {
      "text/plain": [
       "12500"
      ]
     },
     "execution_count": 37,
     "metadata": {},
     "output_type": "execute_result"
    }
   ],
   "source": [
    "df[\"customer_id\"].nunique()"
   ]
  },
  {
   "cell_type": "markdown",
   "id": "33ed1ca7",
   "metadata": {
    "papermill": {
     "duration": 0.046354,
     "end_time": "2024-05-02T12:54:24.350259",
     "exception": false,
     "start_time": "2024-05-02T12:54:24.303905",
     "status": "completed"
    },
    "tags": []
   },
   "source": [
    "#### *Yes! I can immediately access the information I want from the \"customer_id\" feature. There are 12500 unique customer_ids in the 100000 rows data set. Since there is no NaN value in this column, this means that  it repeats and I can fill in the NaN values in the rows with the same customer_id with those in the full rows.*"
   ]
  },
  {
   "cell_type": "code",
   "execution_count": 38,
   "id": "addaacba",
   "metadata": {
    "ExecuteTime": {
     "end_time": "2024-04-25T01:02:57.679316Z",
     "start_time": "2024-04-25T01:02:57.659670Z"
    },
    "execution": {
     "iopub.execute_input": "2024-05-02T12:54:24.449813Z",
     "iopub.status.busy": "2024-05-02T12:54:24.449372Z",
     "iopub.status.idle": "2024-05-02T12:54:24.461767Z",
     "shell.execute_reply": "2024-05-02T12:54:24.461028Z"
    },
    "papermill": {
     "duration": 0.064921,
     "end_time": "2024-05-02T12:54:24.463669",
     "exception": false,
     "start_time": "2024-05-02T12:54:24.398748",
     "status": "completed"
    },
    "tags": []
   },
   "outputs": [],
   "source": [
    "unique_customer_ids = df[\"customer_id\"].unique()"
   ]
  },
  {
   "cell_type": "code",
   "execution_count": 39,
   "id": "f55bd402",
   "metadata": {
    "execution": {
     "iopub.execute_input": "2024-05-02T12:54:24.556268Z",
     "iopub.status.busy": "2024-05-02T12:54:24.555673Z",
     "iopub.status.idle": "2024-05-02T13:06:02.021871Z",
     "shell.execute_reply": "2024-05-02T13:06:02.020978Z"
    },
    "papermill": {
     "duration": 697.515418,
     "end_time": "2024-05-02T13:06:02.024744",
     "exception": false,
     "start_time": "2024-05-02T12:54:24.509326",
     "status": "completed"
    },
    "tags": []
   },
   "outputs": [],
   "source": [
    "for id in unique_customer_ids :\n",
    "    df[df[\"customer_id\"]==id] = df[df[\"customer_id\"]==id].fillna(method='ffill').fillna(method='bfill')"
   ]
  },
  {
   "cell_type": "code",
   "execution_count": 40,
   "id": "334d7999",
   "metadata": {
    "ExecuteTime": {
     "end_time": "2024-04-25T01:37:27.881401Z",
     "start_time": "2024-04-25T01:37:27.731446Z"
    },
    "execution": {
     "iopub.execute_input": "2024-05-02T13:06:02.131637Z",
     "iopub.status.busy": "2024-05-02T13:06:02.131045Z",
     "iopub.status.idle": "2024-05-02T13:06:02.338510Z",
     "shell.execute_reply": "2024-05-02T13:06:02.337456Z"
    },
    "papermill": {
     "duration": 0.260732,
     "end_time": "2024-05-02T13:06:02.341024",
     "exception": false,
     "start_time": "2024-05-02T13:06:02.080292",
     "status": "completed"
    },
    "tags": []
   },
   "outputs": [
    {
     "data": {
      "text/plain": [
       "id                              0\n",
       "customer_id                     0\n",
       "month                           0\n",
       "name                            0\n",
       "age                             0\n",
       "ssn                             0\n",
       "occupation                      0\n",
       "annual_income                   0\n",
       "monthly_inhand_salary           0\n",
       "num_bank_accounts               0\n",
       "num_credit_card                 0\n",
       "interest_rate                   0\n",
       "num_of_loan                     0\n",
       "type_of_loan                11408\n",
       "delay_from_due_date             0\n",
       "num_of_delayed_payment          0\n",
       "changed_credit_limit            0\n",
       "num_credit_inquiries            0\n",
       "credit_mix                      0\n",
       "outstanding_debt                0\n",
       "credit_utilization_ratio        0\n",
       "credit_history_age              0\n",
       "payment_of_min_amount           0\n",
       "total_emi_per_month             0\n",
       "amount_invested_monthly         0\n",
       "payment_behaviour               0\n",
       "monthly_balance                 0\n",
       "credit_score                    0\n",
       "dtype: int64"
      ]
     },
     "execution_count": 40,
     "metadata": {},
     "output_type": "execute_result"
    }
   ],
   "source": [
    "df.isna().sum()"
   ]
  },
  {
   "cell_type": "code",
   "execution_count": 41,
   "id": "33f7701e",
   "metadata": {
    "ExecuteTime": {
     "end_time": "2024-04-25T01:39:12.251305Z",
     "start_time": "2024-04-25T01:39:12.171716Z"
    },
    "execution": {
     "iopub.execute_input": "2024-05-02T13:06:02.439381Z",
     "iopub.status.busy": "2024-05-02T13:06:02.439087Z",
     "iopub.status.idle": "2024-05-02T13:06:02.483353Z",
     "shell.execute_reply": "2024-05-02T13:06:02.482387Z"
    },
    "papermill": {
     "duration": 0.094468,
     "end_time": "2024-05-02T13:06:02.485467",
     "exception": false,
     "start_time": "2024-05-02T13:06:02.390999",
     "status": "completed"
    },
    "tags": []
   },
   "outputs": [
    {
     "data": {
      "text/html": [
       "<div>\n",
       "<style scoped>\n",
       "    .dataframe tbody tr th:only-of-type {\n",
       "        vertical-align: middle;\n",
       "    }\n",
       "\n",
       "    .dataframe tbody tr th {\n",
       "        vertical-align: top;\n",
       "    }\n",
       "\n",
       "    .dataframe thead th {\n",
       "        text-align: right;\n",
       "    }\n",
       "</style>\n",
       "<table border=\"1\" class=\"dataframe\">\n",
       "  <thead>\n",
       "    <tr style=\"text-align: right;\">\n",
       "      <th></th>\n",
       "      <th>id</th>\n",
       "      <th>customer_id</th>\n",
       "      <th>month</th>\n",
       "      <th>name</th>\n",
       "      <th>age</th>\n",
       "      <th>ssn</th>\n",
       "      <th>occupation</th>\n",
       "      <th>annual_income</th>\n",
       "      <th>monthly_inhand_salary</th>\n",
       "      <th>num_bank_accounts</th>\n",
       "      <th>num_credit_card</th>\n",
       "      <th>interest_rate</th>\n",
       "      <th>num_of_loan</th>\n",
       "      <th>type_of_loan</th>\n",
       "      <th>delay_from_due_date</th>\n",
       "      <th>num_of_delayed_payment</th>\n",
       "      <th>changed_credit_limit</th>\n",
       "      <th>num_credit_inquiries</th>\n",
       "      <th>credit_mix</th>\n",
       "      <th>outstanding_debt</th>\n",
       "      <th>credit_utilization_ratio</th>\n",
       "      <th>credit_history_age</th>\n",
       "      <th>payment_of_min_amount</th>\n",
       "      <th>total_emi_per_month</th>\n",
       "      <th>amount_invested_monthly</th>\n",
       "      <th>payment_behaviour</th>\n",
       "      <th>monthly_balance</th>\n",
       "      <th>credit_score</th>\n",
       "    </tr>\n",
       "  </thead>\n",
       "  <tbody>\n",
       "    <tr>\n",
       "      <th>0</th>\n",
       "      <td>0x1602</td>\n",
       "      <td>CUS_0xd40</td>\n",
       "      <td>January</td>\n",
       "      <td>Aaron Maashoh</td>\n",
       "      <td>23</td>\n",
       "      <td>821-00-0265</td>\n",
       "      <td>Scientist</td>\n",
       "      <td>19114.12</td>\n",
       "      <td>1824.843</td>\n",
       "      <td>3</td>\n",
       "      <td>4</td>\n",
       "      <td>3</td>\n",
       "      <td>4</td>\n",
       "      <td>Auto Loan, Credit-Builder Loan, Personal Loan,...</td>\n",
       "      <td>3</td>\n",
       "      <td>7</td>\n",
       "      <td>11.27</td>\n",
       "      <td>4.000</td>\n",
       "      <td>Good</td>\n",
       "      <td>809.98</td>\n",
       "      <td>26.823</td>\n",
       "      <td>22 Years and 1 Months</td>\n",
       "      <td>No</td>\n",
       "      <td>49.575</td>\n",
       "      <td>80.41529543900253</td>\n",
       "      <td>High_spent_Small_value_payments</td>\n",
       "      <td>312.49408867943663</td>\n",
       "      <td>Good</td>\n",
       "    </tr>\n",
       "    <tr>\n",
       "      <th>1</th>\n",
       "      <td>0x1603</td>\n",
       "      <td>CUS_0xd40</td>\n",
       "      <td>February</td>\n",
       "      <td>Aaron Maashoh</td>\n",
       "      <td>23</td>\n",
       "      <td>821-00-0265</td>\n",
       "      <td>Scientist</td>\n",
       "      <td>19114.12</td>\n",
       "      <td>1824.843</td>\n",
       "      <td>3</td>\n",
       "      <td>4</td>\n",
       "      <td>3</td>\n",
       "      <td>4</td>\n",
       "      <td>Auto Loan, Credit-Builder Loan, Personal Loan,...</td>\n",
       "      <td>-1</td>\n",
       "      <td>7</td>\n",
       "      <td>11.27</td>\n",
       "      <td>4.000</td>\n",
       "      <td>Good</td>\n",
       "      <td>809.98</td>\n",
       "      <td>31.945</td>\n",
       "      <td>22 Years and 1 Months</td>\n",
       "      <td>No</td>\n",
       "      <td>49.575</td>\n",
       "      <td>118.28022162236736</td>\n",
       "      <td>Low_spent_Large_value_payments</td>\n",
       "      <td>284.62916249607184</td>\n",
       "      <td>Good</td>\n",
       "    </tr>\n",
       "    <tr>\n",
       "      <th>2</th>\n",
       "      <td>0x1604</td>\n",
       "      <td>CUS_0xd40</td>\n",
       "      <td>March</td>\n",
       "      <td>Aaron Maashoh</td>\n",
       "      <td>-500</td>\n",
       "      <td>821-00-0265</td>\n",
       "      <td>Scientist</td>\n",
       "      <td>19114.12</td>\n",
       "      <td>1824.843</td>\n",
       "      <td>3</td>\n",
       "      <td>4</td>\n",
       "      <td>3</td>\n",
       "      <td>4</td>\n",
       "      <td>Auto Loan, Credit-Builder Loan, Personal Loan,...</td>\n",
       "      <td>3</td>\n",
       "      <td>7</td>\n",
       "      <td>11.27</td>\n",
       "      <td>4.000</td>\n",
       "      <td>Good</td>\n",
       "      <td>809.98</td>\n",
       "      <td>28.609</td>\n",
       "      <td>22 Years and 3 Months</td>\n",
       "      <td>No</td>\n",
       "      <td>49.575</td>\n",
       "      <td>81.699521264648</td>\n",
       "      <td>Low_spent_Medium_value_payments</td>\n",
       "      <td>331.2098628537912</td>\n",
       "      <td>Good</td>\n",
       "    </tr>\n",
       "    <tr>\n",
       "      <th>3</th>\n",
       "      <td>0x1605</td>\n",
       "      <td>CUS_0xd40</td>\n",
       "      <td>April</td>\n",
       "      <td>Aaron Maashoh</td>\n",
       "      <td>23</td>\n",
       "      <td>821-00-0265</td>\n",
       "      <td>Scientist</td>\n",
       "      <td>19114.12</td>\n",
       "      <td>1824.843</td>\n",
       "      <td>3</td>\n",
       "      <td>4</td>\n",
       "      <td>3</td>\n",
       "      <td>4</td>\n",
       "      <td>Auto Loan, Credit-Builder Loan, Personal Loan,...</td>\n",
       "      <td>5</td>\n",
       "      <td>4</td>\n",
       "      <td>6.27</td>\n",
       "      <td>4.000</td>\n",
       "      <td>Good</td>\n",
       "      <td>809.98</td>\n",
       "      <td>31.378</td>\n",
       "      <td>22 Years and 4 Months</td>\n",
       "      <td>No</td>\n",
       "      <td>49.575</td>\n",
       "      <td>199.4580743910713</td>\n",
       "      <td>Low_spent_Small_value_payments</td>\n",
       "      <td>223.45130972736786</td>\n",
       "      <td>Good</td>\n",
       "    </tr>\n",
       "    <tr>\n",
       "      <th>4</th>\n",
       "      <td>0x1606</td>\n",
       "      <td>CUS_0xd40</td>\n",
       "      <td>May</td>\n",
       "      <td>Aaron Maashoh</td>\n",
       "      <td>23</td>\n",
       "      <td>821-00-0265</td>\n",
       "      <td>Scientist</td>\n",
       "      <td>19114.12</td>\n",
       "      <td>1824.843</td>\n",
       "      <td>3</td>\n",
       "      <td>4</td>\n",
       "      <td>3</td>\n",
       "      <td>4</td>\n",
       "      <td>Auto Loan, Credit-Builder Loan, Personal Loan,...</td>\n",
       "      <td>6</td>\n",
       "      <td>4</td>\n",
       "      <td>11.27</td>\n",
       "      <td>4.000</td>\n",
       "      <td>Good</td>\n",
       "      <td>809.98</td>\n",
       "      <td>24.797</td>\n",
       "      <td>22 Years and 5 Months</td>\n",
       "      <td>No</td>\n",
       "      <td>49.575</td>\n",
       "      <td>41.420153086217326</td>\n",
       "      <td>High_spent_Medium_value_payments</td>\n",
       "      <td>341.48923103222177</td>\n",
       "      <td>Good</td>\n",
       "    </tr>\n",
       "    <tr>\n",
       "      <th>5</th>\n",
       "      <td>0x1607</td>\n",
       "      <td>CUS_0xd40</td>\n",
       "      <td>June</td>\n",
       "      <td>Aaron Maashoh</td>\n",
       "      <td>23</td>\n",
       "      <td>821-00-0265</td>\n",
       "      <td>Scientist</td>\n",
       "      <td>19114.12</td>\n",
       "      <td>1824.843</td>\n",
       "      <td>3</td>\n",
       "      <td>4</td>\n",
       "      <td>3</td>\n",
       "      <td>4</td>\n",
       "      <td>Auto Loan, Credit-Builder Loan, Personal Loan,...</td>\n",
       "      <td>8</td>\n",
       "      <td>4</td>\n",
       "      <td>9.27</td>\n",
       "      <td>4.000</td>\n",
       "      <td>Good</td>\n",
       "      <td>809.98</td>\n",
       "      <td>27.262</td>\n",
       "      <td>22 Years and 6 Months</td>\n",
       "      <td>No</td>\n",
       "      <td>49.575</td>\n",
       "      <td>62.430172331195294</td>\n",
       "      <td>!@9#%8</td>\n",
       "      <td>340.4792117872438</td>\n",
       "      <td>Good</td>\n",
       "    </tr>\n",
       "    <tr>\n",
       "      <th>6</th>\n",
       "      <td>0x1608</td>\n",
       "      <td>CUS_0xd40</td>\n",
       "      <td>July</td>\n",
       "      <td>Aaron Maashoh</td>\n",
       "      <td>23</td>\n",
       "      <td>821-00-0265</td>\n",
       "      <td>Scientist</td>\n",
       "      <td>19114.12</td>\n",
       "      <td>1824.843</td>\n",
       "      <td>3</td>\n",
       "      <td>4</td>\n",
       "      <td>3</td>\n",
       "      <td>4</td>\n",
       "      <td>Auto Loan, Credit-Builder Loan, Personal Loan,...</td>\n",
       "      <td>3</td>\n",
       "      <td>8_</td>\n",
       "      <td>11.27</td>\n",
       "      <td>4.000</td>\n",
       "      <td>Good</td>\n",
       "      <td>809.98</td>\n",
       "      <td>22.538</td>\n",
       "      <td>22 Years and 7 Months</td>\n",
       "      <td>No</td>\n",
       "      <td>49.575</td>\n",
       "      <td>178.3440674122349</td>\n",
       "      <td>Low_spent_Small_value_payments</td>\n",
       "      <td>244.5653167062043</td>\n",
       "      <td>Good</td>\n",
       "    </tr>\n",
       "    <tr>\n",
       "      <th>7</th>\n",
       "      <td>0x1609</td>\n",
       "      <td>CUS_0xd40</td>\n",
       "      <td>August</td>\n",
       "      <td>Aaron Maashoh</td>\n",
       "      <td>23</td>\n",
       "      <td>#F%$D@*&amp;8</td>\n",
       "      <td>Scientist</td>\n",
       "      <td>19114.12</td>\n",
       "      <td>1824.843</td>\n",
       "      <td>3</td>\n",
       "      <td>4</td>\n",
       "      <td>3</td>\n",
       "      <td>4</td>\n",
       "      <td>Auto Loan, Credit-Builder Loan, Personal Loan,...</td>\n",
       "      <td>3</td>\n",
       "      <td>6</td>\n",
       "      <td>11.27</td>\n",
       "      <td>4.000</td>\n",
       "      <td>Good</td>\n",
       "      <td>809.98</td>\n",
       "      <td>23.934</td>\n",
       "      <td>22 Years and 7 Months</td>\n",
       "      <td>No</td>\n",
       "      <td>49.575</td>\n",
       "      <td>24.785216509052056</td>\n",
       "      <td>High_spent_Medium_value_payments</td>\n",
       "      <td>358.12416760938714</td>\n",
       "      <td>Standard</td>\n",
       "    </tr>\n",
       "  </tbody>\n",
       "</table>\n",
       "</div>"
      ],
      "text/plain": [
       "       id customer_id     month           name   age          ssn occupation  \\\n",
       "0  0x1602   CUS_0xd40   January  Aaron Maashoh    23  821-00-0265  Scientist   \n",
       "1  0x1603   CUS_0xd40  February  Aaron Maashoh    23  821-00-0265  Scientist   \n",
       "2  0x1604   CUS_0xd40     March  Aaron Maashoh  -500  821-00-0265  Scientist   \n",
       "3  0x1605   CUS_0xd40     April  Aaron Maashoh    23  821-00-0265  Scientist   \n",
       "4  0x1606   CUS_0xd40       May  Aaron Maashoh    23  821-00-0265  Scientist   \n",
       "5  0x1607   CUS_0xd40      June  Aaron Maashoh    23  821-00-0265  Scientist   \n",
       "6  0x1608   CUS_0xd40      July  Aaron Maashoh    23  821-00-0265  Scientist   \n",
       "7  0x1609   CUS_0xd40    August  Aaron Maashoh    23    #F%$D@*&8  Scientist   \n",
       "\n",
       "  annual_income  monthly_inhand_salary  num_bank_accounts  num_credit_card  \\\n",
       "0      19114.12               1824.843                  3                4   \n",
       "1      19114.12               1824.843                  3                4   \n",
       "2      19114.12               1824.843                  3                4   \n",
       "3      19114.12               1824.843                  3                4   \n",
       "4      19114.12               1824.843                  3                4   \n",
       "5      19114.12               1824.843                  3                4   \n",
       "6      19114.12               1824.843                  3                4   \n",
       "7      19114.12               1824.843                  3                4   \n",
       "\n",
       "   interest_rate num_of_loan  \\\n",
       "0              3           4   \n",
       "1              3           4   \n",
       "2              3           4   \n",
       "3              3           4   \n",
       "4              3           4   \n",
       "5              3           4   \n",
       "6              3           4   \n",
       "7              3           4   \n",
       "\n",
       "                                        type_of_loan  delay_from_due_date  \\\n",
       "0  Auto Loan, Credit-Builder Loan, Personal Loan,...                    3   \n",
       "1  Auto Loan, Credit-Builder Loan, Personal Loan,...                   -1   \n",
       "2  Auto Loan, Credit-Builder Loan, Personal Loan,...                    3   \n",
       "3  Auto Loan, Credit-Builder Loan, Personal Loan,...                    5   \n",
       "4  Auto Loan, Credit-Builder Loan, Personal Loan,...                    6   \n",
       "5  Auto Loan, Credit-Builder Loan, Personal Loan,...                    8   \n",
       "6  Auto Loan, Credit-Builder Loan, Personal Loan,...                    3   \n",
       "7  Auto Loan, Credit-Builder Loan, Personal Loan,...                    3   \n",
       "\n",
       "  num_of_delayed_payment changed_credit_limit  num_credit_inquiries  \\\n",
       "0                      7                11.27                 4.000   \n",
       "1                      7                11.27                 4.000   \n",
       "2                      7                11.27                 4.000   \n",
       "3                      4                 6.27                 4.000   \n",
       "4                      4                11.27                 4.000   \n",
       "5                      4                 9.27                 4.000   \n",
       "6                     8_                11.27                 4.000   \n",
       "7                      6                11.27                 4.000   \n",
       "\n",
       "  credit_mix outstanding_debt  credit_utilization_ratio  \\\n",
       "0       Good           809.98                    26.823   \n",
       "1       Good           809.98                    31.945   \n",
       "2       Good           809.98                    28.609   \n",
       "3       Good           809.98                    31.378   \n",
       "4       Good           809.98                    24.797   \n",
       "5       Good           809.98                    27.262   \n",
       "6       Good           809.98                    22.538   \n",
       "7       Good           809.98                    23.934   \n",
       "\n",
       "      credit_history_age payment_of_min_amount  total_emi_per_month  \\\n",
       "0  22 Years and 1 Months                    No               49.575   \n",
       "1  22 Years and 1 Months                    No               49.575   \n",
       "2  22 Years and 3 Months                    No               49.575   \n",
       "3  22 Years and 4 Months                    No               49.575   \n",
       "4  22 Years and 5 Months                    No               49.575   \n",
       "5  22 Years and 6 Months                    No               49.575   \n",
       "6  22 Years and 7 Months                    No               49.575   \n",
       "7  22 Years and 7 Months                    No               49.575   \n",
       "\n",
       "  amount_invested_monthly                 payment_behaviour  \\\n",
       "0       80.41529543900253   High_spent_Small_value_payments   \n",
       "1      118.28022162236736    Low_spent_Large_value_payments   \n",
       "2         81.699521264648   Low_spent_Medium_value_payments   \n",
       "3       199.4580743910713    Low_spent_Small_value_payments   \n",
       "4      41.420153086217326  High_spent_Medium_value_payments   \n",
       "5      62.430172331195294                            !@9#%8   \n",
       "6       178.3440674122349    Low_spent_Small_value_payments   \n",
       "7      24.785216509052056  High_spent_Medium_value_payments   \n",
       "\n",
       "      monthly_balance credit_score  \n",
       "0  312.49408867943663         Good  \n",
       "1  284.62916249607184         Good  \n",
       "2   331.2098628537912         Good  \n",
       "3  223.45130972736786         Good  \n",
       "4  341.48923103222177         Good  \n",
       "5   340.4792117872438         Good  \n",
       "6   244.5653167062043         Good  \n",
       "7  358.12416760938714     Standard  "
      ]
     },
     "execution_count": 41,
     "metadata": {},
     "output_type": "execute_result"
    }
   ],
   "source": [
    "df[df[\"customer_id\"]==\"CUS_0xd40\"]"
   ]
  },
  {
   "cell_type": "code",
   "execution_count": 42,
   "id": "23a63aa1",
   "metadata": {
    "ExecuteTime": {
     "end_time": "2024-04-25T02:16:09.092712Z",
     "start_time": "2024-04-25T02:16:09.031561Z"
    },
    "execution": {
     "iopub.execute_input": "2024-05-02T13:06:02.585697Z",
     "iopub.status.busy": "2024-05-02T13:06:02.585063Z",
     "iopub.status.idle": "2024-05-02T13:06:02.631670Z",
     "shell.execute_reply": "2024-05-02T13:06:02.630657Z"
    },
    "papermill": {
     "duration": 0.0985,
     "end_time": "2024-05-02T13:06:02.633785",
     "exception": false,
     "start_time": "2024-05-02T13:06:02.535285",
     "status": "completed"
    },
    "tags": []
   },
   "outputs": [
    {
     "data": {
      "text/html": [
       "<div>\n",
       "<style scoped>\n",
       "    .dataframe tbody tr th:only-of-type {\n",
       "        vertical-align: middle;\n",
       "    }\n",
       "\n",
       "    .dataframe tbody tr th {\n",
       "        vertical-align: top;\n",
       "    }\n",
       "\n",
       "    .dataframe thead th {\n",
       "        text-align: right;\n",
       "    }\n",
       "</style>\n",
       "<table border=\"1\" class=\"dataframe\">\n",
       "  <thead>\n",
       "    <tr style=\"text-align: right;\">\n",
       "      <th></th>\n",
       "      <th>id</th>\n",
       "      <th>customer_id</th>\n",
       "      <th>month</th>\n",
       "      <th>name</th>\n",
       "      <th>age</th>\n",
       "      <th>ssn</th>\n",
       "      <th>occupation</th>\n",
       "      <th>annual_income</th>\n",
       "      <th>monthly_inhand_salary</th>\n",
       "      <th>num_bank_accounts</th>\n",
       "      <th>num_credit_card</th>\n",
       "      <th>interest_rate</th>\n",
       "      <th>num_of_loan</th>\n",
       "      <th>type_of_loan</th>\n",
       "      <th>delay_from_due_date</th>\n",
       "      <th>num_of_delayed_payment</th>\n",
       "      <th>changed_credit_limit</th>\n",
       "      <th>num_credit_inquiries</th>\n",
       "      <th>credit_mix</th>\n",
       "      <th>outstanding_debt</th>\n",
       "      <th>credit_utilization_ratio</th>\n",
       "      <th>credit_history_age</th>\n",
       "      <th>payment_of_min_amount</th>\n",
       "      <th>total_emi_per_month</th>\n",
       "      <th>amount_invested_monthly</th>\n",
       "      <th>payment_behaviour</th>\n",
       "      <th>monthly_balance</th>\n",
       "      <th>credit_score</th>\n",
       "    </tr>\n",
       "  </thead>\n",
       "  <tbody>\n",
       "    <tr>\n",
       "      <th>1584</th>\n",
       "      <td>0x1f4a</td>\n",
       "      <td>CUS_0x93ff</td>\n",
       "      <td>January</td>\n",
       "      <td>Roumeliotisv</td>\n",
       "      <td>26</td>\n",
       "      <td>237-50-9740</td>\n",
       "      <td>Lawyer</td>\n",
       "      <td>39696.98</td>\n",
       "      <td>3211.082</td>\n",
       "      <td>5</td>\n",
       "      <td>5</td>\n",
       "      <td>10</td>\n",
       "      <td>1</td>\n",
       "      <td>Not Specified</td>\n",
       "      <td>16</td>\n",
       "      <td>3</td>\n",
       "      <td>1.98</td>\n",
       "      <td>1.000</td>\n",
       "      <td>Good</td>\n",
       "      <td>133.3</td>\n",
       "      <td>39.886</td>\n",
       "      <td>21 Years and 3 Months</td>\n",
       "      <td>No</td>\n",
       "      <td>31.907</td>\n",
       "      <td>73.87093984450794</td>\n",
       "      <td>High_spent_Medium_value_payments</td>\n",
       "      <td>465.33064665134935</td>\n",
       "      <td>Poor</td>\n",
       "    </tr>\n",
       "    <tr>\n",
       "      <th>1585</th>\n",
       "      <td>0x1f4b</td>\n",
       "      <td>CUS_0x93ff</td>\n",
       "      <td>February</td>\n",
       "      <td>Roumeliotisv</td>\n",
       "      <td>26</td>\n",
       "      <td>237-50-9740</td>\n",
       "      <td>Lawyer</td>\n",
       "      <td>39696.98_</td>\n",
       "      <td>3211.082</td>\n",
       "      <td>5</td>\n",
       "      <td>5</td>\n",
       "      <td>10</td>\n",
       "      <td>1_</td>\n",
       "      <td>Not Specified</td>\n",
       "      <td>11</td>\n",
       "      <td>5</td>\n",
       "      <td>-5.02</td>\n",
       "      <td>1.000</td>\n",
       "      <td>Good</td>\n",
       "      <td>133.3</td>\n",
       "      <td>29.998</td>\n",
       "      <td>21 Years and 3 Months</td>\n",
       "      <td>NM</td>\n",
       "      <td>31.907</td>\n",
       "      <td>67.0732807694454</td>\n",
       "      <td>High_spent_Medium_value_payments</td>\n",
       "      <td>472.12830572641184</td>\n",
       "      <td>Poor</td>\n",
       "    </tr>\n",
       "    <tr>\n",
       "      <th>1586</th>\n",
       "      <td>0x1f4c</td>\n",
       "      <td>CUS_0x93ff</td>\n",
       "      <td>March</td>\n",
       "      <td>Roumeliotisv</td>\n",
       "      <td>26</td>\n",
       "      <td>237-50-9740</td>\n",
       "      <td>Lawyer</td>\n",
       "      <td>39696.98</td>\n",
       "      <td>3211.082</td>\n",
       "      <td>5</td>\n",
       "      <td>5</td>\n",
       "      <td>10</td>\n",
       "      <td>1</td>\n",
       "      <td>Not Specified</td>\n",
       "      <td>11</td>\n",
       "      <td>3</td>\n",
       "      <td>1.98</td>\n",
       "      <td>1.000</td>\n",
       "      <td>Good</td>\n",
       "      <td>133.3</td>\n",
       "      <td>33.396</td>\n",
       "      <td>21 Years and 5 Months</td>\n",
       "      <td>No</td>\n",
       "      <td>31.907</td>\n",
       "      <td>56.2457675369253</td>\n",
       "      <td>High_spent_Medium_value_payments</td>\n",
       "      <td>482.9558189589319</td>\n",
       "      <td>Standard</td>\n",
       "    </tr>\n",
       "    <tr>\n",
       "      <th>1587</th>\n",
       "      <td>0x1f4d</td>\n",
       "      <td>CUS_0x93ff</td>\n",
       "      <td>April</td>\n",
       "      <td>Roumeliotisv</td>\n",
       "      <td>26</td>\n",
       "      <td>237-50-9740</td>\n",
       "      <td>Lawyer</td>\n",
       "      <td>39696.98</td>\n",
       "      <td>3211.082</td>\n",
       "      <td>5</td>\n",
       "      <td>5</td>\n",
       "      <td>10</td>\n",
       "      <td>1</td>\n",
       "      <td>Not Specified</td>\n",
       "      <td>11</td>\n",
       "      <td>3</td>\n",
       "      <td>1.98</td>\n",
       "      <td>1.000</td>\n",
       "      <td>Good</td>\n",
       "      <td>133.3</td>\n",
       "      <td>28.844</td>\n",
       "      <td>21 Years and 6 Months</td>\n",
       "      <td>No</td>\n",
       "      <td>31.907</td>\n",
       "      <td>37.51782482904488</td>\n",
       "      <td>High_spent_Medium_value_payments</td>\n",
       "      <td>501.6837616668123</td>\n",
       "      <td>Poor</td>\n",
       "    </tr>\n",
       "    <tr>\n",
       "      <th>1588</th>\n",
       "      <td>0x1f4e</td>\n",
       "      <td>CUS_0x93ff</td>\n",
       "      <td>May</td>\n",
       "      <td>Roumeliotisv</td>\n",
       "      <td>26</td>\n",
       "      <td>237-50-9740</td>\n",
       "      <td>Lawyer</td>\n",
       "      <td>39696.98</td>\n",
       "      <td>3211.082</td>\n",
       "      <td>5</td>\n",
       "      <td>5</td>\n",
       "      <td>1115</td>\n",
       "      <td>1</td>\n",
       "      <td>Not Specified</td>\n",
       "      <td>11</td>\n",
       "      <td>6</td>\n",
       "      <td>1.98</td>\n",
       "      <td>1.000</td>\n",
       "      <td>Good</td>\n",
       "      <td>133.3</td>\n",
       "      <td>40.143</td>\n",
       "      <td>21 Years and 7 Months</td>\n",
       "      <td>No</td>\n",
       "      <td>31.907</td>\n",
       "      <td>44.04731679197315</td>\n",
       "      <td>High_spent_Large_value_payments</td>\n",
       "      <td>485.154269703884</td>\n",
       "      <td>Poor</td>\n",
       "    </tr>\n",
       "    <tr>\n",
       "      <th>1589</th>\n",
       "      <td>0x1f4f</td>\n",
       "      <td>CUS_0x93ff</td>\n",
       "      <td>June</td>\n",
       "      <td>Roumeliotisv</td>\n",
       "      <td>26</td>\n",
       "      <td>237-50-9740</td>\n",
       "      <td>Lawyer</td>\n",
       "      <td>39696.98</td>\n",
       "      <td>3211.082</td>\n",
       "      <td>5</td>\n",
       "      <td>5</td>\n",
       "      <td>10</td>\n",
       "      <td>1</td>\n",
       "      <td>Not Specified</td>\n",
       "      <td>11</td>\n",
       "      <td>3</td>\n",
       "      <td>1.98</td>\n",
       "      <td>1.000</td>\n",
       "      <td>Good</td>\n",
       "      <td>133.3</td>\n",
       "      <td>24.870</td>\n",
       "      <td>21 Years and 8 Months</td>\n",
       "      <td>No</td>\n",
       "      <td>31.907</td>\n",
       "      <td>156.79219440803175</td>\n",
       "      <td>Low_spent_Small_value_payments</td>\n",
       "      <td>422.4093920878255</td>\n",
       "      <td>Poor</td>\n",
       "    </tr>\n",
       "    <tr>\n",
       "      <th>1590</th>\n",
       "      <td>0x1f50</td>\n",
       "      <td>CUS_0x93ff</td>\n",
       "      <td>July</td>\n",
       "      <td>Roumeliotisv</td>\n",
       "      <td>27</td>\n",
       "      <td>237-50-9740</td>\n",
       "      <td>Lawyer</td>\n",
       "      <td>39696.98</td>\n",
       "      <td>3211.082</td>\n",
       "      <td>5</td>\n",
       "      <td>5</td>\n",
       "      <td>10</td>\n",
       "      <td>1</td>\n",
       "      <td>Not Specified</td>\n",
       "      <td>11</td>\n",
       "      <td>3</td>\n",
       "      <td>1.98</td>\n",
       "      <td>1.000</td>\n",
       "      <td>Good</td>\n",
       "      <td>133.3</td>\n",
       "      <td>31.677</td>\n",
       "      <td>21 Years and 9 Months</td>\n",
       "      <td>No</td>\n",
       "      <td>31.907</td>\n",
       "      <td>223.97377228626283</td>\n",
       "      <td>Low_spent_Large_value_payments</td>\n",
       "      <td>335.22781420959444</td>\n",
       "      <td>Poor</td>\n",
       "    </tr>\n",
       "    <tr>\n",
       "      <th>1591</th>\n",
       "      <td>0x1f51</td>\n",
       "      <td>CUS_0x93ff</td>\n",
       "      <td>August</td>\n",
       "      <td>Roumeliotisv</td>\n",
       "      <td>27</td>\n",
       "      <td>237-50-9740</td>\n",
       "      <td>Lawyer</td>\n",
       "      <td>39696.98</td>\n",
       "      <td>3211.082</td>\n",
       "      <td>5</td>\n",
       "      <td>5</td>\n",
       "      <td>10</td>\n",
       "      <td>1</td>\n",
       "      <td>Not Specified</td>\n",
       "      <td>11</td>\n",
       "      <td>3</td>\n",
       "      <td>1.98</td>\n",
       "      <td>1194.000</td>\n",
       "      <td>Good</td>\n",
       "      <td>133.3</td>\n",
       "      <td>27.290</td>\n",
       "      <td>21 Years and 10 Months</td>\n",
       "      <td>No</td>\n",
       "      <td>31.907</td>\n",
       "      <td>239.0805687710546</td>\n",
       "      <td>Low_spent_Medium_value_payments</td>\n",
       "      <td>330.1210177248025</td>\n",
       "      <td>Poor</td>\n",
       "    </tr>\n",
       "  </tbody>\n",
       "</table>\n",
       "</div>"
      ],
      "text/plain": [
       "          id customer_id     month          name age          ssn occupation  \\\n",
       "1584  0x1f4a  CUS_0x93ff   January  Roumeliotisv  26  237-50-9740     Lawyer   \n",
       "1585  0x1f4b  CUS_0x93ff  February  Roumeliotisv  26  237-50-9740     Lawyer   \n",
       "1586  0x1f4c  CUS_0x93ff     March  Roumeliotisv  26  237-50-9740     Lawyer   \n",
       "1587  0x1f4d  CUS_0x93ff     April  Roumeliotisv  26  237-50-9740     Lawyer   \n",
       "1588  0x1f4e  CUS_0x93ff       May  Roumeliotisv  26  237-50-9740     Lawyer   \n",
       "1589  0x1f4f  CUS_0x93ff      June  Roumeliotisv  26  237-50-9740     Lawyer   \n",
       "1590  0x1f50  CUS_0x93ff      July  Roumeliotisv  27  237-50-9740     Lawyer   \n",
       "1591  0x1f51  CUS_0x93ff    August  Roumeliotisv  27  237-50-9740     Lawyer   \n",
       "\n",
       "     annual_income  monthly_inhand_salary  num_bank_accounts  num_credit_card  \\\n",
       "1584      39696.98               3211.082                  5                5   \n",
       "1585     39696.98_               3211.082                  5                5   \n",
       "1586      39696.98               3211.082                  5                5   \n",
       "1587      39696.98               3211.082                  5                5   \n",
       "1588      39696.98               3211.082                  5                5   \n",
       "1589      39696.98               3211.082                  5                5   \n",
       "1590      39696.98               3211.082                  5                5   \n",
       "1591      39696.98               3211.082                  5                5   \n",
       "\n",
       "      interest_rate num_of_loan   type_of_loan  delay_from_due_date  \\\n",
       "1584             10           1  Not Specified                   16   \n",
       "1585             10          1_  Not Specified                   11   \n",
       "1586             10           1  Not Specified                   11   \n",
       "1587             10           1  Not Specified                   11   \n",
       "1588           1115           1  Not Specified                   11   \n",
       "1589             10           1  Not Specified                   11   \n",
       "1590             10           1  Not Specified                   11   \n",
       "1591             10           1  Not Specified                   11   \n",
       "\n",
       "     num_of_delayed_payment changed_credit_limit  num_credit_inquiries  \\\n",
       "1584                      3                 1.98                 1.000   \n",
       "1585                      5                -5.02                 1.000   \n",
       "1586                      3                 1.98                 1.000   \n",
       "1587                      3                 1.98                 1.000   \n",
       "1588                      6                 1.98                 1.000   \n",
       "1589                      3                 1.98                 1.000   \n",
       "1590                      3                 1.98                 1.000   \n",
       "1591                      3                 1.98              1194.000   \n",
       "\n",
       "     credit_mix outstanding_debt  credit_utilization_ratio  \\\n",
       "1584       Good            133.3                    39.886   \n",
       "1585       Good            133.3                    29.998   \n",
       "1586       Good            133.3                    33.396   \n",
       "1587       Good            133.3                    28.844   \n",
       "1588       Good            133.3                    40.143   \n",
       "1589       Good            133.3                    24.870   \n",
       "1590       Good            133.3                    31.677   \n",
       "1591       Good            133.3                    27.290   \n",
       "\n",
       "          credit_history_age payment_of_min_amount  total_emi_per_month  \\\n",
       "1584   21 Years and 3 Months                    No               31.907   \n",
       "1585   21 Years and 3 Months                    NM               31.907   \n",
       "1586   21 Years and 5 Months                    No               31.907   \n",
       "1587   21 Years and 6 Months                    No               31.907   \n",
       "1588   21 Years and 7 Months                    No               31.907   \n",
       "1589   21 Years and 8 Months                    No               31.907   \n",
       "1590   21 Years and 9 Months                    No               31.907   \n",
       "1591  21 Years and 10 Months                    No               31.907   \n",
       "\n",
       "     amount_invested_monthly                 payment_behaviour  \\\n",
       "1584       73.87093984450794  High_spent_Medium_value_payments   \n",
       "1585        67.0732807694454  High_spent_Medium_value_payments   \n",
       "1586        56.2457675369253  High_spent_Medium_value_payments   \n",
       "1587       37.51782482904488  High_spent_Medium_value_payments   \n",
       "1588       44.04731679197315   High_spent_Large_value_payments   \n",
       "1589      156.79219440803175    Low_spent_Small_value_payments   \n",
       "1590      223.97377228626283    Low_spent_Large_value_payments   \n",
       "1591       239.0805687710546   Low_spent_Medium_value_payments   \n",
       "\n",
       "         monthly_balance credit_score  \n",
       "1584  465.33064665134935         Poor  \n",
       "1585  472.12830572641184         Poor  \n",
       "1586   482.9558189589319     Standard  \n",
       "1587   501.6837616668123         Poor  \n",
       "1588    485.154269703884         Poor  \n",
       "1589   422.4093920878255         Poor  \n",
       "1590  335.22781420959444         Poor  \n",
       "1591   330.1210177248025         Poor  "
      ]
     },
     "execution_count": 42,
     "metadata": {},
     "output_type": "execute_result"
    }
   ],
   "source": [
    "df[df[\"customer_id\"]==\"CUS_0x93ff\"]"
   ]
  },
  {
   "cell_type": "code",
   "execution_count": 43,
   "id": "18710593",
   "metadata": {
    "ExecuteTime": {
     "end_time": "2024-04-25T02:38:38.423267Z",
     "start_time": "2024-04-25T02:38:38.393729Z"
    },
    "execution": {
     "iopub.execute_input": "2024-05-02T13:06:02.737384Z",
     "iopub.status.busy": "2024-05-02T13:06:02.736738Z",
     "iopub.status.idle": "2024-05-02T13:06:02.754724Z",
     "shell.execute_reply": "2024-05-02T13:06:02.753748Z"
    },
    "papermill": {
     "duration": 0.070516,
     "end_time": "2024-05-02T13:06:02.756603",
     "exception": false,
     "start_time": "2024-05-02T13:06:02.686087",
     "status": "completed"
    },
    "tags": []
   },
   "outputs": [
    {
     "data": {
      "text/html": [
       "<div>\n",
       "<style scoped>\n",
       "    .dataframe tbody tr th:only-of-type {\n",
       "        vertical-align: middle;\n",
       "    }\n",
       "\n",
       "    .dataframe tbody tr th {\n",
       "        vertical-align: top;\n",
       "    }\n",
       "\n",
       "    .dataframe thead th {\n",
       "        text-align: right;\n",
       "    }\n",
       "</style>\n",
       "<table border=\"1\" class=\"dataframe\">\n",
       "  <thead>\n",
       "    <tr style=\"text-align: right;\">\n",
       "      <th></th>\n",
       "      <th>type_of_loan</th>\n",
       "    </tr>\n",
       "  </thead>\n",
       "  <tbody>\n",
       "    <tr>\n",
       "      <th>21903</th>\n",
       "      <td>Student Loan, Credit-Builder Loan, Debt Consol...</td>\n",
       "    </tr>\n",
       "    <tr>\n",
       "      <th>77012</th>\n",
       "      <td>Student Loan, Auto Loan, and Payday Loan</td>\n",
       "    </tr>\n",
       "    <tr>\n",
       "      <th>99821</th>\n",
       "      <td>Mortgage Loan, Auto Loan, Payday Loan, Not Spe...</td>\n",
       "    </tr>\n",
       "    <tr>\n",
       "      <th>6161</th>\n",
       "      <td>Payday Loan, Payday Loan, Auto Loan, Not Speci...</td>\n",
       "    </tr>\n",
       "    <tr>\n",
       "      <th>90858</th>\n",
       "      <td>Home Equity Loan, Credit-Builder Loan, and Not...</td>\n",
       "    </tr>\n",
       "    <tr>\n",
       "      <th>69983</th>\n",
       "      <td>Home Equity Loan, Payday Loan, Not Specified, ...</td>\n",
       "    </tr>\n",
       "    <tr>\n",
       "      <th>24086</th>\n",
       "      <td>Payday Loan, Credit-Builder Loan, Student Loan...</td>\n",
       "    </tr>\n",
       "    <tr>\n",
       "      <th>53840</th>\n",
       "      <td>Home Equity Loan, Credit-Builder Loan, Persona...</td>\n",
       "    </tr>\n",
       "    <tr>\n",
       "      <th>70426</th>\n",
       "      <td>Personal Loan</td>\n",
       "    </tr>\n",
       "    <tr>\n",
       "      <th>22875</th>\n",
       "      <td>Auto Loan, Personal Loan, Mortgage Loan, Credi...</td>\n",
       "    </tr>\n",
       "    <tr>\n",
       "      <th>66461</th>\n",
       "      <td>Not Specified, Payday Loan, Student Loan, Not ...</td>\n",
       "    </tr>\n",
       "    <tr>\n",
       "      <th>39892</th>\n",
       "      <td>Debt Consolidation Loan</td>\n",
       "    </tr>\n",
       "    <tr>\n",
       "      <th>77377</th>\n",
       "      <td>Debt Consolidation Loan, Payday Loan, Personal...</td>\n",
       "    </tr>\n",
       "    <tr>\n",
       "      <th>7222</th>\n",
       "      <td>Student Loan, Payday Loan, Mortgage Loan, and ...</td>\n",
       "    </tr>\n",
       "    <tr>\n",
       "      <th>31039</th>\n",
       "      <td>Debt Consolidation Loan, Debt Consolidation Lo...</td>\n",
       "    </tr>\n",
       "    <tr>\n",
       "      <th>94173</th>\n",
       "      <td>NaN</td>\n",
       "    </tr>\n",
       "    <tr>\n",
       "      <th>3806</th>\n",
       "      <td>Payday Loan</td>\n",
       "    </tr>\n",
       "    <tr>\n",
       "      <th>87414</th>\n",
       "      <td>Home Equity Loan, Home Equity Loan, Personal L...</td>\n",
       "    </tr>\n",
       "    <tr>\n",
       "      <th>65372</th>\n",
       "      <td>Not Specified, Debt Consolidation Loan, and St...</td>\n",
       "    </tr>\n",
       "    <tr>\n",
       "      <th>20906</th>\n",
       "      <td>Home Equity Loan, Not Specified, Not Specified...</td>\n",
       "    </tr>\n",
       "  </tbody>\n",
       "</table>\n",
       "</div>"
      ],
      "text/plain": [
       "                                            type_of_loan\n",
       "21903  Student Loan, Credit-Builder Loan, Debt Consol...\n",
       "77012           Student Loan, Auto Loan, and Payday Loan\n",
       "99821  Mortgage Loan, Auto Loan, Payday Loan, Not Spe...\n",
       "6161   Payday Loan, Payday Loan, Auto Loan, Not Speci...\n",
       "90858  Home Equity Loan, Credit-Builder Loan, and Not...\n",
       "69983  Home Equity Loan, Payday Loan, Not Specified, ...\n",
       "24086  Payday Loan, Credit-Builder Loan, Student Loan...\n",
       "53840  Home Equity Loan, Credit-Builder Loan, Persona...\n",
       "70426                                      Personal Loan\n",
       "22875  Auto Loan, Personal Loan, Mortgage Loan, Credi...\n",
       "66461  Not Specified, Payday Loan, Student Loan, Not ...\n",
       "39892                            Debt Consolidation Loan\n",
       "77377  Debt Consolidation Loan, Payday Loan, Personal...\n",
       "7222   Student Loan, Payday Loan, Mortgage Loan, and ...\n",
       "31039  Debt Consolidation Loan, Debt Consolidation Lo...\n",
       "94173                                                NaN\n",
       "3806                                         Payday Loan\n",
       "87414  Home Equity Loan, Home Equity Loan, Personal L...\n",
       "65372  Not Specified, Debt Consolidation Loan, and St...\n",
       "20906  Home Equity Loan, Not Specified, Not Specified..."
      ]
     },
     "execution_count": 43,
     "metadata": {},
     "output_type": "execute_result"
    }
   ],
   "source": [
    "df[[\"type_of_loan\"]].sample(20)"
   ]
  },
  {
   "cell_type": "code",
   "execution_count": 44,
   "id": "428fecc9",
   "metadata": {
    "ExecuteTime": {
     "end_time": "2024-04-28T00:09:13.147697Z",
     "start_time": "2024-04-28T00:09:13.137197Z"
    },
    "execution": {
     "iopub.execute_input": "2024-05-02T13:06:02.859986Z",
     "iopub.status.busy": "2024-05-02T13:06:02.859665Z",
     "iopub.status.idle": "2024-05-02T13:06:02.865080Z",
     "shell.execute_reply": "2024-05-02T13:06:02.864161Z"
    },
    "papermill": {
     "duration": 0.060741,
     "end_time": "2024-05-02T13:06:02.867008",
     "exception": false,
     "start_time": "2024-05-02T13:06:02.806267",
     "status": "completed"
    },
    "tags": []
   },
   "outputs": [],
   "source": [
    "# Function used to transform the \"credit history age\" column to simplify our dataset and use numerical data\n",
    "# I changed the information given in \"15 years and 5 Months\" format as year and month to the month equivalent, that is, \"185 Months\" format.\n",
    "def credit_history(duration):                        \n",
    "    years, months = duration.split(' Years and ')\n",
    "    months = months.split(' Months')[0]\n",
    "    total_months = int(years) * 12 + int(months)\n",
    "    return total_months"
   ]
  },
  {
   "cell_type": "code",
   "execution_count": 45,
   "id": "ad09df3f",
   "metadata": {
    "ExecuteTime": {
     "end_time": "2024-04-28T01:11:09.660950Z",
     "start_time": "2024-04-28T01:11:09.433843Z"
    },
    "execution": {
     "iopub.execute_input": "2024-05-02T13:06:02.975788Z",
     "iopub.status.busy": "2024-05-02T13:06:02.975384Z",
     "iopub.status.idle": "2024-05-02T13:06:03.143908Z",
     "shell.execute_reply": "2024-05-02T13:06:03.142888Z"
    },
    "papermill": {
     "duration": 0.226896,
     "end_time": "2024-05-02T13:06:03.146112",
     "exception": false,
     "start_time": "2024-05-02T13:06:02.919216",
     "status": "completed"
    },
    "tags": []
   },
   "outputs": [
    {
     "data": {
      "text/plain": [
       "0    265\n",
       "1    265\n",
       "2    267\n",
       "3    268\n",
       "4    269\n",
       "Name: credit_history_age, dtype: int64"
      ]
     },
     "execution_count": 45,
     "metadata": {},
     "output_type": "execute_result"
    }
   ],
   "source": [
    "df[\"credit_history_age\"] = df[\"credit_history_age\"].apply(credit_history) \n",
    "df[\"credit_history_age\"].head()"
   ]
  },
  {
   "cell_type": "code",
   "execution_count": 46,
   "id": "09f8e987",
   "metadata": {
    "ExecuteTime": {
     "end_time": "2024-04-28T00:09:18.554924Z",
     "start_time": "2024-04-28T00:09:18.505150Z"
    },
    "execution": {
     "iopub.execute_input": "2024-05-02T13:06:03.250416Z",
     "iopub.status.busy": "2024-05-02T13:06:03.249624Z",
     "iopub.status.idle": "2024-05-02T13:06:03.278362Z",
     "shell.execute_reply": "2024-05-02T13:06:03.277345Z"
    },
    "papermill": {
     "duration": 0.083966,
     "end_time": "2024-05-02T13:06:03.280643",
     "exception": false,
     "start_time": "2024-05-02T13:06:03.196677",
     "status": "completed"
    },
    "tags": []
   },
   "outputs": [
    {
     "data": {
      "text/html": [
       "<div>\n",
       "<style scoped>\n",
       "    .dataframe tbody tr th:only-of-type {\n",
       "        vertical-align: middle;\n",
       "    }\n",
       "\n",
       "    .dataframe tbody tr th {\n",
       "        vertical-align: top;\n",
       "    }\n",
       "\n",
       "    .dataframe thead th {\n",
       "        text-align: right;\n",
       "    }\n",
       "</style>\n",
       "<table border=\"1\" class=\"dataframe\">\n",
       "  <thead>\n",
       "    <tr style=\"text-align: right;\">\n",
       "      <th></th>\n",
       "      <th>id</th>\n",
       "      <th>customer_id</th>\n",
       "      <th>month</th>\n",
       "      <th>name</th>\n",
       "      <th>age</th>\n",
       "      <th>ssn</th>\n",
       "      <th>occupation</th>\n",
       "      <th>annual_income</th>\n",
       "      <th>monthly_inhand_salary</th>\n",
       "      <th>num_bank_accounts</th>\n",
       "      <th>num_credit_card</th>\n",
       "      <th>interest_rate</th>\n",
       "      <th>num_of_loan</th>\n",
       "      <th>type_of_loan</th>\n",
       "      <th>delay_from_due_date</th>\n",
       "      <th>num_of_delayed_payment</th>\n",
       "      <th>changed_credit_limit</th>\n",
       "      <th>num_credit_inquiries</th>\n",
       "      <th>credit_mix</th>\n",
       "      <th>outstanding_debt</th>\n",
       "      <th>credit_utilization_ratio</th>\n",
       "      <th>credit_history_age</th>\n",
       "      <th>payment_of_min_amount</th>\n",
       "      <th>total_emi_per_month</th>\n",
       "      <th>amount_invested_monthly</th>\n",
       "      <th>payment_behaviour</th>\n",
       "      <th>monthly_balance</th>\n",
       "      <th>credit_score</th>\n",
       "    </tr>\n",
       "  </thead>\n",
       "  <tbody>\n",
       "    <tr>\n",
       "      <th>95342</th>\n",
       "      <td>0x244a4</td>\n",
       "      <td>CUS_0x8cce</td>\n",
       "      <td>July</td>\n",
       "      <td>Deutschp</td>\n",
       "      <td>36</td>\n",
       "      <td>085-98-2156</td>\n",
       "      <td>Teacher</td>\n",
       "      <td>29969.66</td>\n",
       "      <td>2418.472</td>\n",
       "      <td>8</td>\n",
       "      <td>6</td>\n",
       "      <td>18</td>\n",
       "      <td>1</td>\n",
       "      <td>Auto Loan</td>\n",
       "      <td>24</td>\n",
       "      <td>18</td>\n",
       "      <td>11.97</td>\n",
       "      <td>5.000</td>\n",
       "      <td>Standard</td>\n",
       "      <td>157.07</td>\n",
       "      <td>34.689</td>\n",
       "      <td>272</td>\n",
       "      <td>NM</td>\n",
       "      <td>14.380</td>\n",
       "      <td>50.840566665726215</td>\n",
       "      <td>High_spent_Medium_value_payments</td>\n",
       "      <td>426.6261382472457</td>\n",
       "      <td>Standard</td>\n",
       "    </tr>\n",
       "    <tr>\n",
       "      <th>93311</th>\n",
       "      <td>0x238bd</td>\n",
       "      <td>CUS_0x47da</td>\n",
       "      <td>August</td>\n",
       "      <td>Rothackerl</td>\n",
       "      <td>18</td>\n",
       "      <td>929-00-2402</td>\n",
       "      <td>Engineer</td>\n",
       "      <td>13190.345</td>\n",
       "      <td>1131.195</td>\n",
       "      <td>3</td>\n",
       "      <td>4</td>\n",
       "      <td>5</td>\n",
       "      <td>1</td>\n",
       "      <td>Debt Consolidation Loan</td>\n",
       "      <td>21</td>\n",
       "      <td>20</td>\n",
       "      <td>3.4000000000000004</td>\n",
       "      <td>2.000</td>\n",
       "      <td>Standard</td>\n",
       "      <td>578.6</td>\n",
       "      <td>23.482</td>\n",
       "      <td>347</td>\n",
       "      <td>NM</td>\n",
       "      <td>9.896</td>\n",
       "      <td>59.84745853321921</td>\n",
       "      <td>Low_spent_Medium_value_payments</td>\n",
       "      <td>323.3760651177055</td>\n",
       "      <td>Poor</td>\n",
       "    </tr>\n",
       "    <tr>\n",
       "      <th>81998</th>\n",
       "      <td>0x1f674</td>\n",
       "      <td>CUS_0xb982</td>\n",
       "      <td>July</td>\n",
       "      <td>Richard Leongk</td>\n",
       "      <td>52</td>\n",
       "      <td>688-83-9384</td>\n",
       "      <td>Accountant</td>\n",
       "      <td>59494.14</td>\n",
       "      <td>5162.845</td>\n",
       "      <td>0</td>\n",
       "      <td>4</td>\n",
       "      <td>2</td>\n",
       "      <td>1</td>\n",
       "      <td>Credit-Builder Loan</td>\n",
       "      <td>8</td>\n",
       "      <td>3</td>\n",
       "      <td>6.6</td>\n",
       "      <td>1.000</td>\n",
       "      <td>Good</td>\n",
       "      <td>662.71</td>\n",
       "      <td>32.299</td>\n",
       "      <td>351</td>\n",
       "      <td>No</td>\n",
       "      <td>31.134</td>\n",
       "      <td>295.65517463013964</td>\n",
       "      <td>Low_spent_Medium_value_payments</td>\n",
       "      <td>469.4952246294526</td>\n",
       "      <td>Standard</td>\n",
       "    </tr>\n",
       "    <tr>\n",
       "      <th>10342</th>\n",
       "      <td>0x5298</td>\n",
       "      <td>CUS_0x232b</td>\n",
       "      <td>July</td>\n",
       "      <td>Marshk</td>\n",
       "      <td>26</td>\n",
       "      <td>516-71-4457</td>\n",
       "      <td>Entrepreneur</td>\n",
       "      <td>62115.81</td>\n",
       "      <td>5064.318</td>\n",
       "      <td>3</td>\n",
       "      <td>7</td>\n",
       "      <td>17</td>\n",
       "      <td>5</td>\n",
       "      <td>Debt Consolidation Loan, Credit-Builder Loan, ...</td>\n",
       "      <td>23</td>\n",
       "      <td>21</td>\n",
       "      <td>14.9</td>\n",
       "      <td>10.000</td>\n",
       "      <td>Standard</td>\n",
       "      <td>1724.19</td>\n",
       "      <td>33.225</td>\n",
       "      <td>97</td>\n",
       "      <td>Yes</td>\n",
       "      <td>234.928</td>\n",
       "      <td>154.73714568497175</td>\n",
       "      <td>High_spent_Small_value_payments</td>\n",
       "      <td>376.7662114843202</td>\n",
       "      <td>Standard</td>\n",
       "    </tr>\n",
       "    <tr>\n",
       "      <th>90044</th>\n",
       "      <td>0x2259a</td>\n",
       "      <td>CUS_0x67cb</td>\n",
       "      <td>May</td>\n",
       "      <td>Vaughanj</td>\n",
       "      <td>29</td>\n",
       "      <td>726-51-1301</td>\n",
       "      <td>Writer</td>\n",
       "      <td>14433.725</td>\n",
       "      <td>1389.810</td>\n",
       "      <td>3</td>\n",
       "      <td>3</td>\n",
       "      <td>6</td>\n",
       "      <td>3</td>\n",
       "      <td>Debt Consolidation Loan, Student Loan, and Aut...</td>\n",
       "      <td>27</td>\n",
       "      <td>15</td>\n",
       "      <td>12.76</td>\n",
       "      <td>8.000</td>\n",
       "      <td>Standard</td>\n",
       "      <td>33.79</td>\n",
       "      <td>33.463</td>\n",
       "      <td>399</td>\n",
       "      <td>Yes</td>\n",
       "      <td>29.709</td>\n",
       "      <td>27.739658152253515</td>\n",
       "      <td>High_spent_Medium_value_payments</td>\n",
       "      <td>331.53240420215684</td>\n",
       "      <td>Standard</td>\n",
       "    </tr>\n",
       "  </tbody>\n",
       "</table>\n",
       "</div>"
      ],
      "text/plain": [
       "            id customer_id   month            name age          ssn  \\\n",
       "95342  0x244a4  CUS_0x8cce    July        Deutschp  36  085-98-2156   \n",
       "93311  0x238bd  CUS_0x47da  August      Rothackerl  18  929-00-2402   \n",
       "81998  0x1f674  CUS_0xb982    July  Richard Leongk  52  688-83-9384   \n",
       "10342   0x5298  CUS_0x232b    July          Marshk  26  516-71-4457   \n",
       "90044  0x2259a  CUS_0x67cb     May        Vaughanj  29  726-51-1301   \n",
       "\n",
       "         occupation annual_income  monthly_inhand_salary  num_bank_accounts  \\\n",
       "95342       Teacher      29969.66               2418.472                  8   \n",
       "93311      Engineer     13190.345               1131.195                  3   \n",
       "81998    Accountant      59494.14               5162.845                  0   \n",
       "10342  Entrepreneur      62115.81               5064.318                  3   \n",
       "90044        Writer     14433.725               1389.810                  3   \n",
       "\n",
       "       num_credit_card  interest_rate num_of_loan  \\\n",
       "95342                6             18           1   \n",
       "93311                4              5           1   \n",
       "81998                4              2           1   \n",
       "10342                7             17           5   \n",
       "90044                3              6           3   \n",
       "\n",
       "                                            type_of_loan  delay_from_due_date  \\\n",
       "95342                                          Auto Loan                   24   \n",
       "93311                            Debt Consolidation Loan                   21   \n",
       "81998                                Credit-Builder Loan                    8   \n",
       "10342  Debt Consolidation Loan, Credit-Builder Loan, ...                   23   \n",
       "90044  Debt Consolidation Loan, Student Loan, and Aut...                   27   \n",
       "\n",
       "      num_of_delayed_payment changed_credit_limit  num_credit_inquiries  \\\n",
       "95342                     18                11.97                 5.000   \n",
       "93311                     20   3.4000000000000004                 2.000   \n",
       "81998                      3                  6.6                 1.000   \n",
       "10342                     21                 14.9                10.000   \n",
       "90044                     15                12.76                 8.000   \n",
       "\n",
       "      credit_mix outstanding_debt  credit_utilization_ratio  \\\n",
       "95342   Standard           157.07                    34.689   \n",
       "93311   Standard            578.6                    23.482   \n",
       "81998       Good           662.71                    32.299   \n",
       "10342   Standard          1724.19                    33.225   \n",
       "90044   Standard            33.79                    33.463   \n",
       "\n",
       "       credit_history_age payment_of_min_amount  total_emi_per_month  \\\n",
       "95342                 272                    NM               14.380   \n",
       "93311                 347                    NM                9.896   \n",
       "81998                 351                    No               31.134   \n",
       "10342                  97                   Yes              234.928   \n",
       "90044                 399                   Yes               29.709   \n",
       "\n",
       "      amount_invested_monthly                 payment_behaviour  \\\n",
       "95342      50.840566665726215  High_spent_Medium_value_payments   \n",
       "93311       59.84745853321921   Low_spent_Medium_value_payments   \n",
       "81998      295.65517463013964   Low_spent_Medium_value_payments   \n",
       "10342      154.73714568497175   High_spent_Small_value_payments   \n",
       "90044      27.739658152253515  High_spent_Medium_value_payments   \n",
       "\n",
       "          monthly_balance credit_score  \n",
       "95342   426.6261382472457     Standard  \n",
       "93311   323.3760651177055         Poor  \n",
       "81998   469.4952246294526     Standard  \n",
       "10342   376.7662114843202     Standard  \n",
       "90044  331.53240420215684     Standard  "
      ]
     },
     "execution_count": 46,
     "metadata": {},
     "output_type": "execute_result"
    }
   ],
   "source": [
    "df.sample(5)"
   ]
  },
  {
   "cell_type": "code",
   "execution_count": 47,
   "id": "8a414cef",
   "metadata": {
    "ExecuteTime": {
     "end_time": "2024-04-28T01:11:13.503894Z",
     "start_time": "2024-04-28T01:11:13.455102Z"
    },
    "execution": {
     "iopub.execute_input": "2024-05-02T13:06:03.386505Z",
     "iopub.status.busy": "2024-05-02T13:06:03.386180Z",
     "iopub.status.idle": "2024-05-02T13:06:03.431395Z",
     "shell.execute_reply": "2024-05-02T13:06:03.430662Z"
    },
    "papermill": {
     "duration": 0.098474,
     "end_time": "2024-05-02T13:06:03.433521",
     "exception": false,
     "start_time": "2024-05-02T13:06:03.335047",
     "status": "completed"
    },
    "tags": []
   },
   "outputs": [],
   "source": [
    "df.age = df.age.apply(lambda x : x.rstrip(\"_\").lstrip(\"_\"))"
   ]
  },
  {
   "cell_type": "code",
   "execution_count": 48,
   "id": "cf2adfaa",
   "metadata": {
    "ExecuteTime": {
     "end_time": "2024-04-28T01:11:15.427622Z",
     "start_time": "2024-04-28T01:11:15.359985Z"
    },
    "execution": {
     "iopub.execute_input": "2024-05-02T13:06:03.535548Z",
     "iopub.status.busy": "2024-05-02T13:06:03.535250Z",
     "iopub.status.idle": "2024-05-02T13:06:03.580350Z",
     "shell.execute_reply": "2024-05-02T13:06:03.579582Z"
    },
    "papermill": {
     "duration": 0.098282,
     "end_time": "2024-05-02T13:06:03.582550",
     "exception": false,
     "start_time": "2024-05-02T13:06:03.484268",
     "status": "completed"
    },
    "tags": []
   },
   "outputs": [],
   "source": [
    "df[\"amount_invested_monthly\"]=df[\"amount_invested_monthly\"].apply(lambda x : x.rstrip(\"__\").lstrip(\"__\"))"
   ]
  },
  {
   "cell_type": "code",
   "execution_count": 49,
   "id": "43b2c1e2",
   "metadata": {
    "ExecuteTime": {
     "end_time": "2024-04-28T01:11:17.383935Z",
     "start_time": "2024-04-28T01:11:17.117271Z"
    },
    "execution": {
     "iopub.execute_input": "2024-05-02T13:06:03.684859Z",
     "iopub.status.busy": "2024-05-02T13:06:03.684257Z",
     "iopub.status.idle": "2024-05-02T13:06:03.847970Z",
     "shell.execute_reply": "2024-05-02T13:06:03.847121Z"
    },
    "papermill": {
     "duration": 0.217127,
     "end_time": "2024-05-02T13:06:03.850298",
     "exception": false,
     "start_time": "2024-05-02T13:06:03.633171",
     "status": "completed"
    },
    "tags": []
   },
   "outputs": [],
   "source": [
    "df[\"amount_invested_monthly\"]=df[\"amount_invested_monthly\"].apply(lambda x : round(float(x),3))"
   ]
  },
  {
   "cell_type": "code",
   "execution_count": 50,
   "id": "4840543a",
   "metadata": {
    "ExecuteTime": {
     "end_time": "2024-04-28T01:11:18.829014Z",
     "start_time": "2024-04-28T01:11:18.769766Z"
    },
    "execution": {
     "iopub.execute_input": "2024-05-02T13:06:03.953429Z",
     "iopub.status.busy": "2024-05-02T13:06:03.952845Z",
     "iopub.status.idle": "2024-05-02T13:06:04.007779Z",
     "shell.execute_reply": "2024-05-02T13:06:04.007030Z"
    },
    "papermill": {
     "duration": 0.10892,
     "end_time": "2024-05-02T13:06:04.010032",
     "exception": false,
     "start_time": "2024-05-02T13:06:03.901112",
     "status": "completed"
    },
    "tags": []
   },
   "outputs": [],
   "source": [
    "df[\"monthly_balance\"]=df[\"monthly_balance\"].apply(lambda x : str(x).lstrip(\"__\").rstrip(\"__\"))"
   ]
  },
  {
   "cell_type": "code",
   "execution_count": 51,
   "id": "efc90dbd",
   "metadata": {
    "ExecuteTime": {
     "end_time": "2024-04-28T01:11:20.794915Z",
     "start_time": "2024-04-28T01:11:20.537134Z"
    },
    "execution": {
     "iopub.execute_input": "2024-05-02T13:06:04.114133Z",
     "iopub.status.busy": "2024-05-02T13:06:04.113497Z",
     "iopub.status.idle": "2024-05-02T13:06:04.275057Z",
     "shell.execute_reply": "2024-05-02T13:06:04.274195Z"
    },
    "papermill": {
     "duration": 0.217897,
     "end_time": "2024-05-02T13:06:04.277733",
     "exception": false,
     "start_time": "2024-05-02T13:06:04.059836",
     "status": "completed"
    },
    "tags": []
   },
   "outputs": [],
   "source": [
    "df[\"monthly_balance\"]=df[\"monthly_balance\"].apply(lambda x : round(float(x),3))"
   ]
  },
  {
   "cell_type": "code",
   "execution_count": 52,
   "id": "7ebb810d",
   "metadata": {
    "ExecuteTime": {
     "end_time": "2024-04-28T01:11:26.219995Z",
     "start_time": "2024-04-28T01:11:26.175768Z"
    },
    "execution": {
     "iopub.execute_input": "2024-05-02T13:06:04.383049Z",
     "iopub.status.busy": "2024-05-02T13:06:04.382722Z",
     "iopub.status.idle": "2024-05-02T13:06:04.406810Z",
     "shell.execute_reply": "2024-05-02T13:06:04.405839Z"
    },
    "papermill": {
     "duration": 0.078902,
     "end_time": "2024-05-02T13:06:04.409280",
     "exception": false,
     "start_time": "2024-05-02T13:06:04.330378",
     "status": "completed"
    },
    "tags": []
   },
   "outputs": [
    {
     "data": {
      "text/html": [
       "<div>\n",
       "<style scoped>\n",
       "    .dataframe tbody tr th:only-of-type {\n",
       "        vertical-align: middle;\n",
       "    }\n",
       "\n",
       "    .dataframe tbody tr th {\n",
       "        vertical-align: top;\n",
       "    }\n",
       "\n",
       "    .dataframe thead th {\n",
       "        text-align: right;\n",
       "    }\n",
       "</style>\n",
       "<table border=\"1\" class=\"dataframe\">\n",
       "  <thead>\n",
       "    <tr style=\"text-align: right;\">\n",
       "      <th></th>\n",
       "      <th>id</th>\n",
       "      <th>customer_id</th>\n",
       "      <th>month</th>\n",
       "      <th>name</th>\n",
       "      <th>age</th>\n",
       "      <th>ssn</th>\n",
       "      <th>occupation</th>\n",
       "      <th>annual_income</th>\n",
       "      <th>monthly_inhand_salary</th>\n",
       "      <th>num_bank_accounts</th>\n",
       "      <th>num_credit_card</th>\n",
       "      <th>interest_rate</th>\n",
       "      <th>num_of_loan</th>\n",
       "      <th>type_of_loan</th>\n",
       "      <th>delay_from_due_date</th>\n",
       "      <th>num_of_delayed_payment</th>\n",
       "      <th>changed_credit_limit</th>\n",
       "      <th>num_credit_inquiries</th>\n",
       "      <th>credit_mix</th>\n",
       "      <th>outstanding_debt</th>\n",
       "      <th>credit_utilization_ratio</th>\n",
       "      <th>credit_history_age</th>\n",
       "      <th>payment_of_min_amount</th>\n",
       "      <th>total_emi_per_month</th>\n",
       "      <th>amount_invested_monthly</th>\n",
       "      <th>payment_behaviour</th>\n",
       "      <th>monthly_balance</th>\n",
       "      <th>credit_score</th>\n",
       "    </tr>\n",
       "  </thead>\n",
       "  <tbody>\n",
       "    <tr>\n",
       "      <th>0</th>\n",
       "      <td>0x1602</td>\n",
       "      <td>CUS_0xd40</td>\n",
       "      <td>January</td>\n",
       "      <td>Aaron Maashoh</td>\n",
       "      <td>23</td>\n",
       "      <td>821-00-0265</td>\n",
       "      <td>Scientist</td>\n",
       "      <td>19114.12</td>\n",
       "      <td>1824.843</td>\n",
       "      <td>3</td>\n",
       "      <td>4</td>\n",
       "      <td>3</td>\n",
       "      <td>4</td>\n",
       "      <td>Auto Loan, Credit-Builder Loan, Personal Loan,...</td>\n",
       "      <td>3</td>\n",
       "      <td>7</td>\n",
       "      <td>11.27</td>\n",
       "      <td>4.000</td>\n",
       "      <td>Good</td>\n",
       "      <td>809.98</td>\n",
       "      <td>26.823</td>\n",
       "      <td>265</td>\n",
       "      <td>No</td>\n",
       "      <td>49.575</td>\n",
       "      <td>80.415</td>\n",
       "      <td>High_spent_Small_value_payments</td>\n",
       "      <td>312.494</td>\n",
       "      <td>Good</td>\n",
       "    </tr>\n",
       "    <tr>\n",
       "      <th>1</th>\n",
       "      <td>0x1603</td>\n",
       "      <td>CUS_0xd40</td>\n",
       "      <td>February</td>\n",
       "      <td>Aaron Maashoh</td>\n",
       "      <td>23</td>\n",
       "      <td>821-00-0265</td>\n",
       "      <td>Scientist</td>\n",
       "      <td>19114.12</td>\n",
       "      <td>1824.843</td>\n",
       "      <td>3</td>\n",
       "      <td>4</td>\n",
       "      <td>3</td>\n",
       "      <td>4</td>\n",
       "      <td>Auto Loan, Credit-Builder Loan, Personal Loan,...</td>\n",
       "      <td>-1</td>\n",
       "      <td>7</td>\n",
       "      <td>11.27</td>\n",
       "      <td>4.000</td>\n",
       "      <td>Good</td>\n",
       "      <td>809.98</td>\n",
       "      <td>31.945</td>\n",
       "      <td>265</td>\n",
       "      <td>No</td>\n",
       "      <td>49.575</td>\n",
       "      <td>118.280</td>\n",
       "      <td>Low_spent_Large_value_payments</td>\n",
       "      <td>284.629</td>\n",
       "      <td>Good</td>\n",
       "    </tr>\n",
       "    <tr>\n",
       "      <th>2</th>\n",
       "      <td>0x1604</td>\n",
       "      <td>CUS_0xd40</td>\n",
       "      <td>March</td>\n",
       "      <td>Aaron Maashoh</td>\n",
       "      <td>-500</td>\n",
       "      <td>821-00-0265</td>\n",
       "      <td>Scientist</td>\n",
       "      <td>19114.12</td>\n",
       "      <td>1824.843</td>\n",
       "      <td>3</td>\n",
       "      <td>4</td>\n",
       "      <td>3</td>\n",
       "      <td>4</td>\n",
       "      <td>Auto Loan, Credit-Builder Loan, Personal Loan,...</td>\n",
       "      <td>3</td>\n",
       "      <td>7</td>\n",
       "      <td>11.27</td>\n",
       "      <td>4.000</td>\n",
       "      <td>Good</td>\n",
       "      <td>809.98</td>\n",
       "      <td>28.609</td>\n",
       "      <td>267</td>\n",
       "      <td>No</td>\n",
       "      <td>49.575</td>\n",
       "      <td>81.700</td>\n",
       "      <td>Low_spent_Medium_value_payments</td>\n",
       "      <td>331.210</td>\n",
       "      <td>Good</td>\n",
       "    </tr>\n",
       "    <tr>\n",
       "      <th>3</th>\n",
       "      <td>0x1605</td>\n",
       "      <td>CUS_0xd40</td>\n",
       "      <td>April</td>\n",
       "      <td>Aaron Maashoh</td>\n",
       "      <td>23</td>\n",
       "      <td>821-00-0265</td>\n",
       "      <td>Scientist</td>\n",
       "      <td>19114.12</td>\n",
       "      <td>1824.843</td>\n",
       "      <td>3</td>\n",
       "      <td>4</td>\n",
       "      <td>3</td>\n",
       "      <td>4</td>\n",
       "      <td>Auto Loan, Credit-Builder Loan, Personal Loan,...</td>\n",
       "      <td>5</td>\n",
       "      <td>4</td>\n",
       "      <td>6.27</td>\n",
       "      <td>4.000</td>\n",
       "      <td>Good</td>\n",
       "      <td>809.98</td>\n",
       "      <td>31.378</td>\n",
       "      <td>268</td>\n",
       "      <td>No</td>\n",
       "      <td>49.575</td>\n",
       "      <td>199.458</td>\n",
       "      <td>Low_spent_Small_value_payments</td>\n",
       "      <td>223.451</td>\n",
       "      <td>Good</td>\n",
       "    </tr>\n",
       "    <tr>\n",
       "      <th>4</th>\n",
       "      <td>0x1606</td>\n",
       "      <td>CUS_0xd40</td>\n",
       "      <td>May</td>\n",
       "      <td>Aaron Maashoh</td>\n",
       "      <td>23</td>\n",
       "      <td>821-00-0265</td>\n",
       "      <td>Scientist</td>\n",
       "      <td>19114.12</td>\n",
       "      <td>1824.843</td>\n",
       "      <td>3</td>\n",
       "      <td>4</td>\n",
       "      <td>3</td>\n",
       "      <td>4</td>\n",
       "      <td>Auto Loan, Credit-Builder Loan, Personal Loan,...</td>\n",
       "      <td>6</td>\n",
       "      <td>4</td>\n",
       "      <td>11.27</td>\n",
       "      <td>4.000</td>\n",
       "      <td>Good</td>\n",
       "      <td>809.98</td>\n",
       "      <td>24.797</td>\n",
       "      <td>269</td>\n",
       "      <td>No</td>\n",
       "      <td>49.575</td>\n",
       "      <td>41.420</td>\n",
       "      <td>High_spent_Medium_value_payments</td>\n",
       "      <td>341.489</td>\n",
       "      <td>Good</td>\n",
       "    </tr>\n",
       "  </tbody>\n",
       "</table>\n",
       "</div>"
      ],
      "text/plain": [
       "       id customer_id     month           name   age          ssn occupation  \\\n",
       "0  0x1602   CUS_0xd40   January  Aaron Maashoh    23  821-00-0265  Scientist   \n",
       "1  0x1603   CUS_0xd40  February  Aaron Maashoh    23  821-00-0265  Scientist   \n",
       "2  0x1604   CUS_0xd40     March  Aaron Maashoh  -500  821-00-0265  Scientist   \n",
       "3  0x1605   CUS_0xd40     April  Aaron Maashoh    23  821-00-0265  Scientist   \n",
       "4  0x1606   CUS_0xd40       May  Aaron Maashoh    23  821-00-0265  Scientist   \n",
       "\n",
       "  annual_income  monthly_inhand_salary  num_bank_accounts  num_credit_card  \\\n",
       "0      19114.12               1824.843                  3                4   \n",
       "1      19114.12               1824.843                  3                4   \n",
       "2      19114.12               1824.843                  3                4   \n",
       "3      19114.12               1824.843                  3                4   \n",
       "4      19114.12               1824.843                  3                4   \n",
       "\n",
       "   interest_rate num_of_loan  \\\n",
       "0              3           4   \n",
       "1              3           4   \n",
       "2              3           4   \n",
       "3              3           4   \n",
       "4              3           4   \n",
       "\n",
       "                                        type_of_loan  delay_from_due_date  \\\n",
       "0  Auto Loan, Credit-Builder Loan, Personal Loan,...                    3   \n",
       "1  Auto Loan, Credit-Builder Loan, Personal Loan,...                   -1   \n",
       "2  Auto Loan, Credit-Builder Loan, Personal Loan,...                    3   \n",
       "3  Auto Loan, Credit-Builder Loan, Personal Loan,...                    5   \n",
       "4  Auto Loan, Credit-Builder Loan, Personal Loan,...                    6   \n",
       "\n",
       "  num_of_delayed_payment changed_credit_limit  num_credit_inquiries  \\\n",
       "0                      7                11.27                 4.000   \n",
       "1                      7                11.27                 4.000   \n",
       "2                      7                11.27                 4.000   \n",
       "3                      4                 6.27                 4.000   \n",
       "4                      4                11.27                 4.000   \n",
       "\n",
       "  credit_mix outstanding_debt  credit_utilization_ratio  credit_history_age  \\\n",
       "0       Good           809.98                    26.823                 265   \n",
       "1       Good           809.98                    31.945                 265   \n",
       "2       Good           809.98                    28.609                 267   \n",
       "3       Good           809.98                    31.378                 268   \n",
       "4       Good           809.98                    24.797                 269   \n",
       "\n",
       "  payment_of_min_amount  total_emi_per_month  amount_invested_monthly  \\\n",
       "0                    No               49.575                   80.415   \n",
       "1                    No               49.575                  118.280   \n",
       "2                    No               49.575                   81.700   \n",
       "3                    No               49.575                  199.458   \n",
       "4                    No               49.575                   41.420   \n",
       "\n",
       "                  payment_behaviour  monthly_balance credit_score  \n",
       "0   High_spent_Small_value_payments          312.494         Good  \n",
       "1    Low_spent_Large_value_payments          284.629         Good  \n",
       "2   Low_spent_Medium_value_payments          331.210         Good  \n",
       "3    Low_spent_Small_value_payments          223.451         Good  \n",
       "4  High_spent_Medium_value_payments          341.489         Good  "
      ]
     },
     "execution_count": 52,
     "metadata": {},
     "output_type": "execute_result"
    }
   ],
   "source": [
    "df.head()"
   ]
  },
  {
   "cell_type": "code",
   "execution_count": 53,
   "id": "41bc90fe",
   "metadata": {
    "ExecuteTime": {
     "end_time": "2024-04-27T23:30:58.440649Z",
     "start_time": "2024-04-27T23:30:56.862165Z"
    },
    "execution": {
     "iopub.execute_input": "2024-05-02T13:06:04.518129Z",
     "iopub.status.busy": "2024-05-02T13:06:04.517239Z",
     "iopub.status.idle": "2024-05-02T13:06:05.646729Z",
     "shell.execute_reply": "2024-05-02T13:06:05.645667Z"
    },
    "papermill": {
     "duration": 1.183642,
     "end_time": "2024-05-02T13:06:05.649170",
     "exception": false,
     "start_time": "2024-05-02T13:06:04.465528",
     "status": "completed"
    },
    "tags": []
   },
   "outputs": [
    {
     "data": {
      "text/html": [
       "<div>\n",
       "<style scoped>\n",
       "    .dataframe tbody tr th:only-of-type {\n",
       "        vertical-align: middle;\n",
       "    }\n",
       "\n",
       "    .dataframe tbody tr th {\n",
       "        vertical-align: top;\n",
       "    }\n",
       "\n",
       "    .dataframe thead th {\n",
       "        text-align: right;\n",
       "    }\n",
       "</style>\n",
       "<table border=\"1\" class=\"dataframe\">\n",
       "  <thead>\n",
       "    <tr style=\"text-align: right;\">\n",
       "      <th></th>\n",
       "      <th>Type</th>\n",
       "      <th>Nunique</th>\n",
       "      <th>#of Missing</th>\n",
       "      <th>MostFreqItem</th>\n",
       "      <th>MostFreqCount</th>\n",
       "      <th>First</th>\n",
       "    </tr>\n",
       "  </thead>\n",
       "  <tbody>\n",
       "    <tr>\n",
       "      <th>id</th>\n",
       "      <td>object</td>\n",
       "      <td>100000</td>\n",
       "      <td>0</td>\n",
       "      <td>0x25fb6</td>\n",
       "      <td>1</td>\n",
       "      <td>0x1602</td>\n",
       "    </tr>\n",
       "    <tr>\n",
       "      <th>customer_id</th>\n",
       "      <td>object</td>\n",
       "      <td>12500</td>\n",
       "      <td>0</td>\n",
       "      <td>CUS_0x942c</td>\n",
       "      <td>8</td>\n",
       "      <td>CUS_0xd40</td>\n",
       "    </tr>\n",
       "    <tr>\n",
       "      <th>month</th>\n",
       "      <td>object</td>\n",
       "      <td>8</td>\n",
       "      <td>0</td>\n",
       "      <td>January</td>\n",
       "      <td>12500</td>\n",
       "      <td>January</td>\n",
       "    </tr>\n",
       "    <tr>\n",
       "      <th>name</th>\n",
       "      <td>object</td>\n",
       "      <td>10139</td>\n",
       "      <td>0</td>\n",
       "      <td>Stevex</td>\n",
       "      <td>48</td>\n",
       "      <td>Aaron Maashoh</td>\n",
       "    </tr>\n",
       "    <tr>\n",
       "      <th>age</th>\n",
       "      <td>object</td>\n",
       "      <td>1728</td>\n",
       "      <td>0</td>\n",
       "      <td>38</td>\n",
       "      <td>2994</td>\n",
       "      <td>23</td>\n",
       "    </tr>\n",
       "    <tr>\n",
       "      <th>ssn</th>\n",
       "      <td>object</td>\n",
       "      <td>12501</td>\n",
       "      <td>0</td>\n",
       "      <td>#F%$D@*&amp;8</td>\n",
       "      <td>5572</td>\n",
       "      <td>821-00-0265</td>\n",
       "    </tr>\n",
       "    <tr>\n",
       "      <th>occupation</th>\n",
       "      <td>object</td>\n",
       "      <td>15</td>\n",
       "      <td>0</td>\n",
       "      <td>Lawyer</td>\n",
       "      <td>7096</td>\n",
       "      <td>Scientist</td>\n",
       "    </tr>\n",
       "    <tr>\n",
       "      <th>annual_income</th>\n",
       "      <td>object</td>\n",
       "      <td>18940</td>\n",
       "      <td>0</td>\n",
       "      <td>20867.67</td>\n",
       "      <td>16</td>\n",
       "      <td>19114.12</td>\n",
       "    </tr>\n",
       "    <tr>\n",
       "      <th>monthly_inhand_salary</th>\n",
       "      <td>float64</td>\n",
       "      <td>13235</td>\n",
       "      <td>0</td>\n",
       "      <td>3080.555</td>\n",
       "      <td>16</td>\n",
       "      <td>1824.843</td>\n",
       "    </tr>\n",
       "    <tr>\n",
       "      <th>num_bank_accounts</th>\n",
       "      <td>int64</td>\n",
       "      <td>943</td>\n",
       "      <td>0</td>\n",
       "      <td>6</td>\n",
       "      <td>13001</td>\n",
       "      <td>3</td>\n",
       "    </tr>\n",
       "    <tr>\n",
       "      <th>num_credit_card</th>\n",
       "      <td>int64</td>\n",
       "      <td>1179</td>\n",
       "      <td>0</td>\n",
       "      <td>5</td>\n",
       "      <td>18459</td>\n",
       "      <td>4</td>\n",
       "    </tr>\n",
       "    <tr>\n",
       "      <th>interest_rate</th>\n",
       "      <td>int64</td>\n",
       "      <td>1750</td>\n",
       "      <td>0</td>\n",
       "      <td>8</td>\n",
       "      <td>5012</td>\n",
       "      <td>3</td>\n",
       "    </tr>\n",
       "    <tr>\n",
       "      <th>num_of_loan</th>\n",
       "      <td>object</td>\n",
       "      <td>434</td>\n",
       "      <td>0</td>\n",
       "      <td>3</td>\n",
       "      <td>14386</td>\n",
       "      <td>4</td>\n",
       "    </tr>\n",
       "    <tr>\n",
       "      <th>type_of_loan</th>\n",
       "      <td>object</td>\n",
       "      <td>6260</td>\n",
       "      <td>11408</td>\n",
       "      <td>Not Specified</td>\n",
       "      <td>1408</td>\n",
       "      <td>Auto Loan, Credit-Builder Loan, Personal Loan,...</td>\n",
       "    </tr>\n",
       "    <tr>\n",
       "      <th>delay_from_due_date</th>\n",
       "      <td>int64</td>\n",
       "      <td>73</td>\n",
       "      <td>0</td>\n",
       "      <td>15</td>\n",
       "      <td>3596</td>\n",
       "      <td>3</td>\n",
       "    </tr>\n",
       "    <tr>\n",
       "      <th>num_of_delayed_payment</th>\n",
       "      <td>object</td>\n",
       "      <td>749</td>\n",
       "      <td>0</td>\n",
       "      <td>19</td>\n",
       "      <td>5722</td>\n",
       "      <td>7</td>\n",
       "    </tr>\n",
       "    <tr>\n",
       "      <th>changed_credit_limit</th>\n",
       "      <td>object</td>\n",
       "      <td>4383</td>\n",
       "      <td>0</td>\n",
       "      <td>8.22</td>\n",
       "      <td>137</td>\n",
       "      <td>11.27</td>\n",
       "    </tr>\n",
       "    <tr>\n",
       "      <th>num_credit_inquiries</th>\n",
       "      <td>float64</td>\n",
       "      <td>1223</td>\n",
       "      <td>0</td>\n",
       "      <td>4.000</td>\n",
       "      <td>11527</td>\n",
       "      <td>4.000</td>\n",
       "    </tr>\n",
       "    <tr>\n",
       "      <th>credit_mix</th>\n",
       "      <td>object</td>\n",
       "      <td>3</td>\n",
       "      <td>0</td>\n",
       "      <td>Standard</td>\n",
       "      <td>45848</td>\n",
       "      <td>Good</td>\n",
       "    </tr>\n",
       "    <tr>\n",
       "      <th>outstanding_debt</th>\n",
       "      <td>object</td>\n",
       "      <td>13178</td>\n",
       "      <td>0</td>\n",
       "      <td>1360.45</td>\n",
       "      <td>24</td>\n",
       "      <td>809.98</td>\n",
       "    </tr>\n",
       "    <tr>\n",
       "      <th>credit_utilization_ratio</th>\n",
       "      <td>float64</td>\n",
       "      <td>100000</td>\n",
       "      <td>0</td>\n",
       "      <td>27.289</td>\n",
       "      <td>1</td>\n",
       "      <td>26.823</td>\n",
       "    </tr>\n",
       "    <tr>\n",
       "      <th>credit_history_age</th>\n",
       "      <td>int64</td>\n",
       "      <td>404</td>\n",
       "      <td>0</td>\n",
       "      <td>233</td>\n",
       "      <td>497</td>\n",
       "      <td>265</td>\n",
       "    </tr>\n",
       "    <tr>\n",
       "      <th>payment_of_min_amount</th>\n",
       "      <td>object</td>\n",
       "      <td>3</td>\n",
       "      <td>0</td>\n",
       "      <td>Yes</td>\n",
       "      <td>52326</td>\n",
       "      <td>No</td>\n",
       "    </tr>\n",
       "    <tr>\n",
       "      <th>total_emi_per_month</th>\n",
       "      <td>float64</td>\n",
       "      <td>14950</td>\n",
       "      <td>0</td>\n",
       "      <td>0.000</td>\n",
       "      <td>10613</td>\n",
       "      <td>49.575</td>\n",
       "    </tr>\n",
       "    <tr>\n",
       "      <th>amount_invested_monthly</th>\n",
       "      <td>float64</td>\n",
       "      <td>80049</td>\n",
       "      <td>0</td>\n",
       "      <td>10000.000</td>\n",
       "      <td>4507</td>\n",
       "      <td>80.415</td>\n",
       "    </tr>\n",
       "    <tr>\n",
       "      <th>payment_behaviour</th>\n",
       "      <td>object</td>\n",
       "      <td>7</td>\n",
       "      <td>0</td>\n",
       "      <td>Low_spent_Small_value_payments</td>\n",
       "      <td>25513</td>\n",
       "      <td>High_spent_Small_value_payments</td>\n",
       "    </tr>\n",
       "    <tr>\n",
       "      <th>monthly_balance</th>\n",
       "      <td>float64</td>\n",
       "      <td>89466</td>\n",
       "      <td>0</td>\n",
       "      <td>-333333333333333314856026112.000</td>\n",
       "      <td>9</td>\n",
       "      <td>312.494</td>\n",
       "    </tr>\n",
       "    <tr>\n",
       "      <th>credit_score</th>\n",
       "      <td>object</td>\n",
       "      <td>3</td>\n",
       "      <td>0</td>\n",
       "      <td>Standard</td>\n",
       "      <td>53174</td>\n",
       "      <td>Good</td>\n",
       "    </tr>\n",
       "  </tbody>\n",
       "</table>\n",
       "</div>"
      ],
      "text/plain": [
       "                             Type  Nunique  #of Missing  \\\n",
       "id                         object   100000            0   \n",
       "customer_id                object    12500            0   \n",
       "month                      object        8            0   \n",
       "name                       object    10139            0   \n",
       "age                        object     1728            0   \n",
       "ssn                        object    12501            0   \n",
       "occupation                 object       15            0   \n",
       "annual_income              object    18940            0   \n",
       "monthly_inhand_salary     float64    13235            0   \n",
       "num_bank_accounts           int64      943            0   \n",
       "num_credit_card             int64     1179            0   \n",
       "interest_rate               int64     1750            0   \n",
       "num_of_loan                object      434            0   \n",
       "type_of_loan               object     6260        11408   \n",
       "delay_from_due_date         int64       73            0   \n",
       "num_of_delayed_payment     object      749            0   \n",
       "changed_credit_limit       object     4383            0   \n",
       "num_credit_inquiries      float64     1223            0   \n",
       "credit_mix                 object        3            0   \n",
       "outstanding_debt           object    13178            0   \n",
       "credit_utilization_ratio  float64   100000            0   \n",
       "credit_history_age          int64      404            0   \n",
       "payment_of_min_amount      object        3            0   \n",
       "total_emi_per_month       float64    14950            0   \n",
       "amount_invested_monthly   float64    80049            0   \n",
       "payment_behaviour          object        7            0   \n",
       "monthly_balance           float64    89466            0   \n",
       "credit_score               object        3            0   \n",
       "\n",
       "                                             MostFreqItem  MostFreqCount  \\\n",
       "id                                                0x25fb6              1   \n",
       "customer_id                                    CUS_0x942c              8   \n",
       "month                                             January          12500   \n",
       "name                                               Stevex             48   \n",
       "age                                                    38           2994   \n",
       "ssn                                             #F%$D@*&8           5572   \n",
       "occupation                                         Lawyer           7096   \n",
       "annual_income                                    20867.67             16   \n",
       "monthly_inhand_salary                            3080.555             16   \n",
       "num_bank_accounts                                       6          13001   \n",
       "num_credit_card                                         5          18459   \n",
       "interest_rate                                           8           5012   \n",
       "num_of_loan                                             3          14386   \n",
       "type_of_loan                                Not Specified           1408   \n",
       "delay_from_due_date                                    15           3596   \n",
       "num_of_delayed_payment                                 19           5722   \n",
       "changed_credit_limit                                 8.22            137   \n",
       "num_credit_inquiries                                4.000          11527   \n",
       "credit_mix                                       Standard          45848   \n",
       "outstanding_debt                                  1360.45             24   \n",
       "credit_utilization_ratio                           27.289              1   \n",
       "credit_history_age                                    233            497   \n",
       "payment_of_min_amount                                 Yes          52326   \n",
       "total_emi_per_month                                 0.000          10613   \n",
       "amount_invested_monthly                         10000.000           4507   \n",
       "payment_behaviour          Low_spent_Small_value_payments          25513   \n",
       "monthly_balance          -333333333333333314856026112.000              9   \n",
       "credit_score                                     Standard          53174   \n",
       "\n",
       "                                                                      First  \n",
       "id                                                                   0x1602  \n",
       "customer_id                                                       CUS_0xd40  \n",
       "month                                                               January  \n",
       "name                                                          Aaron Maashoh  \n",
       "age                                                                      23  \n",
       "ssn                                                             821-00-0265  \n",
       "occupation                                                        Scientist  \n",
       "annual_income                                                      19114.12  \n",
       "monthly_inhand_salary                                              1824.843  \n",
       "num_bank_accounts                                                         3  \n",
       "num_credit_card                                                           4  \n",
       "interest_rate                                                             3  \n",
       "num_of_loan                                                               4  \n",
       "type_of_loan              Auto Loan, Credit-Builder Loan, Personal Loan,...  \n",
       "delay_from_due_date                                                       3  \n",
       "num_of_delayed_payment                                                    7  \n",
       "changed_credit_limit                                                  11.27  \n",
       "num_credit_inquiries                                                  4.000  \n",
       "credit_mix                                                             Good  \n",
       "outstanding_debt                                                     809.98  \n",
       "credit_utilization_ratio                                             26.823  \n",
       "credit_history_age                                                      265  \n",
       "payment_of_min_amount                                                    No  \n",
       "total_emi_per_month                                                  49.575  \n",
       "amount_invested_monthly                                              80.415  \n",
       "payment_behaviour                           High_spent_Small_value_payments  \n",
       "monthly_balance                                                     312.494  \n",
       "credit_score                                                           Good  "
      ]
     },
     "execution_count": 53,
     "metadata": {},
     "output_type": "execute_result"
    }
   ],
   "source": [
    "compr_info(df)"
   ]
  },
  {
   "cell_type": "markdown",
   "id": "a049fe1d",
   "metadata": {
    "papermill": {
     "duration": 0.052412,
     "end_time": "2024-05-02T13:06:05.752824",
     "exception": false,
     "start_time": "2024-05-02T13:06:05.700412",
     "status": "completed"
    },
    "tags": []
   },
   "source": [
    "### Monthly_balance feature"
   ]
  },
  {
   "cell_type": "code",
   "execution_count": 54,
   "id": "4821121e",
   "metadata": {
    "ExecuteTime": {
     "end_time": "2024-04-26T20:57:44.449369Z",
     "start_time": "2024-04-26T20:57:44.428351Z"
    },
    "execution": {
     "iopub.execute_input": "2024-05-02T13:06:05.865528Z",
     "iopub.status.busy": "2024-05-02T13:06:05.864838Z",
     "iopub.status.idle": "2024-05-02T13:06:05.886634Z",
     "shell.execute_reply": "2024-05-02T13:06:05.885687Z"
    },
    "papermill": {
     "duration": 0.08116,
     "end_time": "2024-05-02T13:06:05.889081",
     "exception": false,
     "start_time": "2024-05-02T13:06:05.807921",
     "status": "completed"
    },
    "tags": []
   },
   "outputs": [
    {
     "data": {
      "text/plain": [
       "count                         100000.000\n",
       "mean        -29999999999999995805696.000\n",
       "std        3162151165267075223519232.000\n",
       "min     -333333333333333314856026112.000\n",
       "25%                              270.016\n",
       "50%                              337.068\n",
       "75%                              471.533\n",
       "max                             1602.041\n",
       "Name: monthly_balance, dtype: float64"
      ]
     },
     "execution_count": 54,
     "metadata": {},
     "output_type": "execute_result"
    }
   ],
   "source": [
    "df[\"monthly_balance\"].describe()"
   ]
  },
  {
   "cell_type": "code",
   "execution_count": 55,
   "id": "71985b30",
   "metadata": {
    "execution": {
     "iopub.execute_input": "2024-05-02T13:06:06.000126Z",
     "iopub.status.busy": "2024-05-02T13:06:05.999790Z",
     "iopub.status.idle": "2024-05-02T13:06:06.005651Z",
     "shell.execute_reply": "2024-05-02T13:06:06.004781Z"
    },
    "papermill": {
     "duration": 0.060683,
     "end_time": "2024-05-02T13:06:06.007807",
     "exception": false,
     "start_time": "2024-05-02T13:06:05.947124",
     "status": "completed"
    },
    "tags": []
   },
   "outputs": [
    {
     "data": {
      "text/plain": [
       "(100000, 28)"
      ]
     },
     "execution_count": 55,
     "metadata": {},
     "output_type": "execute_result"
    }
   ],
   "source": [
    "df.shape"
   ]
  },
  {
   "cell_type": "code",
   "execution_count": 56,
   "id": "0dc5c45b",
   "metadata": {
    "ExecuteTime": {
     "end_time": "2024-04-28T00:09:49.115881Z",
     "start_time": "2024-04-28T00:09:49.105897Z"
    },
    "execution": {
     "iopub.execute_input": "2024-05-02T13:06:06.114602Z",
     "iopub.status.busy": "2024-05-02T13:06:06.114238Z",
     "iopub.status.idle": "2024-05-02T13:06:06.120155Z",
     "shell.execute_reply": "2024-05-02T13:06:06.119329Z"
    },
    "papermill": {
     "duration": 0.060965,
     "end_time": "2024-05-02T13:06:06.122235",
     "exception": false,
     "start_time": "2024-05-02T13:06:06.061270",
     "status": "completed"
    },
    "tags": []
   },
   "outputs": [],
   "source": [
    "q1 = 270.035\n",
    "q3 = 471.606\n",
    "iqr = q3 - q1 \n",
    "lower_limit = q1-(2 * iqr)\n",
    "top_limit = df[\"monthly_balance\"].max()"
   ]
  },
  {
   "cell_type": "code",
   "execution_count": 57,
   "id": "215c11ec",
   "metadata": {
    "ExecuteTime": {
     "end_time": "2024-04-28T00:09:51.106494Z",
     "start_time": "2024-04-28T00:09:51.093097Z"
    },
    "execution": {
     "iopub.execute_input": "2024-05-02T13:06:06.225504Z",
     "iopub.status.busy": "2024-05-02T13:06:06.225122Z",
     "iopub.status.idle": "2024-05-02T13:06:06.231387Z",
     "shell.execute_reply": "2024-05-02T13:06:06.230495Z"
    },
    "papermill": {
     "duration": 0.059958,
     "end_time": "2024-05-02T13:06:06.233349",
     "exception": false,
     "start_time": "2024-05-02T13:06:06.173391",
     "status": "completed"
    },
    "tags": []
   },
   "outputs": [
    {
     "data": {
      "text/plain": [
       "-133.1069999999999"
      ]
     },
     "execution_count": 57,
     "metadata": {},
     "output_type": "execute_result"
    }
   ],
   "source": [
    "lower_limit"
   ]
  },
  {
   "cell_type": "code",
   "execution_count": 58,
   "id": "546f78eb",
   "metadata": {
    "ExecuteTime": {
     "end_time": "2024-04-28T00:09:53.126286Z",
     "start_time": "2024-04-28T00:09:53.111961Z"
    },
    "execution": {
     "iopub.execute_input": "2024-05-02T13:06:06.338444Z",
     "iopub.status.busy": "2024-05-02T13:06:06.338035Z",
     "iopub.status.idle": "2024-05-02T13:06:06.344290Z",
     "shell.execute_reply": "2024-05-02T13:06:06.343305Z"
    },
    "papermill": {
     "duration": 0.060451,
     "end_time": "2024-05-02T13:06:06.346345",
     "exception": false,
     "start_time": "2024-05-02T13:06:06.285894",
     "status": "completed"
    },
    "tags": []
   },
   "outputs": [
    {
     "data": {
      "text/plain": [
       "1602.041"
      ]
     },
     "execution_count": 58,
     "metadata": {},
     "output_type": "execute_result"
    }
   ],
   "source": [
    "top_limit"
   ]
  },
  {
   "cell_type": "code",
   "execution_count": 59,
   "id": "7feff689",
   "metadata": {
    "execution": {
     "iopub.execute_input": "2024-05-02T13:06:06.453025Z",
     "iopub.status.busy": "2024-05-02T13:06:06.452685Z",
     "iopub.status.idle": "2024-05-02T13:06:06.466582Z",
     "shell.execute_reply": "2024-05-02T13:06:06.465679Z"
    },
    "papermill": {
     "duration": 0.069935,
     "end_time": "2024-05-02T13:06:06.469053",
     "exception": false,
     "start_time": "2024-05-02T13:06:06.399118",
     "status": "completed"
    },
    "tags": []
   },
   "outputs": [
    {
     "data": {
      "text/html": [
       "<div>\n",
       "<style scoped>\n",
       "    .dataframe tbody tr th:only-of-type {\n",
       "        vertical-align: middle;\n",
       "    }\n",
       "\n",
       "    .dataframe tbody tr th {\n",
       "        vertical-align: top;\n",
       "    }\n",
       "\n",
       "    .dataframe thead th {\n",
       "        text-align: right;\n",
       "    }\n",
       "</style>\n",
       "<table border=\"1\" class=\"dataframe\">\n",
       "  <thead>\n",
       "    <tr style=\"text-align: right;\">\n",
       "      <th></th>\n",
       "      <th>customer_id</th>\n",
       "      <th>month</th>\n",
       "      <th>monthly_balance</th>\n",
       "    </tr>\n",
       "  </thead>\n",
       "  <tbody>\n",
       "    <tr>\n",
       "      <th>5545</th>\n",
       "      <td>CUS_0x9885</td>\n",
       "      <td>February</td>\n",
       "      <td>-333333333333333314856026112.000</td>\n",
       "    </tr>\n",
       "    <tr>\n",
       "      <th>26177</th>\n",
       "      <td>CUS_0x5a90</td>\n",
       "      <td>February</td>\n",
       "      <td>-333333333333333314856026112.000</td>\n",
       "    </tr>\n",
       "    <tr>\n",
       "      <th>29158</th>\n",
       "      <td>CUS_0x288d</td>\n",
       "      <td>July</td>\n",
       "      <td>-333333333333333314856026112.000</td>\n",
       "    </tr>\n",
       "    <tr>\n",
       "      <th>35570</th>\n",
       "      <td>CUS_0x85e9</td>\n",
       "      <td>March</td>\n",
       "      <td>-333333333333333314856026112.000</td>\n",
       "    </tr>\n",
       "    <tr>\n",
       "      <th>38622</th>\n",
       "      <td>CUS_0x2b77</td>\n",
       "      <td>July</td>\n",
       "      <td>-333333333333333314856026112.000</td>\n",
       "    </tr>\n",
       "    <tr>\n",
       "      <th>60009</th>\n",
       "      <td>CUS_0xc06e</td>\n",
       "      <td>February</td>\n",
       "      <td>-333333333333333314856026112.000</td>\n",
       "    </tr>\n",
       "    <tr>\n",
       "      <th>75251</th>\n",
       "      <td>CUS_0x57f3</td>\n",
       "      <td>April</td>\n",
       "      <td>-333333333333333314856026112.000</td>\n",
       "    </tr>\n",
       "    <tr>\n",
       "      <th>82918</th>\n",
       "      <td>CUS_0x41bf</td>\n",
       "      <td>July</td>\n",
       "      <td>-333333333333333314856026112.000</td>\n",
       "    </tr>\n",
       "    <tr>\n",
       "      <th>83255</th>\n",
       "      <td>CUS_0x2f7e</td>\n",
       "      <td>August</td>\n",
       "      <td>-333333333333333314856026112.000</td>\n",
       "    </tr>\n",
       "  </tbody>\n",
       "</table>\n",
       "</div>"
      ],
      "text/plain": [
       "      customer_id     month                  monthly_balance\n",
       "5545   CUS_0x9885  February -333333333333333314856026112.000\n",
       "26177  CUS_0x5a90  February -333333333333333314856026112.000\n",
       "29158  CUS_0x288d      July -333333333333333314856026112.000\n",
       "35570  CUS_0x85e9     March -333333333333333314856026112.000\n",
       "38622  CUS_0x2b77      July -333333333333333314856026112.000\n",
       "60009  CUS_0xc06e  February -333333333333333314856026112.000\n",
       "75251  CUS_0x57f3     April -333333333333333314856026112.000\n",
       "82918  CUS_0x41bf      July -333333333333333314856026112.000\n",
       "83255  CUS_0x2f7e    August -333333333333333314856026112.000"
      ]
     },
     "execution_count": 59,
     "metadata": {},
     "output_type": "execute_result"
    }
   ],
   "source": [
    " df.loc[(df[\"monthly_balance\"] < lower_limit)][[\"customer_id\",\"month\",\"monthly_balance\"]]"
   ]
  },
  {
   "cell_type": "code",
   "execution_count": 60,
   "id": "f83a8a5e",
   "metadata": {
    "execution": {
     "iopub.execute_input": "2024-05-02T13:06:06.587283Z",
     "iopub.status.busy": "2024-05-02T13:06:06.586946Z",
     "iopub.status.idle": "2024-05-02T13:06:06.619330Z",
     "shell.execute_reply": "2024-05-02T13:06:06.618302Z"
    },
    "papermill": {
     "duration": 0.093044,
     "end_time": "2024-05-02T13:06:06.621490",
     "exception": false,
     "start_time": "2024-05-02T13:06:06.528446",
     "status": "completed"
    },
    "scrolled": true,
    "tags": []
   },
   "outputs": [
    {
     "data": {
      "text/html": [
       "<div>\n",
       "<style scoped>\n",
       "    .dataframe tbody tr th:only-of-type {\n",
       "        vertical-align: middle;\n",
       "    }\n",
       "\n",
       "    .dataframe tbody tr th {\n",
       "        vertical-align: top;\n",
       "    }\n",
       "\n",
       "    .dataframe thead th {\n",
       "        text-align: right;\n",
       "    }\n",
       "</style>\n",
       "<table border=\"1\" class=\"dataframe\">\n",
       "  <thead>\n",
       "    <tr style=\"text-align: right;\">\n",
       "      <th></th>\n",
       "      <th>customer_id</th>\n",
       "      <th>month</th>\n",
       "      <th>monthly_balance</th>\n",
       "    </tr>\n",
       "  </thead>\n",
       "  <tbody>\n",
       "    <tr>\n",
       "      <th>5544</th>\n",
       "      <td>CUS_0x9885</td>\n",
       "      <td>January</td>\n",
       "      <td>423.397</td>\n",
       "    </tr>\n",
       "    <tr>\n",
       "      <th>5545</th>\n",
       "      <td>CUS_0x9885</td>\n",
       "      <td>February</td>\n",
       "      <td>-333333333333333314856026112.000</td>\n",
       "    </tr>\n",
       "    <tr>\n",
       "      <th>5546</th>\n",
       "      <td>CUS_0x9885</td>\n",
       "      <td>March</td>\n",
       "      <td>278.412</td>\n",
       "    </tr>\n",
       "    <tr>\n",
       "      <th>5547</th>\n",
       "      <td>CUS_0x9885</td>\n",
       "      <td>April</td>\n",
       "      <td>420.557</td>\n",
       "    </tr>\n",
       "    <tr>\n",
       "      <th>5548</th>\n",
       "      <td>CUS_0x9885</td>\n",
       "      <td>May</td>\n",
       "      <td>71.288</td>\n",
       "    </tr>\n",
       "    <tr>\n",
       "      <th>5549</th>\n",
       "      <td>CUS_0x9885</td>\n",
       "      <td>June</td>\n",
       "      <td>383.284</td>\n",
       "    </tr>\n",
       "    <tr>\n",
       "      <th>5550</th>\n",
       "      <td>CUS_0x9885</td>\n",
       "      <td>July</td>\n",
       "      <td>229.007</td>\n",
       "    </tr>\n",
       "    <tr>\n",
       "      <th>5551</th>\n",
       "      <td>CUS_0x9885</td>\n",
       "      <td>August</td>\n",
       "      <td>374.031</td>\n",
       "    </tr>\n",
       "  </tbody>\n",
       "</table>\n",
       "</div>"
      ],
      "text/plain": [
       "     customer_id     month                  monthly_balance\n",
       "5544  CUS_0x9885   January                          423.397\n",
       "5545  CUS_0x9885  February -333333333333333314856026112.000\n",
       "5546  CUS_0x9885     March                          278.412\n",
       "5547  CUS_0x9885     April                          420.557\n",
       "5548  CUS_0x9885       May                           71.288\n",
       "5549  CUS_0x9885      June                          383.284\n",
       "5550  CUS_0x9885      July                          229.007\n",
       "5551  CUS_0x9885    August                          374.031"
      ]
     },
     "execution_count": 60,
     "metadata": {},
     "output_type": "execute_result"
    }
   ],
   "source": [
    "df.loc[df[\"customer_id\"]==\"CUS_0x9885\"][[\"customer_id\",\"month\",\"monthly_balance\"]]"
   ]
  },
  {
   "cell_type": "code",
   "execution_count": 61,
   "id": "a4a61c89",
   "metadata": {
    "ExecuteTime": {
     "end_time": "2024-04-28T01:11:35.983593Z",
     "start_time": "2024-04-28T01:11:35.525420Z"
    },
    "execution": {
     "iopub.execute_input": "2024-05-02T13:06:06.735256Z",
     "iopub.status.busy": "2024-05-02T13:06:06.734943Z",
     "iopub.status.idle": "2024-05-02T13:06:07.393541Z",
     "shell.execute_reply": "2024-05-02T13:06:07.392651Z"
    },
    "papermill": {
     "duration": 0.717862,
     "end_time": "2024-05-02T13:06:07.396201",
     "exception": false,
     "start_time": "2024-05-02T13:06:06.678339",
     "status": "completed"
    },
    "tags": []
   },
   "outputs": [],
   "source": [
    "df.loc[((df[\"customer_id\"]==\"CUS_0x9885\") & (df[\"month\"]==\"February\")),\"monthly_balance\"] = df.loc[(df[\"customer_id\"]==\"CUS_0x9885\")&(df[\"month\"]!=\"February\")][\"monthly_balance\"].mean()\n",
    "df.loc[((df[\"customer_id\"]==\"CUS_0x5a90\") & (df[\"month\"]==\"February\")),\"monthly_balance\"] = df.loc[(df[\"customer_id\"]==\"CUS_0x5a90\")&(df[\"month\"]!=\"February\")][\"monthly_balance\"].mean()\n",
    "df.loc[((df[\"customer_id\"]==\"CUS_0x288d\") & (df[\"month\"]==\"July\")),\"monthly_balance\"] = df.loc[(df[\"customer_id\"]==\"CUS_0x288d\")&(df[\"month\"]!=\"July\")][\"monthly_balance\"].mean()\n",
    "df.loc[((df[\"customer_id\"]==\"CUS_0x85e9\") & (df[\"month\"]==\"March\")),\"monthly_balance\"] = df.loc[(df[\"customer_id\"]==\"CUS_0x85e9\")&(df[\"month\"]!=\"March\")][\"monthly_balance\"].mean()\n",
    "df.loc[((df[\"customer_id\"]==\"CUS_0x2b77\") & (df[\"month\"]==\"July\")),\"monthly_balance\"] = df.loc[(df[\"customer_id\"]==\"CUS_0x2b77\")&(df[\"month\"]!=\"July\")][\"monthly_balance\"].mean()\n",
    "df.loc[((df[\"customer_id\"]==\"CUS_0xc06e\") & (df[\"month\"]==\"February\")),\"monthly_balance\"] = df.loc[(df[\"customer_id\"]==\"CUS_0xc06e\")&(df[\"month\"]!=\"February\")][\"monthly_balance\"].mean()\n",
    "df.loc[((df[\"customer_id\"]==\"CUS_0x57f3\") & (df[\"month\"]==\"April\")),\"monthly_balance\"] = df.loc[(df[\"customer_id\"]==\"CUS_0x57f3\")&(df[\"month\"]!=\"April\")][\"monthly_balance\"].mean()\n",
    "df.loc[((df[\"customer_id\"]==\"CUS_0x41bf\") & (df[\"month\"]==\"July\")),\"monthly_balance\"] = df.loc[(df[\"customer_id\"]==\"CUS_0x41bf\")&(df[\"month\"]!=\"July\")][\"monthly_balance\"].mean()\n",
    "df.loc[((df[\"customer_id\"]==\"CUS_0x2f7e\") & (df[\"month\"]==\"August\")),\"monthly_balance\"] = df.loc[(df[\"customer_id\"]==\"CUS_0x2f7e\")&(df[\"month\"]!=\"August\")][\"monthly_balance\"].mean()"
   ]
  },
  {
   "cell_type": "code",
   "execution_count": 62,
   "id": "7d41712d",
   "metadata": {
    "ExecuteTime": {
     "end_time": "2024-04-28T00:56:04.700667Z",
     "start_time": "2024-04-28T00:56:04.665494Z"
    },
    "execution": {
     "iopub.execute_input": "2024-05-02T13:06:07.502412Z",
     "iopub.status.busy": "2024-05-02T13:06:07.502118Z",
     "iopub.status.idle": "2024-05-02T13:06:07.517777Z",
     "shell.execute_reply": "2024-05-02T13:06:07.516829Z"
    },
    "papermill": {
     "duration": 0.0688,
     "end_time": "2024-05-02T13:06:07.519666",
     "exception": false,
     "start_time": "2024-05-02T13:06:07.450866",
     "status": "completed"
    },
    "tags": []
   },
   "outputs": [
    {
     "data": {
      "text/html": [
       "<div>\n",
       "<style scoped>\n",
       "    .dataframe tbody tr th:only-of-type {\n",
       "        vertical-align: middle;\n",
       "    }\n",
       "\n",
       "    .dataframe tbody tr th {\n",
       "        vertical-align: top;\n",
       "    }\n",
       "\n",
       "    .dataframe thead th {\n",
       "        text-align: right;\n",
       "    }\n",
       "</style>\n",
       "<table border=\"1\" class=\"dataframe\">\n",
       "  <thead>\n",
       "    <tr style=\"text-align: right;\">\n",
       "      <th></th>\n",
       "      <th>customer_id</th>\n",
       "      <th>month</th>\n",
       "      <th>monthly_balance</th>\n",
       "    </tr>\n",
       "  </thead>\n",
       "  <tbody>\n",
       "    <tr>\n",
       "      <th>5545</th>\n",
       "      <td>CUS_0x9885</td>\n",
       "      <td>February</td>\n",
       "      <td>311.425</td>\n",
       "    </tr>\n",
       "    <tr>\n",
       "      <th>26177</th>\n",
       "      <td>CUS_0x5a90</td>\n",
       "      <td>February</td>\n",
       "      <td>333.956</td>\n",
       "    </tr>\n",
       "    <tr>\n",
       "      <th>29158</th>\n",
       "      <td>CUS_0x288d</td>\n",
       "      <td>July</td>\n",
       "      <td>283.236</td>\n",
       "    </tr>\n",
       "    <tr>\n",
       "      <th>35570</th>\n",
       "      <td>CUS_0x85e9</td>\n",
       "      <td>March</td>\n",
       "      <td>319.296</td>\n",
       "    </tr>\n",
       "    <tr>\n",
       "      <th>38622</th>\n",
       "      <td>CUS_0x2b77</td>\n",
       "      <td>July</td>\n",
       "      <td>336.442</td>\n",
       "    </tr>\n",
       "    <tr>\n",
       "      <th>60009</th>\n",
       "      <td>CUS_0xc06e</td>\n",
       "      <td>February</td>\n",
       "      <td>702.613</td>\n",
       "    </tr>\n",
       "    <tr>\n",
       "      <th>75251</th>\n",
       "      <td>CUS_0x57f3</td>\n",
       "      <td>April</td>\n",
       "      <td>506.502</td>\n",
       "    </tr>\n",
       "    <tr>\n",
       "      <th>82918</th>\n",
       "      <td>CUS_0x41bf</td>\n",
       "      <td>July</td>\n",
       "      <td>237.225</td>\n",
       "    </tr>\n",
       "    <tr>\n",
       "      <th>83255</th>\n",
       "      <td>CUS_0x2f7e</td>\n",
       "      <td>August</td>\n",
       "      <td>847.945</td>\n",
       "    </tr>\n",
       "  </tbody>\n",
       "</table>\n",
       "</div>"
      ],
      "text/plain": [
       "      customer_id     month  monthly_balance\n",
       "5545   CUS_0x9885  February          311.425\n",
       "26177  CUS_0x5a90  February          333.956\n",
       "29158  CUS_0x288d      July          283.236\n",
       "35570  CUS_0x85e9     March          319.296\n",
       "38622  CUS_0x2b77      July          336.442\n",
       "60009  CUS_0xc06e  February          702.613\n",
       "75251  CUS_0x57f3     April          506.502\n",
       "82918  CUS_0x41bf      July          237.225\n",
       "83255  CUS_0x2f7e    August          847.945"
      ]
     },
     "execution_count": 62,
     "metadata": {},
     "output_type": "execute_result"
    }
   ],
   "source": [
    " df.loc[[5545,26177,29158,35570,38622,60009,75251,82918,83255]][[\"customer_id\",\"month\",\"monthly_balance\"]]"
   ]
  },
  {
   "cell_type": "code",
   "execution_count": 63,
   "id": "f78b6bd6",
   "metadata": {
    "ExecuteTime": {
     "end_time": "2024-04-28T00:56:09.471932Z",
     "start_time": "2024-04-28T00:56:09.457391Z"
    },
    "execution": {
     "iopub.execute_input": "2024-05-02T13:06:07.625347Z",
     "iopub.status.busy": "2024-05-02T13:06:07.624768Z",
     "iopub.status.idle": "2024-05-02T13:06:07.631122Z",
     "shell.execute_reply": "2024-05-02T13:06:07.630282Z"
    },
    "papermill": {
     "duration": 0.061763,
     "end_time": "2024-05-02T13:06:07.633150",
     "exception": false,
     "start_time": "2024-05-02T13:06:07.571387",
     "status": "completed"
    },
    "tags": []
   },
   "outputs": [
    {
     "data": {
      "text/plain": [
       "0"
      ]
     },
     "execution_count": 63,
     "metadata": {},
     "output_type": "execute_result"
    }
   ],
   "source": [
    "df[\"monthly_balance\"].isna().sum()"
   ]
  },
  {
   "cell_type": "code",
   "execution_count": 64,
   "id": "a67fbe21",
   "metadata": {
    "ExecuteTime": {
     "end_time": "2024-04-28T00:56:12.258996Z",
     "start_time": "2024-04-28T00:56:12.139796Z"
    },
    "execution": {
     "iopub.execute_input": "2024-05-02T13:06:07.743253Z",
     "iopub.status.busy": "2024-05-02T13:06:07.742510Z",
     "iopub.status.idle": "2024-05-02T13:06:07.917080Z",
     "shell.execute_reply": "2024-05-02T13:06:07.916068Z"
    },
    "papermill": {
     "duration": 0.233079,
     "end_time": "2024-05-02T13:06:07.919401",
     "exception": false,
     "start_time": "2024-05-02T13:06:07.686322",
     "status": "completed"
    },
    "tags": []
   },
   "outputs": [
    {
     "data": {
      "text/plain": [
       "id                              0\n",
       "customer_id                     0\n",
       "month                           0\n",
       "name                            0\n",
       "age                             0\n",
       "ssn                             0\n",
       "occupation                      0\n",
       "annual_income                   0\n",
       "monthly_inhand_salary           0\n",
       "num_bank_accounts               0\n",
       "num_credit_card                 0\n",
       "interest_rate                   0\n",
       "num_of_loan                     0\n",
       "type_of_loan                11408\n",
       "delay_from_due_date             0\n",
       "num_of_delayed_payment          0\n",
       "changed_credit_limit            0\n",
       "num_credit_inquiries            0\n",
       "credit_mix                      0\n",
       "outstanding_debt                0\n",
       "credit_utilization_ratio        0\n",
       "credit_history_age              0\n",
       "payment_of_min_amount           0\n",
       "total_emi_per_month             0\n",
       "amount_invested_monthly         0\n",
       "payment_behaviour               0\n",
       "monthly_balance                 0\n",
       "credit_score                    0\n",
       "dtype: int64"
      ]
     },
     "execution_count": 64,
     "metadata": {},
     "output_type": "execute_result"
    }
   ],
   "source": [
    "df.isna().sum()"
   ]
  },
  {
   "cell_type": "markdown",
   "id": "ca34c28b",
   "metadata": {
    "papermill": {
     "duration": 0.05472,
     "end_time": "2024-05-02T13:06:08.030685",
     "exception": false,
     "start_time": "2024-05-02T13:06:07.975965",
     "status": "completed"
    },
    "tags": []
   },
   "source": [
    "### Age Feature"
   ]
  },
  {
   "cell_type": "code",
   "execution_count": 65,
   "id": "7cf67399",
   "metadata": {
    "execution": {
     "iopub.execute_input": "2024-05-02T13:06:08.141648Z",
     "iopub.status.busy": "2024-05-02T13:06:08.141320Z",
     "iopub.status.idle": "2024-05-02T13:06:08.166696Z",
     "shell.execute_reply": "2024-05-02T13:06:08.165792Z"
    },
    "papermill": {
     "duration": 0.082551,
     "end_time": "2024-05-02T13:06:08.168625",
     "exception": false,
     "start_time": "2024-05-02T13:06:08.086074",
     "status": "completed"
    },
    "tags": []
   },
   "outputs": [
    {
     "data": {
      "text/plain": [
       "count   100000.000\n",
       "mean       110.650\n",
       "std        686.245\n",
       "min       -500.000\n",
       "25%         24.000\n",
       "50%         33.000\n",
       "75%         42.000\n",
       "max       8698.000\n",
       "Name: age, dtype: float64"
      ]
     },
     "execution_count": 65,
     "metadata": {},
     "output_type": "execute_result"
    }
   ],
   "source": [
    "df.age.astype(\"int\").describe()"
   ]
  },
  {
   "cell_type": "code",
   "execution_count": 66,
   "id": "2ccbf938",
   "metadata": {
    "ExecuteTime": {
     "end_time": "2024-04-28T01:11:41.961208Z",
     "start_time": "2024-04-28T01:11:41.936886Z"
    },
    "execution": {
     "iopub.execute_input": "2024-05-02T13:06:08.279233Z",
     "iopub.status.busy": "2024-05-02T13:06:08.278291Z",
     "iopub.status.idle": "2024-05-02T13:06:08.296540Z",
     "shell.execute_reply": "2024-05-02T13:06:08.295771Z"
    },
    "papermill": {
     "duration": 0.076435,
     "end_time": "2024-05-02T13:06:08.298564",
     "exception": false,
     "start_time": "2024-05-02T13:06:08.222129",
     "status": "completed"
    },
    "tags": []
   },
   "outputs": [],
   "source": [
    "df.age = df.age.astype(\"int\")"
   ]
  },
  {
   "cell_type": "code",
   "execution_count": 67,
   "id": "6969fbdc",
   "metadata": {
    "ExecuteTime": {
     "end_time": "2024-04-28T01:11:43.741878Z",
     "start_time": "2024-04-28T01:11:43.728197Z"
    },
    "execution": {
     "iopub.execute_input": "2024-05-02T13:06:08.412400Z",
     "iopub.status.busy": "2024-05-02T13:06:08.411687Z",
     "iopub.status.idle": "2024-05-02T13:06:08.418081Z",
     "shell.execute_reply": "2024-05-02T13:06:08.417160Z"
    },
    "papermill": {
     "duration": 0.06523,
     "end_time": "2024-05-02T13:06:08.420184",
     "exception": false,
     "start_time": "2024-05-02T13:06:08.354954",
     "status": "completed"
    },
    "tags": []
   },
   "outputs": [
    {
     "data": {
      "text/plain": [
       "dtype('int64')"
      ]
     },
     "execution_count": 67,
     "metadata": {},
     "output_type": "execute_result"
    }
   ],
   "source": [
    "df.age.dtype"
   ]
  },
  {
   "cell_type": "code",
   "execution_count": 68,
   "id": "bfbd5409",
   "metadata": {
    "ExecuteTime": {
     "end_time": "2024-04-28T00:56:23.655777Z",
     "start_time": "2024-04-28T00:56:23.634796Z"
    },
    "execution": {
     "iopub.execute_input": "2024-05-02T13:06:08.531451Z",
     "iopub.status.busy": "2024-05-02T13:06:08.531156Z",
     "iopub.status.idle": "2024-05-02T13:06:08.542564Z",
     "shell.execute_reply": "2024-05-02T13:06:08.541682Z"
    },
    "papermill": {
     "duration": 0.069437,
     "end_time": "2024-05-02T13:06:08.544543",
     "exception": false,
     "start_time": "2024-05-02T13:06:08.475106",
     "status": "completed"
    },
    "tags": []
   },
   "outputs": [
    {
     "data": {
      "text/plain": [
       "1895"
      ]
     },
     "execution_count": 68,
     "metadata": {},
     "output_type": "execute_result"
    }
   ],
   "source": [
    "len(df.loc[df[\"age\"] > 56])"
   ]
  },
  {
   "cell_type": "code",
   "execution_count": 69,
   "id": "f57b868c",
   "metadata": {
    "ExecuteTime": {
     "end_time": "2024-04-28T00:56:26.847725Z",
     "start_time": "2024-04-28T00:56:26.828647Z"
    },
    "execution": {
     "iopub.execute_input": "2024-05-02T13:06:08.661893Z",
     "iopub.status.busy": "2024-05-02T13:06:08.661386Z",
     "iopub.status.idle": "2024-05-02T13:06:08.671846Z",
     "shell.execute_reply": "2024-05-02T13:06:08.670873Z"
    },
    "papermill": {
     "duration": 0.072564,
     "end_time": "2024-05-02T13:06:08.673947",
     "exception": false,
     "start_time": "2024-05-02T13:06:08.601383",
     "status": "completed"
    },
    "tags": []
   },
   "outputs": [
    {
     "data": {
      "text/plain": [
       "886"
      ]
     },
     "execution_count": 69,
     "metadata": {},
     "output_type": "execute_result"
    }
   ],
   "source": [
    "len(df.loc[df[\"age\"] < 14])"
   ]
  },
  {
   "cell_type": "code",
   "execution_count": 70,
   "id": "bd182f7a",
   "metadata": {
    "execution": {
     "iopub.execute_input": "2024-05-02T13:06:08.793139Z",
     "iopub.status.busy": "2024-05-02T13:06:08.792362Z",
     "iopub.status.idle": "2024-05-02T13:06:08.805971Z",
     "shell.execute_reply": "2024-05-02T13:06:08.804922Z"
    },
    "papermill": {
     "duration": 0.075691,
     "end_time": "2024-05-02T13:06:08.808496",
     "exception": false,
     "start_time": "2024-05-02T13:06:08.732805",
     "status": "completed"
    },
    "tags": []
   },
   "outputs": [
    {
     "data": {
      "text/plain": [
       "count    886.000\n",
       "mean    -500.000\n",
       "std        0.000\n",
       "min     -500.000\n",
       "25%     -500.000\n",
       "50%     -500.000\n",
       "75%     -500.000\n",
       "max     -500.000\n",
       "Name: age, dtype: float64"
      ]
     },
     "execution_count": 70,
     "metadata": {},
     "output_type": "execute_result"
    }
   ],
   "source": [
    "df.loc[df[\"age\"] < 14].age.describe()"
   ]
  },
  {
   "cell_type": "code",
   "execution_count": 71,
   "id": "90480940",
   "metadata": {
    "execution": {
     "iopub.execute_input": "2024-05-02T13:06:08.934314Z",
     "iopub.status.busy": "2024-05-02T13:06:08.933999Z",
     "iopub.status.idle": "2024-05-02T13:06:08.945237Z",
     "shell.execute_reply": "2024-05-02T13:06:08.944261Z"
    },
    "papermill": {
     "duration": 0.074259,
     "end_time": "2024-05-02T13:06:08.947431",
     "exception": false,
     "start_time": "2024-05-02T13:06:08.873172",
     "status": "completed"
    },
    "tags": []
   },
   "outputs": [
    {
     "data": {
      "text/plain": [
       "count   100000.000\n",
       "mean       110.650\n",
       "std        686.245\n",
       "min       -500.000\n",
       "25%         24.000\n",
       "50%         33.000\n",
       "75%         42.000\n",
       "max       8698.000\n",
       "Name: age, dtype: float64"
      ]
     },
     "execution_count": 71,
     "metadata": {},
     "output_type": "execute_result"
    }
   ],
   "source": [
    "df.age.describe()"
   ]
  },
  {
   "cell_type": "code",
   "execution_count": 72,
   "id": "74fa29ae",
   "metadata": {
    "execution": {
     "iopub.execute_input": "2024-05-02T13:06:09.065715Z",
     "iopub.status.busy": "2024-05-02T13:06:09.064985Z",
     "iopub.status.idle": "2024-05-02T13:06:09.091853Z",
     "shell.execute_reply": "2024-05-02T13:06:09.090796Z"
    },
    "papermill": {
     "duration": 0.086345,
     "end_time": "2024-05-02T13:06:09.094278",
     "exception": false,
     "start_time": "2024-05-02T13:06:09.007933",
     "status": "completed"
    },
    "tags": []
   },
   "outputs": [
    {
     "data": {
      "text/html": [
       "<div>\n",
       "<style scoped>\n",
       "    .dataframe tbody tr th:only-of-type {\n",
       "        vertical-align: middle;\n",
       "    }\n",
       "\n",
       "    .dataframe tbody tr th {\n",
       "        vertical-align: top;\n",
       "    }\n",
       "\n",
       "    .dataframe thead th {\n",
       "        text-align: right;\n",
       "    }\n",
       "</style>\n",
       "<table border=\"1\" class=\"dataframe\">\n",
       "  <thead>\n",
       "    <tr style=\"text-align: right;\">\n",
       "      <th></th>\n",
       "      <th>id</th>\n",
       "      <th>customer_id</th>\n",
       "      <th>month</th>\n",
       "      <th>name</th>\n",
       "      <th>age</th>\n",
       "      <th>ssn</th>\n",
       "      <th>occupation</th>\n",
       "      <th>annual_income</th>\n",
       "      <th>monthly_inhand_salary</th>\n",
       "      <th>num_bank_accounts</th>\n",
       "      <th>num_credit_card</th>\n",
       "      <th>interest_rate</th>\n",
       "      <th>num_of_loan</th>\n",
       "      <th>type_of_loan</th>\n",
       "      <th>delay_from_due_date</th>\n",
       "      <th>num_of_delayed_payment</th>\n",
       "      <th>changed_credit_limit</th>\n",
       "      <th>num_credit_inquiries</th>\n",
       "      <th>credit_mix</th>\n",
       "      <th>outstanding_debt</th>\n",
       "      <th>credit_utilization_ratio</th>\n",
       "      <th>credit_history_age</th>\n",
       "      <th>payment_of_min_amount</th>\n",
       "      <th>total_emi_per_month</th>\n",
       "      <th>amount_invested_monthly</th>\n",
       "      <th>payment_behaviour</th>\n",
       "      <th>monthly_balance</th>\n",
       "      <th>credit_score</th>\n",
       "    </tr>\n",
       "  </thead>\n",
       "  <tbody>\n",
       "    <tr>\n",
       "      <th>7566</th>\n",
       "      <td>0x4254</td>\n",
       "      <td>CUS_0x9d32</td>\n",
       "      <td>July</td>\n",
       "      <td>Michelen</td>\n",
       "      <td>14</td>\n",
       "      <td>237-67-0639</td>\n",
       "      <td>Architect</td>\n",
       "      <td>15868.97</td>\n",
       "      <td>1446.414</td>\n",
       "      <td>7</td>\n",
       "      <td>9</td>\n",
       "      <td>31</td>\n",
       "      <td>9</td>\n",
       "      <td>Personal Loan, Payday Loan, Credit-Builder Loa...</td>\n",
       "      <td>37</td>\n",
       "      <td>15</td>\n",
       "      <td>16.62</td>\n",
       "      <td>13.000</td>\n",
       "      <td>Bad</td>\n",
       "      <td>4972.01</td>\n",
       "      <td>36.956</td>\n",
       "      <td>107</td>\n",
       "      <td>Yes</td>\n",
       "      <td>62.592</td>\n",
       "      <td>139.177</td>\n",
       "      <td>Low_spent_Small_value_payments</td>\n",
       "      <td>232.872</td>\n",
       "      <td>Poor</td>\n",
       "    </tr>\n",
       "    <tr>\n",
       "      <th>75148</th>\n",
       "      <td>0x1ce52</td>\n",
       "      <td>CUS_0x6ddb</td>\n",
       "      <td>May</td>\n",
       "      <td>Basil Katzz</td>\n",
       "      <td>14</td>\n",
       "      <td>827-28-7539</td>\n",
       "      <td>Teacher</td>\n",
       "      <td>15433.33</td>\n",
       "      <td>1421.111</td>\n",
       "      <td>8</td>\n",
       "      <td>3</td>\n",
       "      <td>5</td>\n",
       "      <td>2</td>\n",
       "      <td>Credit-Builder Loan, and Student Loan</td>\n",
       "      <td>17</td>\n",
       "      <td>18</td>\n",
       "      <td>17.86</td>\n",
       "      <td>12.000</td>\n",
       "      <td>Standard</td>\n",
       "      <td>2132.46</td>\n",
       "      <td>26.678</td>\n",
       "      <td>224</td>\n",
       "      <td>Yes</td>\n",
       "      <td>18.250</td>\n",
       "      <td>160.900</td>\n",
       "      <td>Low_spent_Small_value_payments</td>\n",
       "      <td>252.961</td>\n",
       "      <td>Poor</td>\n",
       "    </tr>\n",
       "    <tr>\n",
       "      <th>66572</th>\n",
       "      <td>0x19c12</td>\n",
       "      <td>CUS_0xc60d</td>\n",
       "      <td>May</td>\n",
       "      <td>Samuel Shenk</td>\n",
       "      <td>14</td>\n",
       "      <td>946-55-9837</td>\n",
       "      <td>Architect</td>\n",
       "      <td>15618.52</td>\n",
       "      <td>1284.543</td>\n",
       "      <td>7</td>\n",
       "      <td>7</td>\n",
       "      <td>22</td>\n",
       "      <td>7</td>\n",
       "      <td>Home Equity Loan, Debt Consolidation Loan, Hom...</td>\n",
       "      <td>27</td>\n",
       "      <td>17</td>\n",
       "      <td>20.03</td>\n",
       "      <td>9.000</td>\n",
       "      <td>Bad</td>\n",
       "      <td>2908.07</td>\n",
       "      <td>35.155</td>\n",
       "      <td>169</td>\n",
       "      <td>Yes</td>\n",
       "      <td>86.637</td>\n",
       "      <td>145.409</td>\n",
       "      <td>Low_spent_Small_value_payments</td>\n",
       "      <td>186.408</td>\n",
       "      <td>Poor</td>\n",
       "    </tr>\n",
       "  </tbody>\n",
       "</table>\n",
       "</div>"
      ],
      "text/plain": [
       "            id customer_id month          name  age          ssn occupation  \\\n",
       "7566    0x4254  CUS_0x9d32  July      Michelen   14  237-67-0639  Architect   \n",
       "75148  0x1ce52  CUS_0x6ddb   May   Basil Katzz   14  827-28-7539    Teacher   \n",
       "66572  0x19c12  CUS_0xc60d   May  Samuel Shenk   14  946-55-9837  Architect   \n",
       "\n",
       "      annual_income  monthly_inhand_salary  num_bank_accounts  \\\n",
       "7566       15868.97               1446.414                  7   \n",
       "75148      15433.33               1421.111                  8   \n",
       "66572      15618.52               1284.543                  7   \n",
       "\n",
       "       num_credit_card  interest_rate num_of_loan  \\\n",
       "7566                 9             31           9   \n",
       "75148                3              5           2   \n",
       "66572                7             22           7   \n",
       "\n",
       "                                            type_of_loan  delay_from_due_date  \\\n",
       "7566   Personal Loan, Payday Loan, Credit-Builder Loa...                   37   \n",
       "75148              Credit-Builder Loan, and Student Loan                   17   \n",
       "66572  Home Equity Loan, Debt Consolidation Loan, Hom...                   27   \n",
       "\n",
       "      num_of_delayed_payment changed_credit_limit  num_credit_inquiries  \\\n",
       "7566                      15                16.62                13.000   \n",
       "75148                     18                17.86                12.000   \n",
       "66572                     17                20.03                 9.000   \n",
       "\n",
       "      credit_mix outstanding_debt  credit_utilization_ratio  \\\n",
       "7566         Bad          4972.01                    36.956   \n",
       "75148   Standard          2132.46                    26.678   \n",
       "66572        Bad          2908.07                    35.155   \n",
       "\n",
       "       credit_history_age payment_of_min_amount  total_emi_per_month  \\\n",
       "7566                  107                   Yes               62.592   \n",
       "75148                 224                   Yes               18.250   \n",
       "66572                 169                   Yes               86.637   \n",
       "\n",
       "       amount_invested_monthly               payment_behaviour  \\\n",
       "7566                   139.177  Low_spent_Small_value_payments   \n",
       "75148                  160.900  Low_spent_Small_value_payments   \n",
       "66572                  145.409  Low_spent_Small_value_payments   \n",
       "\n",
       "       monthly_balance credit_score  \n",
       "7566           232.872         Poor  \n",
       "75148          252.961         Poor  \n",
       "66572          186.408         Poor  "
      ]
     },
     "execution_count": 72,
     "metadata": {},
     "output_type": "execute_result"
    }
   ],
   "source": [
    "df.loc[df[\"age\"] == 14 ].sample(3)"
   ]
  },
  {
   "cell_type": "code",
   "execution_count": 73,
   "id": "35b42273",
   "metadata": {
    "execution": {
     "iopub.execute_input": "2024-05-02T13:06:09.214342Z",
     "iopub.status.busy": "2024-05-02T13:06:09.213534Z",
     "iopub.status.idle": "2024-05-02T13:06:09.227700Z",
     "shell.execute_reply": "2024-05-02T13:06:09.226859Z"
    },
    "papermill": {
     "duration": 0.072373,
     "end_time": "2024-05-02T13:06:09.229561",
     "exception": false,
     "start_time": "2024-05-02T13:06:09.157188",
     "status": "completed"
    },
    "tags": []
   },
   "outputs": [
    {
     "data": {
      "text/plain": [
       "count   1895.000\n",
       "mean    4363.394\n",
       "std     2506.279\n",
       "min       95.000\n",
       "25%     2165.000\n",
       "50%     4380.000\n",
       "75%     6518.000\n",
       "max     8698.000\n",
       "Name: age, dtype: float64"
      ]
     },
     "execution_count": 73,
     "metadata": {},
     "output_type": "execute_result"
    }
   ],
   "source": [
    "df.loc[df[\"age\"] > 56].age.describe()"
   ]
  },
  {
   "cell_type": "code",
   "execution_count": 74,
   "id": "2a0c57ae",
   "metadata": {
    "execution": {
     "iopub.execute_input": "2024-05-02T13:06:09.343236Z",
     "iopub.status.busy": "2024-05-02T13:06:09.342800Z",
     "iopub.status.idle": "2024-05-02T13:06:09.366197Z",
     "shell.execute_reply": "2024-05-02T13:06:09.365231Z"
    },
    "papermill": {
     "duration": 0.083863,
     "end_time": "2024-05-02T13:06:09.368415",
     "exception": false,
     "start_time": "2024-05-02T13:06:09.284552",
     "status": "completed"
    },
    "tags": []
   },
   "outputs": [
    {
     "data": {
      "text/html": [
       "<div>\n",
       "<style scoped>\n",
       "    .dataframe tbody tr th:only-of-type {\n",
       "        vertical-align: middle;\n",
       "    }\n",
       "\n",
       "    .dataframe tbody tr th {\n",
       "        vertical-align: top;\n",
       "    }\n",
       "\n",
       "    .dataframe thead th {\n",
       "        text-align: right;\n",
       "    }\n",
       "</style>\n",
       "<table border=\"1\" class=\"dataframe\">\n",
       "  <thead>\n",
       "    <tr style=\"text-align: right;\">\n",
       "      <th></th>\n",
       "      <th>id</th>\n",
       "      <th>customer_id</th>\n",
       "      <th>month</th>\n",
       "      <th>name</th>\n",
       "      <th>age</th>\n",
       "      <th>ssn</th>\n",
       "      <th>occupation</th>\n",
       "      <th>annual_income</th>\n",
       "      <th>monthly_inhand_salary</th>\n",
       "      <th>num_bank_accounts</th>\n",
       "      <th>num_credit_card</th>\n",
       "      <th>interest_rate</th>\n",
       "      <th>num_of_loan</th>\n",
       "      <th>type_of_loan</th>\n",
       "      <th>delay_from_due_date</th>\n",
       "      <th>num_of_delayed_payment</th>\n",
       "      <th>changed_credit_limit</th>\n",
       "      <th>num_credit_inquiries</th>\n",
       "      <th>credit_mix</th>\n",
       "      <th>outstanding_debt</th>\n",
       "      <th>credit_utilization_ratio</th>\n",
       "      <th>credit_history_age</th>\n",
       "      <th>payment_of_min_amount</th>\n",
       "      <th>total_emi_per_month</th>\n",
       "      <th>amount_invested_monthly</th>\n",
       "      <th>payment_behaviour</th>\n",
       "      <th>monthly_balance</th>\n",
       "      <th>credit_score</th>\n",
       "    </tr>\n",
       "  </thead>\n",
       "  <tbody>\n",
       "    <tr>\n",
       "      <th>20368</th>\n",
       "      <td>0x8d5a</td>\n",
       "      <td>CUS_0x1f2e</td>\n",
       "      <td>January</td>\n",
       "      <td>Stefano Bernabeiq</td>\n",
       "      <td>4380</td>\n",
       "      <td>049-84-5378</td>\n",
       "      <td>Entrepreneur</td>\n",
       "      <td>41012.42</td>\n",
       "      <td>3341.702</td>\n",
       "      <td>5</td>\n",
       "      <td>4</td>\n",
       "      <td>27</td>\n",
       "      <td>7</td>\n",
       "      <td>Payday Loan, Debt Consolidation Loan, Home Equ...</td>\n",
       "      <td>13</td>\n",
       "      <td>13</td>\n",
       "      <td>19.47</td>\n",
       "      <td>4.000</td>\n",
       "      <td>Standard</td>\n",
       "      <td>1690.55</td>\n",
       "      <td>26.118</td>\n",
       "      <td>88</td>\n",
       "      <td>Yes</td>\n",
       "      <td>199.368</td>\n",
       "      <td>351.341</td>\n",
       "      <td>Low_spent_Small_value_payments</td>\n",
       "      <td>73.461</td>\n",
       "      <td>Poor</td>\n",
       "    </tr>\n",
       "  </tbody>\n",
       "</table>\n",
       "</div>"
      ],
      "text/plain": [
       "           id customer_id    month               name   age          ssn  \\\n",
       "20368  0x8d5a  CUS_0x1f2e  January  Stefano Bernabeiq  4380  049-84-5378   \n",
       "\n",
       "         occupation annual_income  monthly_inhand_salary  num_bank_accounts  \\\n",
       "20368  Entrepreneur      41012.42               3341.702                  5   \n",
       "\n",
       "       num_credit_card  interest_rate num_of_loan  \\\n",
       "20368                4             27           7   \n",
       "\n",
       "                                            type_of_loan  delay_from_due_date  \\\n",
       "20368  Payday Loan, Debt Consolidation Loan, Home Equ...                   13   \n",
       "\n",
       "      num_of_delayed_payment changed_credit_limit  num_credit_inquiries  \\\n",
       "20368                     13                19.47                 4.000   \n",
       "\n",
       "      credit_mix outstanding_debt  credit_utilization_ratio  \\\n",
       "20368   Standard          1690.55                    26.118   \n",
       "\n",
       "       credit_history_age payment_of_min_amount  total_emi_per_month  \\\n",
       "20368                  88                   Yes              199.368   \n",
       "\n",
       "       amount_invested_monthly               payment_behaviour  \\\n",
       "20368                  351.341  Low_spent_Small_value_payments   \n",
       "\n",
       "       monthly_balance credit_score  \n",
       "20368           73.461         Poor  "
      ]
     },
     "execution_count": 74,
     "metadata": {},
     "output_type": "execute_result"
    }
   ],
   "source": [
    "df.loc[df[\"age\"] == 4380.000]"
   ]
  },
  {
   "cell_type": "code",
   "execution_count": 75,
   "id": "0a612346",
   "metadata": {
    "execution": {
     "iopub.execute_input": "2024-05-02T13:06:09.487826Z",
     "iopub.status.busy": "2024-05-02T13:06:09.487390Z",
     "iopub.status.idle": "2024-05-02T13:06:09.531946Z",
     "shell.execute_reply": "2024-05-02T13:06:09.530973Z"
    },
    "papermill": {
     "duration": 0.103665,
     "end_time": "2024-05-02T13:06:09.533986",
     "exception": false,
     "start_time": "2024-05-02T13:06:09.430321",
     "status": "completed"
    },
    "tags": []
   },
   "outputs": [
    {
     "data": {
      "text/html": [
       "<div>\n",
       "<style scoped>\n",
       "    .dataframe tbody tr th:only-of-type {\n",
       "        vertical-align: middle;\n",
       "    }\n",
       "\n",
       "    .dataframe tbody tr th {\n",
       "        vertical-align: top;\n",
       "    }\n",
       "\n",
       "    .dataframe thead th {\n",
       "        text-align: right;\n",
       "    }\n",
       "</style>\n",
       "<table border=\"1\" class=\"dataframe\">\n",
       "  <thead>\n",
       "    <tr style=\"text-align: right;\">\n",
       "      <th></th>\n",
       "      <th>id</th>\n",
       "      <th>customer_id</th>\n",
       "      <th>month</th>\n",
       "      <th>name</th>\n",
       "      <th>age</th>\n",
       "      <th>ssn</th>\n",
       "      <th>occupation</th>\n",
       "      <th>annual_income</th>\n",
       "      <th>monthly_inhand_salary</th>\n",
       "      <th>num_bank_accounts</th>\n",
       "      <th>num_credit_card</th>\n",
       "      <th>interest_rate</th>\n",
       "      <th>num_of_loan</th>\n",
       "      <th>type_of_loan</th>\n",
       "      <th>delay_from_due_date</th>\n",
       "      <th>num_of_delayed_payment</th>\n",
       "      <th>changed_credit_limit</th>\n",
       "      <th>num_credit_inquiries</th>\n",
       "      <th>credit_mix</th>\n",
       "      <th>outstanding_debt</th>\n",
       "      <th>credit_utilization_ratio</th>\n",
       "      <th>credit_history_age</th>\n",
       "      <th>payment_of_min_amount</th>\n",
       "      <th>total_emi_per_month</th>\n",
       "      <th>amount_invested_monthly</th>\n",
       "      <th>payment_behaviour</th>\n",
       "      <th>monthly_balance</th>\n",
       "      <th>credit_score</th>\n",
       "    </tr>\n",
       "  </thead>\n",
       "  <tbody>\n",
       "    <tr>\n",
       "      <th>20368</th>\n",
       "      <td>0x8d5a</td>\n",
       "      <td>CUS_0x1f2e</td>\n",
       "      <td>January</td>\n",
       "      <td>Stefano Bernabeiq</td>\n",
       "      <td>4380</td>\n",
       "      <td>049-84-5378</td>\n",
       "      <td>Entrepreneur</td>\n",
       "      <td>41012.42</td>\n",
       "      <td>3341.702</td>\n",
       "      <td>5</td>\n",
       "      <td>4</td>\n",
       "      <td>27</td>\n",
       "      <td>7</td>\n",
       "      <td>Payday Loan, Debt Consolidation Loan, Home Equ...</td>\n",
       "      <td>13</td>\n",
       "      <td>13</td>\n",
       "      <td>19.47</td>\n",
       "      <td>4.000</td>\n",
       "      <td>Standard</td>\n",
       "      <td>1690.55</td>\n",
       "      <td>26.118</td>\n",
       "      <td>88</td>\n",
       "      <td>Yes</td>\n",
       "      <td>199.368</td>\n",
       "      <td>351.341</td>\n",
       "      <td>Low_spent_Small_value_payments</td>\n",
       "      <td>73.461</td>\n",
       "      <td>Poor</td>\n",
       "    </tr>\n",
       "    <tr>\n",
       "      <th>20369</th>\n",
       "      <td>0x8d5b</td>\n",
       "      <td>CUS_0x1f2e</td>\n",
       "      <td>February</td>\n",
       "      <td>Stefano Bernabeiq</td>\n",
       "      <td>26</td>\n",
       "      <td>049-84-5378</td>\n",
       "      <td>Entrepreneur</td>\n",
       "      <td>41012.42</td>\n",
       "      <td>3341.702</td>\n",
       "      <td>5</td>\n",
       "      <td>4</td>\n",
       "      <td>27</td>\n",
       "      <td>7</td>\n",
       "      <td>Payday Loan, Debt Consolidation Loan, Home Equ...</td>\n",
       "      <td>13</td>\n",
       "      <td>11</td>\n",
       "      <td>22.47</td>\n",
       "      <td>4.000</td>\n",
       "      <td>Standard</td>\n",
       "      <td>1690.55</td>\n",
       "      <td>26.470</td>\n",
       "      <td>89</td>\n",
       "      <td>Yes</td>\n",
       "      <td>199.368</td>\n",
       "      <td>205.382</td>\n",
       "      <td>Low_spent_Large_value_payments</td>\n",
       "      <td>199.421</td>\n",
       "      <td>Poor</td>\n",
       "    </tr>\n",
       "    <tr>\n",
       "      <th>20370</th>\n",
       "      <td>0x8d5c</td>\n",
       "      <td>CUS_0x1f2e</td>\n",
       "      <td>March</td>\n",
       "      <td>Stefano Bernabeiq</td>\n",
       "      <td>26</td>\n",
       "      <td>049-84-5378</td>\n",
       "      <td>Entrepreneur</td>\n",
       "      <td>41012.42</td>\n",
       "      <td>3341.702</td>\n",
       "      <td>5</td>\n",
       "      <td>4</td>\n",
       "      <td>27</td>\n",
       "      <td>7</td>\n",
       "      <td>Payday Loan, Debt Consolidation Loan, Home Equ...</td>\n",
       "      <td>9</td>\n",
       "      <td>11</td>\n",
       "      <td>19.47</td>\n",
       "      <td>4.000</td>\n",
       "      <td>Standard</td>\n",
       "      <td>1690.55</td>\n",
       "      <td>25.467</td>\n",
       "      <td>90</td>\n",
       "      <td>NM</td>\n",
       "      <td>199.368</td>\n",
       "      <td>109.167</td>\n",
       "      <td>!@9#%8</td>\n",
       "      <td>285.636</td>\n",
       "      <td>Poor</td>\n",
       "    </tr>\n",
       "    <tr>\n",
       "      <th>20371</th>\n",
       "      <td>0x8d5d</td>\n",
       "      <td>CUS_0x1f2e</td>\n",
       "      <td>April</td>\n",
       "      <td>Stefano Bernabeiq</td>\n",
       "      <td>26</td>\n",
       "      <td>049-84-5378</td>\n",
       "      <td>Entrepreneur</td>\n",
       "      <td>41012.42_</td>\n",
       "      <td>3341.702</td>\n",
       "      <td>5</td>\n",
       "      <td>4</td>\n",
       "      <td>27</td>\n",
       "      <td>7_</td>\n",
       "      <td>Payday Loan, Debt Consolidation Loan, Home Equ...</td>\n",
       "      <td>8</td>\n",
       "      <td>14</td>\n",
       "      <td>14.47</td>\n",
       "      <td>4.000</td>\n",
       "      <td>Standard</td>\n",
       "      <td>1690.55</td>\n",
       "      <td>30.387</td>\n",
       "      <td>91</td>\n",
       "      <td>NM</td>\n",
       "      <td>199.368</td>\n",
       "      <td>224.138</td>\n",
       "      <td>Low_spent_Small_value_payments</td>\n",
       "      <td>200.664</td>\n",
       "      <td>Poor</td>\n",
       "    </tr>\n",
       "    <tr>\n",
       "      <th>20372</th>\n",
       "      <td>0x8d5e</td>\n",
       "      <td>CUS_0x1f2e</td>\n",
       "      <td>May</td>\n",
       "      <td>Stefano Bernabeiq</td>\n",
       "      <td>26</td>\n",
       "      <td>049-84-5378</td>\n",
       "      <td>Entrepreneur</td>\n",
       "      <td>41012.42_</td>\n",
       "      <td>3341.702</td>\n",
       "      <td>5</td>\n",
       "      <td>4</td>\n",
       "      <td>27</td>\n",
       "      <td>-100</td>\n",
       "      <td>Payday Loan, Debt Consolidation Loan, Home Equ...</td>\n",
       "      <td>13</td>\n",
       "      <td>11</td>\n",
       "      <td>19.47</td>\n",
       "      <td>4.000</td>\n",
       "      <td>Standard</td>\n",
       "      <td>1690.55</td>\n",
       "      <td>37.308</td>\n",
       "      <td>91</td>\n",
       "      <td>Yes</td>\n",
       "      <td>199.368</td>\n",
       "      <td>117.137</td>\n",
       "      <td>High_spent_Small_value_payments</td>\n",
       "      <td>277.665</td>\n",
       "      <td>Poor</td>\n",
       "    </tr>\n",
       "    <tr>\n",
       "      <th>20373</th>\n",
       "      <td>0x8d5f</td>\n",
       "      <td>CUS_0x1f2e</td>\n",
       "      <td>June</td>\n",
       "      <td>Stefano Bernabeiq</td>\n",
       "      <td>26</td>\n",
       "      <td>049-84-5378</td>\n",
       "      <td>Entrepreneur</td>\n",
       "      <td>41012.42</td>\n",
       "      <td>3341.702</td>\n",
       "      <td>5</td>\n",
       "      <td>4</td>\n",
       "      <td>27</td>\n",
       "      <td>7</td>\n",
       "      <td>Payday Loan, Debt Consolidation Loan, Home Equ...</td>\n",
       "      <td>13</td>\n",
       "      <td>11</td>\n",
       "      <td>14.47</td>\n",
       "      <td>4.000</td>\n",
       "      <td>Standard</td>\n",
       "      <td>1690.55</td>\n",
       "      <td>31.645</td>\n",
       "      <td>91</td>\n",
       "      <td>Yes</td>\n",
       "      <td>199.368</td>\n",
       "      <td>118.545</td>\n",
       "      <td>High_spent_Medium_value_payments</td>\n",
       "      <td>266.257</td>\n",
       "      <td>Standard</td>\n",
       "    </tr>\n",
       "    <tr>\n",
       "      <th>20374</th>\n",
       "      <td>0x8d60</td>\n",
       "      <td>CUS_0x1f2e</td>\n",
       "      <td>July</td>\n",
       "      <td>Stefano Bernabeiq</td>\n",
       "      <td>26</td>\n",
       "      <td>049-84-5378</td>\n",
       "      <td>Entrepreneur</td>\n",
       "      <td>41012.42</td>\n",
       "      <td>3341.702</td>\n",
       "      <td>5</td>\n",
       "      <td>4</td>\n",
       "      <td>27</td>\n",
       "      <td>7</td>\n",
       "      <td>Payday Loan, Debt Consolidation Loan, Home Equ...</td>\n",
       "      <td>18</td>\n",
       "      <td>10</td>\n",
       "      <td>19.47</td>\n",
       "      <td>4.000</td>\n",
       "      <td>Standard</td>\n",
       "      <td>1690.55</td>\n",
       "      <td>32.476</td>\n",
       "      <td>94</td>\n",
       "      <td>Yes</td>\n",
       "      <td>199.368</td>\n",
       "      <td>89.851</td>\n",
       "      <td>High_spent_Medium_value_payments</td>\n",
       "      <td>294.951</td>\n",
       "      <td>Poor</td>\n",
       "    </tr>\n",
       "    <tr>\n",
       "      <th>20375</th>\n",
       "      <td>0x8d61</td>\n",
       "      <td>CUS_0x1f2e</td>\n",
       "      <td>August</td>\n",
       "      <td>Stefano Bernabeiq</td>\n",
       "      <td>26</td>\n",
       "      <td>049-84-5378</td>\n",
       "      <td>Entrepreneur</td>\n",
       "      <td>41012.42</td>\n",
       "      <td>3341.702</td>\n",
       "      <td>5</td>\n",
       "      <td>4</td>\n",
       "      <td>27</td>\n",
       "      <td>7</td>\n",
       "      <td>Payday Loan, Debt Consolidation Loan, Home Equ...</td>\n",
       "      <td>13</td>\n",
       "      <td>9</td>\n",
       "      <td>14.47</td>\n",
       "      <td>4.000</td>\n",
       "      <td>Standard</td>\n",
       "      <td>1690.55</td>\n",
       "      <td>30.687</td>\n",
       "      <td>95</td>\n",
       "      <td>Yes</td>\n",
       "      <td>199.368</td>\n",
       "      <td>174.795</td>\n",
       "      <td>High_spent_Small_value_payments</td>\n",
       "      <td>220.007</td>\n",
       "      <td>Standard</td>\n",
       "    </tr>\n",
       "  </tbody>\n",
       "</table>\n",
       "</div>"
      ],
      "text/plain": [
       "           id customer_id     month               name   age          ssn  \\\n",
       "20368  0x8d5a  CUS_0x1f2e   January  Stefano Bernabeiq  4380  049-84-5378   \n",
       "20369  0x8d5b  CUS_0x1f2e  February  Stefano Bernabeiq    26  049-84-5378   \n",
       "20370  0x8d5c  CUS_0x1f2e     March  Stefano Bernabeiq    26  049-84-5378   \n",
       "20371  0x8d5d  CUS_0x1f2e     April  Stefano Bernabeiq    26  049-84-5378   \n",
       "20372  0x8d5e  CUS_0x1f2e       May  Stefano Bernabeiq    26  049-84-5378   \n",
       "20373  0x8d5f  CUS_0x1f2e      June  Stefano Bernabeiq    26  049-84-5378   \n",
       "20374  0x8d60  CUS_0x1f2e      July  Stefano Bernabeiq    26  049-84-5378   \n",
       "20375  0x8d61  CUS_0x1f2e    August  Stefano Bernabeiq    26  049-84-5378   \n",
       "\n",
       "         occupation annual_income  monthly_inhand_salary  num_bank_accounts  \\\n",
       "20368  Entrepreneur      41012.42               3341.702                  5   \n",
       "20369  Entrepreneur      41012.42               3341.702                  5   \n",
       "20370  Entrepreneur      41012.42               3341.702                  5   \n",
       "20371  Entrepreneur     41012.42_               3341.702                  5   \n",
       "20372  Entrepreneur     41012.42_               3341.702                  5   \n",
       "20373  Entrepreneur      41012.42               3341.702                  5   \n",
       "20374  Entrepreneur      41012.42               3341.702                  5   \n",
       "20375  Entrepreneur      41012.42               3341.702                  5   \n",
       "\n",
       "       num_credit_card  interest_rate num_of_loan  \\\n",
       "20368                4             27           7   \n",
       "20369                4             27           7   \n",
       "20370                4             27           7   \n",
       "20371                4             27          7_   \n",
       "20372                4             27        -100   \n",
       "20373                4             27           7   \n",
       "20374                4             27           7   \n",
       "20375                4             27           7   \n",
       "\n",
       "                                            type_of_loan  delay_from_due_date  \\\n",
       "20368  Payday Loan, Debt Consolidation Loan, Home Equ...                   13   \n",
       "20369  Payday Loan, Debt Consolidation Loan, Home Equ...                   13   \n",
       "20370  Payday Loan, Debt Consolidation Loan, Home Equ...                    9   \n",
       "20371  Payday Loan, Debt Consolidation Loan, Home Equ...                    8   \n",
       "20372  Payday Loan, Debt Consolidation Loan, Home Equ...                   13   \n",
       "20373  Payday Loan, Debt Consolidation Loan, Home Equ...                   13   \n",
       "20374  Payday Loan, Debt Consolidation Loan, Home Equ...                   18   \n",
       "20375  Payday Loan, Debt Consolidation Loan, Home Equ...                   13   \n",
       "\n",
       "      num_of_delayed_payment changed_credit_limit  num_credit_inquiries  \\\n",
       "20368                     13                19.47                 4.000   \n",
       "20369                     11                22.47                 4.000   \n",
       "20370                     11                19.47                 4.000   \n",
       "20371                     14                14.47                 4.000   \n",
       "20372                     11                19.47                 4.000   \n",
       "20373                     11                14.47                 4.000   \n",
       "20374                     10                19.47                 4.000   \n",
       "20375                      9                14.47                 4.000   \n",
       "\n",
       "      credit_mix outstanding_debt  credit_utilization_ratio  \\\n",
       "20368   Standard          1690.55                    26.118   \n",
       "20369   Standard          1690.55                    26.470   \n",
       "20370   Standard          1690.55                    25.467   \n",
       "20371   Standard          1690.55                    30.387   \n",
       "20372   Standard          1690.55                    37.308   \n",
       "20373   Standard          1690.55                    31.645   \n",
       "20374   Standard          1690.55                    32.476   \n",
       "20375   Standard          1690.55                    30.687   \n",
       "\n",
       "       credit_history_age payment_of_min_amount  total_emi_per_month  \\\n",
       "20368                  88                   Yes              199.368   \n",
       "20369                  89                   Yes              199.368   \n",
       "20370                  90                    NM              199.368   \n",
       "20371                  91                    NM              199.368   \n",
       "20372                  91                   Yes              199.368   \n",
       "20373                  91                   Yes              199.368   \n",
       "20374                  94                   Yes              199.368   \n",
       "20375                  95                   Yes              199.368   \n",
       "\n",
       "       amount_invested_monthly                 payment_behaviour  \\\n",
       "20368                  351.341    Low_spent_Small_value_payments   \n",
       "20369                  205.382    Low_spent_Large_value_payments   \n",
       "20370                  109.167                            !@9#%8   \n",
       "20371                  224.138    Low_spent_Small_value_payments   \n",
       "20372                  117.137   High_spent_Small_value_payments   \n",
       "20373                  118.545  High_spent_Medium_value_payments   \n",
       "20374                   89.851  High_spent_Medium_value_payments   \n",
       "20375                  174.795   High_spent_Small_value_payments   \n",
       "\n",
       "       monthly_balance credit_score  \n",
       "20368           73.461         Poor  \n",
       "20369          199.421         Poor  \n",
       "20370          285.636         Poor  \n",
       "20371          200.664         Poor  \n",
       "20372          277.665         Poor  \n",
       "20373          266.257     Standard  \n",
       "20374          294.951         Poor  \n",
       "20375          220.007     Standard  "
      ]
     },
     "execution_count": 75,
     "metadata": {},
     "output_type": "execute_result"
    }
   ],
   "source": [
    "df.loc[df[\"customer_id\"] == \"CUS_0x1f2e\"]"
   ]
  },
  {
   "cell_type": "code",
   "execution_count": 76,
   "id": "5561daf5",
   "metadata": {
    "ExecuteTime": {
     "end_time": "2024-04-28T00:56:45.755167Z",
     "start_time": "2024-04-28T00:56:45.662607Z"
    },
    "execution": {
     "iopub.execute_input": "2024-05-02T13:06:09.648651Z",
     "iopub.status.busy": "2024-05-02T13:06:09.648306Z",
     "iopub.status.idle": "2024-05-02T13:06:09.725831Z",
     "shell.execute_reply": "2024-05-02T13:06:09.724897Z"
    },
    "papermill": {
     "duration": 0.136882,
     "end_time": "2024-05-02T13:06:09.728053",
     "exception": false,
     "start_time": "2024-05-02T13:06:09.591171",
     "status": "completed"
    },
    "tags": []
   },
   "outputs": [
    {
     "data": {
      "text/plain": [
       "2777"
      ]
     },
     "execution_count": 76,
     "metadata": {},
     "output_type": "execute_result"
    }
   ],
   "source": [
    "len(df[df[\"age\"].apply(lambda x: len(str(int(x))) > 2)])"
   ]
  },
  {
   "cell_type": "code",
   "execution_count": 77,
   "id": "49abd02f",
   "metadata": {
    "ExecuteTime": {
     "end_time": "2024-04-28T01:12:01.508364Z",
     "start_time": "2024-04-28T01:12:01.398739Z"
    },
    "execution": {
     "iopub.execute_input": "2024-05-02T13:06:09.851935Z",
     "iopub.status.busy": "2024-05-02T13:06:09.851579Z",
     "iopub.status.idle": "2024-05-02T13:06:09.925106Z",
     "shell.execute_reply": "2024-05-02T13:06:09.924287Z"
    },
    "papermill": {
     "duration": 0.137774,
     "end_time": "2024-05-02T13:06:09.927116",
     "exception": false,
     "start_time": "2024-05-02T13:06:09.789342",
     "status": "completed"
    },
    "tags": []
   },
   "outputs": [],
   "source": [
    "df.loc[df[\"age\"].apply(lambda x: len(str(int(x))) > 2),\"age\"]=np.nan"
   ]
  },
  {
   "cell_type": "code",
   "execution_count": 78,
   "id": "7e55e32c",
   "metadata": {
    "ExecuteTime": {
     "end_time": "2024-04-28T01:12:03.219897Z",
     "start_time": "2024-04-28T01:12:03.202749Z"
    },
    "execution": {
     "iopub.execute_input": "2024-05-02T13:06:10.041108Z",
     "iopub.status.busy": "2024-05-02T13:06:10.040497Z",
     "iopub.status.idle": "2024-05-02T13:06:10.047515Z",
     "shell.execute_reply": "2024-05-02T13:06:10.046683Z"
    },
    "papermill": {
     "duration": 0.065927,
     "end_time": "2024-05-02T13:06:10.049430",
     "exception": false,
     "start_time": "2024-05-02T13:06:09.983503",
     "status": "completed"
    },
    "tags": []
   },
   "outputs": [
    {
     "data": {
      "text/plain": [
       "2777"
      ]
     },
     "execution_count": 78,
     "metadata": {},
     "output_type": "execute_result"
    }
   ],
   "source": [
    "df.age.isna().sum()"
   ]
  },
  {
   "cell_type": "code",
   "execution_count": 79,
   "id": "16a0d644",
   "metadata": {
    "ExecuteTime": {
     "end_time": "2024-04-28T01:01:34.425705Z",
     "start_time": "2024-04-28T01:01:34.363255Z"
    },
    "execution": {
     "iopub.execute_input": "2024-05-02T13:06:10.170890Z",
     "iopub.status.busy": "2024-05-02T13:06:10.170544Z",
     "iopub.status.idle": "2024-05-02T13:06:10.217944Z",
     "shell.execute_reply": "2024-05-02T13:06:10.216979Z"
    },
    "papermill": {
     "duration": 0.11089,
     "end_time": "2024-05-02T13:06:10.219996",
     "exception": false,
     "start_time": "2024-05-02T13:06:10.109106",
     "status": "completed"
    },
    "tags": []
   },
   "outputs": [
    {
     "data": {
      "text/html": [
       "<div>\n",
       "<style scoped>\n",
       "    .dataframe tbody tr th:only-of-type {\n",
       "        vertical-align: middle;\n",
       "    }\n",
       "\n",
       "    .dataframe tbody tr th {\n",
       "        vertical-align: top;\n",
       "    }\n",
       "\n",
       "    .dataframe thead th {\n",
       "        text-align: right;\n",
       "    }\n",
       "</style>\n",
       "<table border=\"1\" class=\"dataframe\">\n",
       "  <thead>\n",
       "    <tr style=\"text-align: right;\">\n",
       "      <th></th>\n",
       "      <th>id</th>\n",
       "      <th>customer_id</th>\n",
       "      <th>month</th>\n",
       "      <th>name</th>\n",
       "      <th>age</th>\n",
       "      <th>ssn</th>\n",
       "      <th>occupation</th>\n",
       "      <th>annual_income</th>\n",
       "      <th>monthly_inhand_salary</th>\n",
       "      <th>num_bank_accounts</th>\n",
       "      <th>num_credit_card</th>\n",
       "      <th>interest_rate</th>\n",
       "      <th>num_of_loan</th>\n",
       "      <th>type_of_loan</th>\n",
       "      <th>delay_from_due_date</th>\n",
       "      <th>num_of_delayed_payment</th>\n",
       "      <th>changed_credit_limit</th>\n",
       "      <th>num_credit_inquiries</th>\n",
       "      <th>credit_mix</th>\n",
       "      <th>outstanding_debt</th>\n",
       "      <th>credit_utilization_ratio</th>\n",
       "      <th>credit_history_age</th>\n",
       "      <th>payment_of_min_amount</th>\n",
       "      <th>total_emi_per_month</th>\n",
       "      <th>amount_invested_monthly</th>\n",
       "      <th>payment_behaviour</th>\n",
       "      <th>monthly_balance</th>\n",
       "      <th>credit_score</th>\n",
       "    </tr>\n",
       "  </thead>\n",
       "  <tbody>\n",
       "    <tr>\n",
       "      <th>712</th>\n",
       "      <td>0x1a2e</td>\n",
       "      <td>CUS_0x3861</td>\n",
       "      <td>January</td>\n",
       "      <td>Fiona Ortizx</td>\n",
       "      <td>53.000</td>\n",
       "      <td>212-32-2085</td>\n",
       "      <td>Engineer</td>\n",
       "      <td>17992.775</td>\n",
       "      <td>1769.398</td>\n",
       "      <td>3</td>\n",
       "      <td>5</td>\n",
       "      <td>6</td>\n",
       "      <td>-100</td>\n",
       "      <td>NaN</td>\n",
       "      <td>5</td>\n",
       "      <td>9</td>\n",
       "      <td>8.61</td>\n",
       "      <td>2.000</td>\n",
       "      <td>Good</td>\n",
       "      <td>565.22</td>\n",
       "      <td>22.380</td>\n",
       "      <td>227</td>\n",
       "      <td>No</td>\n",
       "      <td>0.000</td>\n",
       "      <td>88.443</td>\n",
       "      <td>!@9#%8</td>\n",
       "      <td>348.497</td>\n",
       "      <td>Poor</td>\n",
       "    </tr>\n",
       "    <tr>\n",
       "      <th>713</th>\n",
       "      <td>0x1a2f</td>\n",
       "      <td>CUS_0x3861</td>\n",
       "      <td>February</td>\n",
       "      <td>Fiona Ortizx</td>\n",
       "      <td>53.000</td>\n",
       "      <td>212-32-2085</td>\n",
       "      <td>Engineer</td>\n",
       "      <td>17992.775_</td>\n",
       "      <td>1769.398</td>\n",
       "      <td>3</td>\n",
       "      <td>5</td>\n",
       "      <td>6</td>\n",
       "      <td>0</td>\n",
       "      <td>NaN</td>\n",
       "      <td>11</td>\n",
       "      <td>15</td>\n",
       "      <td>8.61</td>\n",
       "      <td>2.000</td>\n",
       "      <td>Good</td>\n",
       "      <td>565.22</td>\n",
       "      <td>37.219</td>\n",
       "      <td>228</td>\n",
       "      <td>NM</td>\n",
       "      <td>0.000</td>\n",
       "      <td>137.398</td>\n",
       "      <td>Low_spent_Small_value_payments</td>\n",
       "      <td>329.541</td>\n",
       "      <td>Poor</td>\n",
       "    </tr>\n",
       "    <tr>\n",
       "      <th>714</th>\n",
       "      <td>0x1a30</td>\n",
       "      <td>CUS_0x3861</td>\n",
       "      <td>March</td>\n",
       "      <td>Fiona Ortizx</td>\n",
       "      <td>NaN</td>\n",
       "      <td>212-32-2085</td>\n",
       "      <td>Engineer</td>\n",
       "      <td>17992.775</td>\n",
       "      <td>1769.398</td>\n",
       "      <td>3</td>\n",
       "      <td>5</td>\n",
       "      <td>6</td>\n",
       "      <td>0</td>\n",
       "      <td>NaN</td>\n",
       "      <td>4</td>\n",
       "      <td>12</td>\n",
       "      <td>4.6099999999999985</td>\n",
       "      <td>2.000</td>\n",
       "      <td>Good</td>\n",
       "      <td>565.22</td>\n",
       "      <td>23.137</td>\n",
       "      <td>229</td>\n",
       "      <td>No</td>\n",
       "      <td>0.000</td>\n",
       "      <td>95.656</td>\n",
       "      <td>High_spent_Small_value_payments</td>\n",
       "      <td>341.283</td>\n",
       "      <td>Poor</td>\n",
       "    </tr>\n",
       "    <tr>\n",
       "      <th>715</th>\n",
       "      <td>0x1a31</td>\n",
       "      <td>CUS_0x3861</td>\n",
       "      <td>April</td>\n",
       "      <td>Fiona Ortizx</td>\n",
       "      <td>53.000</td>\n",
       "      <td>#F%$D@*&amp;8</td>\n",
       "      <td>Engineer</td>\n",
       "      <td>17992.775</td>\n",
       "      <td>1769.398</td>\n",
       "      <td>3</td>\n",
       "      <td>5</td>\n",
       "      <td>6</td>\n",
       "      <td>0</td>\n",
       "      <td>NaN</td>\n",
       "      <td>8</td>\n",
       "      <td>12</td>\n",
       "      <td>4.6099999999999985</td>\n",
       "      <td>2.000</td>\n",
       "      <td>Good</td>\n",
       "      <td>565.22</td>\n",
       "      <td>25.152</td>\n",
       "      <td>230</td>\n",
       "      <td>No</td>\n",
       "      <td>0.000</td>\n",
       "      <td>162.643</td>\n",
       "      <td>Low_spent_Small_value_payments</td>\n",
       "      <td>304.297</td>\n",
       "      <td>Poor</td>\n",
       "    </tr>\n",
       "    <tr>\n",
       "      <th>716</th>\n",
       "      <td>0x1a32</td>\n",
       "      <td>CUS_0x3861</td>\n",
       "      <td>May</td>\n",
       "      <td>Fiona Ortizx</td>\n",
       "      <td>53.000</td>\n",
       "      <td>212-32-2085</td>\n",
       "      <td>Engineer</td>\n",
       "      <td>17992.775</td>\n",
       "      <td>1769.398</td>\n",
       "      <td>3</td>\n",
       "      <td>5</td>\n",
       "      <td>6</td>\n",
       "      <td>0</td>\n",
       "      <td>NaN</td>\n",
       "      <td>8</td>\n",
       "      <td>10</td>\n",
       "      <td>8.61</td>\n",
       "      <td>3.000</td>\n",
       "      <td>Good</td>\n",
       "      <td>565.22</td>\n",
       "      <td>34.182</td>\n",
       "      <td>231</td>\n",
       "      <td>No</td>\n",
       "      <td>0.000</td>\n",
       "      <td>10000.000</td>\n",
       "      <td>High_spent_Medium_value_payments</td>\n",
       "      <td>386.841</td>\n",
       "      <td>Standard</td>\n",
       "    </tr>\n",
       "    <tr>\n",
       "      <th>717</th>\n",
       "      <td>0x1a33</td>\n",
       "      <td>CUS_0x3861</td>\n",
       "      <td>June</td>\n",
       "      <td>Fiona Ortizx</td>\n",
       "      <td>53.000</td>\n",
       "      <td>212-32-2085</td>\n",
       "      <td>Engineer</td>\n",
       "      <td>17992.775</td>\n",
       "      <td>1769.398</td>\n",
       "      <td>3</td>\n",
       "      <td>5</td>\n",
       "      <td>6</td>\n",
       "      <td>0</td>\n",
       "      <td>NaN</td>\n",
       "      <td>5</td>\n",
       "      <td>10</td>\n",
       "      <td>8.61</td>\n",
       "      <td>3.000</td>\n",
       "      <td>Good</td>\n",
       "      <td>565.22</td>\n",
       "      <td>31.054</td>\n",
       "      <td>232</td>\n",
       "      <td>No</td>\n",
       "      <td>0.000</td>\n",
       "      <td>23.003</td>\n",
       "      <td>!@9#%8</td>\n",
       "      <td>393.937</td>\n",
       "      <td>Poor</td>\n",
       "    </tr>\n",
       "    <tr>\n",
       "      <th>718</th>\n",
       "      <td>0x1a34</td>\n",
       "      <td>CUS_0x3861</td>\n",
       "      <td>July</td>\n",
       "      <td>Fiona Ortizx</td>\n",
       "      <td>53.000</td>\n",
       "      <td>212-32-2085</td>\n",
       "      <td>Engineer</td>\n",
       "      <td>17992.775</td>\n",
       "      <td>1769.398</td>\n",
       "      <td>3</td>\n",
       "      <td>5</td>\n",
       "      <td>6</td>\n",
       "      <td>0</td>\n",
       "      <td>NaN</td>\n",
       "      <td>6</td>\n",
       "      <td>10</td>\n",
       "      <td>8.61</td>\n",
       "      <td>3.000</td>\n",
       "      <td>Good</td>\n",
       "      <td>565.22</td>\n",
       "      <td>33.160</td>\n",
       "      <td>233</td>\n",
       "      <td>No</td>\n",
       "      <td>0.000</td>\n",
       "      <td>14.787</td>\n",
       "      <td>High_spent_Large_value_payments</td>\n",
       "      <td>402.153</td>\n",
       "      <td>Poor</td>\n",
       "    </tr>\n",
       "    <tr>\n",
       "      <th>719</th>\n",
       "      <td>0x1a35</td>\n",
       "      <td>CUS_0x3861</td>\n",
       "      <td>August</td>\n",
       "      <td>Fiona Ortizx</td>\n",
       "      <td>53.000</td>\n",
       "      <td>212-32-2085</td>\n",
       "      <td>Engineer</td>\n",
       "      <td>17992.775</td>\n",
       "      <td>1769.398</td>\n",
       "      <td>3</td>\n",
       "      <td>5</td>\n",
       "      <td>570</td>\n",
       "      <td>0</td>\n",
       "      <td>NaN</td>\n",
       "      <td>8</td>\n",
       "      <td>10</td>\n",
       "      <td>8.61</td>\n",
       "      <td>3.000</td>\n",
       "      <td>Good</td>\n",
       "      <td>565.22</td>\n",
       "      <td>33.464</td>\n",
       "      <td>234</td>\n",
       "      <td>No</td>\n",
       "      <td>0.000</td>\n",
       "      <td>79.040</td>\n",
       "      <td>Low_spent_Small_value_payments</td>\n",
       "      <td>387.900</td>\n",
       "      <td>Poor</td>\n",
       "    </tr>\n",
       "  </tbody>\n",
       "</table>\n",
       "</div>"
      ],
      "text/plain": [
       "         id customer_id     month          name    age          ssn  \\\n",
       "712  0x1a2e  CUS_0x3861   January  Fiona Ortizx 53.000  212-32-2085   \n",
       "713  0x1a2f  CUS_0x3861  February  Fiona Ortizx 53.000  212-32-2085   \n",
       "714  0x1a30  CUS_0x3861     March  Fiona Ortizx    NaN  212-32-2085   \n",
       "715  0x1a31  CUS_0x3861     April  Fiona Ortizx 53.000    #F%$D@*&8   \n",
       "716  0x1a32  CUS_0x3861       May  Fiona Ortizx 53.000  212-32-2085   \n",
       "717  0x1a33  CUS_0x3861      June  Fiona Ortizx 53.000  212-32-2085   \n",
       "718  0x1a34  CUS_0x3861      July  Fiona Ortizx 53.000  212-32-2085   \n",
       "719  0x1a35  CUS_0x3861    August  Fiona Ortizx 53.000  212-32-2085   \n",
       "\n",
       "    occupation annual_income  monthly_inhand_salary  num_bank_accounts  \\\n",
       "712   Engineer     17992.775               1769.398                  3   \n",
       "713   Engineer    17992.775_               1769.398                  3   \n",
       "714   Engineer     17992.775               1769.398                  3   \n",
       "715   Engineer     17992.775               1769.398                  3   \n",
       "716   Engineer     17992.775               1769.398                  3   \n",
       "717   Engineer     17992.775               1769.398                  3   \n",
       "718   Engineer     17992.775               1769.398                  3   \n",
       "719   Engineer     17992.775               1769.398                  3   \n",
       "\n",
       "     num_credit_card  interest_rate num_of_loan type_of_loan  \\\n",
       "712                5              6        -100          NaN   \n",
       "713                5              6           0          NaN   \n",
       "714                5              6           0          NaN   \n",
       "715                5              6           0          NaN   \n",
       "716                5              6           0          NaN   \n",
       "717                5              6           0          NaN   \n",
       "718                5              6           0          NaN   \n",
       "719                5            570           0          NaN   \n",
       "\n",
       "     delay_from_due_date num_of_delayed_payment changed_credit_limit  \\\n",
       "712                    5                      9                 8.61   \n",
       "713                   11                     15                 8.61   \n",
       "714                    4                     12   4.6099999999999985   \n",
       "715                    8                     12   4.6099999999999985   \n",
       "716                    8                     10                 8.61   \n",
       "717                    5                     10                 8.61   \n",
       "718                    6                     10                 8.61   \n",
       "719                    8                     10                 8.61   \n",
       "\n",
       "     num_credit_inquiries credit_mix outstanding_debt  \\\n",
       "712                 2.000       Good           565.22   \n",
       "713                 2.000       Good           565.22   \n",
       "714                 2.000       Good           565.22   \n",
       "715                 2.000       Good           565.22   \n",
       "716                 3.000       Good           565.22   \n",
       "717                 3.000       Good           565.22   \n",
       "718                 3.000       Good           565.22   \n",
       "719                 3.000       Good           565.22   \n",
       "\n",
       "     credit_utilization_ratio  credit_history_age payment_of_min_amount  \\\n",
       "712                    22.380                 227                    No   \n",
       "713                    37.219                 228                    NM   \n",
       "714                    23.137                 229                    No   \n",
       "715                    25.152                 230                    No   \n",
       "716                    34.182                 231                    No   \n",
       "717                    31.054                 232                    No   \n",
       "718                    33.160                 233                    No   \n",
       "719                    33.464                 234                    No   \n",
       "\n",
       "     total_emi_per_month  amount_invested_monthly  \\\n",
       "712                0.000                   88.443   \n",
       "713                0.000                  137.398   \n",
       "714                0.000                   95.656   \n",
       "715                0.000                  162.643   \n",
       "716                0.000                10000.000   \n",
       "717                0.000                   23.003   \n",
       "718                0.000                   14.787   \n",
       "719                0.000                   79.040   \n",
       "\n",
       "                    payment_behaviour  monthly_balance credit_score  \n",
       "712                            !@9#%8          348.497         Poor  \n",
       "713    Low_spent_Small_value_payments          329.541         Poor  \n",
       "714   High_spent_Small_value_payments          341.283         Poor  \n",
       "715    Low_spent_Small_value_payments          304.297         Poor  \n",
       "716  High_spent_Medium_value_payments          386.841     Standard  \n",
       "717                            !@9#%8          393.937         Poor  \n",
       "718   High_spent_Large_value_payments          402.153         Poor  \n",
       "719    Low_spent_Small_value_payments          387.900         Poor  "
      ]
     },
     "execution_count": 79,
     "metadata": {},
     "output_type": "execute_result"
    }
   ],
   "source": [
    "df[df[\"customer_id\"]==\"CUS_0x3861\"]"
   ]
  },
  {
   "cell_type": "code",
   "execution_count": 80,
   "id": "cff21fec",
   "metadata": {
    "ExecuteTime": {
     "end_time": "2024-04-28T01:12:09.325504Z",
     "start_time": "2024-04-28T01:12:09.296647Z"
    },
    "execution": {
     "iopub.execute_input": "2024-05-02T13:06:10.340268Z",
     "iopub.status.busy": "2024-05-02T13:06:10.339949Z",
     "iopub.status.idle": "2024-05-02T13:06:10.346002Z",
     "shell.execute_reply": "2024-05-02T13:06:10.345182Z"
    },
    "papermill": {
     "duration": 0.068595,
     "end_time": "2024-05-02T13:06:10.348165",
     "exception": false,
     "start_time": "2024-05-02T13:06:10.279570",
     "status": "completed"
    },
    "tags": []
   },
   "outputs": [],
   "source": [
    "nan_customer_ids = df.loc[df['age'].isna(), 'customer_id'].unique()"
   ]
  },
  {
   "cell_type": "code",
   "execution_count": 81,
   "id": "c525edf9",
   "metadata": {
    "ExecuteTime": {
     "end_time": "2024-04-28T01:12:12.212199Z",
     "start_time": "2024-04-28T01:12:12.200427Z"
    },
    "execution": {
     "iopub.execute_input": "2024-05-02T13:06:10.468126Z",
     "iopub.status.busy": "2024-05-02T13:06:10.467765Z",
     "iopub.status.idle": "2024-05-02T13:06:10.473605Z",
     "shell.execute_reply": "2024-05-02T13:06:10.472658Z"
    },
    "papermill": {
     "duration": 0.067164,
     "end_time": "2024-05-02T13:06:10.475717",
     "exception": false,
     "start_time": "2024-05-02T13:06:10.408553",
     "status": "completed"
    },
    "tags": []
   },
   "outputs": [
    {
     "data": {
      "text/plain": [
       "2526"
      ]
     },
     "execution_count": 81,
     "metadata": {},
     "output_type": "execute_result"
    }
   ],
   "source": [
    "len(nan_customer_ids)"
   ]
  },
  {
   "cell_type": "code",
   "execution_count": 82,
   "id": "2b1ed7a8",
   "metadata": {
    "ExecuteTime": {
     "end_time": "2024-04-28T01:13:36.232036Z",
     "start_time": "2024-04-28T01:12:17.109133Z"
    },
    "execution": {
     "iopub.execute_input": "2024-05-02T13:06:10.593471Z",
     "iopub.status.busy": "2024-05-02T13:06:10.593153Z",
     "iopub.status.idle": "2024-05-02T13:07:45.746373Z",
     "shell.execute_reply": "2024-05-02T13:07:45.745190Z"
    },
    "papermill": {
     "duration": 95.21456,
     "end_time": "2024-05-02T13:07:45.749102",
     "exception": false,
     "start_time": "2024-05-02T13:06:10.534542",
     "status": "completed"
    },
    "tags": []
   },
   "outputs": [],
   "source": [
    "for customer_id in nan_customer_ids:\n",
    "    \n",
    "        right_age = df.loc[(df['customer_id'] == customer_id) & (~df['age'].isna()), 'age'].iloc[0]\n",
    "        df.loc[(df['customer_id'] == customer_id) & (df['age'].isna()), 'age'] = right_age"
   ]
  },
  {
   "cell_type": "code",
   "execution_count": 83,
   "id": "94f622a2",
   "metadata": {
    "ExecuteTime": {
     "end_time": "2024-04-28T01:13:49.335660Z",
     "start_time": "2024-04-28T01:13:49.322023Z"
    },
    "execution": {
     "iopub.execute_input": "2024-05-02T13:07:45.919785Z",
     "iopub.status.busy": "2024-05-02T13:07:45.919394Z",
     "iopub.status.idle": "2024-05-02T13:07:45.927003Z",
     "shell.execute_reply": "2024-05-02T13:07:45.926105Z"
    },
    "papermill": {
     "duration": 0.117977,
     "end_time": "2024-05-02T13:07:45.929284",
     "exception": false,
     "start_time": "2024-05-02T13:07:45.811307",
     "status": "completed"
    },
    "tags": []
   },
   "outputs": [
    {
     "data": {
      "text/plain": [
       "0"
      ]
     },
     "execution_count": 83,
     "metadata": {},
     "output_type": "execute_result"
    }
   ],
   "source": [
    "df.age.isna().sum()"
   ]
  },
  {
   "cell_type": "code",
   "execution_count": 84,
   "id": "7c068796",
   "metadata": {
    "ExecuteTime": {
     "end_time": "2024-04-28T01:13:52.834924Z",
     "start_time": "2024-04-28T01:13:52.808550Z"
    },
    "execution": {
     "iopub.execute_input": "2024-05-02T13:07:46.054662Z",
     "iopub.status.busy": "2024-05-02T13:07:46.054290Z",
     "iopub.status.idle": "2024-05-02T13:07:46.067208Z",
     "shell.execute_reply": "2024-05-02T13:07:46.066296Z"
    },
    "papermill": {
     "duration": 0.076941,
     "end_time": "2024-05-02T13:07:46.069235",
     "exception": false,
     "start_time": "2024-05-02T13:07:45.992294",
     "status": "completed"
    },
    "tags": []
   },
   "outputs": [
    {
     "data": {
      "text/plain": [
       "count   100000.000\n",
       "mean        33.306\n",
       "std         10.772\n",
       "min         14.000\n",
       "25%         24.000\n",
       "50%         33.000\n",
       "75%         42.000\n",
       "max         99.000\n",
       "Name: age, dtype: float64"
      ]
     },
     "execution_count": 84,
     "metadata": {},
     "output_type": "execute_result"
    }
   ],
   "source": [
    "df.age.describe()"
   ]
  },
  {
   "cell_type": "code",
   "execution_count": 85,
   "id": "977ff66d",
   "metadata": {
    "ExecuteTime": {
     "end_time": "2024-04-29T21:37:34.549589Z",
     "start_time": "2024-04-29T21:37:34.528141Z"
    },
    "execution": {
     "iopub.execute_input": "2024-05-02T13:07:46.190701Z",
     "iopub.status.busy": "2024-05-02T13:07:46.189957Z",
     "iopub.status.idle": "2024-05-02T13:07:46.198849Z",
     "shell.execute_reply": "2024-05-02T13:07:46.197396Z"
    },
    "papermill": {
     "duration": 0.072003,
     "end_time": "2024-05-02T13:07:46.201157",
     "exception": false,
     "start_time": "2024-05-02T13:07:46.129154",
     "status": "completed"
    },
    "tags": []
   },
   "outputs": [
    {
     "data": {
      "text/plain": [
       "Index([28718, 38248, 65420, 78564], dtype='int64')"
      ]
     },
     "execution_count": 85,
     "metadata": {},
     "output_type": "execute_result"
    }
   ],
   "source": [
    "age_max_idx = df.loc[df[\"age\"]>56].index\n",
    "age_max_idx"
   ]
  },
  {
   "cell_type": "code",
   "execution_count": 86,
   "id": "ac5104b0",
   "metadata": {
    "ExecuteTime": {
     "end_time": "2024-04-29T21:37:36.749182Z",
     "start_time": "2024-04-29T21:37:36.680490Z"
    },
    "execution": {
     "iopub.execute_input": "2024-05-02T13:07:46.327353Z",
     "iopub.status.busy": "2024-05-02T13:07:46.326468Z",
     "iopub.status.idle": "2024-05-02T13:07:46.364409Z",
     "shell.execute_reply": "2024-05-02T13:07:46.363660Z"
    },
    "papermill": {
     "duration": 0.100457,
     "end_time": "2024-05-02T13:07:46.366595",
     "exception": false,
     "start_time": "2024-05-02T13:07:46.266138",
     "status": "completed"
    },
    "tags": []
   },
   "outputs": [],
   "source": [
    "df.drop(age_max_idx,inplace=True)"
   ]
  },
  {
   "cell_type": "code",
   "execution_count": 87,
   "id": "037ddf29",
   "metadata": {
    "ExecuteTime": {
     "end_time": "2024-04-29T18:44:04.126966Z",
     "start_time": "2024-04-29T18:44:04.087226Z"
    },
    "execution": {
     "iopub.execute_input": "2024-05-02T13:07:46.485058Z",
     "iopub.status.busy": "2024-05-02T13:07:46.484306Z",
     "iopub.status.idle": "2024-05-02T13:07:46.496108Z",
     "shell.execute_reply": "2024-05-02T13:07:46.495214Z"
    },
    "papermill": {
     "duration": 0.072431,
     "end_time": "2024-05-02T13:07:46.498050",
     "exception": false,
     "start_time": "2024-05-02T13:07:46.425619",
     "status": "completed"
    },
    "tags": []
   },
   "outputs": [
    {
     "data": {
      "text/plain": [
       "count   99996.000\n",
       "mean       33.303\n",
       "std        10.765\n",
       "min        14.000\n",
       "25%        24.000\n",
       "50%        33.000\n",
       "75%        42.000\n",
       "max        56.000\n",
       "Name: age, dtype: float64"
      ]
     },
     "execution_count": 87,
     "metadata": {},
     "output_type": "execute_result"
    }
   ],
   "source": [
    "df.age.describe()"
   ]
  },
  {
   "cell_type": "markdown",
   "id": "71a78fe5",
   "metadata": {
    "papermill": {
     "duration": 0.056943,
     "end_time": "2024-05-02T13:07:46.613275",
     "exception": false,
     "start_time": "2024-05-02T13:07:46.556332",
     "status": "completed"
    },
    "tags": []
   },
   "source": [
    "### Payment Behaviour feature"
   ]
  },
  {
   "cell_type": "code",
   "execution_count": 88,
   "id": "afc1cdfb",
   "metadata": {
    "ExecuteTime": {
     "end_time": "2024-04-29T21:37:46.673264Z",
     "start_time": "2024-04-29T21:37:46.643612Z"
    },
    "execution": {
     "iopub.execute_input": "2024-05-02T13:07:46.730158Z",
     "iopub.status.busy": "2024-05-02T13:07:46.729787Z",
     "iopub.status.idle": "2024-05-02T13:07:46.753405Z",
     "shell.execute_reply": "2024-05-02T13:07:46.752607Z"
    },
    "papermill": {
     "duration": 0.083947,
     "end_time": "2024-05-02T13:07:46.755586",
     "exception": false,
     "start_time": "2024-05-02T13:07:46.671639",
     "status": "completed"
    },
    "tags": []
   },
   "outputs": [
    {
     "data": {
      "text/plain": [
       "payment_behaviour\n",
       "Low_spent_Small_value_payments      25512\n",
       "High_spent_Medium_value_payments    17540\n",
       "Low_spent_Medium_value_payments     13861\n",
       "High_spent_Large_value_payments     13721\n",
       "High_spent_Small_value_payments     11339\n",
       "Low_spent_Large_value_payments      10424\n",
       "!@9#%8                               7599\n",
       "Name: count, dtype: int64"
      ]
     },
     "execution_count": 88,
     "metadata": {},
     "output_type": "execute_result"
    }
   ],
   "source": [
    "df[\"payment_behaviour\"].value_counts()"
   ]
  },
  {
   "cell_type": "code",
   "execution_count": 89,
   "id": "add02191",
   "metadata": {
    "ExecuteTime": {
     "end_time": "2024-04-29T21:37:50.706429Z",
     "start_time": "2024-04-29T21:37:50.699035Z"
    },
    "execution": {
     "iopub.execute_input": "2024-05-02T13:07:46.879961Z",
     "iopub.status.busy": "2024-05-02T13:07:46.879147Z",
     "iopub.status.idle": "2024-05-02T13:07:46.883770Z",
     "shell.execute_reply": "2024-05-02T13:07:46.882833Z"
    },
    "papermill": {
     "duration": 0.069216,
     "end_time": "2024-05-02T13:07:46.885825",
     "exception": false,
     "start_time": "2024-05-02T13:07:46.816609",
     "status": "completed"
    },
    "tags": []
   },
   "outputs": [],
   "source": [
    "pattern = re.compile(r\"\\W\") "
   ]
  },
  {
   "cell_type": "code",
   "execution_count": 90,
   "id": "2611c483",
   "metadata": {
    "ExecuteTime": {
     "end_time": "2024-04-29T18:44:28.445775Z",
     "start_time": "2024-04-29T18:44:28.429749Z"
    },
    "execution": {
     "iopub.execute_input": "2024-05-02T13:07:47.005090Z",
     "iopub.status.busy": "2024-05-02T13:07:47.004749Z",
     "iopub.status.idle": "2024-05-02T13:07:47.011908Z",
     "shell.execute_reply": "2024-05-02T13:07:47.011039Z"
    },
    "papermill": {
     "duration": 0.069176,
     "end_time": "2024-05-02T13:07:47.013912",
     "exception": false,
     "start_time": "2024-05-02T13:07:46.944736",
     "status": "completed"
    },
    "tags": []
   },
   "outputs": [],
   "source": [
    "# for checking all dataframe if there is any match with our regex pattern\n",
    "\n",
    "\n",
    "from colorama import init, Fore, Back, Style\n",
    "\n",
    "def matched_re(df):\n",
    "    total_matches = 0\n",
    "    for column in df.columns:\n",
    "        column_matches = 0\n",
    "        matched_values = set()  \n",
    "        for value in df[column]:\n",
    "            if re.search(r\"^[^a-zA-Z0-9 .,]+$\", str(value)):\n",
    "                column_matches += 1\n",
    "                matched_values.add(value)\n",
    "                total_matches += 1\n",
    "        if column_matches > 0:\n",
    "            print(f\"{Back.YELLOW + Fore.BLACK} Matched values in column {column}: {column_matches} times '{', '.join(matched_values)}' {Style.RESET_ALL}\")\n",
    "            \n",
    "        else:\n",
    "            print(f\"Total matches in column {column}: {column_matches}\")\n",
    "    print(f\"{Back.YELLOW + Fore.BLACK}Total matches in dataframe: {total_matches} {Style.RESET_ALL}\")"
   ]
  },
  {
   "cell_type": "code",
   "execution_count": 91,
   "id": "94267c24",
   "metadata": {
    "ExecuteTime": {
     "end_time": "2024-04-29T21:38:00.099287Z",
     "start_time": "2024-04-29T21:38:00.073883Z"
    },
    "execution": {
     "iopub.execute_input": "2024-05-02T13:07:47.135889Z",
     "iopub.status.busy": "2024-05-02T13:07:47.135543Z",
     "iopub.status.idle": "2024-05-02T13:07:47.157565Z",
     "shell.execute_reply": "2024-05-02T13:07:47.156624Z"
    },
    "papermill": {
     "duration": 0.085957,
     "end_time": "2024-05-02T13:07:47.159894",
     "exception": false,
     "start_time": "2024-05-02T13:07:47.073937",
     "status": "completed"
    },
    "tags": []
   },
   "outputs": [
    {
     "name": "stdout",
     "output_type": "stream",
     "text": [
      "Unmatched value: Low_spent_Small_value_payments\n",
      "Unmatched value: High_spent_Medium_value_payments\n",
      "Unmatched value: Low_spent_Medium_value_payments\n",
      "Unmatched value: High_spent_Large_value_payments\n",
      "Unmatched value: High_spent_Small_value_payments\n",
      "Unmatched value: Low_spent_Large_value_payments\n",
      "Matched value: !@9#%8\n"
     ]
    }
   ],
   "source": [
    "for text in df[\"payment_behaviour\"].value_counts().index:\n",
    "    if re.search(pattern, text):\n",
    "        print(\"Matched value:\", text)\n",
    "    else:\n",
    "        print(\"Unmatched value:\", text)"
   ]
  },
  {
   "cell_type": "code",
   "execution_count": 92,
   "id": "f3323acd",
   "metadata": {
    "ExecuteTime": {
     "end_time": "2024-04-29T18:37:40.904138Z",
     "start_time": "2024-04-29T18:37:40.844141Z"
    },
    "execution": {
     "iopub.execute_input": "2024-05-02T13:07:47.279188Z",
     "iopub.status.busy": "2024-05-02T13:07:47.278851Z",
     "iopub.status.idle": "2024-05-02T13:07:47.311735Z",
     "shell.execute_reply": "2024-05-02T13:07:47.310826Z"
    },
    "papermill": {
     "duration": 0.096245,
     "end_time": "2024-05-02T13:07:47.313974",
     "exception": false,
     "start_time": "2024-05-02T13:07:47.217729",
     "status": "completed"
    },
    "tags": []
   },
   "outputs": [
    {
     "data": {
      "text/plain": [
       "5900"
      ]
     },
     "execution_count": 92,
     "metadata": {},
     "output_type": "execute_result"
    }
   ],
   "source": [
    "df.loc[df[\"payment_behaviour\"]==\"!@9#%8\"][\"customer_id\"].nunique()"
   ]
  },
  {
   "cell_type": "code",
   "execution_count": 93,
   "id": "9633f52b",
   "metadata": {
    "ExecuteTime": {
     "end_time": "2024-04-29T18:45:48.362048Z",
     "start_time": "2024-04-29T18:45:48.298513Z"
    },
    "execution": {
     "iopub.execute_input": "2024-05-02T13:07:47.438145Z",
     "iopub.status.busy": "2024-05-02T13:07:47.437786Z",
     "iopub.status.idle": "2024-05-02T13:07:47.470339Z",
     "shell.execute_reply": "2024-05-02T13:07:47.469456Z"
    },
    "papermill": {
     "duration": 0.0946,
     "end_time": "2024-05-02T13:07:47.472239",
     "exception": false,
     "start_time": "2024-05-02T13:07:47.377639",
     "status": "completed"
    },
    "tags": []
   },
   "outputs": [
    {
     "data": {
      "text/plain": [
       "32518    CUS_0x7b61\n",
       "7968     CUS_0x36da\n",
       "96630    CUS_0xb019\n",
       "Name: customer_id, dtype: object"
      ]
     },
     "execution_count": 93,
     "metadata": {},
     "output_type": "execute_result"
    }
   ],
   "source": [
    "df.loc[df[\"payment_behaviour\"]==\"!@9#%8\"][\"customer_id\"].sample(3)"
   ]
  },
  {
   "cell_type": "code",
   "execution_count": 94,
   "id": "42791592",
   "metadata": {
    "ExecuteTime": {
     "end_time": "2024-04-29T18:46:56.777866Z",
     "start_time": "2024-04-29T18:46:56.682126Z"
    },
    "execution": {
     "iopub.execute_input": "2024-05-02T13:07:47.594201Z",
     "iopub.status.busy": "2024-05-02T13:07:47.593837Z",
     "iopub.status.idle": "2024-05-02T13:07:47.650841Z",
     "shell.execute_reply": "2024-05-02T13:07:47.649736Z"
    },
    "papermill": {
     "duration": 0.120229,
     "end_time": "2024-05-02T13:07:47.653239",
     "exception": false,
     "start_time": "2024-05-02T13:07:47.533010",
     "status": "completed"
    },
    "tags": []
   },
   "outputs": [
    {
     "data": {
      "text/html": [
       "<div>\n",
       "<style scoped>\n",
       "    .dataframe tbody tr th:only-of-type {\n",
       "        vertical-align: middle;\n",
       "    }\n",
       "\n",
       "    .dataframe tbody tr th {\n",
       "        vertical-align: top;\n",
       "    }\n",
       "\n",
       "    .dataframe thead th {\n",
       "        text-align: right;\n",
       "    }\n",
       "</style>\n",
       "<table border=\"1\" class=\"dataframe\">\n",
       "  <thead>\n",
       "    <tr style=\"text-align: right;\">\n",
       "      <th></th>\n",
       "      <th>id</th>\n",
       "      <th>customer_id</th>\n",
       "      <th>month</th>\n",
       "      <th>name</th>\n",
       "      <th>age</th>\n",
       "      <th>ssn</th>\n",
       "      <th>occupation</th>\n",
       "      <th>annual_income</th>\n",
       "      <th>monthly_inhand_salary</th>\n",
       "      <th>num_bank_accounts</th>\n",
       "      <th>num_credit_card</th>\n",
       "      <th>interest_rate</th>\n",
       "      <th>num_of_loan</th>\n",
       "      <th>type_of_loan</th>\n",
       "      <th>delay_from_due_date</th>\n",
       "      <th>num_of_delayed_payment</th>\n",
       "      <th>changed_credit_limit</th>\n",
       "      <th>num_credit_inquiries</th>\n",
       "      <th>credit_mix</th>\n",
       "      <th>outstanding_debt</th>\n",
       "      <th>credit_utilization_ratio</th>\n",
       "      <th>credit_history_age</th>\n",
       "      <th>payment_of_min_amount</th>\n",
       "      <th>total_emi_per_month</th>\n",
       "      <th>amount_invested_monthly</th>\n",
       "      <th>payment_behaviour</th>\n",
       "      <th>monthly_balance</th>\n",
       "      <th>credit_score</th>\n",
       "    </tr>\n",
       "  </thead>\n",
       "  <tbody>\n",
       "    <tr>\n",
       "      <th>21320</th>\n",
       "      <td>0x92ee</td>\n",
       "      <td>CUS_0xc9f</td>\n",
       "      <td>January</td>\n",
       "      <td>Jennifert</td>\n",
       "      <td>14.000</td>\n",
       "      <td>594-51-0874</td>\n",
       "      <td>Scientist</td>\n",
       "      <td>21382.81</td>\n",
       "      <td>1684.901</td>\n",
       "      <td>7</td>\n",
       "      <td>5</td>\n",
       "      <td>14</td>\n",
       "      <td>2</td>\n",
       "      <td>Debt Consolidation Loan, and Auto Loan</td>\n",
       "      <td>18</td>\n",
       "      <td>9</td>\n",
       "      <td>14.18</td>\n",
       "      <td>4.000</td>\n",
       "      <td>Standard</td>\n",
       "      <td>1059.86</td>\n",
       "      <td>28.268</td>\n",
       "      <td>82</td>\n",
       "      <td>NM</td>\n",
       "      <td>67839.000</td>\n",
       "      <td>143.294</td>\n",
       "      <td>Low_spent_Small_value_payments</td>\n",
       "      <td>284.486</td>\n",
       "      <td>Standard</td>\n",
       "    </tr>\n",
       "    <tr>\n",
       "      <th>21321</th>\n",
       "      <td>0x92ef</td>\n",
       "      <td>CUS_0xc9f</td>\n",
       "      <td>February</td>\n",
       "      <td>Jennifert</td>\n",
       "      <td>15.000</td>\n",
       "      <td>594-51-0874</td>\n",
       "      <td>Scientist</td>\n",
       "      <td>21382.81</td>\n",
       "      <td>1684.901</td>\n",
       "      <td>7</td>\n",
       "      <td>5</td>\n",
       "      <td>14</td>\n",
       "      <td>2</td>\n",
       "      <td>Debt Consolidation Loan, and Auto Loan</td>\n",
       "      <td>23</td>\n",
       "      <td>11</td>\n",
       "      <td>14.18</td>\n",
       "      <td>4.000</td>\n",
       "      <td>Standard</td>\n",
       "      <td>1059.86</td>\n",
       "      <td>39.330</td>\n",
       "      <td>83</td>\n",
       "      <td>Yes</td>\n",
       "      <td>30.710</td>\n",
       "      <td>214.454</td>\n",
       "      <td>!@9#%8</td>\n",
       "      <td>213.326</td>\n",
       "      <td>Standard</td>\n",
       "    </tr>\n",
       "    <tr>\n",
       "      <th>21322</th>\n",
       "      <td>0x92f0</td>\n",
       "      <td>CUS_0xc9f</td>\n",
       "      <td>March</td>\n",
       "      <td>Jennifert</td>\n",
       "      <td>15.000</td>\n",
       "      <td>594-51-0874</td>\n",
       "      <td>Scientist</td>\n",
       "      <td>21382.81</td>\n",
       "      <td>1684.901</td>\n",
       "      <td>7</td>\n",
       "      <td>5</td>\n",
       "      <td>14</td>\n",
       "      <td>2</td>\n",
       "      <td>Debt Consolidation Loan, and Auto Loan</td>\n",
       "      <td>23</td>\n",
       "      <td>9</td>\n",
       "      <td>14.18</td>\n",
       "      <td>4.000</td>\n",
       "      <td>Standard</td>\n",
       "      <td>1059.86</td>\n",
       "      <td>32.736</td>\n",
       "      <td>84</td>\n",
       "      <td>Yes</td>\n",
       "      <td>30.710</td>\n",
       "      <td>40.948</td>\n",
       "      <td>High_spent_Large_value_payments</td>\n",
       "      <td>336.832</td>\n",
       "      <td>Standard</td>\n",
       "    </tr>\n",
       "    <tr>\n",
       "      <th>21323</th>\n",
       "      <td>0x92f1</td>\n",
       "      <td>CUS_0xc9f</td>\n",
       "      <td>April</td>\n",
       "      <td>Jennifert</td>\n",
       "      <td>15.000</td>\n",
       "      <td>594-51-0874</td>\n",
       "      <td>Scientist</td>\n",
       "      <td>21382.81</td>\n",
       "      <td>1684.901</td>\n",
       "      <td>7</td>\n",
       "      <td>5</td>\n",
       "      <td>14</td>\n",
       "      <td>2</td>\n",
       "      <td>Debt Consolidation Loan, and Auto Loan</td>\n",
       "      <td>18</td>\n",
       "      <td>11</td>\n",
       "      <td>14.18</td>\n",
       "      <td>4.000</td>\n",
       "      <td>Standard</td>\n",
       "      <td>1059.86</td>\n",
       "      <td>32.621</td>\n",
       "      <td>85</td>\n",
       "      <td>Yes</td>\n",
       "      <td>30.710</td>\n",
       "      <td>133.761</td>\n",
       "      <td>Low_spent_Small_value_payments</td>\n",
       "      <td>294.019</td>\n",
       "      <td>Standard</td>\n",
       "    </tr>\n",
       "    <tr>\n",
       "      <th>21324</th>\n",
       "      <td>0x92f2</td>\n",
       "      <td>CUS_0xc9f</td>\n",
       "      <td>May</td>\n",
       "      <td>Jennifert</td>\n",
       "      <td>15.000</td>\n",
       "      <td>594-51-0874</td>\n",
       "      <td>Scientist</td>\n",
       "      <td>21382.81</td>\n",
       "      <td>1684.901</td>\n",
       "      <td>7</td>\n",
       "      <td>5</td>\n",
       "      <td>14</td>\n",
       "      <td>2</td>\n",
       "      <td>Debt Consolidation Loan, and Auto Loan</td>\n",
       "      <td>22</td>\n",
       "      <td>11</td>\n",
       "      <td>14.18</td>\n",
       "      <td>4.000</td>\n",
       "      <td>Standard</td>\n",
       "      <td>1059.86</td>\n",
       "      <td>32.024</td>\n",
       "      <td>86</td>\n",
       "      <td>Yes</td>\n",
       "      <td>30.710</td>\n",
       "      <td>157.990</td>\n",
       "      <td>!@9#%8</td>\n",
       "      <td>249.790</td>\n",
       "      <td>Standard</td>\n",
       "    </tr>\n",
       "    <tr>\n",
       "      <th>21325</th>\n",
       "      <td>0x92f3</td>\n",
       "      <td>CUS_0xc9f</td>\n",
       "      <td>June</td>\n",
       "      <td>Jennifert</td>\n",
       "      <td>14.000</td>\n",
       "      <td>594-51-0874</td>\n",
       "      <td>Scientist</td>\n",
       "      <td>21382.81</td>\n",
       "      <td>1684.901</td>\n",
       "      <td>7</td>\n",
       "      <td>5</td>\n",
       "      <td>14</td>\n",
       "      <td>2</td>\n",
       "      <td>Debt Consolidation Loan, and Auto Loan</td>\n",
       "      <td>18</td>\n",
       "      <td>11</td>\n",
       "      <td>14.18</td>\n",
       "      <td>4.000</td>\n",
       "      <td>Standard</td>\n",
       "      <td>1059.86</td>\n",
       "      <td>24.024</td>\n",
       "      <td>87</td>\n",
       "      <td>Yes</td>\n",
       "      <td>65762.000</td>\n",
       "      <td>42.489</td>\n",
       "      <td>High_spent_Medium_value_payments</td>\n",
       "      <td>345.291</td>\n",
       "      <td>Standard</td>\n",
       "    </tr>\n",
       "    <tr>\n",
       "      <th>21326</th>\n",
       "      <td>0x92f4</td>\n",
       "      <td>CUS_0xc9f</td>\n",
       "      <td>July</td>\n",
       "      <td>Jennifert</td>\n",
       "      <td>14.000</td>\n",
       "      <td>594-51-0874</td>\n",
       "      <td>Scientist</td>\n",
       "      <td>21382.81</td>\n",
       "      <td>1684.901</td>\n",
       "      <td>7</td>\n",
       "      <td>5</td>\n",
       "      <td>14</td>\n",
       "      <td>2</td>\n",
       "      <td>Debt Consolidation Loan, and Auto Loan</td>\n",
       "      <td>19</td>\n",
       "      <td>11</td>\n",
       "      <td>7.18</td>\n",
       "      <td>8.000</td>\n",
       "      <td>Standard</td>\n",
       "      <td>1059.86</td>\n",
       "      <td>25.803</td>\n",
       "      <td>88</td>\n",
       "      <td>NM</td>\n",
       "      <td>30.710</td>\n",
       "      <td>10000.000</td>\n",
       "      <td>High_spent_Large_value_payments</td>\n",
       "      <td>365.335</td>\n",
       "      <td>Standard</td>\n",
       "    </tr>\n",
       "    <tr>\n",
       "      <th>21327</th>\n",
       "      <td>0x92f5</td>\n",
       "      <td>CUS_0xc9f</td>\n",
       "      <td>August</td>\n",
       "      <td>Jennifert</td>\n",
       "      <td>15.000</td>\n",
       "      <td>#F%$D@*&amp;8</td>\n",
       "      <td>Scientist</td>\n",
       "      <td>21382.81</td>\n",
       "      <td>1684.901</td>\n",
       "      <td>7</td>\n",
       "      <td>5</td>\n",
       "      <td>14</td>\n",
       "      <td>2</td>\n",
       "      <td>Debt Consolidation Loan, and Auto Loan</td>\n",
       "      <td>17</td>\n",
       "      <td>11</td>\n",
       "      <td>18.18</td>\n",
       "      <td>8.000</td>\n",
       "      <td>Standard</td>\n",
       "      <td>1059.86</td>\n",
       "      <td>33.045</td>\n",
       "      <td>89</td>\n",
       "      <td>Yes</td>\n",
       "      <td>30.710</td>\n",
       "      <td>100.701</td>\n",
       "      <td>Low_spent_Small_value_payments</td>\n",
       "      <td>327.079</td>\n",
       "      <td>Standard</td>\n",
       "    </tr>\n",
       "  </tbody>\n",
       "</table>\n",
       "</div>"
      ],
      "text/plain": [
       "           id customer_id     month       name    age          ssn occupation  \\\n",
       "21320  0x92ee   CUS_0xc9f   January  Jennifert 14.000  594-51-0874  Scientist   \n",
       "21321  0x92ef   CUS_0xc9f  February  Jennifert 15.000  594-51-0874  Scientist   \n",
       "21322  0x92f0   CUS_0xc9f     March  Jennifert 15.000  594-51-0874  Scientist   \n",
       "21323  0x92f1   CUS_0xc9f     April  Jennifert 15.000  594-51-0874  Scientist   \n",
       "21324  0x92f2   CUS_0xc9f       May  Jennifert 15.000  594-51-0874  Scientist   \n",
       "21325  0x92f3   CUS_0xc9f      June  Jennifert 14.000  594-51-0874  Scientist   \n",
       "21326  0x92f4   CUS_0xc9f      July  Jennifert 14.000  594-51-0874  Scientist   \n",
       "21327  0x92f5   CUS_0xc9f    August  Jennifert 15.000    #F%$D@*&8  Scientist   \n",
       "\n",
       "      annual_income  monthly_inhand_salary  num_bank_accounts  \\\n",
       "21320      21382.81               1684.901                  7   \n",
       "21321      21382.81               1684.901                  7   \n",
       "21322      21382.81               1684.901                  7   \n",
       "21323      21382.81               1684.901                  7   \n",
       "21324      21382.81               1684.901                  7   \n",
       "21325      21382.81               1684.901                  7   \n",
       "21326      21382.81               1684.901                  7   \n",
       "21327      21382.81               1684.901                  7   \n",
       "\n",
       "       num_credit_card  interest_rate num_of_loan  \\\n",
       "21320                5             14           2   \n",
       "21321                5             14           2   \n",
       "21322                5             14           2   \n",
       "21323                5             14           2   \n",
       "21324                5             14           2   \n",
       "21325                5             14           2   \n",
       "21326                5             14           2   \n",
       "21327                5             14           2   \n",
       "\n",
       "                                 type_of_loan  delay_from_due_date  \\\n",
       "21320  Debt Consolidation Loan, and Auto Loan                   18   \n",
       "21321  Debt Consolidation Loan, and Auto Loan                   23   \n",
       "21322  Debt Consolidation Loan, and Auto Loan                   23   \n",
       "21323  Debt Consolidation Loan, and Auto Loan                   18   \n",
       "21324  Debt Consolidation Loan, and Auto Loan                   22   \n",
       "21325  Debt Consolidation Loan, and Auto Loan                   18   \n",
       "21326  Debt Consolidation Loan, and Auto Loan                   19   \n",
       "21327  Debt Consolidation Loan, and Auto Loan                   17   \n",
       "\n",
       "      num_of_delayed_payment changed_credit_limit  num_credit_inquiries  \\\n",
       "21320                      9                14.18                 4.000   \n",
       "21321                     11                14.18                 4.000   \n",
       "21322                      9                14.18                 4.000   \n",
       "21323                     11                14.18                 4.000   \n",
       "21324                     11                14.18                 4.000   \n",
       "21325                     11                14.18                 4.000   \n",
       "21326                     11                 7.18                 8.000   \n",
       "21327                     11                18.18                 8.000   \n",
       "\n",
       "      credit_mix outstanding_debt  credit_utilization_ratio  \\\n",
       "21320   Standard          1059.86                    28.268   \n",
       "21321   Standard          1059.86                    39.330   \n",
       "21322   Standard          1059.86                    32.736   \n",
       "21323   Standard          1059.86                    32.621   \n",
       "21324   Standard          1059.86                    32.024   \n",
       "21325   Standard          1059.86                    24.024   \n",
       "21326   Standard          1059.86                    25.803   \n",
       "21327   Standard          1059.86                    33.045   \n",
       "\n",
       "       credit_history_age payment_of_min_amount  total_emi_per_month  \\\n",
       "21320                  82                    NM            67839.000   \n",
       "21321                  83                   Yes               30.710   \n",
       "21322                  84                   Yes               30.710   \n",
       "21323                  85                   Yes               30.710   \n",
       "21324                  86                   Yes               30.710   \n",
       "21325                  87                   Yes            65762.000   \n",
       "21326                  88                    NM               30.710   \n",
       "21327                  89                   Yes               30.710   \n",
       "\n",
       "       amount_invested_monthly                 payment_behaviour  \\\n",
       "21320                  143.294    Low_spent_Small_value_payments   \n",
       "21321                  214.454                            !@9#%8   \n",
       "21322                   40.948   High_spent_Large_value_payments   \n",
       "21323                  133.761    Low_spent_Small_value_payments   \n",
       "21324                  157.990                            !@9#%8   \n",
       "21325                   42.489  High_spent_Medium_value_payments   \n",
       "21326                10000.000   High_spent_Large_value_payments   \n",
       "21327                  100.701    Low_spent_Small_value_payments   \n",
       "\n",
       "       monthly_balance credit_score  \n",
       "21320          284.486     Standard  \n",
       "21321          213.326     Standard  \n",
       "21322          336.832     Standard  \n",
       "21323          294.019     Standard  \n",
       "21324          249.790     Standard  \n",
       "21325          345.291     Standard  \n",
       "21326          365.335     Standard  \n",
       "21327          327.079     Standard  "
      ]
     },
     "execution_count": 94,
     "metadata": {},
     "output_type": "execute_result"
    }
   ],
   "source": [
    "df.loc[df[\"customer_id\"]==\"CUS_0xc9f\"]"
   ]
  },
  {
   "cell_type": "code",
   "execution_count": 95,
   "id": "2141000b",
   "metadata": {
    "ExecuteTime": {
     "end_time": "2024-04-29T18:48:33.143973Z",
     "start_time": "2024-04-29T18:48:33.104987Z"
    },
    "execution": {
     "iopub.execute_input": "2024-05-02T13:07:47.795556Z",
     "iopub.status.busy": "2024-05-02T13:07:47.795182Z",
     "iopub.status.idle": "2024-05-02T13:07:47.823012Z",
     "shell.execute_reply": "2024-05-02T13:07:47.821853Z"
    },
    "papermill": {
     "duration": 0.106934,
     "end_time": "2024-05-02T13:07:47.825507",
     "exception": false,
     "start_time": "2024-05-02T13:07:47.718573",
     "status": "completed"
    },
    "tags": []
   },
   "outputs": [
    {
     "data": {
      "text/plain": [
       "array(['Low_spent_Small_value_payments', '!@9#%8',\n",
       "       'High_spent_Large_value_payments',\n",
       "       'High_spent_Medium_value_payments'], dtype=object)"
      ]
     },
     "execution_count": 95,
     "metadata": {},
     "output_type": "execute_result"
    }
   ],
   "source": [
    "df.loc[df[\"customer_id\"]==\"CUS_0xc9f\"][\"payment_behaviour\"].unique()"
   ]
  },
  {
   "cell_type": "code",
   "execution_count": 96,
   "id": "59472157",
   "metadata": {
    "ExecuteTime": {
     "end_time": "2024-04-29T18:57:35.952220Z",
     "start_time": "2024-04-29T18:57:35.908259Z"
    },
    "execution": {
     "iopub.execute_input": "2024-05-02T13:07:47.970468Z",
     "iopub.status.busy": "2024-05-02T13:07:47.970109Z",
     "iopub.status.idle": "2024-05-02T13:07:47.997108Z",
     "shell.execute_reply": "2024-05-02T13:07:47.996161Z"
    },
    "papermill": {
     "duration": 0.092172,
     "end_time": "2024-05-02T13:07:47.999703",
     "exception": false,
     "start_time": "2024-05-02T13:07:47.907531",
     "status": "completed"
    },
    "tags": []
   },
   "outputs": [
    {
     "data": {
      "text/plain": [
       "payment_behaviour\n",
       "Low_spent_Small_value_payments      3\n",
       "!@9#%8                              2\n",
       "High_spent_Large_value_payments     2\n",
       "High_spent_Medium_value_payments    1\n",
       "Name: count, dtype: int64"
      ]
     },
     "execution_count": 96,
     "metadata": {},
     "output_type": "execute_result"
    }
   ],
   "source": [
    "df.loc[df[\"customer_id\"]==\"CUS_0xc9f\"][\"payment_behaviour\"].value_counts()"
   ]
  },
  {
   "cell_type": "code",
   "execution_count": 97,
   "id": "8610fd01",
   "metadata": {
    "ExecuteTime": {
     "end_time": "2024-04-29T19:15:20.978016Z",
     "start_time": "2024-04-29T19:15:20.929052Z"
    },
    "execution": {
     "iopub.execute_input": "2024-05-02T13:07:48.149767Z",
     "iopub.status.busy": "2024-05-02T13:07:48.149301Z",
     "iopub.status.idle": "2024-05-02T13:07:48.180777Z",
     "shell.execute_reply": "2024-05-02T13:07:48.179656Z"
    },
    "papermill": {
     "duration": 0.098233,
     "end_time": "2024-05-02T13:07:48.183125",
     "exception": false,
     "start_time": "2024-05-02T13:07:48.084892",
     "status": "completed"
    },
    "tags": []
   },
   "outputs": [
    {
     "data": {
      "text/plain": [
       "payment_behaviour\n",
       "High_spent_Large_value_payments    2\n",
       "!@9#%8                             2\n",
       "Low_spent_Small_value_payments     2\n",
       "Low_spent_Medium_value_payments    1\n",
       "High_spent_Small_value_payments    1\n",
       "Name: count, dtype: int64"
      ]
     },
     "execution_count": 97,
     "metadata": {},
     "output_type": "execute_result"
    }
   ],
   "source": [
    "df.loc[df[\"customer_id\"]==\"CUS_0xb201\"][\"payment_behaviour\"].value_counts()"
   ]
  },
  {
   "cell_type": "code",
   "execution_count": 98,
   "id": "0186ff6b",
   "metadata": {
    "ExecuteTime": {
     "end_time": "2024-04-29T21:38:22.583977Z",
     "start_time": "2024-04-29T21:38:22.546133Z"
    },
    "execution": {
     "iopub.execute_input": "2024-05-02T13:07:48.306723Z",
     "iopub.status.busy": "2024-05-02T13:07:48.305910Z",
     "iopub.status.idle": "2024-05-02T13:07:48.341299Z",
     "shell.execute_reply": "2024-05-02T13:07:48.340459Z"
    },
    "papermill": {
     "duration": 0.098648,
     "end_time": "2024-05-02T13:07:48.343312",
     "exception": false,
     "start_time": "2024-05-02T13:07:48.244664",
     "status": "completed"
    },
    "tags": []
   },
   "outputs": [],
   "source": [
    "undetermined_idx = df.loc[df[\"payment_behaviour\"]==\"!@9#%8\"][\"customer_id\"].unique()"
   ]
  },
  {
   "cell_type": "code",
   "execution_count": 99,
   "id": "536cf2e4",
   "metadata": {
    "ExecuteTime": {
     "end_time": "2024-04-29T21:44:46.594328Z",
     "start_time": "2024-04-29T21:38:25.058850Z"
    },
    "execution": {
     "iopub.execute_input": "2024-05-02T13:07:48.464006Z",
     "iopub.status.busy": "2024-05-02T13:07:48.463593Z",
     "iopub.status.idle": "2024-05-02T13:14:50.707988Z",
     "shell.execute_reply": "2024-05-02T13:14:50.707177Z"
    },
    "papermill": {
     "duration": 422.308279,
     "end_time": "2024-05-02T13:14:50.710456",
     "exception": false,
     "start_time": "2024-05-02T13:07:48.402177",
     "status": "completed"
    },
    "tags": []
   },
   "outputs": [],
   "source": [
    "for customer_id in undetermined_idx:\n",
    "    \n",
    "        customer_ids = df[(df['customer_id'] == customer_id) & (df['payment_behaviour'] != \"!@9#%8\")]\n",
    "        freq = customer_ids['payment_behaviour'].mode()[0]\n",
    "        df.loc[(df['customer_id'] == customer_id) & (df['payment_behaviour'] == \"!@9#%8\"), 'payment_behaviour'] = freq\n",
    "              \n",
    "    "
   ]
  },
  {
   "cell_type": "markdown",
   "id": "00dc0954",
   "metadata": {
    "papermill": {
     "duration": 0.059178,
     "end_time": "2024-05-02T13:14:50.829440",
     "exception": false,
     "start_time": "2024-05-02T13:14:50.770262",
     "status": "completed"
    },
    "tags": []
   },
   "source": [
    "#### *I want to see the results of the changes I made*"
   ]
  },
  {
   "cell_type": "code",
   "execution_count": 100,
   "id": "1392ca02",
   "metadata": {
    "ExecuteTime": {
     "end_time": "2024-04-29T21:45:00.959245Z",
     "start_time": "2024-04-29T21:45:00.932480Z"
    },
    "execution": {
     "iopub.execute_input": "2024-05-02T13:14:50.951924Z",
     "iopub.status.busy": "2024-05-02T13:14:50.951259Z",
     "iopub.status.idle": "2024-05-02T13:14:50.974263Z",
     "shell.execute_reply": "2024-05-02T13:14:50.973368Z"
    },
    "papermill": {
     "duration": 0.084883,
     "end_time": "2024-05-02T13:14:50.976167",
     "exception": false,
     "start_time": "2024-05-02T13:14:50.891284",
     "status": "completed"
    },
    "tags": []
   },
   "outputs": [
    {
     "data": {
      "text/plain": [
       "array(['Low_spent_Small_value_payments',\n",
       "       'High_spent_Large_value_payments',\n",
       "       'High_spent_Medium_value_payments'], dtype=object)"
      ]
     },
     "execution_count": 100,
     "metadata": {},
     "output_type": "execute_result"
    }
   ],
   "source": [
    "df.loc[df[\"customer_id\"]==\"CUS_0xc9f\"][\"payment_behaviour\"].unique()"
   ]
  },
  {
   "cell_type": "code",
   "execution_count": 101,
   "id": "42c77efc",
   "metadata": {
    "ExecuteTime": {
     "end_time": "2024-04-29T20:41:22.331505Z",
     "start_time": "2024-04-29T20:41:22.301736Z"
    },
    "execution": {
     "iopub.execute_input": "2024-05-02T13:14:51.096882Z",
     "iopub.status.busy": "2024-05-02T13:14:51.096569Z",
     "iopub.status.idle": "2024-05-02T13:14:51.123804Z",
     "shell.execute_reply": "2024-05-02T13:14:51.122856Z"
    },
    "papermill": {
     "duration": 0.090724,
     "end_time": "2024-05-02T13:14:51.126031",
     "exception": false,
     "start_time": "2024-05-02T13:14:51.035307",
     "status": "completed"
    },
    "tags": []
   },
   "outputs": [
    {
     "data": {
      "text/plain": [
       "payment_behaviour\n",
       "High_spent_Large_value_payments    4\n",
       "Low_spent_Small_value_payments     2\n",
       "Low_spent_Medium_value_payments    1\n",
       "High_spent_Small_value_payments    1\n",
       "Name: count, dtype: int64"
      ]
     },
     "execution_count": 101,
     "metadata": {},
     "output_type": "execute_result"
    }
   ],
   "source": [
    "df.loc[df[\"customer_id\"]==\"CUS_0xb201\"][\"payment_behaviour\"].value_counts()"
   ]
  },
  {
   "cell_type": "code",
   "execution_count": 102,
   "id": "39eae8f1",
   "metadata": {
    "ExecuteTime": {
     "end_time": "2024-04-29T21:45:42.411148Z",
     "start_time": "2024-04-29T21:45:42.363777Z"
    },
    "execution": {
     "iopub.execute_input": "2024-05-02T13:14:51.253760Z",
     "iopub.status.busy": "2024-05-02T13:14:51.253387Z",
     "iopub.status.idle": "2024-05-02T13:14:51.278993Z",
     "shell.execute_reply": "2024-05-02T13:14:51.278098Z"
    },
    "papermill": {
     "duration": 0.090737,
     "end_time": "2024-05-02T13:14:51.281406",
     "exception": false,
     "start_time": "2024-05-02T13:14:51.190669",
     "status": "completed"
    },
    "tags": []
   },
   "outputs": [
    {
     "data": {
      "text/plain": [
       "payment_behaviour\n",
       "Low_spent_Small_value_payments      5\n",
       "High_spent_Large_value_payments     2\n",
       "High_spent_Medium_value_payments    1\n",
       "Name: count, dtype: int64"
      ]
     },
     "execution_count": 102,
     "metadata": {},
     "output_type": "execute_result"
    }
   ],
   "source": [
    "df.loc[df[\"customer_id\"]==\"CUS_0xc9f\"][\"payment_behaviour\"].value_counts()"
   ]
  },
  {
   "cell_type": "code",
   "execution_count": 103,
   "id": "e82f8716",
   "metadata": {
    "ExecuteTime": {
     "end_time": "2024-04-29T21:45:45.206280Z",
     "start_time": "2024-04-29T21:45:45.172995Z"
    },
    "execution": {
     "iopub.execute_input": "2024-05-02T13:14:51.411280Z",
     "iopub.status.busy": "2024-05-02T13:14:51.410923Z",
     "iopub.status.idle": "2024-05-02T13:14:51.438168Z",
     "shell.execute_reply": "2024-05-02T13:14:51.437243Z"
    },
    "papermill": {
     "duration": 0.0924,
     "end_time": "2024-05-02T13:14:51.440224",
     "exception": false,
     "start_time": "2024-05-02T13:14:51.347824",
     "status": "completed"
    },
    "tags": []
   },
   "outputs": [
    {
     "data": {
      "text/plain": [
       "payment_behaviour\n",
       "High_spent_Medium_value_payments    5\n",
       "Low_spent_Small_value_payments      2\n",
       "High_spent_Small_value_payments     1\n",
       "Name: count, dtype: int64"
      ]
     },
     "execution_count": 103,
     "metadata": {},
     "output_type": "execute_result"
    }
   ],
   "source": [
    "df.loc[df[\"customer_id\"]==\"CUS_0x4437\"][\"payment_behaviour\"].value_counts()"
   ]
  },
  {
   "cell_type": "code",
   "execution_count": 104,
   "id": "4f3b8812",
   "metadata": {
    "ExecuteTime": {
     "end_time": "2024-04-29T21:45:48.551334Z",
     "start_time": "2024-04-29T21:45:48.523099Z"
    },
    "execution": {
     "iopub.execute_input": "2024-05-02T13:14:51.585052Z",
     "iopub.status.busy": "2024-05-02T13:14:51.584339Z",
     "iopub.status.idle": "2024-05-02T13:14:51.606635Z",
     "shell.execute_reply": "2024-05-02T13:14:51.605637Z"
    },
    "papermill": {
     "duration": 0.088298,
     "end_time": "2024-05-02T13:14:51.608682",
     "exception": false,
     "start_time": "2024-05-02T13:14:51.520384",
     "status": "completed"
    },
    "tags": []
   },
   "outputs": [
    {
     "name": "stdout",
     "output_type": "stream",
     "text": [
      "Unmatched value: Low_spent_Small_value_payments\n",
      "Unmatched value: High_spent_Medium_value_payments\n",
      "Unmatched value: High_spent_Large_value_payments\n",
      "Unmatched value: Low_spent_Medium_value_payments\n",
      "Unmatched value: High_spent_Small_value_payments\n",
      "Unmatched value: Low_spent_Large_value_payments\n"
     ]
    }
   ],
   "source": [
    "for text in df[\"payment_behaviour\"].value_counts().index:\n",
    "    if re.search(pattern, text):\n",
    "        print(\"Matched value:\", text)\n",
    "    else:\n",
    "        print(\"Unmatched value:\", text)"
   ]
  },
  {
   "cell_type": "markdown",
   "id": "53e8c78b",
   "metadata": {
    "papermill": {
     "duration": 0.062475,
     "end_time": "2024-05-02T13:14:51.732418",
     "exception": false,
     "start_time": "2024-05-02T13:14:51.669943",
     "status": "completed"
    },
    "tags": []
   },
   "source": [
    "### Type Of Loan Feature"
   ]
  },
  {
   "cell_type": "code",
   "execution_count": 105,
   "id": "de1824f8",
   "metadata": {
    "ExecuteTime": {
     "end_time": "2024-04-29T21:47:17.968953Z",
     "start_time": "2024-04-29T21:47:17.941236Z"
    },
    "execution": {
     "iopub.execute_input": "2024-05-02T13:14:51.857818Z",
     "iopub.status.busy": "2024-05-02T13:14:51.857259Z",
     "iopub.status.idle": "2024-05-02T13:14:51.872783Z",
     "shell.execute_reply": "2024-05-02T13:14:51.871963Z"
    },
    "papermill": {
     "duration": 0.079828,
     "end_time": "2024-05-02T13:14:51.874741",
     "exception": false,
     "start_time": "2024-05-02T13:14:51.794913",
     "status": "completed"
    },
    "tags": []
   },
   "outputs": [
    {
     "data": {
      "text/plain": [
       "11406"
      ]
     },
     "execution_count": 105,
     "metadata": {},
     "output_type": "execute_result"
    }
   ],
   "source": [
    "df[\"type_of_loan\"].isna().sum()"
   ]
  },
  {
   "cell_type": "code",
   "execution_count": 106,
   "id": "d8e040f7",
   "metadata": {
    "ExecuteTime": {
     "end_time": "2024-04-29T21:51:57.281975Z",
     "start_time": "2024-04-29T21:51:57.236176Z"
    },
    "execution": {
     "iopub.execute_input": "2024-05-02T13:14:52.002730Z",
     "iopub.status.busy": "2024-05-02T13:14:52.001832Z",
     "iopub.status.idle": "2024-05-02T13:14:52.031380Z",
     "shell.execute_reply": "2024-05-02T13:14:52.030453Z"
    },
    "papermill": {
     "duration": 0.098275,
     "end_time": "2024-05-02T13:14:52.033475",
     "exception": false,
     "start_time": "2024-05-02T13:14:51.935200",
     "status": "completed"
    },
    "tags": []
   },
   "outputs": [
    {
     "data": {
      "text/plain": [
       "558"
      ]
     },
     "execution_count": 106,
     "metadata": {},
     "output_type": "execute_result"
    }
   ],
   "source": [
    "df.loc[df[\"occupation\"]==\"Writer\"][\"type_of_loan\"].nunique()"
   ]
  },
  {
   "cell_type": "code",
   "execution_count": 107,
   "id": "093d6c30",
   "metadata": {
    "ExecuteTime": {
     "end_time": "2024-04-29T21:55:49.547287Z",
     "start_time": "2024-04-29T21:55:49.446471Z"
    },
    "execution": {
     "iopub.execute_input": "2024-05-02T13:14:52.163733Z",
     "iopub.status.busy": "2024-05-02T13:14:52.163384Z",
     "iopub.status.idle": "2024-05-02T13:14:52.233359Z",
     "shell.execute_reply": "2024-05-02T13:14:52.232255Z"
    },
    "papermill": {
     "duration": 0.133394,
     "end_time": "2024-05-02T13:14:52.235513",
     "exception": false,
     "start_time": "2024-05-02T13:14:52.102119",
     "status": "completed"
    },
    "tags": []
   },
   "outputs": [
    {
     "data": {
      "text/plain": [
       "num_of_loan\n",
       "3        14386\n",
       "2        14249\n",
       "4        14016\n",
       "1        10083\n",
       "6         7405\n",
       "7         6930\n",
       "5         6864\n",
       "9         3542\n",
       "-100      3459\n",
       "8         3035\n",
       "2_         782\n",
       "4_         727\n",
       "3_         718\n",
       "1_         523\n",
       "7_         414\n",
       "6_         398\n",
       "5_         332\n",
       "9_         160\n",
       "8_         156\n",
       "1150         4\n",
       "430          3\n",
       "1480         3\n",
       "1228         3\n",
       "1217         2\n",
       "141          2\n",
       "58           2\n",
       "1236         2\n",
       "661          2\n",
       "773          2\n",
       "936          2\n",
       "31           2\n",
       "229          2\n",
       "95           2\n",
       "404          2\n",
       "1354         2\n",
       "697          2\n",
       "23           2\n",
       "898          2\n",
       "875          2\n",
       "1241         2\n",
       "1259         2\n",
       "955          2\n",
       "288          2\n",
       "1463         2\n",
       "1181         2\n",
       "855          2\n",
       "1209         2\n",
       "192          2\n",
       "290          2\n",
       "1353         2\n",
       "284          2\n",
       "733          2\n",
       "466          2\n",
       "1214         2\n",
       "1127         2\n",
       "49           2\n",
       "251          2\n",
       "217          2\n",
       "1017         2\n",
       "1365         2\n",
       "1464         2\n",
       "352          2\n",
       "1412         2\n",
       "1054         1\n",
       "365          1\n",
       "1023         1\n",
       "1182         1\n",
       "1040         1\n",
       "1077         1\n",
       "1457         1\n",
       "1014         1\n",
       "291          1\n",
       "1129_        1\n",
       "679          1\n",
       "571          1\n",
       "1216         1\n",
       "809          1\n",
       "190          1\n",
       "1441         1\n",
       "227_         1\n",
       "1297         1\n",
       "891          1\n",
       "889          1\n",
       "935          1\n",
       "596          1\n",
       "868          1\n",
       "29           1\n",
       "1159         1\n",
       "1222         1\n",
       "742          1\n",
       "701          1\n",
       "19           1\n",
       "330          1\n",
       "1482         1\n",
       "1359         1\n",
       "27_          1\n",
       "1131_        1\n",
       "1393         1\n",
       "285          1\n",
       "462          1\n",
       "143_         1\n",
       "289          1\n",
       "87           1\n",
       "629          1\n",
       "447          1\n",
       "659          1\n",
       "387          1\n",
       "633          1\n",
       "237          1\n",
       "433          1\n",
       "1085         1\n",
       "148          1\n",
       "832          1\n",
       "1225         1\n",
       "295          1\n",
       "1171_        1\n",
       "101          1\n",
       "785_         1\n",
       "1320         1\n",
       "910          1\n",
       "814          1\n",
       "579          1\n",
       "201          1\n",
       "1294         1\n",
       "1189         1\n",
       "581          1\n",
       "737          1\n",
       "1485         1\n",
       "720          1\n",
       "444          1\n",
       "349          1\n",
       "216          1\n",
       "978          1\n",
       "41           1\n",
       "56           1\n",
       "895          1\n",
       "917          1\n",
       "1008         1\n",
       "1132_        1\n",
       "1307         1\n",
       "1196         1\n",
       "968          1\n",
       "1470         1\n",
       "628          1\n",
       "84           1\n",
       "344          1\n",
       "657          1\n",
       "1433         1\n",
       "457          1\n",
       "1152         1\n",
       "1110         1\n",
       "1001         1\n",
       "424          1\n",
       "186          1\n",
       "931          1\n",
       "848          1\n",
       "716          1\n",
       "1106         1\n",
       "1302         1\n",
       "1019         1\n",
       "92_          1\n",
       "640          1\n",
       "663          1\n",
       "119          1\n",
       "617          1\n",
       "597_         1\n",
       "843          1\n",
       "313          1\n",
       "39           1\n",
       "1219_        1\n",
       "802          1\n",
       "1178         1\n",
       "17           1\n",
       "501          1\n",
       "1300         1\n",
       "1036         1\n",
       "606          1\n",
       "1372         1\n",
       "1091         1\n",
       "867          1\n",
       "65           1\n",
       "1002         1\n",
       "873          1\n",
       "926          1\n",
       "316          1\n",
       "991          1\n",
       "1340         1\n",
       "1274         1\n",
       "520          1\n",
       "548          1\n",
       "686          1\n",
       "78           1\n",
       "1400         1\n",
       "136          1\n",
       "504          1\n",
       "1103         1\n",
       "526          1\n",
       "1210         1\n",
       "1112         1\n",
       "1279         1\n",
       "1271         1\n",
       "924          1\n",
       "1345         1\n",
       "1371         1\n",
       "753          1\n",
       "1053         1\n",
       "228          1\n",
       "636          1\n",
       "196          1\n",
       "1496         1\n",
       "1137         1\n",
       "696_         1\n",
       "1461         1\n",
       "1348         1\n",
       "1406         1\n",
       "323          1\n",
       "1363         1\n",
       "614          1\n",
       "348          1\n",
       "1204         1\n",
       "1094         1\n",
       "1187         1\n",
       "684          1\n",
       "545          1\n",
       "649          1\n",
       "132          1\n",
       "484          1\n",
       "329          1\n",
       "699          1\n",
       "33           1\n",
       "1047         1\n",
       "1039         1\n",
       "1135         1\n",
       "904          1\n",
       "1131         1\n",
       "420          1\n",
       "1474         1\n",
       "1096         1\n",
       "55           1\n",
       "455          1\n",
       "816          1\n",
       "70           1\n",
       "905          1\n",
       "1185_        1\n",
       "696          1\n",
       "590          1\n",
       "359          1\n",
       "795          1\n",
       "1006         1\n",
       "819          1\n",
       "1154         1\n",
       "1424         1\n",
       "1312         1\n",
       "1465         1\n",
       "1289         1\n",
       "1160         1\n",
       "838          1\n",
       "515          1\n",
       "464          1\n",
       "863          1\n",
       "254          1\n",
       "967          1\n",
       "966          1\n",
       "635          1\n",
       "227          1\n",
       "300          1\n",
       "52           1\n",
       "1298         1\n",
       "341          1\n",
       "563          1\n",
       "146          1\n",
       "945          1\n",
       "472          1\n",
       "622          1\n",
       "728          1\n",
       "529          1\n",
       "662          1\n",
       "653          1\n",
       "927          1\n",
       "497          1\n",
       "463          1\n",
       "275          1\n",
       "1384         1\n",
       "147          1\n",
       "799          1\n",
       "778          1\n",
       "656          1\n",
       "1265         1\n",
       "54           1\n",
       "958          1\n",
       "869          1\n",
       "242          1\n",
       "527_         1\n",
       "574          1\n",
       "182          1\n",
       "208          1\n",
       "351          1\n",
       "282          1\n",
       "32           1\n",
       "191          1\n",
       "860          1\n",
       "1329         1\n",
       "100          1\n",
       "781          1\n",
       "1318         1\n",
       "89           1\n",
       "302          1\n",
       "1202         1\n",
       "562          1\n",
       "939          1\n",
       "952          1\n",
       "321          1\n",
       "1439         1\n",
       "613          1\n",
       "1048         1\n",
       "777          1\n",
       "943          1\n",
       "1311_        1\n",
       "131_         1\n",
       "540          1\n",
       "123          1\n",
       "820          1\n",
       "492          1\n",
       "311          1\n",
       "597          1\n",
       "996          1\n",
       "1387         1\n",
       "510          1\n",
       "267          1\n",
       "243          1\n",
       "639          1\n",
       "1225_        1\n",
       "292          1\n",
       "359_         1\n",
       "833          1\n",
       "416          1\n",
       "757          1\n",
       "332          1\n",
       "752          1\n",
       "231          1\n",
       "1319         1\n",
       "1313         1\n",
       "601          1\n",
       "1391         1\n",
       "1495         1\n",
       "1459_        1\n",
       "494          1\n",
       "1088         1\n",
       "1484         1\n",
       "280          1\n",
       "235_         1\n",
       "138          1\n",
       "638          1\n",
       "319          1\n",
       "418          1\n",
       "983          1\n",
       "449          1\n",
       "527          1\n",
       "274          1\n",
       "164          1\n",
       "157          1\n",
       "137          1\n",
       "172          1\n",
       "1257         1\n",
       "1030         1\n",
       "405          1\n",
       "241          1\n",
       "630_         1\n",
       "745          1\n",
       "174          1\n",
       "392          1\n",
       "841          1\n",
       "1015         1\n",
       "198          1\n",
       "719          1\n",
       "1151         1\n",
       "438          1\n",
       "834          1\n",
       "1046         1\n",
       "961          1\n",
       "1320_        1\n",
       "Name: count, dtype: int64"
      ]
     },
     "execution_count": 107,
     "metadata": {},
     "output_type": "execute_result"
    }
   ],
   "source": [
    "df.loc[df[\"type_of_loan\"].notna()][\"num_of_loan\"].value_counts()"
   ]
  },
  {
   "cell_type": "markdown",
   "id": "b3382f5d",
   "metadata": {
    "papermill": {
     "duration": 0.061232,
     "end_time": "2024-05-02T13:14:52.361533",
     "exception": false,
     "start_time": "2024-05-02T13:14:52.300301",
     "status": "completed"
    },
    "tags": []
   },
   "source": [
    "##### ***Let's see if the value in the \"num of loan\" column is related to the number of elements of the list in \"type of loan\"***"
   ]
  },
  {
   "cell_type": "code",
   "execution_count": 108,
   "id": "39b81d75",
   "metadata": {
    "ExecuteTime": {
     "end_time": "2024-04-29T22:20:05.137572Z",
     "start_time": "2024-04-29T22:20:05.088461Z"
    },
    "execution": {
     "iopub.execute_input": "2024-05-02T13:14:52.487601Z",
     "iopub.status.busy": "2024-05-02T13:14:52.486799Z",
     "iopub.status.idle": "2024-05-02T13:14:52.518527Z",
     "shell.execute_reply": "2024-05-02T13:14:52.517584Z"
    },
    "papermill": {
     "duration": 0.095097,
     "end_time": "2024-05-02T13:14:52.520483",
     "exception": false,
     "start_time": "2024-05-02T13:14:52.425386",
     "status": "completed"
    },
    "tags": []
   },
   "outputs": [
    {
     "data": {
      "text/plain": [
       "55853         Student Loan, Not Specified, and Payday Loan\n",
       "78955    Debt Consolidation Loan, Not Specified, and Pe...\n",
       "12233    Personal Loan, Payday Loan, and Debt Consolida...\n",
       "92347    Credit-Builder Loan, Home Equity Loan, and Stu...\n",
       "62518       Home Equity Loan, Personal Loan, and Auto Loan\n",
       "Name: type_of_loan, dtype: object"
      ]
     },
     "execution_count": 108,
     "metadata": {},
     "output_type": "execute_result"
    }
   ],
   "source": [
    "df[df[\"num_of_loan\"] == \"3\"][\"type_of_loan\"].sample(5)"
   ]
  },
  {
   "cell_type": "code",
   "execution_count": 109,
   "id": "02f5d62c",
   "metadata": {
    "ExecuteTime": {
     "end_time": "2024-04-29T22:21:10.573940Z",
     "start_time": "2024-04-29T22:21:10.556834Z"
    },
    "execution": {
     "iopub.execute_input": "2024-05-02T13:14:52.643801Z",
     "iopub.status.busy": "2024-05-02T13:14:52.643197Z",
     "iopub.status.idle": "2024-05-02T13:14:52.652335Z",
     "shell.execute_reply": "2024-05-02T13:14:52.651466Z"
    },
    "papermill": {
     "duration": 0.072923,
     "end_time": "2024-05-02T13:14:52.654189",
     "exception": false,
     "start_time": "2024-05-02T13:14:52.581266",
     "status": "completed"
    },
    "tags": []
   },
   "outputs": [
    {
     "data": {
      "text/plain": [
       "['Credit-Builder Loan, Home Equity Loan, and Not Specified']"
      ]
     },
     "execution_count": 109,
     "metadata": {},
     "output_type": "execute_result"
    }
   ],
   "source": [
    "df.loc[[53636]][\"type_of_loan\"].tolist()"
   ]
  },
  {
   "cell_type": "code",
   "execution_count": 110,
   "id": "3b20b440",
   "metadata": {
    "ExecuteTime": {
     "end_time": "2024-04-29T22:21:49.018539Z",
     "start_time": "2024-04-29T22:21:49.002131Z"
    },
    "execution": {
     "iopub.execute_input": "2024-05-02T13:14:52.782699Z",
     "iopub.status.busy": "2024-05-02T13:14:52.782079Z",
     "iopub.status.idle": "2024-05-02T13:14:52.789679Z",
     "shell.execute_reply": "2024-05-02T13:14:52.788672Z"
    },
    "papermill": {
     "duration": 0.074956,
     "end_time": "2024-05-02T13:14:52.791944",
     "exception": false,
     "start_time": "2024-05-02T13:14:52.716988",
     "status": "completed"
    },
    "tags": []
   },
   "outputs": [
    {
     "data": {
      "text/plain": [
       "['Credit-Builder Loan, Not Specified, and Credit-Builder Loan']"
      ]
     },
     "execution_count": 110,
     "metadata": {},
     "output_type": "execute_result"
    }
   ],
   "source": [
    "df.loc[[23728]][\"type_of_loan\"].tolist()"
   ]
  },
  {
   "cell_type": "markdown",
   "id": "af2a2f19",
   "metadata": {
    "papermill": {
     "duration": 0.067915,
     "end_time": "2024-05-02T13:14:52.925078",
     "exception": false,
     "start_time": "2024-05-02T13:14:52.857163",
     "status": "completed"
    },
    "tags": []
   },
   "source": [
    "#### ***As I see above, record in the \"num_of_loan\" feature has same value with number of element of list in \"type_of_loan\" feature*** "
   ]
  },
  {
   "cell_type": "code",
   "execution_count": 111,
   "id": "4354bf4b",
   "metadata": {
    "ExecuteTime": {
     "end_time": "2024-04-29T21:59:26.698912Z",
     "start_time": "2024-04-29T21:59:26.643769Z"
    },
    "execution": {
     "iopub.execute_input": "2024-05-02T13:14:53.057585Z",
     "iopub.status.busy": "2024-05-02T13:14:53.057012Z",
     "iopub.status.idle": "2024-05-02T13:14:53.094954Z",
     "shell.execute_reply": "2024-05-02T13:14:53.094116Z"
    },
    "papermill": {
     "duration": 0.102315,
     "end_time": "2024-05-02T13:14:53.097172",
     "exception": false,
     "start_time": "2024-05-02T13:14:52.994857",
     "status": "completed"
    },
    "tags": []
   },
   "outputs": [
    {
     "data": {
      "text/html": [
       "<div>\n",
       "<style scoped>\n",
       "    .dataframe tbody tr th:only-of-type {\n",
       "        vertical-align: middle;\n",
       "    }\n",
       "\n",
       "    .dataframe tbody tr th {\n",
       "        vertical-align: top;\n",
       "    }\n",
       "\n",
       "    .dataframe thead th {\n",
       "        text-align: right;\n",
       "    }\n",
       "</style>\n",
       "<table border=\"1\" class=\"dataframe\">\n",
       "  <thead>\n",
       "    <tr style=\"text-align: right;\">\n",
       "      <th></th>\n",
       "      <th>id</th>\n",
       "      <th>customer_id</th>\n",
       "      <th>month</th>\n",
       "      <th>name</th>\n",
       "      <th>age</th>\n",
       "      <th>ssn</th>\n",
       "      <th>occupation</th>\n",
       "      <th>annual_income</th>\n",
       "      <th>monthly_inhand_salary</th>\n",
       "      <th>num_bank_accounts</th>\n",
       "      <th>num_credit_card</th>\n",
       "      <th>interest_rate</th>\n",
       "      <th>num_of_loan</th>\n",
       "      <th>type_of_loan</th>\n",
       "      <th>delay_from_due_date</th>\n",
       "      <th>num_of_delayed_payment</th>\n",
       "      <th>changed_credit_limit</th>\n",
       "      <th>num_credit_inquiries</th>\n",
       "      <th>credit_mix</th>\n",
       "      <th>outstanding_debt</th>\n",
       "      <th>credit_utilization_ratio</th>\n",
       "      <th>credit_history_age</th>\n",
       "      <th>payment_of_min_amount</th>\n",
       "      <th>total_emi_per_month</th>\n",
       "      <th>amount_invested_monthly</th>\n",
       "      <th>payment_behaviour</th>\n",
       "      <th>monthly_balance</th>\n",
       "      <th>credit_score</th>\n",
       "    </tr>\n",
       "  </thead>\n",
       "  <tbody>\n",
       "    <tr>\n",
       "      <th>61898</th>\n",
       "      <td>0x180b0</td>\n",
       "      <td>CUS_0x96b3</td>\n",
       "      <td>March</td>\n",
       "      <td>Huw Jonesd</td>\n",
       "      <td>36.000</td>\n",
       "      <td>242-10-5844</td>\n",
       "      <td>Lawyer</td>\n",
       "      <td>61181.88</td>\n",
       "      <td>5192.490</td>\n",
       "      <td>7</td>\n",
       "      <td>6</td>\n",
       "      <td>18</td>\n",
       "      <td>1150</td>\n",
       "      <td>Not Specified, Debt Consolidation Loan, Mortga...</td>\n",
       "      <td>30</td>\n",
       "      <td>25</td>\n",
       "      <td>3.53</td>\n",
       "      <td>8.000</td>\n",
       "      <td>Bad</td>\n",
       "      <td>2245.8</td>\n",
       "      <td>32.929</td>\n",
       "      <td>178</td>\n",
       "      <td>NM</td>\n",
       "      <td>241.570</td>\n",
       "      <td>286.422</td>\n",
       "      <td>High_spent_Small_value_payments</td>\n",
       "      <td>251.256</td>\n",
       "      <td>Poor</td>\n",
       "    </tr>\n",
       "    <tr>\n",
       "      <th>76482</th>\n",
       "      <td>0x1d624</td>\n",
       "      <td>CUS_0x960e</td>\n",
       "      <td>March</td>\n",
       "      <td>Jessicax</td>\n",
       "      <td>17.000</td>\n",
       "      <td>087-18-7812</td>\n",
       "      <td>Engineer</td>\n",
       "      <td>9822.095</td>\n",
       "      <td>785.508</td>\n",
       "      <td>10</td>\n",
       "      <td>8</td>\n",
       "      <td>19</td>\n",
       "      <td>1150</td>\n",
       "      <td>Personal Loan, Student Loan, Not Specified, Pa...</td>\n",
       "      <td>35</td>\n",
       "      <td>18</td>\n",
       "      <td>31.11</td>\n",
       "      <td>8.000</td>\n",
       "      <td>Bad</td>\n",
       "      <td>2813.68</td>\n",
       "      <td>25.091</td>\n",
       "      <td>39</td>\n",
       "      <td>Yes</td>\n",
       "      <td>22.508</td>\n",
       "      <td>64.836</td>\n",
       "      <td>Low_spent_Small_value_payments</td>\n",
       "      <td>281.207</td>\n",
       "      <td>Poor</td>\n",
       "    </tr>\n",
       "    <tr>\n",
       "      <th>94211</th>\n",
       "      <td>0x23e05</td>\n",
       "      <td>CUS_0x7152</td>\n",
       "      <td>April</td>\n",
       "      <td>Costaf</td>\n",
       "      <td>14.000</td>\n",
       "      <td>399-91-2074</td>\n",
       "      <td>Doctor</td>\n",
       "      <td>49716.16</td>\n",
       "      <td>3925.013</td>\n",
       "      <td>4</td>\n",
       "      <td>3</td>\n",
       "      <td>20</td>\n",
       "      <td>1150</td>\n",
       "      <td>Credit-Builder Loan, Not Specified, Personal L...</td>\n",
       "      <td>17</td>\n",
       "      <td>21</td>\n",
       "      <td>12.81</td>\n",
       "      <td>8.000</td>\n",
       "      <td>Standard</td>\n",
       "      <td>1490.78</td>\n",
       "      <td>31.310</td>\n",
       "      <td>235</td>\n",
       "      <td>Yes</td>\n",
       "      <td>240.333</td>\n",
       "      <td>72.390</td>\n",
       "      <td>High_spent_Medium_value_payments</td>\n",
       "      <td>319.778</td>\n",
       "      <td>Standard</td>\n",
       "    </tr>\n",
       "    <tr>\n",
       "      <th>95130</th>\n",
       "      <td>0x24368</td>\n",
       "      <td>CUS_0x12a7</td>\n",
       "      <td>March</td>\n",
       "      <td>Luciat</td>\n",
       "      <td>37.000</td>\n",
       "      <td>145-72-2113</td>\n",
       "      <td>Media_Manager</td>\n",
       "      <td>26450.59</td>\n",
       "      <td>2079.216</td>\n",
       "      <td>5</td>\n",
       "      <td>6</td>\n",
       "      <td>20</td>\n",
       "      <td>1150</td>\n",
       "      <td>Debt Consolidation Loan, Home Equity Loan, Aut...</td>\n",
       "      <td>24</td>\n",
       "      <td>18</td>\n",
       "      <td>11.8</td>\n",
       "      <td>1.000</td>\n",
       "      <td>Standard</td>\n",
       "      <td>952.9</td>\n",
       "      <td>39.081</td>\n",
       "      <td>339</td>\n",
       "      <td>No</td>\n",
       "      <td>73.670</td>\n",
       "      <td>83.738</td>\n",
       "      <td>High_spent_Small_value_payments</td>\n",
       "      <td>310.513</td>\n",
       "      <td>Standard</td>\n",
       "    </tr>\n",
       "  </tbody>\n",
       "</table>\n",
       "</div>"
      ],
      "text/plain": [
       "            id customer_id  month        name    age          ssn  \\\n",
       "61898  0x180b0  CUS_0x96b3  March  Huw Jonesd 36.000  242-10-5844   \n",
       "76482  0x1d624  CUS_0x960e  March    Jessicax 17.000  087-18-7812   \n",
       "94211  0x23e05  CUS_0x7152  April      Costaf 14.000  399-91-2074   \n",
       "95130  0x24368  CUS_0x12a7  March      Luciat 37.000  145-72-2113   \n",
       "\n",
       "          occupation annual_income  monthly_inhand_salary  num_bank_accounts  \\\n",
       "61898         Lawyer      61181.88               5192.490                  7   \n",
       "76482       Engineer      9822.095                785.508                 10   \n",
       "94211         Doctor      49716.16               3925.013                  4   \n",
       "95130  Media_Manager      26450.59               2079.216                  5   \n",
       "\n",
       "       num_credit_card  interest_rate num_of_loan  \\\n",
       "61898                6             18        1150   \n",
       "76482                8             19        1150   \n",
       "94211                3             20        1150   \n",
       "95130                6             20        1150   \n",
       "\n",
       "                                            type_of_loan  delay_from_due_date  \\\n",
       "61898  Not Specified, Debt Consolidation Loan, Mortga...                   30   \n",
       "76482  Personal Loan, Student Loan, Not Specified, Pa...                   35   \n",
       "94211  Credit-Builder Loan, Not Specified, Personal L...                   17   \n",
       "95130  Debt Consolidation Loan, Home Equity Loan, Aut...                   24   \n",
       "\n",
       "      num_of_delayed_payment changed_credit_limit  num_credit_inquiries  \\\n",
       "61898                     25                 3.53                 8.000   \n",
       "76482                     18                31.11                 8.000   \n",
       "94211                     21                12.81                 8.000   \n",
       "95130                     18                 11.8                 1.000   \n",
       "\n",
       "      credit_mix outstanding_debt  credit_utilization_ratio  \\\n",
       "61898        Bad           2245.8                    32.929   \n",
       "76482        Bad          2813.68                    25.091   \n",
       "94211   Standard          1490.78                    31.310   \n",
       "95130   Standard            952.9                    39.081   \n",
       "\n",
       "       credit_history_age payment_of_min_amount  total_emi_per_month  \\\n",
       "61898                 178                    NM              241.570   \n",
       "76482                  39                   Yes               22.508   \n",
       "94211                 235                   Yes              240.333   \n",
       "95130                 339                    No               73.670   \n",
       "\n",
       "       amount_invested_monthly                 payment_behaviour  \\\n",
       "61898                  286.422   High_spent_Small_value_payments   \n",
       "76482                   64.836    Low_spent_Small_value_payments   \n",
       "94211                   72.390  High_spent_Medium_value_payments   \n",
       "95130                   83.738   High_spent_Small_value_payments   \n",
       "\n",
       "       monthly_balance credit_score  \n",
       "61898          251.256         Poor  \n",
       "76482          281.207         Poor  \n",
       "94211          319.778     Standard  \n",
       "95130          310.513     Standard  "
      ]
     },
     "execution_count": 111,
     "metadata": {},
     "output_type": "execute_result"
    }
   ],
   "source": [
    "df[df[\"num_of_loan\"] == \"1150\"]"
   ]
  },
  {
   "cell_type": "code",
   "execution_count": 112,
   "id": "2bff9327",
   "metadata": {
    "execution": {
     "iopub.execute_input": "2024-05-02T13:14:53.234973Z",
     "iopub.status.busy": "2024-05-02T13:14:53.234222Z",
     "iopub.status.idle": "2024-05-02T13:14:53.281851Z",
     "shell.execute_reply": "2024-05-02T13:14:53.281061Z"
    },
    "papermill": {
     "duration": 0.11657,
     "end_time": "2024-05-02T13:14:53.283958",
     "exception": false,
     "start_time": "2024-05-02T13:14:53.167388",
     "status": "completed"
    },
    "tags": []
   },
   "outputs": [],
   "source": [
    "df[\"num_of_loan\"] = df[\"num_of_loan\"].apply(lambda x : x.rstrip(\"_\").lstrip(\"-\"))"
   ]
  },
  {
   "cell_type": "code",
   "execution_count": 113,
   "id": "a4dac25e",
   "metadata": {
    "execution": {
     "iopub.execute_input": "2024-05-02T13:14:53.419281Z",
     "iopub.status.busy": "2024-05-02T13:14:53.418696Z",
     "iopub.status.idle": "2024-05-02T13:14:53.436743Z",
     "shell.execute_reply": "2024-05-02T13:14:53.436004Z"
    },
    "papermill": {
     "duration": 0.086654,
     "end_time": "2024-05-02T13:14:53.438706",
     "exception": false,
     "start_time": "2024-05-02T13:14:53.352052",
     "status": "completed"
    },
    "tags": []
   },
   "outputs": [],
   "source": [
    "df[\"num_of_loan\"] = df[\"num_of_loan\"].astype(\"int\")"
   ]
  },
  {
   "cell_type": "code",
   "execution_count": 114,
   "id": "a5c956e4",
   "metadata": {
    "ExecuteTime": {
     "end_time": "2024-04-29T21:53:55.331346Z",
     "start_time": "2024-04-29T21:53:55.295532Z"
    },
    "execution": {
     "iopub.execute_input": "2024-05-02T13:14:53.568019Z",
     "iopub.status.busy": "2024-05-02T13:14:53.567271Z",
     "iopub.status.idle": "2024-05-02T13:14:53.591309Z",
     "shell.execute_reply": "2024-05-02T13:14:53.590461Z"
    },
    "papermill": {
     "duration": 0.090525,
     "end_time": "2024-05-02T13:14:53.593440",
     "exception": false,
     "start_time": "2024-05-02T13:14:53.502915",
     "status": "completed"
    },
    "tags": []
   },
   "outputs": [
    {
     "data": {
      "text/plain": [
       "num_of_loan\n",
       "0       10928\n",
       "100       417\n",
       "911         2\n",
       "50          2\n",
       "1035        1\n",
       "1347        1\n",
       "193         1\n",
       "995         1\n",
       "1451        1\n",
       "654         1\n",
       "153         1\n",
       "1369        1\n",
       "501         1\n",
       "143         1\n",
       "1416        1\n",
       "1070        1\n",
       "238         1\n",
       "103         1\n",
       "172         1\n",
       "252         1\n",
       "1444        1\n",
       "330         1\n",
       "394         1\n",
       "859         1\n",
       "1227        1\n",
       "336         1\n",
       "940         1\n",
       "1447        1\n",
       "881         1\n",
       "538         1\n",
       "999         1\n",
       "831         1\n",
       "1384        1\n",
       "621         1\n",
       "1419        1\n",
       "1430        1\n",
       "1382        1\n",
       "437         1\n",
       "372         1\n",
       "126         1\n",
       "1074        1\n",
       "288         1\n",
       "378         1\n",
       "652         1\n",
       "33          1\n",
       "439         1\n",
       "1296        1\n",
       "773         1\n",
       "415         1\n",
       "275         1\n",
       "350         1\n",
       "507         1\n",
       "1129        1\n",
       "1027        1\n",
       "897         1\n",
       "546         1\n",
       "215         1\n",
       "1478        1\n",
       "83          1\n",
       "18          1\n",
       "801         1\n",
       "Name: count, dtype: int64"
      ]
     },
     "execution_count": 114,
     "metadata": {},
     "output_type": "execute_result"
    }
   ],
   "source": [
    "df.loc[df[\"type_of_loan\"].isna()][\"num_of_loan\"].value_counts()"
   ]
  },
  {
   "cell_type": "code",
   "execution_count": 115,
   "id": "0b5d2850",
   "metadata": {
    "execution": {
     "iopub.execute_input": "2024-05-02T13:14:53.724366Z",
     "iopub.status.busy": "2024-05-02T13:14:53.723731Z",
     "iopub.status.idle": "2024-05-02T13:14:53.925940Z",
     "shell.execute_reply": "2024-05-02T13:14:53.925146Z"
    },
    "papermill": {
     "duration": 0.267921,
     "end_time": "2024-05-02T13:14:53.928424",
     "exception": false,
     "start_time": "2024-05-02T13:14:53.660503",
     "status": "completed"
    },
    "tags": []
   },
   "outputs": [],
   "source": [
    "df.loc[df[\"type_of_loan\"].notna(),\"type_of_loan\"] = df.loc[df[\"type_of_loan\"].notna()][\"type_of_loan\"].apply(lambda x : x.split(\",\"))"
   ]
  },
  {
   "cell_type": "markdown",
   "id": "62dc639a",
   "metadata": {
    "papermill": {
     "duration": 0.066926,
     "end_time": "2024-05-02T13:14:54.061315",
     "exception": false,
     "start_time": "2024-05-02T13:14:53.994389",
     "status": "completed"
    },
    "tags": []
   },
   "source": [
    "### filled each row with number of elemnt of list in the \"Type_of_Loan\" feature "
   ]
  },
  {
   "cell_type": "code",
   "execution_count": 116,
   "id": "ac126884",
   "metadata": {
    "execution": {
     "iopub.execute_input": "2024-05-02T13:14:54.188259Z",
     "iopub.status.busy": "2024-05-02T13:14:54.187424Z",
     "iopub.status.idle": "2024-05-02T13:15:28.851057Z",
     "shell.execute_reply": "2024-05-02T13:15:28.850172Z"
    },
    "papermill": {
     "duration": 34.731216,
     "end_time": "2024-05-02T13:15:28.853417",
     "exception": false,
     "start_time": "2024-05-02T13:14:54.122201",
     "status": "completed"
    },
    "tags": []
   },
   "outputs": [],
   "source": [
    "for row in df.index :\n",
    "    if not df.loc[row].isna().any() :\n",
    "        num = len(df.loc[row][\"type_of_loan\"]) \n",
    "        df.at[row, \"num_of_loan\"] = num"
   ]
  },
  {
   "cell_type": "code",
   "execution_count": 117,
   "id": "2c309a9d",
   "metadata": {
    "execution": {
     "iopub.execute_input": "2024-05-02T13:15:28.986745Z",
     "iopub.status.busy": "2024-05-02T13:15:28.986103Z",
     "iopub.status.idle": "2024-05-02T13:15:28.991796Z",
     "shell.execute_reply": "2024-05-02T13:15:28.990971Z"
    },
    "papermill": {
     "duration": 0.073706,
     "end_time": "2024-05-02T13:15:28.993904",
     "exception": false,
     "start_time": "2024-05-02T13:15:28.920198",
     "status": "completed"
    },
    "tags": []
   },
   "outputs": [],
   "source": [
    "df[\"num_of_loan\"].replace(100,0,inplace = True )"
   ]
  },
  {
   "cell_type": "code",
   "execution_count": 118,
   "id": "dad796a9",
   "metadata": {
    "execution": {
     "iopub.execute_input": "2024-05-02T13:15:29.127131Z",
     "iopub.status.busy": "2024-05-02T13:15:29.126478Z",
     "iopub.status.idle": "2024-05-02T13:15:29.145255Z",
     "shell.execute_reply": "2024-05-02T13:15:29.144478Z"
    },
    "papermill": {
     "duration": 0.087633,
     "end_time": "2024-05-02T13:15:29.147320",
     "exception": false,
     "start_time": "2024-05-02T13:15:29.059687",
     "status": "completed"
    },
    "tags": []
   },
   "outputs": [],
   "source": [
    "df.loc[(df[\"type_of_loan\"].isna()) & (df[\"num_of_loan\"]==0),\"type_of_loan\"] = \"new_credit\""
   ]
  },
  {
   "cell_type": "code",
   "execution_count": 119,
   "id": "4e7b5b34",
   "metadata": {
    "execution": {
     "iopub.execute_input": "2024-05-02T13:15:29.287987Z",
     "iopub.status.busy": "2024-05-02T13:15:29.287591Z",
     "iopub.status.idle": "2024-05-02T13:15:29.339640Z",
     "shell.execute_reply": "2024-05-02T13:15:29.338687Z"
    },
    "papermill": {
     "duration": 0.125395,
     "end_time": "2024-05-02T13:15:29.341950",
     "exception": false,
     "start_time": "2024-05-02T13:15:29.216555",
     "status": "completed"
    },
    "tags": []
   },
   "outputs": [
    {
     "data": {
      "text/plain": [
       "array([4, 1, 3, 0, 2, 7, 5, 6, 8, 9])"
      ]
     },
     "execution_count": 119,
     "metadata": {},
     "output_type": "execute_result"
    }
   ],
   "source": [
    "df.loc[df[\"type_of_loan\"].notna()][\"num_of_loan\"].unique()"
   ]
  },
  {
   "cell_type": "code",
   "execution_count": 120,
   "id": "be504d51",
   "metadata": {
    "execution": {
     "iopub.execute_input": "2024-05-02T13:15:29.468787Z",
     "iopub.status.busy": "2024-05-02T13:15:29.468429Z",
     "iopub.status.idle": "2024-05-02T13:15:29.486558Z",
     "shell.execute_reply": "2024-05-02T13:15:29.485649Z"
    },
    "papermill": {
     "duration": 0.083755,
     "end_time": "2024-05-02T13:15:29.488776",
     "exception": false,
     "start_time": "2024-05-02T13:15:29.405021",
     "status": "completed"
    },
    "tags": []
   },
   "outputs": [
    {
     "data": {
      "text/plain": [
       "59"
      ]
     },
     "execution_count": 120,
     "metadata": {},
     "output_type": "execute_result"
    }
   ],
   "source": [
    "df.loc[df[\"type_of_loan\"].isna()][\"num_of_loan\"].nunique()"
   ]
  },
  {
   "cell_type": "code",
   "execution_count": 121,
   "id": "6f201d3a",
   "metadata": {
    "execution": {
     "iopub.execute_input": "2024-05-02T13:15:29.621665Z",
     "iopub.status.busy": "2024-05-02T13:15:29.621323Z",
     "iopub.status.idle": "2024-05-02T13:15:29.637398Z",
     "shell.execute_reply": "2024-05-02T13:15:29.636646Z"
    },
    "papermill": {
     "duration": 0.081598,
     "end_time": "2024-05-02T13:15:29.639242",
     "exception": false,
     "start_time": "2024-05-02T13:15:29.557644",
     "status": "completed"
    },
    "tags": []
   },
   "outputs": [
    {
     "data": {
      "text/plain": [
       "61"
      ]
     },
     "execution_count": 121,
     "metadata": {},
     "output_type": "execute_result"
    }
   ],
   "source": [
    "df[\"type_of_loan\"].isna().sum()"
   ]
  },
  {
   "cell_type": "markdown",
   "id": "bd6d0099",
   "metadata": {
    "papermill": {
     "duration": 0.064203,
     "end_time": "2024-05-02T13:15:29.765278",
     "exception": false,
     "start_time": "2024-05-02T13:15:29.701075",
     "status": "completed"
    },
    "tags": []
   },
   "source": [
    "#### I tried to correct the 2,3,4 digit meaningless, outlier values in the \"num_of_loan\" column with the \"type_of_loan\" column, but I could not find a way for the values that appeared as NaN in the \"type_of_loan\" column and such outliers in the \"num_of_loan\" column, and there are 61 rows in the 100.000 rows data. I overlooked these rows and decided to drop it."
   ]
  },
  {
   "cell_type": "code",
   "execution_count": 122,
   "id": "3f957c5c",
   "metadata": {
    "execution": {
     "iopub.execute_input": "2024-05-02T13:15:29.901822Z",
     "iopub.status.busy": "2024-05-02T13:15:29.901429Z",
     "iopub.status.idle": "2024-05-02T13:15:29.919054Z",
     "shell.execute_reply": "2024-05-02T13:15:29.917926Z"
    },
    "papermill": {
     "duration": 0.087312,
     "end_time": "2024-05-02T13:15:29.921291",
     "exception": false,
     "start_time": "2024-05-02T13:15:29.833979",
     "status": "completed"
    },
    "tags": []
   },
   "outputs": [],
   "source": [
    "nan_idx = df.loc[df[\"type_of_loan\"].isna()].index"
   ]
  },
  {
   "cell_type": "code",
   "execution_count": 123,
   "id": "5fd57c10",
   "metadata": {
    "execution": {
     "iopub.execute_input": "2024-05-02T13:15:30.053073Z",
     "iopub.status.busy": "2024-05-02T13:15:30.052750Z",
     "iopub.status.idle": "2024-05-02T13:15:30.088073Z",
     "shell.execute_reply": "2024-05-02T13:15:30.087317Z"
    },
    "papermill": {
     "duration": 0.103012,
     "end_time": "2024-05-02T13:15:30.090322",
     "exception": false,
     "start_time": "2024-05-02T13:15:29.987310",
     "status": "completed"
    },
    "tags": []
   },
   "outputs": [],
   "source": [
    "df.drop(nan_idx,inplace =True)"
   ]
  },
  {
   "cell_type": "code",
   "execution_count": 124,
   "id": "177535a2",
   "metadata": {
    "ExecuteTime": {
     "end_time": "2024-05-01T08:51:44.743824Z",
     "start_time": "2024-05-01T08:51:44.710970Z"
    },
    "execution": {
     "iopub.execute_input": "2024-05-02T13:15:30.224890Z",
     "iopub.status.busy": "2024-05-02T13:15:30.224536Z",
     "iopub.status.idle": "2024-05-02T13:15:30.231404Z",
     "shell.execute_reply": "2024-05-02T13:15:30.230469Z"
    },
    "papermill": {
     "duration": 0.076905,
     "end_time": "2024-05-02T13:15:30.233533",
     "exception": false,
     "start_time": "2024-05-02T13:15:30.156628",
     "status": "completed"
    },
    "tags": []
   },
   "outputs": [
    {
     "data": {
      "text/plain": [
       "array([4, 1, 3, 0, 2, 7, 5, 6, 8, 9])"
      ]
     },
     "execution_count": 124,
     "metadata": {},
     "output_type": "execute_result"
    }
   ],
   "source": [
    "df[\"num_of_loan\"].unique()"
   ]
  },
  {
   "cell_type": "code",
   "execution_count": 125,
   "id": "0301873c",
   "metadata": {
    "ExecuteTime": {
     "end_time": "2024-05-01T08:51:47.535399Z",
     "start_time": "2024-05-01T08:51:47.512666Z"
    },
    "execution": {
     "iopub.execute_input": "2024-05-02T13:15:30.416192Z",
     "iopub.status.busy": "2024-05-02T13:15:30.415805Z",
     "iopub.status.idle": "2024-05-02T13:15:30.434214Z",
     "shell.execute_reply": "2024-05-02T13:15:30.433337Z"
    },
    "papermill": {
     "duration": 0.090886,
     "end_time": "2024-05-02T13:15:30.436319",
     "exception": false,
     "start_time": "2024-05-02T13:15:30.345433",
     "status": "completed"
    },
    "tags": []
   },
   "outputs": [
    {
     "data": {
      "text/plain": [
       "0"
      ]
     },
     "execution_count": 125,
     "metadata": {},
     "output_type": "execute_result"
    }
   ],
   "source": [
    "df[\"type_of_loan\"].isna().sum()"
   ]
  },
  {
   "cell_type": "code",
   "execution_count": 126,
   "id": "eea814f4",
   "metadata": {
    "ExecuteTime": {
     "end_time": "2024-05-01T10:00:09.240493Z",
     "start_time": "2024-05-01T10:00:09.179601Z"
    },
    "execution": {
     "iopub.execute_input": "2024-05-02T13:15:30.571789Z",
     "iopub.status.busy": "2024-05-02T13:15:30.571447Z",
     "iopub.status.idle": "2024-05-02T13:15:30.617506Z",
     "shell.execute_reply": "2024-05-02T13:15:30.616781Z"
    },
    "papermill": {
     "duration": 0.114548,
     "end_time": "2024-05-02T13:15:30.620215",
     "exception": false,
     "start_time": "2024-05-02T13:15:30.505667",
     "status": "completed"
    },
    "tags": []
   },
   "outputs": [],
   "source": [
    "df[\"annual_income\"] = df[\"annual_income\"].apply(lambda x : x.rstrip(\"_\").lstrip(\"_\") )"
   ]
  },
  {
   "cell_type": "code",
   "execution_count": 127,
   "id": "64d6ef5d",
   "metadata": {
    "ExecuteTime": {
     "end_time": "2024-05-01T10:02:03.023034Z",
     "start_time": "2024-05-01T10:02:02.961145Z"
    },
    "execution": {
     "iopub.execute_input": "2024-05-02T13:15:30.757555Z",
     "iopub.status.busy": "2024-05-02T13:15:30.756838Z",
     "iopub.status.idle": "2024-05-02T13:15:30.804993Z",
     "shell.execute_reply": "2024-05-02T13:15:30.803993Z"
    },
    "papermill": {
     "duration": 0.119724,
     "end_time": "2024-05-02T13:15:30.807175",
     "exception": false,
     "start_time": "2024-05-02T13:15:30.687451",
     "status": "completed"
    },
    "tags": []
   },
   "outputs": [],
   "source": [
    "df[\"num_of_delayed_payment\"] = df[\"num_of_delayed_payment\"].apply(lambda x : x.rstrip(\"_\").lstrip(\"_\") )"
   ]
  },
  {
   "cell_type": "code",
   "execution_count": 128,
   "id": "356de0fa",
   "metadata": {
    "ExecuteTime": {
     "end_time": "2024-05-01T10:07:54.496254Z",
     "start_time": "2024-05-01T10:07:54.444336Z"
    },
    "execution": {
     "iopub.execute_input": "2024-05-02T13:15:30.944713Z",
     "iopub.status.busy": "2024-05-02T13:15:30.944005Z",
     "iopub.status.idle": "2024-05-02T13:15:30.990452Z",
     "shell.execute_reply": "2024-05-02T13:15:30.989527Z"
    },
    "papermill": {
     "duration": 0.117044,
     "end_time": "2024-05-02T13:15:30.992574",
     "exception": false,
     "start_time": "2024-05-02T13:15:30.875530",
     "status": "completed"
    },
    "tags": []
   },
   "outputs": [],
   "source": [
    "df[\"outstanding_debt\"] = df[\"outstanding_debt\"].apply(lambda x : x.rstrip(\"_\").lstrip(\"_\") )"
   ]
  },
  {
   "cell_type": "code",
   "execution_count": 129,
   "id": "aaf6fe23",
   "metadata": {
    "ExecuteTime": {
     "end_time": "2024-05-01T08:58:44.525688Z",
     "start_time": "2024-05-01T08:58:44.459510Z"
    },
    "execution": {
     "iopub.execute_input": "2024-05-02T13:15:31.123788Z",
     "iopub.status.busy": "2024-05-02T13:15:31.123429Z",
     "iopub.status.idle": "2024-05-02T13:15:31.163338Z",
     "shell.execute_reply": "2024-05-02T13:15:31.162542Z"
    },
    "papermill": {
     "duration": 0.107156,
     "end_time": "2024-05-02T13:15:31.165486",
     "exception": false,
     "start_time": "2024-05-02T13:15:31.058330",
     "status": "completed"
    },
    "tags": []
   },
   "outputs": [],
   "source": [
    "df.drop([\"id\",\"customer_id\",\"name\",\"ssn\",\"type_of_loan\"],inplace =True,axis =1)"
   ]
  },
  {
   "cell_type": "code",
   "execution_count": 130,
   "id": "588cc4c4",
   "metadata": {
    "ExecuteTime": {
     "end_time": "2024-05-01T09:57:16.802447Z",
     "start_time": "2024-05-01T09:57:16.787516Z"
    },
    "execution": {
     "iopub.execute_input": "2024-05-02T13:15:31.313746Z",
     "iopub.status.busy": "2024-05-02T13:15:31.313370Z",
     "iopub.status.idle": "2024-05-02T13:15:31.319380Z",
     "shell.execute_reply": "2024-05-02T13:15:31.318504Z"
    },
    "papermill": {
     "duration": 0.084448,
     "end_time": "2024-05-02T13:15:31.321643",
     "exception": false,
     "start_time": "2024-05-02T13:15:31.237195",
     "status": "completed"
    },
    "tags": []
   },
   "outputs": [
    {
     "data": {
      "text/plain": [
       "(99935, 23)"
      ]
     },
     "execution_count": 130,
     "metadata": {},
     "output_type": "execute_result"
    }
   ],
   "source": [
    "df.shape"
   ]
  },
  {
   "cell_type": "code",
   "execution_count": 131,
   "id": "fae6053f",
   "metadata": {
    "ExecuteTime": {
     "end_time": "2024-05-01T09:57:19.299163Z",
     "start_time": "2024-05-01T09:57:19.205312Z"
    },
    "execution": {
     "iopub.execute_input": "2024-05-02T13:15:31.457647Z",
     "iopub.status.busy": "2024-05-02T13:15:31.457285Z",
     "iopub.status.idle": "2024-05-02T13:15:31.576433Z",
     "shell.execute_reply": "2024-05-02T13:15:31.575500Z"
    },
    "papermill": {
     "duration": 0.19058,
     "end_time": "2024-05-02T13:15:31.578781",
     "exception": false,
     "start_time": "2024-05-02T13:15:31.388201",
     "status": "completed"
    },
    "tags": []
   },
   "outputs": [
    {
     "data": {
      "text/plain": [
       "month                       0\n",
       "age                         0\n",
       "occupation                  0\n",
       "annual_income               0\n",
       "monthly_inhand_salary       0\n",
       "num_bank_accounts           0\n",
       "num_credit_card             0\n",
       "interest_rate               0\n",
       "num_of_loan                 0\n",
       "delay_from_due_date         0\n",
       "num_of_delayed_payment      0\n",
       "changed_credit_limit        0\n",
       "num_credit_inquiries        0\n",
       "credit_mix                  0\n",
       "outstanding_debt            0\n",
       "credit_utilization_ratio    0\n",
       "credit_history_age          0\n",
       "payment_of_min_amount       0\n",
       "total_emi_per_month         0\n",
       "amount_invested_monthly     0\n",
       "payment_behaviour           0\n",
       "monthly_balance             0\n",
       "credit_score                0\n",
       "dtype: int64"
      ]
     },
     "execution_count": 131,
     "metadata": {},
     "output_type": "execute_result"
    }
   ],
   "source": [
    "df.isna().sum()"
   ]
  },
  {
   "cell_type": "code",
   "execution_count": 132,
   "id": "9996f86b",
   "metadata": {
    "ExecuteTime": {
     "end_time": "2024-05-01T09:57:30.792052Z",
     "start_time": "2024-05-01T09:57:22.356004Z"
    },
    "execution": {
     "iopub.execute_input": "2024-05-02T13:15:31.717935Z",
     "iopub.status.busy": "2024-05-02T13:15:31.717585Z",
     "iopub.status.idle": "2024-05-02T13:15:35.941628Z",
     "shell.execute_reply": "2024-05-02T13:15:35.940698Z"
    },
    "papermill": {
     "duration": 4.292637,
     "end_time": "2024-05-02T13:15:35.943893",
     "exception": false,
     "start_time": "2024-05-02T13:15:31.651256",
     "status": "completed"
    },
    "tags": []
   },
   "outputs": [
    {
     "name": "stdout",
     "output_type": "stream",
     "text": [
      "Total matches in column month: 0\n",
      "Total matches in column age: 0\n",
      "Total matches in column occupation: 0\n",
      "Total matches in column annual_income: 0\n",
      "Total matches in column monthly_inhand_salary: 0\n",
      "Total matches in column num_bank_accounts: 0\n",
      "Total matches in column num_credit_card: 0\n",
      "Total matches in column interest_rate: 0\n",
      "Total matches in column num_of_loan: 0\n",
      "Total matches in column delay_from_due_date: 0\n",
      "Total matches in column num_of_delayed_payment: 0\n",
      "Total matches in column changed_credit_limit: 0\n",
      "Total matches in column num_credit_inquiries: 0\n",
      "Total matches in column credit_mix: 0\n",
      "Total matches in column outstanding_debt: 0\n",
      "Total matches in column credit_utilization_ratio: 0\n",
      "Total matches in column credit_history_age: 0\n",
      "Total matches in column payment_of_min_amount: 0\n",
      "Total matches in column total_emi_per_month: 0\n",
      "Total matches in column amount_invested_monthly: 0\n",
      "Total matches in column payment_behaviour: 0\n",
      "Total matches in column monthly_balance: 0\n",
      "Total matches in column credit_score: 0\n",
      "\u001b[43m\u001b[30mTotal matches in dataframe: 0 \u001b[0m\n"
     ]
    }
   ],
   "source": [
    "matched_re(df)"
   ]
  },
  {
   "cell_type": "markdown",
   "id": "2d4b9f97",
   "metadata": {
    "papermill": {
     "duration": 0.071125,
     "end_time": "2024-05-02T13:15:36.085690",
     "exception": false,
     "start_time": "2024-05-02T13:15:36.014565",
     "status": "completed"
    },
    "tags": []
   },
   "source": [
    "#### ***Last version of dataset***"
   ]
  },
  {
   "cell_type": "code",
   "execution_count": 133,
   "id": "db841277",
   "metadata": {
    "execution": {
     "iopub.execute_input": "2024-05-02T13:15:36.221383Z",
     "iopub.status.busy": "2024-05-02T13:15:36.220777Z",
     "iopub.status.idle": "2024-05-02T13:15:37.295500Z",
     "shell.execute_reply": "2024-05-02T13:15:37.294589Z"
    },
    "papermill": {
     "duration": 1.143511,
     "end_time": "2024-05-02T13:15:37.298005",
     "exception": false,
     "start_time": "2024-05-02T13:15:36.154494",
     "status": "completed"
    },
    "tags": []
   },
   "outputs": [],
   "source": [
    "df = pd.read_csv(\"/kaggle/input/last-version-of-dataset/dataset_final_30_04.csv\") "
   ]
  },
  {
   "cell_type": "code",
   "execution_count": 134,
   "id": "70ccfbe3",
   "metadata": {
    "execution": {
     "iopub.execute_input": "2024-05-02T13:15:37.438606Z",
     "iopub.status.busy": "2024-05-02T13:15:37.438296Z",
     "iopub.status.idle": "2024-05-02T13:15:37.580306Z",
     "shell.execute_reply": "2024-05-02T13:15:37.579284Z"
    },
    "papermill": {
     "duration": 0.212995,
     "end_time": "2024-05-02T13:15:37.582910",
     "exception": false,
     "start_time": "2024-05-02T13:15:37.369915",
     "status": "completed"
    },
    "tags": []
   },
   "outputs": [
    {
     "data": {
      "text/plain": [
       "id                          0\n",
       "customer_id                 0\n",
       "month                       0\n",
       "name                        0\n",
       "age                         0\n",
       "ssn                         0\n",
       "occupation                  0\n",
       "annual_income               0\n",
       "monthly_inhand_salary       0\n",
       "num_bank_accounts           0\n",
       "num_credit_card             0\n",
       "interest_rate               0\n",
       "num_of_loan                 0\n",
       "type_of_loan                0\n",
       "delay_from_due_date         0\n",
       "num_of_delayed_payment      0\n",
       "changed_credit_limit        0\n",
       "num_credit_inquiries        0\n",
       "credit_mix                  0\n",
       "outstanding_debt            0\n",
       "credit_utilization_ratio    0\n",
       "credit_history_age          0\n",
       "payment_of_min_amount       0\n",
       "total_emi_per_month         0\n",
       "amount_invested_monthly     0\n",
       "payment_behaviour           0\n",
       "monthly_balance             0\n",
       "credit_score                0\n",
       "dtype: int64"
      ]
     },
     "execution_count": 134,
     "metadata": {},
     "output_type": "execute_result"
    }
   ],
   "source": [
    "df.isna().sum()"
   ]
  },
  {
   "cell_type": "code",
   "execution_count": 135,
   "id": "b0a0b0eb",
   "metadata": {
    "execution": {
     "iopub.execute_input": "2024-05-02T13:15:37.727962Z",
     "iopub.status.busy": "2024-05-02T13:15:37.727359Z",
     "iopub.status.idle": "2024-05-02T13:15:37.754754Z",
     "shell.execute_reply": "2024-05-02T13:15:37.753988Z"
    },
    "papermill": {
     "duration": 0.099514,
     "end_time": "2024-05-02T13:15:37.756765",
     "exception": false,
     "start_time": "2024-05-02T13:15:37.657251",
     "status": "completed"
    },
    "tags": []
   },
   "outputs": [],
   "source": [
    "df.drop([\"id\",\"customer_id\",\"name\",\"ssn\",\"type_of_loan\"],axis=1,inplace = True)"
   ]
  },
  {
   "cell_type": "code",
   "execution_count": 136,
   "id": "25661f7c",
   "metadata": {
    "execution": {
     "iopub.execute_input": "2024-05-02T13:15:37.896634Z",
     "iopub.status.busy": "2024-05-02T13:15:37.896290Z",
     "iopub.status.idle": "2024-05-02T13:15:37.923476Z",
     "shell.execute_reply": "2024-05-02T13:15:37.922494Z"
    },
    "papermill": {
     "duration": 0.099921,
     "end_time": "2024-05-02T13:15:37.925720",
     "exception": false,
     "start_time": "2024-05-02T13:15:37.825799",
     "status": "completed"
    },
    "tags": []
   },
   "outputs": [
    {
     "data": {
      "text/html": [
       "<div>\n",
       "<style scoped>\n",
       "    .dataframe tbody tr th:only-of-type {\n",
       "        vertical-align: middle;\n",
       "    }\n",
       "\n",
       "    .dataframe tbody tr th {\n",
       "        vertical-align: top;\n",
       "    }\n",
       "\n",
       "    .dataframe thead th {\n",
       "        text-align: right;\n",
       "    }\n",
       "</style>\n",
       "<table border=\"1\" class=\"dataframe\">\n",
       "  <thead>\n",
       "    <tr style=\"text-align: right;\">\n",
       "      <th></th>\n",
       "      <th>month</th>\n",
       "      <th>age</th>\n",
       "      <th>occupation</th>\n",
       "      <th>annual_income</th>\n",
       "      <th>monthly_inhand_salary</th>\n",
       "      <th>num_bank_accounts</th>\n",
       "      <th>num_credit_card</th>\n",
       "      <th>interest_rate</th>\n",
       "      <th>num_of_loan</th>\n",
       "      <th>delay_from_due_date</th>\n",
       "      <th>num_of_delayed_payment</th>\n",
       "      <th>changed_credit_limit</th>\n",
       "      <th>num_credit_inquiries</th>\n",
       "      <th>credit_mix</th>\n",
       "      <th>outstanding_debt</th>\n",
       "      <th>credit_utilization_ratio</th>\n",
       "      <th>credit_history_age</th>\n",
       "      <th>payment_of_min_amount</th>\n",
       "      <th>total_emi_per_month</th>\n",
       "      <th>amount_invested_monthly</th>\n",
       "      <th>payment_behaviour</th>\n",
       "      <th>monthly_balance</th>\n",
       "      <th>credit_score</th>\n",
       "    </tr>\n",
       "  </thead>\n",
       "  <tbody>\n",
       "    <tr>\n",
       "      <th>82877</th>\n",
       "      <td>June</td>\n",
       "      <td>31.000</td>\n",
       "      <td>Engineer</td>\n",
       "      <td>26053.36</td>\n",
       "      <td>2059.113</td>\n",
       "      <td>8</td>\n",
       "      <td>6</td>\n",
       "      <td>11</td>\n",
       "      <td>2</td>\n",
       "      <td>12</td>\n",
       "      <td>11</td>\n",
       "      <td>13.130</td>\n",
       "      <td>0.000</td>\n",
       "      <td>Standard</td>\n",
       "      <td>1339.71</td>\n",
       "      <td>25.237</td>\n",
       "      <td>288</td>\n",
       "      <td>Yes</td>\n",
       "      <td>39.730</td>\n",
       "      <td>158.356</td>\n",
       "      <td>Low_spent_Medium_value_payments</td>\n",
       "      <td>287.825</td>\n",
       "      <td>Standard</td>\n",
       "    </tr>\n",
       "    <tr>\n",
       "      <th>98237</th>\n",
       "      <td>June</td>\n",
       "      <td>43.000</td>\n",
       "      <td>Journalist</td>\n",
       "      <td>19852.09</td>\n",
       "      <td>1654.341</td>\n",
       "      <td>10</td>\n",
       "      <td>8</td>\n",
       "      <td>34</td>\n",
       "      <td>7</td>\n",
       "      <td>20</td>\n",
       "      <td>19</td>\n",
       "      <td>17.600</td>\n",
       "      <td>12.000</td>\n",
       "      <td>Bad</td>\n",
       "      <td>3176.77</td>\n",
       "      <td>25.614</td>\n",
       "      <td>106</td>\n",
       "      <td>Yes</td>\n",
       "      <td>93.691</td>\n",
       "      <td>87.688</td>\n",
       "      <td>Low_spent_Small_value_payments</td>\n",
       "      <td>274.055</td>\n",
       "      <td>Poor</td>\n",
       "    </tr>\n",
       "    <tr>\n",
       "      <th>58591</th>\n",
       "      <td>August</td>\n",
       "      <td>51.000</td>\n",
       "      <td>Teacher</td>\n",
       "      <td>36372.21</td>\n",
       "      <td>3269.017</td>\n",
       "      <td>5</td>\n",
       "      <td>4</td>\n",
       "      <td>5</td>\n",
       "      <td>4</td>\n",
       "      <td>4</td>\n",
       "      <td>8</td>\n",
       "      <td>11.780</td>\n",
       "      <td>5.000</td>\n",
       "      <td>Good</td>\n",
       "      <td>1455.94</td>\n",
       "      <td>23.014</td>\n",
       "      <td>321</td>\n",
       "      <td>No</td>\n",
       "      <td>105.797</td>\n",
       "      <td>76.697</td>\n",
       "      <td>High_spent_Medium_value_payments</td>\n",
       "      <td>394.407</td>\n",
       "      <td>Good</td>\n",
       "    </tr>\n",
       "    <tr>\n",
       "      <th>49280</th>\n",
       "      <td>January</td>\n",
       "      <td>41.000</td>\n",
       "      <td>Architect</td>\n",
       "      <td>77245.47</td>\n",
       "      <td>6671.123</td>\n",
       "      <td>3</td>\n",
       "      <td>6</td>\n",
       "      <td>18</td>\n",
       "      <td>3</td>\n",
       "      <td>30</td>\n",
       "      <td>18</td>\n",
       "      <td>13.530</td>\n",
       "      <td>5.000</td>\n",
       "      <td>Standard</td>\n",
       "      <td>1251.67</td>\n",
       "      <td>29.074</td>\n",
       "      <td>278</td>\n",
       "      <td>Yes</td>\n",
       "      <td>119.467</td>\n",
       "      <td>124.559</td>\n",
       "      <td>High_spent_Small_value_payments</td>\n",
       "      <td>683.086</td>\n",
       "      <td>Standard</td>\n",
       "    </tr>\n",
       "    <tr>\n",
       "      <th>9826</th>\n",
       "      <td>March</td>\n",
       "      <td>33.000</td>\n",
       "      <td>Accountant</td>\n",
       "      <td>64560.52</td>\n",
       "      <td>5293.043</td>\n",
       "      <td>9</td>\n",
       "      <td>10</td>\n",
       "      <td>19</td>\n",
       "      <td>9</td>\n",
       "      <td>47</td>\n",
       "      <td>15</td>\n",
       "      <td>26.610</td>\n",
       "      <td>10.000</td>\n",
       "      <td>Bad</td>\n",
       "      <td>3342.3</td>\n",
       "      <td>25.255</td>\n",
       "      <td>43</td>\n",
       "      <td>Yes</td>\n",
       "      <td>447.834</td>\n",
       "      <td>283.603</td>\n",
       "      <td>Low_spent_Small_value_payments</td>\n",
       "      <td>87.867</td>\n",
       "      <td>Poor</td>\n",
       "    </tr>\n",
       "    <tr>\n",
       "      <th>19178</th>\n",
       "      <td>March</td>\n",
       "      <td>36.000</td>\n",
       "      <td>Writer</td>\n",
       "      <td>7233.01</td>\n",
       "      <td>666.751</td>\n",
       "      <td>10</td>\n",
       "      <td>8</td>\n",
       "      <td>30</td>\n",
       "      <td>5</td>\n",
       "      <td>21</td>\n",
       "      <td>20</td>\n",
       "      <td>9.160</td>\n",
       "      <td>10.000</td>\n",
       "      <td>Bad</td>\n",
       "      <td>2179.32</td>\n",
       "      <td>34.213</td>\n",
       "      <td>103</td>\n",
       "      <td>Yes</td>\n",
       "      <td>18.660</td>\n",
       "      <td>67.778</td>\n",
       "      <td>High_spent_Small_value_payments</td>\n",
       "      <td>284.201</td>\n",
       "      <td>Poor</td>\n",
       "    </tr>\n",
       "    <tr>\n",
       "      <th>61272</th>\n",
       "      <td>January</td>\n",
       "      <td>44.000</td>\n",
       "      <td>Architect</td>\n",
       "      <td>9133.965</td>\n",
       "      <td>494.164</td>\n",
       "      <td>6</td>\n",
       "      <td>925</td>\n",
       "      <td>21</td>\n",
       "      <td>6</td>\n",
       "      <td>17</td>\n",
       "      <td>9</td>\n",
       "      <td>8.130</td>\n",
       "      <td>9.000</td>\n",
       "      <td>Standard</td>\n",
       "      <td>2552.06</td>\n",
       "      <td>24.319</td>\n",
       "      <td>146</td>\n",
       "      <td>NM</td>\n",
       "      <td>41.740</td>\n",
       "      <td>51.515</td>\n",
       "      <td>Low_spent_Small_value_payments</td>\n",
       "      <td>246.162</td>\n",
       "      <td>Poor</td>\n",
       "    </tr>\n",
       "    <tr>\n",
       "      <th>52706</th>\n",
       "      <td>March</td>\n",
       "      <td>31.000</td>\n",
       "      <td>Musician</td>\n",
       "      <td>16942.39</td>\n",
       "      <td>1511.866</td>\n",
       "      <td>7</td>\n",
       "      <td>4</td>\n",
       "      <td>20</td>\n",
       "      <td>4</td>\n",
       "      <td>17</td>\n",
       "      <td>9</td>\n",
       "      <td>16.890</td>\n",
       "      <td>8.000</td>\n",
       "      <td>Standard</td>\n",
       "      <td>78.27</td>\n",
       "      <td>35.742</td>\n",
       "      <td>312</td>\n",
       "      <td>Yes</td>\n",
       "      <td>46.116</td>\n",
       "      <td>26.322</td>\n",
       "      <td>High_spent_Large_value_payments</td>\n",
       "      <td>318.749</td>\n",
       "      <td>Standard</td>\n",
       "    </tr>\n",
       "    <tr>\n",
       "      <th>83210</th>\n",
       "      <td>March</td>\n",
       "      <td>44.000</td>\n",
       "      <td>Lawyer</td>\n",
       "      <td>82668.78</td>\n",
       "      <td>6930.065</td>\n",
       "      <td>3</td>\n",
       "      <td>6</td>\n",
       "      <td>20</td>\n",
       "      <td>1</td>\n",
       "      <td>21</td>\n",
       "      <td>9</td>\n",
       "      <td>16.270</td>\n",
       "      <td>0.000</td>\n",
       "      <td>Standard</td>\n",
       "      <td>540.04</td>\n",
       "      <td>40.575</td>\n",
       "      <td>291</td>\n",
       "      <td>NM</td>\n",
       "      <td>55.700</td>\n",
       "      <td>423.877</td>\n",
       "      <td>Low_spent_Medium_value_payments</td>\n",
       "      <td>493.430</td>\n",
       "      <td>Standard</td>\n",
       "    </tr>\n",
       "    <tr>\n",
       "      <th>10122</th>\n",
       "      <td>March</td>\n",
       "      <td>36.000</td>\n",
       "      <td>Manager</td>\n",
       "      <td>12332.855</td>\n",
       "      <td>866.738</td>\n",
       "      <td>7</td>\n",
       "      <td>7</td>\n",
       "      <td>9</td>\n",
       "      <td>4</td>\n",
       "      <td>14</td>\n",
       "      <td>13</td>\n",
       "      <td>13.920</td>\n",
       "      <td>4.000</td>\n",
       "      <td>Standard</td>\n",
       "      <td>1169.76</td>\n",
       "      <td>33.401</td>\n",
       "      <td>186</td>\n",
       "      <td>Yes</td>\n",
       "      <td>20.651</td>\n",
       "      <td>64.045</td>\n",
       "      <td>Low_spent_Small_value_payments</td>\n",
       "      <td>325.084</td>\n",
       "      <td>Standard</td>\n",
       "    </tr>\n",
       "  </tbody>\n",
       "</table>\n",
       "</div>"
      ],
      "text/plain": [
       "         month    age  occupation annual_income  monthly_inhand_salary  \\\n",
       "82877     June 31.000    Engineer      26053.36               2059.113   \n",
       "98237     June 43.000  Journalist      19852.09               1654.341   \n",
       "58591   August 51.000     Teacher      36372.21               3269.017   \n",
       "49280  January 41.000   Architect      77245.47               6671.123   \n",
       "9826     March 33.000  Accountant      64560.52               5293.043   \n",
       "19178    March 36.000      Writer       7233.01                666.751   \n",
       "61272  January 44.000   Architect      9133.965                494.164   \n",
       "52706    March 31.000    Musician      16942.39               1511.866   \n",
       "83210    March 44.000      Lawyer      82668.78               6930.065   \n",
       "10122    March 36.000     Manager     12332.855                866.738   \n",
       "\n",
       "       num_bank_accounts  num_credit_card  interest_rate  num_of_loan  \\\n",
       "82877                  8                6             11            2   \n",
       "98237                 10                8             34            7   \n",
       "58591                  5                4              5            4   \n",
       "49280                  3                6             18            3   \n",
       "9826                   9               10             19            9   \n",
       "19178                 10                8             30            5   \n",
       "61272                  6              925             21            6   \n",
       "52706                  7                4             20            4   \n",
       "83210                  3                6             20            1   \n",
       "10122                  7                7              9            4   \n",
       "\n",
       "       delay_from_due_date num_of_delayed_payment  changed_credit_limit  \\\n",
       "82877                   12                     11                13.130   \n",
       "98237                   20                     19                17.600   \n",
       "58591                    4                      8                11.780   \n",
       "49280                   30                     18                13.530   \n",
       "9826                    47                     15                26.610   \n",
       "19178                   21                     20                 9.160   \n",
       "61272                   17                      9                 8.130   \n",
       "52706                   17                      9                16.890   \n",
       "83210                   21                      9                16.270   \n",
       "10122                   14                     13                13.920   \n",
       "\n",
       "       num_credit_inquiries credit_mix outstanding_debt  \\\n",
       "82877                 0.000   Standard          1339.71   \n",
       "98237                12.000        Bad          3176.77   \n",
       "58591                 5.000       Good          1455.94   \n",
       "49280                 5.000   Standard          1251.67   \n",
       "9826                 10.000        Bad           3342.3   \n",
       "19178                10.000        Bad          2179.32   \n",
       "61272                 9.000   Standard          2552.06   \n",
       "52706                 8.000   Standard            78.27   \n",
       "83210                 0.000   Standard           540.04   \n",
       "10122                 4.000   Standard          1169.76   \n",
       "\n",
       "       credit_utilization_ratio  credit_history_age payment_of_min_amount  \\\n",
       "82877                    25.237                 288                   Yes   \n",
       "98237                    25.614                 106                   Yes   \n",
       "58591                    23.014                 321                    No   \n",
       "49280                    29.074                 278                   Yes   \n",
       "9826                     25.255                  43                   Yes   \n",
       "19178                    34.213                 103                   Yes   \n",
       "61272                    24.319                 146                    NM   \n",
       "52706                    35.742                 312                   Yes   \n",
       "83210                    40.575                 291                    NM   \n",
       "10122                    33.401                 186                   Yes   \n",
       "\n",
       "       total_emi_per_month  amount_invested_monthly  \\\n",
       "82877               39.730                  158.356   \n",
       "98237               93.691                   87.688   \n",
       "58591              105.797                   76.697   \n",
       "49280              119.467                  124.559   \n",
       "9826               447.834                  283.603   \n",
       "19178               18.660                   67.778   \n",
       "61272               41.740                   51.515   \n",
       "52706               46.116                   26.322   \n",
       "83210               55.700                  423.877   \n",
       "10122               20.651                   64.045   \n",
       "\n",
       "                      payment_behaviour  monthly_balance credit_score  \n",
       "82877   Low_spent_Medium_value_payments          287.825     Standard  \n",
       "98237    Low_spent_Small_value_payments          274.055         Poor  \n",
       "58591  High_spent_Medium_value_payments          394.407         Good  \n",
       "49280   High_spent_Small_value_payments          683.086     Standard  \n",
       "9826     Low_spent_Small_value_payments           87.867         Poor  \n",
       "19178   High_spent_Small_value_payments          284.201         Poor  \n",
       "61272    Low_spent_Small_value_payments          246.162         Poor  \n",
       "52706   High_spent_Large_value_payments          318.749     Standard  \n",
       "83210   Low_spent_Medium_value_payments          493.430     Standard  \n",
       "10122    Low_spent_Small_value_payments          325.084     Standard  "
      ]
     },
     "execution_count": 136,
     "metadata": {},
     "output_type": "execute_result"
    }
   ],
   "source": [
    "df.sample(10)"
   ]
  },
  {
   "cell_type": "code",
   "execution_count": 137,
   "id": "7a6f0b61",
   "metadata": {
    "execution": {
     "iopub.execute_input": "2024-05-02T13:15:38.069946Z",
     "iopub.status.busy": "2024-05-02T13:15:38.069174Z",
     "iopub.status.idle": "2024-05-02T13:15:38.870429Z",
     "shell.execute_reply": "2024-05-02T13:15:38.869354Z"
    },
    "papermill": {
     "duration": 0.873164,
     "end_time": "2024-05-02T13:15:38.872983",
     "exception": false,
     "start_time": "2024-05-02T13:15:37.999819",
     "status": "completed"
    },
    "tags": []
   },
   "outputs": [],
   "source": [
    "df = df.replace(\"_\",\"\",regex=True)"
   ]
  },
  {
   "cell_type": "code",
   "execution_count": 138,
   "id": "795ccdd1",
   "metadata": {
    "execution": {
     "iopub.execute_input": "2024-05-02T13:15:39.018495Z",
     "iopub.status.busy": "2024-05-02T13:15:39.017860Z",
     "iopub.status.idle": "2024-05-02T13:15:39.038681Z",
     "shell.execute_reply": "2024-05-02T13:15:39.037688Z"
    },
    "papermill": {
     "duration": 0.095492,
     "end_time": "2024-05-02T13:15:39.040935",
     "exception": false,
     "start_time": "2024-05-02T13:15:38.945443",
     "status": "completed"
    },
    "tags": []
   },
   "outputs": [
    {
     "data": {
      "text/html": [
       "<div>\n",
       "<style scoped>\n",
       "    .dataframe tbody tr th:only-of-type {\n",
       "        vertical-align: middle;\n",
       "    }\n",
       "\n",
       "    .dataframe tbody tr th {\n",
       "        vertical-align: top;\n",
       "    }\n",
       "\n",
       "    .dataframe thead th {\n",
       "        text-align: right;\n",
       "    }\n",
       "</style>\n",
       "<table border=\"1\" class=\"dataframe\">\n",
       "  <thead>\n",
       "    <tr style=\"text-align: right;\">\n",
       "      <th></th>\n",
       "      <th>month</th>\n",
       "      <th>age</th>\n",
       "      <th>occupation</th>\n",
       "      <th>annual_income</th>\n",
       "      <th>monthly_inhand_salary</th>\n",
       "      <th>num_bank_accounts</th>\n",
       "      <th>num_credit_card</th>\n",
       "      <th>interest_rate</th>\n",
       "      <th>num_of_loan</th>\n",
       "      <th>delay_from_due_date</th>\n",
       "      <th>num_of_delayed_payment</th>\n",
       "      <th>changed_credit_limit</th>\n",
       "      <th>num_credit_inquiries</th>\n",
       "      <th>credit_mix</th>\n",
       "      <th>outstanding_debt</th>\n",
       "      <th>credit_utilization_ratio</th>\n",
       "      <th>credit_history_age</th>\n",
       "      <th>payment_of_min_amount</th>\n",
       "      <th>total_emi_per_month</th>\n",
       "      <th>amount_invested_monthly</th>\n",
       "      <th>payment_behaviour</th>\n",
       "      <th>monthly_balance</th>\n",
       "      <th>credit_score</th>\n",
       "    </tr>\n",
       "  </thead>\n",
       "  <tbody>\n",
       "    <tr>\n",
       "      <th>67491</th>\n",
       "      <td>April</td>\n",
       "      <td>22.000</td>\n",
       "      <td>Teacher</td>\n",
       "      <td>104849.82</td>\n",
       "      <td>8744.485</td>\n",
       "      <td>4</td>\n",
       "      <td>6</td>\n",
       "      <td>18</td>\n",
       "      <td>12</td>\n",
       "      <td>29</td>\n",
       "      <td>12</td>\n",
       "      <td>18.280</td>\n",
       "      <td>1.000</td>\n",
       "      <td>Standard</td>\n",
       "      <td>1439.21</td>\n",
       "      <td>27.590</td>\n",
       "      <td>257</td>\n",
       "      <td>Yes</td>\n",
       "      <td>0.000</td>\n",
       "      <td>168.072</td>\n",
       "      <td>HighspentLargevaluepayments</td>\n",
       "      <td>946.376</td>\n",
       "      <td>Good</td>\n",
       "    </tr>\n",
       "  </tbody>\n",
       "</table>\n",
       "</div>"
      ],
      "text/plain": [
       "       month    age occupation annual_income  monthly_inhand_salary  \\\n",
       "67491  April 22.000    Teacher     104849.82               8744.485   \n",
       "\n",
       "       num_bank_accounts  num_credit_card  interest_rate  num_of_loan  \\\n",
       "67491                  4                6             18           12   \n",
       "\n",
       "       delay_from_due_date num_of_delayed_payment  changed_credit_limit  \\\n",
       "67491                   29                     12                18.280   \n",
       "\n",
       "       num_credit_inquiries credit_mix outstanding_debt  \\\n",
       "67491                 1.000   Standard          1439.21   \n",
       "\n",
       "       credit_utilization_ratio  credit_history_age payment_of_min_amount  \\\n",
       "67491                    27.590                 257                   Yes   \n",
       "\n",
       "       total_emi_per_month  amount_invested_monthly  \\\n",
       "67491                0.000                  168.072   \n",
       "\n",
       "                 payment_behaviour  monthly_balance credit_score  \n",
       "67491  HighspentLargevaluepayments          946.376         Good  "
      ]
     },
     "execution_count": 138,
     "metadata": {},
     "output_type": "execute_result"
    }
   ],
   "source": [
    "df.loc[[67491]]"
   ]
  },
  {
   "cell_type": "code",
   "execution_count": 139,
   "id": "60ec1c97",
   "metadata": {
    "execution": {
     "iopub.execute_input": "2024-05-02T13:15:39.194187Z",
     "iopub.status.busy": "2024-05-02T13:15:39.193099Z",
     "iopub.status.idle": "2024-05-02T13:15:39.199603Z",
     "shell.execute_reply": "2024-05-02T13:15:39.198682Z"
    },
    "papermill": {
     "duration": 0.086188,
     "end_time": "2024-05-02T13:15:39.201796",
     "exception": false,
     "start_time": "2024-05-02T13:15:39.115608",
     "status": "completed"
    },
    "tags": []
   },
   "outputs": [
    {
     "data": {
      "text/plain": [
       "(99935, 23)"
      ]
     },
     "execution_count": 139,
     "metadata": {},
     "output_type": "execute_result"
    }
   ],
   "source": [
    "df.shape"
   ]
  },
  {
   "cell_type": "code",
   "execution_count": 140,
   "id": "3e5d5d94",
   "metadata": {
    "execution": {
     "iopub.execute_input": "2024-05-02T13:15:39.348203Z",
     "iopub.status.busy": "2024-05-02T13:15:39.347450Z",
     "iopub.status.idle": "2024-05-02T13:15:39.375442Z",
     "shell.execute_reply": "2024-05-02T13:15:39.374581Z"
    },
    "papermill": {
     "duration": 0.102868,
     "end_time": "2024-05-02T13:15:39.377435",
     "exception": false,
     "start_time": "2024-05-02T13:15:39.274567",
     "status": "completed"
    },
    "tags": []
   },
   "outputs": [
    {
     "data": {
      "text/html": [
       "<div>\n",
       "<style scoped>\n",
       "    .dataframe tbody tr th:only-of-type {\n",
       "        vertical-align: middle;\n",
       "    }\n",
       "\n",
       "    .dataframe tbody tr th {\n",
       "        vertical-align: top;\n",
       "    }\n",
       "\n",
       "    .dataframe thead th {\n",
       "        text-align: right;\n",
       "    }\n",
       "</style>\n",
       "<table border=\"1\" class=\"dataframe\">\n",
       "  <thead>\n",
       "    <tr style=\"text-align: right;\">\n",
       "      <th></th>\n",
       "      <th>month</th>\n",
       "      <th>age</th>\n",
       "      <th>occupation</th>\n",
       "      <th>annual_income</th>\n",
       "      <th>monthly_inhand_salary</th>\n",
       "      <th>num_bank_accounts</th>\n",
       "      <th>num_credit_card</th>\n",
       "      <th>interest_rate</th>\n",
       "      <th>num_of_loan</th>\n",
       "      <th>delay_from_due_date</th>\n",
       "      <th>num_of_delayed_payment</th>\n",
       "      <th>changed_credit_limit</th>\n",
       "      <th>num_credit_inquiries</th>\n",
       "      <th>credit_mix</th>\n",
       "      <th>outstanding_debt</th>\n",
       "      <th>credit_utilization_ratio</th>\n",
       "      <th>credit_history_age</th>\n",
       "      <th>payment_of_min_amount</th>\n",
       "      <th>total_emi_per_month</th>\n",
       "      <th>amount_invested_monthly</th>\n",
       "      <th>payment_behaviour</th>\n",
       "      <th>monthly_balance</th>\n",
       "      <th>credit_score</th>\n",
       "    </tr>\n",
       "  </thead>\n",
       "  <tbody>\n",
       "    <tr>\n",
       "      <th>23420</th>\n",
       "      <td>May</td>\n",
       "      <td>41.000</td>\n",
       "      <td>Developer</td>\n",
       "      <td>60901.36</td>\n",
       "      <td>5351.113</td>\n",
       "      <td>1</td>\n",
       "      <td>1</td>\n",
       "      <td>7</td>\n",
       "      <td>3</td>\n",
       "      <td>5</td>\n",
       "      <td>1</td>\n",
       "      <td>17.690</td>\n",
       "      <td>4.000</td>\n",
       "      <td>Good</td>\n",
       "      <td>475.75</td>\n",
       "      <td>28.664</td>\n",
       "      <td>243</td>\n",
       "      <td>No</td>\n",
       "      <td>4655.000</td>\n",
       "      <td>721.830</td>\n",
       "      <td>LowspentSmallvaluepayments</td>\n",
       "      <td>8.945</td>\n",
       "      <td>Good</td>\n",
       "    </tr>\n",
       "    <tr>\n",
       "      <th>55337</th>\n",
       "      <td>February</td>\n",
       "      <td>27.000</td>\n",
       "      <td>Developer</td>\n",
       "      <td>25290.87</td>\n",
       "      <td>1868.572</td>\n",
       "      <td>3</td>\n",
       "      <td>5</td>\n",
       "      <td>17</td>\n",
       "      <td>3</td>\n",
       "      <td>8</td>\n",
       "      <td>12</td>\n",
       "      <td>17.100</td>\n",
       "      <td>4.000</td>\n",
       "      <td>Standard</td>\n",
       "      <td>340.65</td>\n",
       "      <td>32.865</td>\n",
       "      <td>256</td>\n",
       "      <td>Yes</td>\n",
       "      <td>59.867</td>\n",
       "      <td>43.746</td>\n",
       "      <td>HighspentSmallvaluepayments</td>\n",
       "      <td>343.244</td>\n",
       "      <td>Standard</td>\n",
       "    </tr>\n",
       "    <tr>\n",
       "      <th>81034</th>\n",
       "      <td>March</td>\n",
       "      <td>19.000</td>\n",
       "      <td>Developer</td>\n",
       "      <td>14258.85</td>\n",
       "      <td>1135.237</td>\n",
       "      <td>6</td>\n",
       "      <td>212</td>\n",
       "      <td>28</td>\n",
       "      <td>7</td>\n",
       "      <td>30</td>\n",
       "      <td>25</td>\n",
       "      <td>1.010</td>\n",
       "      <td>9.000</td>\n",
       "      <td>Bad</td>\n",
       "      <td>4295.5</td>\n",
       "      <td>39.185</td>\n",
       "      <td>25</td>\n",
       "      <td>Yes</td>\n",
       "      <td>54.794</td>\n",
       "      <td>134.126</td>\n",
       "      <td>LowspentSmallvaluepayments</td>\n",
       "      <td>214.604</td>\n",
       "      <td>Poor</td>\n",
       "    </tr>\n",
       "    <tr>\n",
       "      <th>64727</th>\n",
       "      <td>August</td>\n",
       "      <td>31.000</td>\n",
       "      <td>Musician</td>\n",
       "      <td>57864.6</td>\n",
       "      <td>4559.050</td>\n",
       "      <td>7</td>\n",
       "      <td>7</td>\n",
       "      <td>13</td>\n",
       "      <td>3</td>\n",
       "      <td>10</td>\n",
       "      <td>12</td>\n",
       "      <td>17.160</td>\n",
       "      <td>4.000</td>\n",
       "      <td>Standard</td>\n",
       "      <td>539.17</td>\n",
       "      <td>28.271</td>\n",
       "      <td>377</td>\n",
       "      <td>Yes</td>\n",
       "      <td>75.022</td>\n",
       "      <td>331.708</td>\n",
       "      <td>LowspentSmallvaluepayments</td>\n",
       "      <td>339.175</td>\n",
       "      <td>Standard</td>\n",
       "    </tr>\n",
       "    <tr>\n",
       "      <th>78583</th>\n",
       "      <td>August</td>\n",
       "      <td>17.000</td>\n",
       "      <td>Doctor</td>\n",
       "      <td>40944.82</td>\n",
       "      <td>3588.068</td>\n",
       "      <td>1426</td>\n",
       "      <td>7</td>\n",
       "      <td>17</td>\n",
       "      <td>3</td>\n",
       "      <td>17</td>\n",
       "      <td>16</td>\n",
       "      <td>13.400</td>\n",
       "      <td>7.000</td>\n",
       "      <td>Standard</td>\n",
       "      <td>948.81</td>\n",
       "      <td>39.434</td>\n",
       "      <td>306</td>\n",
       "      <td>Yes</td>\n",
       "      <td>93.984</td>\n",
       "      <td>10000.000</td>\n",
       "      <td>HighspentLargevaluepayments</td>\n",
       "      <td>453.052</td>\n",
       "      <td>Standard</td>\n",
       "    </tr>\n",
       "    <tr>\n",
       "      <th>56706</th>\n",
       "      <td>March</td>\n",
       "      <td>21.000</td>\n",
       "      <td>Manager</td>\n",
       "      <td>18145.22</td>\n",
       "      <td>1459.102</td>\n",
       "      <td>4</td>\n",
       "      <td>3</td>\n",
       "      <td>10</td>\n",
       "      <td>1</td>\n",
       "      <td>3</td>\n",
       "      <td>9</td>\n",
       "      <td>4.360</td>\n",
       "      <td>2.000</td>\n",
       "      <td>Good</td>\n",
       "      <td>1154.49</td>\n",
       "      <td>38.081</td>\n",
       "      <td>192</td>\n",
       "      <td>No</td>\n",
       "      <td>12.844</td>\n",
       "      <td>64.629</td>\n",
       "      <td>LowspentSmallvaluepayments</td>\n",
       "      <td>358.437</td>\n",
       "      <td>Good</td>\n",
       "    </tr>\n",
       "    <tr>\n",
       "      <th>3233</th>\n",
       "      <td>February</td>\n",
       "      <td>28.000</td>\n",
       "      <td>Mechanic</td>\n",
       "      <td>141753.72</td>\n",
       "      <td>11587.810</td>\n",
       "      <td>5</td>\n",
       "      <td>5</td>\n",
       "      <td>13</td>\n",
       "      <td>4</td>\n",
       "      <td>10</td>\n",
       "      <td>12</td>\n",
       "      <td>18.650</td>\n",
       "      <td>6.000</td>\n",
       "      <td>Standard</td>\n",
       "      <td>477.41</td>\n",
       "      <td>43.610</td>\n",
       "      <td>208</td>\n",
       "      <td>Yes</td>\n",
       "      <td>385.601</td>\n",
       "      <td>193.070</td>\n",
       "      <td>HighspentMediumvaluepayments</td>\n",
       "      <td>816.297</td>\n",
       "      <td>Standard</td>\n",
       "    </tr>\n",
       "    <tr>\n",
       "      <th>19439</th>\n",
       "      <td>August</td>\n",
       "      <td>19.000</td>\n",
       "      <td>Scientist</td>\n",
       "      <td>39891.42</td>\n",
       "      <td>3246.285</td>\n",
       "      <td>4</td>\n",
       "      <td>4</td>\n",
       "      <td>22</td>\n",
       "      <td>6</td>\n",
       "      <td>17</td>\n",
       "      <td>16</td>\n",
       "      <td>7.690</td>\n",
       "      <td>11.000</td>\n",
       "      <td>Standard</td>\n",
       "      <td>2411.32</td>\n",
       "      <td>23.054</td>\n",
       "      <td>82</td>\n",
       "      <td>Yes</td>\n",
       "      <td>195.220</td>\n",
       "      <td>58.055</td>\n",
       "      <td>HighspentMediumvaluepayments</td>\n",
       "      <td>321.353</td>\n",
       "      <td>Poor</td>\n",
       "    </tr>\n",
       "    <tr>\n",
       "      <th>64634</th>\n",
       "      <td>March</td>\n",
       "      <td>26.000</td>\n",
       "      <td>Teacher</td>\n",
       "      <td>9622.625</td>\n",
       "      <td>905.885</td>\n",
       "      <td>5</td>\n",
       "      <td>5</td>\n",
       "      <td>16</td>\n",
       "      <td>5</td>\n",
       "      <td>8</td>\n",
       "      <td>10</td>\n",
       "      <td>18.070</td>\n",
       "      <td>5.000</td>\n",
       "      <td>Standard</td>\n",
       "      <td>1836.2</td>\n",
       "      <td>33.884</td>\n",
       "      <td>137</td>\n",
       "      <td>Yes</td>\n",
       "      <td>29.800</td>\n",
       "      <td>46.454</td>\n",
       "      <td>LowspentSmallvaluepayments</td>\n",
       "      <td>304.335</td>\n",
       "      <td>Poor</td>\n",
       "    </tr>\n",
       "    <tr>\n",
       "      <th>6595</th>\n",
       "      <td>April</td>\n",
       "      <td>19.000</td>\n",
       "      <td>Engineer</td>\n",
       "      <td>69941.88</td>\n",
       "      <td>5674.490</td>\n",
       "      <td>5</td>\n",
       "      <td>5</td>\n",
       "      <td>25</td>\n",
       "      <td>7</td>\n",
       "      <td>24</td>\n",
       "      <td>8</td>\n",
       "      <td>9.840</td>\n",
       "      <td>9.000</td>\n",
       "      <td>Standard</td>\n",
       "      <td>1948.88</td>\n",
       "      <td>32.894</td>\n",
       "      <td>184</td>\n",
       "      <td>NM</td>\n",
       "      <td>403.388</td>\n",
       "      <td>239.347</td>\n",
       "      <td>HighspentMediumvaluepayments</td>\n",
       "      <td>204.714</td>\n",
       "      <td>Poor</td>\n",
       "    </tr>\n",
       "  </tbody>\n",
       "</table>\n",
       "</div>"
      ],
      "text/plain": [
       "          month    age occupation annual_income  monthly_inhand_salary  \\\n",
       "23420       May 41.000  Developer      60901.36               5351.113   \n",
       "55337  February 27.000  Developer      25290.87               1868.572   \n",
       "81034     March 19.000  Developer      14258.85               1135.237   \n",
       "64727    August 31.000   Musician       57864.6               4559.050   \n",
       "78583    August 17.000     Doctor      40944.82               3588.068   \n",
       "56706     March 21.000    Manager      18145.22               1459.102   \n",
       "3233   February 28.000   Mechanic     141753.72              11587.810   \n",
       "19439    August 19.000  Scientist      39891.42               3246.285   \n",
       "64634     March 26.000    Teacher      9622.625                905.885   \n",
       "6595      April 19.000   Engineer      69941.88               5674.490   \n",
       "\n",
       "       num_bank_accounts  num_credit_card  interest_rate  num_of_loan  \\\n",
       "23420                  1                1              7            3   \n",
       "55337                  3                5             17            3   \n",
       "81034                  6              212             28            7   \n",
       "64727                  7                7             13            3   \n",
       "78583               1426                7             17            3   \n",
       "56706                  4                3             10            1   \n",
       "3233                   5                5             13            4   \n",
       "19439                  4                4             22            6   \n",
       "64634                  5                5             16            5   \n",
       "6595                   5                5             25            7   \n",
       "\n",
       "       delay_from_due_date num_of_delayed_payment  changed_credit_limit  \\\n",
       "23420                    5                      1                17.690   \n",
       "55337                    8                     12                17.100   \n",
       "81034                   30                     25                 1.010   \n",
       "64727                   10                     12                17.160   \n",
       "78583                   17                     16                13.400   \n",
       "56706                    3                      9                 4.360   \n",
       "3233                    10                     12                18.650   \n",
       "19439                   17                     16                 7.690   \n",
       "64634                    8                     10                18.070   \n",
       "6595                    24                      8                 9.840   \n",
       "\n",
       "       num_credit_inquiries credit_mix outstanding_debt  \\\n",
       "23420                 4.000       Good           475.75   \n",
       "55337                 4.000   Standard           340.65   \n",
       "81034                 9.000        Bad           4295.5   \n",
       "64727                 4.000   Standard           539.17   \n",
       "78583                 7.000   Standard           948.81   \n",
       "56706                 2.000       Good          1154.49   \n",
       "3233                  6.000   Standard           477.41   \n",
       "19439                11.000   Standard          2411.32   \n",
       "64634                 5.000   Standard           1836.2   \n",
       "6595                  9.000   Standard          1948.88   \n",
       "\n",
       "       credit_utilization_ratio  credit_history_age payment_of_min_amount  \\\n",
       "23420                    28.664                 243                    No   \n",
       "55337                    32.865                 256                   Yes   \n",
       "81034                    39.185                  25                   Yes   \n",
       "64727                    28.271                 377                   Yes   \n",
       "78583                    39.434                 306                   Yes   \n",
       "56706                    38.081                 192                    No   \n",
       "3233                     43.610                 208                   Yes   \n",
       "19439                    23.054                  82                   Yes   \n",
       "64634                    33.884                 137                   Yes   \n",
       "6595                     32.894                 184                    NM   \n",
       "\n",
       "       total_emi_per_month  amount_invested_monthly  \\\n",
       "23420             4655.000                  721.830   \n",
       "55337               59.867                   43.746   \n",
       "81034               54.794                  134.126   \n",
       "64727               75.022                  331.708   \n",
       "78583               93.984                10000.000   \n",
       "56706               12.844                   64.629   \n",
       "3233               385.601                  193.070   \n",
       "19439              195.220                   58.055   \n",
       "64634               29.800                   46.454   \n",
       "6595               403.388                  239.347   \n",
       "\n",
       "                  payment_behaviour  monthly_balance credit_score  \n",
       "23420    LowspentSmallvaluepayments            8.945         Good  \n",
       "55337   HighspentSmallvaluepayments          343.244     Standard  \n",
       "81034    LowspentSmallvaluepayments          214.604         Poor  \n",
       "64727    LowspentSmallvaluepayments          339.175     Standard  \n",
       "78583   HighspentLargevaluepayments          453.052     Standard  \n",
       "56706    LowspentSmallvaluepayments          358.437         Good  \n",
       "3233   HighspentMediumvaluepayments          816.297     Standard  \n",
       "19439  HighspentMediumvaluepayments          321.353         Poor  \n",
       "64634    LowspentSmallvaluepayments          304.335         Poor  \n",
       "6595   HighspentMediumvaluepayments          204.714         Poor  "
      ]
     },
     "execution_count": 140,
     "metadata": {},
     "output_type": "execute_result"
    }
   ],
   "source": [
    "df.sample(10)"
   ]
  },
  {
   "cell_type": "code",
   "execution_count": null,
   "id": "613d5ba5",
   "metadata": {
    "papermill": {
     "duration": 0.070332,
     "end_time": "2024-05-02T13:15:39.517139",
     "exception": false,
     "start_time": "2024-05-02T13:15:39.446807",
     "status": "completed"
    },
    "tags": []
   },
   "outputs": [],
   "source": []
  },
  {
   "cell_type": "code",
   "execution_count": null,
   "id": "93d70898",
   "metadata": {
    "papermill": {
     "duration": 0.073431,
     "end_time": "2024-05-02T13:15:39.664357",
     "exception": false,
     "start_time": "2024-05-02T13:15:39.590926",
     "status": "completed"
    },
    "tags": []
   },
   "outputs": [],
   "source": []
  },
  {
   "cell_type": "code",
   "execution_count": null,
   "id": "845a995d",
   "metadata": {
    "papermill": {
     "duration": 0.07331,
     "end_time": "2024-05-02T13:15:39.809677",
     "exception": false,
     "start_time": "2024-05-02T13:15:39.736367",
     "status": "completed"
    },
    "tags": []
   },
   "outputs": [],
   "source": []
  },
  {
   "cell_type": "code",
   "execution_count": null,
   "id": "1f9c0c62",
   "metadata": {
    "papermill": {
     "duration": 0.073316,
     "end_time": "2024-05-02T13:15:39.952640",
     "exception": false,
     "start_time": "2024-05-02T13:15:39.879324",
     "status": "completed"
    },
    "tags": []
   },
   "outputs": [],
   "source": []
  },
  {
   "cell_type": "code",
   "execution_count": null,
   "id": "dba0930a",
   "metadata": {
    "papermill": {
     "duration": 0.072136,
     "end_time": "2024-05-02T13:15:40.098827",
     "exception": false,
     "start_time": "2024-05-02T13:15:40.026691",
     "status": "completed"
    },
    "tags": []
   },
   "outputs": [],
   "source": []
  },
  {
   "cell_type": "code",
   "execution_count": null,
   "id": "92ff1b17",
   "metadata": {
    "papermill": {
     "duration": 0.069724,
     "end_time": "2024-05-02T13:15:40.241085",
     "exception": false,
     "start_time": "2024-05-02T13:15:40.171361",
     "status": "completed"
    },
    "tags": []
   },
   "outputs": [],
   "source": []
  },
  {
   "cell_type": "code",
   "execution_count": null,
   "id": "fc0b816d",
   "metadata": {
    "papermill": {
     "duration": 0.070739,
     "end_time": "2024-05-02T13:15:40.382708",
     "exception": false,
     "start_time": "2024-05-02T13:15:40.311969",
     "status": "completed"
    },
    "tags": []
   },
   "outputs": [],
   "source": []
  },
  {
   "cell_type": "code",
   "execution_count": null,
   "id": "7c19ba96",
   "metadata": {
    "papermill": {
     "duration": 0.070465,
     "end_time": "2024-05-02T13:15:40.524010",
     "exception": false,
     "start_time": "2024-05-02T13:15:40.453545",
     "status": "completed"
    },
    "tags": []
   },
   "outputs": [],
   "source": []
  },
  {
   "cell_type": "code",
   "execution_count": null,
   "id": "c6a7386b",
   "metadata": {
    "papermill": {
     "duration": 0.072766,
     "end_time": "2024-05-02T13:15:40.670536",
     "exception": false,
     "start_time": "2024-05-02T13:15:40.597770",
     "status": "completed"
    },
    "tags": []
   },
   "outputs": [],
   "source": []
  },
  {
   "cell_type": "code",
   "execution_count": null,
   "id": "e2985e5a",
   "metadata": {
    "papermill": {
     "duration": 0.071918,
     "end_time": "2024-05-02T13:15:40.815072",
     "exception": false,
     "start_time": "2024-05-02T13:15:40.743154",
     "status": "completed"
    },
    "tags": []
   },
   "outputs": [],
   "source": []
  },
  {
   "cell_type": "code",
   "execution_count": null,
   "id": "3db21d3c",
   "metadata": {
    "papermill": {
     "duration": 0.071904,
     "end_time": "2024-05-02T13:15:40.961015",
     "exception": false,
     "start_time": "2024-05-02T13:15:40.889111",
     "status": "completed"
    },
    "tags": []
   },
   "outputs": [],
   "source": []
  }
 ],
 "metadata": {
  "hide_input": false,
  "kaggle": {
   "accelerator": "nvidiaTeslaT4",
   "dataSources": [
    {
     "datasetId": 2289007,
     "sourceId": 3846912,
     "sourceType": "datasetVersion"
    },
    {
     "datasetId": 4918976,
     "sourceId": 8282453,
     "sourceType": "datasetVersion"
    }
   ],
   "dockerImageVersionId": 30698,
   "isGpuEnabled": true,
   "isInternetEnabled": true,
   "language": "python",
   "sourceType": "notebook"
  },
  "kernelspec": {
   "display_name": "Python 3",
   "language": "python",
   "name": "python3"
  },
  "language_info": {
   "codemirror_mode": {
    "name": "ipython",
    "version": 3
   },
   "file_extension": ".py",
   "mimetype": "text/x-python",
   "name": "python",
   "nbconvert_exporter": "python",
   "pygments_lexer": "ipython3",
   "version": "3.10.13"
  },
  "papermill": {
   "default_parameters": {},
   "duration": 1316.500734,
   "end_time": "2024-05-02T13:15:41.552590",
   "environment_variables": {},
   "exception": null,
   "input_path": "__notebook__.ipynb",
   "output_path": "__notebook__.ipynb",
   "parameters": {},
   "start_time": "2024-05-02T12:53:45.051856",
   "version": "2.5.0"
  },
  "toc": {
   "base_numbering": 1,
   "nav_menu": {},
   "number_sections": true,
   "sideBar": true,
   "skip_h1_title": false,
   "title_cell": "Table of Contents",
   "title_sidebar": "Contents",
   "toc_cell": false,
   "toc_position": {},
   "toc_section_display": true,
   "toc_window_display": false
  }
 },
 "nbformat": 4,
 "nbformat_minor": 5
}
